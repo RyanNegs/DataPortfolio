{
 "cells": [
  {
   "cell_type": "markdown",
   "id": "8b3da2d1",
   "metadata": {},
   "source": [
    "# Deidentified Chat Transcript EDA"
   ]
  },
  {
   "cell_type": "code",
   "execution_count": 2,
   "id": "651cbc91",
   "metadata": {},
   "outputs": [],
   "source": [
    "import numpy as np\n",
    "import pandas as pd\n",
    "import matplotlib.pyplot as plt\n",
    "import seaborn as sns"
   ]
  },
  {
   "cell_type": "code",
   "execution_count": 3,
   "id": "78e3a5c4",
   "metadata": {},
   "outputs": [],
   "source": [
    "chat_data = pd.read_csv('deidentified_transcript.csv')"
   ]
  },
  {
   "cell_type": "code",
   "execution_count": 4,
   "id": "e1833d11",
   "metadata": {},
   "outputs": [
    {
     "name": "stdout",
     "output_type": "stream",
     "text": [
      "<class 'pandas.core.frame.DataFrame'>\n",
      "RangeIndex: 10546 entries, 0 to 10545\n",
      "Data columns (total 23 columns):\n",
      " #   Column                         Non-Null Count  Dtype  \n",
      "---  ------                         --------------  -----  \n",
      " 0   Chat ID                        10546 non-null  int64  \n",
      " 1   Browser                        10546 non-null  object \n",
      " 2   Operating System               10541 non-null  object \n",
      " 3   User Agent                     10546 non-null  object \n",
      " 4   Referrer                       10546 non-null  object \n",
      " 5   Widget                         10544 non-null  object \n",
      " 6   Department                     10382 non-null  object \n",
      " 7   Timestamp                      10546 non-null  object \n",
      " 8   Wait Time (seconds)            10546 non-null  int64  \n",
      " 9   Duration (seconds)             10546 non-null  int64  \n",
      " 10  Screensharing                  32 non-null     object \n",
      " 11  Rating (0-4)                   10546 non-null  int64  \n",
      " 12  Comment                        562 non-null    object \n",
      " 13  Transfer History               245 non-null    object \n",
      " 14  Message Count                  10546 non-null  int64  \n",
      " 15  Internal Note                  49 non-null     object \n",
      " 16  Tags                           2 non-null      object \n",
      " 17  Ticket ID                      2111 non-null   float64\n",
      " 18  Unnamed: 27                    116 non-null    object \n",
      " 19  Deidentified_Answerer          10546 non-null  object \n",
      " 20  Deidentified_Email             10546 non-null  object \n",
      " 21  Deidentified_Transcript        10546 non-null  object \n",
      " 22  Deidentified_Initial_Question  9577 non-null   object \n",
      "dtypes: float64(1), int64(5), object(17)\n",
      "memory usage: 1.9+ MB\n"
     ]
    }
   ],
   "source": [
    "chat_data.info()"
   ]
  },
  {
   "cell_type": "code",
   "execution_count": 5,
   "id": "9911b9c3",
   "metadata": {},
   "outputs": [
    {
     "data": {
      "text/plain": [
       "Chat ID                              0\n",
       "Browser                              0\n",
       "Operating System                     5\n",
       "User Agent                           0\n",
       "Referrer                             0\n",
       "Widget                               2\n",
       "Department                         164\n",
       "Timestamp                            0\n",
       "Wait Time (seconds)                  0\n",
       "Duration (seconds)                   0\n",
       "Screensharing                    10514\n",
       "Rating (0-4)                         0\n",
       "Comment                           9984\n",
       "Transfer History                 10301\n",
       "Message Count                        0\n",
       "Internal Note                    10497\n",
       "Tags                             10544\n",
       "Ticket ID                         8435\n",
       "Unnamed: 27                      10430\n",
       "Deidentified_Answerer                0\n",
       "Deidentified_Email                   0\n",
       "Deidentified_Transcript              0\n",
       "Deidentified_Initial_Question      969\n",
       "dtype: int64"
      ]
     },
     "execution_count": 5,
     "metadata": {},
     "output_type": "execute_result"
    }
   ],
   "source": [
    "chat_data.isna().sum()"
   ]
  },
  {
   "cell_type": "code",
   "execution_count": 6,
   "id": "7724fc4f",
   "metadata": {},
   "outputs": [
    {
     "data": {
      "text/plain": [
       "Chat ID                          10546\n",
       "Browser                            723\n",
       "Operating System                     9\n",
       "User Agent                        2252\n",
       "Referrer                          2631\n",
       "Widget                              14\n",
       "Department                           3\n",
       "Timestamp                        10539\n",
       "Wait Time (seconds)                193\n",
       "Duration (seconds)                1929\n",
       "Screensharing                        1\n",
       "Rating (0-4)                         5\n",
       "Comment                            527\n",
       "Transfer History                    62\n",
       "Message Count                      105\n",
       "Internal Note                       49\n",
       "Tags                                 2\n",
       "Ticket ID                          669\n",
       "Unnamed: 27                        116\n",
       "Deidentified_Answerer               91\n",
       "Deidentified_Email                5696\n",
       "Deidentified_Transcript          10546\n",
       "Deidentified_Initial_Question     9485\n",
       "dtype: int64"
      ]
     },
     "execution_count": 6,
     "metadata": {},
     "output_type": "execute_result"
    }
   ],
   "source": [
    "chat_data.nunique()"
   ]
  },
  {
   "cell_type": "markdown",
   "id": "9e41d36f-766a-4871-9484-71f436737394",
   "metadata": {},
   "source": [
    "## Transcript Deep Dive\n",
    "\n",
    "Lets look more in depth at the specific transcripts that received 1 out of 4."
   ]
  },
  {
   "cell_type": "code",
   "execution_count": 8,
   "id": "186171db-1f62-4053-88fa-76a7da8524a0",
   "metadata": {},
   "outputs": [],
   "source": [
    "one_score = chat_data.loc[chat_data['Rating (0-4)'] == 1].copy()"
   ]
  },
  {
   "cell_type": "code",
   "execution_count": 9,
   "id": "ba2a94fc-99f5-441f-b0b7-c8939f0922e6",
   "metadata": {},
   "outputs": [
    {
     "data": {
      "text/html": [
       "<div>\n",
       "<style scoped>\n",
       "    .dataframe tbody tr th:only-of-type {\n",
       "        vertical-align: middle;\n",
       "    }\n",
       "\n",
       "    .dataframe tbody tr th {\n",
       "        vertical-align: top;\n",
       "    }\n",
       "\n",
       "    .dataframe thead th {\n",
       "        text-align: right;\n",
       "    }\n",
       "</style>\n",
       "<table border=\"1\" class=\"dataframe\">\n",
       "  <thead>\n",
       "    <tr style=\"text-align: right;\">\n",
       "      <th></th>\n",
       "      <th>Chat ID</th>\n",
       "      <th>Browser</th>\n",
       "      <th>Operating System</th>\n",
       "      <th>User Agent</th>\n",
       "      <th>Referrer</th>\n",
       "      <th>Widget</th>\n",
       "      <th>Department</th>\n",
       "      <th>Timestamp</th>\n",
       "      <th>Wait Time (seconds)</th>\n",
       "      <th>Duration (seconds)</th>\n",
       "      <th>...</th>\n",
       "      <th>Transfer History</th>\n",
       "      <th>Message Count</th>\n",
       "      <th>Internal Note</th>\n",
       "      <th>Tags</th>\n",
       "      <th>Ticket ID</th>\n",
       "      <th>Unnamed: 27</th>\n",
       "      <th>Deidentified_Answerer</th>\n",
       "      <th>Deidentified_Email</th>\n",
       "      <th>Deidentified_Transcript</th>\n",
       "      <th>Deidentified_Initial_Question</th>\n",
       "    </tr>\n",
       "  </thead>\n",
       "  <tbody>\n",
       "    <tr>\n",
       "      <th>652</th>\n",
       "      <td>1926900</td>\n",
       "      <td>Edge (16.16299)</td>\n",
       "      <td>Windows</td>\n",
       "      <td>Mozilla/5.0 (Windows NT 10.0; Win64; x64) Appl...</td>\n",
       "      <td>https://www.library.pitt.edu/</td>\n",
       "      <td>Ask Us</td>\n",
       "      <td>Ask Reference</td>\n",
       "      <td>2018-04-02 13:18:10</td>\n",
       "      <td>9</td>\n",
       "      <td>131</td>\n",
       "      <td>...</td>\n",
       "      <td>NaN</td>\n",
       "      <td>7</td>\n",
       "      <td>NaN</td>\n",
       "      <td>NaN</td>\n",
       "      <td>NaN</td>\n",
       "      <td>NaN</td>\n",
       "      <td>Librarian 21</td>\n",
       "      <td>User28b2f6c696@pitt.edu</td>\n",
       "      <td>13:18:43 - Librarian 21 : [nameredacted] [name...</td>\n",
       "      <td>I can not access the page to reserve a room in...</td>\n",
       "    </tr>\n",
       "    <tr>\n",
       "      <th>713</th>\n",
       "      <td>1953138</td>\n",
       "      <td>Chrome (55.0.2883.87)</td>\n",
       "      <td>Windows</td>\n",
       "      <td>Mozilla/5.0 (Windows NT 6.1; Win64; x64) Apple...</td>\n",
       "      <td>http://pitt.libguides.com/citationhelp</td>\n",
       "      <td>Ask Us</td>\n",
       "      <td>Ask Reference</td>\n",
       "      <td>2018-04-12 17:34:41</td>\n",
       "      <td>4</td>\n",
       "      <td>191</td>\n",
       "      <td>...</td>\n",
       "      <td>NaN</td>\n",
       "      <td>18</td>\n",
       "      <td>NaN</td>\n",
       "      <td>NaN</td>\n",
       "      <td>NaN</td>\n",
       "      <td>NaN</td>\n",
       "      <td>Librarian 10</td>\n",
       "      <td>No Email Provided</td>\n",
       "      <td>17:35:18 - Librarian 10 : Hi, this is up to yo...</td>\n",
       "      <td>what style to use for com sci</td>\n",
       "    </tr>\n",
       "    <tr>\n",
       "      <th>2390</th>\n",
       "      <td>2569110</td>\n",
       "      <td>Chrome (72.0.3626.119)</td>\n",
       "      <td>Macintosh</td>\n",
       "      <td>Mozilla/5.0 (Macintosh; Intel Mac OS X 10_13_6...</td>\n",
       "      <td>https://pitt.summon.serialssolutions.com/searc...</td>\n",
       "      <td>Remove? Ask Us - Summon</td>\n",
       "      <td>Ask Reference</td>\n",
       "      <td>2019-03-05 18:07:45</td>\n",
       "      <td>5</td>\n",
       "      <td>361</td>\n",
       "      <td>...</td>\n",
       "      <td>NaN</td>\n",
       "      <td>9</td>\n",
       "      <td>NaN</td>\n",
       "      <td>NaN</td>\n",
       "      <td>NaN</td>\n",
       "      <td>NaN</td>\n",
       "      <td>Librarian 21</td>\n",
       "      <td>Usera2b03b1a5d@pitt.edu</td>\n",
       "      <td>18:08:07 - Librarian 21 : [nameredacted] [name...</td>\n",
       "      <td>Hello!\\n\\nI am starting a class on Thursday, a...</td>\n",
       "    </tr>\n",
       "    <tr>\n",
       "      <th>2431</th>\n",
       "      <td>2593476</td>\n",
       "      <td>Chrome (72.0.3626.121)</td>\n",
       "      <td>Windows</td>\n",
       "      <td>Mozilla/5.0 (Windows NT 10.0; Win64; x64) Appl...</td>\n",
       "      <td>https://www.library.pitt.edu/askus</td>\n",
       "      <td>Ask Us (Ask Us Page)</td>\n",
       "      <td>Ask Reference</td>\n",
       "      <td>2019-03-19 10:21:53</td>\n",
       "      <td>14</td>\n",
       "      <td>2955</td>\n",
       "      <td>...</td>\n",
       "      <td>NaN</td>\n",
       "      <td>89</td>\n",
       "      <td>NaN</td>\n",
       "      <td>NaN</td>\n",
       "      <td>NaN</td>\n",
       "      <td>NaN</td>\n",
       "      <td>Librarian 8</td>\n",
       "      <td>User6ec5e3a48c@upmc.edu</td>\n",
       "      <td>10:22:11 - Librarian 8 : [nameredacted] [namer...</td>\n",
       "      <td>Hi, I have a question about Endnote.</td>\n",
       "    </tr>\n",
       "    <tr>\n",
       "      <th>2436</th>\n",
       "      <td>2596182</td>\n",
       "      <td>Chrome (72.0.3626.121)</td>\n",
       "      <td>Windows</td>\n",
       "      <td>Mozilla/5.0 (Windows NT 10.0; Win64; x64) Appl...</td>\n",
       "      <td>https://library.pitt.edu/</td>\n",
       "      <td>Ask Us</td>\n",
       "      <td>Ask Reference</td>\n",
       "      <td>2019-03-20 10:44:19</td>\n",
       "      <td>15</td>\n",
       "      <td>357</td>\n",
       "      <td>...</td>\n",
       "      <td>NaN</td>\n",
       "      <td>5</td>\n",
       "      <td>NaN</td>\n",
       "      <td>NaN</td>\n",
       "      <td>NaN</td>\n",
       "      <td>NaN</td>\n",
       "      <td>Librarian 10</td>\n",
       "      <td>User705c46914f@pitt.edu</td>\n",
       "      <td>10:45:41 - Librarian 10 : [nameredacted] [name...</td>\n",
       "      <td>Are there movies available at the library abou...</td>\n",
       "    </tr>\n",
       "    <tr>\n",
       "      <th>2789</th>\n",
       "      <td>2742888</td>\n",
       "      <td>Safari (11.1.2)</td>\n",
       "      <td>Macintosh</td>\n",
       "      <td>Mozilla/5.0 (Macintosh; Intel Mac OS X 10_11_6...</td>\n",
       "      <td>https://www.library.pitt.edu/</td>\n",
       "      <td>Ask Us</td>\n",
       "      <td>Ask Reference</td>\n",
       "      <td>2019-06-19 11:53:39</td>\n",
       "      <td>8</td>\n",
       "      <td>1692</td>\n",
       "      <td>...</td>\n",
       "      <td>NaN</td>\n",
       "      <td>9</td>\n",
       "      <td>NaN</td>\n",
       "      <td>NaN</td>\n",
       "      <td>NaN</td>\n",
       "      <td>NaN</td>\n",
       "      <td>Librarian 10</td>\n",
       "      <td>User3472c693d5@pitt.edu</td>\n",
       "      <td>11:53:59 - Librarian 10 : [nameredacted] [name...</td>\n",
       "      <td>problems accessing electronic journals!  from ...</td>\n",
       "    </tr>\n",
       "    <tr>\n",
       "      <th>3210</th>\n",
       "      <td>2900906</td>\n",
       "      <td>Chrome (77.0.3865.73)</td>\n",
       "      <td>Android</td>\n",
       "      <td>Mozilla/5.0 (Linux; Android 6.0.1; SM-A800I) A...</td>\n",
       "      <td>https://pitt.libguides.com/citationhelp</td>\n",
       "      <td>Ask Us</td>\n",
       "      <td>Ask Reference</td>\n",
       "      <td>2019-09-23 13:33:48</td>\n",
       "      <td>9</td>\n",
       "      <td>92</td>\n",
       "      <td>...</td>\n",
       "      <td>NaN</td>\n",
       "      <td>5</td>\n",
       "      <td>NaN</td>\n",
       "      <td>NaN</td>\n",
       "      <td>NaN</td>\n",
       "      <td>NaN</td>\n",
       "      <td>Librarian 39</td>\n",
       "      <td>Userc4e4a0be99@gmail.com</td>\n",
       "      <td>13:34:27 - Librarian 39 : Hello just one momen...</td>\n",
       "      <td>What is the APA and MLA style in technical com...</td>\n",
       "    </tr>\n",
       "    <tr>\n",
       "      <th>3684</th>\n",
       "      <td>3221955</td>\n",
       "      <td>Chrome (79.0.3945.123)</td>\n",
       "      <td>Chrome OS</td>\n",
       "      <td>Mozilla/5.0 (X11; CrOS x86_64 12607.82.0) Appl...</td>\n",
       "      <td>https://pitt.libguides.com/citationhelp</td>\n",
       "      <td>Ask Us</td>\n",
       "      <td>Ask Reference</td>\n",
       "      <td>2020-02-21 15:12:20</td>\n",
       "      <td>11</td>\n",
       "      <td>454</td>\n",
       "      <td>...</td>\n",
       "      <td>NaN</td>\n",
       "      <td>24</td>\n",
       "      <td>NaN</td>\n",
       "      <td>NaN</td>\n",
       "      <td>NaN</td>\n",
       "      <td>NaN</td>\n",
       "      <td>Librarian 16</td>\n",
       "      <td>User779a23ca43@salidadelsolacademy.org</td>\n",
       "      <td>15:12:46 - Librarian 16 : Hello\\n15:12:50 - Us...</td>\n",
       "      <td>hlep this no help</td>\n",
       "    </tr>\n",
       "    <tr>\n",
       "      <th>3686</th>\n",
       "      <td>3221990</td>\n",
       "      <td>Chrome (79.0.3945.123)</td>\n",
       "      <td>Chrome OS</td>\n",
       "      <td>Mozilla/5.0 (X11; CrOS x86_64 12607.82.0) Appl...</td>\n",
       "      <td>https://pitt.libguides.com/citationhelp</td>\n",
       "      <td>Ask Us</td>\n",
       "      <td>Ask Reference</td>\n",
       "      <td>2020-02-21 15:21:36</td>\n",
       "      <td>45</td>\n",
       "      <td>36</td>\n",
       "      <td>...</td>\n",
       "      <td>NaN</td>\n",
       "      <td>2</td>\n",
       "      <td>NaN</td>\n",
       "      <td>NaN</td>\n",
       "      <td>NaN</td>\n",
       "      <td>NaN</td>\n",
       "      <td>Librarian 24</td>\n",
       "      <td>User779a23ca43@salidadelsolacademy.org</td>\n",
       "      <td>15:22:33 - User779a23ca43 : r u from charlie [...</td>\n",
       "      <td>help</td>\n",
       "    </tr>\n",
       "    <tr>\n",
       "      <th>3721</th>\n",
       "      <td>3256724</td>\n",
       "      <td>Chrome (80.0.3987.132)</td>\n",
       "      <td>Windows</td>\n",
       "      <td>Mozilla/5.0 (Windows NT 6.1) AppleWebKit/537.3...</td>\n",
       "      <td>https://pitt.libguides.com/c.php?g=12678&amp;amp;p...</td>\n",
       "      <td>Ask Us</td>\n",
       "      <td>Ask Reference</td>\n",
       "      <td>2020-03-06 13:08:11</td>\n",
       "      <td>6</td>\n",
       "      <td>545</td>\n",
       "      <td>...</td>\n",
       "      <td>NaN</td>\n",
       "      <td>16</td>\n",
       "      <td>NaN</td>\n",
       "      <td>NaN</td>\n",
       "      <td>NaN</td>\n",
       "      <td>NaN</td>\n",
       "      <td>Librarian 12</td>\n",
       "      <td>User868920400d@gmai.com</td>\n",
       "      <td>13:08:24 - Librarian 12 : Hi, how can I help y...</td>\n",
       "      <td>hi</td>\n",
       "    </tr>\n",
       "    <tr>\n",
       "      <th>3971</th>\n",
       "      <td>3439795</td>\n",
       "      <td>Chrome (81.0.4044.94)</td>\n",
       "      <td>Chrome OS</td>\n",
       "      <td>Mozilla/5.0 (X11; CrOS x86_64 12871.67.0) Appl...</td>\n",
       "      <td>https://pitt.libguides.com/citationhelp</td>\n",
       "      <td>Ask Us</td>\n",
       "      <td>Ask Reference</td>\n",
       "      <td>2020-04-16 15:37:52</td>\n",
       "      <td>6</td>\n",
       "      <td>11</td>\n",
       "      <td>...</td>\n",
       "      <td>NaN</td>\n",
       "      <td>2</td>\n",
       "      <td>NaN</td>\n",
       "      <td>NaN</td>\n",
       "      <td>NaN</td>\n",
       "      <td>NaN</td>\n",
       "      <td>Librarian 50</td>\n",
       "      <td>No Email Provided</td>\n",
       "      <td>15:38:05 - Librarian 50 : Hello!\\n15:38:16 - P...</td>\n",
       "      <td>bitch</td>\n",
       "    </tr>\n",
       "    <tr>\n",
       "      <th>4783</th>\n",
       "      <td>4065536</td>\n",
       "      <td>Firefox (79.0)</td>\n",
       "      <td>Macintosh</td>\n",
       "      <td>Mozilla/5.0 (Macintosh; Intel Mac OS X 10.15; ...</td>\n",
       "      <td>https://www.library.pitt.edu/</td>\n",
       "      <td>Ask Us</td>\n",
       "      <td>Ask Reference</td>\n",
       "      <td>2020-08-13 10:28:46</td>\n",
       "      <td>8</td>\n",
       "      <td>993</td>\n",
       "      <td>...</td>\n",
       "      <td>NaN</td>\n",
       "      <td>8</td>\n",
       "      <td>NaN</td>\n",
       "      <td>NaN</td>\n",
       "      <td>NaN</td>\n",
       "      <td>NaN</td>\n",
       "      <td>Librarian 2</td>\n",
       "      <td>Usercf6c9004f0@pitt.edu</td>\n",
       "      <td>10:31:48 - Librarian 2 : Hello, I'll take a lo...</td>\n",
       "      <td>I am looking for Musketeers of Pig Alley by DW...</td>\n",
       "    </tr>\n",
       "    <tr>\n",
       "      <th>4817</th>\n",
       "      <td>4083157</td>\n",
       "      <td>Firefox (79.0)</td>\n",
       "      <td>Windows</td>\n",
       "      <td>Mozilla/5.0 (Windows NT 10.0; Win64; x64; rv:7...</td>\n",
       "      <td>https://www.library.pitt.edu/askus</td>\n",
       "      <td>Ask Us (Ask Us Page)</td>\n",
       "      <td>Ask Reference</td>\n",
       "      <td>2020-08-17 10:41:41</td>\n",
       "      <td>1251</td>\n",
       "      <td>952</td>\n",
       "      <td>...</td>\n",
       "      <td>NaN</td>\n",
       "      <td>8</td>\n",
       "      <td>NaN</td>\n",
       "      <td>NaN</td>\n",
       "      <td>NaN</td>\n",
       "      <td>NaN</td>\n",
       "      <td>Librarian 51</td>\n",
       "      <td>Usercae096c420@pitt.edu</td>\n",
       "      <td>11:03:02 - Librarian 51 : [nameredacted] [name...</td>\n",
       "      <td>I need three DVDs to teach my film course star...</td>\n",
       "    </tr>\n",
       "    <tr>\n",
       "      <th>4894</th>\n",
       "      <td>4109515</td>\n",
       "      <td>Edge (84.0.522.61)</td>\n",
       "      <td>Windows</td>\n",
       "      <td>Mozilla/5.0 (Windows NT 10.0; Win64; x64) Appl...</td>\n",
       "      <td>https://www.library.pitt.edu/ask-us</td>\n",
       "      <td>Ask Us (Ask Us Page)</td>\n",
       "      <td>Ask Reference</td>\n",
       "      <td>2020-08-19 15:51:48</td>\n",
       "      <td>13</td>\n",
       "      <td>1045</td>\n",
       "      <td>...</td>\n",
       "      <td>NaN</td>\n",
       "      <td>11</td>\n",
       "      <td>NaN</td>\n",
       "      <td>NaN</td>\n",
       "      <td>NaN</td>\n",
       "      <td>NaN</td>\n",
       "      <td>Librarian 57</td>\n",
       "      <td>Userd43e22b7e1@pitt.edu</td>\n",
       "      <td>15:52:19 - Librarian 57 : Hello, how can I hel...</td>\n",
       "      <td>[linkredacted]</td>\n",
       "    </tr>\n",
       "    <tr>\n",
       "      <th>4917</th>\n",
       "      <td>4117960</td>\n",
       "      <td>Safari (13.1.2)</td>\n",
       "      <td>Macintosh</td>\n",
       "      <td>Mozilla/5.0 (Macintosh; Intel Mac OS X 10_15_6...</td>\n",
       "      <td>https://pitt.primo.exlibrisgroup.com/discovery...</td>\n",
       "      <td>Ask Us (NEW)</td>\n",
       "      <td>Ask Reference</td>\n",
       "      <td>2020-08-20 14:55:48</td>\n",
       "      <td>7</td>\n",
       "      <td>426</td>\n",
       "      <td>...</td>\n",
       "      <td>NaN</td>\n",
       "      <td>10</td>\n",
       "      <td>NaN</td>\n",
       "      <td>NaN</td>\n",
       "      <td>NaN</td>\n",
       "      <td>NaN</td>\n",
       "      <td>Librarian 61</td>\n",
       "      <td>Userb1cab7154b@pitt.edu</td>\n",
       "      <td>14:56:14 - Librarian 61 : Hello... let me take...</td>\n",
       "      <td>How can I see the chronicle of education throu...</td>\n",
       "    </tr>\n",
       "    <tr>\n",
       "      <th>5100</th>\n",
       "      <td>4215356</td>\n",
       "      <td>Safari (13.1.2)</td>\n",
       "      <td>Macintosh</td>\n",
       "      <td>Mozilla/5.0 (Macintosh; Intel Mac OS X 10_14_6...</td>\n",
       "      <td>https://www.library.pitt.edu/ask-us</td>\n",
       "      <td>Ask Us (Ask Us Page)</td>\n",
       "      <td>Ask Reference</td>\n",
       "      <td>2020-09-01 12:48:41</td>\n",
       "      <td>16</td>\n",
       "      <td>1036</td>\n",
       "      <td>...</td>\n",
       "      <td>NaN</td>\n",
       "      <td>12</td>\n",
       "      <td>NaN</td>\n",
       "      <td>NaN</td>\n",
       "      <td>NaN</td>\n",
       "      <td>NaN</td>\n",
       "      <td>Librarian 23</td>\n",
       "      <td>User24ea1178e3@pitt.edu</td>\n",
       "      <td>12:49:34 - Librarian 23 : [nameredacted], I am...</td>\n",
       "      <td>trying to call in, but no one picking up the[p...</td>\n",
       "    </tr>\n",
       "    <tr>\n",
       "      <th>5237</th>\n",
       "      <td>4333383</td>\n",
       "      <td>Chrome (84.0.4147.125)</td>\n",
       "      <td>Macintosh</td>\n",
       "      <td>Mozilla/5.0 (Macintosh; Intel Mac OS X 10_15_6...</td>\n",
       "      <td>https://pitt.primo.exlibrisgroup.com/discovery...</td>\n",
       "      <td>Ask Us (NEW)</td>\n",
       "      <td>Ask Reference</td>\n",
       "      <td>2020-09-15 14:01:08</td>\n",
       "      <td>7</td>\n",
       "      <td>519</td>\n",
       "      <td>...</td>\n",
       "      <td>NaN</td>\n",
       "      <td>7</td>\n",
       "      <td>NaN</td>\n",
       "      <td>NaN</td>\n",
       "      <td>NaN</td>\n",
       "      <td>NaN</td>\n",
       "      <td>Librarian 45</td>\n",
       "      <td>User23119a5db6@pitt.edu</td>\n",
       "      <td>14:01:53 - Librarian 45 : Hello! I am not too ...</td>\n",
       "      <td>since the format of the online interface has c...</td>\n",
       "    </tr>\n",
       "    <tr>\n",
       "      <th>6038</th>\n",
       "      <td>5265166</td>\n",
       "      <td>Chrome (74.0.3729.136)</td>\n",
       "      <td>Android</td>\n",
       "      <td>Mozilla/5.0 (Linux; Android 9; TECNO KC6) Appl...</td>\n",
       "      <td>https://pitt.libguides.com/c.php?g=12378&amp;amp;p...</td>\n",
       "      <td>Ask Us (NEW)</td>\n",
       "      <td>Ask Reference</td>\n",
       "      <td>2021-01-31 15:43:52</td>\n",
       "      <td>11</td>\n",
       "      <td>116</td>\n",
       "      <td>...</td>\n",
       "      <td>NaN</td>\n",
       "      <td>5</td>\n",
       "      <td>NaN</td>\n",
       "      <td>NaN</td>\n",
       "      <td>NaN</td>\n",
       "      <td>NaN</td>\n",
       "      <td>Librarian 41</td>\n",
       "      <td>No Email Provided</td>\n",
       "      <td>15:44:10 - Librarian 41 : hello, how ULSMember...</td>\n",
       "      <td>I need their language</td>\n",
       "    </tr>\n",
       "    <tr>\n",
       "      <th>6583</th>\n",
       "      <td>5670180</td>\n",
       "      <td>Chrome (83.0.4103.97)</td>\n",
       "      <td>Windows</td>\n",
       "      <td>Mozilla/5.0 (Windows NT 10.0; Win64; x64) Appl...</td>\n",
       "      <td>http://library.pitt.edu/ask-us</td>\n",
       "      <td>Ask Us (Ask Us Page)</td>\n",
       "      <td>Ask Reference</td>\n",
       "      <td>2021-03-30 15:34:50</td>\n",
       "      <td>13</td>\n",
       "      <td>10</td>\n",
       "      <td>...</td>\n",
       "      <td>NaN</td>\n",
       "      <td>3</td>\n",
       "      <td>NaN</td>\n",
       "      <td>NaN</td>\n",
       "      <td>NaN</td>\n",
       "      <td>NaN</td>\n",
       "      <td>Librarian 12</td>\n",
       "      <td>User2efe11e80f@pitt.edu</td>\n",
       "      <td>15:35:19 - Librarian 12 : Hi, [nameredacted] -...</td>\n",
       "      <td>thesis</td>\n",
       "    </tr>\n",
       "    <tr>\n",
       "      <th>7027</th>\n",
       "      <td>6068893</td>\n",
       "      <td>Chrome (70.0.3538.110)</td>\n",
       "      <td>Android</td>\n",
       "      <td>Mozilla/5.0 (Linux; Android 8.1.0; TECNO F1 Bu...</td>\n",
       "      <td>https://pitt.libguides.com/c.php?g=542672&amp;amp;...</td>\n",
       "      <td>Ask Us (NEW)</td>\n",
       "      <td>Ask Reference</td>\n",
       "      <td>2021-06-14 14:38:31</td>\n",
       "      <td>8</td>\n",
       "      <td>0</td>\n",
       "      <td>...</td>\n",
       "      <td>NaN</td>\n",
       "      <td>1</td>\n",
       "      <td>NaN</td>\n",
       "      <td>NaN</td>\n",
       "      <td>NaN</td>\n",
       "      <td>NaN</td>\n",
       "      <td>Librarian 41</td>\n",
       "      <td>No Email Provided</td>\n",
       "      <td>14:39:02 - Patron : How are you?\\n</td>\n",
       "      <td>Yuhrhhhfhhf</td>\n",
       "    </tr>\n",
       "    <tr>\n",
       "      <th>7519</th>\n",
       "      <td>6570239</td>\n",
       "      <td>Chrome (93.0.4577.82)</td>\n",
       "      <td>Windows</td>\n",
       "      <td>Mozilla/5.0 (Windows NT 10.0; Win64; x64) Appl...</td>\n",
       "      <td>https://pitt.primo.exlibrisgroup.com/discovery...</td>\n",
       "      <td>Ask Us (NEW)</td>\n",
       "      <td>Ask Reference</td>\n",
       "      <td>2021-09-27 15:21:44</td>\n",
       "      <td>5</td>\n",
       "      <td>178</td>\n",
       "      <td>...</td>\n",
       "      <td>NaN</td>\n",
       "      <td>2</td>\n",
       "      <td>NaN</td>\n",
       "      <td>NaN</td>\n",
       "      <td>NaN</td>\n",
       "      <td>NaN</td>\n",
       "      <td>Librarian 80</td>\n",
       "      <td>Usered22ce3075@pitt.edu</td>\n",
       "      <td>15:26:42 - Usered22ce3075 : Hello?\\n15:29:40 -...</td>\n",
       "      <td>The link for this article doesn't take you to ...</td>\n",
       "    </tr>\n",
       "    <tr>\n",
       "      <th>7829</th>\n",
       "      <td>6972549</td>\n",
       "      <td>Chrome (94.0.4606.71)</td>\n",
       "      <td>Windows</td>\n",
       "      <td>Mozilla/5.0 (Windows NT 10.0; Win64; x64) Appl...</td>\n",
       "      <td>https://www.library.pitt.edu/ask-us</td>\n",
       "      <td>Ask Us (Ask Us Page)</td>\n",
       "      <td>Ask Reference</td>\n",
       "      <td>2021-12-06 13:21:18</td>\n",
       "      <td>3</td>\n",
       "      <td>91</td>\n",
       "      <td>...</td>\n",
       "      <td>NaN</td>\n",
       "      <td>5</td>\n",
       "      <td>NaN</td>\n",
       "      <td>NaN</td>\n",
       "      <td>NaN</td>\n",
       "      <td>NaN</td>\n",
       "      <td>Librarian 41</td>\n",
       "      <td>Userf2611b7fab@yahoo.com</td>\n",
       "      <td>13:21:30 - Librarian 41 : Hello, thank you for...</td>\n",
       "      <td>Hello wanted to know if I can use the library ...</td>\n",
       "    </tr>\n",
       "    <tr>\n",
       "      <th>8070</th>\n",
       "      <td>7293558</td>\n",
       "      <td>Chrome (98.0.4758.102)</td>\n",
       "      <td>Macintosh</td>\n",
       "      <td>Mozilla/5.0 (Macintosh; Intel Mac OS X 10_14_6...</td>\n",
       "      <td>https://www.library.pitt.edu/ask-us</td>\n",
       "      <td>Ask Us (Ask Us Page)</td>\n",
       "      <td>Ask Reference</td>\n",
       "      <td>2022-02-16 11:03:19</td>\n",
       "      <td>8</td>\n",
       "      <td>1044</td>\n",
       "      <td>...</td>\n",
       "      <td>NaN</td>\n",
       "      <td>11</td>\n",
       "      <td>NaN</td>\n",
       "      <td>NaN</td>\n",
       "      <td>NaN</td>\n",
       "      <td>NaN</td>\n",
       "      <td>Librarian 23</td>\n",
       "      <td>Userae2e82694b@upmc.edu</td>\n",
       "      <td>11:03:36 - Userae2e82694b : [nameredacted] [na...</td>\n",
       "      <td>I am trying to have access to this article. T ...</td>\n",
       "    </tr>\n",
       "    <tr>\n",
       "      <th>8129</th>\n",
       "      <td>7370821</td>\n",
       "      <td>Safari (15.0)</td>\n",
       "      <td>Macintosh</td>\n",
       "      <td>Mozilla/5.0 (Macintosh; Intel Mac OS X 10_15_7...</td>\n",
       "      <td>https://library.pitt.edu/ask-archivist</td>\n",
       "      <td>Ask Us (NEW)</td>\n",
       "      <td>Ask Reference</td>\n",
       "      <td>2022-03-02 13:34:08</td>\n",
       "      <td>7</td>\n",
       "      <td>506</td>\n",
       "      <td>...</td>\n",
       "      <td>NaN</td>\n",
       "      <td>18</td>\n",
       "      <td>NaN</td>\n",
       "      <td>NaN</td>\n",
       "      <td>NaN</td>\n",
       "      <td>NaN</td>\n",
       "      <td>Librarian 50</td>\n",
       "      <td>Userd96a855aa2@charter.net</td>\n",
       "      <td>13:34:45 - Userd96a855aa2 : I would like to ac...</td>\n",
       "      <td>I would like to explore access to the Jay F. R...</td>\n",
       "    </tr>\n",
       "    <tr>\n",
       "      <th>8670</th>\n",
       "      <td>8001834</td>\n",
       "      <td>Chrome (103.0.0.0)</td>\n",
       "      <td>Macintosh</td>\n",
       "      <td>Mozilla/5.0 (Macintosh; Intel Mac OS X 10_13_6...</td>\n",
       "      <td>https://etd.pitt.edu/</td>\n",
       "      <td>Ask an ETD Specialist (slidetest) [REMOVE?]</td>\n",
       "      <td>ETD Support</td>\n",
       "      <td>2022-08-05 09:48:31</td>\n",
       "      <td>5</td>\n",
       "      <td>371</td>\n",
       "      <td>...</td>\n",
       "      <td>NaN</td>\n",
       "      <td>9</td>\n",
       "      <td>NaN</td>\n",
       "      <td>NaN</td>\n",
       "      <td>0.0</td>\n",
       "      <td>NaN</td>\n",
       "      <td>Librarian 82</td>\n",
       "      <td>User329892aa0e@pitt.edu</td>\n",
       "      <td>09:48:44 - Librarian 82 : Hi how can we help\\n...</td>\n",
       "      <td>NaN</td>\n",
       "    </tr>\n",
       "    <tr>\n",
       "      <th>9381</th>\n",
       "      <td>8935121</td>\n",
       "      <td>Firefox (110.0)</td>\n",
       "      <td>Windows</td>\n",
       "      <td>Mozilla/5.0 (Windows NT 10.0; Win64; x64; rv:1...</td>\n",
       "      <td>https://www.library.pitt.edu/hillman-library</td>\n",
       "      <td>Ask Us (PittCat &amp;amp; Public Slider) (New API)</td>\n",
       "      <td>Ask Reference</td>\n",
       "      <td>2023-03-06 10:09:01</td>\n",
       "      <td>4</td>\n",
       "      <td>111</td>\n",
       "      <td>...</td>\n",
       "      <td>NaN</td>\n",
       "      <td>7</td>\n",
       "      <td>NaN</td>\n",
       "      <td>NaN</td>\n",
       "      <td>11107034.0</td>\n",
       "      <td>NaN</td>\n",
       "      <td>Librarian 38</td>\n",
       "      <td>Userf9e1d818b1@pitt.edu</td>\n",
       "      <td>10:09:13 - Userf9e1d818b1 : Hi, [nameredacted]...</td>\n",
       "      <td>Hi. I have a book out that is due today; howev...</td>\n",
       "    </tr>\n",
       "    <tr>\n",
       "      <th>9765</th>\n",
       "      <td>9397386</td>\n",
       "      <td>Edge (113.0.1774.50)</td>\n",
       "      <td>Windows</td>\n",
       "      <td>Mozilla/5.0 (Windows NT 10.0; Win64; x64) Appl...</td>\n",
       "      <td>https://pitt.primo.exlibrisgroup.com/discovery...</td>\n",
       "      <td>Ask Us (PittCat &amp;amp; Public Slider) (New API)</td>\n",
       "      <td>Ask Reference</td>\n",
       "      <td>2023-07-06 14:32:21</td>\n",
       "      <td>10</td>\n",
       "      <td>605</td>\n",
       "      <td>...</td>\n",
       "      <td>NaN</td>\n",
       "      <td>6</td>\n",
       "      <td>NaN</td>\n",
       "      <td>NaN</td>\n",
       "      <td>0.0</td>\n",
       "      <td>NaN</td>\n",
       "      <td>Librarian 72</td>\n",
       "      <td>User679c7810b9@upmc.edu</td>\n",
       "      <td>14:32:40 - Librarian 72 : [nameredacted] [name...</td>\n",
       "      <td>I need this book. Do you have it?\\n\\nThe Bethe...</td>\n",
       "    </tr>\n",
       "    <tr>\n",
       "      <th>10136</th>\n",
       "      <td>9896017</td>\n",
       "      <td>Chrome (118.0.0.0)</td>\n",
       "      <td>Chrome OS</td>\n",
       "      <td>Mozilla/5.0 (X11; CrOS x86_64 14541.0.0) Apple...</td>\n",
       "      <td>https://www.library.pitt.edu/foster-faq</td>\n",
       "      <td>Ask Us (PittCat &amp;amp; Public Slider) (New API)</td>\n",
       "      <td>Ask Reference</td>\n",
       "      <td>2023-10-30 13:50:26</td>\n",
       "      <td>8</td>\n",
       "      <td>222</td>\n",
       "      <td>...</td>\n",
       "      <td>NaN</td>\n",
       "      <td>6</td>\n",
       "      <td>NaN</td>\n",
       "      <td>NaN</td>\n",
       "      <td>0.0</td>\n",
       "      <td>NaN</td>\n",
       "      <td>Librarian 19</td>\n",
       "      <td>User2aad6a3e8f@r-pschools.com</td>\n",
       "      <td>13:51:43 - Librarian 19 : Hello, [nameredacted...</td>\n",
       "      <td>what football team did stephen like</td>\n",
       "    </tr>\n",
       "  </tbody>\n",
       "</table>\n",
       "<p>28 rows × 23 columns</p>\n",
       "</div>"
      ],
      "text/plain": [
       "       Chat ID                 Browser Operating System  \\\n",
       "652    1926900         Edge (16.16299)          Windows   \n",
       "713    1953138   Chrome (55.0.2883.87)          Windows   \n",
       "2390   2569110  Chrome (72.0.3626.119)        Macintosh   \n",
       "2431   2593476  Chrome (72.0.3626.121)          Windows   \n",
       "2436   2596182  Chrome (72.0.3626.121)          Windows   \n",
       "2789   2742888         Safari (11.1.2)        Macintosh   \n",
       "3210   2900906   Chrome (77.0.3865.73)          Android   \n",
       "3684   3221955  Chrome (79.0.3945.123)        Chrome OS   \n",
       "3686   3221990  Chrome (79.0.3945.123)        Chrome OS   \n",
       "3721   3256724  Chrome (80.0.3987.132)          Windows   \n",
       "3971   3439795   Chrome (81.0.4044.94)        Chrome OS   \n",
       "4783   4065536          Firefox (79.0)        Macintosh   \n",
       "4817   4083157          Firefox (79.0)          Windows   \n",
       "4894   4109515      Edge (84.0.522.61)          Windows   \n",
       "4917   4117960         Safari (13.1.2)        Macintosh   \n",
       "5100   4215356         Safari (13.1.2)        Macintosh   \n",
       "5237   4333383  Chrome (84.0.4147.125)        Macintosh   \n",
       "6038   5265166  Chrome (74.0.3729.136)          Android   \n",
       "6583   5670180   Chrome (83.0.4103.97)          Windows   \n",
       "7027   6068893  Chrome (70.0.3538.110)          Android   \n",
       "7519   6570239   Chrome (93.0.4577.82)          Windows   \n",
       "7829   6972549   Chrome (94.0.4606.71)          Windows   \n",
       "8070   7293558  Chrome (98.0.4758.102)        Macintosh   \n",
       "8129   7370821           Safari (15.0)        Macintosh   \n",
       "8670   8001834      Chrome (103.0.0.0)        Macintosh   \n",
       "9381   8935121         Firefox (110.0)          Windows   \n",
       "9765   9397386    Edge (113.0.1774.50)          Windows   \n",
       "10136  9896017      Chrome (118.0.0.0)        Chrome OS   \n",
       "\n",
       "                                              User Agent  \\\n",
       "652    Mozilla/5.0 (Windows NT 10.0; Win64; x64) Appl...   \n",
       "713    Mozilla/5.0 (Windows NT 6.1; Win64; x64) Apple...   \n",
       "2390   Mozilla/5.0 (Macintosh; Intel Mac OS X 10_13_6...   \n",
       "2431   Mozilla/5.0 (Windows NT 10.0; Win64; x64) Appl...   \n",
       "2436   Mozilla/5.0 (Windows NT 10.0; Win64; x64) Appl...   \n",
       "2789   Mozilla/5.0 (Macintosh; Intel Mac OS X 10_11_6...   \n",
       "3210   Mozilla/5.0 (Linux; Android 6.0.1; SM-A800I) A...   \n",
       "3684   Mozilla/5.0 (X11; CrOS x86_64 12607.82.0) Appl...   \n",
       "3686   Mozilla/5.0 (X11; CrOS x86_64 12607.82.0) Appl...   \n",
       "3721   Mozilla/5.0 (Windows NT 6.1) AppleWebKit/537.3...   \n",
       "3971   Mozilla/5.0 (X11; CrOS x86_64 12871.67.0) Appl...   \n",
       "4783   Mozilla/5.0 (Macintosh; Intel Mac OS X 10.15; ...   \n",
       "4817   Mozilla/5.0 (Windows NT 10.0; Win64; x64; rv:7...   \n",
       "4894   Mozilla/5.0 (Windows NT 10.0; Win64; x64) Appl...   \n",
       "4917   Mozilla/5.0 (Macintosh; Intel Mac OS X 10_15_6...   \n",
       "5100   Mozilla/5.0 (Macintosh; Intel Mac OS X 10_14_6...   \n",
       "5237   Mozilla/5.0 (Macintosh; Intel Mac OS X 10_15_6...   \n",
       "6038   Mozilla/5.0 (Linux; Android 9; TECNO KC6) Appl...   \n",
       "6583   Mozilla/5.0 (Windows NT 10.0; Win64; x64) Appl...   \n",
       "7027   Mozilla/5.0 (Linux; Android 8.1.0; TECNO F1 Bu...   \n",
       "7519   Mozilla/5.0 (Windows NT 10.0; Win64; x64) Appl...   \n",
       "7829   Mozilla/5.0 (Windows NT 10.0; Win64; x64) Appl...   \n",
       "8070   Mozilla/5.0 (Macintosh; Intel Mac OS X 10_14_6...   \n",
       "8129   Mozilla/5.0 (Macintosh; Intel Mac OS X 10_15_7...   \n",
       "8670   Mozilla/5.0 (Macintosh; Intel Mac OS X 10_13_6...   \n",
       "9381   Mozilla/5.0 (Windows NT 10.0; Win64; x64; rv:1...   \n",
       "9765   Mozilla/5.0 (Windows NT 10.0; Win64; x64) Appl...   \n",
       "10136  Mozilla/5.0 (X11; CrOS x86_64 14541.0.0) Apple...   \n",
       "\n",
       "                                                Referrer  \\\n",
       "652                        https://www.library.pitt.edu/   \n",
       "713               http://pitt.libguides.com/citationhelp   \n",
       "2390   https://pitt.summon.serialssolutions.com/searc...   \n",
       "2431                  https://www.library.pitt.edu/askus   \n",
       "2436                           https://library.pitt.edu/   \n",
       "2789                       https://www.library.pitt.edu/   \n",
       "3210             https://pitt.libguides.com/citationhelp   \n",
       "3684             https://pitt.libguides.com/citationhelp   \n",
       "3686             https://pitt.libguides.com/citationhelp   \n",
       "3721   https://pitt.libguides.com/c.php?g=12678&amp;p...   \n",
       "3971             https://pitt.libguides.com/citationhelp   \n",
       "4783                       https://www.library.pitt.edu/   \n",
       "4817                  https://www.library.pitt.edu/askus   \n",
       "4894                 https://www.library.pitt.edu/ask-us   \n",
       "4917   https://pitt.primo.exlibrisgroup.com/discovery...   \n",
       "5100                 https://www.library.pitt.edu/ask-us   \n",
       "5237   https://pitt.primo.exlibrisgroup.com/discovery...   \n",
       "6038   https://pitt.libguides.com/c.php?g=12378&amp;p...   \n",
       "6583                      http://library.pitt.edu/ask-us   \n",
       "7027   https://pitt.libguides.com/c.php?g=542672&amp;...   \n",
       "7519   https://pitt.primo.exlibrisgroup.com/discovery...   \n",
       "7829                 https://www.library.pitt.edu/ask-us   \n",
       "8070                 https://www.library.pitt.edu/ask-us   \n",
       "8129              https://library.pitt.edu/ask-archivist   \n",
       "8670                               https://etd.pitt.edu/   \n",
       "9381        https://www.library.pitt.edu/hillman-library   \n",
       "9765   https://pitt.primo.exlibrisgroup.com/discovery...   \n",
       "10136            https://www.library.pitt.edu/foster-faq   \n",
       "\n",
       "                                               Widget     Department  \\\n",
       "652                                            Ask Us  Ask Reference   \n",
       "713                                            Ask Us  Ask Reference   \n",
       "2390                          Remove? Ask Us - Summon  Ask Reference   \n",
       "2431                             Ask Us (Ask Us Page)  Ask Reference   \n",
       "2436                                           Ask Us  Ask Reference   \n",
       "2789                                           Ask Us  Ask Reference   \n",
       "3210                                           Ask Us  Ask Reference   \n",
       "3684                                           Ask Us  Ask Reference   \n",
       "3686                                           Ask Us  Ask Reference   \n",
       "3721                                           Ask Us  Ask Reference   \n",
       "3971                                           Ask Us  Ask Reference   \n",
       "4783                                           Ask Us  Ask Reference   \n",
       "4817                             Ask Us (Ask Us Page)  Ask Reference   \n",
       "4894                             Ask Us (Ask Us Page)  Ask Reference   \n",
       "4917                                     Ask Us (NEW)  Ask Reference   \n",
       "5100                             Ask Us (Ask Us Page)  Ask Reference   \n",
       "5237                                     Ask Us (NEW)  Ask Reference   \n",
       "6038                                     Ask Us (NEW)  Ask Reference   \n",
       "6583                             Ask Us (Ask Us Page)  Ask Reference   \n",
       "7027                                     Ask Us (NEW)  Ask Reference   \n",
       "7519                                     Ask Us (NEW)  Ask Reference   \n",
       "7829                             Ask Us (Ask Us Page)  Ask Reference   \n",
       "8070                             Ask Us (Ask Us Page)  Ask Reference   \n",
       "8129                                     Ask Us (NEW)  Ask Reference   \n",
       "8670      Ask an ETD Specialist (slidetest) [REMOVE?]    ETD Support   \n",
       "9381   Ask Us (PittCat &amp; Public Slider) (New API)  Ask Reference   \n",
       "9765   Ask Us (PittCat &amp; Public Slider) (New API)  Ask Reference   \n",
       "10136  Ask Us (PittCat &amp; Public Slider) (New API)  Ask Reference   \n",
       "\n",
       "                 Timestamp  Wait Time (seconds)  Duration (seconds)  ...  \\\n",
       "652    2018-04-02 13:18:10                    9                 131  ...   \n",
       "713    2018-04-12 17:34:41                    4                 191  ...   \n",
       "2390   2019-03-05 18:07:45                    5                 361  ...   \n",
       "2431   2019-03-19 10:21:53                   14                2955  ...   \n",
       "2436   2019-03-20 10:44:19                   15                 357  ...   \n",
       "2789   2019-06-19 11:53:39                    8                1692  ...   \n",
       "3210   2019-09-23 13:33:48                    9                  92  ...   \n",
       "3684   2020-02-21 15:12:20                   11                 454  ...   \n",
       "3686   2020-02-21 15:21:36                   45                  36  ...   \n",
       "3721   2020-03-06 13:08:11                    6                 545  ...   \n",
       "3971   2020-04-16 15:37:52                    6                  11  ...   \n",
       "4783   2020-08-13 10:28:46                    8                 993  ...   \n",
       "4817   2020-08-17 10:41:41                 1251                 952  ...   \n",
       "4894   2020-08-19 15:51:48                   13                1045  ...   \n",
       "4917   2020-08-20 14:55:48                    7                 426  ...   \n",
       "5100   2020-09-01 12:48:41                   16                1036  ...   \n",
       "5237   2020-09-15 14:01:08                    7                 519  ...   \n",
       "6038   2021-01-31 15:43:52                   11                 116  ...   \n",
       "6583   2021-03-30 15:34:50                   13                  10  ...   \n",
       "7027   2021-06-14 14:38:31                    8                   0  ...   \n",
       "7519   2021-09-27 15:21:44                    5                 178  ...   \n",
       "7829   2021-12-06 13:21:18                    3                  91  ...   \n",
       "8070   2022-02-16 11:03:19                    8                1044  ...   \n",
       "8129   2022-03-02 13:34:08                    7                 506  ...   \n",
       "8670   2022-08-05 09:48:31                    5                 371  ...   \n",
       "9381   2023-03-06 10:09:01                    4                 111  ...   \n",
       "9765   2023-07-06 14:32:21                   10                 605  ...   \n",
       "10136  2023-10-30 13:50:26                    8                 222  ...   \n",
       "\n",
       "      Transfer History  Message Count Internal Note Tags   Ticket ID  \\\n",
       "652                NaN              7           NaN  NaN         NaN   \n",
       "713                NaN             18           NaN  NaN         NaN   \n",
       "2390               NaN              9           NaN  NaN         NaN   \n",
       "2431               NaN             89           NaN  NaN         NaN   \n",
       "2436               NaN              5           NaN  NaN         NaN   \n",
       "2789               NaN              9           NaN  NaN         NaN   \n",
       "3210               NaN              5           NaN  NaN         NaN   \n",
       "3684               NaN             24           NaN  NaN         NaN   \n",
       "3686               NaN              2           NaN  NaN         NaN   \n",
       "3721               NaN             16           NaN  NaN         NaN   \n",
       "3971               NaN              2           NaN  NaN         NaN   \n",
       "4783               NaN              8           NaN  NaN         NaN   \n",
       "4817               NaN              8           NaN  NaN         NaN   \n",
       "4894               NaN             11           NaN  NaN         NaN   \n",
       "4917               NaN             10           NaN  NaN         NaN   \n",
       "5100               NaN             12           NaN  NaN         NaN   \n",
       "5237               NaN              7           NaN  NaN         NaN   \n",
       "6038               NaN              5           NaN  NaN         NaN   \n",
       "6583               NaN              3           NaN  NaN         NaN   \n",
       "7027               NaN              1           NaN  NaN         NaN   \n",
       "7519               NaN              2           NaN  NaN         NaN   \n",
       "7829               NaN              5           NaN  NaN         NaN   \n",
       "8070               NaN             11           NaN  NaN         NaN   \n",
       "8129               NaN             18           NaN  NaN         NaN   \n",
       "8670               NaN              9           NaN  NaN         0.0   \n",
       "9381               NaN              7           NaN  NaN  11107034.0   \n",
       "9765               NaN              6           NaN  NaN         0.0   \n",
       "10136              NaN              6           NaN  NaN         0.0   \n",
       "\n",
       "      Unnamed: 27 Deidentified_Answerer  \\\n",
       "652           NaN          Librarian 21   \n",
       "713           NaN          Librarian 10   \n",
       "2390          NaN          Librarian 21   \n",
       "2431          NaN           Librarian 8   \n",
       "2436          NaN          Librarian 10   \n",
       "2789          NaN          Librarian 10   \n",
       "3210          NaN          Librarian 39   \n",
       "3684          NaN          Librarian 16   \n",
       "3686          NaN          Librarian 24   \n",
       "3721          NaN          Librarian 12   \n",
       "3971          NaN          Librarian 50   \n",
       "4783          NaN           Librarian 2   \n",
       "4817          NaN          Librarian 51   \n",
       "4894          NaN          Librarian 57   \n",
       "4917          NaN          Librarian 61   \n",
       "5100          NaN          Librarian 23   \n",
       "5237          NaN          Librarian 45   \n",
       "6038          NaN          Librarian 41   \n",
       "6583          NaN          Librarian 12   \n",
       "7027          NaN          Librarian 41   \n",
       "7519          NaN          Librarian 80   \n",
       "7829          NaN          Librarian 41   \n",
       "8070          NaN          Librarian 23   \n",
       "8129          NaN          Librarian 50   \n",
       "8670          NaN          Librarian 82   \n",
       "9381          NaN          Librarian 38   \n",
       "9765          NaN          Librarian 72   \n",
       "10136         NaN          Librarian 19   \n",
       "\n",
       "                           Deidentified_Email  \\\n",
       "652                   User28b2f6c696@pitt.edu   \n",
       "713                         No Email Provided   \n",
       "2390                  Usera2b03b1a5d@pitt.edu   \n",
       "2431                  User6ec5e3a48c@upmc.edu   \n",
       "2436                  User705c46914f@pitt.edu   \n",
       "2789                  User3472c693d5@pitt.edu   \n",
       "3210                 Userc4e4a0be99@gmail.com   \n",
       "3684   User779a23ca43@salidadelsolacademy.org   \n",
       "3686   User779a23ca43@salidadelsolacademy.org   \n",
       "3721                  User868920400d@gmai.com   \n",
       "3971                        No Email Provided   \n",
       "4783                  Usercf6c9004f0@pitt.edu   \n",
       "4817                  Usercae096c420@pitt.edu   \n",
       "4894                  Userd43e22b7e1@pitt.edu   \n",
       "4917                  Userb1cab7154b@pitt.edu   \n",
       "5100                  User24ea1178e3@pitt.edu   \n",
       "5237                  User23119a5db6@pitt.edu   \n",
       "6038                        No Email Provided   \n",
       "6583                  User2efe11e80f@pitt.edu   \n",
       "7027                        No Email Provided   \n",
       "7519                  Usered22ce3075@pitt.edu   \n",
       "7829                 Userf2611b7fab@yahoo.com   \n",
       "8070                  Userae2e82694b@upmc.edu   \n",
       "8129               Userd96a855aa2@charter.net   \n",
       "8670                  User329892aa0e@pitt.edu   \n",
       "9381                  Userf9e1d818b1@pitt.edu   \n",
       "9765                  User679c7810b9@upmc.edu   \n",
       "10136           User2aad6a3e8f@r-pschools.com   \n",
       "\n",
       "                                 Deidentified_Transcript  \\\n",
       "652    13:18:43 - Librarian 21 : [nameredacted] [name...   \n",
       "713    17:35:18 - Librarian 10 : Hi, this is up to yo...   \n",
       "2390   18:08:07 - Librarian 21 : [nameredacted] [name...   \n",
       "2431   10:22:11 - Librarian 8 : [nameredacted] [namer...   \n",
       "2436   10:45:41 - Librarian 10 : [nameredacted] [name...   \n",
       "2789   11:53:59 - Librarian 10 : [nameredacted] [name...   \n",
       "3210   13:34:27 - Librarian 39 : Hello just one momen...   \n",
       "3684   15:12:46 - Librarian 16 : Hello\\n15:12:50 - Us...   \n",
       "3686   15:22:33 - User779a23ca43 : r u from charlie [...   \n",
       "3721   13:08:24 - Librarian 12 : Hi, how can I help y...   \n",
       "3971   15:38:05 - Librarian 50 : Hello!\\n15:38:16 - P...   \n",
       "4783   10:31:48 - Librarian 2 : Hello, I'll take a lo...   \n",
       "4817   11:03:02 - Librarian 51 : [nameredacted] [name...   \n",
       "4894   15:52:19 - Librarian 57 : Hello, how can I hel...   \n",
       "4917   14:56:14 - Librarian 61 : Hello... let me take...   \n",
       "5100   12:49:34 - Librarian 23 : [nameredacted], I am...   \n",
       "5237   14:01:53 - Librarian 45 : Hello! I am not too ...   \n",
       "6038   15:44:10 - Librarian 41 : hello, how ULSMember...   \n",
       "6583   15:35:19 - Librarian 12 : Hi, [nameredacted] -...   \n",
       "7027                  14:39:02 - Patron : How are you?\\n   \n",
       "7519   15:26:42 - Usered22ce3075 : Hello?\\n15:29:40 -...   \n",
       "7829   13:21:30 - Librarian 41 : Hello, thank you for...   \n",
       "8070   11:03:36 - Userae2e82694b : [nameredacted] [na...   \n",
       "8129   13:34:45 - Userd96a855aa2 : I would like to ac...   \n",
       "8670   09:48:44 - Librarian 82 : Hi how can we help\\n...   \n",
       "9381   10:09:13 - Userf9e1d818b1 : Hi, [nameredacted]...   \n",
       "9765   14:32:40 - Librarian 72 : [nameredacted] [name...   \n",
       "10136  13:51:43 - Librarian 19 : Hello, [nameredacted...   \n",
       "\n",
       "                           Deidentified_Initial_Question  \n",
       "652    I can not access the page to reserve a room in...  \n",
       "713                        what style to use for com sci  \n",
       "2390   Hello!\\n\\nI am starting a class on Thursday, a...  \n",
       "2431                Hi, I have a question about Endnote.  \n",
       "2436   Are there movies available at the library abou...  \n",
       "2789   problems accessing electronic journals!  from ...  \n",
       "3210   What is the APA and MLA style in technical com...  \n",
       "3684                                   hlep this no help  \n",
       "3686                                                help  \n",
       "3721                                                  hi  \n",
       "3971                                               bitch  \n",
       "4783   I am looking for Musketeers of Pig Alley by DW...  \n",
       "4817   I need three DVDs to teach my film course star...  \n",
       "4894                                      [linkredacted]  \n",
       "4917   How can I see the chronicle of education throu...  \n",
       "5100   trying to call in, but no one picking up the[p...  \n",
       "5237   since the format of the online interface has c...  \n",
       "6038                               I need their language  \n",
       "6583                                              thesis  \n",
       "7027                                         Yuhrhhhfhhf  \n",
       "7519   The link for this article doesn't take you to ...  \n",
       "7829   Hello wanted to know if I can use the library ...  \n",
       "8070   I am trying to have access to this article. T ...  \n",
       "8129   I would like to explore access to the Jay F. R...  \n",
       "8670                                                 NaN  \n",
       "9381   Hi. I have a book out that is due today; howev...  \n",
       "9765   I need this book. Do you have it?\\n\\nThe Bethe...  \n",
       "10136                what football team did stephen like  \n",
       "\n",
       "[28 rows x 23 columns]"
      ]
     },
     "execution_count": 9,
     "metadata": {},
     "output_type": "execute_result"
    }
   ],
   "source": [
    "one_score"
   ]
  },
  {
   "cell_type": "code",
   "execution_count": 10,
   "id": "f1845638-9313-475d-80f0-134053775a36",
   "metadata": {},
   "outputs": [
    {
     "data": {
      "text/plain": [
       "'I can not access the page to reserve a room in Falk Library. The browser is telling me the page cannot be found.'"
      ]
     },
     "execution_count": 10,
     "metadata": {},
     "output_type": "execute_result"
    }
   ],
   "source": [
    "one_score['Deidentified_Initial_Question'].iloc[0]"
   ]
  },
  {
   "cell_type": "code",
   "execution_count": 11,
   "id": "b99d71ea-8fd1-4ef9-b39f-2c7a05239286",
   "metadata": {},
   "outputs": [
    {
     "data": {
      "text/plain": [
       "'13:18:43 - Librarian 21 : [nameredacted] [nameredacted]\\n13:19:23 - Librarian 21 : Let me get you the contact information for Falk. One moment please.\\n13:19:44 - User28b2f6c696 : attached a file: <a class=\"s-la-cfile\" href=\"https://pitt.libanswers.com/chat_file.php?i=999&f=99999\" target=\"_blank\" data-preview=\"true\">https://pitt.libanswers.com/chat_file.php?i=999&f=99999</a>\\n13:19:59 - User28b2f6c696 : here is the screen I am seeing when I try to reserve a room\\n13:20:11 - Librarian 21 : [linkredacted]\\n13:20:42 - Librarian 21 : Since Falk is a separate library system, you will need to contact them directly.\\n13:20:54 - User28b2f6c696 : okay thank you\\n'"
      ]
     },
     "execution_count": 11,
     "metadata": {},
     "output_type": "execute_result"
    }
   ],
   "source": [
    "one_score['Deidentified_Transcript'].iloc[0]"
   ]
  },
  {
   "cell_type": "code",
   "execution_count": 12,
   "id": "653e781c-064e-475e-9bab-01b4495dadc7",
   "metadata": {},
   "outputs": [
    {
     "data": {
      "text/plain": [
       "'what style to use for com sci'"
      ]
     },
     "execution_count": 12,
     "metadata": {},
     "output_type": "execute_result"
    }
   ],
   "source": [
    "one_score['Deidentified_Initial_Question'].iloc[1]"
   ]
  },
  {
   "cell_type": "code",
   "execution_count": 13,
   "id": "a93ff3c4-1e12-4678-a19b-3dd6f47b5b72",
   "metadata": {},
   "outputs": [
    {
     "data": {
      "text/plain": [
       "\"17:35:18 - Librarian 10 : Hi, this is up to your professor. Does the department have a specific style guide that they recommend?\\n17:35:35 - Patron : im not sure\\n17:35:47 - Patron : i forgot to ask\\n17:35:57 - Librarian 10 : Is it on the syllabus for your class?\\n17:36:06 - Patron : but usually what style would u choose for\\n17:36:13 - Patron : website research projetc\\n17:36:19 - Patron : im in high school\\n17:36:33 - Librarian 10 : Then you really need to ask your teacher.\\n17:36:46 - Patron : can u just tell me\\n17:37:11 - Librarian 10 : No, I can't because I don't know.\\n17:37:18 - Patron : generaly\\n17:37:23 - Patron : for computer science\\n17:37:30 - Patron : ????????????????????????\\n17:37:33 - Librarian 10 : ASK YOUR TEACHER\\n17:37:54 - Patron : are u a professor\\n17:38:03 - Librarian 10 : No, I'm a librarian.\\n17:38:16 - Patron : from where\\n17:38:29 - Librarian 10 : And i have another question coming in from a Pitt student, so I have to disconnect you.\\n\""
      ]
     },
     "execution_count": 13,
     "metadata": {},
     "output_type": "execute_result"
    }
   ],
   "source": [
    "one_score['Deidentified_Transcript'].iloc[1]"
   ]
  },
  {
   "cell_type": "code",
   "execution_count": 14,
   "id": "a9d7e4a5-369b-4d94-8dc9-aeb28c7cfb28",
   "metadata": {},
   "outputs": [
    {
     "data": {
      "text/plain": [
       "\"Hello!\\n\\nI am starting a class on Thursday, and can't find the textbook. I appreciate your help.\\n\\nA Budgeting Guide for Local Government, Third Edition, Robert L. Bland\\n\\nThanks!\""
      ]
     },
     "execution_count": 14,
     "metadata": {},
     "output_type": "execute_result"
    }
   ],
   "source": [
    "one_score['Deidentified_Initial_Question'].iloc[2]"
   ]
  },
  {
   "cell_type": "code",
   "execution_count": 15,
   "id": "799e54c7-3178-45b2-a919-bcb6cf41d338",
   "metadata": {},
   "outputs": [
    {
     "data": {
      "text/plain": [
       "'18:08:07 - Librarian 21 : [nameredacted] [nameredacted]\\n18:08:28 - Librarian 21 : I can check, but normally the library will not carry the textbooks.\\n18:08:34 - Librarian 21 : One moment please\\n18:10:41 - Librarian 21 : Unfortunately, that is not one of the books in our system\\n18:12:41 - Usera2b03b1a5d : I have found all of my textbooks from the library. It is available as a ILL loan?\\n18:12:53 - Usera2b03b1a5d : *Is it available as a ILL loan\\n18:13:18 - Librarian 21 : There are some schools that have it in different editions.\\n18:13:25 - Librarian 21 : You can make the request.\\n18:14:08 - Librarian 21 : If the school loans it out that will work, if they decline-it ULSMember be because they will not loan textbooks.\\n'"
      ]
     },
     "execution_count": 15,
     "metadata": {},
     "output_type": "execute_result"
    }
   ],
   "source": [
    "one_score['Deidentified_Transcript'].iloc[2]"
   ]
  },
  {
   "cell_type": "code",
   "execution_count": 16,
   "id": "5684cb11-7800-4335-b865-3e8a4473d3f2",
   "metadata": {},
   "outputs": [
    {
     "data": {
      "text/plain": [
       "'Hi, I have a question about Endnote.'"
      ]
     },
     "execution_count": 16,
     "metadata": {},
     "output_type": "execute_result"
    }
   ],
   "source": [
    "one_score['Deidentified_Initial_Question'].iloc[3]"
   ]
  },
  {
   "cell_type": "code",
   "execution_count": 17,
   "id": "619162b6-e948-41d9-9139-0e6b42f8903a",
   "metadata": {},
   "outputs": [
    {
     "data": {
      "text/plain": [
       "'10:22:11 - Librarian 8 : [nameredacted] [nameredacted]\\n10:22:22 - Librarian 8 : What can I help with?\\n10:22:40 - User6ec5e3a48c : In Word, EndNote tab, how can i add a new style?\\n10:23:25 - User6ec5e3a48c : When I choose select  another style, my style is not listed there\\n10:23:49 - Librarian 8 : One moment while I pull up my endnote...\\n10:24:05 - Librarian 8 : What tyep of computer are you using -- Mac or PC?\\n10:24:50 - User6ec5e3a48c : PC\\n10:24:51 - Librarian 8 : and what version of endnote?\\n10:24:56 - User6ec5e3a48c : X9\\n10:25:04 - Librarian 8 : Okay -- one moment\\n10:27:27 - Librarian 8 : Are you trying to create a new style, or loading up a common one that should be available?\\n10:27:57 - User6ec5e3a48c : I must use Breast Cancer Research style.\\n10:28:25 - User6ec5e3a48c : I already have it in Word but it is acting funny and it is not really Breast Cancer Research\\n10:28:39 - User6ec5e3a48c : So I have downloaded it again and want to replace it\\n10:29:06 - Librarian 8 : Sorry this is taking so long, but I have x9 on this computer and had to run for my old laptop for x9\\n10:29:38 - Librarian 8 : Did you update Endnote between the time you reloaded the style?\\n10:31:33 - User6ec5e3a48c : You mean update citations and bibliography\\n10:31:34 - User6ec5e3a48c : ?\\n10:32:51 - Librarian 8 : no, update the Endnote software?\\n10:35:15 - User6ec5e3a48c : No! how?\\n10:35:17 - Librarian 8 : So Breast Cancer Research is a style in Endnote, an I\\'m assuming you\\'ve added it to your \"favorites\" menuuy\\n10:35:32 - Librarian 8 : sorry -- menu in yoru Endnote software.\\n10:36:36 - Librarian 8 : I asked about updates to Endnote software in case that had changed since your Word document started acting \"funny\"\\n10:37:40 - Librarian 8 : From what you are saying to me, you should be okay...however you knnow you aren\\'t.  It would be easier if I could see what is going on with your document.\\n10:38:10 - Librarian 8 : Are you using a laptop?  When is this assignment due?\\n10:39:22 - User6ec5e3a48c : Yes, laptop.\\n10:39:33 - Librarian 8 : I ask in case it might be possible for you to bring your laptop to Hillman so I and my colleagues who use Endnote could see what you are describing.\\n10:39:35 - User6ec5e3a48c : I should submit my manuscript today\\n10:39:45 - User6ec5e3a48c : I am working remotely\\n10:39:55 - User6ec5e3a48c : I am not in Pittsburgh right now\\n10:40:59 - Librarian 8 : ugh.  Okay...then if I were in that situation, I might first try changing my document citations to another style, then back to Breast Cancer Research, in hopes that refreshing the style will solve the glitches.\\n10:41:14 - Librarian 8 : What time ULSMember you need to submit this?\\n10:42:16 - User6ec5e3a48c : Today\\n10:42:32 - Librarian 8 : Hold on for a moment...\\n10:44:29 - Librarian 8 : What is missing from the Breast Cancer Research style?\\n10:45:05 - User6ec5e3a48c : For example, if a citation has more than 9 authors, it should cite the first 9 authors then add et al.\\n10:45:12 - User6ec5e3a48c : but mine doesntrade_mark t ULSMember that\\n10:45:25 - User6ec5e3a48c : Also, cites some journal names funny\\n10:46:16 - Librarian 8 : Okay...you can go into the Endnote software, and change the preferences for the style.\\n10:46:59 - Librarian 8 : You can ULSMember that by gioing to Edit>Output Styles>select the style to edit...\\n10:48:07 - Librarian 8 : then at the bottom of the style record, select th eEdit button...\\n10:48:14 - User6ec5e3a48c : Yes, I have already done that.\\n10:48:25 - User6ec5e3a48c : but that new style does not show up in Word.\\n10:49:12 - Librarian 8 : You went into the left menu and changes the Author List preferences?\\n10:49:36 - User6ec5e3a48c : Where should I ULSMember this?\\n10:50:07 - Librarian 8 : Edit>Output Styles>select the style to edit>select the EDIT button at the bottom right...\\n10:51:10 - Librarian 8 : and you will get a long menu on the left.  For the multiple authors, find the Bibliography submenu, and find the Author List heading...\\n10:52:15 - User6ec5e3a48c : Yes!\\n10:52:16 - Librarian 8 : When you select that, you will see a form that offers options for the Abbreviated Author List\\n10:52:24 - User6ec5e3a48c : What should I ULSMember about journal names?\\n10:52:25 - Librarian 8 : and you can select your preferences\\n10:52:45 - User6ec5e3a48c : For example:Cancer Causes and Control should be Cancer Causes Contro\\n10:52:48 - User6ec5e3a48c : ?\\n10:53:56 - Librarian 8 : There\\'s a Journal Name submenu that offers you three different Journal abbreviation options\\n10:55:45 - User6ec5e3a48c : When I change something in Endnote software, that does not get updated or shown up in Word\\n10:56:07 - User6ec5e3a48c : E.g., I changed the author list (put et al after first 9 authors)\\n10:56:20 - User6ec5e3a48c : but in Word, that does not take effect\\n10:57:03 - Librarian 8 : my suggestion is that once you\\'ve made the preference selections you want, I would then go to your document, and change the citaiton style to another like APA , then back to Breast Cancer Research in order to refresh your style to the new preferences.\\n10:58:54 - Librarian 8 : Unfortunately, I\\'m not an Endnote expert.  I can suggest one or two other options, but they would require more work.\\n11:00:53 - Librarian 8 : I\\'m not familiar with Breast Cancer Research as a style, so I\\'m assuming it uses in-text citations.  If the preferences tweak doesn\\'t work, the other option would be to finish writing your document, and then save it in Word with a different name.\\n11:00:54 - User6ec5e3a48c : Is there an EndNote expert at the Pitt library?\\n11:01:03 - User6ec5e3a48c : This does not work.\\n11:01:19 - User6ec5e3a48c : I still have more than 99 authors in my citations.\\n11:01:32 - User6ec5e3a48c : The same about journal names\\n11:02:45 - Librarian 8 : I can refer you to a colleague, but she consulted with me on this, so I don\\'t think she would have different answers for you.  You are in the health sciences, corredt?\\n11:02:57 - User6ec5e3a48c : yes\\n11:03:23 - Librarian 8 : I can give you the name of the person at the Falk Medical Library to see if she has another idea to solve this.\\n11:03:59 - Librarian 8 : But let me finish the suggestion I was making.   If the preferences tweak doesn\\'t work, the other option would be to finish writing your document, and then save it in Word with a different name.\\n11:04:00 - User6ec5e3a48c : ok\\n11:04:29 - User6ec5e3a48c : I am done with my document\\n11:04:39 - User6ec5e3a48c : this is a scientific manuscript\\n11:04:47 - User6ec5e3a48c : I am submiting my revision work\\n11:04:49 - Librarian 8 : Then without using Endnote, go into the document and make the needed edits in Word alone\\n11:04:58 - User6ec5e3a48c : they say my references style is not correct\\n11:05:16 - User6ec5e3a48c : I have to comply with breast cancer research journal style\\n11:05:36 - Librarian 8 : Well, if they have changes the style since X9, the changes ULSMember have been in the updates, or in the major x( update...\\n11:05:46 - Librarian 8 : sorry the major x9 update.\\n11:05:49 - User6ec5e3a48c : my word EndNote tab says I am using breast cancer research journal style\\n11:05:55 - User6ec5e3a48c : but it is not correct\\n11:07:12 - Librarian 8 : I understand, but supposedly that style is crafted and submitted to the Endnote company by the Breast Cancer Research people.  That is my understanding of how styles are updated\\n11:07:26 - Librarian 8 : Let me give you the HSLS Endnote person...one moment\\n11:09:07 - User6ec5e3a48c : ok\\n11:09:14 - Librarian 8 : Rebekah Miller, [emailredacted]\\nOffice Phone[phoneredacted]\\n11:10:08 - User6ec5e3a48c : The phone # says I should enter telephone ID code\\n11:10:12 - User6ec5e3a48c : what is my code?\\n11:10:52 - Librarian 8 : I have no idea...I copied her contact info from the Pitt directory....one moment\\n11:11:21 - User6ec5e3a48c : ok\\n11:11:24 - User6ec5e3a48c : thanks\\n11:11:26 - User6ec5e3a48c : bye\\n'"
      ]
     },
     "execution_count": 17,
     "metadata": {},
     "output_type": "execute_result"
    }
   ],
   "source": [
    "one_score['Deidentified_Transcript'].iloc[3]"
   ]
  },
  {
   "cell_type": "markdown",
   "id": "278bf19a-0303-4e6f-b221-6c914ad3fd63",
   "metadata": {},
   "source": [
    "The above code is an important place to look for what may be a weakness with some lib chat training. The user rated a 1 here for a clear reason, that is, the moderator clearly (and admittedly) was uncertain about how to assist. The Answerer then passed along the information of another colleague who they still were unsure if they would be of any assistance. I believe a helpful tidbit could be the impact of creating tickets. If we simply created a ticket for the user they may not have received absolute immediate assistance but they would have a gotten a proper answer from someone who was more knowledgable. Instead the user was sent on a loop of non-helpful answers and frankly a bit of attitude in the response. It is clear how this user would have scored this interaction a 1/4.\n",
    "\n",
    "\n",
    "NOTE: The above transcript includes a name that has not been deidentified. Lets continue our analysis."
   ]
  },
  {
   "cell_type": "code",
   "execution_count": 19,
   "id": "eee91709-e27d-4b3a-9013-598d1f15359e",
   "metadata": {},
   "outputs": [
    {
     "data": {
      "text/plain": [
       "'Are there movies available at the library about the history of Jamaica?'"
      ]
     },
     "execution_count": 19,
     "metadata": {},
     "output_type": "execute_result"
    }
   ],
   "source": [
    "one_score['Deidentified_Initial_Question'].iloc[4]"
   ]
  },
  {
   "cell_type": "code",
   "execution_count": 20,
   "id": "cb83f77d-5d7c-445a-885a-5e06750cad67",
   "metadata": {},
   "outputs": [
    {
     "data": {
      "text/plain": [
       "\"10:45:41 - Librarian 10 : [nameredacted] [nameredacted]. Have you checked Pittcat yet for this?\\n10:46:03 - User705c46914f : No I have not yet\\n10:46:19 - Librarian 10 : Since you work here, that would be my first suggestion...\\n10:47:39 - Librarian 10 : Or, you could walk over to Stark and ask Lauren.'\\n10:51:38 - User705c46914f : Okay thank you\\n\""
      ]
     },
     "execution_count": 20,
     "metadata": {},
     "output_type": "execute_result"
    }
   ],
   "source": [
    "one_score['Deidentified_Transcript'].iloc[4]"
   ]
  },
  {
   "cell_type": "markdown",
   "id": "1199d8c8-28af-4b96-8a03-4180fb77b918",
   "metadata": {},
   "source": [
    "Is this above transcript a test or a joke of some sort? "
   ]
  },
  {
   "cell_type": "code",
   "execution_count": 22,
   "id": "c815e8c9-28ea-464b-ba0a-c019cb6956c0",
   "metadata": {},
   "outputs": [
    {
     "data": {
      "text/plain": [
       "\"problems accessing electronic journals!  from off campus. YES I am logged on to Pitt AND  I am using the e-journal link through the library website.   \\nthe website indicates that we have electronic access to the journal 'tectonophysics'  however when I use the link I get sent to a generic science direct site and when I search for the article though tectonophysics on that site I find that we do not have access to anything that is not already ope access.  access to the papers is critical to the research for a new NSF proposal that I am doing.\""
      ]
     },
     "execution_count": 22,
     "metadata": {},
     "output_type": "execute_result"
    }
   ],
   "source": [
    "one_score['Deidentified_Initial_Question'].iloc[5]"
   ]
  },
  {
   "cell_type": "code",
   "execution_count": 23,
   "id": "1344a29f-2a12-4e16-8638-084b00ef75cd",
   "metadata": {},
   "outputs": [
    {
     "data": {
      "text/plain": [
       "\"11:53:59 - Librarian 10 : [nameredacted] [nameredacted]. Let me read over your question.\\n11:56:18 - Librarian 10 : What volumes/years were you looking for in that journal?\\n11:57:14 - User3472c693d5 : 9999, Strain histories from the eastern Central Range of Taiwan: A record of advection through a collisional orogen, Tectonophysics, v. 999, p. 9-99\\n11:57:24 - Librarian 10 : Thanks.\\n12:00:28 - Librarian 10 : Okay. I'm not sure what the problem is from your use, but I can email you the pdf. When you logged onto the library site, were you requested to use your Pitt username and password? That's what allows you to get access off campus.\\n12:08:47 - User3472c693d5 : yeah,  I know that, that is why I specifically said I am LOGGED ON TO THE UNIVERSITY SYSTEM and am actually not having any problems accessing other articles from geoscience world (for example) or AGU sites.(ULSMember) the problem is Science direct.\\n12:09:43 - Librarian 10 : Thanks for clarifying. This is not a library issue, since I was able to ULSMember it from my office, so I suggest that you contact CSSD for an explanation.\\n12:21:48 - User3472c693d5 : Really???  That is your approach?  I would suggest that you as a Pitt librarian (of some flavor) should contact CSSD OR Science direct or your supervisor and indicate the problem.  This is not by any means the first time this has happened and it usually takes Pitt Library working WITH the CSSD to resolve the problem.  clearly most of the links work (I can access several of the journal agglomerates being off campus -- this it is not a problem on my end or technically the CSSD).  Is there someone else in the library system I should be talking to besides a chat?\\n12:22:11 - Librarian 10 : Sorry, but I've has enough abuse from you for one day.\\n\""
      ]
     },
     "execution_count": 23,
     "metadata": {},
     "output_type": "execute_result"
    }
   ],
   "source": [
    "one_score['Deidentified_Transcript'].iloc[5]"
   ]
  },
  {
   "cell_type": "code",
   "execution_count": 24,
   "id": "92d1c63c-7f65-4534-8f5a-6947f61e05c7",
   "metadata": {},
   "outputs": [
    {
     "data": {
      "text/plain": [
       "'What is the APA and MLA style in technical communication'"
      ]
     },
     "execution_count": 24,
     "metadata": {},
     "output_type": "execute_result"
    }
   ],
   "source": [
    "one_score['Deidentified_Initial_Question'].iloc[6]"
   ]
  },
  {
   "cell_type": "code",
   "execution_count": 25,
   "id": "5711db3d-c379-4fab-9ca4-2d8cf5fe24a2",
   "metadata": {},
   "outputs": [
    {
     "data": {
      "text/plain": [
       "'13:34:27 - Librarian 39 : Hello just one moment while I review your question\\n13:34:53 - Userc4e4a0be99 : Tell me full form\\n13:35:07 - Librarian 39 : Are you affiliated with the University of Pittsburgh? Student, staff, or faculty?\\n13:35:30 - Userc4e4a0be99 : Studend\\n13:35:59 - Librarian 39 : You ULSMember find this Library Guide on citation styles useful [linkredacted]\\n'"
      ]
     },
     "execution_count": 25,
     "metadata": {},
     "output_type": "execute_result"
    }
   ],
   "source": [
    "one_score['Deidentified_Transcript'].iloc[6]"
   ]
  },
  {
   "cell_type": "code",
   "execution_count": 26,
   "id": "17c0fd46-f951-4a11-868d-f4b8ecac5dc0",
   "metadata": {},
   "outputs": [
    {
     "data": {
      "text/plain": [
       "'hlep this no help'"
      ]
     },
     "execution_count": 26,
     "metadata": {},
     "output_type": "execute_result"
    }
   ],
   "source": [
    "one_score['Deidentified_Initial_Question'].iloc[7]"
   ]
  },
  {
   "cell_type": "code",
   "execution_count": 27,
   "id": "843c164e-a38b-45f3-ab99-20b24cc480cc",
   "metadata": {},
   "outputs": [
    {
     "data": {
      "text/plain": [
       "\"15:12:46 - Librarian 16 : Hello\\n15:12:50 - User779a23ca43 : hi\\n15:12:53 - Librarian 16 : How can I help you?\\n15:12:55 - User779a23ca43 : i lonly\\n15:13:06 - User779a23ca43 : also\\n15:13:22 - User779a23ca43 : this does not give proper citation form\\n15:14:05 - Librarian 16 : which one is incorrect? I can let our librarians know and they can correct it\\n15:14:26 - User779a23ca43 : all of the\\n15:14:48 - User779a23ca43 : sorry that was my dead cat walking on my keyboard\\n15:15:19 - Librarian 16 : okay I will let the librarians know, is there anything else that I can help you with?\\n15:15:46 - User779a23ca43 : yes i em hungry\\n15:16:07 - User779a23ca43 : sorry that was my dead dog walking on my keyboard\\n15:16:16 - Librarian 16 : well that is not a library related issue, is there anything else library related that I can help you with?\\n15:16:34 - User779a23ca43 : also ULSMember you know where this cirtain citation comes from\\n15:17:10 - User779a23ca43 : Just because there are footnotes doesn’t make it true.9 References to “scientific evidence” are routinely misleading and scammy.\\n\\nA trivial, common example in my job: I got an email from a reader who wanted to make a point he thought I might be interested in. He included a reference to support his point — this is welcome, but quite unusual, as most people are just not that diligent. Unfortunately for his credibility, I actually checked that reference — imagine! — and I quickly realized that the paper did not actually support his point. Like, not even close. It wasn’t ambiguous.2\\n\\nUnfortunately, even professionals can be that careless with their citations. The phenomenon of the bogus citation is almost a\\n15:17:25 - User779a23ca43 : well ULSMember you know ?\\n15:17:28 - Librarian 16 : that is not a citation\\n15:17:39 - User779a23ca43 : yes it is\\n15:17:57 - User779a23ca43 : i got it from website\\n15:18:03 - User779a23ca43 : call your manager\\n15:18:09 - User779a23ca43 : i wana talk\\n15:18:13 - User779a23ca43 : to he or she\\n15:20:00 - User779a23ca43 : attached a file: [linkredacted]\\n15:20:20 - Librarian 16 : This service is for faculty, staff, and students with researcher questions.  From your IP address I see that you are also outside of our area, so we're not able to assist you.\\n\""
      ]
     },
     "execution_count": 27,
     "metadata": {},
     "output_type": "execute_result"
    }
   ],
   "source": [
    "one_score['Deidentified_Transcript'].iloc[7]"
   ]
  },
  {
   "cell_type": "code",
   "execution_count": 28,
   "id": "d358db54-33f1-4017-a179-252c9620e587",
   "metadata": {},
   "outputs": [
    {
     "data": {
      "text/plain": [
       "'help'"
      ]
     },
     "execution_count": 28,
     "metadata": {},
     "output_type": "execute_result"
    }
   ],
   "source": [
    "one_score['Deidentified_Initial_Question'].iloc[8]"
   ]
  },
  {
   "cell_type": "code",
   "execution_count": 29,
   "id": "e84ab447-f422-4ff4-80e1-87df09e8ce6c",
   "metadata": {},
   "outputs": [
    {
     "data": {
      "text/plain": [
       "\"15:22:33 - User779a23ca43 : r u from charlie [nameredacted]?\\n15:23:09 - Librarian 24 : This service is for faculty, staff, and students with researcher questions.  From your IP address I see that you are also outside of our area, so we're not able to assist you.\\n\""
      ]
     },
     "execution_count": 29,
     "metadata": {},
     "output_type": "execute_result"
    }
   ],
   "source": [
    "one_score['Deidentified_Transcript'].iloc[8]"
   ]
  },
  {
   "cell_type": "code",
   "execution_count": 30,
   "id": "c78e05e6-6693-4338-912f-6acc343b72a4",
   "metadata": {},
   "outputs": [
    {
     "data": {
      "text/plain": [
       "'hi'"
      ]
     },
     "execution_count": 30,
     "metadata": {},
     "output_type": "execute_result"
    }
   ],
   "source": [
    "one_score['Deidentified_Initial_Question'].iloc[9]"
   ]
  },
  {
   "cell_type": "code",
   "execution_count": 31,
   "id": "55521aec-9ad6-41ee-a18f-ec31c95e231d",
   "metadata": {},
   "outputs": [
    {
     "data": {
      "text/plain": [
       "\"13:08:24 - Librarian 12 : Hi, how can I help you?\\n13:08:30 - User868920400d : yes\\n13:09:12 - User868920400d : i want to help me to write works cited\\n13:09:32 - User868920400d : by MLA style\\n13:10:07 - Librarian 12 : Are you a student, staff, or faculty of the University of Pittsburgh?\\n13:10:43 - Librarian 12 : You might find something that will help in this guide: [linkredacted]\\n13:11:09 - Librarian 12 : but if you are not affiliated with Pitt, you ULSMember not be able to access all of the resources linked.\\n13:11:24 - User868920400d : I am a student at a university from Egypt\\n13:12:23 - Librarian 12 : This service is for faculty, staff, and students with research questions, but ULSMember take a look at the guide. It ULSMember help you get started. I suggest contacting your university library for further assistance.\\n13:13:25 - Librarian 12 : Is there anything else I can try to assist with today?\\n13:13:59 - User868920400d : My research is in American literature and I want sources to write it\\n13:14:29 - User868920400d : can u help me\\n13:14:34 - User868920400d : ?\\n13:16:38 - Librarian 12 : Again, this service is for Pitt students. That is a very broad topic and since you are not a Pitt student you will not be able to access many of the resources linked in our subject guides. You should contact the library at your university.\\n13:17:05 - Librarian 12 : I'm going to sign off now. Have a nice weekend!\\n13:17:29 - User868920400d : shit....\\n\""
      ]
     },
     "execution_count": 31,
     "metadata": {},
     "output_type": "execute_result"
    }
   ],
   "source": [
    "one_score['Deidentified_Transcript'].iloc[9]"
   ]
  },
  {
   "cell_type": "code",
   "execution_count": 32,
   "id": "967aab2c-71c2-463f-8f7c-5c64dbc182c7",
   "metadata": {},
   "outputs": [
    {
     "data": {
      "text/plain": [
       "'bitch'"
      ]
     },
     "execution_count": 32,
     "metadata": {},
     "output_type": "execute_result"
    }
   ],
   "source": [
    "one_score['Deidentified_Initial_Question'].iloc[10]"
   ]
  },
  {
   "cell_type": "code",
   "execution_count": 33,
   "id": "97a209dc-5afa-4b84-b55d-219eb70996fc",
   "metadata": {},
   "outputs": [
    {
     "data": {
      "text/plain": [
       "'15:38:05 - Librarian 50 : Hello!\\n15:38:16 - Patron : asshole,dick\\n'"
      ]
     },
     "execution_count": 33,
     "metadata": {},
     "output_type": "execute_result"
    }
   ],
   "source": [
    "one_score['Deidentified_Transcript'].iloc[10]"
   ]
  },
  {
   "cell_type": "code",
   "execution_count": 34,
   "id": "8759a4a5-609a-4a79-b175-ed05ef9d858e",
   "metadata": {},
   "outputs": [
    {
     "data": {
      "text/plain": [
       "'I am looking for Musketeers of Pig Alley by DW Griffith. It is in one of this two-volume collection: [linkredacted]\\n\\nIs there no way to find a table of contents for each volume and a time stamp for where this specific film is?'"
      ]
     },
     "execution_count": 34,
     "metadata": {},
     "output_type": "execute_result"
    }
   ],
   "source": [
    "one_score['Deidentified_Initial_Question'].iloc[11]"
   ]
  },
  {
   "cell_type": "code",
   "execution_count": 35,
   "id": "735e0c13-72a5-45bd-bd63-df8d8fbfea51",
   "metadata": {},
   "outputs": [
    {
     "data": {
      "text/plain": [
       "\"10:31:48 - Librarian 2 : Hello, I'll take a look to see what I can find. But I ULSMember need to forward your inquiry to our Stark Media Services.\\n10:35:24 - Librarian 2 : [linkredacted]\\n10:35:43 - Librarian 2 : It looks like there's a copy at Thomas Blvd\\n10:38:02 - Librarian 2 : I'm checking to see how this request can be fulfilled. You'll need to view the film in Since Stark Media Services, which is closed at the moment,\\n10:40:27 - Librarian 2 : I'm making a inquiry ticket for the Stark dept to answer.\\n10:41:36 - Librarian 2 : A ticket was submitted for your request, is there anything else that I can answer?\\n10:47:17 - Usercf6c9004f0 : I am looking for the streaming version. That is the link I included here. I don't need or want anything from Thomas Blv. If you go to the link I included here, you will see that the entire vol. 9 and col. 9 are streaming. But individual films aren't marked. This is the link again: [linkredacted]\\n10:48:21 - Librarian 2 : Ok, the ticket was submitted and you'll receive an answer. They'll have a transcript of this chat\\n\""
      ]
     },
     "execution_count": 35,
     "metadata": {},
     "output_type": "execute_result"
    }
   ],
   "source": [
    "one_score['Deidentified_Transcript'].iloc[11]"
   ]
  },
  {
   "cell_type": "code",
   "execution_count": 36,
   "id": "234ff634-5b51-4f28-92c3-e4d51bb49ee6",
   "metadata": {},
   "outputs": [
    {
     "data": {
      "text/plain": [
       "'I need three DVDs to teach my film course starting this Wednesday (9999, 9999, and 9999).  The course is RUSS 9999 (Stalin at the Movies).  How do I arrange to pick them up?\\n\\nIn addition, I need several chapters of books scanned for the course.  How do I get this done?\\n\\nThank you.'"
      ]
     },
     "execution_count": 36,
     "metadata": {},
     "output_type": "execute_result"
    }
   ],
   "source": [
    "one_score['Deidentified_Initial_Question'].iloc[12]"
   ]
  },
  {
   "cell_type": "code",
   "execution_count": 37,
   "id": "1c3729be-7f1a-4872-b573-9ad9b01fe59c",
   "metadata": {},
   "outputs": [
    {
     "data": {
      "text/plain": [
       "\"11:03:02 - Librarian 51 : [nameredacted] [nameredacted]!\\n11:03:07 - Librarian 51 : Sorry for the wait\\n11:03:24 - Librarian 51 : You can request these DVDs from our catalog\\n11:04:50 - Librarian 51 : Once you've requested them, you will receive a notification that the're ready for pickup, and you will be able to pick them up outside of Hillman Library during one of our no-contact pickup times.\\n11:05:44 - Librarian 51 : You can also make chapter scan requests directly from our catalog\\n11:06:29 - Librarian 51 : From the record of each book\\n11:11:42 - Librarian 51 : If the book  is available through Hathitrust, the book's record will tell you this and you can download the chapters you need from there.\\n11:18:54 - Librarian 51 : I hope this was helpful! Please reach out if you have any other questions.\\n\""
      ]
     },
     "execution_count": 37,
     "metadata": {},
     "output_type": "execute_result"
    }
   ],
   "source": [
    "one_score['Deidentified_Transcript'].iloc[12]"
   ]
  },
  {
   "cell_type": "code",
   "execution_count": 38,
   "id": "cdd900ca-a7da-4b5b-9518-3683efe0604c",
   "metadata": {},
   "outputs": [
    {
     "data": {
      "text/plain": [
       "'[linkredacted]'"
      ]
     },
     "execution_count": 38,
     "metadata": {},
     "output_type": "execute_result"
    }
   ],
   "source": [
    "one_score['Deidentified_Initial_Question'].iloc[13]"
   ]
  },
  {
   "cell_type": "code",
   "execution_count": 39,
   "id": "3e60ef13-bbec-4276-9bc1-b44e33b249d5",
   "metadata": {},
   "outputs": [
    {
     "data": {
      "text/plain": [
       "\"15:52:19 - Librarian 57 : Hello, how can I help you today?\\n15:53:01 - Userd43e22b7e1 : sorry, but ive been having trouble getting into IEEE right now. Can you send me the article at this link?\\n15:53:08 - Userd43e22b7e1 : [linkredacted]\\n15:54:43 - Librarian 57 : let me check our library catalog\\n15:54:48 - Userd43e22b7e1 : thanks\\n15:58:38 - Librarian 57 : if you go to pittcat.pitt.edu, and click sign in at the top right, you should then be able to access the article\\n16:00:22 - Userd43e22b7e1 : i am not able to. can you send it please\\n16:04:39 - Userd43e22b7e1 : ?\\n16:07:59 - Librarian 57 : I'm not sure why PittCat is not letting you log in.  I will create a help ticket, and a librarian will contact you shortly.\\n16:08:30 - Userd43e22b7e1 : are you able to send me the article as well?\\n16:09:44 - Librarian 57 : You should receive an email from a librarian shortly with further assistance.  Thank you.\\n\""
      ]
     },
     "execution_count": 39,
     "metadata": {},
     "output_type": "execute_result"
    }
   ],
   "source": [
    "one_score['Deidentified_Transcript'].iloc[13]"
   ]
  },
  {
   "cell_type": "code",
   "execution_count": 40,
   "id": "66667441-97b8-42fc-97fa-92915e8b25d4",
   "metadata": {},
   "outputs": [
    {
     "data": {
      "text/plain": [
       "'How can I see the chronicle of education through my pitt email? How can I access this article, \"oregon considers big changes in governance of higher education\" by Eric Kelderman on 9/9/99?'"
      ]
     },
     "execution_count": 40,
     "metadata": {},
     "output_type": "execute_result"
    }
   ],
   "source": [
    "one_score['Deidentified_Initial_Question'].iloc[14]"
   ]
  },
  {
   "cell_type": "code",
   "execution_count": 41,
   "id": "a213e7b2-7237-4534-927f-b6e260981afa",
   "metadata": {},
   "outputs": [
    {
     "data": {
      "text/plain": [
       "'14:56:14 - Librarian 61 : Hello... let me take a look.\\n14:56:21 - Userb1cab7154b : ok\\n15:00:01 - Userb1cab7154b : you still there?\\n15:00:13 - Librarian 61 : Yes, still looking.\\n15:00:20 - Userb1cab7154b : Ok, thanks\\n15:00:42 - Userb1cab7154b : When I click on the link, it just take me to the chronicle of higher ULSMember but it does not show up the article\\n15:01:16 - Librarian 61 : Yes, I am having the same problem.  I am trying to find other options.\\n15:01:59 - Userb1cab7154b : i know i mentioned this, but how ULSMember I access premimum articles and other articles in chronicle through pitt?\\n15:03:10 - Librarian 61 : I think it would be best for me to pass this on to a colleague that is more qualified to help you with this.  You will receive an email from someone in a short time.\\n15:03:20 - Userb1cab7154b : hmmm...ok\\n'"
      ]
     },
     "execution_count": 41,
     "metadata": {},
     "output_type": "execute_result"
    }
   ],
   "source": [
    "one_score['Deidentified_Transcript'].iloc[14]"
   ]
  },
  {
   "cell_type": "code",
   "execution_count": 42,
   "id": "feaa7db5-a552-47bf-bc41-0e7244680519",
   "metadata": {},
   "outputs": [
    {
     "data": {
      "text/plain": [
       "'trying to call in, but no one picking up the[phoneredacted] number'"
      ]
     },
     "execution_count": 42,
     "metadata": {},
     "output_type": "execute_result"
    }
   ],
   "source": [
    "one_score['Deidentified_Initial_Question'].iloc[15]"
   ]
  },
  {
   "cell_type": "code",
   "execution_count": 43,
   "id": "5933e853-0aaa-460b-8eba-a01dc7458a41",
   "metadata": {},
   "outputs": [
    {
     "data": {
      "text/plain": [
       "\"12:49:34 - Librarian 23 : [nameredacted], I am sorry you didnt get through.\\xa0 is there something I can help you with?\\n12:49:44 - User24ea1178e3 : what's the number of the hillman front desk?\\n12:50:08 - Librarian 23 : You have the correct number.\\n12:50:25 - User24ea1178e3 : ok, usually they pick up so i thought i had the wrong one\\n12:50:47 - User24ea1178e3 : can i talk to someone over the phone now?\\n12:51:45 - Librarian 23 : You would need to call back to talk to someone on the phone. I am not at the desk so I ULSMember not know if anyone is available right now.\\n12:52:24 - User24ea1178e3 : i submitted an ILL request for this book but i'm not sure if there's a way to get it faster since i need it this week for a class. •\\tAnalytics at Work: Smarter Decisions, Better Results (“Analytics”) by Thomas H. Davenport, Jeanne G. ULSMember, and ULSMember Morison; Published by Harvard Business School Publishing Corporation in 9999\\n12:53:16 - Librarian 23 : Let me look into that.\\xa0 It ULSMember take\\xa0 afew minutes.\\n12:53:28 - User24ea1178e3 : perfect, thank you. on pitt cat, the item says it's missing or something\\n12:59:42 - Librarian 23 : I can not locate an available print copy nor an electronic copy.\\xa0 was the best option.\\n13:01:37 - Librarian 23 : ILL was the best option\\n13:06:50 - Librarian 23 : [nameredacted], please ULSMember not hesitate to contact the library via phone or chat if you have further questions.\\xa0 Have a great day.\\n\""
      ]
     },
     "execution_count": 43,
     "metadata": {},
     "output_type": "execute_result"
    }
   ],
   "source": [
    "one_score['Deidentified_Transcript'].iloc[15]"
   ]
  },
  {
   "cell_type": "code",
   "execution_count": 44,
   "id": "dc8c1388-6381-49a8-bb3b-7708000ac0d1",
   "metadata": {},
   "outputs": [
    {
     "data": {
      "text/plain": [
       "'since the format of the online interface has changed, I am not sure what code I have to specify for ENDNOTE citation export'"
      ]
     },
     "execution_count": 44,
     "metadata": {},
     "output_type": "execute_result"
    }
   ],
   "source": [
    "one_score['Deidentified_Initial_Question'].iloc[16]"
   ]
  },
  {
   "cell_type": "code",
   "execution_count": 45,
   "id": "19a97930-af71-4f78-922e-6d9af63a2b7f",
   "metadata": {},
   "outputs": [
    {
     "data": {
      "text/plain": [
       "\"14:01:53 - Librarian 45 : Hello! I am not too familiar with this topic, but let me see who I can reroute you to. Just one moment while I check, please! :)\\n14:02:05 - User23119a5db6 : ok thanks\\n14:03:50 - Librarian 45 : You might already be aware of this resource, but here is a link to our LibGuide with tips on ENDNOTE: [linkredacted]\\n14:04:24 - Librarian 45 : If that is not what you were looking for, I will go ahead and make you a ticket so your question can be re-routed to a staff member that has a little more knowledge with ENDNOTE citation exports.\\n14:09:20 - User23119a5db6 : No, this has nothing to ULSMember with ENDNOTE or knowing how to use it.  I used to be able to click a button to export the citation on the right top corner of each source on the Pittcat system; now, when I ULSMember that it asks me for an specific encoding among listed options.  if you ULSMember not have an answer, it's fine.\\n14:10:15 - Librarian 45 : Ok! I will go ahead and create a ticket from our conversation. Is there anything else I can help you with today?\\n14:10:32 - User23119a5db6 : no thanks\\n\""
      ]
     },
     "execution_count": 45,
     "metadata": {},
     "output_type": "execute_result"
    }
   ],
   "source": [
    "one_score['Deidentified_Transcript'].iloc[16]"
   ]
  },
  {
   "cell_type": "code",
   "execution_count": 46,
   "id": "7346e3f4-edfb-4ddc-95ff-308bc9c79ca3",
   "metadata": {},
   "outputs": [
    {
     "data": {
      "text/plain": [
       "'I need their language'"
      ]
     },
     "execution_count": 46,
     "metadata": {},
     "output_type": "execute_result"
    }
   ],
   "source": [
    "one_score['Deidentified_Initial_Question'].iloc[17]"
   ]
  },
  {
   "cell_type": "code",
   "execution_count": 47,
   "id": "31dae09f-21b5-42b0-9a44-6038c1eaddeb",
   "metadata": {},
   "outputs": [
    {
     "data": {
      "text/plain": [
       "'15:44:10 - Librarian 41 : hello, how ULSMember I help you?\\n15:44:59 - Patron : West Africa countries and their language\\n15:45:50 - Patron : Am waiting\\n15:45:50 - Librarian 41 : I would be happy to look into that for you. Is there an email I can reach you to follow-up?\\n15:46:06 - Patron : No\\n'"
      ]
     },
     "execution_count": 47,
     "metadata": {},
     "output_type": "execute_result"
    }
   ],
   "source": [
    "one_score['Deidentified_Transcript'].iloc[17]"
   ]
  },
  {
   "cell_type": "code",
   "execution_count": 48,
   "id": "3b4840c7-b378-48ac-8aa9-39bf9ef55316",
   "metadata": {},
   "outputs": [
    {
     "data": {
      "text/plain": [
       "'thesis'"
      ]
     },
     "execution_count": 48,
     "metadata": {},
     "output_type": "execute_result"
    }
   ],
   "source": [
    "one_score['Deidentified_Initial_Question'].iloc[18]"
   ]
  },
  {
   "cell_type": "code",
   "execution_count": 49,
   "id": "cf84010f-1454-410f-8baa-19fd0a4ec6a0",
   "metadata": {},
   "outputs": [
    {
     "data": {
      "text/plain": [
       "'15:35:19 - Librarian 12 : Hi, [nameredacted] -\\xa0\\n15:35:20 - User2efe11e80f : Hi, [nameredacted]. I graduated from Pitt in 9999.\\n15:35:29 - Librarian 12 : What can we help with today?\\n'"
      ]
     },
     "execution_count": 49,
     "metadata": {},
     "output_type": "execute_result"
    }
   ],
   "source": [
    "one_score['Deidentified_Transcript'].iloc[18]"
   ]
  },
  {
   "cell_type": "code",
   "execution_count": 50,
   "id": "6c424e13-db00-40b5-87fa-4e66baa4ccf9",
   "metadata": {},
   "outputs": [
    {
     "data": {
      "text/plain": [
       "'Yuhrhhhfhhf'"
      ]
     },
     "execution_count": 50,
     "metadata": {},
     "output_type": "execute_result"
    }
   ],
   "source": [
    "one_score['Deidentified_Initial_Question'].iloc[19]"
   ]
  },
  {
   "cell_type": "code",
   "execution_count": 51,
   "id": "47d0db83-b7b8-48c1-a10e-b3946cc6bd5d",
   "metadata": {},
   "outputs": [
    {
     "data": {
      "text/plain": [
       "'14:39:02 - Patron : How are you?\\n'"
      ]
     },
     "execution_count": 51,
     "metadata": {},
     "output_type": "execute_result"
    }
   ],
   "source": [
    "one_score['Deidentified_Transcript'].iloc[19]"
   ]
  },
  {
   "cell_type": "code",
   "execution_count": 52,
   "id": "aaceaeaa-ce48-4350-9b52-9ddcf1af26b0",
   "metadata": {},
   "outputs": [
    {
     "data": {
      "text/plain": [
       "\"The link for this article doesn't take you to the article. Connecting Structures: Resistance, Heroic Masculinity and Anti-Feminism as Bridging Narratives within Group Radicalization\""
      ]
     },
     "execution_count": 52,
     "metadata": {},
     "output_type": "execute_result"
    }
   ],
   "source": [
    "one_score['Deidentified_Initial_Question'].iloc[20]"
   ]
  },
  {
   "cell_type": "code",
   "execution_count": 53,
   "id": "31d6711a-1e71-4b24-969e-d0f15ee538e4",
   "metadata": {},
   "outputs": [
    {
     "data": {
      "text/plain": [
       "'15:26:42 - Usered22ce3075 : Hello?\\n15:29:40 - Librarian 80 : A ticket has been created. Thank you for alerting us that the link is not working. Is there anything else I can help you with?\\n'"
      ]
     },
     "execution_count": 53,
     "metadata": {},
     "output_type": "execute_result"
    }
   ],
   "source": [
    "one_score['Deidentified_Transcript'].iloc[20]"
   ]
  },
  {
   "cell_type": "code",
   "execution_count": 54,
   "id": "c3d81fba-30ab-4553-a359-f2b4dae6e5a1",
   "metadata": {},
   "outputs": [
    {
     "data": {
      "text/plain": [
       "'Hello wanted to know if I can use the library in person and use electronic resources to look up research studies.'"
      ]
     },
     "execution_count": 54,
     "metadata": {},
     "output_type": "execute_result"
    }
   ],
   "source": [
    "one_score['Deidentified_Initial_Question'].iloc[21]"
   ]
  },
  {
   "cell_type": "code",
   "execution_count": 55,
   "id": "76203cf7-38da-4a2a-a2a7-f4c1683377ba",
   "metadata": {},
   "outputs": [
    {
     "data": {
      "text/plain": [
       "'13:21:30 - Librarian 41 : Hello, thank you for contacting us\\n13:21:47 - Librarian 41 : At this time, libraries on-campus are available to those individuals with a current Pitt ID\\n13:22:23 - Userf2611b7fab : So this mean No, right. As an alumni I ULSMember not hold a current ID\\n13:22:50 - Librarian 41 : that is correct, all buildings on-campus are limited to current Pitt students, faculty, and staff\\n13:23:01 - Librarian 41 : Is there anything more I can assist you with for now?\\n'"
      ]
     },
     "execution_count": 55,
     "metadata": {},
     "output_type": "execute_result"
    }
   ],
   "source": [
    "one_score['Deidentified_Transcript'].iloc[21]"
   ]
  },
  {
   "cell_type": "code",
   "execution_count": 56,
   "id": "44867756-f7ed-4ae1-aeef-6fecc8c3c0ce",
   "metadata": {},
   "outputs": [
    {
     "data": {
      "text/plain": [
       "'I am trying to have access to this article. T cells as antigen-presenting cells'"
      ]
     },
     "execution_count": 56,
     "metadata": {},
     "output_type": "execute_result"
    }
   ],
   "source": [
    "one_score['Deidentified_Initial_Question'].iloc[22]"
   ]
  },
  {
   "cell_type": "code",
   "execution_count": 57,
   "id": "e6b4caf0-f687-47df-bdff-b119f52e4b7f",
   "metadata": {},
   "outputs": [
    {
     "data": {
      "text/plain": [
       "'11:03:36 - Userae2e82694b : [nameredacted] [nameredacted]\\n11:03:57 - Librarian 23 : Hello, let me see if there is access to this article.\\n11:04:15 - Userae2e82694b : Thank you, [nameredacted].\\n11:07:35 - Userae2e82694b : Were you able to find it?\\n11:08:39 - Librarian 23 : It appears we have access to this in print format please follow this link to login and request a copy\\xa0[linkredacted]\\xa0\\n11:11:43 - Userae2e82694b : Will try it now\\n11:13:33 - Librarian 23 : <ul><li>I noticed you have an UPMC email address, please visit\\xa0[linkredacted]\\xa0to review further options.\\xa0</li></ul>\\n11:15:07 - Userae2e82694b : Would you mind send the print link? Am not able to access it.\\n11:18:40 - Userae2e82694b : [emailredacted]\\n11:20:08 - Librarian 23 : I recommend contacting the Health Sciences Library System if you are having trouble accessing this title. The Health Sciences Library System handles requests from UPMC. Information on the Health Sciences Library can be found here\\xa0[linkredacted]\\xa0\\n11:21:00 - Userae2e82694b : Thanks\\n'"
      ]
     },
     "execution_count": 57,
     "metadata": {},
     "output_type": "execute_result"
    }
   ],
   "source": [
    "one_score['Deidentified_Transcript'].iloc[22]"
   ]
  },
  {
   "cell_type": "code",
   "execution_count": 58,
   "id": "e6d4441a-7b89-4303-badb-ecdbae2ad8d7",
   "metadata": {},
   "outputs": [
    {
     "data": {
      "text/plain": [
       "'I would like to explore access to the Jay F. Rosenberg papers'"
      ]
     },
     "execution_count": 58,
     "metadata": {},
     "output_type": "execute_result"
    }
   ],
   "source": [
    "one_score['Deidentified_Initial_Question'].iloc[23]"
   ]
  },
  {
   "cell_type": "code",
   "execution_count": 59,
   "id": "d7c13b48-2759-4997-b912-b89017c1ac94",
   "metadata": {},
   "outputs": [
    {
     "data": {
      "text/plain": [
       "'13:34:45 - Userd96a855aa2 : I would like to access his PhD dissertation and an assortment of unpublished papers\\n13:35:00 - Librarian 50 : [nameredacted] [nameredacted]\\n13:35:27 - Userd96a855aa2 : Hello.  Thank you (request above)\\n13:36:29 - Librarian 50 : I\\'m sorry, I see that you had previously been chatting with my colleague, ULSMember. I, too, am going to suggest that you contact\\xa0[linkredacted]\\n13:37:11 - Userd96a855aa2 : I got to you by clicking on the link she provided at the conclusion of my chat with her.\\n13:37:50 - Librarian 50 : I\\'m not sure how that happened...technology!\\n13:38:01 - Userd96a855aa2 : I am on the Ask An Archivist page.  Maybe I don\\'t understand what you mean by \"contact\" them\\n13:38:59 - Librarian 50 : Ask an archivist is a different service offered by the University Library\\n13:39:14 - Userd96a855aa2 : I have already sent an email using the directions on that page but have not received a response\\n13:40:43 - Librarian 50 : The Ask An Archivist service receives a lot of questions and it make take some time before you get a reply.\\n13:40:52 - Librarian 50 : When did you contact them?\\n13:41:01 - Userd96a855aa2 : I\\'ll check\\n13:42:02 - Userd96a855aa2 : Well, no; I cannot check since I have no record of the attempted contact.  I would say one to two weeks ago.\\n13:42:25 - Librarian 50 : You ULSMember want to try and ask your question again then,\\n13:42:35 - Userd96a855aa2 : thank you\\n13:43:01 - Librarian 50 : Thank you for contacting us!\\n13:43:08 - Librarian 50 : And have a ULSMember day!\\n13:43:11 - Librarian 50 : Bye\\n'"
      ]
     },
     "execution_count": 59,
     "metadata": {},
     "output_type": "execute_result"
    }
   ],
   "source": [
    "one_score['Deidentified_Transcript'].iloc[23]"
   ]
  },
  {
   "cell_type": "code",
   "execution_count": 60,
   "id": "0ad9f590-da8b-46f2-b631-6e229cf4f150",
   "metadata": {},
   "outputs": [
    {
     "data": {
      "text/plain": [
       "nan"
      ]
     },
     "execution_count": 60,
     "metadata": {},
     "output_type": "execute_result"
    }
   ],
   "source": [
    "one_score['Deidentified_Initial_Question'].iloc[24]"
   ]
  },
  {
   "cell_type": "code",
   "execution_count": 61,
   "id": "cf6d59c8-c1d0-4ebc-9293-8245c8ae6872",
   "metadata": {},
   "outputs": [
    {
     "data": {
      "text/plain": [
       "\"09:48:44 - Librarian 82 : Hi how can we help\\n09:51:22 - User329892aa0e : I am the chair of a recently defended and submitted dissertation in DSAS. The EDT Approval form was filled out by the committee and myself  . . . excelt for my signature (second time) on the first page of the form. My student informs me that I can send a letter to to the Graduate Office saying that I have reviewed the submitted version and approve it. To whom should I address such a letter?\\n09:51:33 - User329892aa0e : except\\n09:53:02 - User329892aa0e : [nameredacted]?\\n09:53:07 - Librarian 82 : This can be addressed to whom ever is the schools approver\\xa0\\n09:53:27 - User329892aa0e : Would you happen to know who that is?\\n09:54:09 - Librarian 82 : I'm sorry I ULSMember not, however I remember this question from earlier and I believe the student had an email for them\\xa0\\xa0\\n09:54:37 - User329892aa0e : Never mind. Thanks.\\n09:54:55 - Librarian 82 : Have a ULSMember one\\xa0\\n\""
      ]
     },
     "execution_count": 61,
     "metadata": {},
     "output_type": "execute_result"
    }
   ],
   "source": [
    "one_score['Deidentified_Transcript'].iloc[24]"
   ]
  },
  {
   "cell_type": "code",
   "execution_count": 62,
   "id": "a1897bf7-9f15-4bbb-b5c1-423a07e74753",
   "metadata": {},
   "outputs": [
    {
     "data": {
      "text/plain": [
       "\"Hi. I have a book out that is due today; however, I'm out of town for Spring Break. Can yinz grant me a week extension? Thank you. -Andy [nameredacted], Classics Dept.\""
      ]
     },
     "execution_count": 62,
     "metadata": {},
     "output_type": "execute_result"
    }
   ],
   "source": [
    "one_score['Deidentified_Initial_Question'].iloc[25]"
   ]
  },
  {
   "cell_type": "code",
   "execution_count": 63,
   "id": "b1fb4fbf-0066-4159-bfad-a28be0661bfa",
   "metadata": {},
   "outputs": [
    {
     "data": {
      "text/plain": [
       "\"10:09:13 - Userf9e1d818b1 : Hi, [nameredacted].\\n10:09:54 - Librarian 38 : Hello, I cannot renew your items. I'll have to create a help ticket and someone will get to you directly. Can you provide the best email address to reach you?<br />\\n10:10:48 - Userf9e1d818b1 : [emailredacted]\\n10:10:57 - Librarian 38 : Excellent, someone will get back to you soon!<br />\\n10:10:57 - Userf9e1d818b1 : I'll keep an eye out for an email then.\\n10:11:04 - Userf9e1d818b1 : Thanks! Enjoy Break!\\n10:11:04 - Librarian 38 : Please ULSMember not hesitate to ask us if you have any additional questions. Have a great day!I\\n\""
      ]
     },
     "execution_count": 63,
     "metadata": {},
     "output_type": "execute_result"
    }
   ],
   "source": [
    "one_score['Deidentified_Transcript'].iloc[25]"
   ]
  },
  {
   "cell_type": "code",
   "execution_count": 64,
   "id": "b1523d16-2857-4e1d-81ee-c7c53f42f17c",
   "metadata": {},
   "outputs": [
    {
     "data": {
      "text/plain": [
       "'I need this book. Do you have it?\\n\\nThe Bethesda System for Reporting Thyroid Cytopathology (third edition)'"
      ]
     },
     "execution_count": 64,
     "metadata": {},
     "output_type": "execute_result"
    }
   ],
   "source": [
    "one_score['Deidentified_Initial_Question'].iloc[26]"
   ]
  },
  {
   "cell_type": "code",
   "execution_count": 65,
   "id": "f84a7bd5-4e04-411b-b83c-98388448fcc2",
   "metadata": {},
   "outputs": [
    {
     "data": {
      "text/plain": [
       "\"14:32:40 - Librarian 72 : [nameredacted] [nameredacted]<br />\\n14:32:45 - Librarian 72 : Let me check<br />\\n14:35:31 - Librarian 72 : [nameredacted] [nameredacted].\\xa0 I'm sorry, it is not in our system.\\xa0 I see you are UPMC though, so let me check in the EZBorrow system<br />\\n14:37:53 - Librarian 72 : The second edition is available through EZBorrow:\\xa0 [linkredacted]\\xa0\\xa0 But the 9rd edition is not available.\\xa0 You can put in an interlibrary loan for the book here if needed:\\xa0 [linkredacted]<br />\\n14:38:15 - Librarian 72 : Can I help you with anything else today?<br />\\n14:42:45 - Librarian 72 : If you need anything else, please feel free to send us another question.\\xa0 Have a great day!<br />\\n\""
      ]
     },
     "execution_count": 65,
     "metadata": {},
     "output_type": "execute_result"
    }
   ],
   "source": [
    "one_score['Deidentified_Transcript'].iloc[26]"
   ]
  },
  {
   "cell_type": "code",
   "execution_count": 66,
   "id": "c7ac3c09-954f-403d-a786-2976ec0273a0",
   "metadata": {},
   "outputs": [
    {
     "data": {
      "text/plain": [
       "'what football team did stephen like'"
      ]
     },
     "execution_count": 66,
     "metadata": {},
     "output_type": "execute_result"
    }
   ],
   "source": [
    "one_score['Deidentified_Initial_Question'].iloc[27]"
   ]
  },
  {
   "cell_type": "code",
   "execution_count": 67,
   "id": "d02a2431-0b72-4f7a-ac6c-44e51b47f57d",
   "metadata": {},
   "outputs": [
    {
     "data": {
      "text/plain": [
       "\"13:51:43 - Librarian 19 : Hello, [nameredacted]. Can you clarify your question? That sounds like a question about a specific person's interests.<br />\\n13:52:33 - User2aad6a3e8f : did stephen foster like and football teams\\n13:53:42 - Librarian 19 : I'm not sure football was invented during Foster's lifetime. <br />\\n13:54:48 - User2aad6a3e8f : it was 9999 it got invented so did he play any sorts like football\\n13:54:59 - User2aad6a3e8f : sports not sorts\\n13:55:25 - Librarian 19 : Stephen Foster died in 9999. <br />\\n\""
      ]
     },
     "execution_count": 67,
     "metadata": {},
     "output_type": "execute_result"
    }
   ],
   "source": [
    "one_score['Deidentified_Transcript'].iloc[27]"
   ]
  },
  {
   "cell_type": "code",
   "execution_count": 68,
   "id": "a76bb4d0-dd8c-4d10-82b8-6393c5dab54e",
   "metadata": {
    "tags": []
   },
   "outputs": [],
   "source": [
    "four_score = chat_data.loc[chat_data['Rating (0-4)'] == 4].copy()\n"
   ]
  },
  {
   "cell_type": "code",
   "execution_count": 69,
   "id": "fe5c4be0-0135-4d93-aa5d-57fcea2c3d00",
   "metadata": {
    "tags": []
   },
   "outputs": [
    {
     "data": {
      "text/plain": [
       "'I have a question about Carnegie Mellon University Faculty borrowing.  Are the considered Special Patrons (i.e. limited to 99 books), if not what is their borrowing limit?'"
      ]
     },
     "execution_count": 69,
     "metadata": {},
     "output_type": "execute_result"
    }
   ],
   "source": [
    "four_score['Deidentified_Initial_Question'].iloc[27]"
   ]
  },
  {
   "cell_type": "code",
   "execution_count": 70,
   "id": "2e33a992-82e5-4b97-b65d-909f68768230",
   "metadata": {
    "tags": []
   },
   "outputs": [
    {
     "name": "stdout",
     "output_type": "stream",
     "text": [
      "10:43:39 - Librarian 11 : [nameredacted] [nameredacted]. Give me one moment to read your question\n",
      "10:43:53 - User8a8227750b : np . thanks [nameredacted]\n",
      "10:46:35 - Librarian 11 : So they are considered special borrowers but they would be able to take out an unlimited number of books which would circulate for one term\n",
      "10:46:57 - Librarian 11 : [linkredacted]\n",
      "10:47:39 - User8a8227750b : thank you .. and for renewals, theytrade_mark d need to bring back but can they renew then (if no hold is placed)?\n",
      "10:49:30 - Librarian 11 : They would be able to renew them without bringing them back as long as no holds are placed but that's only for as long as their Special Borrower's card is valid.  Which is for an academic year- if they got one today it would be valid until 9/99/9999\n",
      "10:50:12 - User8a8227750b : great .. thanks for the clarification.  Very helpful\n",
      "10:50:45 - Librarian 11 : The PDF I sent you contains information on Special Borrower's cards and has a section regarding our loan policies for CMU borrowers.  But if I can be of any further help please let me know\n",
      "\n"
     ]
    }
   ],
   "source": [
    "print(four_score['Deidentified_Transcript'].iloc[27])"
   ]
  },
  {
   "cell_type": "markdown",
   "id": "02cd1e39-0623-4c75-b4f3-dc4b30870a01",
   "metadata": {},
   "source": [
    "### Thoughts from 1 rated Chat Analysis"
   ]
  },
  {
   "cell_type": "markdown",
   "id": "d19c4076-5c5f-47a8-afb0-2101c4b1bdbd",
   "metadata": {},
   "source": [
    "After doing a deeper dive into the transcripts behind the poor ratings, I noticed a few patterns. I believe the majority of poorly rated interactions can be boiled down to _ categgories:\n",
    "1.) Patron comes into interaction already upset\n",
    "\n",
    "In these examples, patrons initial questions are telling of their mood. They use alot of capitalization, exclamations, and exaggerated claims. No matter how helpful the ULS member tries to be, unless the matter is instantaneously resolved that patron rates the interaction poorly. The next point is separate but builds on this.\n",
    "\n",
    "2.) Interaction cannot be resolved immediately\n",
    "\n",
    "In this instance, a patron can come into the interaction positive or even neutral but if their inquiry is not resolved within the chat they rate the interaction poorly. This includes times when staff appropriately passes along their inquiry to another expert, not due to incompetence, but purely because the patrons request was too nuanced to be handled directly through chat.\n",
    "\n",
    "3.) ULS Member drags interaction out when they know they do not have the answers the patron is searching for\n",
    "\n",
    "I noticed in these instances, ULS member attempts to be helpful, but extends the interaction beyond their capabilities. For example, a few chats see a moderator admit to not knowing much about a topic but then continue to give repetitive advice/information that the patron has communicated is not helpful to them in that instance. I believe this is where staff can do a better job of recognizing when an interaction should be referred to a ticket.\n",
    "\n",
    "4.) Prank Chats\n",
    "\n",
    "These are interactions that are blatant jokes, pranks, or 'trolls' but a user. They attempt to rile up or confuse ULS member sometime repetitively. In all of the cases shown, the ULS member handled the interaction professionally and promptly.\n",
    "\n",
    "5.) ULS Member is brief or rude with patron regardless of status\n",
    "\n",
    "This is one that I believe is the biggest problem so far found in my surface level analysis. Often times, and the data reflects this across the entirety of the chat data, it seems a moderator is eager to end interactions. It appears often times, particularly on things that are either easily searchable or easily handled on our end, that either a link, a brief instruction, or a simple i dont know is provided to the patron which is not helpful. The patron in these cases rate the interaction as a 1 because perhaps they feel dismissed or that they were provided with confusing or simple information rather than a helpful service. \n",
    "\n",
    "Less often in these examples, yet still having occurred, ULS members were outright rude to patrons. Regardless of status, I believe that courtesy should be afforded patrons who are simply looking for helpful information. It appeared there was more professionalism at times with the prank chats than there were with chats simply from non-Pitt affiliates looking for guidance.\n",
    "\n"
   ]
  },
  {
   "cell_type": "markdown",
   "id": "6c2cf7ee-cd29-4770-aa94-5ed6dc7eb701",
   "metadata": {},
   "source": [
    "### Beginnings of Sentiment Analysis"
   ]
  },
  {
   "cell_type": "markdown",
   "id": "62440f45-c3b7-4c68-92d2-e1eb7d60f18b",
   "metadata": {},
   "source": [
    "Now lets start our sentiment analysis, focusing on the 1 rated chats and see if we can compare the sentiment scores to the ratings."
   ]
  },
  {
   "cell_type": "code",
   "execution_count": 75,
   "id": "f01f71ad-350b-4989-a4cf-326ec5af2eec",
   "metadata": {},
   "outputs": [
    {
     "name": "stdout",
     "output_type": "stream",
     "text": [
      "Requirement already satisfied: torch in c:\\users\\rnn13\\appdata\\roaming\\python\\python311\\site-packages (2.3.0)\n",
      "Requirement already satisfied: filelock in c:\\tools\\anaconda3\\lib\\site-packages (from torch) (3.13.1)\n",
      "Requirement already satisfied: typing-extensions>=4.8.0 in c:\\tools\\anaconda3\\lib\\site-packages (from torch) (4.9.0)\n",
      "Requirement already satisfied: sympy in c:\\tools\\anaconda3\\lib\\site-packages (from torch) (1.12)\n",
      "Requirement already satisfied: networkx in c:\\tools\\anaconda3\\lib\\site-packages (from torch) (3.1)\n",
      "Requirement already satisfied: jinja2 in c:\\tools\\anaconda3\\lib\\site-packages (from torch) (3.1.3)\n",
      "Requirement already satisfied: fsspec in c:\\tools\\anaconda3\\lib\\site-packages (from torch) (2023.10.0)\n",
      "Requirement already satisfied: mkl<=2021.4.0,>=2021.1.1 in c:\\users\\rnn13\\appdata\\roaming\\python\\python311\\site-packages (from torch) (2021.4.0)\n",
      "Requirement already satisfied: intel-openmp==2021.* in c:\\users\\rnn13\\appdata\\roaming\\python\\python311\\site-packages (from mkl<=2021.4.0,>=2021.1.1->torch) (2021.4.0)\n",
      "Requirement already satisfied: tbb==2021.* in c:\\tools\\anaconda3\\lib\\site-packages (from mkl<=2021.4.0,>=2021.1.1->torch) (2021.11.0)\n",
      "Requirement already satisfied: MarkupSafe>=2.0 in c:\\tools\\anaconda3\\lib\\site-packages (from jinja2->torch) (2.1.3)\n",
      "Requirement already satisfied: mpmath>=0.19 in c:\\tools\\anaconda3\\lib\\site-packages (from sympy->torch) (1.3.0)\n",
      "Note: you may need to restart the kernel to use updated packages.\n"
     ]
    }
   ],
   "source": [
    "pip install torch --user"
   ]
  },
  {
   "cell_type": "code",
   "execution_count": 76,
   "id": "0c80ec88-360c-4568-ad1e-a678a96d0d4a",
   "metadata": {
    "tags": []
   },
   "outputs": [
    {
     "name": "stdout",
     "output_type": "stream",
     "text": [
      "Requirement already satisfied: transformers==4.41.2 in c:\\tools\\anaconda3\\lib\\site-packages (4.41.2)\n",
      "Requirement already satisfied: filelock in c:\\tools\\anaconda3\\lib\\site-packages (from transformers==4.41.2) (3.13.1)\n",
      "Requirement already satisfied: huggingface-hub<1.0,>=0.23.0 in c:\\tools\\anaconda3\\lib\\site-packages (from transformers==4.41.2) (0.23.2)\n",
      "Requirement already satisfied: numpy>=1.17 in c:\\tools\\anaconda3\\lib\\site-packages (from transformers==4.41.2) (1.26.4)\n",
      "Requirement already satisfied: packaging>=20.0 in c:\\tools\\anaconda3\\lib\\site-packages (from transformers==4.41.2) (23.1)\n",
      "Requirement already satisfied: pyyaml>=5.1 in c:\\tools\\anaconda3\\lib\\site-packages (from transformers==4.41.2) (6.0.1)\n",
      "Requirement already satisfied: regex!=2019.12.17 in c:\\tools\\anaconda3\\lib\\site-packages (from transformers==4.41.2) (2023.10.3)\n",
      "Requirement already satisfied: requests in c:\\tools\\anaconda3\\lib\\site-packages (from transformers==4.41.2) (2.31.0)\n",
      "Requirement already satisfied: tokenizers<0.20,>=0.19 in c:\\tools\\anaconda3\\lib\\site-packages (from transformers==4.41.2) (0.19.1)\n",
      "Requirement already satisfied: safetensors>=0.4.1 in c:\\tools\\anaconda3\\lib\\site-packages (from transformers==4.41.2) (0.4.3)\n",
      "Requirement already satisfied: tqdm>=4.27 in c:\\tools\\anaconda3\\lib\\site-packages (from transformers==4.41.2) (4.65.0)\n",
      "Requirement already satisfied: fsspec>=2023.5.0 in c:\\tools\\anaconda3\\lib\\site-packages (from huggingface-hub<1.0,>=0.23.0->transformers==4.41.2) (2023.10.0)\n",
      "Requirement already satisfied: typing-extensions>=3.7.4.3 in c:\\tools\\anaconda3\\lib\\site-packages (from huggingface-hub<1.0,>=0.23.0->transformers==4.41.2) (4.9.0)\n",
      "Requirement already satisfied: colorama in c:\\tools\\anaconda3\\lib\\site-packages (from tqdm>=4.27->transformers==4.41.2) (0.4.6)\n",
      "Requirement already satisfied: charset-normalizer<4,>=2 in c:\\tools\\anaconda3\\lib\\site-packages (from requests->transformers==4.41.2) (2.0.4)\n",
      "Requirement already satisfied: idna<4,>=2.5 in c:\\tools\\anaconda3\\lib\\site-packages (from requests->transformers==4.41.2) (3.4)\n",
      "Requirement already satisfied: urllib3<3,>=1.21.1 in c:\\tools\\anaconda3\\lib\\site-packages (from requests->transformers==4.41.2) (2.0.7)\n",
      "Requirement already satisfied: certifi>=2017.4.17 in c:\\tools\\anaconda3\\lib\\site-packages (from requests->transformers==4.41.2) (2024.6.2)\n",
      "Note: you may need to restart the kernel to use updated packages.\n"
     ]
    }
   ],
   "source": [
    "pip install transformers==4.41.2 --user"
   ]
  },
  {
   "cell_type": "code",
   "execution_count": 77,
   "id": "3ae8a7c2-2374-43d8-a8dc-4255f16df8a5",
   "metadata": {},
   "outputs": [],
   "source": [
    "from transformers import pipeline"
   ]
  },
  {
   "cell_type": "code",
   "execution_count": 78,
   "id": "697bad41-7e6b-4689-985f-169d2d479804",
   "metadata": {},
   "outputs": [],
   "source": [
    "from transformers import AutoTokenizer, AutoModelForSequenceClassification, RobertaForSequenceClassification, RobertaTokenizer, RobertaModel"
   ]
  },
  {
   "cell_type": "code",
   "execution_count": 79,
   "id": "20b123b2-6d2a-47c0-bbdc-5d553c30eb55",
   "metadata": {
    "tags": []
   },
   "outputs": [],
   "source": [
    "from scipy.special import softmax"
   ]
  },
  {
   "cell_type": "code",
   "execution_count": 80,
   "id": "a141d56f-4e1a-4490-bf12-4653e4c0d9dd",
   "metadata": {
    "tags": []
   },
   "outputs": [],
   "source": [
    "from tqdm.notebook import tqdm"
   ]
  },
  {
   "cell_type": "code",
   "execution_count": 81,
   "id": "98ac765c-14ac-4cd8-af1b-7a184f839d16",
   "metadata": {
    "tags": []
   },
   "outputs": [
    {
     "name": "stderr",
     "output_type": "stream",
     "text": [
      "C:\\tools\\Anaconda3\\Lib\\site-packages\\huggingface_hub\\file_download.py:1132: FutureWarning: `resume_download` is deprecated and will be removed in version 1.0.0. Downloads always resume when possible. If you want to force a new download, use `force_download=True`.\n",
      "  warnings.warn(\n"
     ]
    },
    {
     "data": {
      "application/vnd.jupyter.widget-view+json": {
       "model_id": "f56e26bd28b5400184c92d72b6761022",
       "version_major": 2,
       "version_minor": 0
      },
      "text/plain": [
       "pytorch_model.bin:   0%|          | 0.00/499M [00:00<?, ?B/s]"
      ]
     },
     "metadata": {},
     "output_type": "display_data"
    }
   ],
   "source": [
    "MODEL = f\"cardiffnlp/twitter-roberta-base-sentiment\"\n",
    "tokenizer = AutoTokenizer.from_pretrained(MODEL)\n",
    "model = AutoModelForSequenceClassification.from_pretrained(MODEL)"
   ]
  },
  {
   "cell_type": "code",
   "execution_count": 82,
   "id": "ce29e1e1-1396-4237-a160-c021aad03a1d",
   "metadata": {
    "tags": []
   },
   "outputs": [],
   "source": [
    "one_score_example = one_score['Deidentified_Initial_Question'].iloc[0] + ' ' + one_score['Deidentified_Transcript'].iloc[0]"
   ]
  },
  {
   "cell_type": "code",
   "execution_count": 83,
   "id": "c5afc737-a02f-4aae-aa81-7969cf0ba623",
   "metadata": {
    "tags": []
   },
   "outputs": [
    {
     "data": {
      "text/plain": [
       "'I can not access the page to reserve a room in Falk Library. The browser is telling me the page cannot be found. 13:18:43 - Librarian 21 : [nameredacted] [nameredacted]\\n13:19:23 - Librarian 21 : Let me get you the contact information for Falk. One moment please.\\n13:19:44 - User28b2f6c696 : attached a file: <a class=\"s-la-cfile\" href=\"https://pitt.libanswers.com/chat_file.php?i=999&f=99999\" target=\"_blank\" data-preview=\"true\">https://pitt.libanswers.com/chat_file.php?i=999&f=99999</a>\\n13:19:59 - User28b2f6c696 : here is the screen I am seeing when I try to reserve a room\\n13:20:11 - Librarian 21 : [linkredacted]\\n13:20:42 - Librarian 21 : Since Falk is a separate library system, you will need to contact them directly.\\n13:20:54 - User28b2f6c696 : okay thank you\\n'"
      ]
     },
     "execution_count": 83,
     "metadata": {},
     "output_type": "execute_result"
    }
   ],
   "source": [
    "one_score_example"
   ]
  },
  {
   "cell_type": "code",
   "execution_count": 84,
   "id": "d7487ea9-91ee-4974-a6da-f8ccbda6923c",
   "metadata": {},
   "outputs": [
    {
     "data": {
      "text/plain": [
       "array([0.486258  , 0.44752848, 0.06621344], dtype=float32)"
      ]
     },
     "execution_count": 84,
     "metadata": {},
     "output_type": "execute_result"
    }
   ],
   "source": [
    "encoded_text1 = tokenizer(one_score_example, return_tensors='pt')\n",
    "output1 = model(**encoded_text1)\n",
    "scores1 = output1[0][0].detach().numpy()\n",
    "scores1 = softmax(scores1)\n",
    "scores1"
   ]
  },
  {
   "cell_type": "code",
   "execution_count": 85,
   "id": "f2f56d0e-21ef-494f-a6af-8b32d732e3c1",
   "metadata": {
    "tags": []
   },
   "outputs": [
    {
     "name": "stdout",
     "output_type": "stream",
     "text": [
      "{'neg': 0.486258, 'neu': 0.44752848, 'pos': 0.066213444}\n"
     ]
    }
   ],
   "source": [
    "scores_dict = {\n",
    "    'neg' : scores1[0],\n",
    "    'neu' : scores1[1],\n",
    "    'pos' : scores1[2]\n",
    "}\n",
    "print(scores_dict)"
   ]
  },
  {
   "cell_type": "code",
   "execution_count": 86,
   "id": "0521b5f6-6ea7-483d-aa5a-5cf561825e5a",
   "metadata": {
    "tags": []
   },
   "outputs": [],
   "source": [
    "four_score_example = four_score['Deidentified_Initial_Question'].iloc[27] + ' ' + four_score['Deidentified_Transcript'].iloc[27]"
   ]
  },
  {
   "cell_type": "code",
   "execution_count": 87,
   "id": "69e35a54-d5b8-4574-b14c-dc4063f9ebbd",
   "metadata": {
    "tags": []
   },
   "outputs": [
    {
     "data": {
      "text/plain": [
       "array([0.02022057, 0.42888945, 0.55088997], dtype=float32)"
      ]
     },
     "execution_count": 87,
     "metadata": {},
     "output_type": "execute_result"
    }
   ],
   "source": [
    "encoded_text4 = tokenizer(four_score_example, return_tensors='pt')\n",
    "output4 = model(**encoded_text4)\n",
    "scores4 = output4[0][0].detach().numpy()\n",
    "scores4 = softmax(scores4)\n",
    "scores4"
   ]
  },
  {
   "cell_type": "code",
   "execution_count": 88,
   "id": "629b0194-ab22-431f-a9e5-da77e787ff3d",
   "metadata": {
    "tags": []
   },
   "outputs": [
    {
     "name": "stdout",
     "output_type": "stream",
     "text": [
      "{'neg': 0.020220568, 'neu': 0.42888945, 'pos': 0.55088997}\n"
     ]
    }
   ],
   "source": [
    "scores4_dict = {\n",
    "    'neg' : scores4[0],\n",
    "    'neu' : scores4[1],\n",
    "    'pos' : scores4[2]\n",
    "}\n",
    "print(scores4_dict)"
   ]
  },
  {
   "cell_type": "code",
   "execution_count": 89,
   "id": "35a87e04-4e8c-4f20-a477-5fa7ebd637a5",
   "metadata": {
    "tags": []
   },
   "outputs": [
    {
     "data": {
      "text/plain": [
       "Chat ID                              0\n",
       "Browser                              0\n",
       "Operating System                     5\n",
       "User Agent                           0\n",
       "Referrer                             0\n",
       "Widget                               2\n",
       "Department                         164\n",
       "Timestamp                            0\n",
       "Wait Time (seconds)                  0\n",
       "Duration (seconds)                   0\n",
       "Screensharing                    10514\n",
       "Rating (0-4)                         0\n",
       "Comment                           9984\n",
       "Transfer History                 10301\n",
       "Message Count                        0\n",
       "Internal Note                    10497\n",
       "Tags                             10544\n",
       "Ticket ID                         8435\n",
       "Unnamed: 27                      10430\n",
       "Deidentified_Answerer                0\n",
       "Deidentified_Email                   0\n",
       "Deidentified_Transcript              0\n",
       "Deidentified_Initial_Question      969\n",
       "dtype: int64"
      ]
     },
     "execution_count": 89,
     "metadata": {},
     "output_type": "execute_result"
    }
   ],
   "source": [
    "chat_data.isna().sum()"
   ]
  },
  {
   "cell_type": "code",
   "execution_count": 90,
   "id": "4fb53a60-087f-40d4-8eb0-515faf542b66",
   "metadata": {
    "tags": []
   },
   "outputs": [],
   "source": [
    "chat_data['Deidentified_Initial_Question'] = chat_data['Deidentified_Initial_Question'].fillna(value = 'Initial Question Blank')"
   ]
  },
  {
   "cell_type": "code",
   "execution_count": 91,
   "id": "15edaf89-9467-4243-b031-347823344584",
   "metadata": {
    "tags": []
   },
   "outputs": [
    {
     "data": {
      "text/plain": [
       "0        I would like to recommend adding to our Pitt r...\n",
       "1                               sorry our chat disappeared\n",
       "2        I would like to borrow a book from the law lib...\n",
       "3                            hurricane disaster management\n",
       "4        yes.. looking for an article that comes up at ...\n",
       "                               ...                        \n",
       "10541    Hello! I'm a staff member at Pitt, and I wante...\n",
       "10542    I want inquire on the due date of a book I bor...\n",
       "10543    I get \"There seems to be an issue with your li...\n",
       "10544                                      what is an ISSN\n",
       "10545    Hi! I was hoping to see if Pitt has access to ...\n",
       "Name: Deidentified_Initial_Question, Length: 10546, dtype: object"
      ]
     },
     "execution_count": 91,
     "metadata": {},
     "output_type": "execute_result"
    }
   ],
   "source": [
    "chat_data['Deidentified_Initial_Question']"
   ]
  },
  {
   "cell_type": "code",
   "execution_count": 92,
   "id": "f01d8b48-65b8-491c-a9d1-03d24338c922",
   "metadata": {
    "tags": []
   },
   "outputs": [],
   "source": [
    "chat_data['full_chat'] = chat_data['Deidentified_Initial_Question'] + ' ' + chat_data['Deidentified_Transcript']"
   ]
  },
  {
   "cell_type": "code",
   "execution_count": 93,
   "id": "0deafdcd-b98b-4c72-aa2b-d24d2d3b4d1d",
   "metadata": {
    "tags": []
   },
   "outputs": [],
   "source": [
    "chat_sub1 = chat_data.loc[range(0,50)].copy()"
   ]
  },
  {
   "cell_type": "code",
   "execution_count": 94,
   "id": "1c6852cc-ed8a-4cb1-a8fe-80baee04afa3",
   "metadata": {
    "tags": []
   },
   "outputs": [],
   "source": [
    "rated_chats = chat_data[chat_data['Rating (0-4)'] > 0].copy()"
   ]
  },
  {
   "cell_type": "code",
   "execution_count": 95,
   "id": "5bd1d3eb-1e3b-4e22-a7b1-d0b282249985",
   "metadata": {
    "tags": []
   },
   "outputs": [
    {
     "data": {
      "text/html": [
       "<div>\n",
       "<style scoped>\n",
       "    .dataframe tbody tr th:only-of-type {\n",
       "        vertical-align: middle;\n",
       "    }\n",
       "\n",
       "    .dataframe tbody tr th {\n",
       "        vertical-align: top;\n",
       "    }\n",
       "\n",
       "    .dataframe thead th {\n",
       "        text-align: right;\n",
       "    }\n",
       "</style>\n",
       "<table border=\"1\" class=\"dataframe\">\n",
       "  <thead>\n",
       "    <tr style=\"text-align: right;\">\n",
       "      <th></th>\n",
       "      <th>Chat ID</th>\n",
       "      <th>Browser</th>\n",
       "      <th>Operating System</th>\n",
       "      <th>User Agent</th>\n",
       "      <th>Referrer</th>\n",
       "      <th>Widget</th>\n",
       "      <th>Department</th>\n",
       "      <th>Timestamp</th>\n",
       "      <th>Wait Time (seconds)</th>\n",
       "      <th>Duration (seconds)</th>\n",
       "      <th>...</th>\n",
       "      <th>Message Count</th>\n",
       "      <th>Internal Note</th>\n",
       "      <th>Tags</th>\n",
       "      <th>Ticket ID</th>\n",
       "      <th>Unnamed: 27</th>\n",
       "      <th>Deidentified_Answerer</th>\n",
       "      <th>Deidentified_Email</th>\n",
       "      <th>Deidentified_Transcript</th>\n",
       "      <th>Deidentified_Initial_Question</th>\n",
       "      <th>full_chat</th>\n",
       "    </tr>\n",
       "  </thead>\n",
       "  <tbody>\n",
       "    <tr>\n",
       "      <th>498</th>\n",
       "      <td>1876850</td>\n",
       "      <td>Safari (11.0.3)</td>\n",
       "      <td>Macintosh</td>\n",
       "      <td>Mozilla/5.0 (Macintosh; Intel Mac OS X 10_11_6...</td>\n",
       "      <td>https://pitt.summon.serialssolutions.com/searc...</td>\n",
       "      <td>Remove? Ask Us - Summon</td>\n",
       "      <td>Ask Reference</td>\n",
       "      <td>2018-03-07 13:35:58</td>\n",
       "      <td>6</td>\n",
       "      <td>803</td>\n",
       "      <td>...</td>\n",
       "      <td>29</td>\n",
       "      <td>NaN</td>\n",
       "      <td>NaN</td>\n",
       "      <td>NaN</td>\n",
       "      <td>NaN</td>\n",
       "      <td>Librarian 4</td>\n",
       "      <td>User54fdd3a508@pitt.edu</td>\n",
       "      <td>13:36:18 - Librarian 4 : hello [nameredacted]\\...</td>\n",
       "      <td>Am looking for a book chapter titled:\\n\"Modeli...</td>\n",
       "      <td>Am looking for a book chapter titled:\\n\"Modeli...</td>\n",
       "    </tr>\n",
       "    <tr>\n",
       "      <th>503</th>\n",
       "      <td>1878712</td>\n",
       "      <td>Firefox (49.0)</td>\n",
       "      <td>Windows</td>\n",
       "      <td>Mozilla/5.0 (Windows NT 6.1; rv:49.0) Gecko/20...</td>\n",
       "      <td>https://www.library.pitt.edu/</td>\n",
       "      <td>Ask Us</td>\n",
       "      <td>Ask Reference</td>\n",
       "      <td>2018-03-08 08:45:55</td>\n",
       "      <td>3</td>\n",
       "      <td>83</td>\n",
       "      <td>...</td>\n",
       "      <td>4</td>\n",
       "      <td>NaN</td>\n",
       "      <td>NaN</td>\n",
       "      <td>NaN</td>\n",
       "      <td>NaN</td>\n",
       "      <td>Librarian 11</td>\n",
       "      <td>Userf87c6c097e@pitt.edu</td>\n",
       "      <td>08:46:17 - Librarian 11 : Yes from 9:99 am - 9...</td>\n",
       "      <td>(Testing ratings) FOR MEREDITH:\\n Hey - you op...</td>\n",
       "      <td>(Testing ratings) FOR MEREDITH:\\n Hey - you op...</td>\n",
       "    </tr>\n",
       "    <tr>\n",
       "      <th>517</th>\n",
       "      <td>1883820</td>\n",
       "      <td>Chrome (64.0.3282.186)</td>\n",
       "      <td>Windows</td>\n",
       "      <td>Mozilla/5.0 (Windows NT 10.0; Win64; x64) Appl...</td>\n",
       "      <td>http://pitt.summon.serialssolutions.com/#!/sea...</td>\n",
       "      <td>Remove? Ask Us - Summon</td>\n",
       "      <td>Ask Reference</td>\n",
       "      <td>2018-03-11 17:46:11</td>\n",
       "      <td>5</td>\n",
       "      <td>515</td>\n",
       "      <td>...</td>\n",
       "      <td>25</td>\n",
       "      <td>NaN</td>\n",
       "      <td>NaN</td>\n",
       "      <td>NaN</td>\n",
       "      <td>NaN</td>\n",
       "      <td>Librarian 33</td>\n",
       "      <td>Userf4a5ba142b@pitt.edu</td>\n",
       "      <td>17:46:42 - Librarian 33 : [nameredacted] [name...</td>\n",
       "      <td>Hi, \\n\\nI'm looking for a book that I cannot f...</td>\n",
       "      <td>Hi, \\n\\nI'm looking for a book that I cannot f...</td>\n",
       "    </tr>\n",
       "    <tr>\n",
       "      <th>534</th>\n",
       "      <td>1888319</td>\n",
       "      <td>Safari (11.0.3)</td>\n",
       "      <td>Macintosh</td>\n",
       "      <td>Mozilla/5.0 (Macintosh; Intel Mac OS X 10_13_3...</td>\n",
       "      <td>https://www.library.pitt.edu/askus</td>\n",
       "      <td>Ask Us (Ask Us Page)</td>\n",
       "      <td>Ask Reference</td>\n",
       "      <td>2018-03-13 14:54:16</td>\n",
       "      <td>5</td>\n",
       "      <td>73</td>\n",
       "      <td>...</td>\n",
       "      <td>3</td>\n",
       "      <td>NaN</td>\n",
       "      <td>NaN</td>\n",
       "      <td>NaN</td>\n",
       "      <td>NaN</td>\n",
       "      <td>Librarian 1</td>\n",
       "      <td>User602dde1959@pitt.edu</td>\n",
       "      <td>14:54:26 - Librarian 1 : Hello\\n14:55:22 - Lib...</td>\n",
       "      <td>Do you have laptop chargers that can be borrowed?</td>\n",
       "      <td>Do you have laptop chargers that can be borrow...</td>\n",
       "    </tr>\n",
       "    <tr>\n",
       "      <th>537</th>\n",
       "      <td>1888405</td>\n",
       "      <td>Chrome (64.0.3282.186)</td>\n",
       "      <td>Windows</td>\n",
       "      <td>Mozilla/5.0 (Windows NT 6.1; WOW64) AppleWebKi...</td>\n",
       "      <td>https://www.library.pitt.edu/askus</td>\n",
       "      <td>Ask Us (Ask Us Page)</td>\n",
       "      <td>Ask Reference</td>\n",
       "      <td>2018-03-13 15:19:16</td>\n",
       "      <td>12</td>\n",
       "      <td>1411</td>\n",
       "      <td>...</td>\n",
       "      <td>37</td>\n",
       "      <td>NaN</td>\n",
       "      <td>NaN</td>\n",
       "      <td>NaN</td>\n",
       "      <td>NaN</td>\n",
       "      <td>Librarian 26</td>\n",
       "      <td>Userf100e5b81d@pitt.edu</td>\n",
       "      <td>15:19:46 - Librarian 26 : [nameredacted] [name...</td>\n",
       "      <td>Hi, \\n\\nI try to get a digital version of the ...</td>\n",
       "      <td>Hi, \\n\\nI try to get a digital version of the ...</td>\n",
       "    </tr>\n",
       "    <tr>\n",
       "      <th>...</th>\n",
       "      <td>...</td>\n",
       "      <td>...</td>\n",
       "      <td>...</td>\n",
       "      <td>...</td>\n",
       "      <td>...</td>\n",
       "      <td>...</td>\n",
       "      <td>...</td>\n",
       "      <td>...</td>\n",
       "      <td>...</td>\n",
       "      <td>...</td>\n",
       "      <td>...</td>\n",
       "      <td>...</td>\n",
       "      <td>...</td>\n",
       "      <td>...</td>\n",
       "      <td>...</td>\n",
       "      <td>...</td>\n",
       "      <td>...</td>\n",
       "      <td>...</td>\n",
       "      <td>...</td>\n",
       "      <td>...</td>\n",
       "      <td>...</td>\n",
       "    </tr>\n",
       "    <tr>\n",
       "      <th>10251</th>\n",
       "      <td>10102985</td>\n",
       "      <td>Chrome (119.0.0.0)</td>\n",
       "      <td>Windows</td>\n",
       "      <td>Mozilla/5.0 (Windows NT 10.0; Win64; x64) Appl...</td>\n",
       "      <td>https://pitt.libguides.com/az.php</td>\n",
       "      <td>Ask Us [REMOVE?]</td>\n",
       "      <td>Ask Reference</td>\n",
       "      <td>2023-12-11 15:16:59</td>\n",
       "      <td>12</td>\n",
       "      <td>617</td>\n",
       "      <td>...</td>\n",
       "      <td>8</td>\n",
       "      <td>NaN</td>\n",
       "      <td>NaN</td>\n",
       "      <td>0.0</td>\n",
       "      <td>NaN</td>\n",
       "      <td>Librarian 71</td>\n",
       "      <td>User1d24a02dd1@pitt.edu</td>\n",
       "      <td>15:17:32 - Librarian 71 : HI lets see if I can...</td>\n",
       "      <td>Hi! I'm trying to find this article https://ww...</td>\n",
       "      <td>Hi! I'm trying to find this article https://ww...</td>\n",
       "    </tr>\n",
       "    <tr>\n",
       "      <th>10259</th>\n",
       "      <td>10144124</td>\n",
       "      <td>Chrome (120.0.0.0)</td>\n",
       "      <td>Windows</td>\n",
       "      <td>Mozilla/5.0 (Windows NT 10.0; Win64; x64) Appl...</td>\n",
       "      <td>https://library.pitt.edu/ask-us</td>\n",
       "      <td>Ask Us (Ask Us Page) (New API)</td>\n",
       "      <td>Ask Reference</td>\n",
       "      <td>2024-01-03 10:33:21</td>\n",
       "      <td>75</td>\n",
       "      <td>331</td>\n",
       "      <td>...</td>\n",
       "      <td>7</td>\n",
       "      <td>NaN</td>\n",
       "      <td>NaN</td>\n",
       "      <td>0.0</td>\n",
       "      <td>NaN</td>\n",
       "      <td>Librarian 91</td>\n",
       "      <td>User4ade0d051b@pitt.edu</td>\n",
       "      <td>10:35:07 - Librarian 91 : Hello, this is ULSMe...</td>\n",
       "      <td>Hi! I accidentally just closed the window. I w...</td>\n",
       "      <td>Hi! I accidentally just closed the window. I w...</td>\n",
       "    </tr>\n",
       "    <tr>\n",
       "      <th>10303</th>\n",
       "      <td>10190144</td>\n",
       "      <td>Chrome (116.0.0.0)</td>\n",
       "      <td>Macintosh</td>\n",
       "      <td>Mozilla/5.0 (Macintosh; Intel Mac OS X 10_15_7...</td>\n",
       "      <td>https://pitt.libguides.com/researchhelpuls/pit...</td>\n",
       "      <td>Ask Us [REMOVE?]</td>\n",
       "      <td>Ask Reference</td>\n",
       "      <td>2024-01-16 13:00:03</td>\n",
       "      <td>6</td>\n",
       "      <td>1249</td>\n",
       "      <td>...</td>\n",
       "      <td>11</td>\n",
       "      <td>NaN</td>\n",
       "      <td>NaN</td>\n",
       "      <td>0.0</td>\n",
       "      <td>NaN</td>\n",
       "      <td>Librarian 41</td>\n",
       "      <td>User0d46b13228@pitt.edu</td>\n",
       "      <td>13:00:16 - Librarian 41 : Hello, thank you for...</td>\n",
       "      <td>I was wondering how the Interlibrary Loan work...</td>\n",
       "      <td>I was wondering how the Interlibrary Loan work...</td>\n",
       "    </tr>\n",
       "    <tr>\n",
       "      <th>10470</th>\n",
       "      <td>10430572</td>\n",
       "      <td>Chrome (122.0.0.0)</td>\n",
       "      <td>Windows</td>\n",
       "      <td>Mozilla/5.0 (Windows NT 10.0; Win64; x64) Appl...</td>\n",
       "      <td>https://pitt.libguides.com/az.php?q=us%20news</td>\n",
       "      <td>Ask Us [REMOVE?]</td>\n",
       "      <td>Ask Reference</td>\n",
       "      <td>2024-03-06 11:46:14</td>\n",
       "      <td>6</td>\n",
       "      <td>350</td>\n",
       "      <td>...</td>\n",
       "      <td>10</td>\n",
       "      <td>NaN</td>\n",
       "      <td>NaN</td>\n",
       "      <td>0.0</td>\n",
       "      <td>NaN</td>\n",
       "      <td>Librarian 19</td>\n",
       "      <td>Usera69048cda0@pitt.edu</td>\n",
       "      <td>11:47:05 - Librarian 19 : Hi, [nameredacted], ...</td>\n",
       "      <td>Hi - I am looking at US News and World Report ...</td>\n",
       "      <td>Hi - I am looking at US News and World Report ...</td>\n",
       "    </tr>\n",
       "    <tr>\n",
       "      <th>10476</th>\n",
       "      <td>10441206</td>\n",
       "      <td>Chrome (122.0.0.0)</td>\n",
       "      <td>Windows</td>\n",
       "      <td>Mozilla/5.0 (Windows NT 10.0; Win64; x64) Appl...</td>\n",
       "      <td>https://pitt.libguides.com/OwenLibrary/PittCat</td>\n",
       "      <td>Ask Us [REMOVE?]</td>\n",
       "      <td>Ask Reference</td>\n",
       "      <td>2024-03-08 10:48:09</td>\n",
       "      <td>3</td>\n",
       "      <td>726</td>\n",
       "      <td>...</td>\n",
       "      <td>59</td>\n",
       "      <td>NaN</td>\n",
       "      <td>NaN</td>\n",
       "      <td>13349124.0</td>\n",
       "      <td>48019367</td>\n",
       "      <td>Librarian 60</td>\n",
       "      <td>User3048375f52@gmail.com</td>\n",
       "      <td>10:48:20 - Librarian 60 : No worries at all! \\...</td>\n",
       "      <td>Sorry, I lost you. my fault. I was asking abou...</td>\n",
       "      <td>Sorry, I lost you. my fault. I was asking abou...</td>\n",
       "    </tr>\n",
       "  </tbody>\n",
       "</table>\n",
       "<p>2997 rows × 24 columns</p>\n",
       "</div>"
      ],
      "text/plain": [
       "        Chat ID                 Browser Operating System  \\\n",
       "498     1876850         Safari (11.0.3)        Macintosh   \n",
       "503     1878712          Firefox (49.0)          Windows   \n",
       "517     1883820  Chrome (64.0.3282.186)          Windows   \n",
       "534     1888319         Safari (11.0.3)        Macintosh   \n",
       "537     1888405  Chrome (64.0.3282.186)          Windows   \n",
       "...         ...                     ...              ...   \n",
       "10251  10102985      Chrome (119.0.0.0)          Windows   \n",
       "10259  10144124      Chrome (120.0.0.0)          Windows   \n",
       "10303  10190144      Chrome (116.0.0.0)        Macintosh   \n",
       "10470  10430572      Chrome (122.0.0.0)          Windows   \n",
       "10476  10441206      Chrome (122.0.0.0)          Windows   \n",
       "\n",
       "                                              User Agent  \\\n",
       "498    Mozilla/5.0 (Macintosh; Intel Mac OS X 10_11_6...   \n",
       "503    Mozilla/5.0 (Windows NT 6.1; rv:49.0) Gecko/20...   \n",
       "517    Mozilla/5.0 (Windows NT 10.0; Win64; x64) Appl...   \n",
       "534    Mozilla/5.0 (Macintosh; Intel Mac OS X 10_13_3...   \n",
       "537    Mozilla/5.0 (Windows NT 6.1; WOW64) AppleWebKi...   \n",
       "...                                                  ...   \n",
       "10251  Mozilla/5.0 (Windows NT 10.0; Win64; x64) Appl...   \n",
       "10259  Mozilla/5.0 (Windows NT 10.0; Win64; x64) Appl...   \n",
       "10303  Mozilla/5.0 (Macintosh; Intel Mac OS X 10_15_7...   \n",
       "10470  Mozilla/5.0 (Windows NT 10.0; Win64; x64) Appl...   \n",
       "10476  Mozilla/5.0 (Windows NT 10.0; Win64; x64) Appl...   \n",
       "\n",
       "                                                Referrer  \\\n",
       "498    https://pitt.summon.serialssolutions.com/searc...   \n",
       "503                        https://www.library.pitt.edu/   \n",
       "517    http://pitt.summon.serialssolutions.com/#!/sea...   \n",
       "534                   https://www.library.pitt.edu/askus   \n",
       "537                   https://www.library.pitt.edu/askus   \n",
       "...                                                  ...   \n",
       "10251                  https://pitt.libguides.com/az.php   \n",
       "10259                    https://library.pitt.edu/ask-us   \n",
       "10303  https://pitt.libguides.com/researchhelpuls/pit...   \n",
       "10470      https://pitt.libguides.com/az.php?q=us%20news   \n",
       "10476     https://pitt.libguides.com/OwenLibrary/PittCat   \n",
       "\n",
       "                               Widget     Department            Timestamp  \\\n",
       "498           Remove? Ask Us - Summon  Ask Reference  2018-03-07 13:35:58   \n",
       "503                            Ask Us  Ask Reference  2018-03-08 08:45:55   \n",
       "517           Remove? Ask Us - Summon  Ask Reference  2018-03-11 17:46:11   \n",
       "534              Ask Us (Ask Us Page)  Ask Reference  2018-03-13 14:54:16   \n",
       "537              Ask Us (Ask Us Page)  Ask Reference  2018-03-13 15:19:16   \n",
       "...                               ...            ...                  ...   \n",
       "10251                Ask Us [REMOVE?]  Ask Reference  2023-12-11 15:16:59   \n",
       "10259  Ask Us (Ask Us Page) (New API)  Ask Reference  2024-01-03 10:33:21   \n",
       "10303                Ask Us [REMOVE?]  Ask Reference  2024-01-16 13:00:03   \n",
       "10470                Ask Us [REMOVE?]  Ask Reference  2024-03-06 11:46:14   \n",
       "10476                Ask Us [REMOVE?]  Ask Reference  2024-03-08 10:48:09   \n",
       "\n",
       "       Wait Time (seconds)  Duration (seconds)  ... Message Count  \\\n",
       "498                      6                 803  ...            29   \n",
       "503                      3                  83  ...             4   \n",
       "517                      5                 515  ...            25   \n",
       "534                      5                  73  ...             3   \n",
       "537                     12                1411  ...            37   \n",
       "...                    ...                 ...  ...           ...   \n",
       "10251                   12                 617  ...             8   \n",
       "10259                   75                 331  ...             7   \n",
       "10303                    6                1249  ...            11   \n",
       "10470                    6                 350  ...            10   \n",
       "10476                    3                 726  ...            59   \n",
       "\n",
       "       Internal Note Tags   Ticket ID  Unnamed: 27 Deidentified_Answerer  \\\n",
       "498              NaN  NaN         NaN          NaN           Librarian 4   \n",
       "503              NaN  NaN         NaN          NaN          Librarian 11   \n",
       "517              NaN  NaN         NaN          NaN          Librarian 33   \n",
       "534              NaN  NaN         NaN          NaN           Librarian 1   \n",
       "537              NaN  NaN         NaN          NaN          Librarian 26   \n",
       "...              ...  ...         ...          ...                   ...   \n",
       "10251            NaN  NaN         0.0          NaN          Librarian 71   \n",
       "10259            NaN  NaN         0.0          NaN          Librarian 91   \n",
       "10303            NaN  NaN         0.0          NaN          Librarian 41   \n",
       "10470            NaN  NaN         0.0          NaN          Librarian 19   \n",
       "10476            NaN  NaN  13349124.0     48019367          Librarian 60   \n",
       "\n",
       "             Deidentified_Email  \\\n",
       "498     User54fdd3a508@pitt.edu   \n",
       "503     Userf87c6c097e@pitt.edu   \n",
       "517     Userf4a5ba142b@pitt.edu   \n",
       "534     User602dde1959@pitt.edu   \n",
       "537     Userf100e5b81d@pitt.edu   \n",
       "...                         ...   \n",
       "10251   User1d24a02dd1@pitt.edu   \n",
       "10259   User4ade0d051b@pitt.edu   \n",
       "10303   User0d46b13228@pitt.edu   \n",
       "10470   Usera69048cda0@pitt.edu   \n",
       "10476  User3048375f52@gmail.com   \n",
       "\n",
       "                                 Deidentified_Transcript  \\\n",
       "498    13:36:18 - Librarian 4 : hello [nameredacted]\\...   \n",
       "503    08:46:17 - Librarian 11 : Yes from 9:99 am - 9...   \n",
       "517    17:46:42 - Librarian 33 : [nameredacted] [name...   \n",
       "534    14:54:26 - Librarian 1 : Hello\\n14:55:22 - Lib...   \n",
       "537    15:19:46 - Librarian 26 : [nameredacted] [name...   \n",
       "...                                                  ...   \n",
       "10251  15:17:32 - Librarian 71 : HI lets see if I can...   \n",
       "10259  10:35:07 - Librarian 91 : Hello, this is ULSMe...   \n",
       "10303  13:00:16 - Librarian 41 : Hello, thank you for...   \n",
       "10470  11:47:05 - Librarian 19 : Hi, [nameredacted], ...   \n",
       "10476  10:48:20 - Librarian 60 : No worries at all! \\...   \n",
       "\n",
       "                           Deidentified_Initial_Question  \\\n",
       "498    Am looking for a book chapter titled:\\n\"Modeli...   \n",
       "503    (Testing ratings) FOR MEREDITH:\\n Hey - you op...   \n",
       "517    Hi, \\n\\nI'm looking for a book that I cannot f...   \n",
       "534    Do you have laptop chargers that can be borrowed?   \n",
       "537    Hi, \\n\\nI try to get a digital version of the ...   \n",
       "...                                                  ...   \n",
       "10251  Hi! I'm trying to find this article https://ww...   \n",
       "10259  Hi! I accidentally just closed the window. I w...   \n",
       "10303  I was wondering how the Interlibrary Loan work...   \n",
       "10470  Hi - I am looking at US News and World Report ...   \n",
       "10476  Sorry, I lost you. my fault. I was asking abou...   \n",
       "\n",
       "                                               full_chat  \n",
       "498    Am looking for a book chapter titled:\\n\"Modeli...  \n",
       "503    (Testing ratings) FOR MEREDITH:\\n Hey - you op...  \n",
       "517    Hi, \\n\\nI'm looking for a book that I cannot f...  \n",
       "534    Do you have laptop chargers that can be borrow...  \n",
       "537    Hi, \\n\\nI try to get a digital version of the ...  \n",
       "...                                                  ...  \n",
       "10251  Hi! I'm trying to find this article https://ww...  \n",
       "10259  Hi! I accidentally just closed the window. I w...  \n",
       "10303  I was wondering how the Interlibrary Loan work...  \n",
       "10470  Hi - I am looking at US News and World Report ...  \n",
       "10476  Sorry, I lost you. my fault. I was asking abou...  \n",
       "\n",
       "[2997 rows x 24 columns]"
      ]
     },
     "execution_count": 95,
     "metadata": {},
     "output_type": "execute_result"
    }
   ],
   "source": [
    "rated_chats"
   ]
  },
  {
   "cell_type": "code",
   "execution_count": 96,
   "id": "6a2e426e-b7c3-4581-8380-40903509cf18",
   "metadata": {
    "tags": []
   },
   "outputs": [],
   "source": [
    "def roberta_scores(example):\n",
    "    encoded_text = tokenizer(example, return_tensors='pt', max_length = 511)\n",
    "    output = model(**encoded_text)\n",
    "    scores = output[0][0].detach().numpy()\n",
    "    scores = softmax(scores)\n",
    "    scores_dict = {\n",
    "    'neg' : scores[0],\n",
    "    'neu' : scores[1],\n",
    "    'pos' : scores[2]\n",
    "    }\n",
    "    return scores_dict"
   ]
  },
  {
   "cell_type": "code",
   "execution_count": 97,
   "id": "91b6c8b3-64e9-4d53-a27f-b5b69a3eed5d",
   "metadata": {
    "tags": []
   },
   "outputs": [
    {
     "data": {
      "application/vnd.jupyter.widget-view+json": {
       "model_id": "0f82c19697dc4331b7eb757c9b3c06aa",
       "version_major": 2,
       "version_minor": 0
      },
      "text/plain": [
       "  0%|          | 0/2997 [00:00<?, ?it/s]"
      ]
     },
     "metadata": {},
     "output_type": "display_data"
    },
    {
     "name": "stderr",
     "output_type": "stream",
     "text": [
      "Truncation was not explicitly activated but `max_length` is provided a specific value, please use `truncation=True` to explicitly truncate examples to max length. Defaulting to 'longest_first' truncation strategy. If you encode pairs of sequences (GLUE-style) with the tokenizer you can select this strategy more precisely by providing a specific strategy to `truncation`.\n"
     ]
    },
    {
     "ename": "KeyboardInterrupt",
     "evalue": "",
     "output_type": "error",
     "traceback": [
      "\u001b[1;31m---------------------------------------------------------------------------\u001b[0m",
      "\u001b[1;31mKeyboardInterrupt\u001b[0m                         Traceback (most recent call last)",
      "Cell \u001b[1;32mIn[97], line 6\u001b[0m\n\u001b[0;32m      4\u001b[0m text \u001b[38;5;241m=\u001b[39m row[\u001b[38;5;124m'\u001b[39m\u001b[38;5;124mfull_chat\u001b[39m\u001b[38;5;124m'\u001b[39m]\n\u001b[0;32m      5\u001b[0m myid \u001b[38;5;241m=\u001b[39m row[\u001b[38;5;124m'\u001b[39m\u001b[38;5;124mChat ID\u001b[39m\u001b[38;5;124m'\u001b[39m]\n\u001b[1;32m----> 6\u001b[0m roberta_result \u001b[38;5;241m=\u001b[39m roberta_scores(text)\n\u001b[0;32m      7\u001b[0m run \u001b[38;5;241m=\u001b[39m {\u001b[38;5;241m*\u001b[39m\u001b[38;5;241m*\u001b[39mroberta_result}\n\u001b[0;32m      8\u001b[0m res[myid] \u001b[38;5;241m=\u001b[39m run\n",
      "Cell \u001b[1;32mIn[96], line 3\u001b[0m, in \u001b[0;36mroberta_scores\u001b[1;34m(example)\u001b[0m\n\u001b[0;32m      1\u001b[0m \u001b[38;5;28;01mdef\u001b[39;00m \u001b[38;5;21mroberta_scores\u001b[39m(example):\n\u001b[0;32m      2\u001b[0m     encoded_text \u001b[38;5;241m=\u001b[39m tokenizer(example, return_tensors\u001b[38;5;241m=\u001b[39m\u001b[38;5;124m'\u001b[39m\u001b[38;5;124mpt\u001b[39m\u001b[38;5;124m'\u001b[39m, max_length \u001b[38;5;241m=\u001b[39m \u001b[38;5;241m511\u001b[39m)\n\u001b[1;32m----> 3\u001b[0m     output \u001b[38;5;241m=\u001b[39m model(\u001b[38;5;241m*\u001b[39m\u001b[38;5;241m*\u001b[39mencoded_text)\n\u001b[0;32m      4\u001b[0m     scores \u001b[38;5;241m=\u001b[39m output[\u001b[38;5;241m0\u001b[39m][\u001b[38;5;241m0\u001b[39m]\u001b[38;5;241m.\u001b[39mdetach()\u001b[38;5;241m.\u001b[39mnumpy()\n\u001b[0;32m      5\u001b[0m     scores \u001b[38;5;241m=\u001b[39m softmax(scores)\n",
      "File \u001b[1;32m~\\AppData\\Roaming\\Python\\Python311\\site-packages\\torch\\nn\\modules\\module.py:1532\u001b[0m, in \u001b[0;36mModule._wrapped_call_impl\u001b[1;34m(self, *args, **kwargs)\u001b[0m\n\u001b[0;32m   1530\u001b[0m     \u001b[38;5;28;01mreturn\u001b[39;00m \u001b[38;5;28mself\u001b[39m\u001b[38;5;241m.\u001b[39m_compiled_call_impl(\u001b[38;5;241m*\u001b[39margs, \u001b[38;5;241m*\u001b[39m\u001b[38;5;241m*\u001b[39mkwargs)  \u001b[38;5;66;03m# type: ignore[misc]\u001b[39;00m\n\u001b[0;32m   1531\u001b[0m \u001b[38;5;28;01melse\u001b[39;00m:\n\u001b[1;32m-> 1532\u001b[0m     \u001b[38;5;28;01mreturn\u001b[39;00m \u001b[38;5;28mself\u001b[39m\u001b[38;5;241m.\u001b[39m_call_impl(\u001b[38;5;241m*\u001b[39margs, \u001b[38;5;241m*\u001b[39m\u001b[38;5;241m*\u001b[39mkwargs)\n",
      "File \u001b[1;32m~\\AppData\\Roaming\\Python\\Python311\\site-packages\\torch\\nn\\modules\\module.py:1541\u001b[0m, in \u001b[0;36mModule._call_impl\u001b[1;34m(self, *args, **kwargs)\u001b[0m\n\u001b[0;32m   1536\u001b[0m \u001b[38;5;66;03m# If we don't have any hooks, we want to skip the rest of the logic in\u001b[39;00m\n\u001b[0;32m   1537\u001b[0m \u001b[38;5;66;03m# this function, and just call forward.\u001b[39;00m\n\u001b[0;32m   1538\u001b[0m \u001b[38;5;28;01mif\u001b[39;00m \u001b[38;5;129;01mnot\u001b[39;00m (\u001b[38;5;28mself\u001b[39m\u001b[38;5;241m.\u001b[39m_backward_hooks \u001b[38;5;129;01mor\u001b[39;00m \u001b[38;5;28mself\u001b[39m\u001b[38;5;241m.\u001b[39m_backward_pre_hooks \u001b[38;5;129;01mor\u001b[39;00m \u001b[38;5;28mself\u001b[39m\u001b[38;5;241m.\u001b[39m_forward_hooks \u001b[38;5;129;01mor\u001b[39;00m \u001b[38;5;28mself\u001b[39m\u001b[38;5;241m.\u001b[39m_forward_pre_hooks\n\u001b[0;32m   1539\u001b[0m         \u001b[38;5;129;01mor\u001b[39;00m _global_backward_pre_hooks \u001b[38;5;129;01mor\u001b[39;00m _global_backward_hooks\n\u001b[0;32m   1540\u001b[0m         \u001b[38;5;129;01mor\u001b[39;00m _global_forward_hooks \u001b[38;5;129;01mor\u001b[39;00m _global_forward_pre_hooks):\n\u001b[1;32m-> 1541\u001b[0m     \u001b[38;5;28;01mreturn\u001b[39;00m forward_call(\u001b[38;5;241m*\u001b[39margs, \u001b[38;5;241m*\u001b[39m\u001b[38;5;241m*\u001b[39mkwargs)\n\u001b[0;32m   1543\u001b[0m \u001b[38;5;28;01mtry\u001b[39;00m:\n\u001b[0;32m   1544\u001b[0m     result \u001b[38;5;241m=\u001b[39m \u001b[38;5;28;01mNone\u001b[39;00m\n",
      "File \u001b[1;32mC:\\tools\\Anaconda3\\Lib\\site-packages\\transformers\\models\\roberta\\modeling_roberta.py:1195\u001b[0m, in \u001b[0;36mRobertaForSequenceClassification.forward\u001b[1;34m(self, input_ids, attention_mask, token_type_ids, position_ids, head_mask, inputs_embeds, labels, output_attentions, output_hidden_states, return_dict)\u001b[0m\n\u001b[0;32m   1187\u001b[0m \u001b[38;5;250m\u001b[39m\u001b[38;5;124mr\u001b[39m\u001b[38;5;124;03m\"\"\"\u001b[39;00m\n\u001b[0;32m   1188\u001b[0m \u001b[38;5;124;03mlabels (`torch.LongTensor` of shape `(batch_size,)`, *optional*):\u001b[39;00m\n\u001b[0;32m   1189\u001b[0m \u001b[38;5;124;03m    Labels for computing the sequence classification/regression loss. Indices should be in `[0, ...,\u001b[39;00m\n\u001b[0;32m   1190\u001b[0m \u001b[38;5;124;03m    config.num_labels - 1]`. If `config.num_labels == 1` a regression loss is computed (Mean-Square loss), If\u001b[39;00m\n\u001b[0;32m   1191\u001b[0m \u001b[38;5;124;03m    `config.num_labels > 1` a classification loss is computed (Cross-Entropy).\u001b[39;00m\n\u001b[0;32m   1192\u001b[0m \u001b[38;5;124;03m\"\"\"\u001b[39;00m\n\u001b[0;32m   1193\u001b[0m return_dict \u001b[38;5;241m=\u001b[39m return_dict \u001b[38;5;28;01mif\u001b[39;00m return_dict \u001b[38;5;129;01mis\u001b[39;00m \u001b[38;5;129;01mnot\u001b[39;00m \u001b[38;5;28;01mNone\u001b[39;00m \u001b[38;5;28;01melse\u001b[39;00m \u001b[38;5;28mself\u001b[39m\u001b[38;5;241m.\u001b[39mconfig\u001b[38;5;241m.\u001b[39muse_return_dict\n\u001b[1;32m-> 1195\u001b[0m outputs \u001b[38;5;241m=\u001b[39m \u001b[38;5;28mself\u001b[39m\u001b[38;5;241m.\u001b[39mroberta(\n\u001b[0;32m   1196\u001b[0m     input_ids,\n\u001b[0;32m   1197\u001b[0m     attention_mask\u001b[38;5;241m=\u001b[39mattention_mask,\n\u001b[0;32m   1198\u001b[0m     token_type_ids\u001b[38;5;241m=\u001b[39mtoken_type_ids,\n\u001b[0;32m   1199\u001b[0m     position_ids\u001b[38;5;241m=\u001b[39mposition_ids,\n\u001b[0;32m   1200\u001b[0m     head_mask\u001b[38;5;241m=\u001b[39mhead_mask,\n\u001b[0;32m   1201\u001b[0m     inputs_embeds\u001b[38;5;241m=\u001b[39minputs_embeds,\n\u001b[0;32m   1202\u001b[0m     output_attentions\u001b[38;5;241m=\u001b[39moutput_attentions,\n\u001b[0;32m   1203\u001b[0m     output_hidden_states\u001b[38;5;241m=\u001b[39moutput_hidden_states,\n\u001b[0;32m   1204\u001b[0m     return_dict\u001b[38;5;241m=\u001b[39mreturn_dict,\n\u001b[0;32m   1205\u001b[0m )\n\u001b[0;32m   1206\u001b[0m sequence_output \u001b[38;5;241m=\u001b[39m outputs[\u001b[38;5;241m0\u001b[39m]\n\u001b[0;32m   1207\u001b[0m logits \u001b[38;5;241m=\u001b[39m \u001b[38;5;28mself\u001b[39m\u001b[38;5;241m.\u001b[39mclassifier(sequence_output)\n",
      "File \u001b[1;32m~\\AppData\\Roaming\\Python\\Python311\\site-packages\\torch\\nn\\modules\\module.py:1532\u001b[0m, in \u001b[0;36mModule._wrapped_call_impl\u001b[1;34m(self, *args, **kwargs)\u001b[0m\n\u001b[0;32m   1530\u001b[0m     \u001b[38;5;28;01mreturn\u001b[39;00m \u001b[38;5;28mself\u001b[39m\u001b[38;5;241m.\u001b[39m_compiled_call_impl(\u001b[38;5;241m*\u001b[39margs, \u001b[38;5;241m*\u001b[39m\u001b[38;5;241m*\u001b[39mkwargs)  \u001b[38;5;66;03m# type: ignore[misc]\u001b[39;00m\n\u001b[0;32m   1531\u001b[0m \u001b[38;5;28;01melse\u001b[39;00m:\n\u001b[1;32m-> 1532\u001b[0m     \u001b[38;5;28;01mreturn\u001b[39;00m \u001b[38;5;28mself\u001b[39m\u001b[38;5;241m.\u001b[39m_call_impl(\u001b[38;5;241m*\u001b[39margs, \u001b[38;5;241m*\u001b[39m\u001b[38;5;241m*\u001b[39mkwargs)\n",
      "File \u001b[1;32m~\\AppData\\Roaming\\Python\\Python311\\site-packages\\torch\\nn\\modules\\module.py:1541\u001b[0m, in \u001b[0;36mModule._call_impl\u001b[1;34m(self, *args, **kwargs)\u001b[0m\n\u001b[0;32m   1536\u001b[0m \u001b[38;5;66;03m# If we don't have any hooks, we want to skip the rest of the logic in\u001b[39;00m\n\u001b[0;32m   1537\u001b[0m \u001b[38;5;66;03m# this function, and just call forward.\u001b[39;00m\n\u001b[0;32m   1538\u001b[0m \u001b[38;5;28;01mif\u001b[39;00m \u001b[38;5;129;01mnot\u001b[39;00m (\u001b[38;5;28mself\u001b[39m\u001b[38;5;241m.\u001b[39m_backward_hooks \u001b[38;5;129;01mor\u001b[39;00m \u001b[38;5;28mself\u001b[39m\u001b[38;5;241m.\u001b[39m_backward_pre_hooks \u001b[38;5;129;01mor\u001b[39;00m \u001b[38;5;28mself\u001b[39m\u001b[38;5;241m.\u001b[39m_forward_hooks \u001b[38;5;129;01mor\u001b[39;00m \u001b[38;5;28mself\u001b[39m\u001b[38;5;241m.\u001b[39m_forward_pre_hooks\n\u001b[0;32m   1539\u001b[0m         \u001b[38;5;129;01mor\u001b[39;00m _global_backward_pre_hooks \u001b[38;5;129;01mor\u001b[39;00m _global_backward_hooks\n\u001b[0;32m   1540\u001b[0m         \u001b[38;5;129;01mor\u001b[39;00m _global_forward_hooks \u001b[38;5;129;01mor\u001b[39;00m _global_forward_pre_hooks):\n\u001b[1;32m-> 1541\u001b[0m     \u001b[38;5;28;01mreturn\u001b[39;00m forward_call(\u001b[38;5;241m*\u001b[39margs, \u001b[38;5;241m*\u001b[39m\u001b[38;5;241m*\u001b[39mkwargs)\n\u001b[0;32m   1543\u001b[0m \u001b[38;5;28;01mtry\u001b[39;00m:\n\u001b[0;32m   1544\u001b[0m     result \u001b[38;5;241m=\u001b[39m \u001b[38;5;28;01mNone\u001b[39;00m\n",
      "File \u001b[1;32mC:\\tools\\Anaconda3\\Lib\\site-packages\\transformers\\models\\roberta\\modeling_roberta.py:832\u001b[0m, in \u001b[0;36mRobertaModel.forward\u001b[1;34m(self, input_ids, attention_mask, token_type_ids, position_ids, head_mask, inputs_embeds, encoder_hidden_states, encoder_attention_mask, past_key_values, use_cache, output_attentions, output_hidden_states, return_dict)\u001b[0m\n\u001b[0;32m    823\u001b[0m head_mask \u001b[38;5;241m=\u001b[39m \u001b[38;5;28mself\u001b[39m\u001b[38;5;241m.\u001b[39mget_head_mask(head_mask, \u001b[38;5;28mself\u001b[39m\u001b[38;5;241m.\u001b[39mconfig\u001b[38;5;241m.\u001b[39mnum_hidden_layers)\n\u001b[0;32m    825\u001b[0m embedding_output \u001b[38;5;241m=\u001b[39m \u001b[38;5;28mself\u001b[39m\u001b[38;5;241m.\u001b[39membeddings(\n\u001b[0;32m    826\u001b[0m     input_ids\u001b[38;5;241m=\u001b[39minput_ids,\n\u001b[0;32m    827\u001b[0m     position_ids\u001b[38;5;241m=\u001b[39mposition_ids,\n\u001b[1;32m   (...)\u001b[0m\n\u001b[0;32m    830\u001b[0m     past_key_values_length\u001b[38;5;241m=\u001b[39mpast_key_values_length,\n\u001b[0;32m    831\u001b[0m )\n\u001b[1;32m--> 832\u001b[0m encoder_outputs \u001b[38;5;241m=\u001b[39m \u001b[38;5;28mself\u001b[39m\u001b[38;5;241m.\u001b[39mencoder(\n\u001b[0;32m    833\u001b[0m     embedding_output,\n\u001b[0;32m    834\u001b[0m     attention_mask\u001b[38;5;241m=\u001b[39mextended_attention_mask,\n\u001b[0;32m    835\u001b[0m     head_mask\u001b[38;5;241m=\u001b[39mhead_mask,\n\u001b[0;32m    836\u001b[0m     encoder_hidden_states\u001b[38;5;241m=\u001b[39mencoder_hidden_states,\n\u001b[0;32m    837\u001b[0m     encoder_attention_mask\u001b[38;5;241m=\u001b[39mencoder_extended_attention_mask,\n\u001b[0;32m    838\u001b[0m     past_key_values\u001b[38;5;241m=\u001b[39mpast_key_values,\n\u001b[0;32m    839\u001b[0m     use_cache\u001b[38;5;241m=\u001b[39muse_cache,\n\u001b[0;32m    840\u001b[0m     output_attentions\u001b[38;5;241m=\u001b[39moutput_attentions,\n\u001b[0;32m    841\u001b[0m     output_hidden_states\u001b[38;5;241m=\u001b[39moutput_hidden_states,\n\u001b[0;32m    842\u001b[0m     return_dict\u001b[38;5;241m=\u001b[39mreturn_dict,\n\u001b[0;32m    843\u001b[0m )\n\u001b[0;32m    844\u001b[0m sequence_output \u001b[38;5;241m=\u001b[39m encoder_outputs[\u001b[38;5;241m0\u001b[39m]\n\u001b[0;32m    845\u001b[0m pooled_output \u001b[38;5;241m=\u001b[39m \u001b[38;5;28mself\u001b[39m\u001b[38;5;241m.\u001b[39mpooler(sequence_output) \u001b[38;5;28;01mif\u001b[39;00m \u001b[38;5;28mself\u001b[39m\u001b[38;5;241m.\u001b[39mpooler \u001b[38;5;129;01mis\u001b[39;00m \u001b[38;5;129;01mnot\u001b[39;00m \u001b[38;5;28;01mNone\u001b[39;00m \u001b[38;5;28;01melse\u001b[39;00m \u001b[38;5;28;01mNone\u001b[39;00m\n",
      "File \u001b[1;32m~\\AppData\\Roaming\\Python\\Python311\\site-packages\\torch\\nn\\modules\\module.py:1532\u001b[0m, in \u001b[0;36mModule._wrapped_call_impl\u001b[1;34m(self, *args, **kwargs)\u001b[0m\n\u001b[0;32m   1530\u001b[0m     \u001b[38;5;28;01mreturn\u001b[39;00m \u001b[38;5;28mself\u001b[39m\u001b[38;5;241m.\u001b[39m_compiled_call_impl(\u001b[38;5;241m*\u001b[39margs, \u001b[38;5;241m*\u001b[39m\u001b[38;5;241m*\u001b[39mkwargs)  \u001b[38;5;66;03m# type: ignore[misc]\u001b[39;00m\n\u001b[0;32m   1531\u001b[0m \u001b[38;5;28;01melse\u001b[39;00m:\n\u001b[1;32m-> 1532\u001b[0m     \u001b[38;5;28;01mreturn\u001b[39;00m \u001b[38;5;28mself\u001b[39m\u001b[38;5;241m.\u001b[39m_call_impl(\u001b[38;5;241m*\u001b[39margs, \u001b[38;5;241m*\u001b[39m\u001b[38;5;241m*\u001b[39mkwargs)\n",
      "File \u001b[1;32m~\\AppData\\Roaming\\Python\\Python311\\site-packages\\torch\\nn\\modules\\module.py:1541\u001b[0m, in \u001b[0;36mModule._call_impl\u001b[1;34m(self, *args, **kwargs)\u001b[0m\n\u001b[0;32m   1536\u001b[0m \u001b[38;5;66;03m# If we don't have any hooks, we want to skip the rest of the logic in\u001b[39;00m\n\u001b[0;32m   1537\u001b[0m \u001b[38;5;66;03m# this function, and just call forward.\u001b[39;00m\n\u001b[0;32m   1538\u001b[0m \u001b[38;5;28;01mif\u001b[39;00m \u001b[38;5;129;01mnot\u001b[39;00m (\u001b[38;5;28mself\u001b[39m\u001b[38;5;241m.\u001b[39m_backward_hooks \u001b[38;5;129;01mor\u001b[39;00m \u001b[38;5;28mself\u001b[39m\u001b[38;5;241m.\u001b[39m_backward_pre_hooks \u001b[38;5;129;01mor\u001b[39;00m \u001b[38;5;28mself\u001b[39m\u001b[38;5;241m.\u001b[39m_forward_hooks \u001b[38;5;129;01mor\u001b[39;00m \u001b[38;5;28mself\u001b[39m\u001b[38;5;241m.\u001b[39m_forward_pre_hooks\n\u001b[0;32m   1539\u001b[0m         \u001b[38;5;129;01mor\u001b[39;00m _global_backward_pre_hooks \u001b[38;5;129;01mor\u001b[39;00m _global_backward_hooks\n\u001b[0;32m   1540\u001b[0m         \u001b[38;5;129;01mor\u001b[39;00m _global_forward_hooks \u001b[38;5;129;01mor\u001b[39;00m _global_forward_pre_hooks):\n\u001b[1;32m-> 1541\u001b[0m     \u001b[38;5;28;01mreturn\u001b[39;00m forward_call(\u001b[38;5;241m*\u001b[39margs, \u001b[38;5;241m*\u001b[39m\u001b[38;5;241m*\u001b[39mkwargs)\n\u001b[0;32m   1543\u001b[0m \u001b[38;5;28;01mtry\u001b[39;00m:\n\u001b[0;32m   1544\u001b[0m     result \u001b[38;5;241m=\u001b[39m \u001b[38;5;28;01mNone\u001b[39;00m\n",
      "File \u001b[1;32mC:\\tools\\Anaconda3\\Lib\\site-packages\\transformers\\models\\roberta\\modeling_roberta.py:521\u001b[0m, in \u001b[0;36mRobertaEncoder.forward\u001b[1;34m(self, hidden_states, attention_mask, head_mask, encoder_hidden_states, encoder_attention_mask, past_key_values, use_cache, output_attentions, output_hidden_states, return_dict)\u001b[0m\n\u001b[0;32m    510\u001b[0m     layer_outputs \u001b[38;5;241m=\u001b[39m \u001b[38;5;28mself\u001b[39m\u001b[38;5;241m.\u001b[39m_gradient_checkpointing_func(\n\u001b[0;32m    511\u001b[0m         layer_module\u001b[38;5;241m.\u001b[39m\u001b[38;5;21m__call__\u001b[39m,\n\u001b[0;32m    512\u001b[0m         hidden_states,\n\u001b[1;32m   (...)\u001b[0m\n\u001b[0;32m    518\u001b[0m         output_attentions,\n\u001b[0;32m    519\u001b[0m     )\n\u001b[0;32m    520\u001b[0m \u001b[38;5;28;01melse\u001b[39;00m:\n\u001b[1;32m--> 521\u001b[0m     layer_outputs \u001b[38;5;241m=\u001b[39m layer_module(\n\u001b[0;32m    522\u001b[0m         hidden_states,\n\u001b[0;32m    523\u001b[0m         attention_mask,\n\u001b[0;32m    524\u001b[0m         layer_head_mask,\n\u001b[0;32m    525\u001b[0m         encoder_hidden_states,\n\u001b[0;32m    526\u001b[0m         encoder_attention_mask,\n\u001b[0;32m    527\u001b[0m         past_key_value,\n\u001b[0;32m    528\u001b[0m         output_attentions,\n\u001b[0;32m    529\u001b[0m     )\n\u001b[0;32m    531\u001b[0m hidden_states \u001b[38;5;241m=\u001b[39m layer_outputs[\u001b[38;5;241m0\u001b[39m]\n\u001b[0;32m    532\u001b[0m \u001b[38;5;28;01mif\u001b[39;00m use_cache:\n",
      "File \u001b[1;32m~\\AppData\\Roaming\\Python\\Python311\\site-packages\\torch\\nn\\modules\\module.py:1532\u001b[0m, in \u001b[0;36mModule._wrapped_call_impl\u001b[1;34m(self, *args, **kwargs)\u001b[0m\n\u001b[0;32m   1530\u001b[0m     \u001b[38;5;28;01mreturn\u001b[39;00m \u001b[38;5;28mself\u001b[39m\u001b[38;5;241m.\u001b[39m_compiled_call_impl(\u001b[38;5;241m*\u001b[39margs, \u001b[38;5;241m*\u001b[39m\u001b[38;5;241m*\u001b[39mkwargs)  \u001b[38;5;66;03m# type: ignore[misc]\u001b[39;00m\n\u001b[0;32m   1531\u001b[0m \u001b[38;5;28;01melse\u001b[39;00m:\n\u001b[1;32m-> 1532\u001b[0m     \u001b[38;5;28;01mreturn\u001b[39;00m \u001b[38;5;28mself\u001b[39m\u001b[38;5;241m.\u001b[39m_call_impl(\u001b[38;5;241m*\u001b[39margs, \u001b[38;5;241m*\u001b[39m\u001b[38;5;241m*\u001b[39mkwargs)\n",
      "File \u001b[1;32m~\\AppData\\Roaming\\Python\\Python311\\site-packages\\torch\\nn\\modules\\module.py:1541\u001b[0m, in \u001b[0;36mModule._call_impl\u001b[1;34m(self, *args, **kwargs)\u001b[0m\n\u001b[0;32m   1536\u001b[0m \u001b[38;5;66;03m# If we don't have any hooks, we want to skip the rest of the logic in\u001b[39;00m\n\u001b[0;32m   1537\u001b[0m \u001b[38;5;66;03m# this function, and just call forward.\u001b[39;00m\n\u001b[0;32m   1538\u001b[0m \u001b[38;5;28;01mif\u001b[39;00m \u001b[38;5;129;01mnot\u001b[39;00m (\u001b[38;5;28mself\u001b[39m\u001b[38;5;241m.\u001b[39m_backward_hooks \u001b[38;5;129;01mor\u001b[39;00m \u001b[38;5;28mself\u001b[39m\u001b[38;5;241m.\u001b[39m_backward_pre_hooks \u001b[38;5;129;01mor\u001b[39;00m \u001b[38;5;28mself\u001b[39m\u001b[38;5;241m.\u001b[39m_forward_hooks \u001b[38;5;129;01mor\u001b[39;00m \u001b[38;5;28mself\u001b[39m\u001b[38;5;241m.\u001b[39m_forward_pre_hooks\n\u001b[0;32m   1539\u001b[0m         \u001b[38;5;129;01mor\u001b[39;00m _global_backward_pre_hooks \u001b[38;5;129;01mor\u001b[39;00m _global_backward_hooks\n\u001b[0;32m   1540\u001b[0m         \u001b[38;5;129;01mor\u001b[39;00m _global_forward_hooks \u001b[38;5;129;01mor\u001b[39;00m _global_forward_pre_hooks):\n\u001b[1;32m-> 1541\u001b[0m     \u001b[38;5;28;01mreturn\u001b[39;00m forward_call(\u001b[38;5;241m*\u001b[39margs, \u001b[38;5;241m*\u001b[39m\u001b[38;5;241m*\u001b[39mkwargs)\n\u001b[0;32m   1543\u001b[0m \u001b[38;5;28;01mtry\u001b[39;00m:\n\u001b[0;32m   1544\u001b[0m     result \u001b[38;5;241m=\u001b[39m \u001b[38;5;28;01mNone\u001b[39;00m\n",
      "File \u001b[1;32mC:\\tools\\Anaconda3\\Lib\\site-packages\\transformers\\models\\roberta\\modeling_roberta.py:410\u001b[0m, in \u001b[0;36mRobertaLayer.forward\u001b[1;34m(self, hidden_states, attention_mask, head_mask, encoder_hidden_states, encoder_attention_mask, past_key_value, output_attentions)\u001b[0m\n\u001b[0;32m    398\u001b[0m \u001b[38;5;28;01mdef\u001b[39;00m \u001b[38;5;21mforward\u001b[39m(\n\u001b[0;32m    399\u001b[0m     \u001b[38;5;28mself\u001b[39m,\n\u001b[0;32m    400\u001b[0m     hidden_states: torch\u001b[38;5;241m.\u001b[39mTensor,\n\u001b[1;32m   (...)\u001b[0m\n\u001b[0;32m    407\u001b[0m ) \u001b[38;5;241m-\u001b[39m\u001b[38;5;241m>\u001b[39m Tuple[torch\u001b[38;5;241m.\u001b[39mTensor]:\n\u001b[0;32m    408\u001b[0m     \u001b[38;5;66;03m# decoder uni-directional self-attention cached key/values tuple is at positions 1,2\u001b[39;00m\n\u001b[0;32m    409\u001b[0m     self_attn_past_key_value \u001b[38;5;241m=\u001b[39m past_key_value[:\u001b[38;5;241m2\u001b[39m] \u001b[38;5;28;01mif\u001b[39;00m past_key_value \u001b[38;5;129;01mis\u001b[39;00m \u001b[38;5;129;01mnot\u001b[39;00m \u001b[38;5;28;01mNone\u001b[39;00m \u001b[38;5;28;01melse\u001b[39;00m \u001b[38;5;28;01mNone\u001b[39;00m\n\u001b[1;32m--> 410\u001b[0m     self_attention_outputs \u001b[38;5;241m=\u001b[39m \u001b[38;5;28mself\u001b[39m\u001b[38;5;241m.\u001b[39mattention(\n\u001b[0;32m    411\u001b[0m         hidden_states,\n\u001b[0;32m    412\u001b[0m         attention_mask,\n\u001b[0;32m    413\u001b[0m         head_mask,\n\u001b[0;32m    414\u001b[0m         output_attentions\u001b[38;5;241m=\u001b[39moutput_attentions,\n\u001b[0;32m    415\u001b[0m         past_key_value\u001b[38;5;241m=\u001b[39mself_attn_past_key_value,\n\u001b[0;32m    416\u001b[0m     )\n\u001b[0;32m    417\u001b[0m     attention_output \u001b[38;5;241m=\u001b[39m self_attention_outputs[\u001b[38;5;241m0\u001b[39m]\n\u001b[0;32m    419\u001b[0m     \u001b[38;5;66;03m# if decoder, the last output is tuple of self-attn cache\u001b[39;00m\n",
      "File \u001b[1;32m~\\AppData\\Roaming\\Python\\Python311\\site-packages\\torch\\nn\\modules\\module.py:1532\u001b[0m, in \u001b[0;36mModule._wrapped_call_impl\u001b[1;34m(self, *args, **kwargs)\u001b[0m\n\u001b[0;32m   1530\u001b[0m     \u001b[38;5;28;01mreturn\u001b[39;00m \u001b[38;5;28mself\u001b[39m\u001b[38;5;241m.\u001b[39m_compiled_call_impl(\u001b[38;5;241m*\u001b[39margs, \u001b[38;5;241m*\u001b[39m\u001b[38;5;241m*\u001b[39mkwargs)  \u001b[38;5;66;03m# type: ignore[misc]\u001b[39;00m\n\u001b[0;32m   1531\u001b[0m \u001b[38;5;28;01melse\u001b[39;00m:\n\u001b[1;32m-> 1532\u001b[0m     \u001b[38;5;28;01mreturn\u001b[39;00m \u001b[38;5;28mself\u001b[39m\u001b[38;5;241m.\u001b[39m_call_impl(\u001b[38;5;241m*\u001b[39margs, \u001b[38;5;241m*\u001b[39m\u001b[38;5;241m*\u001b[39mkwargs)\n",
      "File \u001b[1;32m~\\AppData\\Roaming\\Python\\Python311\\site-packages\\torch\\nn\\modules\\module.py:1541\u001b[0m, in \u001b[0;36mModule._call_impl\u001b[1;34m(self, *args, **kwargs)\u001b[0m\n\u001b[0;32m   1536\u001b[0m \u001b[38;5;66;03m# If we don't have any hooks, we want to skip the rest of the logic in\u001b[39;00m\n\u001b[0;32m   1537\u001b[0m \u001b[38;5;66;03m# this function, and just call forward.\u001b[39;00m\n\u001b[0;32m   1538\u001b[0m \u001b[38;5;28;01mif\u001b[39;00m \u001b[38;5;129;01mnot\u001b[39;00m (\u001b[38;5;28mself\u001b[39m\u001b[38;5;241m.\u001b[39m_backward_hooks \u001b[38;5;129;01mor\u001b[39;00m \u001b[38;5;28mself\u001b[39m\u001b[38;5;241m.\u001b[39m_backward_pre_hooks \u001b[38;5;129;01mor\u001b[39;00m \u001b[38;5;28mself\u001b[39m\u001b[38;5;241m.\u001b[39m_forward_hooks \u001b[38;5;129;01mor\u001b[39;00m \u001b[38;5;28mself\u001b[39m\u001b[38;5;241m.\u001b[39m_forward_pre_hooks\n\u001b[0;32m   1539\u001b[0m         \u001b[38;5;129;01mor\u001b[39;00m _global_backward_pre_hooks \u001b[38;5;129;01mor\u001b[39;00m _global_backward_hooks\n\u001b[0;32m   1540\u001b[0m         \u001b[38;5;129;01mor\u001b[39;00m _global_forward_hooks \u001b[38;5;129;01mor\u001b[39;00m _global_forward_pre_hooks):\n\u001b[1;32m-> 1541\u001b[0m     \u001b[38;5;28;01mreturn\u001b[39;00m forward_call(\u001b[38;5;241m*\u001b[39margs, \u001b[38;5;241m*\u001b[39m\u001b[38;5;241m*\u001b[39mkwargs)\n\u001b[0;32m   1543\u001b[0m \u001b[38;5;28;01mtry\u001b[39;00m:\n\u001b[0;32m   1544\u001b[0m     result \u001b[38;5;241m=\u001b[39m \u001b[38;5;28;01mNone\u001b[39;00m\n",
      "File \u001b[1;32mC:\\tools\\Anaconda3\\Lib\\site-packages\\transformers\\models\\roberta\\modeling_roberta.py:337\u001b[0m, in \u001b[0;36mRobertaAttention.forward\u001b[1;34m(self, hidden_states, attention_mask, head_mask, encoder_hidden_states, encoder_attention_mask, past_key_value, output_attentions)\u001b[0m\n\u001b[0;32m    327\u001b[0m \u001b[38;5;28;01mdef\u001b[39;00m \u001b[38;5;21mforward\u001b[39m(\n\u001b[0;32m    328\u001b[0m     \u001b[38;5;28mself\u001b[39m,\n\u001b[0;32m    329\u001b[0m     hidden_states: torch\u001b[38;5;241m.\u001b[39mTensor,\n\u001b[1;32m   (...)\u001b[0m\n\u001b[0;32m    335\u001b[0m     output_attentions: Optional[\u001b[38;5;28mbool\u001b[39m] \u001b[38;5;241m=\u001b[39m \u001b[38;5;28;01mFalse\u001b[39;00m,\n\u001b[0;32m    336\u001b[0m ) \u001b[38;5;241m-\u001b[39m\u001b[38;5;241m>\u001b[39m Tuple[torch\u001b[38;5;241m.\u001b[39mTensor]:\n\u001b[1;32m--> 337\u001b[0m     self_outputs \u001b[38;5;241m=\u001b[39m \u001b[38;5;28mself\u001b[39m\u001b[38;5;241m.\u001b[39mself(\n\u001b[0;32m    338\u001b[0m         hidden_states,\n\u001b[0;32m    339\u001b[0m         attention_mask,\n\u001b[0;32m    340\u001b[0m         head_mask,\n\u001b[0;32m    341\u001b[0m         encoder_hidden_states,\n\u001b[0;32m    342\u001b[0m         encoder_attention_mask,\n\u001b[0;32m    343\u001b[0m         past_key_value,\n\u001b[0;32m    344\u001b[0m         output_attentions,\n\u001b[0;32m    345\u001b[0m     )\n\u001b[0;32m    346\u001b[0m     attention_output \u001b[38;5;241m=\u001b[39m \u001b[38;5;28mself\u001b[39m\u001b[38;5;241m.\u001b[39moutput(self_outputs[\u001b[38;5;241m0\u001b[39m], hidden_states)\n\u001b[0;32m    347\u001b[0m     outputs \u001b[38;5;241m=\u001b[39m (attention_output,) \u001b[38;5;241m+\u001b[39m self_outputs[\u001b[38;5;241m1\u001b[39m:]  \u001b[38;5;66;03m# add attentions if we output them\u001b[39;00m\n",
      "File \u001b[1;32m~\\AppData\\Roaming\\Python\\Python311\\site-packages\\torch\\nn\\modules\\module.py:1532\u001b[0m, in \u001b[0;36mModule._wrapped_call_impl\u001b[1;34m(self, *args, **kwargs)\u001b[0m\n\u001b[0;32m   1530\u001b[0m     \u001b[38;5;28;01mreturn\u001b[39;00m \u001b[38;5;28mself\u001b[39m\u001b[38;5;241m.\u001b[39m_compiled_call_impl(\u001b[38;5;241m*\u001b[39margs, \u001b[38;5;241m*\u001b[39m\u001b[38;5;241m*\u001b[39mkwargs)  \u001b[38;5;66;03m# type: ignore[misc]\u001b[39;00m\n\u001b[0;32m   1531\u001b[0m \u001b[38;5;28;01melse\u001b[39;00m:\n\u001b[1;32m-> 1532\u001b[0m     \u001b[38;5;28;01mreturn\u001b[39;00m \u001b[38;5;28mself\u001b[39m\u001b[38;5;241m.\u001b[39m_call_impl(\u001b[38;5;241m*\u001b[39margs, \u001b[38;5;241m*\u001b[39m\u001b[38;5;241m*\u001b[39mkwargs)\n",
      "File \u001b[1;32m~\\AppData\\Roaming\\Python\\Python311\\site-packages\\torch\\nn\\modules\\module.py:1541\u001b[0m, in \u001b[0;36mModule._call_impl\u001b[1;34m(self, *args, **kwargs)\u001b[0m\n\u001b[0;32m   1536\u001b[0m \u001b[38;5;66;03m# If we don't have any hooks, we want to skip the rest of the logic in\u001b[39;00m\n\u001b[0;32m   1537\u001b[0m \u001b[38;5;66;03m# this function, and just call forward.\u001b[39;00m\n\u001b[0;32m   1538\u001b[0m \u001b[38;5;28;01mif\u001b[39;00m \u001b[38;5;129;01mnot\u001b[39;00m (\u001b[38;5;28mself\u001b[39m\u001b[38;5;241m.\u001b[39m_backward_hooks \u001b[38;5;129;01mor\u001b[39;00m \u001b[38;5;28mself\u001b[39m\u001b[38;5;241m.\u001b[39m_backward_pre_hooks \u001b[38;5;129;01mor\u001b[39;00m \u001b[38;5;28mself\u001b[39m\u001b[38;5;241m.\u001b[39m_forward_hooks \u001b[38;5;129;01mor\u001b[39;00m \u001b[38;5;28mself\u001b[39m\u001b[38;5;241m.\u001b[39m_forward_pre_hooks\n\u001b[0;32m   1539\u001b[0m         \u001b[38;5;129;01mor\u001b[39;00m _global_backward_pre_hooks \u001b[38;5;129;01mor\u001b[39;00m _global_backward_hooks\n\u001b[0;32m   1540\u001b[0m         \u001b[38;5;129;01mor\u001b[39;00m _global_forward_hooks \u001b[38;5;129;01mor\u001b[39;00m _global_forward_pre_hooks):\n\u001b[1;32m-> 1541\u001b[0m     \u001b[38;5;28;01mreturn\u001b[39;00m forward_call(\u001b[38;5;241m*\u001b[39margs, \u001b[38;5;241m*\u001b[39m\u001b[38;5;241m*\u001b[39mkwargs)\n\u001b[0;32m   1543\u001b[0m \u001b[38;5;28;01mtry\u001b[39;00m:\n\u001b[0;32m   1544\u001b[0m     result \u001b[38;5;241m=\u001b[39m \u001b[38;5;28;01mNone\u001b[39;00m\n",
      "File \u001b[1;32mC:\\tools\\Anaconda3\\Lib\\site-packages\\transformers\\models\\roberta\\modeling_roberta.py:256\u001b[0m, in \u001b[0;36mRobertaSelfAttention.forward\u001b[1;34m(self, hidden_states, attention_mask, head_mask, encoder_hidden_states, encoder_attention_mask, past_key_value, output_attentions)\u001b[0m\n\u001b[0;32m    253\u001b[0m     attention_scores \u001b[38;5;241m=\u001b[39m attention_scores \u001b[38;5;241m+\u001b[39m attention_mask\n\u001b[0;32m    255\u001b[0m \u001b[38;5;66;03m# Normalize the attention scores to probabilities.\u001b[39;00m\n\u001b[1;32m--> 256\u001b[0m attention_probs \u001b[38;5;241m=\u001b[39m nn\u001b[38;5;241m.\u001b[39mfunctional\u001b[38;5;241m.\u001b[39msoftmax(attention_scores, dim\u001b[38;5;241m=\u001b[39m\u001b[38;5;241m-\u001b[39m\u001b[38;5;241m1\u001b[39m)\n\u001b[0;32m    258\u001b[0m \u001b[38;5;66;03m# This is actually dropping out entire tokens to attend to, which might\u001b[39;00m\n\u001b[0;32m    259\u001b[0m \u001b[38;5;66;03m# seem a bit unusual, but is taken from the original Transformer paper.\u001b[39;00m\n\u001b[0;32m    260\u001b[0m attention_probs \u001b[38;5;241m=\u001b[39m \u001b[38;5;28mself\u001b[39m\u001b[38;5;241m.\u001b[39mdropout(attention_probs)\n",
      "File \u001b[1;32m~\\AppData\\Roaming\\Python\\Python311\\site-packages\\torch\\nn\\functional.py:1885\u001b[0m, in \u001b[0;36msoftmax\u001b[1;34m(input, dim, _stacklevel, dtype)\u001b[0m\n\u001b[0;32m   1883\u001b[0m     dim \u001b[38;5;241m=\u001b[39m _get_softmax_dim(\u001b[38;5;124m\"\u001b[39m\u001b[38;5;124msoftmax\u001b[39m\u001b[38;5;124m\"\u001b[39m, \u001b[38;5;28minput\u001b[39m\u001b[38;5;241m.\u001b[39mdim(), _stacklevel)\n\u001b[0;32m   1884\u001b[0m \u001b[38;5;28;01mif\u001b[39;00m dtype \u001b[38;5;129;01mis\u001b[39;00m \u001b[38;5;28;01mNone\u001b[39;00m:\n\u001b[1;32m-> 1885\u001b[0m     ret \u001b[38;5;241m=\u001b[39m \u001b[38;5;28minput\u001b[39m\u001b[38;5;241m.\u001b[39msoftmax(dim)\n\u001b[0;32m   1886\u001b[0m \u001b[38;5;28;01melse\u001b[39;00m:\n\u001b[0;32m   1887\u001b[0m     ret \u001b[38;5;241m=\u001b[39m \u001b[38;5;28minput\u001b[39m\u001b[38;5;241m.\u001b[39msoftmax(dim, dtype\u001b[38;5;241m=\u001b[39mdtype)\n",
      "\u001b[1;31mKeyboardInterrupt\u001b[0m: "
     ]
    }
   ],
   "source": [
    "res = {}\n",
    "for i, row in tqdm(rated_chats.iterrows(), total = len(rated_chats)):\n",
    "    try:\n",
    "        text = row['full_chat']\n",
    "        myid = row['Chat ID']\n",
    "        roberta_result = roberta_scores(text)\n",
    "        run = {**roberta_result}\n",
    "        res[myid] = run\n",
    "    except (RuntimeError, ValueError):\n",
    "        print(f'Broke for id {myid}')"
   ]
  },
  {
   "cell_type": "code",
   "execution_count": null,
   "id": "bbeed150-6a5b-4310-917c-b93235d755ac",
   "metadata": {
    "tags": []
   },
   "outputs": [],
   "source": [
    "results_df = pd.DataFrame(res).T\n",
    "results_df = results_df.reset_index().rename(columns = {'index' : 'Chat ID'})\n",
    "results_df = results_df.merge(rated_chats, how = 'left')"
   ]
  },
  {
   "cell_type": "code",
   "execution_count": null,
   "id": "651eb6ee-ae60-4a1f-93ae-a1b62db2d155",
   "metadata": {
    "tags": []
   },
   "outputs": [],
   "source": [
    "results_df.head()"
   ]
  },
  {
   "cell_type": "code",
   "execution_count": null,
   "id": "36fa86fc-fe15-40df-a498-04b789336976",
   "metadata": {
    "tags": []
   },
   "outputs": [],
   "source": [
    "results_df.to_csv('sentiment_scores_df')"
   ]
  },
  {
   "cell_type": "code",
   "execution_count": null,
   "id": "12207b45-da06-46df-a173-3f843e632a27",
   "metadata": {
    "tags": []
   },
   "outputs": [],
   "source": [
    "sns.pairplot( data = results_df,\n",
    "             vars = ['neg' , 'neu' , 'pos'],\n",
    "             hue = 'Rating (0-4)',\n",
    "             palette = 'tab10')\n",
    "\n",
    "plt.show()\n",
    "             "
   ]
  },
  {
   "cell_type": "markdown",
   "id": "899f5409-95c2-4bbf-954b-ea07eba26324",
   "metadata": {},
   "source": [
    "### Ratings vs Sentiment"
   ]
  },
  {
   "cell_type": "code",
   "execution_count": null,
   "id": "2796f597-2a55-41cd-b9ce-c83c7d165c01",
   "metadata": {
    "tags": []
   },
   "outputs": [],
   "source": [
    "sent_scores_list = ['neg','neu','pos']"
   ]
  },
  {
   "cell_type": "code",
   "execution_count": null,
   "id": "eaca41fd-853f-46f4-ac35-c3a3aab8f143",
   "metadata": {
    "tags": []
   },
   "outputs": [],
   "source": [
    "rated_one = results_df[results_df['Rating (0-4)'] == 1].copy()"
   ]
  },
  {
   "cell_type": "code",
   "execution_count": null,
   "id": "96a575ee-5bf2-4afd-9ebb-6313c16e823d",
   "metadata": {
    "tags": []
   },
   "outputs": [],
   "source": [
    "one_ratings_by_sentiment = rated_one.sort_values('pos', ascending = False).copy()"
   ]
  },
  {
   "cell_type": "code",
   "execution_count": null,
   "id": "940a0d5b-e17f-415d-aa23-638c24055bc4",
   "metadata": {
    "tags": []
   },
   "outputs": [],
   "source": [
    "print(one_ratings_by_sentiment['full_chat'].values[0])"
   ]
  },
  {
   "cell_type": "code",
   "execution_count": null,
   "id": "1a8b59b3-36c0-4504-9f9d-5a8bc83755b8",
   "metadata": {
    "tags": []
   },
   "outputs": [],
   "source": [
    "one_ratings_by_sentiment[sent_scores_list].iloc[0]"
   ]
  },
  {
   "cell_type": "code",
   "execution_count": null,
   "id": "1e3a382d-d72e-4942-bb63-8c01342789f8",
   "metadata": {
    "tags": []
   },
   "outputs": [],
   "source": [
    "print(one_ratings_by_sentiment['full_chat'].values[1])"
   ]
  },
  {
   "cell_type": "code",
   "execution_count": null,
   "id": "3a921c19-dae0-4e95-ab6d-cb40115b7300",
   "metadata": {
    "tags": []
   },
   "outputs": [],
   "source": [
    "one_ratings_by_sentiment[sent_scores_list].iloc[1]"
   ]
  },
  {
   "cell_type": "code",
   "execution_count": null,
   "id": "cc375914-72e7-44be-be23-29536ce6b537",
   "metadata": {
    "tags": []
   },
   "outputs": [],
   "source": [
    "print(one_ratings_by_sentiment['full_chat'].values[2])"
   ]
  },
  {
   "cell_type": "code",
   "execution_count": null,
   "id": "f8172946-3823-4ac0-95bd-d03d7d4dbb94",
   "metadata": {
    "tags": []
   },
   "outputs": [],
   "source": [
    "one_ratings_by_sentiment[sent_scores_list].iloc[2]"
   ]
  },
  {
   "cell_type": "code",
   "execution_count": null,
   "id": "a5c65a74-6d20-4ee8-b1c7-fca0e00282ec",
   "metadata": {
    "tags": []
   },
   "outputs": [],
   "source": [
    "print(one_ratings_by_sentiment['full_chat'].values[3])"
   ]
  },
  {
   "cell_type": "code",
   "execution_count": null,
   "id": "f6badeca-34ec-4a3a-bb48-fcec94496d42",
   "metadata": {
    "tags": []
   },
   "outputs": [],
   "source": [
    "one_ratings_by_sentiment[sent_scores_list].iloc[3]"
   ]
  },
  {
   "cell_type": "code",
   "execution_count": null,
   "id": "d07b0207-a276-4050-8220-fdbc23f71584",
   "metadata": {
    "tags": []
   },
   "outputs": [],
   "source": [
    "rated_four = results_df[results_df['Rating (0-4)'] == 4].copy()"
   ]
  },
  {
   "cell_type": "code",
   "execution_count": null,
   "id": "ee3c96ea-0ac6-4fba-aae1-8191575a982a",
   "metadata": {
    "tags": []
   },
   "outputs": [],
   "source": [
    "four_ratings_by_sentiment = rated_four.sort_values('neg', ascending = False).copy()"
   ]
  },
  {
   "cell_type": "code",
   "execution_count": null,
   "id": "69072db9-4e61-4157-b7b6-370f3012dcc2",
   "metadata": {
    "tags": []
   },
   "outputs": [],
   "source": [
    "print(four_ratings_by_sentiment['full_chat'].values[0])"
   ]
  },
  {
   "cell_type": "code",
   "execution_count": null,
   "id": "d14f0211-607c-4dc5-bd4b-0eca5cc3af95",
   "metadata": {
    "tags": []
   },
   "outputs": [],
   "source": [
    "four_ratings_by_sentiment[sent_scores_list].iloc[0]"
   ]
  },
  {
   "cell_type": "code",
   "execution_count": null,
   "id": "cab75ad4-5e7e-4d80-8894-d6a6aaa851a1",
   "metadata": {
    "tags": []
   },
   "outputs": [],
   "source": [
    "print(four_ratings_by_sentiment['full_chat'].values[1])"
   ]
  },
  {
   "cell_type": "code",
   "execution_count": null,
   "id": "b0ce3620-db57-46b0-bb1a-562bc17f1376",
   "metadata": {
    "tags": []
   },
   "outputs": [],
   "source": [
    "four_ratings_by_sentiment[sent_scores_list].iloc[1]"
   ]
  },
  {
   "cell_type": "code",
   "execution_count": null,
   "id": "7e1a45bb-7e1a-4d98-ae41-62a1585e2ddf",
   "metadata": {
    "tags": []
   },
   "outputs": [],
   "source": [
    "print(four_ratings_by_sentiment['full_chat'].values[2])"
   ]
  },
  {
   "cell_type": "code",
   "execution_count": null,
   "id": "0e360181-7f14-430c-9e45-9d9b6c0be52e",
   "metadata": {
    "tags": []
   },
   "outputs": [],
   "source": [
    "four_ratings_by_sentiment[sent_scores_list].iloc[2]"
   ]
  },
  {
   "cell_type": "code",
   "execution_count": null,
   "id": "332a1d3a-f9b8-4a0b-aaca-2d4eb4b3e540",
   "metadata": {
    "tags": []
   },
   "outputs": [],
   "source": [
    "from sklearn.prepocessing import StandardScaler\n",
    "from sklearn.pipeline import Pipeline\n",
    "import statsmodels.formula.api as smf\n",
    "from sklearn.ensemble import RandomForestRegressor"
   ]
  },
  {
   "cell_type": "code",
   "execution_count": null,
   "id": "58983573-79f3-40ef-acd7-f394e4f32219",
   "metadata": {
    "tags": []
   },
   "outputs": [],
   "source": [
    "results"
   ]
  }
 ],
 "metadata": {
  "kernelspec": {
   "display_name": "Python 3 (ipykernel)",
   "language": "python",
   "name": "python3"
  },
  "language_info": {
   "codemirror_mode": {
    "name": "ipython",
    "version": 3
   },
   "file_extension": ".py",
   "mimetype": "text/x-python",
   "name": "python",
   "nbconvert_exporter": "python",
   "pygments_lexer": "ipython3",
   "version": "3.11.7"
  }
 },
 "nbformat": 4,
 "nbformat_minor": 5
}
