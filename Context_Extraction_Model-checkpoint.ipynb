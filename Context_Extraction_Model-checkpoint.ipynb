{
 "cells": [
  {
   "cell_type": "markdown",
   "id": "86339993-6413-4554-9160-43ef2b8f95c7",
   "metadata": {},
   "source": [
    "# Word Extraction Classification Model\n",
    "\n",
    "## Field Experience 2024\n",
    "\n",
    "### Ryan Negron\n"
   ]
  },
  {
   "cell_type": "code",
   "execution_count": 1,
   "id": "3d46eb3f-3de5-4d1f-8c15-f1f2f3a35ed2",
   "metadata": {
    "tags": []
   },
   "outputs": [],
   "source": [
    "import pandas as pd\n",
    "import numpy as np\n",
    "import matplotlib.pyplot as plt\n",
    "from sklearn import model_selection\n",
    "from sklearn.feature_extraction.text import TfidfVectorizer\n",
    "from sklearn import linear_model\n",
    "from sklearn import metrics\n",
    "import math"
   ]
  },
  {
   "cell_type": "markdown",
   "id": "01e475c2-df2c-4d07-8d21-c09c6bbf1b4e",
   "metadata": {},
   "source": [
    "### Using Context\n",
    "\n",
    "We will now import the TfidfVectorizer instead of our CountVectorizer to use context in our model. The CountVectorizer simply uses frequency whereas the TfidfVectorizer performs a TfIDf transformation or in other words performs an inverse document frequency weighting of terms on top of a simple term frequency count. This transformation takes context around words into account."
   ]
  },
  {
   "cell_type": "code",
   "execution_count": 2,
   "id": "4a1da590-3576-4e5b-8858-ae41369f874b",
   "metadata": {
    "tags": []
   },
   "outputs": [],
   "source": [
    "df = pd.read_csv('deidentified_transcript.csv')"
   ]
  },
  {
   "cell_type": "code",
   "execution_count": 3,
   "id": "7c543513-d631-4a60-963d-ef56be43117b",
   "metadata": {
    "tags": []
   },
   "outputs": [
    {
     "name": "stdout",
     "output_type": "stream",
     "text": [
      "<class 'pandas.core.frame.DataFrame'>\n",
      "RangeIndex: 10546 entries, 0 to 10545\n",
      "Data columns (total 23 columns):\n",
      " #   Column                         Non-Null Count  Dtype  \n",
      "---  ------                         --------------  -----  \n",
      " 0   Chat ID                        10546 non-null  int64  \n",
      " 1   Browser                        10546 non-null  object \n",
      " 2   Operating System               10541 non-null  object \n",
      " 3   User Agent                     10546 non-null  object \n",
      " 4   Referrer                       10546 non-null  object \n",
      " 5   Widget                         10544 non-null  object \n",
      " 6   Department                     10382 non-null  object \n",
      " 7   Timestamp                      10546 non-null  object \n",
      " 8   Wait Time (seconds)            10546 non-null  int64  \n",
      " 9   Duration (seconds)             10546 non-null  int64  \n",
      " 10  Screensharing                  32 non-null     object \n",
      " 11  Rating (0-4)                   10546 non-null  int64  \n",
      " 12  Comment                        562 non-null    object \n",
      " 13  Transfer History               245 non-null    object \n",
      " 14  Message Count                  10546 non-null  int64  \n",
      " 15  Internal Note                  49 non-null     object \n",
      " 16  Tags                           2 non-null      object \n",
      " 17  Ticket ID                      2111 non-null   float64\n",
      " 18  Unnamed: 27                    116 non-null    object \n",
      " 19  Deidentified_Answerer          10546 non-null  object \n",
      " 20  Deidentified_Email             10546 non-null  object \n",
      " 21  Deidentified_Transcript        10546 non-null  object \n",
      " 22  Deidentified_Initial_Question  9577 non-null   object \n",
      "dtypes: float64(1), int64(5), object(17)\n",
      "memory usage: 1.9+ MB\n"
     ]
    }
   ],
   "source": [
    "df.info()"
   ]
  },
  {
   "cell_type": "code",
   "execution_count": 4,
   "id": "43f9fdf8-ae8e-41c8-9894-27faf3954567",
   "metadata": {
    "tags": []
   },
   "outputs": [],
   "source": [
    "df['Deidentified_Initial_Question'] = df['Deidentified_Initial_Question'].fillna(value = \"'No Initital Question'\")"
   ]
  },
  {
   "cell_type": "code",
   "execution_count": 5,
   "id": "818d830d-394b-406a-a11b-36c351418f7a",
   "metadata": {
    "tags": []
   },
   "outputs": [],
   "source": [
    "df['full_chat'] = df['Deidentified_Transcript'] + ' ' + df['Deidentified_Initial_Question']"
   ]
  },
  {
   "cell_type": "code",
   "execution_count": 6,
   "id": "c441bec1-413c-4610-b94c-f32e013b37f9",
   "metadata": {
    "tags": []
   },
   "outputs": [],
   "source": [
    "word_list = ['full_chat', 'Rating (0-4)']"
   ]
  },
  {
   "cell_type": "code",
   "execution_count": 7,
   "id": "5ba03f7d-7a21-4c2b-8413-8d0d6a112610",
   "metadata": {
    "tags": []
   },
   "outputs": [],
   "source": [
    "word_df = df[word_list].copy()"
   ]
  },
  {
   "cell_type": "code",
   "execution_count": 8,
   "id": "e93a3ff8-53c3-4d8b-98f7-9d36bd0818e9",
   "metadata": {
    "tags": []
   },
   "outputs": [
    {
     "data": {
      "text/html": [
       "<div>\n",
       "<style scoped>\n",
       "    .dataframe tbody tr th:only-of-type {\n",
       "        vertical-align: middle;\n",
       "    }\n",
       "\n",
       "    .dataframe tbody tr th {\n",
       "        vertical-align: top;\n",
       "    }\n",
       "\n",
       "    .dataframe thead th {\n",
       "        text-align: right;\n",
       "    }\n",
       "</style>\n",
       "<table border=\"1\" class=\"dataframe\">\n",
       "  <thead>\n",
       "    <tr style=\"text-align: right;\">\n",
       "      <th></th>\n",
       "      <th>full_chat</th>\n",
       "      <th>Rating (0-4)</th>\n",
       "    </tr>\n",
       "  </thead>\n",
       "  <tbody>\n",
       "    <tr>\n",
       "      <th>0</th>\n",
       "      <td>10:08:15 - User104159bb5b : Hi\\n10:08:16 - Lib...</td>\n",
       "      <td>0</td>\n",
       "    </tr>\n",
       "    <tr>\n",
       "      <th>1</th>\n",
       "      <td>10:14:47 - Librarian 1 : Hi\\n10:14:55 - Librar...</td>\n",
       "      <td>0</td>\n",
       "    </tr>\n",
       "    <tr>\n",
       "      <th>2</th>\n",
       "      <td>11:14:21 - Librarian 2 : Hello,I'll check on t...</td>\n",
       "      <td>0</td>\n",
       "    </tr>\n",
       "    <tr>\n",
       "      <th>3</th>\n",
       "      <td>12:16:12 - Librarian 3 : hi\\n12:16:17 - Librar...</td>\n",
       "      <td>0</td>\n",
       "    </tr>\n",
       "    <tr>\n",
       "      <th>4</th>\n",
       "      <td>13:54:37 - Librarian 4 : hello [nameredacted]\\...</td>\n",
       "      <td>0</td>\n",
       "    </tr>\n",
       "  </tbody>\n",
       "</table>\n",
       "</div>"
      ],
      "text/plain": [
       "                                           full_chat  Rating (0-4)\n",
       "0  10:08:15 - User104159bb5b : Hi\\n10:08:16 - Lib...             0\n",
       "1  10:14:47 - Librarian 1 : Hi\\n10:14:55 - Librar...             0\n",
       "2  11:14:21 - Librarian 2 : Hello,I'll check on t...             0\n",
       "3  12:16:12 - Librarian 3 : hi\\n12:16:17 - Librar...             0\n",
       "4  13:54:37 - Librarian 4 : hello [nameredacted]\\...             0"
      ]
     },
     "execution_count": 8,
     "metadata": {},
     "output_type": "execute_result"
    }
   ],
   "source": [
    "word_df.head()"
   ]
  },
  {
   "cell_type": "code",
   "execution_count": 9,
   "id": "0c6553bc-6c8e-48e3-a360-07bcd1cf7f77",
   "metadata": {
    "tags": []
   },
   "outputs": [],
   "source": [
    "rated_chats = word_df.loc[word_df['Rating (0-4)'] >0].copy()"
   ]
  },
  {
   "cell_type": "code",
   "execution_count": 10,
   "id": "1c6780d9-668a-4bc4-b995-324e07ca600b",
   "metadata": {
    "tags": []
   },
   "outputs": [
    {
     "data": {
      "text/html": [
       "<div>\n",
       "<style scoped>\n",
       "    .dataframe tbody tr th:only-of-type {\n",
       "        vertical-align: middle;\n",
       "    }\n",
       "\n",
       "    .dataframe tbody tr th {\n",
       "        vertical-align: top;\n",
       "    }\n",
       "\n",
       "    .dataframe thead th {\n",
       "        text-align: right;\n",
       "    }\n",
       "</style>\n",
       "<table border=\"1\" class=\"dataframe\">\n",
       "  <thead>\n",
       "    <tr style=\"text-align: right;\">\n",
       "      <th></th>\n",
       "      <th>full_chat</th>\n",
       "      <th>Rating (0-4)</th>\n",
       "    </tr>\n",
       "  </thead>\n",
       "  <tbody>\n",
       "    <tr>\n",
       "      <th>498</th>\n",
       "      <td>13:36:18 - Librarian 4 : hello [nameredacted]\\...</td>\n",
       "      <td>4</td>\n",
       "    </tr>\n",
       "    <tr>\n",
       "      <th>503</th>\n",
       "      <td>08:46:17 - Librarian 11 : Yes from 9:99 am - 9...</td>\n",
       "      <td>4</td>\n",
       "    </tr>\n",
       "    <tr>\n",
       "      <th>517</th>\n",
       "      <td>17:46:42 - Librarian 33 : [nameredacted] [name...</td>\n",
       "      <td>4</td>\n",
       "    </tr>\n",
       "    <tr>\n",
       "      <th>534</th>\n",
       "      <td>14:54:26 - Librarian 1 : Hello\\n14:55:22 - Lib...</td>\n",
       "      <td>4</td>\n",
       "    </tr>\n",
       "    <tr>\n",
       "      <th>537</th>\n",
       "      <td>15:19:46 - Librarian 26 : [nameredacted] [name...</td>\n",
       "      <td>4</td>\n",
       "    </tr>\n",
       "  </tbody>\n",
       "</table>\n",
       "</div>"
      ],
      "text/plain": [
       "                                             full_chat  Rating (0-4)\n",
       "498  13:36:18 - Librarian 4 : hello [nameredacted]\\...             4\n",
       "503  08:46:17 - Librarian 11 : Yes from 9:99 am - 9...             4\n",
       "517  17:46:42 - Librarian 33 : [nameredacted] [name...             4\n",
       "534  14:54:26 - Librarian 1 : Hello\\n14:55:22 - Lib...             4\n",
       "537  15:19:46 - Librarian 26 : [nameredacted] [name...             4"
      ]
     },
     "execution_count": 10,
     "metadata": {},
     "output_type": "execute_result"
    }
   ],
   "source": [
    "rated_chats.head()"
   ]
  },
  {
   "cell_type": "code",
   "execution_count": 11,
   "id": "13ccc2ac-0a70-48aa-9fa7-74bb13226688",
   "metadata": {
    "tags": []
   },
   "outputs": [
    {
     "name": "stdout",
     "output_type": "stream",
     "text": [
      "<class 'pandas.core.frame.DataFrame'>\n",
      "Int64Index: 2997 entries, 498 to 10476\n",
      "Data columns (total 2 columns):\n",
      " #   Column        Non-Null Count  Dtype \n",
      "---  ------        --------------  ----- \n",
      " 0   full_chat     2997 non-null   object\n",
      " 1   Rating (0-4)  2997 non-null   int64 \n",
      "dtypes: int64(1), object(1)\n",
      "memory usage: 70.2+ KB\n"
     ]
    }
   ],
   "source": [
    "rated_chats.info()"
   ]
  },
  {
   "cell_type": "code",
   "execution_count": 12,
   "id": "6b4c1448-4293-436c-9c7f-721b1096718d",
   "metadata": {
    "tags": []
   },
   "outputs": [
    {
     "data": {
      "text/plain": [
       "full_chat       0\n",
       "Rating (0-4)    0\n",
       "dtype: int64"
      ]
     },
     "execution_count": 12,
     "metadata": {},
     "output_type": "execute_result"
    }
   ],
   "source": [
    "rated_chats.isna().sum()"
   ]
  },
  {
   "cell_type": "code",
   "execution_count": 13,
   "id": "a1ee4587-543d-447a-a890-cd550ede410f",
   "metadata": {
    "tags": []
   },
   "outputs": [],
   "source": [
    "rated_chats['Rating (0-4)'] = np.where(rated_chats['Rating (0-4)'] < 4, 1, 4)"
   ]
  },
  {
   "cell_type": "code",
   "execution_count": 14,
   "id": "e11ccaa0-5285-4c46-b276-658d200b062f",
   "metadata": {
    "tags": []
   },
   "outputs": [
    {
     "data": {
      "text/plain": [
       "full_chat       2997\n",
       "Rating (0-4)       2\n",
       "dtype: int64"
      ]
     },
     "execution_count": 14,
     "metadata": {},
     "output_type": "execute_result"
    }
   ],
   "source": [
    "rated_chats.nunique()"
   ]
  },
  {
   "cell_type": "markdown",
   "id": "90d4d6f9-a24c-4fda-acd9-2e68ec3df84c",
   "metadata": {},
   "source": [
    "Let's use 1 and 4 as placeholders for 'Satisfied' or 'Unsatisfied' for the sake of our model. 4 rated chats will be Satisfied Chats and chats rated 1-3 will be reduced to 1 rated chats to represent dissatisfaction of some kind."
   ]
  },
  {
   "cell_type": "code",
   "execution_count": 15,
   "id": "9d6c5c3b-d178-4d60-a201-7f244814a898",
   "metadata": {
    "tags": []
   },
   "outputs": [],
   "source": [
    "x = rated_chats['full_chat']"
   ]
  },
  {
   "cell_type": "code",
   "execution_count": 16,
   "id": "3dc7efc9-9217-42e9-ba83-f73dc0d084f1",
   "metadata": {
    "tags": []
   },
   "outputs": [],
   "source": [
    "y = rated_chats['Rating (0-4)']"
   ]
  },
  {
   "cell_type": "code",
   "execution_count": 88,
   "id": "00f10401-4a83-4da0-a138-4ae3fd9d9415",
   "metadata": {
    "tags": []
   },
   "outputs": [],
   "source": [
    "def create_list(r1,r2):\n",
    "    return [item for item in range(r1, r2+1)]\n"
   ]
  },
  {
   "cell_type": "code",
   "execution_count": 89,
   "id": "d00e4b98-8c42-40cb-9da1-65db39b1bd5f",
   "metadata": {
    "tags": []
   },
   "outputs": [],
   "source": [
    "lib_id_list = create_list(0,81)"
   ]
  },
  {
   "cell_type": "code",
   "execution_count": 117,
   "id": "4ff25d25-3f28-4bad-bea4-222fcb7a6a77",
   "metadata": {
    "tags": []
   },
   "outputs": [],
   "source": [
    "map_list = map(str, lib_id_list)"
   ]
  },
  {
   "cell_type": "code",
   "execution_count": 120,
   "id": "d0f8ec88-e52a-4f7d-aef6-760b4396c6ef",
   "metadata": {
    "tags": []
   },
   "outputs": [],
   "source": [
    "num_list = list(map_list)"
   ]
  },
  {
   "cell_type": "code",
   "execution_count": 121,
   "id": "465ff157-9990-4297-85ae-60c781cdbef6",
   "metadata": {
    "tags": []
   },
   "outputs": [],
   "source": [
    "stop_list = ['library', 'Library', 'librarian', 'Librarian', 'user', ] + num_list"
   ]
  },
  {
   "cell_type": "code",
   "execution_count": 122,
   "id": "41fb7228-7391-4c9c-b444-8a2249d42659",
   "metadata": {
    "tags": []
   },
   "outputs": [],
   "source": [
    "x_train, x_test, y_train, y_test = model_selection.train_test_split(x, y, test_size = 0.2, random_state = 151)\n"
   ]
  },
  {
   "cell_type": "code",
   "execution_count": 123,
   "id": "d6fa00f3-df86-41a9-bda0-c63113254638",
   "metadata": {
    "tags": []
   },
   "outputs": [],
   "source": [
    "vectorizer = TfidfVectorizer(ngram_range = (1, 2), stop_words = stop_list, min_df=5, max_df = .8)"
   ]
  },
  {
   "cell_type": "code",
   "execution_count": 124,
   "id": "a107e3f4-c038-49af-80d9-6646f2a07858",
   "metadata": {
    "tags": []
   },
   "outputs": [],
   "source": [
    "X_train = vectorizer.fit_transform(x_train)"
   ]
  },
  {
   "cell_type": "code",
   "execution_count": 125,
   "id": "63374bad-0134-40e6-9208-a6a3116149ac",
   "metadata": {
    "tags": []
   },
   "outputs": [],
   "source": [
    "X_test = vectorizer.fit_transform(x_test)"
   ]
  },
  {
   "cell_type": "code",
   "execution_count": 126,
   "id": "fba8f2fa-1968-4674-95b4-fbf494d7d2ee",
   "metadata": {
    "tags": []
   },
   "outputs": [
    {
     "data": {
      "text/html": [
       "<style>#sk-container-id-10 {color: black;}#sk-container-id-10 pre{padding: 0;}#sk-container-id-10 div.sk-toggleable {background-color: white;}#sk-container-id-10 label.sk-toggleable__label {cursor: pointer;display: block;width: 100%;margin-bottom: 0;padding: 0.3em;box-sizing: border-box;text-align: center;}#sk-container-id-10 label.sk-toggleable__label-arrow:before {content: \"▸\";float: left;margin-right: 0.25em;color: #696969;}#sk-container-id-10 label.sk-toggleable__label-arrow:hover:before {color: black;}#sk-container-id-10 div.sk-estimator:hover label.sk-toggleable__label-arrow:before {color: black;}#sk-container-id-10 div.sk-toggleable__content {max-height: 0;max-width: 0;overflow: hidden;text-align: left;background-color: #f0f8ff;}#sk-container-id-10 div.sk-toggleable__content pre {margin: 0.2em;color: black;border-radius: 0.25em;background-color: #f0f8ff;}#sk-container-id-10 input.sk-toggleable__control:checked~div.sk-toggleable__content {max-height: 200px;max-width: 100%;overflow: auto;}#sk-container-id-10 input.sk-toggleable__control:checked~label.sk-toggleable__label-arrow:before {content: \"▾\";}#sk-container-id-10 div.sk-estimator input.sk-toggleable__control:checked~label.sk-toggleable__label {background-color: #d4ebff;}#sk-container-id-10 div.sk-label input.sk-toggleable__control:checked~label.sk-toggleable__label {background-color: #d4ebff;}#sk-container-id-10 input.sk-hidden--visually {border: 0;clip: rect(1px 1px 1px 1px);clip: rect(1px, 1px, 1px, 1px);height: 1px;margin: -1px;overflow: hidden;padding: 0;position: absolute;width: 1px;}#sk-container-id-10 div.sk-estimator {font-family: monospace;background-color: #f0f8ff;border: 1px dotted black;border-radius: 0.25em;box-sizing: border-box;margin-bottom: 0.5em;}#sk-container-id-10 div.sk-estimator:hover {background-color: #d4ebff;}#sk-container-id-10 div.sk-parallel-item::after {content: \"\";width: 100%;border-bottom: 1px solid gray;flex-grow: 1;}#sk-container-id-10 div.sk-label:hover label.sk-toggleable__label {background-color: #d4ebff;}#sk-container-id-10 div.sk-serial::before {content: \"\";position: absolute;border-left: 1px solid gray;box-sizing: border-box;top: 0;bottom: 0;left: 50%;z-index: 0;}#sk-container-id-10 div.sk-serial {display: flex;flex-direction: column;align-items: center;background-color: white;padding-right: 0.2em;padding-left: 0.2em;position: relative;}#sk-container-id-10 div.sk-item {position: relative;z-index: 1;}#sk-container-id-10 div.sk-parallel {display: flex;align-items: stretch;justify-content: center;background-color: white;position: relative;}#sk-container-id-10 div.sk-item::before, #sk-container-id-10 div.sk-parallel-item::before {content: \"\";position: absolute;border-left: 1px solid gray;box-sizing: border-box;top: 0;bottom: 0;left: 50%;z-index: -1;}#sk-container-id-10 div.sk-parallel-item {display: flex;flex-direction: column;z-index: 1;position: relative;background-color: white;}#sk-container-id-10 div.sk-parallel-item:first-child::after {align-self: flex-end;width: 50%;}#sk-container-id-10 div.sk-parallel-item:last-child::after {align-self: flex-start;width: 50%;}#sk-container-id-10 div.sk-parallel-item:only-child::after {width: 0;}#sk-container-id-10 div.sk-dashed-wrapped {border: 1px dashed gray;margin: 0 0.4em 0.5em 0.4em;box-sizing: border-box;padding-bottom: 0.4em;background-color: white;}#sk-container-id-10 div.sk-label label {font-family: monospace;font-weight: bold;display: inline-block;line-height: 1.2em;}#sk-container-id-10 div.sk-label-container {text-align: center;}#sk-container-id-10 div.sk-container {/* jupyter's `normalize.less` sets `[hidden] { display: none; }` but bootstrap.min.css set `[hidden] { display: none !important; }` so we also need the `!important` here to be able to override the default hidden behavior on the sphinx rendered scikit-learn.org. See: https://github.com/scikit-learn/scikit-learn/issues/21755 */display: inline-block !important;position: relative;}#sk-container-id-10 div.sk-text-repr-fallback {display: none;}</style><div id=\"sk-container-id-10\" class=\"sk-top-container\"><div class=\"sk-text-repr-fallback\"><pre>TfidfVectorizer(max_df=0.8, min_df=5, ngram_range=(1, 2),\n",
       "                stop_words=[&#x27;library&#x27;, &#x27;Library&#x27;, &#x27;librarian&#x27;, &#x27;Librarian&#x27;, &#x27;0&#x27;,\n",
       "                            &#x27;1&#x27;, &#x27;2&#x27;, &#x27;3&#x27;, &#x27;4&#x27;, &#x27;5&#x27;, &#x27;6&#x27;, &#x27;7&#x27;, &#x27;8&#x27;, &#x27;9&#x27;, &#x27;10&#x27;,\n",
       "                            &#x27;11&#x27;, &#x27;12&#x27;, &#x27;13&#x27;, &#x27;14&#x27;, &#x27;15&#x27;, &#x27;16&#x27;, &#x27;17&#x27;, &#x27;18&#x27;,\n",
       "                            &#x27;19&#x27;, &#x27;20&#x27;, &#x27;21&#x27;, &#x27;22&#x27;, &#x27;23&#x27;, &#x27;24&#x27;, &#x27;25&#x27;, ...])</pre><b>In a Jupyter environment, please rerun this cell to show the HTML representation or trust the notebook. <br />On GitHub, the HTML representation is unable to render, please try loading this page with nbviewer.org.</b></div><div class=\"sk-container\" hidden><div class=\"sk-item\"><div class=\"sk-estimator sk-toggleable\"><input class=\"sk-toggleable__control sk-hidden--visually\" id=\"sk-estimator-id-10\" type=\"checkbox\" checked><label for=\"sk-estimator-id-10\" class=\"sk-toggleable__label sk-toggleable__label-arrow\">TfidfVectorizer</label><div class=\"sk-toggleable__content\"><pre>TfidfVectorizer(max_df=0.8, min_df=5, ngram_range=(1, 2),\n",
       "                stop_words=[&#x27;library&#x27;, &#x27;Library&#x27;, &#x27;librarian&#x27;, &#x27;Librarian&#x27;, &#x27;0&#x27;,\n",
       "                            &#x27;1&#x27;, &#x27;2&#x27;, &#x27;3&#x27;, &#x27;4&#x27;, &#x27;5&#x27;, &#x27;6&#x27;, &#x27;7&#x27;, &#x27;8&#x27;, &#x27;9&#x27;, &#x27;10&#x27;,\n",
       "                            &#x27;11&#x27;, &#x27;12&#x27;, &#x27;13&#x27;, &#x27;14&#x27;, &#x27;15&#x27;, &#x27;16&#x27;, &#x27;17&#x27;, &#x27;18&#x27;,\n",
       "                            &#x27;19&#x27;, &#x27;20&#x27;, &#x27;21&#x27;, &#x27;22&#x27;, &#x27;23&#x27;, &#x27;24&#x27;, &#x27;25&#x27;, ...])</pre></div></div></div></div></div>"
      ],
      "text/plain": [
       "TfidfVectorizer(max_df=0.8, min_df=5, ngram_range=(1, 2),\n",
       "                stop_words=['library', 'Library', 'librarian', 'Librarian', '0',\n",
       "                            '1', '2', '3', '4', '5', '6', '7', '8', '9', '10',\n",
       "                            '11', '12', '13', '14', '15', '16', '17', '18',\n",
       "                            '19', '20', '21', '22', '23', '24', '25', ...])"
      ]
     },
     "execution_count": 126,
     "metadata": {},
     "output_type": "execute_result"
    }
   ],
   "source": [
    "vectorizer.fit(x)"
   ]
  },
  {
   "cell_type": "code",
   "execution_count": 127,
   "id": "5230e568-936e-4cd0-a1d2-ebf2a1331a47",
   "metadata": {
    "tags": []
   },
   "outputs": [],
   "source": [
    "X_train = vectorizer.transform(x_train)"
   ]
  },
  {
   "cell_type": "code",
   "execution_count": 128,
   "id": "26c48f57-ea78-4f8d-9b90-9a5838687631",
   "metadata": {
    "tags": []
   },
   "outputs": [],
   "source": [
    "X_test = vectorizer.transform(x_test)"
   ]
  },
  {
   "cell_type": "code",
   "execution_count": 129,
   "id": "8fd9ff2c-66af-4e8d-ad17-cb250674303a",
   "metadata": {
    "tags": []
   },
   "outputs": [],
   "source": [
    "Y_train = np.array(y_train)"
   ]
  },
  {
   "cell_type": "code",
   "execution_count": 130,
   "id": "d76a20ac-21a0-41c0-90ca-9f951960afe2",
   "metadata": {
    "tags": []
   },
   "outputs": [],
   "source": [
    "Y_test = np.array(y_test)"
   ]
  },
  {
   "cell_type": "markdown",
   "id": "351dd670-104a-4671-98a5-b0d1a0325863",
   "metadata": {},
   "source": [
    "## Regularization\n",
    "\n",
    "The purpose of this technique is to reduce the coefficient magnitudes, in essence, making the model less complex. This makes the model more generalizable and performs better on new data, which is our inevitable goal with predictive modeling."
   ]
  },
  {
   "cell_type": "markdown",
   "id": "e183c52a-53be-4fcc-8a37-580bb35bce60",
   "metadata": {},
   "source": [
    "Let's first try an L2-Norm Regularization for our Classification/Logistic Regression Model"
   ]
  },
  {
   "cell_type": "code",
   "execution_count": 131,
   "id": "f832bf21-304b-4f49-a60f-f1e7fdba62a8",
   "metadata": {},
   "outputs": [],
   "source": [
    "C_list = [0.001, 0.01, 0.1, 1, 10, 100] "
   ]
  },
  {
   "cell_type": "code",
   "execution_count": 132,
   "id": "8ce70098-4ecc-468c-9d2d-a1e58c0465f8",
   "metadata": {
    "tags": []
   },
   "outputs": [],
   "source": [
    "col_labels = ['C', 'Train AUC','Model Complexity - Coef Sum','Test AUC']"
   ]
  },
  {
   "cell_type": "code",
   "execution_count": 133,
   "id": "c6b1f49d-577f-4b2d-a5c3-f2c477d2f17e",
   "metadata": {
    "tags": []
   },
   "outputs": [],
   "source": [
    "result_log_L2_arr = []"
   ]
  },
  {
   "cell_type": "code",
   "execution_count": 134,
   "id": "a5f963c0-a743-47cf-a5f2-12a1f931266f",
   "metadata": {
    "tags": []
   },
   "outputs": [],
   "source": [
    "result_fpr_L2_arr = []"
   ]
  },
  {
   "cell_type": "code",
   "execution_count": 135,
   "id": "a4d1eb9d-8b23-4a45-8392-25f4a9782cfe",
   "metadata": {
    "tags": []
   },
   "outputs": [],
   "source": [
    "result_tpr_L2_arr = []"
   ]
  },
  {
   "cell_type": "code",
   "execution_count": 136,
   "id": "aaea2fa7-6049-4b91-bf4e-0fd7a6ecaaec",
   "metadata": {
    "tags": []
   },
   "outputs": [
    {
     "name": "stdout",
     "output_type": "stream",
     "text": [
      "Class order: [1 4]\n",
      "Correct positive class selection\n",
      "C value: 0.001\n",
      "Model Complexity: 8.041129757935828\n",
      "Train_AUC: 0.612273811794287\n",
      "Test_AUC: 0.6219444444444445 \n",
      "\n",
      "Class order: [1 4]\n",
      "Correct positive class selection\n",
      "C value: 0.01\n",
      "Model Complexity: 27.34627716714849\n",
      "Train_AUC: 0.7114930270394401\n",
      "Test_AUC: 0.6545061728395062 \n",
      "\n",
      "Class order: [1 4]\n",
      "Correct positive class selection\n",
      "C value: 0.1\n",
      "Model Complexity: 158.61339493862505\n",
      "Train_AUC: 0.9341879410402418\n",
      "Test_AUC: 0.7356790123456789 \n",
      "\n",
      "Class order: [1 4]\n",
      "Correct positive class selection\n",
      "C value: 1\n",
      "Model Complexity: 1293.604064934133\n",
      "Train_AUC: 0.9935233009368638\n",
      "Test_AUC: 0.7367283950617284 \n",
      "\n",
      "Class order: [1 4]\n",
      "Correct positive class selection\n",
      "C value: 10\n",
      "Model Complexity: 5756.89109106181\n",
      "Train_AUC: 1.0\n",
      "Test_AUC: 0.697746913580247 \n",
      "\n",
      "Class order: [1 4]\n",
      "Correct positive class selection\n",
      "C value: 100\n",
      "Model Complexity: 12111.661889686142\n",
      "Train_AUC: 1.0\n",
      "Test_AUC: 0.6782716049382717 \n",
      "\n"
     ]
    },
    {
     "data": {
      "text/html": [
       "<div>\n",
       "<style scoped>\n",
       "    .dataframe tbody tr th:only-of-type {\n",
       "        vertical-align: middle;\n",
       "    }\n",
       "\n",
       "    .dataframe tbody tr th {\n",
       "        vertical-align: top;\n",
       "    }\n",
       "\n",
       "    .dataframe thead th {\n",
       "        text-align: right;\n",
       "    }\n",
       "</style>\n",
       "<table border=\"1\" class=\"dataframe\">\n",
       "  <thead>\n",
       "    <tr style=\"text-align: right;\">\n",
       "      <th></th>\n",
       "      <th>C</th>\n",
       "      <th>Train AUC</th>\n",
       "      <th>Model Complexity - Coef Sum</th>\n",
       "      <th>Test AUC</th>\n",
       "    </tr>\n",
       "  </thead>\n",
       "  <tbody>\n",
       "    <tr>\n",
       "      <th>0</th>\n",
       "      <td>0.001</td>\n",
       "      <td>0.612274</td>\n",
       "      <td>8.041130</td>\n",
       "      <td>0.621944</td>\n",
       "    </tr>\n",
       "    <tr>\n",
       "      <th>1</th>\n",
       "      <td>0.010</td>\n",
       "      <td>0.711493</td>\n",
       "      <td>27.346277</td>\n",
       "      <td>0.654506</td>\n",
       "    </tr>\n",
       "    <tr>\n",
       "      <th>2</th>\n",
       "      <td>0.100</td>\n",
       "      <td>0.934188</td>\n",
       "      <td>158.613395</td>\n",
       "      <td>0.735679</td>\n",
       "    </tr>\n",
       "    <tr>\n",
       "      <th>3</th>\n",
       "      <td>1.000</td>\n",
       "      <td>0.993523</td>\n",
       "      <td>1293.604065</td>\n",
       "      <td>0.736728</td>\n",
       "    </tr>\n",
       "    <tr>\n",
       "      <th>4</th>\n",
       "      <td>10.000</td>\n",
       "      <td>1.000000</td>\n",
       "      <td>5756.891091</td>\n",
       "      <td>0.697747</td>\n",
       "    </tr>\n",
       "    <tr>\n",
       "      <th>5</th>\n",
       "      <td>100.000</td>\n",
       "      <td>1.000000</td>\n",
       "      <td>12111.661890</td>\n",
       "      <td>0.678272</td>\n",
       "    </tr>\n",
       "  </tbody>\n",
       "</table>\n",
       "</div>"
      ],
      "text/plain": [
       "         C  Train AUC  Model Complexity - Coef Sum  Test AUC\n",
       "0    0.001   0.612274                     8.041130  0.621944\n",
       "1    0.010   0.711493                    27.346277  0.654506\n",
       "2    0.100   0.934188                   158.613395  0.735679\n",
       "3    1.000   0.993523                  1293.604065  0.736728\n",
       "4   10.000   1.000000                  5756.891091  0.697747\n",
       "5  100.000   1.000000                 12111.661890  0.678272"
      ]
     },
     "execution_count": 136,
     "metadata": {},
     "output_type": "execute_result"
    }
   ],
   "source": [
    "for c_value in C_list:\n",
    "    result_log_L2_list = []\n",
    "    \n",
    "    # Build the logistic regression estimator with the specified C value\n",
    "    estimator_L2 = linear_model.LogisticRegression(solver = 'liblinear', max_iter=1000, random_state=2022, C=c_value,penalty='l2') \n",
    "    estimator_L2.fit(X_train, Y_train)\n",
    "    # Check the class order, make sure 5 is on the 2nd column\n",
    "    print('Class order:',estimator_L2.classes_)\n",
    "    if estimator_L2.classes_[1] == 4:\n",
    "        print('Correct positive class selection')\n",
    "    else:\n",
    "        print('Incorrect positive class selection, check')\n",
    "    \n",
    "    # Calculate AUC_train by applying the estimator on X_train\n",
    "    Y_train_pred_prob = estimator_L2.predict_proba(X_train)\n",
    "    Y_train_pred_prob_4star = Y_train_pred_prob[:, 1]\n",
    "    AUC_train = metrics.roc_auc_score(Y_train, Y_train_pred_prob_4star)\n",
    "    \n",
    "    # Calculate AUC_test by applying the estimator on X_test\n",
    "    Y_test_pred_prob = estimator_L2.predict_proba(X_test)\n",
    "    Y_test_pred_prob_4star = Y_test_pred_prob[:, 1]\n",
    "    AUC_test = metrics.roc_auc_score(Y_test, Y_test_pred_prob_4star)\n",
    "    \n",
    "    # Calculate fpr and tpr from test data\n",
    "    fpr, tpr, thresholds = metrics.roc_curve(Y_test, Y_test_pred_prob_4star, pos_label=4)\n",
    "    \n",
    "    # Compute complexity by sum of the model parameter magnitudes\n",
    "    complexity_coef_sum = np.sum(np.abs(estimator_L2.coef_))\n",
    "    \n",
    "    # Compile results\n",
    "    result_log_L2_list = [c_value, AUC_train, complexity_coef_sum, AUC_test]\n",
    "    result_log_L2_arr.append(result_log_L2_list)\n",
    "    result_fpr_L2_arr.append(list(fpr))\n",
    "    result_tpr_L2_arr.append(list(tpr))\n",
    "    \n",
    "    print('C value:',c_value)\n",
    "    print('Model Complexity:',complexity_coef_sum)\n",
    "    print('Train_AUC:', AUC_train)\n",
    "    print('Test_AUC:', AUC_test,'\\n')\n",
    "\n",
    "df_log_L2 = pd.DataFrame(result_log_L2_arr,columns=col_labels)\n",
    "df_log_L2"
   ]
  },
  {
   "cell_type": "markdown",
   "id": "87a2b729-7f17-4154-8825-07e54111ea07",
   "metadata": {},
   "source": [
    "Let's visualize what we are seeing in the above chart, the AUC score being the metric for how our models performed."
   ]
  },
  {
   "cell_type": "code",
   "execution_count": 137,
   "id": "8030ab88-bd27-4ed0-8be2-dc9af54537a5",
   "metadata": {
    "tags": []
   },
   "outputs": [
    {
     "data": {
      "image/png": "[encoded data removed]",
      "text/plain": [
       "<Figure size 800x800 with 1 Axes>"
      ]
     },
     "metadata": {},
     "output_type": "display_data"
    }
   ],
   "source": [
    "colours=['r','g','b','k','m','c']\n",
    "plt.figure(figsize = (8, 8))\n",
    "for i in range(len(result_fpr_L2_arr)):\n",
    "    plt.plot(result_fpr_L2_arr[i],result_tpr_L2_arr[i],colours[i])\n",
    "plt.gca().legend(df_log_L2['Test AUC'])\n",
    "plt.xlabel('False Positive Rate')\n",
    "plt.ylabel('True Positive Rate')\n",
    "plt.grid(True)\n",
    "plt.show()"
   ]
  },
  {
   "cell_type": "code",
   "execution_count": 138,
   "id": "13d51310-1f24-484d-baca-214767da52f1",
   "metadata": {
    "tags": []
   },
   "outputs": [],
   "source": [
    "# Re-Obtain the best model with C=0.01\n",
    "estimator_L2_best = linear_model.LogisticRegression(solver = 'liblinear', max_iter=1000, random_state=2022, C=0.1,penalty='l2') "
   ]
  },
  {
   "cell_type": "code",
   "execution_count": 139,
   "id": "e160138d-17eb-4e84-a9de-a8f548d9d2aa",
   "metadata": {
    "tags": []
   },
   "outputs": [
    {
     "data": {
      "text/html": [
       "<style>#sk-container-id-11 {color: black;}#sk-container-id-11 pre{padding: 0;}#sk-container-id-11 div.sk-toggleable {background-color: white;}#sk-container-id-11 label.sk-toggleable__label {cursor: pointer;display: block;width: 100%;margin-bottom: 0;padding: 0.3em;box-sizing: border-box;text-align: center;}#sk-container-id-11 label.sk-toggleable__label-arrow:before {content: \"▸\";float: left;margin-right: 0.25em;color: #696969;}#sk-container-id-11 label.sk-toggleable__label-arrow:hover:before {color: black;}#sk-container-id-11 div.sk-estimator:hover label.sk-toggleable__label-arrow:before {color: black;}#sk-container-id-11 div.sk-toggleable__content {max-height: 0;max-width: 0;overflow: hidden;text-align: left;background-color: #f0f8ff;}#sk-container-id-11 div.sk-toggleable__content pre {margin: 0.2em;color: black;border-radius: 0.25em;background-color: #f0f8ff;}#sk-container-id-11 input.sk-toggleable__control:checked~div.sk-toggleable__content {max-height: 200px;max-width: 100%;overflow: auto;}#sk-container-id-11 input.sk-toggleable__control:checked~label.sk-toggleable__label-arrow:before {content: \"▾\";}#sk-container-id-11 div.sk-estimator input.sk-toggleable__control:checked~label.sk-toggleable__label {background-color: #d4ebff;}#sk-container-id-11 div.sk-label input.sk-toggleable__control:checked~label.sk-toggleable__label {background-color: #d4ebff;}#sk-container-id-11 input.sk-hidden--visually {border: 0;clip: rect(1px 1px 1px 1px);clip: rect(1px, 1px, 1px, 1px);height: 1px;margin: -1px;overflow: hidden;padding: 0;position: absolute;width: 1px;}#sk-container-id-11 div.sk-estimator {font-family: monospace;background-color: #f0f8ff;border: 1px dotted black;border-radius: 0.25em;box-sizing: border-box;margin-bottom: 0.5em;}#sk-container-id-11 div.sk-estimator:hover {background-color: #d4ebff;}#sk-container-id-11 div.sk-parallel-item::after {content: \"\";width: 100%;border-bottom: 1px solid gray;flex-grow: 1;}#sk-container-id-11 div.sk-label:hover label.sk-toggleable__label {background-color: #d4ebff;}#sk-container-id-11 div.sk-serial::before {content: \"\";position: absolute;border-left: 1px solid gray;box-sizing: border-box;top: 0;bottom: 0;left: 50%;z-index: 0;}#sk-container-id-11 div.sk-serial {display: flex;flex-direction: column;align-items: center;background-color: white;padding-right: 0.2em;padding-left: 0.2em;position: relative;}#sk-container-id-11 div.sk-item {position: relative;z-index: 1;}#sk-container-id-11 div.sk-parallel {display: flex;align-items: stretch;justify-content: center;background-color: white;position: relative;}#sk-container-id-11 div.sk-item::before, #sk-container-id-11 div.sk-parallel-item::before {content: \"\";position: absolute;border-left: 1px solid gray;box-sizing: border-box;top: 0;bottom: 0;left: 50%;z-index: -1;}#sk-container-id-11 div.sk-parallel-item {display: flex;flex-direction: column;z-index: 1;position: relative;background-color: white;}#sk-container-id-11 div.sk-parallel-item:first-child::after {align-self: flex-end;width: 50%;}#sk-container-id-11 div.sk-parallel-item:last-child::after {align-self: flex-start;width: 50%;}#sk-container-id-11 div.sk-parallel-item:only-child::after {width: 0;}#sk-container-id-11 div.sk-dashed-wrapped {border: 1px dashed gray;margin: 0 0.4em 0.5em 0.4em;box-sizing: border-box;padding-bottom: 0.4em;background-color: white;}#sk-container-id-11 div.sk-label label {font-family: monospace;font-weight: bold;display: inline-block;line-height: 1.2em;}#sk-container-id-11 div.sk-label-container {text-align: center;}#sk-container-id-11 div.sk-container {/* jupyter's `normalize.less` sets `[hidden] { display: none; }` but bootstrap.min.css set `[hidden] { display: none !important; }` so we also need the `!important` here to be able to override the default hidden behavior on the sphinx rendered scikit-learn.org. See: https://github.com/scikit-learn/scikit-learn/issues/21755 */display: inline-block !important;position: relative;}#sk-container-id-11 div.sk-text-repr-fallback {display: none;}</style><div id=\"sk-container-id-11\" class=\"sk-top-container\"><div class=\"sk-text-repr-fallback\"><pre>LogisticRegression(C=0.1, max_iter=1000, random_state=2022, solver=&#x27;liblinear&#x27;)</pre><b>In a Jupyter environment, please rerun this cell to show the HTML representation or trust the notebook. <br />On GitHub, the HTML representation is unable to render, please try loading this page with nbviewer.org.</b></div><div class=\"sk-container\" hidden><div class=\"sk-item\"><div class=\"sk-estimator sk-toggleable\"><input class=\"sk-toggleable__control sk-hidden--visually\" id=\"sk-estimator-id-11\" type=\"checkbox\" checked><label for=\"sk-estimator-id-11\" class=\"sk-toggleable__label sk-toggleable__label-arrow\">LogisticRegression</label><div class=\"sk-toggleable__content\"><pre>LogisticRegression(C=0.1, max_iter=1000, random_state=2022, solver=&#x27;liblinear&#x27;)</pre></div></div></div></div></div>"
      ],
      "text/plain": [
       "LogisticRegression(C=0.1, max_iter=1000, random_state=2022, solver='liblinear')"
      ]
     },
     "execution_count": 139,
     "metadata": {},
     "output_type": "execute_result"
    }
   ],
   "source": [
    "estimator_L2_best.fit(X_train, Y_train)"
   ]
  },
  {
   "cell_type": "code",
   "execution_count": 140,
   "id": "f5298728-41f7-44ae-9acb-76b8aebbc9a7",
   "metadata": {
    "tags": []
   },
   "outputs": [],
   "source": [
    "\n",
    "# Obtain the features and their magnitude, then sorted by magnitide\n",
    "df_L2_features = pd.DataFrame(data = {'Coefficient':estimator_L2_best.coef_.tolist()[0],'Feature_Name':vectorizer.get_feature_names_out()})"
   ]
  },
  {
   "cell_type": "code",
   "execution_count": 141,
   "id": "51e886e4-38c2-4713-a66d-117d2ce9b292",
   "metadata": {
    "tags": []
   },
   "outputs": [],
   "source": [
    "df_L2_features['Coefficient_Magnitude'] = abs(df_L2_features['Coefficient'])"
   ]
  },
  {
   "cell_type": "code",
   "execution_count": 142,
   "id": "47f568bb-8e52-49ec-bf60-bab117170bb5",
   "metadata": {
    "tags": []
   },
   "outputs": [
    {
     "data": {
      "text/html": [
       "<div>\n",
       "<style scoped>\n",
       "    .dataframe tbody tr th:only-of-type {\n",
       "        vertical-align: middle;\n",
       "    }\n",
       "\n",
       "    .dataframe tbody tr th {\n",
       "        vertical-align: top;\n",
       "    }\n",
       "\n",
       "    .dataframe thead th {\n",
       "        text-align: right;\n",
       "    }\n",
       "</style>\n",
       "<table border=\"1\" class=\"dataframe\">\n",
       "  <thead>\n",
       "    <tr style=\"text-align: right;\">\n",
       "      <th></th>\n",
       "      <th>Coefficient</th>\n",
       "      <th>Feature_Name</th>\n",
       "      <th>Coefficient_Magnitude</th>\n",
       "    </tr>\n",
       "  </thead>\n",
       "  <tbody>\n",
       "    <tr>\n",
       "      <th>16060</th>\n",
       "      <td>0.211850</td>\n",
       "      <td>thank you</td>\n",
       "      <td>0.211850</td>\n",
       "    </tr>\n",
       "    <tr>\n",
       "      <th>16059</th>\n",
       "      <td>0.211722</td>\n",
       "      <td>thank</td>\n",
       "      <td>0.211722</td>\n",
       "    </tr>\n",
       "    <tr>\n",
       "      <th>10638</th>\n",
       "      <td>0.177309</td>\n",
       "      <td>much</td>\n",
       "      <td>0.177309</td>\n",
       "    </tr>\n",
       "    <tr>\n",
       "      <th>6963</th>\n",
       "      <td>0.160358</td>\n",
       "      <td>great</td>\n",
       "      <td>0.160358</td>\n",
       "    </tr>\n",
       "    <tr>\n",
       "      <th>13946</th>\n",
       "      <td>0.154080</td>\n",
       "      <td>request</td>\n",
       "      <td>0.154080</td>\n",
       "    </tr>\n",
       "    <tr>\n",
       "      <th>15032</th>\n",
       "      <td>0.149492</td>\n",
       "      <td>so</td>\n",
       "      <td>0.149492</td>\n",
       "    </tr>\n",
       "    <tr>\n",
       "      <th>15078</th>\n",
       "      <td>0.138116</td>\n",
       "      <td>so much</td>\n",
       "      <td>0.138116</td>\n",
       "    </tr>\n",
       "    <tr>\n",
       "      <th>20779</th>\n",
       "      <td>0.125279</td>\n",
       "      <td>you so</td>\n",
       "      <td>0.125279</td>\n",
       "    </tr>\n",
       "    <tr>\n",
       "      <th>9204</th>\n",
       "      <td>0.122612</td>\n",
       "      <td>just</td>\n",
       "      <td>0.122612</td>\n",
       "    </tr>\n",
       "    <tr>\n",
       "      <th>539</th>\n",
       "      <td>0.121283</td>\n",
       "      <td>09</td>\n",
       "      <td>0.121283</td>\n",
       "    </tr>\n",
       "  </tbody>\n",
       "</table>\n",
       "</div>"
      ],
      "text/plain": [
       "       Coefficient Feature_Name  Coefficient_Magnitude\n",
       "16060     0.211850    thank you               0.211850\n",
       "16059     0.211722        thank               0.211722\n",
       "10638     0.177309         much               0.177309\n",
       "6963      0.160358        great               0.160358\n",
       "13946     0.154080      request               0.154080\n",
       "15032     0.149492           so               0.149492\n",
       "15078     0.138116      so much               0.138116\n",
       "20779     0.125279       you so               0.125279\n",
       "9204      0.122612         just               0.122612\n",
       "539       0.121283           09               0.121283"
      ]
     },
     "execution_count": 142,
     "metadata": {},
     "output_type": "execute_result"
    }
   ],
   "source": [
    "df_L2_features.sort_values(by='Coefficient_Magnitude', ascending=False).head(10)"
   ]
  },
  {
   "cell_type": "markdown",
   "id": "49246e57-4a33-4941-9c46-9cda8bc59ffc",
   "metadata": {},
   "source": [
    "### L1- Norm Regularization \n",
    "\n",
    "Lets see if it can perform better."
   ]
  },
  {
   "cell_type": "code",
   "execution_count": 143,
   "id": "80d3d71f-8a6f-4410-a853-514513949748",
   "metadata": {
    "tags": []
   },
   "outputs": [],
   "source": [
    "result_log_L1_arr = []"
   ]
  },
  {
   "cell_type": "code",
   "execution_count": 144,
   "id": "ed77f0b0-359b-42e1-b9c6-453519cc8721",
   "metadata": {
    "tags": []
   },
   "outputs": [],
   "source": [
    "result_fpr_L1_arr = []"
   ]
  },
  {
   "cell_type": "code",
   "execution_count": 145,
   "id": "ccc026d6-9eec-42d7-844d-c3fa90c44780",
   "metadata": {
    "tags": []
   },
   "outputs": [],
   "source": [
    "result_tpr_L1_arr = []"
   ]
  },
  {
   "cell_type": "code",
   "execution_count": 146,
   "id": "67ddd509-4885-48c6-8623-1988a0bdc730",
   "metadata": {
    "tags": []
   },
   "outputs": [
    {
     "name": "stdout",
     "output_type": "stream",
     "text": [
      "Class order: [1 4]\n",
      "Correct positive class selection\n",
      "C value: 0.001\n",
      "Model Complexity: 0.0\n",
      "Train_AUC: 0.5\n",
      "Test_AUC: 0.5 \n",
      "\n",
      "Class order: [1 4]\n",
      "Correct positive class selection\n",
      "C value: 0.01\n",
      "Model Complexity: 0.0\n",
      "Train_AUC: 0.5\n",
      "Test_AUC: 0.5 \n",
      "\n",
      "Class order: [1 4]\n",
      "Correct positive class selection\n",
      "C value: 0.1\n",
      "Model Complexity: 0.0\n",
      "Train_AUC: 0.5\n",
      "Test_AUC: 0.5 \n",
      "\n",
      "Class order: [1 4]\n",
      "Correct positive class selection\n",
      "C value: 1\n",
      "Model Complexity: 23.658124941208346\n",
      "Train_AUC: 0.7030089015689648\n",
      "Test_AUC: 0.6970216049382716 \n",
      "\n",
      "Class order: [1 4]\n",
      "Correct positive class selection\n",
      "C value: 10\n",
      "Model Complexity: 2478.422242255968\n",
      "Train_AUC: 0.9999844310118674\n",
      "Test_AUC: 0.6648456790123456 \n",
      "\n",
      "Class order: [1 4]\n",
      "Correct positive class selection\n",
      "C value: 100\n",
      "Model Complexity: 6659.219922206889\n",
      "Train_AUC: 1.0\n",
      "Test_AUC: 0.6407716049382717 \n",
      "\n"
     ]
    },
    {
     "data": {
      "text/html": [
       "<div>\n",
       "<style scoped>\n",
       "    .dataframe tbody tr th:only-of-type {\n",
       "        vertical-align: middle;\n",
       "    }\n",
       "\n",
       "    .dataframe tbody tr th {\n",
       "        vertical-align: top;\n",
       "    }\n",
       "\n",
       "    .dataframe thead th {\n",
       "        text-align: right;\n",
       "    }\n",
       "</style>\n",
       "<table border=\"1\" class=\"dataframe\">\n",
       "  <thead>\n",
       "    <tr style=\"text-align: right;\">\n",
       "      <th></th>\n",
       "      <th>C</th>\n",
       "      <th>Train AUC</th>\n",
       "      <th>Model Complexity - Coef Sum</th>\n",
       "      <th>Test AUC</th>\n",
       "    </tr>\n",
       "  </thead>\n",
       "  <tbody>\n",
       "    <tr>\n",
       "      <th>0</th>\n",
       "      <td>0.001</td>\n",
       "      <td>0.500000</td>\n",
       "      <td>0.000000</td>\n",
       "      <td>0.500000</td>\n",
       "    </tr>\n",
       "    <tr>\n",
       "      <th>1</th>\n",
       "      <td>0.010</td>\n",
       "      <td>0.500000</td>\n",
       "      <td>0.000000</td>\n",
       "      <td>0.500000</td>\n",
       "    </tr>\n",
       "    <tr>\n",
       "      <th>2</th>\n",
       "      <td>0.100</td>\n",
       "      <td>0.500000</td>\n",
       "      <td>0.000000</td>\n",
       "      <td>0.500000</td>\n",
       "    </tr>\n",
       "    <tr>\n",
       "      <th>3</th>\n",
       "      <td>1.000</td>\n",
       "      <td>0.703009</td>\n",
       "      <td>23.658125</td>\n",
       "      <td>0.697022</td>\n",
       "    </tr>\n",
       "    <tr>\n",
       "      <th>4</th>\n",
       "      <td>10.000</td>\n",
       "      <td>0.999984</td>\n",
       "      <td>2478.422242</td>\n",
       "      <td>0.664846</td>\n",
       "    </tr>\n",
       "    <tr>\n",
       "      <th>5</th>\n",
       "      <td>100.000</td>\n",
       "      <td>1.000000</td>\n",
       "      <td>6659.219922</td>\n",
       "      <td>0.640772</td>\n",
       "    </tr>\n",
       "  </tbody>\n",
       "</table>\n",
       "</div>"
      ],
      "text/plain": [
       "         C  Train AUC  Model Complexity - Coef Sum  Test AUC\n",
       "0    0.001   0.500000                     0.000000  0.500000\n",
       "1    0.010   0.500000                     0.000000  0.500000\n",
       "2    0.100   0.500000                     0.000000  0.500000\n",
       "3    1.000   0.703009                    23.658125  0.697022\n",
       "4   10.000   0.999984                  2478.422242  0.664846\n",
       "5  100.000   1.000000                  6659.219922  0.640772"
      ]
     },
     "execution_count": 146,
     "metadata": {},
     "output_type": "execute_result"
    }
   ],
   "source": [
    "for c_value in C_list:\n",
    "    result_log_L1_list = []\n",
    "    \n",
    "    # Build the logistic regression estimator with the specified C value\n",
    "    estimator_L1 = linear_model.LogisticRegression(solver = 'liblinear', max_iter=1000, random_state=2022, C=c_value,penalty='l1') \n",
    "    estimator_L1.fit(X_train, Y_train)\n",
    "    # Check the class order, make sure 5 is on the 2nd column\n",
    "    print('Class order:',estimator_L1.classes_)\n",
    "    if estimator_L1.classes_[1] == 4:\n",
    "        print('Correct positive class selection')\n",
    "    else:\n",
    "        print('Incorrect positive class selection, check')\n",
    "    \n",
    "    # Calculate AUC_train by applying the estimator on X_train\n",
    "    Y_train_pred_prob = estimator_L1.predict_proba(X_train)\n",
    "    Y_train_pred_prob_4star = Y_train_pred_prob[:, 1]\n",
    "    AUC_train = metrics.roc_auc_score(Y_train, Y_train_pred_prob_4star)\n",
    "    \n",
    "    # Calculate AUC_test by applying the estimator on X_test\n",
    "    Y_test_pred_prob = estimator_L1.predict_proba(X_test)\n",
    "    Y_test_pred_prob_4star = Y_test_pred_prob[:, 1]\n",
    "    AUC_test = metrics.roc_auc_score(Y_test, Y_test_pred_prob_4star)\n",
    "    \n",
    "    # Calculate fpr and tpr from test data\n",
    "    fpr, tpr, thresholds = metrics.roc_curve(Y_test, Y_test_pred_prob_4star, pos_label=4)\n",
    "    \n",
    "    # Compute complexity by sum of the model coefficients' magnitude\n",
    "    complexity_coef_sum = np.sum(np.abs(estimator_L1.coef_))\n",
    "    \n",
    "    # Compile results\n",
    "    result_log_L1_list = [c_value, AUC_train, complexity_coef_sum, AUC_test]\n",
    "    result_log_L1_arr.append(result_log_L1_list)\n",
    "    result_fpr_L1_arr.append(list(fpr))\n",
    "    result_tpr_L1_arr.append(list(tpr))\n",
    "    \n",
    "    print('C value:',c_value)\n",
    "    print('Model Complexity:',complexity_coef_sum)\n",
    "    print('Train_AUC:', AUC_train)\n",
    "    print('Test_AUC:', AUC_test,'\\n')\n",
    "    \n",
    "df_log_L1 = pd.DataFrame(result_log_L1_arr,columns=col_labels)\n",
    "df_log_L1"
   ]
  },
  {
   "cell_type": "markdown",
   "id": "1e456f77-2986-44c6-af94-99a4906ef0e9",
   "metadata": {},
   "source": [
    "Let's visualize what we are seeing in the above chart, the AUC score being the metric for how our models performed."
   ]
  },
  {
   "cell_type": "code",
   "execution_count": 147,
   "id": "23e66557-7fe9-4204-b8b9-7dddad68160a",
   "metadata": {
    "tags": []
   },
   "outputs": [
    {
     "data": {
      "image/png": "[encoded data removed]",
      "text/plain": [
       "<Figure size 800x800 with 1 Axes>"
      ]
     },
     "metadata": {},
     "output_type": "display_data"
    }
   ],
   "source": [
    "colours=['r','g','b','k','m','c']\n",
    "plt.figure(figsize = (8, 8))\n",
    "for i in range(len(result_fpr_L1_arr)):\n",
    "    plt.plot(result_fpr_L1_arr[i],result_tpr_L1_arr[i],colours[i])\n",
    "plt.gca().legend(df_log_L1['Test AUC'])\n",
    "plt.xlabel('False Positive Rate')\n",
    "plt.ylabel('True Positive Rate')\n",
    "plt.grid(True)\n",
    "plt.show()"
   ]
  },
  {
   "cell_type": "markdown",
   "id": "a8787bd6-dce0-4d9b-b029-6a5a3c13e11a",
   "metadata": {},
   "source": [
    "With this information lets choose the C value of 0.1 as it performed well enough on the training data, the best on the test data, and is much more simple than the next best performing model."
   ]
  },
  {
   "cell_type": "code",
   "execution_count": 148,
   "id": "c606300a-43a2-4382-a9c3-2c63b2bf4e9b",
   "metadata": {
    "tags": []
   },
   "outputs": [],
   "source": [
    "estimator_L1_best = linear_model.LogisticRegression(solver = 'liblinear', max_iter=1000, random_state=2022, C=1.0,penalty='l1') "
   ]
  },
  {
   "cell_type": "code",
   "execution_count": 149,
   "id": "fb9552e4-d267-4193-932d-a530718a800e",
   "metadata": {
    "tags": []
   },
   "outputs": [
    {
     "data": {
      "text/html": [
       "<style>#sk-container-id-12 {color: black;}#sk-container-id-12 pre{padding: 0;}#sk-container-id-12 div.sk-toggleable {background-color: white;}#sk-container-id-12 label.sk-toggleable__label {cursor: pointer;display: block;width: 100%;margin-bottom: 0;padding: 0.3em;box-sizing: border-box;text-align: center;}#sk-container-id-12 label.sk-toggleable__label-arrow:before {content: \"▸\";float: left;margin-right: 0.25em;color: #696969;}#sk-container-id-12 label.sk-toggleable__label-arrow:hover:before {color: black;}#sk-container-id-12 div.sk-estimator:hover label.sk-toggleable__label-arrow:before {color: black;}#sk-container-id-12 div.sk-toggleable__content {max-height: 0;max-width: 0;overflow: hidden;text-align: left;background-color: #f0f8ff;}#sk-container-id-12 div.sk-toggleable__content pre {margin: 0.2em;color: black;border-radius: 0.25em;background-color: #f0f8ff;}#sk-container-id-12 input.sk-toggleable__control:checked~div.sk-toggleable__content {max-height: 200px;max-width: 100%;overflow: auto;}#sk-container-id-12 input.sk-toggleable__control:checked~label.sk-toggleable__label-arrow:before {content: \"▾\";}#sk-container-id-12 div.sk-estimator input.sk-toggleable__control:checked~label.sk-toggleable__label {background-color: #d4ebff;}#sk-container-id-12 div.sk-label input.sk-toggleable__control:checked~label.sk-toggleable__label {background-color: #d4ebff;}#sk-container-id-12 input.sk-hidden--visually {border: 0;clip: rect(1px 1px 1px 1px);clip: rect(1px, 1px, 1px, 1px);height: 1px;margin: -1px;overflow: hidden;padding: 0;position: absolute;width: 1px;}#sk-container-id-12 div.sk-estimator {font-family: monospace;background-color: #f0f8ff;border: 1px dotted black;border-radius: 0.25em;box-sizing: border-box;margin-bottom: 0.5em;}#sk-container-id-12 div.sk-estimator:hover {background-color: #d4ebff;}#sk-container-id-12 div.sk-parallel-item::after {content: \"\";width: 100%;border-bottom: 1px solid gray;flex-grow: 1;}#sk-container-id-12 div.sk-label:hover label.sk-toggleable__label {background-color: #d4ebff;}#sk-container-id-12 div.sk-serial::before {content: \"\";position: absolute;border-left: 1px solid gray;box-sizing: border-box;top: 0;bottom: 0;left: 50%;z-index: 0;}#sk-container-id-12 div.sk-serial {display: flex;flex-direction: column;align-items: center;background-color: white;padding-right: 0.2em;padding-left: 0.2em;position: relative;}#sk-container-id-12 div.sk-item {position: relative;z-index: 1;}#sk-container-id-12 div.sk-parallel {display: flex;align-items: stretch;justify-content: center;background-color: white;position: relative;}#sk-container-id-12 div.sk-item::before, #sk-container-id-12 div.sk-parallel-item::before {content: \"\";position: absolute;border-left: 1px solid gray;box-sizing: border-box;top: 0;bottom: 0;left: 50%;z-index: -1;}#sk-container-id-12 div.sk-parallel-item {display: flex;flex-direction: column;z-index: 1;position: relative;background-color: white;}#sk-container-id-12 div.sk-parallel-item:first-child::after {align-self: flex-end;width: 50%;}#sk-container-id-12 div.sk-parallel-item:last-child::after {align-self: flex-start;width: 50%;}#sk-container-id-12 div.sk-parallel-item:only-child::after {width: 0;}#sk-container-id-12 div.sk-dashed-wrapped {border: 1px dashed gray;margin: 0 0.4em 0.5em 0.4em;box-sizing: border-box;padding-bottom: 0.4em;background-color: white;}#sk-container-id-12 div.sk-label label {font-family: monospace;font-weight: bold;display: inline-block;line-height: 1.2em;}#sk-container-id-12 div.sk-label-container {text-align: center;}#sk-container-id-12 div.sk-container {/* jupyter's `normalize.less` sets `[hidden] { display: none; }` but bootstrap.min.css set `[hidden] { display: none !important; }` so we also need the `!important` here to be able to override the default hidden behavior on the sphinx rendered scikit-learn.org. See: https://github.com/scikit-learn/scikit-learn/issues/21755 */display: inline-block !important;position: relative;}#sk-container-id-12 div.sk-text-repr-fallback {display: none;}</style><div id=\"sk-container-id-12\" class=\"sk-top-container\"><div class=\"sk-text-repr-fallback\"><pre>LogisticRegression(max_iter=1000, penalty=&#x27;l1&#x27;, random_state=2022,\n",
       "                   solver=&#x27;liblinear&#x27;)</pre><b>In a Jupyter environment, please rerun this cell to show the HTML representation or trust the notebook. <br />On GitHub, the HTML representation is unable to render, please try loading this page with nbviewer.org.</b></div><div class=\"sk-container\" hidden><div class=\"sk-item\"><div class=\"sk-estimator sk-toggleable\"><input class=\"sk-toggleable__control sk-hidden--visually\" id=\"sk-estimator-id-12\" type=\"checkbox\" checked><label for=\"sk-estimator-id-12\" class=\"sk-toggleable__label sk-toggleable__label-arrow\">LogisticRegression</label><div class=\"sk-toggleable__content\"><pre>LogisticRegression(max_iter=1000, penalty=&#x27;l1&#x27;, random_state=2022,\n",
       "                   solver=&#x27;liblinear&#x27;)</pre></div></div></div></div></div>"
      ],
      "text/plain": [
       "LogisticRegression(max_iter=1000, penalty='l1', random_state=2022,\n",
       "                   solver='liblinear')"
      ]
     },
     "execution_count": 149,
     "metadata": {},
     "output_type": "execute_result"
    }
   ],
   "source": [
    "estimator_L1_best.fit(X_train, Y_train)"
   ]
  },
  {
   "cell_type": "code",
   "execution_count": 150,
   "id": "d727ee0d-dcc7-4a04-89e4-872d06bce4f5",
   "metadata": {
    "tags": []
   },
   "outputs": [],
   "source": [
    "df_L1_features = pd.DataFrame(data = {'Coefficient':estimator_L1_best.coef_.tolist()[0],'Feature_Name':vectorizer.get_feature_names_out()})"
   ]
  },
  {
   "cell_type": "code",
   "execution_count": 151,
   "id": "1803f9fe-727d-4d44-b0b9-87689d97921a",
   "metadata": {
    "tags": []
   },
   "outputs": [],
   "source": [
    "df_L1_features['Coefficient_Magnitude'] = abs(df_L1_features['Coefficient'])"
   ]
  },
  {
   "cell_type": "code",
   "execution_count": 152,
   "id": "10a1543f-3ccd-410c-a612-de6f09e9c134",
   "metadata": {
    "tags": []
   },
   "outputs": [
    {
     "data": {
      "text/html": [
       "<div>\n",
       "<style scoped>\n",
       "    .dataframe tbody tr th:only-of-type {\n",
       "        vertical-align: middle;\n",
       "    }\n",
       "\n",
       "    .dataframe tbody tr th {\n",
       "        vertical-align: top;\n",
       "    }\n",
       "\n",
       "    .dataframe thead th {\n",
       "        text-align: right;\n",
       "    }\n",
       "</style>\n",
       "<table border=\"1\" class=\"dataframe\">\n",
       "  <thead>\n",
       "    <tr style=\"text-align: right;\">\n",
       "      <th></th>\n",
       "      <th>Coefficient</th>\n",
       "      <th>Feature_Name</th>\n",
       "      <th>Coefficient_Magnitude</th>\n",
       "    </tr>\n",
       "  </thead>\n",
       "  <tbody>\n",
       "    <tr>\n",
       "      <th>10638</th>\n",
       "      <td>9.110328</td>\n",
       "      <td>much</td>\n",
       "      <td>9.110328</td>\n",
       "    </tr>\n",
       "    <tr>\n",
       "      <th>16060</th>\n",
       "      <td>4.422614</td>\n",
       "      <td>thank you</td>\n",
       "      <td>4.422614</td>\n",
       "    </tr>\n",
       "    <tr>\n",
       "      <th>11154</th>\n",
       "      <td>-4.402429</td>\n",
       "      <td>not</td>\n",
       "      <td>4.402429</td>\n",
       "    </tr>\n",
       "    <tr>\n",
       "      <th>6963</th>\n",
       "      <td>3.280285</td>\n",
       "      <td>great</td>\n",
       "      <td>3.280285</td>\n",
       "    </tr>\n",
       "    <tr>\n",
       "      <th>13946</th>\n",
       "      <td>1.535372</td>\n",
       "      <td>request</td>\n",
       "      <td>1.535372</td>\n",
       "    </tr>\n",
       "    <tr>\n",
       "      <th>9204</th>\n",
       "      <td>0.457362</td>\n",
       "      <td>just</td>\n",
       "      <td>0.457362</td>\n",
       "    </tr>\n",
       "    <tr>\n",
       "      <th>19053</th>\n",
       "      <td>0.349393</td>\n",
       "      <td>user0b69e697c9</td>\n",
       "      <td>0.349393</td>\n",
       "    </tr>\n",
       "    <tr>\n",
       "      <th>16059</th>\n",
       "      <td>0.100341</td>\n",
       "      <td>thank</td>\n",
       "      <td>0.100341</td>\n",
       "    </tr>\n",
       "    <tr>\n",
       "      <th>13999</th>\n",
       "      <td>0.000000</td>\n",
       "      <td>request permission</td>\n",
       "      <td>0.000000</td>\n",
       "    </tr>\n",
       "    <tr>\n",
       "      <th>14005</th>\n",
       "      <td>0.000000</td>\n",
       "      <td>request so</td>\n",
       "      <td>0.000000</td>\n",
       "    </tr>\n",
       "  </tbody>\n",
       "</table>\n",
       "</div>"
      ],
      "text/plain": [
       "       Coefficient        Feature_Name  Coefficient_Magnitude\n",
       "10638     9.110328                much               9.110328\n",
       "16060     4.422614           thank you               4.422614\n",
       "11154    -4.402429                 not               4.402429\n",
       "6963      3.280285               great               3.280285\n",
       "13946     1.535372             request               1.535372\n",
       "9204      0.457362                just               0.457362\n",
       "19053     0.349393      user0b69e697c9               0.349393\n",
       "16059     0.100341               thank               0.100341\n",
       "13999     0.000000  request permission               0.000000\n",
       "14005     0.000000          request so               0.000000"
      ]
     },
     "execution_count": 152,
     "metadata": {},
     "output_type": "execute_result"
    }
   ],
   "source": [
    "df_L1_features.sort_values(by='Coefficient_Magnitude', ascending=False).head(10)"
   ]
  },
  {
   "cell_type": "markdown",
   "id": "223568fa-b3b1-4122-aba5-cf1fad2b8529",
   "metadata": {},
   "source": [
    "## Context"
   ]
  },
  {
   "cell_type": "markdown",
   "id": "f9aded2a-8685-4e10-b4f4-53a33e710518",
   "metadata": {},
   "source": [
    "After going through and using the TFIDF vectorizer as opposed to the CountVectorizer, we ended up with a much better performing model. The answers seem to be consistent, but we can feel more confident in our results. I plan on tweaking more paramters like allowing for more words to be included in the range of words includes in the features. For now, lets tale a look at extracting the conversation and splitting between patron and librarian. Let's see if what we are communicating on our end impacts scores differently than patrons communicating on their end."
   ]
  },
  {
   "cell_type": "code",
   "execution_count": null,
   "id": "b8ab7ca7-fc82-4471-a036-897c6789f595",
   "metadata": {},
   "outputs": [],
   "source": []
  }
 ],
 "metadata": {
  "kernelspec": {
   "display_name": "Python 3 (ipykernel)",
   "language": "python",
   "name": "python3"
  },
  "language_info": {
   "codemirror_mode": {
    "name": "ipython",
    "version": 3
   },
   "file_extension": ".py",
   "mimetype": "text/x-python",
   "name": "python",
   "nbconvert_exporter": "python",
   "pygments_lexer": "ipython3",
   "version": "3.11.4"
  }
 },
 "nbformat": 4,
 "nbformat_minor": 5
}
