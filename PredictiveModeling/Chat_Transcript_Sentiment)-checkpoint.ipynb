{
 "cells": [
  {
   "cell_type": "markdown",
   "id": "8b3da2d1",
   "metadata": {},
   "source": [
    "# Deidentified Chat Transcript EDA"
   ]
  },
  {
   "cell_type": "code",
   "execution_count": 1,
   "id": "651cbc91",
   "metadata": {},
   "outputs": [],
   "source": [
    "import numpy as np\n",
    "import pandas as pd\n",
    "import matplotlib.pyplot as plt\n",
    "import seaborn as sns"
   ]
  },
  {
   "cell_type": "code",
   "execution_count": 2,
   "id": "78e3a5c4",
   "metadata": {},
   "outputs": [],
   "source": [
    "chat_data = pd.read_csv('deidentified_transcript.csv')"
   ]
  },
  {
   "cell_type": "code",
   "execution_count": 3,
   "id": "e1833d11",
   "metadata": {},
   "outputs": [
    {
     "name": "stdout",
     "output_type": "stream",
     "text": [
      "<class 'pandas.core.frame.DataFrame'>\n",
      "RangeIndex: 10546 entries, 0 to 10545\n",
      "Data columns (total 23 columns):\n",
      " #   Column                         Non-Null Count  Dtype  \n",
      "---  ------                         --------------  -----  \n",
      " 0   Chat ID                        10546 non-null  int64  \n",
      " 1   Browser                        10546 non-null  object \n",
      " 2   Operating System               10541 non-null  object \n",
      " 3   User Agent                     10546 non-null  object \n",
      " 4   Referrer                       10546 non-null  object \n",
      " 5   Widget                         10544 non-null  object \n",
      " 6   Department                     10382 non-null  object \n",
      " 7   Timestamp                      10546 non-null  object \n",
      " 8   Wait Time (seconds)            10546 non-null  int64  \n",
      " 9   Duration (seconds)             10546 non-null  int64  \n",
      " 10  Screensharing                  32 non-null     object \n",
      " 11  Rating (0-4)                   10546 non-null  int64  \n",
      " 12  Comment                        562 non-null    object \n",
      " 13  Transfer History               245 non-null    object \n",
      " 14  Message Count                  10546 non-null  int64  \n",
      " 15  Internal Note                  49 non-null     object \n",
      " 16  Tags                           2 non-null      object \n",
      " 17  Ticket ID                      2111 non-null   float64\n",
      " 18  Unnamed: 27                    116 non-null    object \n",
      " 19  Deidentified_Answerer          10546 non-null  object \n",
      " 20  Deidentified_Email             10546 non-null  object \n",
      " 21  Deidentified_Transcript        10546 non-null  object \n",
      " 22  Deidentified_Initial_Question  9577 non-null   object \n",
      "dtypes: float64(1), int64(5), object(17)\n",
      "memory usage: 1.9+ MB\n"
     ]
    }
   ],
   "source": [
    "chat_data.info()"
   ]
  },
  {
   "cell_type": "code",
   "execution_count": 4,
   "id": "9911b9c3",
   "metadata": {},
   "outputs": [
    {
     "data": {
      "text/plain": [
       "Chat ID                              0\n",
       "Browser                              0\n",
       "Operating System                     5\n",
       "User Agent                           0\n",
       "Referrer                             0\n",
       "Widget                               2\n",
       "Department                         164\n",
       "Timestamp                            0\n",
       "Wait Time (seconds)                  0\n",
       "Duration (seconds)                   0\n",
       "Screensharing                    10514\n",
       "Rating (0-4)                         0\n",
       "Comment                           9984\n",
       "Transfer History                 10301\n",
       "Message Count                        0\n",
       "Internal Note                    10497\n",
       "Tags                             10544\n",
       "Ticket ID                         8435\n",
       "Unnamed: 27                      10430\n",
       "Deidentified_Answerer                0\n",
       "Deidentified_Email                   0\n",
       "Deidentified_Transcript              0\n",
       "Deidentified_Initial_Question      969\n",
       "dtype: int64"
      ]
     },
     "execution_count": 4,
     "metadata": {},
     "output_type": "execute_result"
    }
   ],
   "source": [
    "chat_data.isna().sum()"
   ]
  },
  {
   "cell_type": "code",
   "execution_count": 5,
   "id": "7724fc4f",
   "metadata": {},
   "outputs": [
    {
     "data": {
      "text/plain": [
       "Chat ID                          10546\n",
       "Browser                            723\n",
       "Operating System                     9\n",
       "User Agent                        2252\n",
       "Referrer                          2631\n",
       "Widget                              14\n",
       "Department                           3\n",
       "Timestamp                        10539\n",
       "Wait Time (seconds)                193\n",
       "Duration (seconds)                1929\n",
       "Screensharing                        1\n",
       "Rating (0-4)                         5\n",
       "Comment                            527\n",
       "Transfer History                    62\n",
       "Message Count                      105\n",
       "Internal Note                       49\n",
       "Tags                                 2\n",
       "Ticket ID                          669\n",
       "Unnamed: 27                        116\n",
       "Deidentified_Answerer               91\n",
       "Deidentified_Email                5696\n",
       "Deidentified_Transcript          10546\n",
       "Deidentified_Initial_Question     9485\n",
       "dtype: int64"
      ]
     },
     "execution_count": 5,
     "metadata": {},
     "output_type": "execute_result"
    }
   ],
   "source": [
    "chat_data.nunique()"
   ]
  },
  {
   "cell_type": "code",
   "execution_count": 6,
   "id": "fee169f4-1a9c-41c6-a541-59b1b93dde04",
   "metadata": {
    "tags": []
   },
   "outputs": [
    {
     "data": {
      "image/png": "[encoded data removed]",
      "text/plain": [
       "<Figure size 500x500 with 1 Axes>"
      ]
     },
     "metadata": {},
     "output_type": "display_data"
    }
   ],
   "source": [
    "sns.catplot(data = chat_data, y = 'Operating System', kind = 'count')\n",
    "\n",
    "plt.show()"
   ]
  },
  {
   "cell_type": "code",
   "execution_count": 7,
   "id": "f5f17633",
   "metadata": {},
   "outputs": [
    {
     "data": {
      "text/plain": [
       "0    7549\n",
       "4    2699\n",
       "3     232\n",
       "2      38\n",
       "1      28\n",
       "Name: Rating (0-4), dtype: int64"
      ]
     },
     "execution_count": 7,
     "metadata": {},
     "output_type": "execute_result"
    }
   ],
   "source": [
    "chat_data['Rating (0-4)'].value_counts()"
   ]
  },
  {
   "cell_type": "code",
   "execution_count": 8,
   "id": "e4f7d983",
   "metadata": {},
   "outputs": [
    {
     "data": {
      "image/png": "[encoded data removed]",
      "text/plain": [
       "<Figure size 500x500 with 1 Axes>"
      ]
     },
     "metadata": {},
     "output_type": "display_data"
    }
   ],
   "source": [
    "sns.catplot(data = chat_data, x = 'Rating (0-4)', kind = 'count')\n",
    "\n",
    "plt.show()"
   ]
  },
  {
   "cell_type": "code",
   "execution_count": 9,
   "id": "3eda0c67",
   "metadata": {
    "tags": []
   },
   "outputs": [
    {
     "data": {
      "image/png": "[encoded data removed]",
      "text/plain": [
       "<Figure size 500x500 with 1 Axes>"
      ]
     },
     "metadata": {},
     "output_type": "display_data"
    }
   ],
   "source": [
    "sns.catplot(data = chat_data, x = 'Rating (0-4)', y = 'Wait Time (seconds)', kind = 'box')\n",
    "\n",
    "plt.show()"
   ]
  },
  {
   "cell_type": "markdown",
   "id": "1d780788-1124-473b-85df-49733748a503",
   "metadata": {},
   "source": [
    "### Initial thougths \n",
    "\n",
    "There seems to be a large skew in the data that is impacting the visualizations. There are small amount but scattered values that are skewing the `Wait Time` to the right, making the concentration of values that are less than a minute long harder to interpret. Let's dive a bit deeper into those outliers."
   ]
  },
  {
   "cell_type": "code",
   "execution_count": 10,
   "id": "e6eb299d",
   "metadata": {
    "tags": []
   },
   "outputs": [
    {
     "data": {
      "text/plain": [
       "4680"
      ]
     },
     "execution_count": 10,
     "metadata": {},
     "output_type": "execute_result"
    }
   ],
   "source": [
    "chat_data['Wait Time (seconds)'].max()"
   ]
  },
  {
   "cell_type": "code",
   "execution_count": 11,
   "id": "f3a1d747-42f3-4852-a82c-fc80ea5a1030",
   "metadata": {
    "tags": []
   },
   "outputs": [
    {
     "data": {
      "text/html": [
       "<div>\n",
       "<style scoped>\n",
       "    .dataframe tbody tr th:only-of-type {\n",
       "        vertical-align: middle;\n",
       "    }\n",
       "\n",
       "    .dataframe tbody tr th {\n",
       "        vertical-align: top;\n",
       "    }\n",
       "\n",
       "    .dataframe thead th {\n",
       "        text-align: right;\n",
       "    }\n",
       "</style>\n",
       "<table border=\"1\" class=\"dataframe\">\n",
       "  <thead>\n",
       "    <tr style=\"text-align: right;\">\n",
       "      <th></th>\n",
       "      <th>Chat ID</th>\n",
       "      <th>Browser</th>\n",
       "      <th>Operating System</th>\n",
       "      <th>User Agent</th>\n",
       "      <th>Referrer</th>\n",
       "      <th>Widget</th>\n",
       "      <th>Department</th>\n",
       "      <th>Timestamp</th>\n",
       "      <th>Wait Time (seconds)</th>\n",
       "      <th>Duration (seconds)</th>\n",
       "      <th>...</th>\n",
       "      <th>Transfer History</th>\n",
       "      <th>Message Count</th>\n",
       "      <th>Internal Note</th>\n",
       "      <th>Tags</th>\n",
       "      <th>Ticket ID</th>\n",
       "      <th>Unnamed: 27</th>\n",
       "      <th>Deidentified_Answerer</th>\n",
       "      <th>Deidentified_Email</th>\n",
       "      <th>Deidentified_Transcript</th>\n",
       "      <th>Deidentified_Initial_Question</th>\n",
       "    </tr>\n",
       "  </thead>\n",
       "  <tbody>\n",
       "    <tr>\n",
       "      <th>317</th>\n",
       "      <td>1822247</td>\n",
       "      <td>Chrome (63.0.3239.132)</td>\n",
       "      <td>Windows</td>\n",
       "      <td>Mozilla/5.0 (Windows NT 10.0; Win64; x64) Appl...</td>\n",
       "      <td>https://www.library.pitt.edu/askus</td>\n",
       "      <td>Ask Us (Ask Us Page)</td>\n",
       "      <td>Ask Reference</td>\n",
       "      <td>2018-02-11 16:05:34</td>\n",
       "      <td>514</td>\n",
       "      <td>731</td>\n",
       "      <td>...</td>\n",
       "      <td>NaN</td>\n",
       "      <td>5</td>\n",
       "      <td>NaN</td>\n",
       "      <td>NaN</td>\n",
       "      <td>NaN</td>\n",
       "      <td>NaN</td>\n",
       "      <td>Librarian 33</td>\n",
       "      <td>User290ef9f745@pitt.edu</td>\n",
       "      <td>16:14:27 - Librarian 33 : [nameredacted] [name...</td>\n",
       "      <td>Hi, can you please help me find this article?\\...</td>\n",
       "    </tr>\n",
       "    <tr>\n",
       "      <th>687</th>\n",
       "      <td>1940862</td>\n",
       "      <td>Chrome (62.0.3202.89)</td>\n",
       "      <td>Linux</td>\n",
       "      <td>Mozilla/5.0 (X11; Linux x86_64) AppleWebKit/53...</td>\n",
       "      <td>https://www.library.pitt.edu/askus</td>\n",
       "      <td>Ask Us (Ask Us Page)</td>\n",
       "      <td>Ask Reference</td>\n",
       "      <td>2018-04-08 16:43:24</td>\n",
       "      <td>1468</td>\n",
       "      <td>202</td>\n",
       "      <td>...</td>\n",
       "      <td>NaN</td>\n",
       "      <td>3</td>\n",
       "      <td>NaN</td>\n",
       "      <td>NaN</td>\n",
       "      <td>NaN</td>\n",
       "      <td>NaN</td>\n",
       "      <td>Librarian 21</td>\n",
       "      <td>User9289a58652@pitt.edu</td>\n",
       "      <td>17:08:08 - Librarian 21 : Hello\\n17:08:38 - Li...</td>\n",
       "      <td>No power in the group study room HL 999-F?</td>\n",
       "    </tr>\n",
       "    <tr>\n",
       "      <th>4007</th>\n",
       "      <td>3468729</td>\n",
       "      <td>Chrome (81.0.4044.113)</td>\n",
       "      <td>Macintosh</td>\n",
       "      <td>Mozilla/5.0 (Macintosh; Intel Mac OS X 10_15_4...</td>\n",
       "      <td>https://pitt.summon.serialssolutions.com/searc...</td>\n",
       "      <td>Remove? Ask Us - Summon</td>\n",
       "      <td>Ask Reference</td>\n",
       "      <td>2020-04-22 12:24:19</td>\n",
       "      <td>1618</td>\n",
       "      <td>1912</td>\n",
       "      <td>...</td>\n",
       "      <td>NaN</td>\n",
       "      <td>12</td>\n",
       "      <td>NaN</td>\n",
       "      <td>NaN</td>\n",
       "      <td>NaN</td>\n",
       "      <td>NaN</td>\n",
       "      <td>Librarian 54</td>\n",
       "      <td>User1b6d570c78@pitt.edu</td>\n",
       "      <td>12:24:40 - Librarian 54 : Hi, let me help you ...</td>\n",
       "      <td>I need following article. Please arrange a PDF...</td>\n",
       "    </tr>\n",
       "    <tr>\n",
       "      <th>4816</th>\n",
       "      <td>4082986</td>\n",
       "      <td>Safari (13.1.1)</td>\n",
       "      <td>Macintosh</td>\n",
       "      <td>Mozilla/5.0 (Macintosh; Intel Mac OS X 10_15_5...</td>\n",
       "      <td>https://pitt.libguides.com/innovation/industry</td>\n",
       "      <td>Ask Us</td>\n",
       "      <td>Ask Reference</td>\n",
       "      <td>2020-08-17 10:29:34</td>\n",
       "      <td>1754</td>\n",
       "      <td>0</td>\n",
       "      <td>...</td>\n",
       "      <td>NaN</td>\n",
       "      <td>1</td>\n",
       "      <td>NaN</td>\n",
       "      <td>NaN</td>\n",
       "      <td>NaN</td>\n",
       "      <td>NaN</td>\n",
       "      <td>Librarian 51</td>\n",
       "      <td>Usera96cd3f67a@gmail.com</td>\n",
       "      <td>10:59:41 - Librarian 51 : [nameredacted] [name...</td>\n",
       "      <td>Hello,\\n\\nI'm looking for comparables for a ho...</td>\n",
       "    </tr>\n",
       "    <tr>\n",
       "      <th>4817</th>\n",
       "      <td>4083157</td>\n",
       "      <td>Firefox (79.0)</td>\n",
       "      <td>Windows</td>\n",
       "      <td>Mozilla/5.0 (Windows NT 10.0; Win64; x64; rv:7...</td>\n",
       "      <td>https://www.library.pitt.edu/askus</td>\n",
       "      <td>Ask Us (Ask Us Page)</td>\n",
       "      <td>Ask Reference</td>\n",
       "      <td>2020-08-17 10:41:41</td>\n",
       "      <td>1251</td>\n",
       "      <td>952</td>\n",
       "      <td>...</td>\n",
       "      <td>NaN</td>\n",
       "      <td>8</td>\n",
       "      <td>NaN</td>\n",
       "      <td>NaN</td>\n",
       "      <td>NaN</td>\n",
       "      <td>NaN</td>\n",
       "      <td>Librarian 51</td>\n",
       "      <td>Usercae096c420@pitt.edu</td>\n",
       "      <td>11:03:02 - Librarian 51 : [nameredacted] [name...</td>\n",
       "      <td>I need three DVDs to teach my film course star...</td>\n",
       "    </tr>\n",
       "    <tr>\n",
       "      <th>5378</th>\n",
       "      <td>4458863</td>\n",
       "      <td>Chrome (85.0.4183.121)</td>\n",
       "      <td>Macintosh</td>\n",
       "      <td>Mozilla/5.0 (Macintosh; Intel Mac OS X 10_14_6...</td>\n",
       "      <td>https://etd.pitt.edu/help</td>\n",
       "      <td>Ask an ETD Specialist</td>\n",
       "      <td>ETD Support</td>\n",
       "      <td>2020-09-29 13:49:17</td>\n",
       "      <td>1242</td>\n",
       "      <td>0</td>\n",
       "      <td>...</td>\n",
       "      <td>NaN</td>\n",
       "      <td>1</td>\n",
       "      <td>NaN</td>\n",
       "      <td>NaN</td>\n",
       "      <td>NaN</td>\n",
       "      <td>NaN</td>\n",
       "      <td>Librarian 58</td>\n",
       "      <td>No Email Provided</td>\n",
       "      <td>14:10:13 - Librarian 58 : Hi. Sorry for missin...</td>\n",
       "      <td>NaN</td>\n",
       "    </tr>\n",
       "    <tr>\n",
       "      <th>5863</th>\n",
       "      <td>5032515</td>\n",
       "      <td>Chrome (87.0.4280.88)</td>\n",
       "      <td>Macintosh</td>\n",
       "      <td>Mozilla/5.0 (Macintosh; Intel Mac OS X 11_1_0)...</td>\n",
       "      <td>https://library.pitt.edu/ask-us</td>\n",
       "      <td>Ask Us (Ask Us Page)</td>\n",
       "      <td>Ask Reference</td>\n",
       "      <td>2020-12-17 10:13:54</td>\n",
       "      <td>4680</td>\n",
       "      <td>121</td>\n",
       "      <td>...</td>\n",
       "      <td>NaN</td>\n",
       "      <td>5</td>\n",
       "      <td>NaN</td>\n",
       "      <td>NaN</td>\n",
       "      <td>NaN</td>\n",
       "      <td>NaN</td>\n",
       "      <td>Librarian 41</td>\n",
       "      <td>User0ccc27ba88@pitt.edu</td>\n",
       "      <td>11:32:33 - Librarian 41 : [nameredacted] [name...</td>\n",
       "      <td>Good morning! I returned some books that I che...</td>\n",
       "    </tr>\n",
       "    <tr>\n",
       "      <th>7337</th>\n",
       "      <td>6322442</td>\n",
       "      <td>Chrome (92.0.4515.131)</td>\n",
       "      <td>Windows</td>\n",
       "      <td>Mozilla/5.0 (Windows NT 10.0; Win64; x64) Appl...</td>\n",
       "      <td>https://www.library.pitt.edu/ask-us</td>\n",
       "      <td>Ask Us (Ask Us Page)</td>\n",
       "      <td>Ask Reference</td>\n",
       "      <td>2021-08-17 15:37:07</td>\n",
       "      <td>1953</td>\n",
       "      <td>627</td>\n",
       "      <td>...</td>\n",
       "      <td>NaN</td>\n",
       "      <td>11</td>\n",
       "      <td>NaN</td>\n",
       "      <td>NaN</td>\n",
       "      <td>NaN</td>\n",
       "      <td>NaN</td>\n",
       "      <td>Librarian 73</td>\n",
       "      <td>User95345b7979@gmail.com</td>\n",
       "      <td>16:10:00 - Librarian 73 : Hi ULSMember- my apo...</td>\n",
       "      <td>Hi, my name is [redacted] [redacted] I'm an in...</td>\n",
       "    </tr>\n",
       "    <tr>\n",
       "      <th>7864</th>\n",
       "      <td>7074338</td>\n",
       "      <td>Chrome (96.0.4664.110)</td>\n",
       "      <td>Windows</td>\n",
       "      <td>Mozilla/5.0 (Windows NT 10.0; Win64; x64) Appl...</td>\n",
       "      <td>https://etd.pitt.edu/help</td>\n",
       "      <td>Ask an ETD Specialist</td>\n",
       "      <td>ETD Support</td>\n",
       "      <td>2022-01-06 12:18:27</td>\n",
       "      <td>503</td>\n",
       "      <td>2805</td>\n",
       "      <td>...</td>\n",
       "      <td>NaN</td>\n",
       "      <td>9</td>\n",
       "      <td>NaN</td>\n",
       "      <td>NaN</td>\n",
       "      <td>NaN</td>\n",
       "      <td>NaN</td>\n",
       "      <td>Librarian 5</td>\n",
       "      <td>No Email Provided</td>\n",
       "      <td>12:26:56 - Librarian 5 : [nameredacted] [namer...</td>\n",
       "      <td>NaN</td>\n",
       "    </tr>\n",
       "    <tr>\n",
       "      <th>9010</th>\n",
       "      <td>8444998</td>\n",
       "      <td>Chrome (107.0.0.0)</td>\n",
       "      <td>Macintosh</td>\n",
       "      <td>Mozilla/5.0 (Macintosh; Intel Mac OS X 10_15_7...</td>\n",
       "      <td>https://www.library.pitt.edu/ask-us</td>\n",
       "      <td>Ask Us (Ask Us Page) [REMOVE?]</td>\n",
       "      <td>Ask Reference</td>\n",
       "      <td>2022-11-04 12:47:44</td>\n",
       "      <td>1442</td>\n",
       "      <td>259</td>\n",
       "      <td>...</td>\n",
       "      <td>NaN</td>\n",
       "      <td>6</td>\n",
       "      <td>NaN</td>\n",
       "      <td>NaN</td>\n",
       "      <td>0.0</td>\n",
       "      <td>NaN</td>\n",
       "      <td>Librarian 81</td>\n",
       "      <td>Userfc725dd6f9@cmu.edu</td>\n",
       "      <td>13:12:15 - Librarian 81 : [nameredacted] [name...</td>\n",
       "      <td>As a cmu student can I access the library, if ...</td>\n",
       "    </tr>\n",
       "    <tr>\n",
       "      <th>9658</th>\n",
       "      <td>9285281</td>\n",
       "      <td>Safari (15.6.1)</td>\n",
       "      <td>Macintosh</td>\n",
       "      <td>Mozilla/5.0 (Macintosh; Intel Mac OS X 10_15_7...</td>\n",
       "      <td>https://pitt.libguides.com/equipment/hillmaneq...</td>\n",
       "      <td>Ask Us [REMOVE?]</td>\n",
       "      <td>Ask Reference</td>\n",
       "      <td>2023-05-30 10:45:36</td>\n",
       "      <td>885</td>\n",
       "      <td>848</td>\n",
       "      <td>...</td>\n",
       "      <td>NaN</td>\n",
       "      <td>4</td>\n",
       "      <td>NaN</td>\n",
       "      <td>NaN</td>\n",
       "      <td>11612963.0</td>\n",
       "      <td>NaN</td>\n",
       "      <td>Librarian 56</td>\n",
       "      <td>User9023e20688@gmail.com</td>\n",
       "      <td>11:01:11 - Librarian 56 : Hello, sorry for the...</td>\n",
       "      <td>Hi good morning! I would like to borrow a GH9 ...</td>\n",
       "    </tr>\n",
       "    <tr>\n",
       "      <th>9728</th>\n",
       "      <td>9353156</td>\n",
       "      <td>Chrome (114.0.0.0)</td>\n",
       "      <td>Windows</td>\n",
       "      <td>Mozilla/5.0 (Windows NT 10.0; Win64; x64) Appl...</td>\n",
       "      <td>https://etd.pitt.edu/help</td>\n",
       "      <td>Ask an ETD Specialist (Slider) (New API)</td>\n",
       "      <td>ETD Support</td>\n",
       "      <td>2023-06-21 09:15:42</td>\n",
       "      <td>1847</td>\n",
       "      <td>325</td>\n",
       "      <td>...</td>\n",
       "      <td>NaN</td>\n",
       "      <td>3</td>\n",
       "      <td>NaN</td>\n",
       "      <td>NaN</td>\n",
       "      <td>0.0</td>\n",
       "      <td>NaN</td>\n",
       "      <td>Librarian 82</td>\n",
       "      <td>No Email Provided</td>\n",
       "      <td>09:46:52 - Librarian 82 : Hi how can we help\\n...</td>\n",
       "      <td>NaN</td>\n",
       "    </tr>\n",
       "    <tr>\n",
       "      <th>9821</th>\n",
       "      <td>9464292</td>\n",
       "      <td>Edge (115.0.1901.183)</td>\n",
       "      <td>Windows</td>\n",
       "      <td>Mozilla/5.0 (Windows NT 10.0; Win64; x64) Appl...</td>\n",
       "      <td>https://etd.pitt.edu/learn-template</td>\n",
       "      <td>Ask an ETD Specialist (Slider) (New API)</td>\n",
       "      <td>ETD Support</td>\n",
       "      <td>2023-07-27 10:00:22</td>\n",
       "      <td>941</td>\n",
       "      <td>1006</td>\n",
       "      <td>...</td>\n",
       "      <td>NaN</td>\n",
       "      <td>16</td>\n",
       "      <td>NaN</td>\n",
       "      <td>NaN</td>\n",
       "      <td>11993939.0</td>\n",
       "      <td>NaN</td>\n",
       "      <td>Librarian 82</td>\n",
       "      <td>No Email Provided</td>\n",
       "      <td>10:16:14 - Librarian 82 : Hi how can we help\\n...</td>\n",
       "      <td>NaN</td>\n",
       "    </tr>\n",
       "    <tr>\n",
       "      <th>10199</th>\n",
       "      <td>9979565</td>\n",
       "      <td>Chrome (119.0.0.0)</td>\n",
       "      <td>Macintosh</td>\n",
       "      <td>Mozilla/5.0 (Macintosh; Intel Mac OS X 10_15_7...</td>\n",
       "      <td>https://etd.pitt.edu/help</td>\n",
       "      <td>Ask an ETD Specialist (Slider) (New API)</td>\n",
       "      <td>ETD Support</td>\n",
       "      <td>2023-11-15 11:30:58</td>\n",
       "      <td>1220</td>\n",
       "      <td>826</td>\n",
       "      <td>...</td>\n",
       "      <td>NaN</td>\n",
       "      <td>3</td>\n",
       "      <td>NaN</td>\n",
       "      <td>NaN</td>\n",
       "      <td>0.0</td>\n",
       "      <td>NaN</td>\n",
       "      <td>Librarian 58</td>\n",
       "      <td>User6356f9d581@pitt.edu</td>\n",
       "      <td>11:52:03 - Librarian 58 : Hello. How can I hel...</td>\n",
       "      <td>NaN</td>\n",
       "    </tr>\n",
       "    <tr>\n",
       "      <th>10207</th>\n",
       "      <td>9986828</td>\n",
       "      <td>Edge (119.0.0.0)</td>\n",
       "      <td>Windows</td>\n",
       "      <td>Mozilla/5.0 (Windows NT 10.0; Win64; x64) Appl...</td>\n",
       "      <td>https://pitt.libguides.com/c.php?g=1172750&amp;amp...</td>\n",
       "      <td>Ask Us [REMOVE?]</td>\n",
       "      <td>Ask Reference</td>\n",
       "      <td>2023-11-16 12:20:18</td>\n",
       "      <td>833</td>\n",
       "      <td>147</td>\n",
       "      <td>...</td>\n",
       "      <td>NaN</td>\n",
       "      <td>3</td>\n",
       "      <td>NaN</td>\n",
       "      <td>NaN</td>\n",
       "      <td>0.0</td>\n",
       "      <td>NaN</td>\n",
       "      <td>Librarian 7</td>\n",
       "      <td>Userc7f478c456@upmc.edu</td>\n",
       "      <td>12:34:38 - Librarian 7 : Greetings! Apologies ...</td>\n",
       "      <td>Hello! I work as a research associate senior a...</td>\n",
       "    </tr>\n",
       "    <tr>\n",
       "      <th>10467</th>\n",
       "      <td>10429943</td>\n",
       "      <td>Chrome (122.0.0.0)</td>\n",
       "      <td>Windows</td>\n",
       "      <td>Mozilla/5.0 (Windows NT 10.0; Win64; x64) Appl...</td>\n",
       "      <td>https://etd.pitt.edu/search/node/epigraph</td>\n",
       "      <td>Ask an ETD Specialist (Slider) (New API)</td>\n",
       "      <td>ETD Support</td>\n",
       "      <td>2024-03-06 10:29:10</td>\n",
       "      <td>1269</td>\n",
       "      <td>470</td>\n",
       "      <td>...</td>\n",
       "      <td>NaN</td>\n",
       "      <td>12</td>\n",
       "      <td>NaN</td>\n",
       "      <td>NaN</td>\n",
       "      <td>0.0</td>\n",
       "      <td>NaN</td>\n",
       "      <td>Librarian 82</td>\n",
       "      <td>No Email Provided</td>\n",
       "      <td>10:50:32 - Librarian 82 : Hi how can we help \\...</td>\n",
       "      <td>NaN</td>\n",
       "    </tr>\n",
       "    <tr>\n",
       "      <th>10527</th>\n",
       "      <td>10548009</td>\n",
       "      <td>Chrome (123.0.0.0)</td>\n",
       "      <td>Macintosh</td>\n",
       "      <td>Mozilla/5.0 (Macintosh; Intel Mac OS X 10_15_7...</td>\n",
       "      <td>https://etd.pitt.edu/copyright-permission</td>\n",
       "      <td>Ask an ETD Specialist (Slider) (New API)</td>\n",
       "      <td>ETD Support</td>\n",
       "      <td>2024-04-03 10:35:07</td>\n",
       "      <td>2413</td>\n",
       "      <td>0</td>\n",
       "      <td>...</td>\n",
       "      <td>NaN</td>\n",
       "      <td>1</td>\n",
       "      <td>NaN</td>\n",
       "      <td>NaN</td>\n",
       "      <td>0.0</td>\n",
       "      <td>NaN</td>\n",
       "      <td>Librarian 82</td>\n",
       "      <td>No Email Provided</td>\n",
       "      <td>11:15:31 - Librarian 82 : Hi how can we help\\n</td>\n",
       "      <td>NaN</td>\n",
       "    </tr>\n",
       "  </tbody>\n",
       "</table>\n",
       "<p>17 rows × 23 columns</p>\n",
       "</div>"
      ],
      "text/plain": [
       "        Chat ID                 Browser Operating System  \\\n",
       "317     1822247  Chrome (63.0.3239.132)          Windows   \n",
       "687     1940862   Chrome (62.0.3202.89)            Linux   \n",
       "4007    3468729  Chrome (81.0.4044.113)        Macintosh   \n",
       "4816    4082986         Safari (13.1.1)        Macintosh   \n",
       "4817    4083157          Firefox (79.0)          Windows   \n",
       "5378    4458863  Chrome (85.0.4183.121)        Macintosh   \n",
       "5863    5032515   Chrome (87.0.4280.88)        Macintosh   \n",
       "7337    6322442  Chrome (92.0.4515.131)          Windows   \n",
       "7864    7074338  Chrome (96.0.4664.110)          Windows   \n",
       "9010    8444998      Chrome (107.0.0.0)        Macintosh   \n",
       "9658    9285281         Safari (15.6.1)        Macintosh   \n",
       "9728    9353156      Chrome (114.0.0.0)          Windows   \n",
       "9821    9464292   Edge (115.0.1901.183)          Windows   \n",
       "10199   9979565      Chrome (119.0.0.0)        Macintosh   \n",
       "10207   9986828        Edge (119.0.0.0)          Windows   \n",
       "10467  10429943      Chrome (122.0.0.0)          Windows   \n",
       "10527  10548009      Chrome (123.0.0.0)        Macintosh   \n",
       "\n",
       "                                              User Agent  \\\n",
       "317    Mozilla/5.0 (Windows NT 10.0; Win64; x64) Appl...   \n",
       "687    Mozilla/5.0 (X11; Linux x86_64) AppleWebKit/53...   \n",
       "4007   Mozilla/5.0 (Macintosh; Intel Mac OS X 10_15_4...   \n",
       "4816   Mozilla/5.0 (Macintosh; Intel Mac OS X 10_15_5...   \n",
       "4817   Mozilla/5.0 (Windows NT 10.0; Win64; x64; rv:7...   \n",
       "5378   Mozilla/5.0 (Macintosh; Intel Mac OS X 10_14_6...   \n",
       "5863   Mozilla/5.0 (Macintosh; Intel Mac OS X 11_1_0)...   \n",
       "7337   Mozilla/5.0 (Windows NT 10.0; Win64; x64) Appl...   \n",
       "7864   Mozilla/5.0 (Windows NT 10.0; Win64; x64) Appl...   \n",
       "9010   Mozilla/5.0 (Macintosh; Intel Mac OS X 10_15_7...   \n",
       "9658   Mozilla/5.0 (Macintosh; Intel Mac OS X 10_15_7...   \n",
       "9728   Mozilla/5.0 (Windows NT 10.0; Win64; x64) Appl...   \n",
       "9821   Mozilla/5.0 (Windows NT 10.0; Win64; x64) Appl...   \n",
       "10199  Mozilla/5.0 (Macintosh; Intel Mac OS X 10_15_7...   \n",
       "10207  Mozilla/5.0 (Windows NT 10.0; Win64; x64) Appl...   \n",
       "10467  Mozilla/5.0 (Windows NT 10.0; Win64; x64) Appl...   \n",
       "10527  Mozilla/5.0 (Macintosh; Intel Mac OS X 10_15_7...   \n",
       "\n",
       "                                                Referrer  \\\n",
       "317                   https://www.library.pitt.edu/askus   \n",
       "687                   https://www.library.pitt.edu/askus   \n",
       "4007   https://pitt.summon.serialssolutions.com/searc...   \n",
       "4816      https://pitt.libguides.com/innovation/industry   \n",
       "4817                  https://www.library.pitt.edu/askus   \n",
       "5378                           https://etd.pitt.edu/help   \n",
       "5863                     https://library.pitt.edu/ask-us   \n",
       "7337                 https://www.library.pitt.edu/ask-us   \n",
       "7864                           https://etd.pitt.edu/help   \n",
       "9010                 https://www.library.pitt.edu/ask-us   \n",
       "9658   https://pitt.libguides.com/equipment/hillmaneq...   \n",
       "9728                           https://etd.pitt.edu/help   \n",
       "9821                 https://etd.pitt.edu/learn-template   \n",
       "10199                          https://etd.pitt.edu/help   \n",
       "10207  https://pitt.libguides.com/c.php?g=1172750&amp...   \n",
       "10467          https://etd.pitt.edu/search/node/epigraph   \n",
       "10527          https://etd.pitt.edu/copyright-permission   \n",
       "\n",
       "                                         Widget     Department  \\\n",
       "317                        Ask Us (Ask Us Page)  Ask Reference   \n",
       "687                        Ask Us (Ask Us Page)  Ask Reference   \n",
       "4007                    Remove? Ask Us - Summon  Ask Reference   \n",
       "4816                                     Ask Us  Ask Reference   \n",
       "4817                       Ask Us (Ask Us Page)  Ask Reference   \n",
       "5378                      Ask an ETD Specialist    ETD Support   \n",
       "5863                       Ask Us (Ask Us Page)  Ask Reference   \n",
       "7337                       Ask Us (Ask Us Page)  Ask Reference   \n",
       "7864                      Ask an ETD Specialist    ETD Support   \n",
       "9010             Ask Us (Ask Us Page) [REMOVE?]  Ask Reference   \n",
       "9658                           Ask Us [REMOVE?]  Ask Reference   \n",
       "9728   Ask an ETD Specialist (Slider) (New API)    ETD Support   \n",
       "9821   Ask an ETD Specialist (Slider) (New API)    ETD Support   \n",
       "10199  Ask an ETD Specialist (Slider) (New API)    ETD Support   \n",
       "10207                          Ask Us [REMOVE?]  Ask Reference   \n",
       "10467  Ask an ETD Specialist (Slider) (New API)    ETD Support   \n",
       "10527  Ask an ETD Specialist (Slider) (New API)    ETD Support   \n",
       "\n",
       "                 Timestamp  Wait Time (seconds)  Duration (seconds)  ...  \\\n",
       "317    2018-02-11 16:05:34                  514                 731  ...   \n",
       "687    2018-04-08 16:43:24                 1468                 202  ...   \n",
       "4007   2020-04-22 12:24:19                 1618                1912  ...   \n",
       "4816   2020-08-17 10:29:34                 1754                   0  ...   \n",
       "4817   2020-08-17 10:41:41                 1251                 952  ...   \n",
       "5378   2020-09-29 13:49:17                 1242                   0  ...   \n",
       "5863   2020-12-17 10:13:54                 4680                 121  ...   \n",
       "7337   2021-08-17 15:37:07                 1953                 627  ...   \n",
       "7864   2022-01-06 12:18:27                  503                2805  ...   \n",
       "9010   2022-11-04 12:47:44                 1442                 259  ...   \n",
       "9658   2023-05-30 10:45:36                  885                 848  ...   \n",
       "9728   2023-06-21 09:15:42                 1847                 325  ...   \n",
       "9821   2023-07-27 10:00:22                  941                1006  ...   \n",
       "10199  2023-11-15 11:30:58                 1220                 826  ...   \n",
       "10207  2023-11-16 12:20:18                  833                 147  ...   \n",
       "10467  2024-03-06 10:29:10                 1269                 470  ...   \n",
       "10527  2024-04-03 10:35:07                 2413                   0  ...   \n",
       "\n",
       "      Transfer History  Message Count Internal Note Tags   Ticket ID  \\\n",
       "317                NaN              5           NaN  NaN         NaN   \n",
       "687                NaN              3           NaN  NaN         NaN   \n",
       "4007               NaN             12           NaN  NaN         NaN   \n",
       "4816               NaN              1           NaN  NaN         NaN   \n",
       "4817               NaN              8           NaN  NaN         NaN   \n",
       "5378               NaN              1           NaN  NaN         NaN   \n",
       "5863               NaN              5           NaN  NaN         NaN   \n",
       "7337               NaN             11           NaN  NaN         NaN   \n",
       "7864               NaN              9           NaN  NaN         NaN   \n",
       "9010               NaN              6           NaN  NaN         0.0   \n",
       "9658               NaN              4           NaN  NaN  11612963.0   \n",
       "9728               NaN              3           NaN  NaN         0.0   \n",
       "9821               NaN             16           NaN  NaN  11993939.0   \n",
       "10199              NaN              3           NaN  NaN         0.0   \n",
       "10207              NaN              3           NaN  NaN         0.0   \n",
       "10467              NaN             12           NaN  NaN         0.0   \n",
       "10527              NaN              1           NaN  NaN         0.0   \n",
       "\n",
       "      Unnamed: 27 Deidentified_Answerer        Deidentified_Email  \\\n",
       "317           NaN          Librarian 33   User290ef9f745@pitt.edu   \n",
       "687           NaN          Librarian 21   User9289a58652@pitt.edu   \n",
       "4007          NaN          Librarian 54   User1b6d570c78@pitt.edu   \n",
       "4816          NaN          Librarian 51  Usera96cd3f67a@gmail.com   \n",
       "4817          NaN          Librarian 51   Usercae096c420@pitt.edu   \n",
       "5378          NaN          Librarian 58         No Email Provided   \n",
       "5863          NaN          Librarian 41   User0ccc27ba88@pitt.edu   \n",
       "7337          NaN          Librarian 73  User95345b7979@gmail.com   \n",
       "7864          NaN           Librarian 5         No Email Provided   \n",
       "9010          NaN          Librarian 81    Userfc725dd6f9@cmu.edu   \n",
       "9658          NaN          Librarian 56  User9023e20688@gmail.com   \n",
       "9728          NaN          Librarian 82         No Email Provided   \n",
       "9821          NaN          Librarian 82         No Email Provided   \n",
       "10199         NaN          Librarian 58   User6356f9d581@pitt.edu   \n",
       "10207         NaN           Librarian 7   Userc7f478c456@upmc.edu   \n",
       "10467         NaN          Librarian 82         No Email Provided   \n",
       "10527         NaN          Librarian 82         No Email Provided   \n",
       "\n",
       "                                 Deidentified_Transcript  \\\n",
       "317    16:14:27 - Librarian 33 : [nameredacted] [name...   \n",
       "687    17:08:08 - Librarian 21 : Hello\\n17:08:38 - Li...   \n",
       "4007   12:24:40 - Librarian 54 : Hi, let me help you ...   \n",
       "4816   10:59:41 - Librarian 51 : [nameredacted] [name...   \n",
       "4817   11:03:02 - Librarian 51 : [nameredacted] [name...   \n",
       "5378   14:10:13 - Librarian 58 : Hi. Sorry for missin...   \n",
       "5863   11:32:33 - Librarian 41 : [nameredacted] [name...   \n",
       "7337   16:10:00 - Librarian 73 : Hi ULSMember- my apo...   \n",
       "7864   12:26:56 - Librarian 5 : [nameredacted] [namer...   \n",
       "9010   13:12:15 - Librarian 81 : [nameredacted] [name...   \n",
       "9658   11:01:11 - Librarian 56 : Hello, sorry for the...   \n",
       "9728   09:46:52 - Librarian 82 : Hi how can we help\\n...   \n",
       "9821   10:16:14 - Librarian 82 : Hi how can we help\\n...   \n",
       "10199  11:52:03 - Librarian 58 : Hello. How can I hel...   \n",
       "10207  12:34:38 - Librarian 7 : Greetings! Apologies ...   \n",
       "10467  10:50:32 - Librarian 82 : Hi how can we help \\...   \n",
       "10527     11:15:31 - Librarian 82 : Hi how can we help\\n   \n",
       "\n",
       "                           Deidentified_Initial_Question  \n",
       "317    Hi, can you please help me find this article?\\...  \n",
       "687           No power in the group study room HL 999-F?  \n",
       "4007   I need following article. Please arrange a PDF...  \n",
       "4816   Hello,\\n\\nI'm looking for comparables for a ho...  \n",
       "4817   I need three DVDs to teach my film course star...  \n",
       "5378                                                 NaN  \n",
       "5863   Good morning! I returned some books that I che...  \n",
       "7337   Hi, my name is [redacted] [redacted] I'm an in...  \n",
       "7864                                                 NaN  \n",
       "9010   As a cmu student can I access the library, if ...  \n",
       "9658   Hi good morning! I would like to borrow a GH9 ...  \n",
       "9728                                                 NaN  \n",
       "9821                                                 NaN  \n",
       "10199                                                NaN  \n",
       "10207  Hello! I work as a research associate senior a...  \n",
       "10467                                                NaN  \n",
       "10527                                                NaN  \n",
       "\n",
       "[17 rows x 23 columns]"
      ]
     },
     "execution_count": 11,
     "metadata": {},
     "output_type": "execute_result"
    }
   ],
   "source": [
    "chat_data[chat_data['Wait Time (seconds)'] > 500]"
   ]
  },
  {
   "cell_type": "code",
   "execution_count": 12,
   "id": "308a72ff-64a7-4542-926e-54b4b809382e",
   "metadata": {
    "tags": []
   },
   "outputs": [],
   "source": [
    "wait_time_outliers = chat_data[chat_data['Wait Time (seconds)'] > 500].index.tolist()"
   ]
  },
  {
   "cell_type": "code",
   "execution_count": 13,
   "id": "6987d431-e728-46c6-8b9e-dad40e278f6f",
   "metadata": {
    "tags": []
   },
   "outputs": [],
   "source": [
    "chat_data_copy = chat_data.drop(index = wait_time_outliers).copy()"
   ]
  },
  {
   "cell_type": "markdown",
   "id": "c93bdf82-8623-4ef1-bfec-43911faf5a00",
   "metadata": {},
   "source": [
    "This a decent amount of skewed data but we don't want to remove too much. 17 rows out of 10000+ feels acceptable to be able to atleast visualize the skew. We have those data points saved as outliers above to do any further digging later on to how these outliers can be occurring. For now lets continue with our initial EDA."
   ]
  },
  {
   "cell_type": "code",
   "execution_count": 14,
   "id": "c2b91b9d-a244-43f2-baee-729da58a8083",
   "metadata": {
    "tags": []
   },
   "outputs": [
    {
     "data": {
      "image/png": "[encoded data removed]",
      "text/plain": [
       "<Figure size 1000x500 with 1 Axes>"
      ]
     },
     "metadata": {},
     "output_type": "display_data"
    }
   ],
   "source": [
    "sns.displot(data = chat_data_copy, x = 'Wait Time (seconds)', kind = 'hist', aspect = 2)\n",
    "\n",
    "plt.show()"
   ]
  },
  {
   "cell_type": "code",
   "execution_count": 15,
   "id": "72d8eef2-b47c-4b05-ba40-2481fb70355f",
   "metadata": {
    "tags": []
   },
   "outputs": [
    {
     "data": {
      "image/png": "[encoded data removed]",
      "text/plain": [
       "<Figure size 2500x500 with 5 Axes>"
      ]
     },
     "metadata": {},
     "output_type": "display_data"
    }
   ],
   "source": [
    "sns.displot(data = chat_data_copy, x = 'Wait Time (seconds)', col = 'Rating (0-4)', kind = 'hist',)\n",
    "\n",
    "plt.show()"
   ]
  },
  {
   "cell_type": "code",
   "execution_count": 16,
   "id": "82ca3a14-ab48-4777-b6fa-759a29b45aa5",
   "metadata": {
    "tags": []
   },
   "outputs": [
    {
     "data": {
      "image/png": "[encoded data removed]",
      "text/plain": [
       "<Figure size 1000x500 with 1 Axes>"
      ]
     },
     "metadata": {},
     "output_type": "display_data"
    }
   ],
   "source": [
    "sns.catplot(data = chat_data_copy, x = 'Rating (0-4)', y = 'Wait Time (seconds)', kind = 'box', aspect = 2)\n",
    "\n",
    "plt.show()"
   ]
  },
  {
   "cell_type": "code",
   "execution_count": 17,
   "id": "d0c43ba7-5f2e-417a-bfa8-abe053b9d568",
   "metadata": {
    "tags": []
   },
   "outputs": [
    {
     "data": {
      "image/png": "[encoded data removed]",
      "text/plain": [
       "<Figure size 1000x500 with 1 Axes>"
      ]
     },
     "metadata": {},
     "output_type": "display_data"
    }
   ],
   "source": [
    "sns.displot(data = chat_data, x = 'Duration (seconds)' , kind = 'hist', aspect = 2)\n",
    "\n",
    "plt.show()"
   ]
  },
  {
   "cell_type": "code",
   "execution_count": 18,
   "id": "0ff525c6-3d65-4d2d-a834-ecf491315c85",
   "metadata": {
    "tags": []
   },
   "outputs": [
    {
     "data": {
      "image/png": "[encoded data removed]",
      "text/plain": [
       "<Figure size 1000x500 with 1 Axes>"
      ]
     },
     "metadata": {},
     "output_type": "display_data"
    }
   ],
   "source": [
    "sns.catplot(data = chat_data, x = 'Rating (0-4)', y = 'Duration (seconds)' , kind = 'violin', aspect = 2)\n",
    "\n",
    "plt.show()"
   ]
  },
  {
   "cell_type": "markdown",
   "id": "4885763e-f55e-4a8f-b756-ebdfcb24a8f9",
   "metadata": {},
   "source": [
    "Above we began exploring Ratings across time spent on inquiry. With the mass amounts of missing ratings, the scale of some of the visualizations will be thrown off initially. When we get deeper into our analysis we know we will need to standardize the variables to paint a clearer picture and assist us with our goal of predicting the missing Ratings, assuming that is the output variable we would like to stick with following sentiment analysis.\n",
    "\n",
    "Now, I will begin exploring the various departments and referrals to see if there are any patterns here as well."
   ]
  },
  {
   "cell_type": "markdown",
   "id": "f0f1af9d-26c2-4036-8c91-c3106e4274e8",
   "metadata": {},
   "source": [
    "### Data by Department and Referral "
   ]
  },
  {
   "cell_type": "code",
   "execution_count": 19,
   "id": "69741cab-abe0-423b-b499-7b2c09a81bdd",
   "metadata": {
    "tags": []
   },
   "outputs": [
    {
     "data": {
      "image/png": "[encoded data removed]",
      "text/plain": [
       "<Figure size 500x500 with 1 Axes>"
      ]
     },
     "metadata": {},
     "output_type": "display_data"
    }
   ],
   "source": [
    "sns.catplot(data = chat_data, x = 'Department', kind = 'count')\n",
    "\n",
    "plt.show()"
   ]
  },
  {
   "cell_type": "code",
   "execution_count": 20,
   "id": "93d14919-9849-47a3-9cdf-245590e56bd3",
   "metadata": {
    "tags": []
   },
   "outputs": [
    {
     "data": {
      "image/png": "[encoded data removed]",
      "text/plain": [
       "<Figure size 2500x500 with 5 Axes>"
      ]
     },
     "metadata": {},
     "output_type": "display_data"
    }
   ],
   "source": [
    "sns.catplot(data = chat_data, x = 'Department', col = 'Rating (0-4)', kind = 'count')\n",
    "\n",
    "plt.show()"
   ]
  },
  {
   "cell_type": "markdown",
   "id": "c7c20acd-4721-4a6e-ae3b-9971cbb36b4f",
   "metadata": {},
   "source": [
    "An \"Ask Reference\" dominates the origins of most inquiries by 'Department\" however, we know that not all of the \"Ask References\" originate from the same place."
   ]
  },
  {
   "cell_type": "code",
   "execution_count": 21,
   "id": "68255700-7711-41aa-950f-e95533cb4b03",
   "metadata": {
    "tags": []
   },
   "outputs": [],
   "source": [
    "refer_df = chat_data.Referrer.value_counts().to_frame()"
   ]
  },
  {
   "cell_type": "code",
   "execution_count": 22,
   "id": "8c4bbb6c-c93c-4e72-8c7f-19e8278e7374",
   "metadata": {
    "tags": []
   },
   "outputs": [
    {
     "data": {
      "text/html": [
       "<div>\n",
       "<style scoped>\n",
       "    .dataframe tbody tr th:only-of-type {\n",
       "        vertical-align: middle;\n",
       "    }\n",
       "\n",
       "    .dataframe tbody tr th {\n",
       "        vertical-align: top;\n",
       "    }\n",
       "\n",
       "    .dataframe thead th {\n",
       "        text-align: right;\n",
       "    }\n",
       "</style>\n",
       "<table border=\"1\" class=\"dataframe\">\n",
       "  <thead>\n",
       "    <tr style=\"text-align: right;\">\n",
       "      <th></th>\n",
       "      <th>Referrer</th>\n",
       "    </tr>\n",
       "  </thead>\n",
       "  <tbody>\n",
       "    <tr>\n",
       "      <th>https://www.library.pitt.edu/askus</th>\n",
       "      <td>1675</td>\n",
       "    </tr>\n",
       "    <tr>\n",
       "      <th>https://www.library.pitt.edu/</th>\n",
       "      <td>924</td>\n",
       "    </tr>\n",
       "    <tr>\n",
       "      <th>https://www.library.pitt.edu/ask-us</th>\n",
       "      <td>912</td>\n",
       "    </tr>\n",
       "    <tr>\n",
       "      <th>https://library.pitt.edu/ask-us</th>\n",
       "      <td>733</td>\n",
       "    </tr>\n",
       "    <tr>\n",
       "      <th>https://etd.pitt.edu/help</th>\n",
       "      <td>617</td>\n",
       "    </tr>\n",
       "    <tr>\n",
       "      <th>https://library.pitt.edu/</th>\n",
       "      <td>327</td>\n",
       "    </tr>\n",
       "    <tr>\n",
       "      <th>https://library.pitt.edu/askus</th>\n",
       "      <td>170</td>\n",
       "    </tr>\n",
       "    <tr>\n",
       "      <th>http://www.library.pitt.edu/ask-us</th>\n",
       "      <td>160</td>\n",
       "    </tr>\n",
       "    <tr>\n",
       "      <th>http://library.pitt.edu/ask-us</th>\n",
       "      <td>138</td>\n",
       "    </tr>\n",
       "    <tr>\n",
       "      <th>https://library.pitt.edu/hillman-library</th>\n",
       "      <td>93</td>\n",
       "    </tr>\n",
       "  </tbody>\n",
       "</table>\n",
       "</div>"
      ],
      "text/plain": [
       "                                          Referrer\n",
       "https://www.library.pitt.edu/askus            1675\n",
       "https://www.library.pitt.edu/                  924\n",
       "https://www.library.pitt.edu/ask-us            912\n",
       "https://library.pitt.edu/ask-us                733\n",
       "https://etd.pitt.edu/help                      617\n",
       "https://library.pitt.edu/                      327\n",
       "https://library.pitt.edu/askus                 170\n",
       "http://www.library.pitt.edu/ask-us             160\n",
       "http://library.pitt.edu/ask-us                 138\n",
       "https://library.pitt.edu/hillman-library        93"
      ]
     },
     "execution_count": 22,
     "metadata": {},
     "output_type": "execute_result"
    }
   ],
   "source": [
    "refer_df.head(10)"
   ]
  },
  {
   "cell_type": "markdown",
   "id": "c8710a12-369e-49fe-a7a4-602d6cea77c6",
   "metadata": {},
   "source": [
    "Above we can see the 10 most frequent ways an inquiry was placed. The majority of which are different iterations of the same link, this could be populated by the way the data is collected from the users' machine."
   ]
  },
  {
   "cell_type": "markdown",
   "id": "61f0e1d2-e9f2-4d3c-816f-a5db0ac5591b",
   "metadata": {},
   "source": [
    "### Data by Answerer and User (deidentified)"
   ]
  },
  {
   "cell_type": "markdown",
   "id": "c4aab6bb-d504-437c-8b2e-c0497e541695",
   "metadata": {},
   "source": [
    "We can begin to try and explore the combinations of answerer and user and see if we can find any correlations between ratings, Duration, etc."
   ]
  },
  {
   "cell_type": "code",
   "execution_count": 23,
   "id": "bac711de-c631-4a7d-9dcf-c79c6b99ce58",
   "metadata": {
    "tags": []
   },
   "outputs": [],
   "source": [
    "librarian_df = chat_data.Deidentified_Answerer.value_counts().to_frame()"
   ]
  },
  {
   "cell_type": "code",
   "execution_count": 24,
   "id": "eb5761ff-5764-4994-af4d-71c2fcc2d15d",
   "metadata": {
    "tags": []
   },
   "outputs": [
    {
     "data": {
      "text/html": [
       "<div>\n",
       "<style scoped>\n",
       "    .dataframe tbody tr th:only-of-type {\n",
       "        vertical-align: middle;\n",
       "    }\n",
       "\n",
       "    .dataframe tbody tr th {\n",
       "        vertical-align: top;\n",
       "    }\n",
       "\n",
       "    .dataframe thead th {\n",
       "        text-align: right;\n",
       "    }\n",
       "</style>\n",
       "<table border=\"1\" class=\"dataframe\">\n",
       "  <thead>\n",
       "    <tr style=\"text-align: right;\">\n",
       "      <th></th>\n",
       "      <th>Deidentified_Answerer</th>\n",
       "    </tr>\n",
       "  </thead>\n",
       "  <tbody>\n",
       "    <tr>\n",
       "      <th>Librarian 41</th>\n",
       "      <td>777</td>\n",
       "    </tr>\n",
       "    <tr>\n",
       "      <th>Librarian 49</th>\n",
       "      <td>537</td>\n",
       "    </tr>\n",
       "    <tr>\n",
       "      <th>Librarian 60</th>\n",
       "      <td>440</td>\n",
       "    </tr>\n",
       "    <tr>\n",
       "      <th>Librarian 12</th>\n",
       "      <td>437</td>\n",
       "    </tr>\n",
       "    <tr>\n",
       "      <th>Librarian 4</th>\n",
       "      <td>421</td>\n",
       "    </tr>\n",
       "    <tr>\n",
       "      <th>Librarian 39</th>\n",
       "      <td>395</td>\n",
       "    </tr>\n",
       "    <tr>\n",
       "      <th>Librarian 82</th>\n",
       "      <td>341</td>\n",
       "    </tr>\n",
       "    <tr>\n",
       "      <th>Librarian 5</th>\n",
       "      <td>296</td>\n",
       "    </tr>\n",
       "    <tr>\n",
       "      <th>Librarian 38</th>\n",
       "      <td>291</td>\n",
       "    </tr>\n",
       "    <tr>\n",
       "      <th>Librarian 27</th>\n",
       "      <td>278</td>\n",
       "    </tr>\n",
       "  </tbody>\n",
       "</table>\n",
       "</div>"
      ],
      "text/plain": [
       "              Deidentified_Answerer\n",
       "Librarian 41                    777\n",
       "Librarian 49                    537\n",
       "Librarian 60                    440\n",
       "Librarian 12                    437\n",
       "Librarian 4                     421\n",
       "Librarian 39                    395\n",
       "Librarian 82                    341\n",
       "Librarian 5                     296\n",
       "Librarian 38                    291\n",
       "Librarian 27                    278"
      ]
     },
     "execution_count": 24,
     "metadata": {},
     "output_type": "execute_result"
    }
   ],
   "source": [
    "librarian_df.head(10)"
   ]
  },
  {
   "cell_type": "code",
   "execution_count": 25,
   "id": "d8a209f3-2604-4391-8d3f-cfcc66bf75c3",
   "metadata": {
    "tags": []
   },
   "outputs": [],
   "source": [
    "librarian_df.rename(columns = {'Deidentified_Answerer' : 'Inquiries_Answered'}, inplace = True)"
   ]
  },
  {
   "cell_type": "code",
   "execution_count": 26,
   "id": "6e18e4ee-f1c2-491c-8668-07a47c708aac",
   "metadata": {
    "tags": []
   },
   "outputs": [],
   "source": [
    "lib_join = librarian_df.reset_index(names = 'Deidentified_Answerer')"
   ]
  },
  {
   "cell_type": "code",
   "execution_count": 27,
   "id": "a734eeb9-3bea-4601-87f4-67baa25ecc79",
   "metadata": {
    "tags": []
   },
   "outputs": [],
   "source": [
    "librarian_avgs = chat_data.groupby(by = 'Deidentified_Answerer', as_index = False).mean(numeric_only = True)"
   ]
  },
  {
   "cell_type": "code",
   "execution_count": 28,
   "id": "f445f320-4933-4049-8270-422430162802",
   "metadata": {
    "tags": []
   },
   "outputs": [],
   "source": [
    "librarian_stats_df = pd.merge(lib_join, librarian_avgs, how = 'left', on = 'Deidentified_Answerer')"
   ]
  },
  {
   "cell_type": "code",
   "execution_count": 29,
   "id": "3dbf016f-ab5c-4e68-b58e-a2d4553c39be",
   "metadata": {
    "tags": []
   },
   "outputs": [],
   "source": [
    "# drop ID columns that were averaged as well and only include relevant averages\n",
    "\n",
    "id_drop = ['Chat ID', 'Ticket ID']\n",
    "librarian_stats_df.drop(id_drop, axis = 1, inplace = True)"
   ]
  },
  {
   "cell_type": "code",
   "execution_count": 30,
   "id": "b101af81-39b2-4779-bdd5-4914fe6f22f1",
   "metadata": {
    "tags": []
   },
   "outputs": [
    {
     "data": {
      "text/html": [
       "<div>\n",
       "<style scoped>\n",
       "    .dataframe tbody tr th:only-of-type {\n",
       "        vertical-align: middle;\n",
       "    }\n",
       "\n",
       "    .dataframe tbody tr th {\n",
       "        vertical-align: top;\n",
       "    }\n",
       "\n",
       "    .dataframe thead th {\n",
       "        text-align: right;\n",
       "    }\n",
       "</style>\n",
       "<table border=\"1\" class=\"dataframe\">\n",
       "  <thead>\n",
       "    <tr style=\"text-align: right;\">\n",
       "      <th></th>\n",
       "      <th>Deidentified_Answerer</th>\n",
       "      <th>Inquiries_Answered</th>\n",
       "      <th>Wait Time (seconds)</th>\n",
       "      <th>Duration (seconds)</th>\n",
       "      <th>Rating (0-4)</th>\n",
       "      <th>Message Count</th>\n",
       "    </tr>\n",
       "  </thead>\n",
       "  <tbody>\n",
       "    <tr>\n",
       "      <th>0</th>\n",
       "      <td>Librarian 41</td>\n",
       "      <td>777</td>\n",
       "      <td>15.411840</td>\n",
       "      <td>534.402831</td>\n",
       "      <td>1.109395</td>\n",
       "      <td>13.487773</td>\n",
       "    </tr>\n",
       "    <tr>\n",
       "      <th>1</th>\n",
       "      <td>Librarian 49</td>\n",
       "      <td>537</td>\n",
       "      <td>10.985102</td>\n",
       "      <td>644.378026</td>\n",
       "      <td>1.124767</td>\n",
       "      <td>17.141527</td>\n",
       "    </tr>\n",
       "    <tr>\n",
       "      <th>2</th>\n",
       "      <td>Librarian 60</td>\n",
       "      <td>440</td>\n",
       "      <td>8.834091</td>\n",
       "      <td>322.131818</td>\n",
       "      <td>1.211364</td>\n",
       "      <td>12.763636</td>\n",
       "    </tr>\n",
       "    <tr>\n",
       "      <th>3</th>\n",
       "      <td>Librarian 12</td>\n",
       "      <td>437</td>\n",
       "      <td>12.109840</td>\n",
       "      <td>445.592677</td>\n",
       "      <td>1.295195</td>\n",
       "      <td>13.361556</td>\n",
       "    </tr>\n",
       "    <tr>\n",
       "      <th>4</th>\n",
       "      <td>Librarian 4</td>\n",
       "      <td>421</td>\n",
       "      <td>7.748219</td>\n",
       "      <td>509.641330</td>\n",
       "      <td>1.118765</td>\n",
       "      <td>13.429929</td>\n",
       "    </tr>\n",
       "    <tr>\n",
       "      <th>5</th>\n",
       "      <td>Librarian 39</td>\n",
       "      <td>395</td>\n",
       "      <td>8.412658</td>\n",
       "      <td>452.582278</td>\n",
       "      <td>1.354430</td>\n",
       "      <td>12.321519</td>\n",
       "    </tr>\n",
       "    <tr>\n",
       "      <th>6</th>\n",
       "      <td>Librarian 82</td>\n",
       "      <td>341</td>\n",
       "      <td>32.266862</td>\n",
       "      <td>704.510264</td>\n",
       "      <td>1.322581</td>\n",
       "      <td>13.445748</td>\n",
       "    </tr>\n",
       "    <tr>\n",
       "      <th>7</th>\n",
       "      <td>Librarian 5</td>\n",
       "      <td>296</td>\n",
       "      <td>14.547297</td>\n",
       "      <td>1059.391892</td>\n",
       "      <td>1.368243</td>\n",
       "      <td>23.942568</td>\n",
       "    </tr>\n",
       "    <tr>\n",
       "      <th>8</th>\n",
       "      <td>Librarian 38</td>\n",
       "      <td>291</td>\n",
       "      <td>10.189003</td>\n",
       "      <td>437.587629</td>\n",
       "      <td>1.542955</td>\n",
       "      <td>12.343643</td>\n",
       "    </tr>\n",
       "    <tr>\n",
       "      <th>9</th>\n",
       "      <td>Librarian 27</td>\n",
       "      <td>278</td>\n",
       "      <td>8.064748</td>\n",
       "      <td>561.237410</td>\n",
       "      <td>0.712230</td>\n",
       "      <td>13.115108</td>\n",
       "    </tr>\n",
       "    <tr>\n",
       "      <th>10</th>\n",
       "      <td>Librarian 19</td>\n",
       "      <td>278</td>\n",
       "      <td>11.931655</td>\n",
       "      <td>847.269784</td>\n",
       "      <td>1.190647</td>\n",
       "      <td>17.906475</td>\n",
       "    </tr>\n",
       "    <tr>\n",
       "      <th>11</th>\n",
       "      <td>Librarian 8</td>\n",
       "      <td>268</td>\n",
       "      <td>14.798507</td>\n",
       "      <td>591.660448</td>\n",
       "      <td>1.190299</td>\n",
       "      <td>18.175373</td>\n",
       "    </tr>\n",
       "    <tr>\n",
       "      <th>12</th>\n",
       "      <td>Librarian 58</td>\n",
       "      <td>251</td>\n",
       "      <td>22.645418</td>\n",
       "      <td>1249.617530</td>\n",
       "      <td>1.633466</td>\n",
       "      <td>21.258964</td>\n",
       "    </tr>\n",
       "    <tr>\n",
       "      <th>13</th>\n",
       "      <td>Librarian 50</td>\n",
       "      <td>224</td>\n",
       "      <td>9.058036</td>\n",
       "      <td>420.812500</td>\n",
       "      <td>1.147321</td>\n",
       "      <td>15.866071</td>\n",
       "    </tr>\n",
       "    <tr>\n",
       "      <th>14</th>\n",
       "      <td>Librarian 23</td>\n",
       "      <td>224</td>\n",
       "      <td>10.151786</td>\n",
       "      <td>586.825893</td>\n",
       "      <td>0.750000</td>\n",
       "      <td>7.928571</td>\n",
       "    </tr>\n",
       "    <tr>\n",
       "      <th>15</th>\n",
       "      <td>Librarian 14</td>\n",
       "      <td>220</td>\n",
       "      <td>15.236364</td>\n",
       "      <td>588.213636</td>\n",
       "      <td>0.913636</td>\n",
       "      <td>14.804545</td>\n",
       "    </tr>\n",
       "    <tr>\n",
       "      <th>16</th>\n",
       "      <td>Librarian 70</td>\n",
       "      <td>212</td>\n",
       "      <td>10.000000</td>\n",
       "      <td>409.806604</td>\n",
       "      <td>1.264151</td>\n",
       "      <td>10.896226</td>\n",
       "    </tr>\n",
       "    <tr>\n",
       "      <th>17</th>\n",
       "      <td>Librarian 56</td>\n",
       "      <td>207</td>\n",
       "      <td>20.632850</td>\n",
       "      <td>450.241546</td>\n",
       "      <td>1.251208</td>\n",
       "      <td>10.328502</td>\n",
       "    </tr>\n",
       "    <tr>\n",
       "      <th>18</th>\n",
       "      <td>Librarian 9</td>\n",
       "      <td>199</td>\n",
       "      <td>11.361809</td>\n",
       "      <td>348.924623</td>\n",
       "      <td>0.979899</td>\n",
       "      <td>11.085427</td>\n",
       "    </tr>\n",
       "    <tr>\n",
       "      <th>19</th>\n",
       "      <td>Librarian 10</td>\n",
       "      <td>180</td>\n",
       "      <td>7.533333</td>\n",
       "      <td>476.877778</td>\n",
       "      <td>0.755556</td>\n",
       "      <td>13.211111</td>\n",
       "    </tr>\n",
       "  </tbody>\n",
       "</table>\n",
       "</div>"
      ],
      "text/plain": [
       "   Deidentified_Answerer  Inquiries_Answered  Wait Time (seconds)  \\\n",
       "0           Librarian 41                 777            15.411840   \n",
       "1           Librarian 49                 537            10.985102   \n",
       "2           Librarian 60                 440             8.834091   \n",
       "3           Librarian 12                 437            12.109840   \n",
       "4            Librarian 4                 421             7.748219   \n",
       "5           Librarian 39                 395             8.412658   \n",
       "6           Librarian 82                 341            32.266862   \n",
       "7            Librarian 5                 296            14.547297   \n",
       "8           Librarian 38                 291            10.189003   \n",
       "9           Librarian 27                 278             8.064748   \n",
       "10          Librarian 19                 278            11.931655   \n",
       "11           Librarian 8                 268            14.798507   \n",
       "12          Librarian 58                 251            22.645418   \n",
       "13          Librarian 50                 224             9.058036   \n",
       "14          Librarian 23                 224            10.151786   \n",
       "15          Librarian 14                 220            15.236364   \n",
       "16          Librarian 70                 212            10.000000   \n",
       "17          Librarian 56                 207            20.632850   \n",
       "18           Librarian 9                 199            11.361809   \n",
       "19          Librarian 10                 180             7.533333   \n",
       "\n",
       "    Duration (seconds)  Rating (0-4)  Message Count  \n",
       "0           534.402831      1.109395      13.487773  \n",
       "1           644.378026      1.124767      17.141527  \n",
       "2           322.131818      1.211364      12.763636  \n",
       "3           445.592677      1.295195      13.361556  \n",
       "4           509.641330      1.118765      13.429929  \n",
       "5           452.582278      1.354430      12.321519  \n",
       "6           704.510264      1.322581      13.445748  \n",
       "7          1059.391892      1.368243      23.942568  \n",
       "8           437.587629      1.542955      12.343643  \n",
       "9           561.237410      0.712230      13.115108  \n",
       "10          847.269784      1.190647      17.906475  \n",
       "11          591.660448      1.190299      18.175373  \n",
       "12         1249.617530      1.633466      21.258964  \n",
       "13          420.812500      1.147321      15.866071  \n",
       "14          586.825893      0.750000       7.928571  \n",
       "15          588.213636      0.913636      14.804545  \n",
       "16          409.806604      1.264151      10.896226  \n",
       "17          450.241546      1.251208      10.328502  \n",
       "18          348.924623      0.979899      11.085427  \n",
       "19          476.877778      0.755556      13.211111  "
      ]
     },
     "execution_count": 30,
     "metadata": {},
     "output_type": "execute_result"
    }
   ],
   "source": [
    "librarian_stats_df.head(20)"
   ]
  },
  {
   "cell_type": "markdown",
   "id": "779056cd-e48e-4464-90bd-865d26cb9b6d",
   "metadata": {},
   "source": [
    "I want to make note that these averages are not exactly helpful in there present state. They are dragged down significantly by '0' being the input for missing values, and there being close to 80% of ratings not being provided (per our earlier graphic on Rating counts)."
   ]
  },
  {
   "cell_type": "code",
   "execution_count": 31,
   "id": "960c3929-82f0-4562-9800-6f5ca751b08a",
   "metadata": {
    "tags": []
   },
   "outputs": [],
   "source": [
    "email_df = chat_data.Deidentified_Email.value_counts().to_frame()"
   ]
  },
  {
   "cell_type": "code",
   "execution_count": 32,
   "id": "8888f5cc-2649-4fba-a6e2-6bdff0a89ab8",
   "metadata": {
    "tags": []
   },
   "outputs": [
    {
     "data": {
      "text/html": [
       "<div>\n",
       "<style scoped>\n",
       "    .dataframe tbody tr th:only-of-type {\n",
       "        vertical-align: middle;\n",
       "    }\n",
       "\n",
       "    .dataframe tbody tr th {\n",
       "        vertical-align: top;\n",
       "    }\n",
       "\n",
       "    .dataframe thead th {\n",
       "        text-align: right;\n",
       "    }\n",
       "</style>\n",
       "<table border=\"1\" class=\"dataframe\">\n",
       "  <thead>\n",
       "    <tr style=\"text-align: right;\">\n",
       "      <th></th>\n",
       "      <th>Deidentified_Email</th>\n",
       "    </tr>\n",
       "  </thead>\n",
       "  <tbody>\n",
       "    <tr>\n",
       "      <th>No Email Provided</th>\n",
       "      <td>1137</td>\n",
       "    </tr>\n",
       "    <tr>\n",
       "      <th>User0b69e697c9@pitt.edu</th>\n",
       "      <td>38</td>\n",
       "    </tr>\n",
       "    <tr>\n",
       "      <th>User5b0d45d71d@pitt.edu</th>\n",
       "      <td>36</td>\n",
       "    </tr>\n",
       "    <tr>\n",
       "      <th>User4ade0d051b@pitt.edu</th>\n",
       "      <td>36</td>\n",
       "    </tr>\n",
       "    <tr>\n",
       "      <th>Userce43e555d3@pitt.edu</th>\n",
       "      <td>29</td>\n",
       "    </tr>\n",
       "    <tr>\n",
       "      <th>User03c21342b9@pitt.edu</th>\n",
       "      <td>21</td>\n",
       "    </tr>\n",
       "    <tr>\n",
       "      <th>User140bd3eabb@pitt.edu</th>\n",
       "      <td>21</td>\n",
       "    </tr>\n",
       "    <tr>\n",
       "      <th>User10845390e0@pitt.edu</th>\n",
       "      <td>20</td>\n",
       "    </tr>\n",
       "    <tr>\n",
       "      <th>User5a21cf4166@pitt.edu</th>\n",
       "      <td>19</td>\n",
       "    </tr>\n",
       "    <tr>\n",
       "      <th>User99c429d285@pitt.edu</th>\n",
       "      <td>19</td>\n",
       "    </tr>\n",
       "    <tr>\n",
       "      <th>Userf87c6c097e@pitt.edu</th>\n",
       "      <td>19</td>\n",
       "    </tr>\n",
       "    <tr>\n",
       "      <th>User48db1f6412@pitt.edu</th>\n",
       "      <td>19</td>\n",
       "    </tr>\n",
       "    <tr>\n",
       "      <th>User6b5901f44b@pitt.edu</th>\n",
       "      <td>18</td>\n",
       "    </tr>\n",
       "    <tr>\n",
       "      <th>User5b1a29a6ab@pitt.edu</th>\n",
       "      <td>17</td>\n",
       "    </tr>\n",
       "    <tr>\n",
       "      <th>User23119a5db6@pitt.edu</th>\n",
       "      <td>16</td>\n",
       "    </tr>\n",
       "    <tr>\n",
       "      <th>User56bfb53246@pitt.edu</th>\n",
       "      <td>16</td>\n",
       "    </tr>\n",
       "    <tr>\n",
       "      <th>User2103908f3b@pitt.edu</th>\n",
       "      <td>15</td>\n",
       "    </tr>\n",
       "    <tr>\n",
       "      <th>User6e95143f51@pitt.edu</th>\n",
       "      <td>15</td>\n",
       "    </tr>\n",
       "    <tr>\n",
       "      <th>User456f1b6207@pitt.edu</th>\n",
       "      <td>15</td>\n",
       "    </tr>\n",
       "    <tr>\n",
       "      <th>User51175ec644@pitt.edu</th>\n",
       "      <td>15</td>\n",
       "    </tr>\n",
       "  </tbody>\n",
       "</table>\n",
       "</div>"
      ],
      "text/plain": [
       "                         Deidentified_Email\n",
       "No Email Provided                      1137\n",
       "User0b69e697c9@pitt.edu                  38\n",
       "User5b0d45d71d@pitt.edu                  36\n",
       "User4ade0d051b@pitt.edu                  36\n",
       "Userce43e555d3@pitt.edu                  29\n",
       "User03c21342b9@pitt.edu                  21\n",
       "User140bd3eabb@pitt.edu                  21\n",
       "User10845390e0@pitt.edu                  20\n",
       "User5a21cf4166@pitt.edu                  19\n",
       "User99c429d285@pitt.edu                  19\n",
       "Userf87c6c097e@pitt.edu                  19\n",
       "User48db1f6412@pitt.edu                  19\n",
       "User6b5901f44b@pitt.edu                  18\n",
       "User5b1a29a6ab@pitt.edu                  17\n",
       "User23119a5db6@pitt.edu                  16\n",
       "User56bfb53246@pitt.edu                  16\n",
       "User2103908f3b@pitt.edu                  15\n",
       "User6e95143f51@pitt.edu                  15\n",
       "User456f1b6207@pitt.edu                  15\n",
       "User51175ec644@pitt.edu                  15"
      ]
     },
     "execution_count": 32,
     "metadata": {},
     "output_type": "execute_result"
    }
   ],
   "source": [
    "email_df.head(20)"
   ]
  },
  {
   "cell_type": "markdown",
   "id": "2892b539-c455-4679-9944-a67e2474c02b",
   "metadata": {},
   "source": [
    "The above information is telling us a little over 10% of our data has no email attached. We also have revealed that alot of our data comes from repeated users. We can dive deeper into this aspect as well, but the following graphics could be more intuitive. Let's see if we can visualize by grouping our data by repeat users."
   ]
  },
  {
   "cell_type": "code",
   "execution_count": 33,
   "id": "eeec56ee-4585-4089-8362-99628544561e",
   "metadata": {
    "tags": []
   },
   "outputs": [],
   "source": [
    "email_df.rename(columns = {'Deidentified_Email' : 'Inquiry_Count'}, inplace = True)"
   ]
  },
  {
   "cell_type": "code",
   "execution_count": 34,
   "id": "32354cea-60e0-4dc5-b366-5d6edea799d8",
   "metadata": {
    "tags": []
   },
   "outputs": [],
   "source": [
    "email_join = email_df.reset_index(names = 'Deidentified_Email')"
   ]
  },
  {
   "cell_type": "code",
   "execution_count": 35,
   "id": "8a2369d0-3b22-458b-b793-10b0d2a246f6",
   "metadata": {
    "tags": []
   },
   "outputs": [],
   "source": [
    "user_avgs = chat_data.groupby(by = 'Deidentified_Email', as_index = False).mean(numeric_only = True)"
   ]
  },
  {
   "cell_type": "code",
   "execution_count": 36,
   "id": "ffa7e7bc-e86f-4a1d-a146-e1317c8b72ad",
   "metadata": {
    "tags": []
   },
   "outputs": [
    {
     "data": {
      "text/html": [
       "<div>\n",
       "<style scoped>\n",
       "    .dataframe tbody tr th:only-of-type {\n",
       "        vertical-align: middle;\n",
       "    }\n",
       "\n",
       "    .dataframe tbody tr th {\n",
       "        vertical-align: top;\n",
       "    }\n",
       "\n",
       "    .dataframe thead th {\n",
       "        text-align: right;\n",
       "    }\n",
       "</style>\n",
       "<table border=\"1\" class=\"dataframe\">\n",
       "  <thead>\n",
       "    <tr style=\"text-align: right;\">\n",
       "      <th></th>\n",
       "      <th>Deidentified_Email</th>\n",
       "      <th>Chat ID</th>\n",
       "      <th>Wait Time (seconds)</th>\n",
       "      <th>Duration (seconds)</th>\n",
       "      <th>Rating (0-4)</th>\n",
       "      <th>Message Count</th>\n",
       "      <th>Ticket ID</th>\n",
       "    </tr>\n",
       "  </thead>\n",
       "  <tbody>\n",
       "    <tr>\n",
       "      <th>0</th>\n",
       "      <td>No Email Provided</td>\n",
       "      <td>6.469427e+06</td>\n",
       "      <td>20.218118</td>\n",
       "      <td>847.448549</td>\n",
       "      <td>1.189974</td>\n",
       "      <td>17.360598</td>\n",
       "      <td>1.191706e+06</td>\n",
       "    </tr>\n",
       "    <tr>\n",
       "      <th>1</th>\n",
       "      <td>User000db5c639@pitt.edu</td>\n",
       "      <td>7.884689e+06</td>\n",
       "      <td>15.000000</td>\n",
       "      <td>785.500000</td>\n",
       "      <td>0.000000</td>\n",
       "      <td>6.000000</td>\n",
       "      <td>0.000000e+00</td>\n",
       "    </tr>\n",
       "    <tr>\n",
       "      <th>2</th>\n",
       "      <td>User001bc16437@pitt.edu</td>\n",
       "      <td>3.249803e+06</td>\n",
       "      <td>5.000000</td>\n",
       "      <td>756.000000</td>\n",
       "      <td>0.000000</td>\n",
       "      <td>21.000000</td>\n",
       "      <td>NaN</td>\n",
       "    </tr>\n",
       "    <tr>\n",
       "      <th>3</th>\n",
       "      <td>User001d49e630@pitt.edu</td>\n",
       "      <td>3.255898e+06</td>\n",
       "      <td>6.250000</td>\n",
       "      <td>833.750000</td>\n",
       "      <td>1.000000</td>\n",
       "      <td>36.500000</td>\n",
       "      <td>NaN</td>\n",
       "    </tr>\n",
       "    <tr>\n",
       "      <th>4</th>\n",
       "      <td>User0028efc92d@sdcounty.ca.gov</td>\n",
       "      <td>2.114547e+06</td>\n",
       "      <td>0.000000</td>\n",
       "      <td>268.000000</td>\n",
       "      <td>0.000000</td>\n",
       "      <td>26.000000</td>\n",
       "      <td>NaN</td>\n",
       "    </tr>\n",
       "    <tr>\n",
       "      <th>5</th>\n",
       "      <td>User002ab5dbbe@pitt.edu</td>\n",
       "      <td>2.018786e+06</td>\n",
       "      <td>4.000000</td>\n",
       "      <td>11.000000</td>\n",
       "      <td>0.000000</td>\n",
       "      <td>2.000000</td>\n",
       "      <td>NaN</td>\n",
       "    </tr>\n",
       "    <tr>\n",
       "      <th>6</th>\n",
       "      <td>User0049cd832d@gmail.com</td>\n",
       "      <td>8.974172e+06</td>\n",
       "      <td>25.000000</td>\n",
       "      <td>200.000000</td>\n",
       "      <td>0.000000</td>\n",
       "      <td>3.000000</td>\n",
       "      <td>0.000000e+00</td>\n",
       "    </tr>\n",
       "    <tr>\n",
       "      <th>7</th>\n",
       "      <td>User005cac4c8d@pitt.edu</td>\n",
       "      <td>2.919367e+06</td>\n",
       "      <td>4.600000</td>\n",
       "      <td>430.200000</td>\n",
       "      <td>0.000000</td>\n",
       "      <td>13.000000</td>\n",
       "      <td>NaN</td>\n",
       "    </tr>\n",
       "    <tr>\n",
       "      <th>8</th>\n",
       "      <td>User0066ee39fe@gmail.com</td>\n",
       "      <td>2.075772e+06</td>\n",
       "      <td>0.000000</td>\n",
       "      <td>758.000000</td>\n",
       "      <td>0.000000</td>\n",
       "      <td>17.000000</td>\n",
       "      <td>NaN</td>\n",
       "    </tr>\n",
       "    <tr>\n",
       "      <th>9</th>\n",
       "      <td>User00740f01cc@pitt.edu</td>\n",
       "      <td>5.358806e+06</td>\n",
       "      <td>7.000000</td>\n",
       "      <td>342.000000</td>\n",
       "      <td>0.000000</td>\n",
       "      <td>9.000000</td>\n",
       "      <td>NaN</td>\n",
       "    </tr>\n",
       "    <tr>\n",
       "      <th>10</th>\n",
       "      <td>User0085006c2a@pitt.edu</td>\n",
       "      <td>5.648750e+06</td>\n",
       "      <td>5.000000</td>\n",
       "      <td>891.000000</td>\n",
       "      <td>4.000000</td>\n",
       "      <td>30.000000</td>\n",
       "      <td>NaN</td>\n",
       "    </tr>\n",
       "    <tr>\n",
       "      <th>11</th>\n",
       "      <td>User008f4fe131@pitt.edu</td>\n",
       "      <td>3.905564e+06</td>\n",
       "      <td>8.000000</td>\n",
       "      <td>876.000000</td>\n",
       "      <td>0.000000</td>\n",
       "      <td>11.000000</td>\n",
       "      <td>NaN</td>\n",
       "    </tr>\n",
       "    <tr>\n",
       "      <th>12</th>\n",
       "      <td>User00b70fcd3d@verizon.net</td>\n",
       "      <td>1.054785e+07</td>\n",
       "      <td>9.000000</td>\n",
       "      <td>301.000000</td>\n",
       "      <td>0.000000</td>\n",
       "      <td>6.000000</td>\n",
       "      <td>1.350945e+07</td>\n",
       "    </tr>\n",
       "    <tr>\n",
       "      <th>13</th>\n",
       "      <td>User00d4bbbdb4@pitt.edu</td>\n",
       "      <td>2.176934e+06</td>\n",
       "      <td>14.000000</td>\n",
       "      <td>353.000000</td>\n",
       "      <td>0.000000</td>\n",
       "      <td>15.000000</td>\n",
       "      <td>NaN</td>\n",
       "    </tr>\n",
       "    <tr>\n",
       "      <th>14</th>\n",
       "      <td>User00dd9cba59@pitt.edu</td>\n",
       "      <td>5.706140e+06</td>\n",
       "      <td>7.000000</td>\n",
       "      <td>768.000000</td>\n",
       "      <td>0.000000</td>\n",
       "      <td>10.500000</td>\n",
       "      <td>NaN</td>\n",
       "    </tr>\n",
       "    <tr>\n",
       "      <th>15</th>\n",
       "      <td>User00f2179fdd@pitt.edu</td>\n",
       "      <td>2.069132e+06</td>\n",
       "      <td>0.000000</td>\n",
       "      <td>324.000000</td>\n",
       "      <td>0.000000</td>\n",
       "      <td>7.000000</td>\n",
       "      <td>NaN</td>\n",
       "    </tr>\n",
       "    <tr>\n",
       "      <th>16</th>\n",
       "      <td>User00f61d7324@pitt.edu</td>\n",
       "      <td>1.781161e+06</td>\n",
       "      <td>9.000000</td>\n",
       "      <td>833.500000</td>\n",
       "      <td>0.000000</td>\n",
       "      <td>15.500000</td>\n",
       "      <td>NaN</td>\n",
       "    </tr>\n",
       "    <tr>\n",
       "      <th>17</th>\n",
       "      <td>User0115db2d40@pitt.edu</td>\n",
       "      <td>6.592525e+06</td>\n",
       "      <td>11.000000</td>\n",
       "      <td>148.000000</td>\n",
       "      <td>4.000000</td>\n",
       "      <td>3.000000</td>\n",
       "      <td>NaN</td>\n",
       "    </tr>\n",
       "    <tr>\n",
       "      <th>18</th>\n",
       "      <td>User012b28bb60@pitt.edu</td>\n",
       "      <td>6.433832e+06</td>\n",
       "      <td>3.000000</td>\n",
       "      <td>233.000000</td>\n",
       "      <td>0.000000</td>\n",
       "      <td>9.000000</td>\n",
       "      <td>NaN</td>\n",
       "    </tr>\n",
       "    <tr>\n",
       "      <th>19</th>\n",
       "      <td>User01365184dc@upmc.edu</td>\n",
       "      <td>2.724427e+06</td>\n",
       "      <td>15.000000</td>\n",
       "      <td>1177.000000</td>\n",
       "      <td>0.000000</td>\n",
       "      <td>12.000000</td>\n",
       "      <td>NaN</td>\n",
       "    </tr>\n",
       "  </tbody>\n",
       "</table>\n",
       "</div>"
      ],
      "text/plain": [
       "                Deidentified_Email       Chat ID  Wait Time (seconds)  \\\n",
       "0                No Email Provided  6.469427e+06            20.218118   \n",
       "1          User000db5c639@pitt.edu  7.884689e+06            15.000000   \n",
       "2          User001bc16437@pitt.edu  3.249803e+06             5.000000   \n",
       "3          User001d49e630@pitt.edu  3.255898e+06             6.250000   \n",
       "4   User0028efc92d@sdcounty.ca.gov  2.114547e+06             0.000000   \n",
       "5          User002ab5dbbe@pitt.edu  2.018786e+06             4.000000   \n",
       "6         User0049cd832d@gmail.com  8.974172e+06            25.000000   \n",
       "7          User005cac4c8d@pitt.edu  2.919367e+06             4.600000   \n",
       "8         User0066ee39fe@gmail.com  2.075772e+06             0.000000   \n",
       "9          User00740f01cc@pitt.edu  5.358806e+06             7.000000   \n",
       "10         User0085006c2a@pitt.edu  5.648750e+06             5.000000   \n",
       "11         User008f4fe131@pitt.edu  3.905564e+06             8.000000   \n",
       "12      User00b70fcd3d@verizon.net  1.054785e+07             9.000000   \n",
       "13         User00d4bbbdb4@pitt.edu  2.176934e+06            14.000000   \n",
       "14         User00dd9cba59@pitt.edu  5.706140e+06             7.000000   \n",
       "15         User00f2179fdd@pitt.edu  2.069132e+06             0.000000   \n",
       "16         User00f61d7324@pitt.edu  1.781161e+06             9.000000   \n",
       "17         User0115db2d40@pitt.edu  6.592525e+06            11.000000   \n",
       "18         User012b28bb60@pitt.edu  6.433832e+06             3.000000   \n",
       "19         User01365184dc@upmc.edu  2.724427e+06            15.000000   \n",
       "\n",
       "    Duration (seconds)  Rating (0-4)  Message Count     Ticket ID  \n",
       "0           847.448549      1.189974      17.360598  1.191706e+06  \n",
       "1           785.500000      0.000000       6.000000  0.000000e+00  \n",
       "2           756.000000      0.000000      21.000000           NaN  \n",
       "3           833.750000      1.000000      36.500000           NaN  \n",
       "4           268.000000      0.000000      26.000000           NaN  \n",
       "5            11.000000      0.000000       2.000000           NaN  \n",
       "6           200.000000      0.000000       3.000000  0.000000e+00  \n",
       "7           430.200000      0.000000      13.000000           NaN  \n",
       "8           758.000000      0.000000      17.000000           NaN  \n",
       "9           342.000000      0.000000       9.000000           NaN  \n",
       "10          891.000000      4.000000      30.000000           NaN  \n",
       "11          876.000000      0.000000      11.000000           NaN  \n",
       "12          301.000000      0.000000       6.000000  1.350945e+07  \n",
       "13          353.000000      0.000000      15.000000           NaN  \n",
       "14          768.000000      0.000000      10.500000           NaN  \n",
       "15          324.000000      0.000000       7.000000           NaN  \n",
       "16          833.500000      0.000000      15.500000           NaN  \n",
       "17          148.000000      4.000000       3.000000           NaN  \n",
       "18          233.000000      0.000000       9.000000           NaN  \n",
       "19         1177.000000      0.000000      12.000000           NaN  "
      ]
     },
     "execution_count": 36,
     "metadata": {},
     "output_type": "execute_result"
    }
   ],
   "source": [
    "user_avgs.head(20)"
   ]
  },
  {
   "cell_type": "code",
   "execution_count": 37,
   "id": "7c92e9da-4db1-4366-bf22-c540c422972b",
   "metadata": {
    "tags": []
   },
   "outputs": [],
   "source": [
    "users_df = pd.merge(email_join, user_avgs, how = 'left', on = 'Deidentified_Email')"
   ]
  },
  {
   "cell_type": "code",
   "execution_count": 38,
   "id": "bbe2f425-279a-4ede-96e5-9c89648c5cd9",
   "metadata": {
    "tags": []
   },
   "outputs": [],
   "source": [
    "# drop ID columns that were averaged as well and only include relevant averages\n",
    "\n",
    "users_df.drop(id_drop, axis = 1, inplace = True)"
   ]
  },
  {
   "cell_type": "code",
   "execution_count": 39,
   "id": "d1458b0b-403c-459d-adc5-9ac34fb91a5b",
   "metadata": {
    "tags": []
   },
   "outputs": [
    {
     "data": {
      "text/html": [
       "<div>\n",
       "<style scoped>\n",
       "    .dataframe tbody tr th:only-of-type {\n",
       "        vertical-align: middle;\n",
       "    }\n",
       "\n",
       "    .dataframe tbody tr th {\n",
       "        vertical-align: top;\n",
       "    }\n",
       "\n",
       "    .dataframe thead th {\n",
       "        text-align: right;\n",
       "    }\n",
       "</style>\n",
       "<table border=\"1\" class=\"dataframe\">\n",
       "  <thead>\n",
       "    <tr style=\"text-align: right;\">\n",
       "      <th></th>\n",
       "      <th>Deidentified_Email</th>\n",
       "      <th>Inquiry_Count</th>\n",
       "      <th>Wait Time (seconds)</th>\n",
       "      <th>Duration (seconds)</th>\n",
       "      <th>Rating (0-4)</th>\n",
       "      <th>Message Count</th>\n",
       "    </tr>\n",
       "  </thead>\n",
       "  <tbody>\n",
       "    <tr>\n",
       "      <th>0</th>\n",
       "      <td>No Email Provided</td>\n",
       "      <td>1137</td>\n",
       "      <td>20.218118</td>\n",
       "      <td>847.448549</td>\n",
       "      <td>1.189974</td>\n",
       "      <td>17.360598</td>\n",
       "    </tr>\n",
       "    <tr>\n",
       "      <th>1</th>\n",
       "      <td>User0b69e697c9@pitt.edu</td>\n",
       "      <td>38</td>\n",
       "      <td>22.263158</td>\n",
       "      <td>561.684211</td>\n",
       "      <td>3.473684</td>\n",
       "      <td>18.815789</td>\n",
       "    </tr>\n",
       "    <tr>\n",
       "      <th>2</th>\n",
       "      <td>User5b0d45d71d@pitt.edu</td>\n",
       "      <td>36</td>\n",
       "      <td>8.222222</td>\n",
       "      <td>525.555556</td>\n",
       "      <td>0.333333</td>\n",
       "      <td>15.750000</td>\n",
       "    </tr>\n",
       "    <tr>\n",
       "      <th>3</th>\n",
       "      <td>User4ade0d051b@pitt.edu</td>\n",
       "      <td>36</td>\n",
       "      <td>9.111111</td>\n",
       "      <td>222.111111</td>\n",
       "      <td>1.472222</td>\n",
       "      <td>6.027778</td>\n",
       "    </tr>\n",
       "    <tr>\n",
       "      <th>4</th>\n",
       "      <td>Userce43e555d3@pitt.edu</td>\n",
       "      <td>29</td>\n",
       "      <td>7.034483</td>\n",
       "      <td>544.103448</td>\n",
       "      <td>0.379310</td>\n",
       "      <td>16.172414</td>\n",
       "    </tr>\n",
       "    <tr>\n",
       "      <th>5</th>\n",
       "      <td>User03c21342b9@pitt.edu</td>\n",
       "      <td>21</td>\n",
       "      <td>8.380952</td>\n",
       "      <td>422.571429</td>\n",
       "      <td>0.904762</td>\n",
       "      <td>9.571429</td>\n",
       "    </tr>\n",
       "    <tr>\n",
       "      <th>6</th>\n",
       "      <td>User140bd3eabb@pitt.edu</td>\n",
       "      <td>21</td>\n",
       "      <td>17.047619</td>\n",
       "      <td>514.809524</td>\n",
       "      <td>0.571429</td>\n",
       "      <td>10.619048</td>\n",
       "    </tr>\n",
       "    <tr>\n",
       "      <th>7</th>\n",
       "      <td>User10845390e0@pitt.edu</td>\n",
       "      <td>20</td>\n",
       "      <td>8.200000</td>\n",
       "      <td>705.850000</td>\n",
       "      <td>0.000000</td>\n",
       "      <td>14.600000</td>\n",
       "    </tr>\n",
       "    <tr>\n",
       "      <th>8</th>\n",
       "      <td>User5a21cf4166@pitt.edu</td>\n",
       "      <td>19</td>\n",
       "      <td>9.736842</td>\n",
       "      <td>534.052632</td>\n",
       "      <td>2.421053</td>\n",
       "      <td>18.842105</td>\n",
       "    </tr>\n",
       "    <tr>\n",
       "      <th>9</th>\n",
       "      <td>User99c429d285@pitt.edu</td>\n",
       "      <td>19</td>\n",
       "      <td>7.210526</td>\n",
       "      <td>403.894737</td>\n",
       "      <td>1.368421</td>\n",
       "      <td>12.842105</td>\n",
       "    </tr>\n",
       "    <tr>\n",
       "      <th>10</th>\n",
       "      <td>Userf87c6c097e@pitt.edu</td>\n",
       "      <td>19</td>\n",
       "      <td>5.105263</td>\n",
       "      <td>644.210526</td>\n",
       "      <td>0.210526</td>\n",
       "      <td>20.421053</td>\n",
       "    </tr>\n",
       "    <tr>\n",
       "      <th>11</th>\n",
       "      <td>User48db1f6412@pitt.edu</td>\n",
       "      <td>19</td>\n",
       "      <td>7.947368</td>\n",
       "      <td>667.631579</td>\n",
       "      <td>1.684211</td>\n",
       "      <td>17.684211</td>\n",
       "    </tr>\n",
       "    <tr>\n",
       "      <th>12</th>\n",
       "      <td>User6b5901f44b@pitt.edu</td>\n",
       "      <td>18</td>\n",
       "      <td>9.833333</td>\n",
       "      <td>620.166667</td>\n",
       "      <td>0.444444</td>\n",
       "      <td>17.000000</td>\n",
       "    </tr>\n",
       "    <tr>\n",
       "      <th>13</th>\n",
       "      <td>User5b1a29a6ab@pitt.edu</td>\n",
       "      <td>17</td>\n",
       "      <td>6.882353</td>\n",
       "      <td>718.117647</td>\n",
       "      <td>1.647059</td>\n",
       "      <td>27.764706</td>\n",
       "    </tr>\n",
       "    <tr>\n",
       "      <th>14</th>\n",
       "      <td>User23119a5db6@pitt.edu</td>\n",
       "      <td>16</td>\n",
       "      <td>8.312500</td>\n",
       "      <td>475.000000</td>\n",
       "      <td>1.312500</td>\n",
       "      <td>12.125000</td>\n",
       "    </tr>\n",
       "    <tr>\n",
       "      <th>15</th>\n",
       "      <td>User56bfb53246@pitt.edu</td>\n",
       "      <td>16</td>\n",
       "      <td>6.625000</td>\n",
       "      <td>473.500000</td>\n",
       "      <td>0.500000</td>\n",
       "      <td>8.500000</td>\n",
       "    </tr>\n",
       "    <tr>\n",
       "      <th>16</th>\n",
       "      <td>User2103908f3b@pitt.edu</td>\n",
       "      <td>15</td>\n",
       "      <td>14.000000</td>\n",
       "      <td>559.333333</td>\n",
       "      <td>0.533333</td>\n",
       "      <td>10.866667</td>\n",
       "    </tr>\n",
       "    <tr>\n",
       "      <th>17</th>\n",
       "      <td>User6e95143f51@pitt.edu</td>\n",
       "      <td>15</td>\n",
       "      <td>8.666667</td>\n",
       "      <td>580.733333</td>\n",
       "      <td>2.133333</td>\n",
       "      <td>14.533333</td>\n",
       "    </tr>\n",
       "    <tr>\n",
       "      <th>18</th>\n",
       "      <td>User456f1b6207@pitt.edu</td>\n",
       "      <td>15</td>\n",
       "      <td>29.133333</td>\n",
       "      <td>433.600000</td>\n",
       "      <td>0.000000</td>\n",
       "      <td>13.000000</td>\n",
       "    </tr>\n",
       "    <tr>\n",
       "      <th>19</th>\n",
       "      <td>User51175ec644@pitt.edu</td>\n",
       "      <td>15</td>\n",
       "      <td>23.066667</td>\n",
       "      <td>751.000000</td>\n",
       "      <td>1.533333</td>\n",
       "      <td>12.733333</td>\n",
       "    </tr>\n",
       "  </tbody>\n",
       "</table>\n",
       "</div>"
      ],
      "text/plain": [
       "         Deidentified_Email  Inquiry_Count  Wait Time (seconds)  \\\n",
       "0         No Email Provided           1137            20.218118   \n",
       "1   User0b69e697c9@pitt.edu             38            22.263158   \n",
       "2   User5b0d45d71d@pitt.edu             36             8.222222   \n",
       "3   User4ade0d051b@pitt.edu             36             9.111111   \n",
       "4   Userce43e555d3@pitt.edu             29             7.034483   \n",
       "5   User03c21342b9@pitt.edu             21             8.380952   \n",
       "6   User140bd3eabb@pitt.edu             21            17.047619   \n",
       "7   User10845390e0@pitt.edu             20             8.200000   \n",
       "8   User5a21cf4166@pitt.edu             19             9.736842   \n",
       "9   User99c429d285@pitt.edu             19             7.210526   \n",
       "10  Userf87c6c097e@pitt.edu             19             5.105263   \n",
       "11  User48db1f6412@pitt.edu             19             7.947368   \n",
       "12  User6b5901f44b@pitt.edu             18             9.833333   \n",
       "13  User5b1a29a6ab@pitt.edu             17             6.882353   \n",
       "14  User23119a5db6@pitt.edu             16             8.312500   \n",
       "15  User56bfb53246@pitt.edu             16             6.625000   \n",
       "16  User2103908f3b@pitt.edu             15            14.000000   \n",
       "17  User6e95143f51@pitt.edu             15             8.666667   \n",
       "18  User456f1b6207@pitt.edu             15            29.133333   \n",
       "19  User51175ec644@pitt.edu             15            23.066667   \n",
       "\n",
       "    Duration (seconds)  Rating (0-4)  Message Count  \n",
       "0           847.448549      1.189974      17.360598  \n",
       "1           561.684211      3.473684      18.815789  \n",
       "2           525.555556      0.333333      15.750000  \n",
       "3           222.111111      1.472222       6.027778  \n",
       "4           544.103448      0.379310      16.172414  \n",
       "5           422.571429      0.904762       9.571429  \n",
       "6           514.809524      0.571429      10.619048  \n",
       "7           705.850000      0.000000      14.600000  \n",
       "8           534.052632      2.421053      18.842105  \n",
       "9           403.894737      1.368421      12.842105  \n",
       "10          644.210526      0.210526      20.421053  \n",
       "11          667.631579      1.684211      17.684211  \n",
       "12          620.166667      0.444444      17.000000  \n",
       "13          718.117647      1.647059      27.764706  \n",
       "14          475.000000      1.312500      12.125000  \n",
       "15          473.500000      0.500000       8.500000  \n",
       "16          559.333333      0.533333      10.866667  \n",
       "17          580.733333      2.133333      14.533333  \n",
       "18          433.600000      0.000000      13.000000  \n",
       "19          751.000000      1.533333      12.733333  "
      ]
     },
     "execution_count": 39,
     "metadata": {},
     "output_type": "execute_result"
    }
   ],
   "source": [
    "users_df.head(20)"
   ]
  },
  {
   "cell_type": "code",
   "execution_count": 40,
   "id": "4b162475-bb9c-48dc-835a-dbed103959a0",
   "metadata": {
    "tags": []
   },
   "outputs": [
    {
     "name": "stdout",
     "output_type": "stream",
     "text": [
      "<class 'pandas.core.frame.DataFrame'>\n",
      "Int64Index: 5696 entries, 0 to 5695\n",
      "Data columns (total 6 columns):\n",
      " #   Column               Non-Null Count  Dtype  \n",
      "---  ------               --------------  -----  \n",
      " 0   Deidentified_Email   5696 non-null   object \n",
      " 1   Inquiry_Count        5696 non-null   int64  \n",
      " 2   Wait Time (seconds)  5696 non-null   float64\n",
      " 3   Duration (seconds)   5696 non-null   float64\n",
      " 4   Rating (0-4)         5696 non-null   float64\n",
      " 5   Message Count        5696 non-null   float64\n",
      "dtypes: float64(4), int64(1), object(1)\n",
      "memory usage: 311.5+ KB\n"
     ]
    }
   ],
   "source": [
    "users_df.info()"
   ]
  },
  {
   "cell_type": "markdown",
   "id": "26305fe0-8550-4903-b39b-1646be8dac05",
   "metadata": {},
   "source": [
    "### Surveys Taken EDA\n",
    "\n",
    "Lets start taking a look at the breakdowns that we saw above but only for the surveys that were responded to and given a rating. "
   ]
  },
  {
   "cell_type": "code",
   "execution_count": 41,
   "id": "891d79ad-0f2e-4dff-85c7-3ea9f7275ca8",
   "metadata": {
    "tags": []
   },
   "outputs": [],
   "source": [
    "surveys_taken = chat_data.loc[chat_data['Rating (0-4)'] > 0].reset_index().copy()"
   ]
  },
  {
   "cell_type": "code",
   "execution_count": 42,
   "id": "14aca494-3ee5-4dc9-b13c-f3535ad6b785",
   "metadata": {
    "tags": []
   },
   "outputs": [
    {
     "name": "stdout",
     "output_type": "stream",
     "text": [
      "<class 'pandas.core.frame.DataFrame'>\n",
      "RangeIndex: 2997 entries, 0 to 2996\n",
      "Data columns (total 24 columns):\n",
      " #   Column                         Non-Null Count  Dtype  \n",
      "---  ------                         --------------  -----  \n",
      " 0   index                          2997 non-null   int64  \n",
      " 1   Chat ID                        2997 non-null   int64  \n",
      " 2   Browser                        2997 non-null   object \n",
      " 3   Operating System               2997 non-null   object \n",
      " 4   User Agent                     2997 non-null   object \n",
      " 5   Referrer                       2997 non-null   object \n",
      " 6   Widget                         2996 non-null   object \n",
      " 7   Department                     2950 non-null   object \n",
      " 8   Timestamp                      2997 non-null   object \n",
      " 9   Wait Time (seconds)            2997 non-null   int64  \n",
      " 10  Duration (seconds)             2997 non-null   int64  \n",
      " 11  Screensharing                  9 non-null      object \n",
      " 12  Rating (0-4)                   2997 non-null   int64  \n",
      " 13  Comment                        547 non-null    object \n",
      " 14  Transfer History               80 non-null     object \n",
      " 15  Message Count                  2997 non-null   int64  \n",
      " 16  Internal Note                  9 non-null      object \n",
      " 17  Tags                           0 non-null      object \n",
      " 18  Ticket ID                      596 non-null    float64\n",
      " 19  Unnamed: 27                    1 non-null      object \n",
      " 20  Deidentified_Answerer          2997 non-null   object \n",
      " 21  Deidentified_Email             2997 non-null   object \n",
      " 22  Deidentified_Transcript        2997 non-null   object \n",
      " 23  Deidentified_Initial_Question  2637 non-null   object \n",
      "dtypes: float64(1), int64(6), object(17)\n",
      "memory usage: 562.1+ KB\n"
     ]
    }
   ],
   "source": [
    "surveys_taken.info()"
   ]
  },
  {
   "cell_type": "code",
   "execution_count": 43,
   "id": "5c769f6e-b53a-479d-97f4-bf0e611a80a4",
   "metadata": {
    "tags": []
   },
   "outputs": [],
   "source": [
    "many_null_list = ['Screensharing', 'Comment', 'Transfer History', 'Internal Note', 'Tags', 'Ticket ID', 'Unnamed: 27']"
   ]
  },
  {
   "cell_type": "code",
   "execution_count": 44,
   "id": "ecb7d7d8-f068-45a7-9aa0-612a2d170a95",
   "metadata": {
    "tags": []
   },
   "outputs": [],
   "source": [
    "surveys_taken_trim = surveys_taken.drop(columns = many_null_list).copy()"
   ]
  },
  {
   "cell_type": "code",
   "execution_count": 45,
   "id": "0e4cb428-982e-4ee0-805b-e5bdc2a09dec",
   "metadata": {
    "tags": []
   },
   "outputs": [
    {
     "name": "stdout",
     "output_type": "stream",
     "text": [
      "<class 'pandas.core.frame.DataFrame'>\n",
      "RangeIndex: 2997 entries, 0 to 2996\n",
      "Data columns (total 17 columns):\n",
      " #   Column                         Non-Null Count  Dtype \n",
      "---  ------                         --------------  ----- \n",
      " 0   index                          2997 non-null   int64 \n",
      " 1   Chat ID                        2997 non-null   int64 \n",
      " 2   Browser                        2997 non-null   object\n",
      " 3   Operating System               2997 non-null   object\n",
      " 4   User Agent                     2997 non-null   object\n",
      " 5   Referrer                       2997 non-null   object\n",
      " 6   Widget                         2996 non-null   object\n",
      " 7   Department                     2950 non-null   object\n",
      " 8   Timestamp                      2997 non-null   object\n",
      " 9   Wait Time (seconds)            2997 non-null   int64 \n",
      " 10  Duration (seconds)             2997 non-null   int64 \n",
      " 11  Rating (0-4)                   2997 non-null   int64 \n",
      " 12  Message Count                  2997 non-null   int64 \n",
      " 13  Deidentified_Answerer          2997 non-null   object\n",
      " 14  Deidentified_Email             2997 non-null   object\n",
      " 15  Deidentified_Transcript        2997 non-null   object\n",
      " 16  Deidentified_Initial_Question  2637 non-null   object\n",
      "dtypes: int64(6), object(11)\n",
      "memory usage: 398.2+ KB\n"
     ]
    }
   ],
   "source": [
    "surveys_taken_trim.info()"
   ]
  },
  {
   "cell_type": "code",
   "execution_count": 46,
   "id": "10e07b13-7205-4962-9ec9-dbc6d1323a63",
   "metadata": {
    "tags": []
   },
   "outputs": [
    {
     "data": {
      "text/plain": [
       "index                            2997\n",
       "Chat ID                          2997\n",
       "Browser                           447\n",
       "Operating System                    7\n",
       "User Agent                       1043\n",
       "Referrer                          854\n",
       "Widget                             14\n",
       "Department                          2\n",
       "Timestamp                        2996\n",
       "Wait Time (seconds)               113\n",
       "Duration (seconds)               1294\n",
       "Rating (0-4)                        4\n",
       "Message Count                      91\n",
       "Deidentified_Answerer              82\n",
       "Deidentified_Email               1982\n",
       "Deidentified_Transcript          2997\n",
       "Deidentified_Initial_Question    2623\n",
       "dtype: int64"
      ]
     },
     "execution_count": 46,
     "metadata": {},
     "output_type": "execute_result"
    }
   ],
   "source": [
    "surveys_taken_trim.nunique()"
   ]
  },
  {
   "cell_type": "code",
   "execution_count": 47,
   "id": "9517e32f-d57d-4c99-ade0-220f88d69a54",
   "metadata": {
    "tags": []
   },
   "outputs": [
    {
     "data": {
      "image/png": "[encoded data removed]",
      "text/plain": [
       "<Figure size 500x500 with 1 Axes>"
      ]
     },
     "metadata": {},
     "output_type": "display_data"
    }
   ],
   "source": [
    "sns.catplot(data = surveys_taken_trim, x = 'Rating (0-4)', kind = 'count')\n",
    "\n",
    "plt.show()"
   ]
  },
  {
   "cell_type": "code",
   "execution_count": 48,
   "id": "8b12da8e-6120-4134-a04e-bdf1d6e5588b",
   "metadata": {
    "tags": []
   },
   "outputs": [
    {
     "data": {
      "image/png": "[encoded data removed]",
      "text/plain": [
       "<Figure size 500x500 with 1 Axes>"
      ]
     },
     "metadata": {},
     "output_type": "display_data"
    }
   ],
   "source": [
    "sns.catplot(data = surveys_taken_trim, x = 'Rating (0-4)', y = 'Message Count', kind = 'violin')\n",
    "\n",
    "plt.show()"
   ]
  },
  {
   "cell_type": "code",
   "execution_count": 49,
   "id": "5c1f24b4-1cfe-4931-8e0f-37239e5fe7ef",
   "metadata": {
    "tags": []
   },
   "outputs": [
    {
     "data": {
      "image/png": "[encoded data removed]",
      "text/plain": [
       "<Figure size 2000x500 with 4 Axes>"
      ]
     },
     "metadata": {},
     "output_type": "display_data"
    }
   ],
   "source": [
    "sns.displot(data = surveys_taken_trim, col = 'Rating (0-4)', x = 'Message Count', kind = 'hist')\n",
    "\n",
    "plt.show()"
   ]
  },
  {
   "cell_type": "code",
   "execution_count": 50,
   "id": "d4a72e42-6d73-4d39-b4df-ade6378195d8",
   "metadata": {
    "tags": []
   },
   "outputs": [
    {
     "data": {
      "image/png": "[encoded data removed]",
      "text/plain": [
       "<Figure size 2000x500 with 4 Axes>"
      ]
     },
     "metadata": {},
     "output_type": "display_data"
    }
   ],
   "source": [
    "sns.displot(data = surveys_taken_trim, col = 'Rating (0-4)', x = 'Duration (seconds)', kind = 'hist', facet_kws = {'sharex' : False})\n",
    "\n",
    "plt.show()"
   ]
  },
  {
   "cell_type": "code",
   "execution_count": 51,
   "id": "a8d57ba6-7765-4aed-b33e-759ac11fde86",
   "metadata": {
    "tags": []
   },
   "outputs": [],
   "source": [
    "librarian_ratings_df = surveys_taken_trim.Deidentified_Answerer.value_counts().to_frame()"
   ]
  },
  {
   "cell_type": "code",
   "execution_count": 52,
   "id": "fb6c5c60-72d2-4076-863b-e29603aaaf8b",
   "metadata": {
    "tags": []
   },
   "outputs": [],
   "source": [
    "librarian_ratings_df.rename(columns = {'Deidentified_Answerer' : 'Inquiries_Answered'}, inplace = True)"
   ]
  },
  {
   "cell_type": "code",
   "execution_count": 53,
   "id": "7ac31b61-f0d4-4231-8ad8-caab8bafc4a4",
   "metadata": {
    "tags": []
   },
   "outputs": [],
   "source": [
    "lib_rate_join = librarian_ratings_df.reset_index(names = 'Deidentified_Answerer')"
   ]
  },
  {
   "cell_type": "code",
   "execution_count": 54,
   "id": "b3415e12-e9c1-4671-8d07-ad0d2f0d2bea",
   "metadata": {
    "tags": []
   },
   "outputs": [],
   "source": [
    "lib_survey_taken_avgs = surveys_taken_trim.groupby(by = 'Deidentified_Answerer', as_index = False).mean(numeric_only = True)"
   ]
  },
  {
   "cell_type": "code",
   "execution_count": 55,
   "id": "5e8ba75a-2ae7-4d75-a95f-d8990bf3426c",
   "metadata": {
    "tags": []
   },
   "outputs": [],
   "source": [
    "lib_survey_taken_stats_df = pd.merge(lib_rate_join, lib_survey_taken_avgs, how = 'left', on = 'Deidentified_Answerer')"
   ]
  },
  {
   "cell_type": "code",
   "execution_count": 56,
   "id": "8c2440c6-1b96-4fdb-80a7-57d2938df7b9",
   "metadata": {
    "tags": []
   },
   "outputs": [],
   "source": [
    "lib_survey_taken_stats_df.drop(columns = 'Chat ID', axis = 1, inplace = True)"
   ]
  },
  {
   "cell_type": "code",
   "execution_count": 57,
   "id": "7ec89117-ef80-48de-ae9d-028317c474a7",
   "metadata": {
    "tags": []
   },
   "outputs": [
    {
     "data": {
      "text/html": [
       "<div>\n",
       "<style scoped>\n",
       "    .dataframe tbody tr th:only-of-type {\n",
       "        vertical-align: middle;\n",
       "    }\n",
       "\n",
       "    .dataframe tbody tr th {\n",
       "        vertical-align: top;\n",
       "    }\n",
       "\n",
       "    .dataframe thead th {\n",
       "        text-align: right;\n",
       "    }\n",
       "</style>\n",
       "<table border=\"1\" class=\"dataframe\">\n",
       "  <thead>\n",
       "    <tr style=\"text-align: right;\">\n",
       "      <th></th>\n",
       "      <th>Deidentified_Answerer</th>\n",
       "      <th>Inquiries_Answered</th>\n",
       "      <th>index</th>\n",
       "      <th>Wait Time (seconds)</th>\n",
       "      <th>Duration (seconds)</th>\n",
       "      <th>Rating (0-4)</th>\n",
       "      <th>Message Count</th>\n",
       "    </tr>\n",
       "  </thead>\n",
       "  <tbody>\n",
       "    <tr>\n",
       "      <th>0</th>\n",
       "      <td>Librarian 41</td>\n",
       "      <td>223</td>\n",
       "      <td>7059.874439</td>\n",
       "      <td>7.551570</td>\n",
       "      <td>575.233184</td>\n",
       "      <td>3.865471</td>\n",
       "      <td>16.000000</td>\n",
       "    </tr>\n",
       "    <tr>\n",
       "      <th>1</th>\n",
       "      <td>Librarian 49</td>\n",
       "      <td>154</td>\n",
       "      <td>7204.402597</td>\n",
       "      <td>10.032468</td>\n",
       "      <td>650.233766</td>\n",
       "      <td>3.922078</td>\n",
       "      <td>19.584416</td>\n",
       "    </tr>\n",
       "    <tr>\n",
       "      <th>2</th>\n",
       "      <td>Librarian 12</td>\n",
       "      <td>144</td>\n",
       "      <td>5041.402778</td>\n",
       "      <td>14.062500</td>\n",
       "      <td>521.263889</td>\n",
       "      <td>3.930556</td>\n",
       "      <td>15.972222</td>\n",
       "    </tr>\n",
       "    <tr>\n",
       "      <th>3</th>\n",
       "      <td>Librarian 39</td>\n",
       "      <td>136</td>\n",
       "      <td>6375.838235</td>\n",
       "      <td>8.448529</td>\n",
       "      <td>488.088235</td>\n",
       "      <td>3.933824</td>\n",
       "      <td>14.139706</td>\n",
       "    </tr>\n",
       "    <tr>\n",
       "      <th>4</th>\n",
       "      <td>Librarian 60</td>\n",
       "      <td>136</td>\n",
       "      <td>7110.382353</td>\n",
       "      <td>7.514706</td>\n",
       "      <td>376.022059</td>\n",
       "      <td>3.919118</td>\n",
       "      <td>15.625000</td>\n",
       "    </tr>\n",
       "    <tr>\n",
       "      <th>5</th>\n",
       "      <td>Librarian 4</td>\n",
       "      <td>121</td>\n",
       "      <td>2425.520661</td>\n",
       "      <td>7.404959</td>\n",
       "      <td>576.793388</td>\n",
       "      <td>3.892562</td>\n",
       "      <td>15.371901</td>\n",
       "    </tr>\n",
       "    <tr>\n",
       "      <th>6</th>\n",
       "      <td>Librarian 82</td>\n",
       "      <td>118</td>\n",
       "      <td>9163.237288</td>\n",
       "      <td>19.745763</td>\n",
       "      <td>879.516949</td>\n",
       "      <td>3.822034</td>\n",
       "      <td>15.805085</td>\n",
       "    </tr>\n",
       "    <tr>\n",
       "      <th>7</th>\n",
       "      <td>Librarian 38</td>\n",
       "      <td>118</td>\n",
       "      <td>6714.813559</td>\n",
       "      <td>9.457627</td>\n",
       "      <td>442.728814</td>\n",
       "      <td>3.805085</td>\n",
       "      <td>14.050847</td>\n",
       "    </tr>\n",
       "    <tr>\n",
       "      <th>8</th>\n",
       "      <td>Librarian 58</td>\n",
       "      <td>105</td>\n",
       "      <td>7397.171429</td>\n",
       "      <td>17.933333</td>\n",
       "      <td>1546.438095</td>\n",
       "      <td>3.904762</td>\n",
       "      <td>26.247619</td>\n",
       "    </tr>\n",
       "    <tr>\n",
       "      <th>9</th>\n",
       "      <td>Librarian 5</td>\n",
       "      <td>102</td>\n",
       "      <td>5679.225490</td>\n",
       "      <td>12.558824</td>\n",
       "      <td>1250.549020</td>\n",
       "      <td>3.970588</td>\n",
       "      <td>28.833333</td>\n",
       "    </tr>\n",
       "    <tr>\n",
       "      <th>10</th>\n",
       "      <td>Librarian 19</td>\n",
       "      <td>86</td>\n",
       "      <td>5639.348837</td>\n",
       "      <td>17.441860</td>\n",
       "      <td>965.848837</td>\n",
       "      <td>3.848837</td>\n",
       "      <td>20.360465</td>\n",
       "    </tr>\n",
       "    <tr>\n",
       "      <th>11</th>\n",
       "      <td>Librarian 8</td>\n",
       "      <td>82</td>\n",
       "      <td>4593.634146</td>\n",
       "      <td>12.231707</td>\n",
       "      <td>661.975610</td>\n",
       "      <td>3.890244</td>\n",
       "      <td>20.804878</td>\n",
       "    </tr>\n",
       "    <tr>\n",
       "      <th>12</th>\n",
       "      <td>Librarian 70</td>\n",
       "      <td>70</td>\n",
       "      <td>7365.757143</td>\n",
       "      <td>9.171429</td>\n",
       "      <td>445.357143</td>\n",
       "      <td>3.828571</td>\n",
       "      <td>12.671429</td>\n",
       "    </tr>\n",
       "    <tr>\n",
       "      <th>13</th>\n",
       "      <td>Librarian 50</td>\n",
       "      <td>68</td>\n",
       "      <td>5824.279412</td>\n",
       "      <td>8.544118</td>\n",
       "      <td>468.750000</td>\n",
       "      <td>3.779412</td>\n",
       "      <td>17.661765</td>\n",
       "    </tr>\n",
       "    <tr>\n",
       "      <th>14</th>\n",
       "      <td>Librarian 56</td>\n",
       "      <td>66</td>\n",
       "      <td>7385.878788</td>\n",
       "      <td>14.257576</td>\n",
       "      <td>431.424242</td>\n",
       "      <td>3.924242</td>\n",
       "      <td>12.439394</td>\n",
       "    </tr>\n",
       "    <tr>\n",
       "      <th>15</th>\n",
       "      <td>Librarian 27</td>\n",
       "      <td>52</td>\n",
       "      <td>4431.442308</td>\n",
       "      <td>5.673077</td>\n",
       "      <td>653.365385</td>\n",
       "      <td>3.807692</td>\n",
       "      <td>17.923077</td>\n",
       "    </tr>\n",
       "    <tr>\n",
       "      <th>16</th>\n",
       "      <td>Librarian 14</td>\n",
       "      <td>51</td>\n",
       "      <td>6402.313725</td>\n",
       "      <td>14.294118</td>\n",
       "      <td>602.901961</td>\n",
       "      <td>3.941176</td>\n",
       "      <td>15.529412</td>\n",
       "    </tr>\n",
       "    <tr>\n",
       "      <th>17</th>\n",
       "      <td>Librarian 75</td>\n",
       "      <td>50</td>\n",
       "      <td>8386.140000</td>\n",
       "      <td>7.080000</td>\n",
       "      <td>631.180000</td>\n",
       "      <td>3.860000</td>\n",
       "      <td>17.360000</td>\n",
       "    </tr>\n",
       "    <tr>\n",
       "      <th>18</th>\n",
       "      <td>Librarian 9</td>\n",
       "      <td>49</td>\n",
       "      <td>3430.020408</td>\n",
       "      <td>10.428571</td>\n",
       "      <td>372.081633</td>\n",
       "      <td>3.979592</td>\n",
       "      <td>14.204082</td>\n",
       "    </tr>\n",
       "    <tr>\n",
       "      <th>19</th>\n",
       "      <td>Librarian 35</td>\n",
       "      <td>47</td>\n",
       "      <td>3935.957447</td>\n",
       "      <td>12.148936</td>\n",
       "      <td>669.063830</td>\n",
       "      <td>3.872340</td>\n",
       "      <td>16.085106</td>\n",
       "    </tr>\n",
       "  </tbody>\n",
       "</table>\n",
       "</div>"
      ],
      "text/plain": [
       "   Deidentified_Answerer  Inquiries_Answered        index  \\\n",
       "0           Librarian 41                 223  7059.874439   \n",
       "1           Librarian 49                 154  7204.402597   \n",
       "2           Librarian 12                 144  5041.402778   \n",
       "3           Librarian 39                 136  6375.838235   \n",
       "4           Librarian 60                 136  7110.382353   \n",
       "5            Librarian 4                 121  2425.520661   \n",
       "6           Librarian 82                 118  9163.237288   \n",
       "7           Librarian 38                 118  6714.813559   \n",
       "8           Librarian 58                 105  7397.171429   \n",
       "9            Librarian 5                 102  5679.225490   \n",
       "10          Librarian 19                  86  5639.348837   \n",
       "11           Librarian 8                  82  4593.634146   \n",
       "12          Librarian 70                  70  7365.757143   \n",
       "13          Librarian 50                  68  5824.279412   \n",
       "14          Librarian 56                  66  7385.878788   \n",
       "15          Librarian 27                  52  4431.442308   \n",
       "16          Librarian 14                  51  6402.313725   \n",
       "17          Librarian 75                  50  8386.140000   \n",
       "18           Librarian 9                  49  3430.020408   \n",
       "19          Librarian 35                  47  3935.957447   \n",
       "\n",
       "    Wait Time (seconds)  Duration (seconds)  Rating (0-4)  Message Count  \n",
       "0              7.551570          575.233184      3.865471      16.000000  \n",
       "1             10.032468          650.233766      3.922078      19.584416  \n",
       "2             14.062500          521.263889      3.930556      15.972222  \n",
       "3              8.448529          488.088235      3.933824      14.139706  \n",
       "4              7.514706          376.022059      3.919118      15.625000  \n",
       "5              7.404959          576.793388      3.892562      15.371901  \n",
       "6             19.745763          879.516949      3.822034      15.805085  \n",
       "7              9.457627          442.728814      3.805085      14.050847  \n",
       "8             17.933333         1546.438095      3.904762      26.247619  \n",
       "9             12.558824         1250.549020      3.970588      28.833333  \n",
       "10            17.441860          965.848837      3.848837      20.360465  \n",
       "11            12.231707          661.975610      3.890244      20.804878  \n",
       "12             9.171429          445.357143      3.828571      12.671429  \n",
       "13             8.544118          468.750000      3.779412      17.661765  \n",
       "14            14.257576          431.424242      3.924242      12.439394  \n",
       "15             5.673077          653.365385      3.807692      17.923077  \n",
       "16            14.294118          602.901961      3.941176      15.529412  \n",
       "17             7.080000          631.180000      3.860000      17.360000  \n",
       "18            10.428571          372.081633      3.979592      14.204082  \n",
       "19            12.148936          669.063830      3.872340      16.085106  "
      ]
     },
     "execution_count": 57,
     "metadata": {},
     "output_type": "execute_result"
    }
   ],
   "source": [
    "lib_survey_taken_stats_df.head(20)"
   ]
  },
  {
   "cell_type": "code",
   "execution_count": 58,
   "id": "62759b80-c714-462c-97de-e403bdce71cd",
   "metadata": {
    "tags": []
   },
   "outputs": [],
   "source": [
    "email_rate_df = surveys_taken_trim.Deidentified_Email.value_counts().to_frame()"
   ]
  },
  {
   "cell_type": "code",
   "execution_count": 59,
   "id": "4d8111ec-8094-4441-beab-bfb3e8630f54",
   "metadata": {
    "tags": []
   },
   "outputs": [],
   "source": [
    "email_rate_df.rename(columns = {'Deidentified_Email' : 'Inquiry_Count'}, inplace = True)"
   ]
  },
  {
   "cell_type": "code",
   "execution_count": 60,
   "id": "ac6260c1-a7dd-467e-93e7-e5a21059ef82",
   "metadata": {
    "tags": []
   },
   "outputs": [],
   "source": [
    "email_rate_join = email_df.reset_index(names = 'Deidentified_Email')"
   ]
  },
  {
   "cell_type": "code",
   "execution_count": 61,
   "id": "071607c1-6f51-4818-89f5-c55a0606ad96",
   "metadata": {
    "tags": []
   },
   "outputs": [],
   "source": [
    "user_survey_taken_avgs = surveys_taken_trim.groupby(by = 'Deidentified_Email', as_index = False).mean(numeric_only = True)"
   ]
  },
  {
   "cell_type": "code",
   "execution_count": 62,
   "id": "897e36fc-f645-490f-81a0-f3a2dc36b839",
   "metadata": {
    "tags": []
   },
   "outputs": [],
   "source": [
    "users_rate_df = pd.merge(email_rate_join, user_survey_taken_avgs, how = 'left', on = 'Deidentified_Email')"
   ]
  },
  {
   "cell_type": "code",
   "execution_count": 63,
   "id": "a12397f8-0c6b-4dda-b145-4fb49b8956e2",
   "metadata": {
    "tags": []
   },
   "outputs": [],
   "source": [
    "users_rate_df.drop(columns = 'Chat ID', axis = 1, inplace = True)"
   ]
  },
  {
   "cell_type": "code",
   "execution_count": 64,
   "id": "af0c1a94-b3f5-4434-8652-b2578c21a564",
   "metadata": {
    "tags": []
   },
   "outputs": [
    {
     "data": {
      "text/html": [
       "<div>\n",
       "<style scoped>\n",
       "    .dataframe tbody tr th:only-of-type {\n",
       "        vertical-align: middle;\n",
       "    }\n",
       "\n",
       "    .dataframe tbody tr th {\n",
       "        vertical-align: top;\n",
       "    }\n",
       "\n",
       "    .dataframe thead th {\n",
       "        text-align: right;\n",
       "    }\n",
       "</style>\n",
       "<table border=\"1\" class=\"dataframe\">\n",
       "  <thead>\n",
       "    <tr style=\"text-align: right;\">\n",
       "      <th></th>\n",
       "      <th>Deidentified_Email</th>\n",
       "      <th>Inquiry_Count</th>\n",
       "      <th>index</th>\n",
       "      <th>Wait Time (seconds)</th>\n",
       "      <th>Duration (seconds)</th>\n",
       "      <th>Rating (0-4)</th>\n",
       "      <th>Message Count</th>\n",
       "    </tr>\n",
       "  </thead>\n",
       "  <tbody>\n",
       "    <tr>\n",
       "      <th>0</th>\n",
       "      <td>No Email Provided</td>\n",
       "      <td>1137</td>\n",
       "      <td>7376.105413</td>\n",
       "      <td>17.435897</td>\n",
       "      <td>1157.766382</td>\n",
       "      <td>3.854701</td>\n",
       "      <td>23.014245</td>\n",
       "    </tr>\n",
       "    <tr>\n",
       "      <th>1</th>\n",
       "      <td>User0b69e697c9@pitt.edu</td>\n",
       "      <td>38</td>\n",
       "      <td>6478.545455</td>\n",
       "      <td>21.121212</td>\n",
       "      <td>592.575758</td>\n",
       "      <td>4.000000</td>\n",
       "      <td>19.848485</td>\n",
       "    </tr>\n",
       "    <tr>\n",
       "      <th>2</th>\n",
       "      <td>User5b0d45d71d@pitt.edu</td>\n",
       "      <td>36</td>\n",
       "      <td>6854.000000</td>\n",
       "      <td>7.333333</td>\n",
       "      <td>885.333333</td>\n",
       "      <td>4.000000</td>\n",
       "      <td>17.666667</td>\n",
       "    </tr>\n",
       "    <tr>\n",
       "      <th>3</th>\n",
       "      <td>User4ade0d051b@pitt.edu</td>\n",
       "      <td>36</td>\n",
       "      <td>7467.000000</td>\n",
       "      <td>11.142857</td>\n",
       "      <td>417.571429</td>\n",
       "      <td>3.785714</td>\n",
       "      <td>9.000000</td>\n",
       "    </tr>\n",
       "    <tr>\n",
       "      <th>4</th>\n",
       "      <td>Userce43e555d3@pitt.edu</td>\n",
       "      <td>29</td>\n",
       "      <td>7730.666667</td>\n",
       "      <td>10.666667</td>\n",
       "      <td>1186.666667</td>\n",
       "      <td>3.666667</td>\n",
       "      <td>35.000000</td>\n",
       "    </tr>\n",
       "    <tr>\n",
       "      <th>5</th>\n",
       "      <td>User03c21342b9@pitt.edu</td>\n",
       "      <td>21</td>\n",
       "      <td>6627.400000</td>\n",
       "      <td>6.200000</td>\n",
       "      <td>585.600000</td>\n",
       "      <td>3.800000</td>\n",
       "      <td>14.000000</td>\n",
       "    </tr>\n",
       "    <tr>\n",
       "      <th>6</th>\n",
       "      <td>User140bd3eabb@pitt.edu</td>\n",
       "      <td>21</td>\n",
       "      <td>4652.000000</td>\n",
       "      <td>10.000000</td>\n",
       "      <td>370.333333</td>\n",
       "      <td>4.000000</td>\n",
       "      <td>10.333333</td>\n",
       "    </tr>\n",
       "    <tr>\n",
       "      <th>7</th>\n",
       "      <td>User10845390e0@pitt.edu</td>\n",
       "      <td>20</td>\n",
       "      <td>NaN</td>\n",
       "      <td>NaN</td>\n",
       "      <td>NaN</td>\n",
       "      <td>NaN</td>\n",
       "      <td>NaN</td>\n",
       "    </tr>\n",
       "    <tr>\n",
       "      <th>8</th>\n",
       "      <td>User5a21cf4166@pitt.edu</td>\n",
       "      <td>19</td>\n",
       "      <td>6201.333333</td>\n",
       "      <td>10.666667</td>\n",
       "      <td>512.500000</td>\n",
       "      <td>3.833333</td>\n",
       "      <td>20.500000</td>\n",
       "    </tr>\n",
       "    <tr>\n",
       "      <th>9</th>\n",
       "      <td>User99c429d285@pitt.edu</td>\n",
       "      <td>19</td>\n",
       "      <td>7135.285714</td>\n",
       "      <td>6.857143</td>\n",
       "      <td>522.714286</td>\n",
       "      <td>3.714286</td>\n",
       "      <td>12.571429</td>\n",
       "    </tr>\n",
       "    <tr>\n",
       "      <th>10</th>\n",
       "      <td>Userf87c6c097e@pitt.edu</td>\n",
       "      <td>19</td>\n",
       "      <td>503.000000</td>\n",
       "      <td>3.000000</td>\n",
       "      <td>83.000000</td>\n",
       "      <td>4.000000</td>\n",
       "      <td>4.000000</td>\n",
       "    </tr>\n",
       "    <tr>\n",
       "      <th>11</th>\n",
       "      <td>User48db1f6412@pitt.edu</td>\n",
       "      <td>19</td>\n",
       "      <td>7245.125000</td>\n",
       "      <td>6.625000</td>\n",
       "      <td>899.750000</td>\n",
       "      <td>4.000000</td>\n",
       "      <td>24.625000</td>\n",
       "    </tr>\n",
       "    <tr>\n",
       "      <th>12</th>\n",
       "      <td>User6b5901f44b@pitt.edu</td>\n",
       "      <td>18</td>\n",
       "      <td>5674.500000</td>\n",
       "      <td>11.000000</td>\n",
       "      <td>863.500000</td>\n",
       "      <td>4.000000</td>\n",
       "      <td>34.000000</td>\n",
       "    </tr>\n",
       "    <tr>\n",
       "      <th>13</th>\n",
       "      <td>User5b1a29a6ab@pitt.edu</td>\n",
       "      <td>17</td>\n",
       "      <td>1650.285714</td>\n",
       "      <td>6.714286</td>\n",
       "      <td>513.142857</td>\n",
       "      <td>4.000000</td>\n",
       "      <td>18.285714</td>\n",
       "    </tr>\n",
       "    <tr>\n",
       "      <th>14</th>\n",
       "      <td>User23119a5db6@pitt.edu</td>\n",
       "      <td>16</td>\n",
       "      <td>6568.833333</td>\n",
       "      <td>10.333333</td>\n",
       "      <td>427.666667</td>\n",
       "      <td>3.500000</td>\n",
       "      <td>12.166667</td>\n",
       "    </tr>\n",
       "    <tr>\n",
       "      <th>15</th>\n",
       "      <td>User56bfb53246@pitt.edu</td>\n",
       "      <td>16</td>\n",
       "      <td>8888.500000</td>\n",
       "      <td>3.500000</td>\n",
       "      <td>947.000000</td>\n",
       "      <td>4.000000</td>\n",
       "      <td>7.500000</td>\n",
       "    </tr>\n",
       "    <tr>\n",
       "      <th>16</th>\n",
       "      <td>User2103908f3b@pitt.edu</td>\n",
       "      <td>15</td>\n",
       "      <td>5569.500000</td>\n",
       "      <td>8.000000</td>\n",
       "      <td>574.000000</td>\n",
       "      <td>4.000000</td>\n",
       "      <td>15.000000</td>\n",
       "    </tr>\n",
       "    <tr>\n",
       "      <th>17</th>\n",
       "      <td>User6e95143f51@pitt.edu</td>\n",
       "      <td>15</td>\n",
       "      <td>4871.250000</td>\n",
       "      <td>9.500000</td>\n",
       "      <td>503.375000</td>\n",
       "      <td>4.000000</td>\n",
       "      <td>14.125000</td>\n",
       "    </tr>\n",
       "    <tr>\n",
       "      <th>18</th>\n",
       "      <td>User456f1b6207@pitt.edu</td>\n",
       "      <td>15</td>\n",
       "      <td>NaN</td>\n",
       "      <td>NaN</td>\n",
       "      <td>NaN</td>\n",
       "      <td>NaN</td>\n",
       "      <td>NaN</td>\n",
       "    </tr>\n",
       "    <tr>\n",
       "      <th>19</th>\n",
       "      <td>User51175ec644@pitt.edu</td>\n",
       "      <td>15</td>\n",
       "      <td>7166.833333</td>\n",
       "      <td>43.000000</td>\n",
       "      <td>1080.500000</td>\n",
       "      <td>3.833333</td>\n",
       "      <td>20.166667</td>\n",
       "    </tr>\n",
       "  </tbody>\n",
       "</table>\n",
       "</div>"
      ],
      "text/plain": [
       "         Deidentified_Email  Inquiry_Count        index  Wait Time (seconds)  \\\n",
       "0         No Email Provided           1137  7376.105413            17.435897   \n",
       "1   User0b69e697c9@pitt.edu             38  6478.545455            21.121212   \n",
       "2   User5b0d45d71d@pitt.edu             36  6854.000000             7.333333   \n",
       "3   User4ade0d051b@pitt.edu             36  7467.000000            11.142857   \n",
       "4   Userce43e555d3@pitt.edu             29  7730.666667            10.666667   \n",
       "5   User03c21342b9@pitt.edu             21  6627.400000             6.200000   \n",
       "6   User140bd3eabb@pitt.edu             21  4652.000000            10.000000   \n",
       "7   User10845390e0@pitt.edu             20          NaN                  NaN   \n",
       "8   User5a21cf4166@pitt.edu             19  6201.333333            10.666667   \n",
       "9   User99c429d285@pitt.edu             19  7135.285714             6.857143   \n",
       "10  Userf87c6c097e@pitt.edu             19   503.000000             3.000000   \n",
       "11  User48db1f6412@pitt.edu             19  7245.125000             6.625000   \n",
       "12  User6b5901f44b@pitt.edu             18  5674.500000            11.000000   \n",
       "13  User5b1a29a6ab@pitt.edu             17  1650.285714             6.714286   \n",
       "14  User23119a5db6@pitt.edu             16  6568.833333            10.333333   \n",
       "15  User56bfb53246@pitt.edu             16  8888.500000             3.500000   \n",
       "16  User2103908f3b@pitt.edu             15  5569.500000             8.000000   \n",
       "17  User6e95143f51@pitt.edu             15  4871.250000             9.500000   \n",
       "18  User456f1b6207@pitt.edu             15          NaN                  NaN   \n",
       "19  User51175ec644@pitt.edu             15  7166.833333            43.000000   \n",
       "\n",
       "    Duration (seconds)  Rating (0-4)  Message Count  \n",
       "0          1157.766382      3.854701      23.014245  \n",
       "1           592.575758      4.000000      19.848485  \n",
       "2           885.333333      4.000000      17.666667  \n",
       "3           417.571429      3.785714       9.000000  \n",
       "4          1186.666667      3.666667      35.000000  \n",
       "5           585.600000      3.800000      14.000000  \n",
       "6           370.333333      4.000000      10.333333  \n",
       "7                  NaN           NaN            NaN  \n",
       "8           512.500000      3.833333      20.500000  \n",
       "9           522.714286      3.714286      12.571429  \n",
       "10           83.000000      4.000000       4.000000  \n",
       "11          899.750000      4.000000      24.625000  \n",
       "12          863.500000      4.000000      34.000000  \n",
       "13          513.142857      4.000000      18.285714  \n",
       "14          427.666667      3.500000      12.166667  \n",
       "15          947.000000      4.000000       7.500000  \n",
       "16          574.000000      4.000000      15.000000  \n",
       "17          503.375000      4.000000      14.125000  \n",
       "18                 NaN           NaN            NaN  \n",
       "19         1080.500000      3.833333      20.166667  "
      ]
     },
     "execution_count": 64,
     "metadata": {},
     "output_type": "execute_result"
    }
   ],
   "source": [
    "users_rate_df.head(20)"
   ]
  },
  {
   "cell_type": "markdown",
   "id": "d2f3f625-89c1-4483-bb08-d82dbee00a70",
   "metadata": {},
   "source": [
    "What we are seeing above is that our top repeated users are giving very high ratings when they indeed rate their interactions. "
   ]
  },
  {
   "cell_type": "code",
   "execution_count": 65,
   "id": "b0c60ad3-96a7-45a6-bed7-ecb92ab731ab",
   "metadata": {
    "tags": []
   },
   "outputs": [
    {
     "data": {
      "text/html": [
       "<div>\n",
       "<style scoped>\n",
       "    .dataframe tbody tr th:only-of-type {\n",
       "        vertical-align: middle;\n",
       "    }\n",
       "\n",
       "    .dataframe tbody tr th {\n",
       "        vertical-align: top;\n",
       "    }\n",
       "\n",
       "    .dataframe thead th {\n",
       "        text-align: right;\n",
       "    }\n",
       "</style>\n",
       "<table border=\"1\" class=\"dataframe\">\n",
       "  <thead>\n",
       "    <tr style=\"text-align: right;\">\n",
       "      <th></th>\n",
       "      <th>Deidentified_Email</th>\n",
       "      <th>Inquiry_Count</th>\n",
       "      <th>index</th>\n",
       "      <th>Wait Time (seconds)</th>\n",
       "      <th>Duration (seconds)</th>\n",
       "      <th>Rating (0-4)</th>\n",
       "      <th>Message Count</th>\n",
       "    </tr>\n",
       "  </thead>\n",
       "  <tbody>\n",
       "    <tr>\n",
       "      <th>5676</th>\n",
       "      <td>Userfd3673e67b@gmail.com</td>\n",
       "      <td>1</td>\n",
       "      <td>NaN</td>\n",
       "      <td>NaN</td>\n",
       "      <td>NaN</td>\n",
       "      <td>NaN</td>\n",
       "      <td>NaN</td>\n",
       "    </tr>\n",
       "    <tr>\n",
       "      <th>5677</th>\n",
       "      <td>User0f3f1f24da@pitt.edu</td>\n",
       "      <td>1</td>\n",
       "      <td>NaN</td>\n",
       "      <td>NaN</td>\n",
       "      <td>NaN</td>\n",
       "      <td>NaN</td>\n",
       "      <td>NaN</td>\n",
       "    </tr>\n",
       "    <tr>\n",
       "      <th>5678</th>\n",
       "      <td>Userb38aa6e0c5@pitt.edu</td>\n",
       "      <td>1</td>\n",
       "      <td>3999.0</td>\n",
       "      <td>14.0</td>\n",
       "      <td>421.0</td>\n",
       "      <td>4.0</td>\n",
       "      <td>22.0</td>\n",
       "    </tr>\n",
       "    <tr>\n",
       "      <th>5679</th>\n",
       "      <td>User50f017a87e@pitt.edu</td>\n",
       "      <td>1</td>\n",
       "      <td>NaN</td>\n",
       "      <td>NaN</td>\n",
       "      <td>NaN</td>\n",
       "      <td>NaN</td>\n",
       "      <td>NaN</td>\n",
       "    </tr>\n",
       "    <tr>\n",
       "      <th>5680</th>\n",
       "      <td>User1beee3f0f8@pitt.edu</td>\n",
       "      <td>1</td>\n",
       "      <td>NaN</td>\n",
       "      <td>NaN</td>\n",
       "      <td>NaN</td>\n",
       "      <td>NaN</td>\n",
       "      <td>NaN</td>\n",
       "    </tr>\n",
       "    <tr>\n",
       "      <th>5681</th>\n",
       "      <td>Userd3055d5382@pitt.edu</td>\n",
       "      <td>1</td>\n",
       "      <td>4002.0</td>\n",
       "      <td>5.0</td>\n",
       "      <td>301.0</td>\n",
       "      <td>4.0</td>\n",
       "      <td>11.0</td>\n",
       "    </tr>\n",
       "    <tr>\n",
       "      <th>5682</th>\n",
       "      <td>User682e7f42e6@gmail.com</td>\n",
       "      <td>1</td>\n",
       "      <td>NaN</td>\n",
       "      <td>NaN</td>\n",
       "      <td>NaN</td>\n",
       "      <td>NaN</td>\n",
       "      <td>NaN</td>\n",
       "    </tr>\n",
       "    <tr>\n",
       "      <th>5683</th>\n",
       "      <td>User6ab25e0499@pitt.edu</td>\n",
       "      <td>1</td>\n",
       "      <td>NaN</td>\n",
       "      <td>NaN</td>\n",
       "      <td>NaN</td>\n",
       "      <td>NaN</td>\n",
       "      <td>NaN</td>\n",
       "    </tr>\n",
       "    <tr>\n",
       "      <th>5684</th>\n",
       "      <td>Usercfbc9f5b9e@bostonathenaeum.org</td>\n",
       "      <td>1</td>\n",
       "      <td>NaN</td>\n",
       "      <td>NaN</td>\n",
       "      <td>NaN</td>\n",
       "      <td>NaN</td>\n",
       "      <td>NaN</td>\n",
       "    </tr>\n",
       "    <tr>\n",
       "      <th>5685</th>\n",
       "      <td>User1b6d570c78@pitt.edu</td>\n",
       "      <td>1</td>\n",
       "      <td>NaN</td>\n",
       "      <td>NaN</td>\n",
       "      <td>NaN</td>\n",
       "      <td>NaN</td>\n",
       "      <td>NaN</td>\n",
       "    </tr>\n",
       "    <tr>\n",
       "      <th>5686</th>\n",
       "      <td>User4430ae598b@pitt.edu</td>\n",
       "      <td>1</td>\n",
       "      <td>NaN</td>\n",
       "      <td>NaN</td>\n",
       "      <td>NaN</td>\n",
       "      <td>NaN</td>\n",
       "      <td>NaN</td>\n",
       "    </tr>\n",
       "    <tr>\n",
       "      <th>5687</th>\n",
       "      <td>User8f85ca5985@ancestry.com</td>\n",
       "      <td>1</td>\n",
       "      <td>4014.0</td>\n",
       "      <td>20.0</td>\n",
       "      <td>1181.0</td>\n",
       "      <td>4.0</td>\n",
       "      <td>41.0</td>\n",
       "    </tr>\n",
       "    <tr>\n",
       "      <th>5688</th>\n",
       "      <td>User6f0b070197@pitt.edu</td>\n",
       "      <td>1</td>\n",
       "      <td>NaN</td>\n",
       "      <td>NaN</td>\n",
       "      <td>NaN</td>\n",
       "      <td>NaN</td>\n",
       "      <td>NaN</td>\n",
       "    </tr>\n",
       "    <tr>\n",
       "      <th>5689</th>\n",
       "      <td>Useraf3cbe9d4b@pitt.edu</td>\n",
       "      <td>1</td>\n",
       "      <td>4018.0</td>\n",
       "      <td>9.0</td>\n",
       "      <td>495.0</td>\n",
       "      <td>4.0</td>\n",
       "      <td>31.0</td>\n",
       "    </tr>\n",
       "    <tr>\n",
       "      <th>5690</th>\n",
       "      <td>User2ee68f5c03@pitt.edu</td>\n",
       "      <td>1</td>\n",
       "      <td>NaN</td>\n",
       "      <td>NaN</td>\n",
       "      <td>NaN</td>\n",
       "      <td>NaN</td>\n",
       "      <td>NaN</td>\n",
       "    </tr>\n",
       "    <tr>\n",
       "      <th>5691</th>\n",
       "      <td>User5951ab0388@pitt.edu</td>\n",
       "      <td>1</td>\n",
       "      <td>4022.0</td>\n",
       "      <td>38.0</td>\n",
       "      <td>146.0</td>\n",
       "      <td>4.0</td>\n",
       "      <td>8.0</td>\n",
       "    </tr>\n",
       "    <tr>\n",
       "      <th>5692</th>\n",
       "      <td>Usere3537056dc@pitt.edu</td>\n",
       "      <td>1</td>\n",
       "      <td>NaN</td>\n",
       "      <td>NaN</td>\n",
       "      <td>NaN</td>\n",
       "      <td>NaN</td>\n",
       "      <td>NaN</td>\n",
       "    </tr>\n",
       "    <tr>\n",
       "      <th>5693</th>\n",
       "      <td>User13774a7aef@pitt.edu</td>\n",
       "      <td>1</td>\n",
       "      <td>4025.0</td>\n",
       "      <td>15.0</td>\n",
       "      <td>725.0</td>\n",
       "      <td>4.0</td>\n",
       "      <td>21.0</td>\n",
       "    </tr>\n",
       "    <tr>\n",
       "      <th>5694</th>\n",
       "      <td>User367022c36d@pitt.edu</td>\n",
       "      <td>1</td>\n",
       "      <td>NaN</td>\n",
       "      <td>NaN</td>\n",
       "      <td>NaN</td>\n",
       "      <td>NaN</td>\n",
       "      <td>NaN</td>\n",
       "    </tr>\n",
       "    <tr>\n",
       "      <th>5695</th>\n",
       "      <td>Userd8a890632d@pitt.edu</td>\n",
       "      <td>1</td>\n",
       "      <td>NaN</td>\n",
       "      <td>NaN</td>\n",
       "      <td>NaN</td>\n",
       "      <td>NaN</td>\n",
       "      <td>NaN</td>\n",
       "    </tr>\n",
       "  </tbody>\n",
       "</table>\n",
       "</div>"
      ],
      "text/plain": [
       "                      Deidentified_Email  Inquiry_Count   index  \\\n",
       "5676            Userfd3673e67b@gmail.com              1     NaN   \n",
       "5677             User0f3f1f24da@pitt.edu              1     NaN   \n",
       "5678             Userb38aa6e0c5@pitt.edu              1  3999.0   \n",
       "5679             User50f017a87e@pitt.edu              1     NaN   \n",
       "5680             User1beee3f0f8@pitt.edu              1     NaN   \n",
       "5681             Userd3055d5382@pitt.edu              1  4002.0   \n",
       "5682            User682e7f42e6@gmail.com              1     NaN   \n",
       "5683             User6ab25e0499@pitt.edu              1     NaN   \n",
       "5684  Usercfbc9f5b9e@bostonathenaeum.org              1     NaN   \n",
       "5685             User1b6d570c78@pitt.edu              1     NaN   \n",
       "5686             User4430ae598b@pitt.edu              1     NaN   \n",
       "5687         User8f85ca5985@ancestry.com              1  4014.0   \n",
       "5688             User6f0b070197@pitt.edu              1     NaN   \n",
       "5689             Useraf3cbe9d4b@pitt.edu              1  4018.0   \n",
       "5690             User2ee68f5c03@pitt.edu              1     NaN   \n",
       "5691             User5951ab0388@pitt.edu              1  4022.0   \n",
       "5692             Usere3537056dc@pitt.edu              1     NaN   \n",
       "5693             User13774a7aef@pitt.edu              1  4025.0   \n",
       "5694             User367022c36d@pitt.edu              1     NaN   \n",
       "5695             Userd8a890632d@pitt.edu              1     NaN   \n",
       "\n",
       "      Wait Time (seconds)  Duration (seconds)  Rating (0-4)  Message Count  \n",
       "5676                  NaN                 NaN           NaN            NaN  \n",
       "5677                  NaN                 NaN           NaN            NaN  \n",
       "5678                 14.0               421.0           4.0           22.0  \n",
       "5679                  NaN                 NaN           NaN            NaN  \n",
       "5680                  NaN                 NaN           NaN            NaN  \n",
       "5681                  5.0               301.0           4.0           11.0  \n",
       "5682                  NaN                 NaN           NaN            NaN  \n",
       "5683                  NaN                 NaN           NaN            NaN  \n",
       "5684                  NaN                 NaN           NaN            NaN  \n",
       "5685                  NaN                 NaN           NaN            NaN  \n",
       "5686                  NaN                 NaN           NaN            NaN  \n",
       "5687                 20.0              1181.0           4.0           41.0  \n",
       "5688                  NaN                 NaN           NaN            NaN  \n",
       "5689                  9.0               495.0           4.0           31.0  \n",
       "5690                  NaN                 NaN           NaN            NaN  \n",
       "5691                 38.0               146.0           4.0            8.0  \n",
       "5692                  NaN                 NaN           NaN            NaN  \n",
       "5693                 15.0               725.0           4.0           21.0  \n",
       "5694                  NaN                 NaN           NaN            NaN  \n",
       "5695                  NaN                 NaN           NaN            NaN  "
      ]
     },
     "execution_count": 65,
     "metadata": {},
     "output_type": "execute_result"
    }
   ],
   "source": [
    "users_rate_df.tail(20)"
   ]
  },
  {
   "cell_type": "markdown",
   "id": "3a1777fe-ab71-4ce9-aabb-d21330b2058e",
   "metadata": {},
   "source": [
    "Above we see sort of the same thing on a surface level for some of the lowest interacted with users. Lets now take a look then at those who rated their interaction anything besides a 4. "
   ]
  },
  {
   "cell_type": "code",
   "execution_count": 66,
   "id": "02da7396-cccf-41ed-abaa-3aef5abf108c",
   "metadata": {
    "tags": []
   },
   "outputs": [
    {
     "data": {
      "text/html": [
       "<div>\n",
       "<style scoped>\n",
       "    .dataframe tbody tr th:only-of-type {\n",
       "        vertical-align: middle;\n",
       "    }\n",
       "\n",
       "    .dataframe tbody tr th {\n",
       "        vertical-align: top;\n",
       "    }\n",
       "\n",
       "    .dataframe thead th {\n",
       "        text-align: right;\n",
       "    }\n",
       "</style>\n",
       "<table border=\"1\" class=\"dataframe\">\n",
       "  <thead>\n",
       "    <tr style=\"text-align: right;\">\n",
       "      <th></th>\n",
       "      <th>Deidentified_Email</th>\n",
       "      <th>Inquiry_Count</th>\n",
       "      <th>index</th>\n",
       "      <th>Wait Time (seconds)</th>\n",
       "      <th>Duration (seconds)</th>\n",
       "      <th>Rating (0-4)</th>\n",
       "      <th>Message Count</th>\n",
       "    </tr>\n",
       "  </thead>\n",
       "  <tbody>\n",
       "    <tr>\n",
       "      <th>153</th>\n",
       "      <td>Usered22ce3075@pitt.edu</td>\n",
       "      <td>6</td>\n",
       "      <td>7519.0</td>\n",
       "      <td>5.0</td>\n",
       "      <td>178.0</td>\n",
       "      <td>1.0</td>\n",
       "      <td>2.0</td>\n",
       "    </tr>\n",
       "    <tr>\n",
       "      <th>519</th>\n",
       "      <td>User679c7810b9@upmc.edu</td>\n",
       "      <td>3</td>\n",
       "      <td>9765.0</td>\n",
       "      <td>10.0</td>\n",
       "      <td>605.0</td>\n",
       "      <td>1.0</td>\n",
       "      <td>6.0</td>\n",
       "    </tr>\n",
       "    <tr>\n",
       "      <th>563</th>\n",
       "      <td>User779a23ca43@salidadelsolacademy.org</td>\n",
       "      <td>3</td>\n",
       "      <td>3685.0</td>\n",
       "      <td>28.0</td>\n",
       "      <td>245.0</td>\n",
       "      <td>1.0</td>\n",
       "      <td>13.0</td>\n",
       "    </tr>\n",
       "    <tr>\n",
       "      <th>640</th>\n",
       "      <td>User24ea1178e3@pitt.edu</td>\n",
       "      <td>3</td>\n",
       "      <td>5100.0</td>\n",
       "      <td>16.0</td>\n",
       "      <td>1036.0</td>\n",
       "      <td>1.0</td>\n",
       "      <td>12.0</td>\n",
       "    </tr>\n",
       "    <tr>\n",
       "      <th>1202</th>\n",
       "      <td>User2aad6a3e8f@r-pschools.com</td>\n",
       "      <td>2</td>\n",
       "      <td>10136.0</td>\n",
       "      <td>8.0</td>\n",
       "      <td>222.0</td>\n",
       "      <td>1.0</td>\n",
       "      <td>6.0</td>\n",
       "    </tr>\n",
       "    <tr>\n",
       "      <th>1371</th>\n",
       "      <td>Userd96a855aa2@charter.net</td>\n",
       "      <td>2</td>\n",
       "      <td>8129.0</td>\n",
       "      <td>7.0</td>\n",
       "      <td>506.0</td>\n",
       "      <td>1.0</td>\n",
       "      <td>18.0</td>\n",
       "    </tr>\n",
       "    <tr>\n",
       "      <th>3068</th>\n",
       "      <td>Userf2611b7fab@yahoo.com</td>\n",
       "      <td>1</td>\n",
       "      <td>7829.0</td>\n",
       "      <td>3.0</td>\n",
       "      <td>91.0</td>\n",
       "      <td>1.0</td>\n",
       "      <td>5.0</td>\n",
       "    </tr>\n",
       "    <tr>\n",
       "      <th>3096</th>\n",
       "      <td>Userae2e82694b@upmc.edu</td>\n",
       "      <td>1</td>\n",
       "      <td>8070.0</td>\n",
       "      <td>8.0</td>\n",
       "      <td>1044.0</td>\n",
       "      <td>1.0</td>\n",
       "      <td>11.0</td>\n",
       "    </tr>\n",
       "    <tr>\n",
       "      <th>3467</th>\n",
       "      <td>User6ec5e3a48c@upmc.edu</td>\n",
       "      <td>1</td>\n",
       "      <td>2431.0</td>\n",
       "      <td>14.0</td>\n",
       "      <td>2955.0</td>\n",
       "      <td>1.0</td>\n",
       "      <td>89.0</td>\n",
       "    </tr>\n",
       "    <tr>\n",
       "      <th>3514</th>\n",
       "      <td>User705c46914f@pitt.edu</td>\n",
       "      <td>1</td>\n",
       "      <td>2436.0</td>\n",
       "      <td>15.0</td>\n",
       "      <td>357.0</td>\n",
       "      <td>1.0</td>\n",
       "      <td>5.0</td>\n",
       "    </tr>\n",
       "    <tr>\n",
       "      <th>3951</th>\n",
       "      <td>User3472c693d5@pitt.edu</td>\n",
       "      <td>1</td>\n",
       "      <td>2789.0</td>\n",
       "      <td>8.0</td>\n",
       "      <td>1692.0</td>\n",
       "      <td>1.0</td>\n",
       "      <td>9.0</td>\n",
       "    </tr>\n",
       "    <tr>\n",
       "      <th>4007</th>\n",
       "      <td>User28b2f6c696@pitt.edu</td>\n",
       "      <td>1</td>\n",
       "      <td>652.0</td>\n",
       "      <td>9.0</td>\n",
       "      <td>131.0</td>\n",
       "      <td>1.0</td>\n",
       "      <td>7.0</td>\n",
       "    </tr>\n",
       "    <tr>\n",
       "      <th>5262</th>\n",
       "      <td>User868920400d@gmai.com</td>\n",
       "      <td>1</td>\n",
       "      <td>3721.0</td>\n",
       "      <td>6.0</td>\n",
       "      <td>545.0</td>\n",
       "      <td>1.0</td>\n",
       "      <td>16.0</td>\n",
       "    </tr>\n",
       "    <tr>\n",
       "      <th>5327</th>\n",
       "      <td>Userc4e4a0be99@gmail.com</td>\n",
       "      <td>1</td>\n",
       "      <td>3210.0</td>\n",
       "      <td>9.0</td>\n",
       "      <td>92.0</td>\n",
       "      <td>1.0</td>\n",
       "      <td>5.0</td>\n",
       "    </tr>\n",
       "  </tbody>\n",
       "</table>\n",
       "</div>"
      ],
      "text/plain": [
       "                          Deidentified_Email  Inquiry_Count    index  \\\n",
       "153                  Usered22ce3075@pitt.edu              6   7519.0   \n",
       "519                  User679c7810b9@upmc.edu              3   9765.0   \n",
       "563   User779a23ca43@salidadelsolacademy.org              3   3685.0   \n",
       "640                  User24ea1178e3@pitt.edu              3   5100.0   \n",
       "1202           User2aad6a3e8f@r-pschools.com              2  10136.0   \n",
       "1371              Userd96a855aa2@charter.net              2   8129.0   \n",
       "3068                Userf2611b7fab@yahoo.com              1   7829.0   \n",
       "3096                 Userae2e82694b@upmc.edu              1   8070.0   \n",
       "3467                 User6ec5e3a48c@upmc.edu              1   2431.0   \n",
       "3514                 User705c46914f@pitt.edu              1   2436.0   \n",
       "3951                 User3472c693d5@pitt.edu              1   2789.0   \n",
       "4007                 User28b2f6c696@pitt.edu              1    652.0   \n",
       "5262                 User868920400d@gmai.com              1   3721.0   \n",
       "5327                Userc4e4a0be99@gmail.com              1   3210.0   \n",
       "\n",
       "      Wait Time (seconds)  Duration (seconds)  Rating (0-4)  Message Count  \n",
       "153                   5.0               178.0           1.0            2.0  \n",
       "519                  10.0               605.0           1.0            6.0  \n",
       "563                  28.0               245.0           1.0           13.0  \n",
       "640                  16.0              1036.0           1.0           12.0  \n",
       "1202                  8.0               222.0           1.0            6.0  \n",
       "1371                  7.0               506.0           1.0           18.0  \n",
       "3068                  3.0                91.0           1.0            5.0  \n",
       "3096                  8.0              1044.0           1.0           11.0  \n",
       "3467                 14.0              2955.0           1.0           89.0  \n",
       "3514                 15.0               357.0           1.0            5.0  \n",
       "3951                  8.0              1692.0           1.0            9.0  \n",
       "4007                  9.0               131.0           1.0            7.0  \n",
       "5262                  6.0               545.0           1.0           16.0  \n",
       "5327                  9.0                92.0           1.0            5.0  "
      ]
     },
     "execution_count": 66,
     "metadata": {},
     "output_type": "execute_result"
    }
   ],
   "source": [
    "users_rate_df.loc[users_rate_df['Rating (0-4)'] == 1]"
   ]
  },
  {
   "cell_type": "code",
   "execution_count": 67,
   "id": "86317128-b881-48c6-9dd0-00c6de3936bf",
   "metadata": {
    "tags": []
   },
   "outputs": [
    {
     "data": {
      "text/html": [
       "<div>\n",
       "<style scoped>\n",
       "    .dataframe tbody tr th:only-of-type {\n",
       "        vertical-align: middle;\n",
       "    }\n",
       "\n",
       "    .dataframe tbody tr th {\n",
       "        vertical-align: top;\n",
       "    }\n",
       "\n",
       "    .dataframe thead th {\n",
       "        text-align: right;\n",
       "    }\n",
       "</style>\n",
       "<table border=\"1\" class=\"dataframe\">\n",
       "  <thead>\n",
       "    <tr style=\"text-align: right;\">\n",
       "      <th></th>\n",
       "      <th>Deidentified_Email</th>\n",
       "      <th>Inquiry_Count</th>\n",
       "      <th>index</th>\n",
       "      <th>Wait Time (seconds)</th>\n",
       "      <th>Duration (seconds)</th>\n",
       "      <th>Rating (0-4)</th>\n",
       "      <th>Message Count</th>\n",
       "    </tr>\n",
       "  </thead>\n",
       "  <tbody>\n",
       "    <tr>\n",
       "      <th>102</th>\n",
       "      <td>User8fd5cfb613@pitt.edu</td>\n",
       "      <td>7</td>\n",
       "      <td>1291.0</td>\n",
       "      <td>21.0</td>\n",
       "      <td>316.0</td>\n",
       "      <td>2.0</td>\n",
       "      <td>8.0</td>\n",
       "    </tr>\n",
       "    <tr>\n",
       "      <th>173</th>\n",
       "      <td>User30f820b8db@pitt.edu</td>\n",
       "      <td>6</td>\n",
       "      <td>8320.0</td>\n",
       "      <td>4.0</td>\n",
       "      <td>1209.0</td>\n",
       "      <td>2.0</td>\n",
       "      <td>29.0</td>\n",
       "    </tr>\n",
       "    <tr>\n",
       "      <th>237</th>\n",
       "      <td>User5a6a925fe0@upmc.edu</td>\n",
       "      <td>5</td>\n",
       "      <td>6926.0</td>\n",
       "      <td>4.0</td>\n",
       "      <td>486.0</td>\n",
       "      <td>2.0</td>\n",
       "      <td>16.0</td>\n",
       "    </tr>\n",
       "    <tr>\n",
       "      <th>404</th>\n",
       "      <td>Usercbcbc7bd56@pitt.edu</td>\n",
       "      <td>4</td>\n",
       "      <td>3949.0</td>\n",
       "      <td>9.0</td>\n",
       "      <td>589.0</td>\n",
       "      <td>2.0</td>\n",
       "      <td>17.0</td>\n",
       "    </tr>\n",
       "    <tr>\n",
       "      <th>787</th>\n",
       "      <td>Userf2ee99984f@pitt.edu</td>\n",
       "      <td>2</td>\n",
       "      <td>2847.0</td>\n",
       "      <td>7.0</td>\n",
       "      <td>810.0</td>\n",
       "      <td>2.0</td>\n",
       "      <td>33.0</td>\n",
       "    </tr>\n",
       "    <tr>\n",
       "      <th>852</th>\n",
       "      <td>User2efe11e80f@pitt.edu</td>\n",
       "      <td>2</td>\n",
       "      <td>6583.5</td>\n",
       "      <td>18.0</td>\n",
       "      <td>103.5</td>\n",
       "      <td>2.0</td>\n",
       "      <td>5.5</td>\n",
       "    </tr>\n",
       "    <tr>\n",
       "      <th>906</th>\n",
       "      <td>User86eb12d445@pitt.edu</td>\n",
       "      <td>2</td>\n",
       "      <td>4999.0</td>\n",
       "      <td>23.0</td>\n",
       "      <td>512.0</td>\n",
       "      <td>2.0</td>\n",
       "      <td>16.0</td>\n",
       "    </tr>\n",
       "    <tr>\n",
       "      <th>975</th>\n",
       "      <td>User9e9f1a9f90@pitt.edu</td>\n",
       "      <td>2</td>\n",
       "      <td>10170.0</td>\n",
       "      <td>14.0</td>\n",
       "      <td>197.0</td>\n",
       "      <td>2.0</td>\n",
       "      <td>11.0</td>\n",
       "    </tr>\n",
       "    <tr>\n",
       "      <th>1034</th>\n",
       "      <td>User0780cbc4f9@upmc.edu</td>\n",
       "      <td>2</td>\n",
       "      <td>4726.0</td>\n",
       "      <td>15.0</td>\n",
       "      <td>398.0</td>\n",
       "      <td>2.0</td>\n",
       "      <td>9.0</td>\n",
       "    </tr>\n",
       "    <tr>\n",
       "      <th>1211</th>\n",
       "      <td>User04c667721f@pitt.edu</td>\n",
       "      <td>2</td>\n",
       "      <td>8023.0</td>\n",
       "      <td>16.0</td>\n",
       "      <td>489.0</td>\n",
       "      <td>2.0</td>\n",
       "      <td>12.0</td>\n",
       "    </tr>\n",
       "    <tr>\n",
       "      <th>1345</th>\n",
       "      <td>User7e755476ab@gmail.com</td>\n",
       "      <td>2</td>\n",
       "      <td>7865.0</td>\n",
       "      <td>14.0</td>\n",
       "      <td>253.0</td>\n",
       "      <td>2.0</td>\n",
       "      <td>8.0</td>\n",
       "    </tr>\n",
       "    <tr>\n",
       "      <th>1351</th>\n",
       "      <td>User44e99ddf71@netsync.net</td>\n",
       "      <td>2</td>\n",
       "      <td>7706.0</td>\n",
       "      <td>14.0</td>\n",
       "      <td>165.0</td>\n",
       "      <td>2.0</td>\n",
       "      <td>4.0</td>\n",
       "    </tr>\n",
       "    <tr>\n",
       "      <th>1585</th>\n",
       "      <td>User790e492417@pitt.edu</td>\n",
       "      <td>1</td>\n",
       "      <td>7464.0</td>\n",
       "      <td>9.0</td>\n",
       "      <td>403.0</td>\n",
       "      <td>2.0</td>\n",
       "      <td>14.0</td>\n",
       "    </tr>\n",
       "    <tr>\n",
       "      <th>1693</th>\n",
       "      <td>User785f53addb@pitt.edu</td>\n",
       "      <td>1</td>\n",
       "      <td>7549.0</td>\n",
       "      <td>13.0</td>\n",
       "      <td>310.0</td>\n",
       "      <td>2.0</td>\n",
       "      <td>11.0</td>\n",
       "    </tr>\n",
       "    <tr>\n",
       "      <th>1871</th>\n",
       "      <td>User73816f4593@retinapittsburgh.com</td>\n",
       "      <td>1</td>\n",
       "      <td>6457.0</td>\n",
       "      <td>4.0</td>\n",
       "      <td>31.0</td>\n",
       "      <td>2.0</td>\n",
       "      <td>5.0</td>\n",
       "    </tr>\n",
       "    <tr>\n",
       "      <th>2016</th>\n",
       "      <td>User8584f00735@pioneeracademics.com</td>\n",
       "      <td>1</td>\n",
       "      <td>6989.0</td>\n",
       "      <td>8.0</td>\n",
       "      <td>968.0</td>\n",
       "      <td>2.0</td>\n",
       "      <td>9.0</td>\n",
       "    </tr>\n",
       "    <tr>\n",
       "      <th>2055</th>\n",
       "      <td>User8a9c838b4b@gmail.com</td>\n",
       "      <td>1</td>\n",
       "      <td>6910.0</td>\n",
       "      <td>3.0</td>\n",
       "      <td>399.0</td>\n",
       "      <td>2.0</td>\n",
       "      <td>20.0</td>\n",
       "    </tr>\n",
       "    <tr>\n",
       "      <th>2268</th>\n",
       "      <td>User7d12f48e54@rachelsweeney.net</td>\n",
       "      <td>1</td>\n",
       "      <td>7775.0</td>\n",
       "      <td>11.0</td>\n",
       "      <td>651.0</td>\n",
       "      <td>2.0</td>\n",
       "      <td>16.0</td>\n",
       "    </tr>\n",
       "    <tr>\n",
       "      <th>2451</th>\n",
       "      <td>Userfdc32f69fc@pitt.edu</td>\n",
       "      <td>1</td>\n",
       "      <td>9286.0</td>\n",
       "      <td>5.0</td>\n",
       "      <td>195.0</td>\n",
       "      <td>2.0</td>\n",
       "      <td>7.0</td>\n",
       "    </tr>\n",
       "    <tr>\n",
       "      <th>3211</th>\n",
       "      <td>Userbe77cb24b6@aol.com</td>\n",
       "      <td>1</td>\n",
       "      <td>8978.0</td>\n",
       "      <td>9.0</td>\n",
       "      <td>127.0</td>\n",
       "      <td>2.0</td>\n",
       "      <td>7.0</td>\n",
       "    </tr>\n",
       "    <tr>\n",
       "      <th>3900</th>\n",
       "      <td>User11ccf2595b@hotmail.com</td>\n",
       "      <td>1</td>\n",
       "      <td>2721.0</td>\n",
       "      <td>10.0</td>\n",
       "      <td>244.0</td>\n",
       "      <td>2.0</td>\n",
       "      <td>5.0</td>\n",
       "    </tr>\n",
       "    <tr>\n",
       "      <th>4446</th>\n",
       "      <td>User4d339ecb11@pitt.edu</td>\n",
       "      <td>1</td>\n",
       "      <td>1523.0</td>\n",
       "      <td>8.0</td>\n",
       "      <td>1635.0</td>\n",
       "      <td>2.0</td>\n",
       "      <td>27.0</td>\n",
       "    </tr>\n",
       "  </tbody>\n",
       "</table>\n",
       "</div>"
      ],
      "text/plain": [
       "                       Deidentified_Email  Inquiry_Count    index  \\\n",
       "102               User8fd5cfb613@pitt.edu              7   1291.0   \n",
       "173               User30f820b8db@pitt.edu              6   8320.0   \n",
       "237               User5a6a925fe0@upmc.edu              5   6926.0   \n",
       "404               Usercbcbc7bd56@pitt.edu              4   3949.0   \n",
       "787               Userf2ee99984f@pitt.edu              2   2847.0   \n",
       "852               User2efe11e80f@pitt.edu              2   6583.5   \n",
       "906               User86eb12d445@pitt.edu              2   4999.0   \n",
       "975               User9e9f1a9f90@pitt.edu              2  10170.0   \n",
       "1034              User0780cbc4f9@upmc.edu              2   4726.0   \n",
       "1211              User04c667721f@pitt.edu              2   8023.0   \n",
       "1345             User7e755476ab@gmail.com              2   7865.0   \n",
       "1351           User44e99ddf71@netsync.net              2   7706.0   \n",
       "1585              User790e492417@pitt.edu              1   7464.0   \n",
       "1693              User785f53addb@pitt.edu              1   7549.0   \n",
       "1871  User73816f4593@retinapittsburgh.com              1   6457.0   \n",
       "2016  User8584f00735@pioneeracademics.com              1   6989.0   \n",
       "2055             User8a9c838b4b@gmail.com              1   6910.0   \n",
       "2268     User7d12f48e54@rachelsweeney.net              1   7775.0   \n",
       "2451              Userfdc32f69fc@pitt.edu              1   9286.0   \n",
       "3211               Userbe77cb24b6@aol.com              1   8978.0   \n",
       "3900           User11ccf2595b@hotmail.com              1   2721.0   \n",
       "4446              User4d339ecb11@pitt.edu              1   1523.0   \n",
       "\n",
       "      Wait Time (seconds)  Duration (seconds)  Rating (0-4)  Message Count  \n",
       "102                  21.0               316.0           2.0            8.0  \n",
       "173                   4.0              1209.0           2.0           29.0  \n",
       "237                   4.0               486.0           2.0           16.0  \n",
       "404                   9.0               589.0           2.0           17.0  \n",
       "787                   7.0               810.0           2.0           33.0  \n",
       "852                  18.0               103.5           2.0            5.5  \n",
       "906                  23.0               512.0           2.0           16.0  \n",
       "975                  14.0               197.0           2.0           11.0  \n",
       "1034                 15.0               398.0           2.0            9.0  \n",
       "1211                 16.0               489.0           2.0           12.0  \n",
       "1345                 14.0               253.0           2.0            8.0  \n",
       "1351                 14.0               165.0           2.0            4.0  \n",
       "1585                  9.0               403.0           2.0           14.0  \n",
       "1693                 13.0               310.0           2.0           11.0  \n",
       "1871                  4.0                31.0           2.0            5.0  \n",
       "2016                  8.0               968.0           2.0            9.0  \n",
       "2055                  3.0               399.0           2.0           20.0  \n",
       "2268                 11.0               651.0           2.0           16.0  \n",
       "2451                  5.0               195.0           2.0            7.0  \n",
       "3211                  9.0               127.0           2.0            7.0  \n",
       "3900                 10.0               244.0           2.0            5.0  \n",
       "4446                  8.0              1635.0           2.0           27.0  "
      ]
     },
     "execution_count": 67,
     "metadata": {},
     "output_type": "execute_result"
    }
   ],
   "source": [
    "users_rate_df.loc[users_rate_df['Rating (0-4)'] == 2]"
   ]
  },
  {
   "cell_type": "code",
   "execution_count": 68,
   "id": "3cf61b0b-3983-43d4-a133-5775aac8f4b8",
   "metadata": {
    "tags": []
   },
   "outputs": [
    {
     "data": {
      "text/html": [
       "<div>\n",
       "<style scoped>\n",
       "    .dataframe tbody tr th:only-of-type {\n",
       "        vertical-align: middle;\n",
       "    }\n",
       "\n",
       "    .dataframe tbody tr th {\n",
       "        vertical-align: top;\n",
       "    }\n",
       "\n",
       "    .dataframe thead th {\n",
       "        text-align: right;\n",
       "    }\n",
       "</style>\n",
       "<table border=\"1\" class=\"dataframe\">\n",
       "  <thead>\n",
       "    <tr style=\"text-align: right;\">\n",
       "      <th></th>\n",
       "      <th>Deidentified_Email</th>\n",
       "      <th>Inquiry_Count</th>\n",
       "      <th>index</th>\n",
       "      <th>Wait Time (seconds)</th>\n",
       "      <th>Duration (seconds)</th>\n",
       "      <th>Rating (0-4)</th>\n",
       "      <th>Message Count</th>\n",
       "    </tr>\n",
       "  </thead>\n",
       "  <tbody>\n",
       "    <tr>\n",
       "      <th>31</th>\n",
       "      <td>Usercc7649a816@pitt.edu</td>\n",
       "      <td>13</td>\n",
       "      <td>2698.000000</td>\n",
       "      <td>8.000000</td>\n",
       "      <td>1617.000000</td>\n",
       "      <td>3.0</td>\n",
       "      <td>30.000000</td>\n",
       "    </tr>\n",
       "    <tr>\n",
       "      <th>36</th>\n",
       "      <td>Usera2b03b1a5d@pitt.edu</td>\n",
       "      <td>12</td>\n",
       "      <td>2317.750000</td>\n",
       "      <td>10.250000</td>\n",
       "      <td>293.500000</td>\n",
       "      <td>3.0</td>\n",
       "      <td>9.750000</td>\n",
       "    </tr>\n",
       "    <tr>\n",
       "      <th>69</th>\n",
       "      <td>User165513a6a7@pitt.edu</td>\n",
       "      <td>9</td>\n",
       "      <td>4168.333333</td>\n",
       "      <td>5.666667</td>\n",
       "      <td>950.666667</td>\n",
       "      <td>3.0</td>\n",
       "      <td>10.000000</td>\n",
       "    </tr>\n",
       "    <tr>\n",
       "      <th>80</th>\n",
       "      <td>User9b0baa20a5@pitt.edu</td>\n",
       "      <td>9</td>\n",
       "      <td>8732.000000</td>\n",
       "      <td>10.000000</td>\n",
       "      <td>608.000000</td>\n",
       "      <td>3.0</td>\n",
       "      <td>18.000000</td>\n",
       "    </tr>\n",
       "    <tr>\n",
       "      <th>86</th>\n",
       "      <td>Usere542489a1d@pitt.edu</td>\n",
       "      <td>8</td>\n",
       "      <td>4713.000000</td>\n",
       "      <td>10.000000</td>\n",
       "      <td>1260.666667</td>\n",
       "      <td>3.0</td>\n",
       "      <td>23.333333</td>\n",
       "    </tr>\n",
       "    <tr>\n",
       "      <th>...</th>\n",
       "      <td>...</td>\n",
       "      <td>...</td>\n",
       "      <td>...</td>\n",
       "      <td>...</td>\n",
       "      <td>...</td>\n",
       "      <td>...</td>\n",
       "      <td>...</td>\n",
       "    </tr>\n",
       "    <tr>\n",
       "      <th>5462</th>\n",
       "      <td>User748ff90663@pitt.edu</td>\n",
       "      <td>1</td>\n",
       "      <td>4146.000000</td>\n",
       "      <td>6.000000</td>\n",
       "      <td>289.000000</td>\n",
       "      <td>3.0</td>\n",
       "      <td>15.000000</td>\n",
       "    </tr>\n",
       "    <tr>\n",
       "      <th>5482</th>\n",
       "      <td>User9685e51947@upmc.edu</td>\n",
       "      <td>1</td>\n",
       "      <td>4199.000000</td>\n",
       "      <td>7.000000</td>\n",
       "      <td>505.000000</td>\n",
       "      <td>3.0</td>\n",
       "      <td>12.000000</td>\n",
       "    </tr>\n",
       "    <tr>\n",
       "      <th>5584</th>\n",
       "      <td>User5eaf26ef1b@pitt.edu</td>\n",
       "      <td>1</td>\n",
       "      <td>3937.000000</td>\n",
       "      <td>7.000000</td>\n",
       "      <td>453.000000</td>\n",
       "      <td>3.0</td>\n",
       "      <td>10.000000</td>\n",
       "    </tr>\n",
       "    <tr>\n",
       "      <th>5586</th>\n",
       "      <td>User31cfaacbe1@comcast.net</td>\n",
       "      <td>1</td>\n",
       "      <td>3940.000000</td>\n",
       "      <td>4.000000</td>\n",
       "      <td>173.000000</td>\n",
       "      <td>3.0</td>\n",
       "      <td>6.000000</td>\n",
       "    </tr>\n",
       "    <tr>\n",
       "      <th>5587</th>\n",
       "      <td>Userc9cade3fe4@pitt.edu</td>\n",
       "      <td>1</td>\n",
       "      <td>3944.000000</td>\n",
       "      <td>5.000000</td>\n",
       "      <td>103.000000</td>\n",
       "      <td>3.0</td>\n",
       "      <td>7.000000</td>\n",
       "    </tr>\n",
       "  </tbody>\n",
       "</table>\n",
       "<p>156 rows × 7 columns</p>\n",
       "</div>"
      ],
      "text/plain": [
       "              Deidentified_Email  Inquiry_Count        index  \\\n",
       "31       Usercc7649a816@pitt.edu             13  2698.000000   \n",
       "36       Usera2b03b1a5d@pitt.edu             12  2317.750000   \n",
       "69       User165513a6a7@pitt.edu              9  4168.333333   \n",
       "80       User9b0baa20a5@pitt.edu              9  8732.000000   \n",
       "86       Usere542489a1d@pitt.edu              8  4713.000000   \n",
       "...                          ...            ...          ...   \n",
       "5462     User748ff90663@pitt.edu              1  4146.000000   \n",
       "5482     User9685e51947@upmc.edu              1  4199.000000   \n",
       "5584     User5eaf26ef1b@pitt.edu              1  3937.000000   \n",
       "5586  User31cfaacbe1@comcast.net              1  3940.000000   \n",
       "5587     Userc9cade3fe4@pitt.edu              1  3944.000000   \n",
       "\n",
       "      Wait Time (seconds)  Duration (seconds)  Rating (0-4)  Message Count  \n",
       "31               8.000000         1617.000000           3.0      30.000000  \n",
       "36              10.250000          293.500000           3.0       9.750000  \n",
       "69               5.666667          950.666667           3.0      10.000000  \n",
       "80              10.000000          608.000000           3.0      18.000000  \n",
       "86              10.000000         1260.666667           3.0      23.333333  \n",
       "...                   ...                 ...           ...            ...  \n",
       "5462             6.000000          289.000000           3.0      15.000000  \n",
       "5482             7.000000          505.000000           3.0      12.000000  \n",
       "5584             7.000000          453.000000           3.0      10.000000  \n",
       "5586             4.000000          173.000000           3.0       6.000000  \n",
       "5587             5.000000          103.000000           3.0       7.000000  \n",
       "\n",
       "[156 rows x 7 columns]"
      ]
     },
     "execution_count": 68,
     "metadata": {},
     "output_type": "execute_result"
    }
   ],
   "source": [
    "users_rate_df.loc[users_rate_df['Rating (0-4)'] == 3]"
   ]
  },
  {
   "cell_type": "markdown",
   "id": "79a8efa4-449a-4124-b375-12d853831d32",
   "metadata": {},
   "source": [
    "We can see what may have caused these lowered scores. As an initial EDA this is powerful information although surface level. I think that when we create the model, we can use advanced modeling metrics to further determine what has a statistical impact on these lowered scores versuses higher scores. "
   ]
  },
  {
   "cell_type": "markdown",
   "id": "60b258fe-215e-4df9-9c7a-75263025d636",
   "metadata": {},
   "source": [
    "### Modeling & Sentiment Analysis Plan"
   ]
  },
  {
   "cell_type": "markdown",
   "id": "030be1dd-0f99-4b14-94a6-de5cb2cba596",
   "metadata": {},
   "source": [
    "The overall goal as I see it at the moment is to use the data we have to give our best prediction at what those who did complete their surveys may have rated their experience. Then, in turn, we can use those same models to try and predict what creates a satisfactory/unsatisfactory experience for users. \n",
    "\n",
    "The road plan that I intend to follow utilizes the following steps. I believe it could be useful to test out different methods of sentiment analysis on the chat transcripts, first on the section of data with ratings associated with them. I believe to get a full understanding, combining the initial question and the full transcript could serve the model best. I will conduct varying types of sentiment analysis using different libraries in Python (NLTK, VADER, and maybe even Scikit-Learn) and compare these results with the scores given by the user. Based on the accuracy of these scores, we can see how well sentiment alone can predict what a user will rate an interaction. \n",
    "\n",
    "Additionally, using inputs such as Wait Time, Duration, Message Count, and even Deidentified Answerer to our model will help create an overall \"Satisfaction Score\" that we can use to compare to Ratings to predict responses of unanswered surveys. Cross validation and tuning can be done on new, fictional data and this process can be repeated to optimize the model.\n",
    "\n",
    "The output is where more discussion will need to be had. What is the goal of the model overall ? To predict a numeric output that matches scores like \"Rating\" or the new scoring system input this year? Is the goal more subjectvie/categorically based, looking to predict an outcome of \"Satisfactory/Unsatisfactory\". The answers to these questions will help decide what type of model we will be using."
   ]
  },
  {
   "cell_type": "markdown",
   "id": "9e41d36f-766a-4871-9484-71f436737394",
   "metadata": {},
   "source": [
    "## Transcript Deep Dive\n",
    "\n",
    "Lets look more in depth at the specific transcripts that received 1 out of 4."
   ]
  },
  {
   "cell_type": "code",
   "execution_count": 69,
   "id": "186171db-1f62-4053-88fa-76a7da8524a0",
   "metadata": {},
   "outputs": [],
   "source": [
    "one_score = chat_data.loc[chat_data['Rating (0-4)'] == 1].copy()"
   ]
  },
  {
   "cell_type": "code",
   "execution_count": 70,
   "id": "ba2a94fc-99f5-441f-b0b7-c8939f0922e6",
   "metadata": {},
   "outputs": [
    {
     "data": {
      "text/html": [
       "<div>\n",
       "<style scoped>\n",
       "    .dataframe tbody tr th:only-of-type {\n",
       "        vertical-align: middle;\n",
       "    }\n",
       "\n",
       "    .dataframe tbody tr th {\n",
       "        vertical-align: top;\n",
       "    }\n",
       "\n",
       "    .dataframe thead th {\n",
       "        text-align: right;\n",
       "    }\n",
       "</style>\n",
       "<table border=\"1\" class=\"dataframe\">\n",
       "  <thead>\n",
       "    <tr style=\"text-align: right;\">\n",
       "      <th></th>\n",
       "      <th>Chat ID</th>\n",
       "      <th>Browser</th>\n",
       "      <th>Operating System</th>\n",
       "      <th>User Agent</th>\n",
       "      <th>Referrer</th>\n",
       "      <th>Widget</th>\n",
       "      <th>Department</th>\n",
       "      <th>Timestamp</th>\n",
       "      <th>Wait Time (seconds)</th>\n",
       "      <th>Duration (seconds)</th>\n",
       "      <th>...</th>\n",
       "      <th>Transfer History</th>\n",
       "      <th>Message Count</th>\n",
       "      <th>Internal Note</th>\n",
       "      <th>Tags</th>\n",
       "      <th>Ticket ID</th>\n",
       "      <th>Unnamed: 27</th>\n",
       "      <th>Deidentified_Answerer</th>\n",
       "      <th>Deidentified_Email</th>\n",
       "      <th>Deidentified_Transcript</th>\n",
       "      <th>Deidentified_Initial_Question</th>\n",
       "    </tr>\n",
       "  </thead>\n",
       "  <tbody>\n",
       "    <tr>\n",
       "      <th>652</th>\n",
       "      <td>1926900</td>\n",
       "      <td>Edge (16.16299)</td>\n",
       "      <td>Windows</td>\n",
       "      <td>Mozilla/5.0 (Windows NT 10.0; Win64; x64) Appl...</td>\n",
       "      <td>https://www.library.pitt.edu/</td>\n",
       "      <td>Ask Us</td>\n",
       "      <td>Ask Reference</td>\n",
       "      <td>2018-04-02 13:18:10</td>\n",
       "      <td>9</td>\n",
       "      <td>131</td>\n",
       "      <td>...</td>\n",
       "      <td>NaN</td>\n",
       "      <td>7</td>\n",
       "      <td>NaN</td>\n",
       "      <td>NaN</td>\n",
       "      <td>NaN</td>\n",
       "      <td>NaN</td>\n",
       "      <td>Librarian 21</td>\n",
       "      <td>User28b2f6c696@pitt.edu</td>\n",
       "      <td>13:18:43 - Librarian 21 : [nameredacted] [name...</td>\n",
       "      <td>I can not access the page to reserve a room in...</td>\n",
       "    </tr>\n",
       "    <tr>\n",
       "      <th>713</th>\n",
       "      <td>1953138</td>\n",
       "      <td>Chrome (55.0.2883.87)</td>\n",
       "      <td>Windows</td>\n",
       "      <td>Mozilla/5.0 (Windows NT 6.1; Win64; x64) Apple...</td>\n",
       "      <td>http://pitt.libguides.com/citationhelp</td>\n",
       "      <td>Ask Us</td>\n",
       "      <td>Ask Reference</td>\n",
       "      <td>2018-04-12 17:34:41</td>\n",
       "      <td>4</td>\n",
       "      <td>191</td>\n",
       "      <td>...</td>\n",
       "      <td>NaN</td>\n",
       "      <td>18</td>\n",
       "      <td>NaN</td>\n",
       "      <td>NaN</td>\n",
       "      <td>NaN</td>\n",
       "      <td>NaN</td>\n",
       "      <td>Librarian 10</td>\n",
       "      <td>No Email Provided</td>\n",
       "      <td>17:35:18 - Librarian 10 : Hi, this is up to yo...</td>\n",
       "      <td>what style to use for com sci</td>\n",
       "    </tr>\n",
       "    <tr>\n",
       "      <th>2390</th>\n",
       "      <td>2569110</td>\n",
       "      <td>Chrome (72.0.3626.119)</td>\n",
       "      <td>Macintosh</td>\n",
       "      <td>Mozilla/5.0 (Macintosh; Intel Mac OS X 10_13_6...</td>\n",
       "      <td>https://pitt.summon.serialssolutions.com/searc...</td>\n",
       "      <td>Remove? Ask Us - Summon</td>\n",
       "      <td>Ask Reference</td>\n",
       "      <td>2019-03-05 18:07:45</td>\n",
       "      <td>5</td>\n",
       "      <td>361</td>\n",
       "      <td>...</td>\n",
       "      <td>NaN</td>\n",
       "      <td>9</td>\n",
       "      <td>NaN</td>\n",
       "      <td>NaN</td>\n",
       "      <td>NaN</td>\n",
       "      <td>NaN</td>\n",
       "      <td>Librarian 21</td>\n",
       "      <td>Usera2b03b1a5d@pitt.edu</td>\n",
       "      <td>18:08:07 - Librarian 21 : [nameredacted] [name...</td>\n",
       "      <td>Hello!\\n\\nI am starting a class on Thursday, a...</td>\n",
       "    </tr>\n",
       "    <tr>\n",
       "      <th>2431</th>\n",
       "      <td>2593476</td>\n",
       "      <td>Chrome (72.0.3626.121)</td>\n",
       "      <td>Windows</td>\n",
       "      <td>Mozilla/5.0 (Windows NT 10.0; Win64; x64) Appl...</td>\n",
       "      <td>https://www.library.pitt.edu/askus</td>\n",
       "      <td>Ask Us (Ask Us Page)</td>\n",
       "      <td>Ask Reference</td>\n",
       "      <td>2019-03-19 10:21:53</td>\n",
       "      <td>14</td>\n",
       "      <td>2955</td>\n",
       "      <td>...</td>\n",
       "      <td>NaN</td>\n",
       "      <td>89</td>\n",
       "      <td>NaN</td>\n",
       "      <td>NaN</td>\n",
       "      <td>NaN</td>\n",
       "      <td>NaN</td>\n",
       "      <td>Librarian 8</td>\n",
       "      <td>User6ec5e3a48c@upmc.edu</td>\n",
       "      <td>10:22:11 - Librarian 8 : [nameredacted] [namer...</td>\n",
       "      <td>Hi, I have a question about Endnote.</td>\n",
       "    </tr>\n",
       "    <tr>\n",
       "      <th>2436</th>\n",
       "      <td>2596182</td>\n",
       "      <td>Chrome (72.0.3626.121)</td>\n",
       "      <td>Windows</td>\n",
       "      <td>Mozilla/5.0 (Windows NT 10.0; Win64; x64) Appl...</td>\n",
       "      <td>https://library.pitt.edu/</td>\n",
       "      <td>Ask Us</td>\n",
       "      <td>Ask Reference</td>\n",
       "      <td>2019-03-20 10:44:19</td>\n",
       "      <td>15</td>\n",
       "      <td>357</td>\n",
       "      <td>...</td>\n",
       "      <td>NaN</td>\n",
       "      <td>5</td>\n",
       "      <td>NaN</td>\n",
       "      <td>NaN</td>\n",
       "      <td>NaN</td>\n",
       "      <td>NaN</td>\n",
       "      <td>Librarian 10</td>\n",
       "      <td>User705c46914f@pitt.edu</td>\n",
       "      <td>10:45:41 - Librarian 10 : [nameredacted] [name...</td>\n",
       "      <td>Are there movies available at the library abou...</td>\n",
       "    </tr>\n",
       "    <tr>\n",
       "      <th>2789</th>\n",
       "      <td>2742888</td>\n",
       "      <td>Safari (11.1.2)</td>\n",
       "      <td>Macintosh</td>\n",
       "      <td>Mozilla/5.0 (Macintosh; Intel Mac OS X 10_11_6...</td>\n",
       "      <td>https://www.library.pitt.edu/</td>\n",
       "      <td>Ask Us</td>\n",
       "      <td>Ask Reference</td>\n",
       "      <td>2019-06-19 11:53:39</td>\n",
       "      <td>8</td>\n",
       "      <td>1692</td>\n",
       "      <td>...</td>\n",
       "      <td>NaN</td>\n",
       "      <td>9</td>\n",
       "      <td>NaN</td>\n",
       "      <td>NaN</td>\n",
       "      <td>NaN</td>\n",
       "      <td>NaN</td>\n",
       "      <td>Librarian 10</td>\n",
       "      <td>User3472c693d5@pitt.edu</td>\n",
       "      <td>11:53:59 - Librarian 10 : [nameredacted] [name...</td>\n",
       "      <td>problems accessing electronic journals!  from ...</td>\n",
       "    </tr>\n",
       "    <tr>\n",
       "      <th>3210</th>\n",
       "      <td>2900906</td>\n",
       "      <td>Chrome (77.0.3865.73)</td>\n",
       "      <td>Android</td>\n",
       "      <td>Mozilla/5.0 (Linux; Android 6.0.1; SM-A800I) A...</td>\n",
       "      <td>https://pitt.libguides.com/citationhelp</td>\n",
       "      <td>Ask Us</td>\n",
       "      <td>Ask Reference</td>\n",
       "      <td>2019-09-23 13:33:48</td>\n",
       "      <td>9</td>\n",
       "      <td>92</td>\n",
       "      <td>...</td>\n",
       "      <td>NaN</td>\n",
       "      <td>5</td>\n",
       "      <td>NaN</td>\n",
       "      <td>NaN</td>\n",
       "      <td>NaN</td>\n",
       "      <td>NaN</td>\n",
       "      <td>Librarian 39</td>\n",
       "      <td>Userc4e4a0be99@gmail.com</td>\n",
       "      <td>13:34:27 - Librarian 39 : Hello just one momen...</td>\n",
       "      <td>What is the APA and MLA style in technical com...</td>\n",
       "    </tr>\n",
       "    <tr>\n",
       "      <th>3684</th>\n",
       "      <td>3221955</td>\n",
       "      <td>Chrome (79.0.3945.123)</td>\n",
       "      <td>Chrome OS</td>\n",
       "      <td>Mozilla/5.0 (X11; CrOS x86_64 12607.82.0) Appl...</td>\n",
       "      <td>https://pitt.libguides.com/citationhelp</td>\n",
       "      <td>Ask Us</td>\n",
       "      <td>Ask Reference</td>\n",
       "      <td>2020-02-21 15:12:20</td>\n",
       "      <td>11</td>\n",
       "      <td>454</td>\n",
       "      <td>...</td>\n",
       "      <td>NaN</td>\n",
       "      <td>24</td>\n",
       "      <td>NaN</td>\n",
       "      <td>NaN</td>\n",
       "      <td>NaN</td>\n",
       "      <td>NaN</td>\n",
       "      <td>Librarian 16</td>\n",
       "      <td>User779a23ca43@salidadelsolacademy.org</td>\n",
       "      <td>15:12:46 - Librarian 16 : Hello\\n15:12:50 - Us...</td>\n",
       "      <td>hlep this no help</td>\n",
       "    </tr>\n",
       "    <tr>\n",
       "      <th>3686</th>\n",
       "      <td>3221990</td>\n",
       "      <td>Chrome (79.0.3945.123)</td>\n",
       "      <td>Chrome OS</td>\n",
       "      <td>Mozilla/5.0 (X11; CrOS x86_64 12607.82.0) Appl...</td>\n",
       "      <td>https://pitt.libguides.com/citationhelp</td>\n",
       "      <td>Ask Us</td>\n",
       "      <td>Ask Reference</td>\n",
       "      <td>2020-02-21 15:21:36</td>\n",
       "      <td>45</td>\n",
       "      <td>36</td>\n",
       "      <td>...</td>\n",
       "      <td>NaN</td>\n",
       "      <td>2</td>\n",
       "      <td>NaN</td>\n",
       "      <td>NaN</td>\n",
       "      <td>NaN</td>\n",
       "      <td>NaN</td>\n",
       "      <td>Librarian 24</td>\n",
       "      <td>User779a23ca43@salidadelsolacademy.org</td>\n",
       "      <td>15:22:33 - User779a23ca43 : r u from charlie [...</td>\n",
       "      <td>help</td>\n",
       "    </tr>\n",
       "    <tr>\n",
       "      <th>3721</th>\n",
       "      <td>3256724</td>\n",
       "      <td>Chrome (80.0.3987.132)</td>\n",
       "      <td>Windows</td>\n",
       "      <td>Mozilla/5.0 (Windows NT 6.1) AppleWebKit/537.3...</td>\n",
       "      <td>https://pitt.libguides.com/c.php?g=12678&amp;amp;p...</td>\n",
       "      <td>Ask Us</td>\n",
       "      <td>Ask Reference</td>\n",
       "      <td>2020-03-06 13:08:11</td>\n",
       "      <td>6</td>\n",
       "      <td>545</td>\n",
       "      <td>...</td>\n",
       "      <td>NaN</td>\n",
       "      <td>16</td>\n",
       "      <td>NaN</td>\n",
       "      <td>NaN</td>\n",
       "      <td>NaN</td>\n",
       "      <td>NaN</td>\n",
       "      <td>Librarian 12</td>\n",
       "      <td>User868920400d@gmai.com</td>\n",
       "      <td>13:08:24 - Librarian 12 : Hi, how can I help y...</td>\n",
       "      <td>hi</td>\n",
       "    </tr>\n",
       "    <tr>\n",
       "      <th>3971</th>\n",
       "      <td>3439795</td>\n",
       "      <td>Chrome (81.0.4044.94)</td>\n",
       "      <td>Chrome OS</td>\n",
       "      <td>Mozilla/5.0 (X11; CrOS x86_64 12871.67.0) Appl...</td>\n",
       "      <td>https://pitt.libguides.com/citationhelp</td>\n",
       "      <td>Ask Us</td>\n",
       "      <td>Ask Reference</td>\n",
       "      <td>2020-04-16 15:37:52</td>\n",
       "      <td>6</td>\n",
       "      <td>11</td>\n",
       "      <td>...</td>\n",
       "      <td>NaN</td>\n",
       "      <td>2</td>\n",
       "      <td>NaN</td>\n",
       "      <td>NaN</td>\n",
       "      <td>NaN</td>\n",
       "      <td>NaN</td>\n",
       "      <td>Librarian 50</td>\n",
       "      <td>No Email Provided</td>\n",
       "      <td>15:38:05 - Librarian 50 : Hello!\\n15:38:16 - P...</td>\n",
       "      <td>bitch</td>\n",
       "    </tr>\n",
       "    <tr>\n",
       "      <th>4783</th>\n",
       "      <td>4065536</td>\n",
       "      <td>Firefox (79.0)</td>\n",
       "      <td>Macintosh</td>\n",
       "      <td>Mozilla/5.0 (Macintosh; Intel Mac OS X 10.15; ...</td>\n",
       "      <td>https://www.library.pitt.edu/</td>\n",
       "      <td>Ask Us</td>\n",
       "      <td>Ask Reference</td>\n",
       "      <td>2020-08-13 10:28:46</td>\n",
       "      <td>8</td>\n",
       "      <td>993</td>\n",
       "      <td>...</td>\n",
       "      <td>NaN</td>\n",
       "      <td>8</td>\n",
       "      <td>NaN</td>\n",
       "      <td>NaN</td>\n",
       "      <td>NaN</td>\n",
       "      <td>NaN</td>\n",
       "      <td>Librarian 2</td>\n",
       "      <td>Usercf6c9004f0@pitt.edu</td>\n",
       "      <td>10:31:48 - Librarian 2 : Hello, I'll take a lo...</td>\n",
       "      <td>I am looking for Musketeers of Pig Alley by DW...</td>\n",
       "    </tr>\n",
       "    <tr>\n",
       "      <th>4817</th>\n",
       "      <td>4083157</td>\n",
       "      <td>Firefox (79.0)</td>\n",
       "      <td>Windows</td>\n",
       "      <td>Mozilla/5.0 (Windows NT 10.0; Win64; x64; rv:7...</td>\n",
       "      <td>https://www.library.pitt.edu/askus</td>\n",
       "      <td>Ask Us (Ask Us Page)</td>\n",
       "      <td>Ask Reference</td>\n",
       "      <td>2020-08-17 10:41:41</td>\n",
       "      <td>1251</td>\n",
       "      <td>952</td>\n",
       "      <td>...</td>\n",
       "      <td>NaN</td>\n",
       "      <td>8</td>\n",
       "      <td>NaN</td>\n",
       "      <td>NaN</td>\n",
       "      <td>NaN</td>\n",
       "      <td>NaN</td>\n",
       "      <td>Librarian 51</td>\n",
       "      <td>Usercae096c420@pitt.edu</td>\n",
       "      <td>11:03:02 - Librarian 51 : [nameredacted] [name...</td>\n",
       "      <td>I need three DVDs to teach my film course star...</td>\n",
       "    </tr>\n",
       "    <tr>\n",
       "      <th>4894</th>\n",
       "      <td>4109515</td>\n",
       "      <td>Edge (84.0.522.61)</td>\n",
       "      <td>Windows</td>\n",
       "      <td>Mozilla/5.0 (Windows NT 10.0; Win64; x64) Appl...</td>\n",
       "      <td>https://www.library.pitt.edu/ask-us</td>\n",
       "      <td>Ask Us (Ask Us Page)</td>\n",
       "      <td>Ask Reference</td>\n",
       "      <td>2020-08-19 15:51:48</td>\n",
       "      <td>13</td>\n",
       "      <td>1045</td>\n",
       "      <td>...</td>\n",
       "      <td>NaN</td>\n",
       "      <td>11</td>\n",
       "      <td>NaN</td>\n",
       "      <td>NaN</td>\n",
       "      <td>NaN</td>\n",
       "      <td>NaN</td>\n",
       "      <td>Librarian 57</td>\n",
       "      <td>Userd43e22b7e1@pitt.edu</td>\n",
       "      <td>15:52:19 - Librarian 57 : Hello, how can I hel...</td>\n",
       "      <td>[linkredacted]</td>\n",
       "    </tr>\n",
       "    <tr>\n",
       "      <th>4917</th>\n",
       "      <td>4117960</td>\n",
       "      <td>Safari (13.1.2)</td>\n",
       "      <td>Macintosh</td>\n",
       "      <td>Mozilla/5.0 (Macintosh; Intel Mac OS X 10_15_6...</td>\n",
       "      <td>https://pitt.primo.exlibrisgroup.com/discovery...</td>\n",
       "      <td>Ask Us (NEW)</td>\n",
       "      <td>Ask Reference</td>\n",
       "      <td>2020-08-20 14:55:48</td>\n",
       "      <td>7</td>\n",
       "      <td>426</td>\n",
       "      <td>...</td>\n",
       "      <td>NaN</td>\n",
       "      <td>10</td>\n",
       "      <td>NaN</td>\n",
       "      <td>NaN</td>\n",
       "      <td>NaN</td>\n",
       "      <td>NaN</td>\n",
       "      <td>Librarian 61</td>\n",
       "      <td>Userb1cab7154b@pitt.edu</td>\n",
       "      <td>14:56:14 - Librarian 61 : Hello... let me take...</td>\n",
       "      <td>How can I see the chronicle of education throu...</td>\n",
       "    </tr>\n",
       "    <tr>\n",
       "      <th>5100</th>\n",
       "      <td>4215356</td>\n",
       "      <td>Safari (13.1.2)</td>\n",
       "      <td>Macintosh</td>\n",
       "      <td>Mozilla/5.0 (Macintosh; Intel Mac OS X 10_14_6...</td>\n",
       "      <td>https://www.library.pitt.edu/ask-us</td>\n",
       "      <td>Ask Us (Ask Us Page)</td>\n",
       "      <td>Ask Reference</td>\n",
       "      <td>2020-09-01 12:48:41</td>\n",
       "      <td>16</td>\n",
       "      <td>1036</td>\n",
       "      <td>...</td>\n",
       "      <td>NaN</td>\n",
       "      <td>12</td>\n",
       "      <td>NaN</td>\n",
       "      <td>NaN</td>\n",
       "      <td>NaN</td>\n",
       "      <td>NaN</td>\n",
       "      <td>Librarian 23</td>\n",
       "      <td>User24ea1178e3@pitt.edu</td>\n",
       "      <td>12:49:34 - Librarian 23 : [nameredacted], I am...</td>\n",
       "      <td>trying to call in, but no one picking up the[p...</td>\n",
       "    </tr>\n",
       "    <tr>\n",
       "      <th>5237</th>\n",
       "      <td>4333383</td>\n",
       "      <td>Chrome (84.0.4147.125)</td>\n",
       "      <td>Macintosh</td>\n",
       "      <td>Mozilla/5.0 (Macintosh; Intel Mac OS X 10_15_6...</td>\n",
       "      <td>https://pitt.primo.exlibrisgroup.com/discovery...</td>\n",
       "      <td>Ask Us (NEW)</td>\n",
       "      <td>Ask Reference</td>\n",
       "      <td>2020-09-15 14:01:08</td>\n",
       "      <td>7</td>\n",
       "      <td>519</td>\n",
       "      <td>...</td>\n",
       "      <td>NaN</td>\n",
       "      <td>7</td>\n",
       "      <td>NaN</td>\n",
       "      <td>NaN</td>\n",
       "      <td>NaN</td>\n",
       "      <td>NaN</td>\n",
       "      <td>Librarian 45</td>\n",
       "      <td>User23119a5db6@pitt.edu</td>\n",
       "      <td>14:01:53 - Librarian 45 : Hello! I am not too ...</td>\n",
       "      <td>since the format of the online interface has c...</td>\n",
       "    </tr>\n",
       "    <tr>\n",
       "      <th>6038</th>\n",
       "      <td>5265166</td>\n",
       "      <td>Chrome (74.0.3729.136)</td>\n",
       "      <td>Android</td>\n",
       "      <td>Mozilla/5.0 (Linux; Android 9; TECNO KC6) Appl...</td>\n",
       "      <td>https://pitt.libguides.com/c.php?g=12378&amp;amp;p...</td>\n",
       "      <td>Ask Us (NEW)</td>\n",
       "      <td>Ask Reference</td>\n",
       "      <td>2021-01-31 15:43:52</td>\n",
       "      <td>11</td>\n",
       "      <td>116</td>\n",
       "      <td>...</td>\n",
       "      <td>NaN</td>\n",
       "      <td>5</td>\n",
       "      <td>NaN</td>\n",
       "      <td>NaN</td>\n",
       "      <td>NaN</td>\n",
       "      <td>NaN</td>\n",
       "      <td>Librarian 41</td>\n",
       "      <td>No Email Provided</td>\n",
       "      <td>15:44:10 - Librarian 41 : hello, how ULSMember...</td>\n",
       "      <td>I need their language</td>\n",
       "    </tr>\n",
       "    <tr>\n",
       "      <th>6583</th>\n",
       "      <td>5670180</td>\n",
       "      <td>Chrome (83.0.4103.97)</td>\n",
       "      <td>Windows</td>\n",
       "      <td>Mozilla/5.0 (Windows NT 10.0; Win64; x64) Appl...</td>\n",
       "      <td>http://library.pitt.edu/ask-us</td>\n",
       "      <td>Ask Us (Ask Us Page)</td>\n",
       "      <td>Ask Reference</td>\n",
       "      <td>2021-03-30 15:34:50</td>\n",
       "      <td>13</td>\n",
       "      <td>10</td>\n",
       "      <td>...</td>\n",
       "      <td>NaN</td>\n",
       "      <td>3</td>\n",
       "      <td>NaN</td>\n",
       "      <td>NaN</td>\n",
       "      <td>NaN</td>\n",
       "      <td>NaN</td>\n",
       "      <td>Librarian 12</td>\n",
       "      <td>User2efe11e80f@pitt.edu</td>\n",
       "      <td>15:35:19 - Librarian 12 : Hi, [nameredacted] -...</td>\n",
       "      <td>thesis</td>\n",
       "    </tr>\n",
       "    <tr>\n",
       "      <th>7027</th>\n",
       "      <td>6068893</td>\n",
       "      <td>Chrome (70.0.3538.110)</td>\n",
       "      <td>Android</td>\n",
       "      <td>Mozilla/5.0 (Linux; Android 8.1.0; TECNO F1 Bu...</td>\n",
       "      <td>https://pitt.libguides.com/c.php?g=542672&amp;amp;...</td>\n",
       "      <td>Ask Us (NEW)</td>\n",
       "      <td>Ask Reference</td>\n",
       "      <td>2021-06-14 14:38:31</td>\n",
       "      <td>8</td>\n",
       "      <td>0</td>\n",
       "      <td>...</td>\n",
       "      <td>NaN</td>\n",
       "      <td>1</td>\n",
       "      <td>NaN</td>\n",
       "      <td>NaN</td>\n",
       "      <td>NaN</td>\n",
       "      <td>NaN</td>\n",
       "      <td>Librarian 41</td>\n",
       "      <td>No Email Provided</td>\n",
       "      <td>14:39:02 - Patron : How are you?\\n</td>\n",
       "      <td>Yuhrhhhfhhf</td>\n",
       "    </tr>\n",
       "    <tr>\n",
       "      <th>7519</th>\n",
       "      <td>6570239</td>\n",
       "      <td>Chrome (93.0.4577.82)</td>\n",
       "      <td>Windows</td>\n",
       "      <td>Mozilla/5.0 (Windows NT 10.0; Win64; x64) Appl...</td>\n",
       "      <td>https://pitt.primo.exlibrisgroup.com/discovery...</td>\n",
       "      <td>Ask Us (NEW)</td>\n",
       "      <td>Ask Reference</td>\n",
       "      <td>2021-09-27 15:21:44</td>\n",
       "      <td>5</td>\n",
       "      <td>178</td>\n",
       "      <td>...</td>\n",
       "      <td>NaN</td>\n",
       "      <td>2</td>\n",
       "      <td>NaN</td>\n",
       "      <td>NaN</td>\n",
       "      <td>NaN</td>\n",
       "      <td>NaN</td>\n",
       "      <td>Librarian 80</td>\n",
       "      <td>Usered22ce3075@pitt.edu</td>\n",
       "      <td>15:26:42 - Usered22ce3075 : Hello?\\n15:29:40 -...</td>\n",
       "      <td>The link for this article doesn't take you to ...</td>\n",
       "    </tr>\n",
       "    <tr>\n",
       "      <th>7829</th>\n",
       "      <td>6972549</td>\n",
       "      <td>Chrome (94.0.4606.71)</td>\n",
       "      <td>Windows</td>\n",
       "      <td>Mozilla/5.0 (Windows NT 10.0; Win64; x64) Appl...</td>\n",
       "      <td>https://www.library.pitt.edu/ask-us</td>\n",
       "      <td>Ask Us (Ask Us Page)</td>\n",
       "      <td>Ask Reference</td>\n",
       "      <td>2021-12-06 13:21:18</td>\n",
       "      <td>3</td>\n",
       "      <td>91</td>\n",
       "      <td>...</td>\n",
       "      <td>NaN</td>\n",
       "      <td>5</td>\n",
       "      <td>NaN</td>\n",
       "      <td>NaN</td>\n",
       "      <td>NaN</td>\n",
       "      <td>NaN</td>\n",
       "      <td>Librarian 41</td>\n",
       "      <td>Userf2611b7fab@yahoo.com</td>\n",
       "      <td>13:21:30 - Librarian 41 : Hello, thank you for...</td>\n",
       "      <td>Hello wanted to know if I can use the library ...</td>\n",
       "    </tr>\n",
       "    <tr>\n",
       "      <th>8070</th>\n",
       "      <td>7293558</td>\n",
       "      <td>Chrome (98.0.4758.102)</td>\n",
       "      <td>Macintosh</td>\n",
       "      <td>Mozilla/5.0 (Macintosh; Intel Mac OS X 10_14_6...</td>\n",
       "      <td>https://www.library.pitt.edu/ask-us</td>\n",
       "      <td>Ask Us (Ask Us Page)</td>\n",
       "      <td>Ask Reference</td>\n",
       "      <td>2022-02-16 11:03:19</td>\n",
       "      <td>8</td>\n",
       "      <td>1044</td>\n",
       "      <td>...</td>\n",
       "      <td>NaN</td>\n",
       "      <td>11</td>\n",
       "      <td>NaN</td>\n",
       "      <td>NaN</td>\n",
       "      <td>NaN</td>\n",
       "      <td>NaN</td>\n",
       "      <td>Librarian 23</td>\n",
       "      <td>Userae2e82694b@upmc.edu</td>\n",
       "      <td>11:03:36 - Userae2e82694b : [nameredacted] [na...</td>\n",
       "      <td>I am trying to have access to this article. T ...</td>\n",
       "    </tr>\n",
       "    <tr>\n",
       "      <th>8129</th>\n",
       "      <td>7370821</td>\n",
       "      <td>Safari (15.0)</td>\n",
       "      <td>Macintosh</td>\n",
       "      <td>Mozilla/5.0 (Macintosh; Intel Mac OS X 10_15_7...</td>\n",
       "      <td>https://library.pitt.edu/ask-archivist</td>\n",
       "      <td>Ask Us (NEW)</td>\n",
       "      <td>Ask Reference</td>\n",
       "      <td>2022-03-02 13:34:08</td>\n",
       "      <td>7</td>\n",
       "      <td>506</td>\n",
       "      <td>...</td>\n",
       "      <td>NaN</td>\n",
       "      <td>18</td>\n",
       "      <td>NaN</td>\n",
       "      <td>NaN</td>\n",
       "      <td>NaN</td>\n",
       "      <td>NaN</td>\n",
       "      <td>Librarian 50</td>\n",
       "      <td>Userd96a855aa2@charter.net</td>\n",
       "      <td>13:34:45 - Userd96a855aa2 : I would like to ac...</td>\n",
       "      <td>I would like to explore access to the Jay F. R...</td>\n",
       "    </tr>\n",
       "    <tr>\n",
       "      <th>8670</th>\n",
       "      <td>8001834</td>\n",
       "      <td>Chrome (103.0.0.0)</td>\n",
       "      <td>Macintosh</td>\n",
       "      <td>Mozilla/5.0 (Macintosh; Intel Mac OS X 10_13_6...</td>\n",
       "      <td>https://etd.pitt.edu/</td>\n",
       "      <td>Ask an ETD Specialist (slidetest) [REMOVE?]</td>\n",
       "      <td>ETD Support</td>\n",
       "      <td>2022-08-05 09:48:31</td>\n",
       "      <td>5</td>\n",
       "      <td>371</td>\n",
       "      <td>...</td>\n",
       "      <td>NaN</td>\n",
       "      <td>9</td>\n",
       "      <td>NaN</td>\n",
       "      <td>NaN</td>\n",
       "      <td>0.0</td>\n",
       "      <td>NaN</td>\n",
       "      <td>Librarian 82</td>\n",
       "      <td>User329892aa0e@pitt.edu</td>\n",
       "      <td>09:48:44 - Librarian 82 : Hi how can we help\\n...</td>\n",
       "      <td>NaN</td>\n",
       "    </tr>\n",
       "    <tr>\n",
       "      <th>9381</th>\n",
       "      <td>8935121</td>\n",
       "      <td>Firefox (110.0)</td>\n",
       "      <td>Windows</td>\n",
       "      <td>Mozilla/5.0 (Windows NT 10.0; Win64; x64; rv:1...</td>\n",
       "      <td>https://www.library.pitt.edu/hillman-library</td>\n",
       "      <td>Ask Us (PittCat &amp;amp; Public Slider) (New API)</td>\n",
       "      <td>Ask Reference</td>\n",
       "      <td>2023-03-06 10:09:01</td>\n",
       "      <td>4</td>\n",
       "      <td>111</td>\n",
       "      <td>...</td>\n",
       "      <td>NaN</td>\n",
       "      <td>7</td>\n",
       "      <td>NaN</td>\n",
       "      <td>NaN</td>\n",
       "      <td>11107034.0</td>\n",
       "      <td>NaN</td>\n",
       "      <td>Librarian 38</td>\n",
       "      <td>Userf9e1d818b1@pitt.edu</td>\n",
       "      <td>10:09:13 - Userf9e1d818b1 : Hi, [nameredacted]...</td>\n",
       "      <td>Hi. I have a book out that is due today; howev...</td>\n",
       "    </tr>\n",
       "    <tr>\n",
       "      <th>9765</th>\n",
       "      <td>9397386</td>\n",
       "      <td>Edge (113.0.1774.50)</td>\n",
       "      <td>Windows</td>\n",
       "      <td>Mozilla/5.0 (Windows NT 10.0; Win64; x64) Appl...</td>\n",
       "      <td>https://pitt.primo.exlibrisgroup.com/discovery...</td>\n",
       "      <td>Ask Us (PittCat &amp;amp; Public Slider) (New API)</td>\n",
       "      <td>Ask Reference</td>\n",
       "      <td>2023-07-06 14:32:21</td>\n",
       "      <td>10</td>\n",
       "      <td>605</td>\n",
       "      <td>...</td>\n",
       "      <td>NaN</td>\n",
       "      <td>6</td>\n",
       "      <td>NaN</td>\n",
       "      <td>NaN</td>\n",
       "      <td>0.0</td>\n",
       "      <td>NaN</td>\n",
       "      <td>Librarian 72</td>\n",
       "      <td>User679c7810b9@upmc.edu</td>\n",
       "      <td>14:32:40 - Librarian 72 : [nameredacted] [name...</td>\n",
       "      <td>I need this book. Do you have it?\\n\\nThe Bethe...</td>\n",
       "    </tr>\n",
       "    <tr>\n",
       "      <th>10136</th>\n",
       "      <td>9896017</td>\n",
       "      <td>Chrome (118.0.0.0)</td>\n",
       "      <td>Chrome OS</td>\n",
       "      <td>Mozilla/5.0 (X11; CrOS x86_64 14541.0.0) Apple...</td>\n",
       "      <td>https://www.library.pitt.edu/foster-faq</td>\n",
       "      <td>Ask Us (PittCat &amp;amp; Public Slider) (New API)</td>\n",
       "      <td>Ask Reference</td>\n",
       "      <td>2023-10-30 13:50:26</td>\n",
       "      <td>8</td>\n",
       "      <td>222</td>\n",
       "      <td>...</td>\n",
       "      <td>NaN</td>\n",
       "      <td>6</td>\n",
       "      <td>NaN</td>\n",
       "      <td>NaN</td>\n",
       "      <td>0.0</td>\n",
       "      <td>NaN</td>\n",
       "      <td>Librarian 19</td>\n",
       "      <td>User2aad6a3e8f@r-pschools.com</td>\n",
       "      <td>13:51:43 - Librarian 19 : Hello, [nameredacted...</td>\n",
       "      <td>what football team did stephen like</td>\n",
       "    </tr>\n",
       "  </tbody>\n",
       "</table>\n",
       "<p>28 rows × 23 columns</p>\n",
       "</div>"
      ],
      "text/plain": [
       "       Chat ID                 Browser Operating System  \\\n",
       "652    1926900         Edge (16.16299)          Windows   \n",
       "713    1953138   Chrome (55.0.2883.87)          Windows   \n",
       "2390   2569110  Chrome (72.0.3626.119)        Macintosh   \n",
       "2431   2593476  Chrome (72.0.3626.121)          Windows   \n",
       "2436   2596182  Chrome (72.0.3626.121)          Windows   \n",
       "2789   2742888         Safari (11.1.2)        Macintosh   \n",
       "3210   2900906   Chrome (77.0.3865.73)          Android   \n",
       "3684   3221955  Chrome (79.0.3945.123)        Chrome OS   \n",
       "3686   3221990  Chrome (79.0.3945.123)        Chrome OS   \n",
       "3721   3256724  Chrome (80.0.3987.132)          Windows   \n",
       "3971   3439795   Chrome (81.0.4044.94)        Chrome OS   \n",
       "4783   4065536          Firefox (79.0)        Macintosh   \n",
       "4817   4083157          Firefox (79.0)          Windows   \n",
       "4894   4109515      Edge (84.0.522.61)          Windows   \n",
       "4917   4117960         Safari (13.1.2)        Macintosh   \n",
       "5100   4215356         Safari (13.1.2)        Macintosh   \n",
       "5237   4333383  Chrome (84.0.4147.125)        Macintosh   \n",
       "6038   5265166  Chrome (74.0.3729.136)          Android   \n",
       "6583   5670180   Chrome (83.0.4103.97)          Windows   \n",
       "7027   6068893  Chrome (70.0.3538.110)          Android   \n",
       "7519   6570239   Chrome (93.0.4577.82)          Windows   \n",
       "7829   6972549   Chrome (94.0.4606.71)          Windows   \n",
       "8070   7293558  Chrome (98.0.4758.102)        Macintosh   \n",
       "8129   7370821           Safari (15.0)        Macintosh   \n",
       "8670   8001834      Chrome (103.0.0.0)        Macintosh   \n",
       "9381   8935121         Firefox (110.0)          Windows   \n",
       "9765   9397386    Edge (113.0.1774.50)          Windows   \n",
       "10136  9896017      Chrome (118.0.0.0)        Chrome OS   \n",
       "\n",
       "                                              User Agent  \\\n",
       "652    Mozilla/5.0 (Windows NT 10.0; Win64; x64) Appl...   \n",
       "713    Mozilla/5.0 (Windows NT 6.1; Win64; x64) Apple...   \n",
       "2390   Mozilla/5.0 (Macintosh; Intel Mac OS X 10_13_6...   \n",
       "2431   Mozilla/5.0 (Windows NT 10.0; Win64; x64) Appl...   \n",
       "2436   Mozilla/5.0 (Windows NT 10.0; Win64; x64) Appl...   \n",
       "2789   Mozilla/5.0 (Macintosh; Intel Mac OS X 10_11_6...   \n",
       "3210   Mozilla/5.0 (Linux; Android 6.0.1; SM-A800I) A...   \n",
       "3684   Mozilla/5.0 (X11; CrOS x86_64 12607.82.0) Appl...   \n",
       "3686   Mozilla/5.0 (X11; CrOS x86_64 12607.82.0) Appl...   \n",
       "3721   Mozilla/5.0 (Windows NT 6.1) AppleWebKit/537.3...   \n",
       "3971   Mozilla/5.0 (X11; CrOS x86_64 12871.67.0) Appl...   \n",
       "4783   Mozilla/5.0 (Macintosh; Intel Mac OS X 10.15; ...   \n",
       "4817   Mozilla/5.0 (Windows NT 10.0; Win64; x64; rv:7...   \n",
       "4894   Mozilla/5.0 (Windows NT 10.0; Win64; x64) Appl...   \n",
       "4917   Mozilla/5.0 (Macintosh; Intel Mac OS X 10_15_6...   \n",
       "5100   Mozilla/5.0 (Macintosh; Intel Mac OS X 10_14_6...   \n",
       "5237   Mozilla/5.0 (Macintosh; Intel Mac OS X 10_15_6...   \n",
       "6038   Mozilla/5.0 (Linux; Android 9; TECNO KC6) Appl...   \n",
       "6583   Mozilla/5.0 (Windows NT 10.0; Win64; x64) Appl...   \n",
       "7027   Mozilla/5.0 (Linux; Android 8.1.0; TECNO F1 Bu...   \n",
       "7519   Mozilla/5.0 (Windows NT 10.0; Win64; x64) Appl...   \n",
       "7829   Mozilla/5.0 (Windows NT 10.0; Win64; x64) Appl...   \n",
       "8070   Mozilla/5.0 (Macintosh; Intel Mac OS X 10_14_6...   \n",
       "8129   Mozilla/5.0 (Macintosh; Intel Mac OS X 10_15_7...   \n",
       "8670   Mozilla/5.0 (Macintosh; Intel Mac OS X 10_13_6...   \n",
       "9381   Mozilla/5.0 (Windows NT 10.0; Win64; x64; rv:1...   \n",
       "9765   Mozilla/5.0 (Windows NT 10.0; Win64; x64) Appl...   \n",
       "10136  Mozilla/5.0 (X11; CrOS x86_64 14541.0.0) Apple...   \n",
       "\n",
       "                                                Referrer  \\\n",
       "652                        https://www.library.pitt.edu/   \n",
       "713               http://pitt.libguides.com/citationhelp   \n",
       "2390   https://pitt.summon.serialssolutions.com/searc...   \n",
       "2431                  https://www.library.pitt.edu/askus   \n",
       "2436                           https://library.pitt.edu/   \n",
       "2789                       https://www.library.pitt.edu/   \n",
       "3210             https://pitt.libguides.com/citationhelp   \n",
       "3684             https://pitt.libguides.com/citationhelp   \n",
       "3686             https://pitt.libguides.com/citationhelp   \n",
       "3721   https://pitt.libguides.com/c.php?g=12678&amp;p...   \n",
       "3971             https://pitt.libguides.com/citationhelp   \n",
       "4783                       https://www.library.pitt.edu/   \n",
       "4817                  https://www.library.pitt.edu/askus   \n",
       "4894                 https://www.library.pitt.edu/ask-us   \n",
       "4917   https://pitt.primo.exlibrisgroup.com/discovery...   \n",
       "5100                 https://www.library.pitt.edu/ask-us   \n",
       "5237   https://pitt.primo.exlibrisgroup.com/discovery...   \n",
       "6038   https://pitt.libguides.com/c.php?g=12378&amp;p...   \n",
       "6583                      http://library.pitt.edu/ask-us   \n",
       "7027   https://pitt.libguides.com/c.php?g=542672&amp;...   \n",
       "7519   https://pitt.primo.exlibrisgroup.com/discovery...   \n",
       "7829                 https://www.library.pitt.edu/ask-us   \n",
       "8070                 https://www.library.pitt.edu/ask-us   \n",
       "8129              https://library.pitt.edu/ask-archivist   \n",
       "8670                               https://etd.pitt.edu/   \n",
       "9381        https://www.library.pitt.edu/hillman-library   \n",
       "9765   https://pitt.primo.exlibrisgroup.com/discovery...   \n",
       "10136            https://www.library.pitt.edu/foster-faq   \n",
       "\n",
       "                                               Widget     Department  \\\n",
       "652                                            Ask Us  Ask Reference   \n",
       "713                                            Ask Us  Ask Reference   \n",
       "2390                          Remove? Ask Us - Summon  Ask Reference   \n",
       "2431                             Ask Us (Ask Us Page)  Ask Reference   \n",
       "2436                                           Ask Us  Ask Reference   \n",
       "2789                                           Ask Us  Ask Reference   \n",
       "3210                                           Ask Us  Ask Reference   \n",
       "3684                                           Ask Us  Ask Reference   \n",
       "3686                                           Ask Us  Ask Reference   \n",
       "3721                                           Ask Us  Ask Reference   \n",
       "3971                                           Ask Us  Ask Reference   \n",
       "4783                                           Ask Us  Ask Reference   \n",
       "4817                             Ask Us (Ask Us Page)  Ask Reference   \n",
       "4894                             Ask Us (Ask Us Page)  Ask Reference   \n",
       "4917                                     Ask Us (NEW)  Ask Reference   \n",
       "5100                             Ask Us (Ask Us Page)  Ask Reference   \n",
       "5237                                     Ask Us (NEW)  Ask Reference   \n",
       "6038                                     Ask Us (NEW)  Ask Reference   \n",
       "6583                             Ask Us (Ask Us Page)  Ask Reference   \n",
       "7027                                     Ask Us (NEW)  Ask Reference   \n",
       "7519                                     Ask Us (NEW)  Ask Reference   \n",
       "7829                             Ask Us (Ask Us Page)  Ask Reference   \n",
       "8070                             Ask Us (Ask Us Page)  Ask Reference   \n",
       "8129                                     Ask Us (NEW)  Ask Reference   \n",
       "8670      Ask an ETD Specialist (slidetest) [REMOVE?]    ETD Support   \n",
       "9381   Ask Us (PittCat &amp; Public Slider) (New API)  Ask Reference   \n",
       "9765   Ask Us (PittCat &amp; Public Slider) (New API)  Ask Reference   \n",
       "10136  Ask Us (PittCat &amp; Public Slider) (New API)  Ask Reference   \n",
       "\n",
       "                 Timestamp  Wait Time (seconds)  Duration (seconds)  ...  \\\n",
       "652    2018-04-02 13:18:10                    9                 131  ...   \n",
       "713    2018-04-12 17:34:41                    4                 191  ...   \n",
       "2390   2019-03-05 18:07:45                    5                 361  ...   \n",
       "2431   2019-03-19 10:21:53                   14                2955  ...   \n",
       "2436   2019-03-20 10:44:19                   15                 357  ...   \n",
       "2789   2019-06-19 11:53:39                    8                1692  ...   \n",
       "3210   2019-09-23 13:33:48                    9                  92  ...   \n",
       "3684   2020-02-21 15:12:20                   11                 454  ...   \n",
       "3686   2020-02-21 15:21:36                   45                  36  ...   \n",
       "3721   2020-03-06 13:08:11                    6                 545  ...   \n",
       "3971   2020-04-16 15:37:52                    6                  11  ...   \n",
       "4783   2020-08-13 10:28:46                    8                 993  ...   \n",
       "4817   2020-08-17 10:41:41                 1251                 952  ...   \n",
       "4894   2020-08-19 15:51:48                   13                1045  ...   \n",
       "4917   2020-08-20 14:55:48                    7                 426  ...   \n",
       "5100   2020-09-01 12:48:41                   16                1036  ...   \n",
       "5237   2020-09-15 14:01:08                    7                 519  ...   \n",
       "6038   2021-01-31 15:43:52                   11                 116  ...   \n",
       "6583   2021-03-30 15:34:50                   13                  10  ...   \n",
       "7027   2021-06-14 14:38:31                    8                   0  ...   \n",
       "7519   2021-09-27 15:21:44                    5                 178  ...   \n",
       "7829   2021-12-06 13:21:18                    3                  91  ...   \n",
       "8070   2022-02-16 11:03:19                    8                1044  ...   \n",
       "8129   2022-03-02 13:34:08                    7                 506  ...   \n",
       "8670   2022-08-05 09:48:31                    5                 371  ...   \n",
       "9381   2023-03-06 10:09:01                    4                 111  ...   \n",
       "9765   2023-07-06 14:32:21                   10                 605  ...   \n",
       "10136  2023-10-30 13:50:26                    8                 222  ...   \n",
       "\n",
       "      Transfer History  Message Count Internal Note Tags   Ticket ID  \\\n",
       "652                NaN              7           NaN  NaN         NaN   \n",
       "713                NaN             18           NaN  NaN         NaN   \n",
       "2390               NaN              9           NaN  NaN         NaN   \n",
       "2431               NaN             89           NaN  NaN         NaN   \n",
       "2436               NaN              5           NaN  NaN         NaN   \n",
       "2789               NaN              9           NaN  NaN         NaN   \n",
       "3210               NaN              5           NaN  NaN         NaN   \n",
       "3684               NaN             24           NaN  NaN         NaN   \n",
       "3686               NaN              2           NaN  NaN         NaN   \n",
       "3721               NaN             16           NaN  NaN         NaN   \n",
       "3971               NaN              2           NaN  NaN         NaN   \n",
       "4783               NaN              8           NaN  NaN         NaN   \n",
       "4817               NaN              8           NaN  NaN         NaN   \n",
       "4894               NaN             11           NaN  NaN         NaN   \n",
       "4917               NaN             10           NaN  NaN         NaN   \n",
       "5100               NaN             12           NaN  NaN         NaN   \n",
       "5237               NaN              7           NaN  NaN         NaN   \n",
       "6038               NaN              5           NaN  NaN         NaN   \n",
       "6583               NaN              3           NaN  NaN         NaN   \n",
       "7027               NaN              1           NaN  NaN         NaN   \n",
       "7519               NaN              2           NaN  NaN         NaN   \n",
       "7829               NaN              5           NaN  NaN         NaN   \n",
       "8070               NaN             11           NaN  NaN         NaN   \n",
       "8129               NaN             18           NaN  NaN         NaN   \n",
       "8670               NaN              9           NaN  NaN         0.0   \n",
       "9381               NaN              7           NaN  NaN  11107034.0   \n",
       "9765               NaN              6           NaN  NaN         0.0   \n",
       "10136              NaN              6           NaN  NaN         0.0   \n",
       "\n",
       "      Unnamed: 27 Deidentified_Answerer  \\\n",
       "652           NaN          Librarian 21   \n",
       "713           NaN          Librarian 10   \n",
       "2390          NaN          Librarian 21   \n",
       "2431          NaN           Librarian 8   \n",
       "2436          NaN          Librarian 10   \n",
       "2789          NaN          Librarian 10   \n",
       "3210          NaN          Librarian 39   \n",
       "3684          NaN          Librarian 16   \n",
       "3686          NaN          Librarian 24   \n",
       "3721          NaN          Librarian 12   \n",
       "3971          NaN          Librarian 50   \n",
       "4783          NaN           Librarian 2   \n",
       "4817          NaN          Librarian 51   \n",
       "4894          NaN          Librarian 57   \n",
       "4917          NaN          Librarian 61   \n",
       "5100          NaN          Librarian 23   \n",
       "5237          NaN          Librarian 45   \n",
       "6038          NaN          Librarian 41   \n",
       "6583          NaN          Librarian 12   \n",
       "7027          NaN          Librarian 41   \n",
       "7519          NaN          Librarian 80   \n",
       "7829          NaN          Librarian 41   \n",
       "8070          NaN          Librarian 23   \n",
       "8129          NaN          Librarian 50   \n",
       "8670          NaN          Librarian 82   \n",
       "9381          NaN          Librarian 38   \n",
       "9765          NaN          Librarian 72   \n",
       "10136         NaN          Librarian 19   \n",
       "\n",
       "                           Deidentified_Email  \\\n",
       "652                   User28b2f6c696@pitt.edu   \n",
       "713                         No Email Provided   \n",
       "2390                  Usera2b03b1a5d@pitt.edu   \n",
       "2431                  User6ec5e3a48c@upmc.edu   \n",
       "2436                  User705c46914f@pitt.edu   \n",
       "2789                  User3472c693d5@pitt.edu   \n",
       "3210                 Userc4e4a0be99@gmail.com   \n",
       "3684   User779a23ca43@salidadelsolacademy.org   \n",
       "3686   User779a23ca43@salidadelsolacademy.org   \n",
       "3721                  User868920400d@gmai.com   \n",
       "3971                        No Email Provided   \n",
       "4783                  Usercf6c9004f0@pitt.edu   \n",
       "4817                  Usercae096c420@pitt.edu   \n",
       "4894                  Userd43e22b7e1@pitt.edu   \n",
       "4917                  Userb1cab7154b@pitt.edu   \n",
       "5100                  User24ea1178e3@pitt.edu   \n",
       "5237                  User23119a5db6@pitt.edu   \n",
       "6038                        No Email Provided   \n",
       "6583                  User2efe11e80f@pitt.edu   \n",
       "7027                        No Email Provided   \n",
       "7519                  Usered22ce3075@pitt.edu   \n",
       "7829                 Userf2611b7fab@yahoo.com   \n",
       "8070                  Userae2e82694b@upmc.edu   \n",
       "8129               Userd96a855aa2@charter.net   \n",
       "8670                  User329892aa0e@pitt.edu   \n",
       "9381                  Userf9e1d818b1@pitt.edu   \n",
       "9765                  User679c7810b9@upmc.edu   \n",
       "10136           User2aad6a3e8f@r-pschools.com   \n",
       "\n",
       "                                 Deidentified_Transcript  \\\n",
       "652    13:18:43 - Librarian 21 : [nameredacted] [name...   \n",
       "713    17:35:18 - Librarian 10 : Hi, this is up to yo...   \n",
       "2390   18:08:07 - Librarian 21 : [nameredacted] [name...   \n",
       "2431   10:22:11 - Librarian 8 : [nameredacted] [namer...   \n",
       "2436   10:45:41 - Librarian 10 : [nameredacted] [name...   \n",
       "2789   11:53:59 - Librarian 10 : [nameredacted] [name...   \n",
       "3210   13:34:27 - Librarian 39 : Hello just one momen...   \n",
       "3684   15:12:46 - Librarian 16 : Hello\\n15:12:50 - Us...   \n",
       "3686   15:22:33 - User779a23ca43 : r u from charlie [...   \n",
       "3721   13:08:24 - Librarian 12 : Hi, how can I help y...   \n",
       "3971   15:38:05 - Librarian 50 : Hello!\\n15:38:16 - P...   \n",
       "4783   10:31:48 - Librarian 2 : Hello, I'll take a lo...   \n",
       "4817   11:03:02 - Librarian 51 : [nameredacted] [name...   \n",
       "4894   15:52:19 - Librarian 57 : Hello, how can I hel...   \n",
       "4917   14:56:14 - Librarian 61 : Hello... let me take...   \n",
       "5100   12:49:34 - Librarian 23 : [nameredacted], I am...   \n",
       "5237   14:01:53 - Librarian 45 : Hello! I am not too ...   \n",
       "6038   15:44:10 - Librarian 41 : hello, how ULSMember...   \n",
       "6583   15:35:19 - Librarian 12 : Hi, [nameredacted] -...   \n",
       "7027                  14:39:02 - Patron : How are you?\\n   \n",
       "7519   15:26:42 - Usered22ce3075 : Hello?\\n15:29:40 -...   \n",
       "7829   13:21:30 - Librarian 41 : Hello, thank you for...   \n",
       "8070   11:03:36 - Userae2e82694b : [nameredacted] [na...   \n",
       "8129   13:34:45 - Userd96a855aa2 : I would like to ac...   \n",
       "8670   09:48:44 - Librarian 82 : Hi how can we help\\n...   \n",
       "9381   10:09:13 - Userf9e1d818b1 : Hi, [nameredacted]...   \n",
       "9765   14:32:40 - Librarian 72 : [nameredacted] [name...   \n",
       "10136  13:51:43 - Librarian 19 : Hello, [nameredacted...   \n",
       "\n",
       "                           Deidentified_Initial_Question  \n",
       "652    I can not access the page to reserve a room in...  \n",
       "713                        what style to use for com sci  \n",
       "2390   Hello!\\n\\nI am starting a class on Thursday, a...  \n",
       "2431                Hi, I have a question about Endnote.  \n",
       "2436   Are there movies available at the library abou...  \n",
       "2789   problems accessing electronic journals!  from ...  \n",
       "3210   What is the APA and MLA style in technical com...  \n",
       "3684                                   hlep this no help  \n",
       "3686                                                help  \n",
       "3721                                                  hi  \n",
       "3971                                               bitch  \n",
       "4783   I am looking for Musketeers of Pig Alley by DW...  \n",
       "4817   I need three DVDs to teach my film course star...  \n",
       "4894                                      [linkredacted]  \n",
       "4917   How can I see the chronicle of education throu...  \n",
       "5100   trying to call in, but no one picking up the[p...  \n",
       "5237   since the format of the online interface has c...  \n",
       "6038                               I need their language  \n",
       "6583                                              thesis  \n",
       "7027                                         Yuhrhhhfhhf  \n",
       "7519   The link for this article doesn't take you to ...  \n",
       "7829   Hello wanted to know if I can use the library ...  \n",
       "8070   I am trying to have access to this article. T ...  \n",
       "8129   I would like to explore access to the Jay F. R...  \n",
       "8670                                                 NaN  \n",
       "9381   Hi. I have a book out that is due today; howev...  \n",
       "9765   I need this book. Do you have it?\\n\\nThe Bethe...  \n",
       "10136                what football team did stephen like  \n",
       "\n",
       "[28 rows x 23 columns]"
      ]
     },
     "execution_count": 70,
     "metadata": {},
     "output_type": "execute_result"
    }
   ],
   "source": [
    "one_score"
   ]
  },
  {
   "cell_type": "code",
   "execution_count": 71,
   "id": "f1845638-9313-475d-80f0-134053775a36",
   "metadata": {},
   "outputs": [
    {
     "data": {
      "text/plain": [
       "'I can not access the page to reserve a room in Falk Library. The browser is telling me the page cannot be found.'"
      ]
     },
     "execution_count": 71,
     "metadata": {},
     "output_type": "execute_result"
    }
   ],
   "source": [
    "one_score['Deidentified_Initial_Question'].iloc[0]"
   ]
  },
  {
   "cell_type": "code",
   "execution_count": 72,
   "id": "b99d71ea-8fd1-4ef9-b39f-2c7a05239286",
   "metadata": {},
   "outputs": [
    {
     "data": {
      "text/plain": [
       "'13:18:43 - Librarian 21 : [nameredacted] [nameredacted]\\n13:19:23 - Librarian 21 : Let me get you the contact information for Falk. One moment please.\\n13:19:44 - User28b2f6c696 : attached a file: <a class=\"s-la-cfile\" href=\"https://pitt.libanswers.com/chat_file.php?i=999&f=99999\" target=\"_blank\" data-preview=\"true\">https://pitt.libanswers.com/chat_file.php?i=999&f=99999</a>\\n13:19:59 - User28b2f6c696 : here is the screen I am seeing when I try to reserve a room\\n13:20:11 - Librarian 21 : [linkredacted]\\n13:20:42 - Librarian 21 : Since Falk is a separate library system, you will need to contact them directly.\\n13:20:54 - User28b2f6c696 : okay thank you\\n'"
      ]
     },
     "execution_count": 72,
     "metadata": {},
     "output_type": "execute_result"
    }
   ],
   "source": [
    "one_score['Deidentified_Transcript'].iloc[0]"
   ]
  },
  {
   "cell_type": "code",
   "execution_count": 73,
   "id": "653e781c-064e-475e-9bab-01b4495dadc7",
   "metadata": {},
   "outputs": [
    {
     "data": {
      "text/plain": [
       "'what style to use for com sci'"
      ]
     },
     "execution_count": 73,
     "metadata": {},
     "output_type": "execute_result"
    }
   ],
   "source": [
    "one_score['Deidentified_Initial_Question'].iloc[1]"
   ]
  },
  {
   "cell_type": "code",
   "execution_count": 74,
   "id": "a93ff3c4-1e12-4678-a19b-3dd6f47b5b72",
   "metadata": {},
   "outputs": [
    {
     "data": {
      "text/plain": [
       "\"17:35:18 - Librarian 10 : Hi, this is up to your professor. Does the department have a specific style guide that they recommend?\\n17:35:35 - Patron : im not sure\\n17:35:47 - Patron : i forgot to ask\\n17:35:57 - Librarian 10 : Is it on the syllabus for your class?\\n17:36:06 - Patron : but usually what style would u choose for\\n17:36:13 - Patron : website research projetc\\n17:36:19 - Patron : im in high school\\n17:36:33 - Librarian 10 : Then you really need to ask your teacher.\\n17:36:46 - Patron : can u just tell me\\n17:37:11 - Librarian 10 : No, I can't because I don't know.\\n17:37:18 - Patron : generaly\\n17:37:23 - Patron : for computer science\\n17:37:30 - Patron : ????????????????????????\\n17:37:33 - Librarian 10 : ASK YOUR TEACHER\\n17:37:54 - Patron : are u a professor\\n17:38:03 - Librarian 10 : No, I'm a librarian.\\n17:38:16 - Patron : from where\\n17:38:29 - Librarian 10 : And i have another question coming in from a Pitt student, so I have to disconnect you.\\n\""
      ]
     },
     "execution_count": 74,
     "metadata": {},
     "output_type": "execute_result"
    }
   ],
   "source": [
    "one_score['Deidentified_Transcript'].iloc[1]"
   ]
  },
  {
   "cell_type": "code",
   "execution_count": 75,
   "id": "a9d7e4a5-369b-4d94-8dc9-aeb28c7cfb28",
   "metadata": {},
   "outputs": [
    {
     "data": {
      "text/plain": [
       "\"Hello!\\n\\nI am starting a class on Thursday, and can't find the textbook. I appreciate your help.\\n\\nA Budgeting Guide for Local Government, Third Edition, Robert L. Bland\\n\\nThanks!\""
      ]
     },
     "execution_count": 75,
     "metadata": {},
     "output_type": "execute_result"
    }
   ],
   "source": [
    "one_score['Deidentified_Initial_Question'].iloc[2]"
   ]
  },
  {
   "cell_type": "code",
   "execution_count": 76,
   "id": "799e54c7-3178-45b2-a919-bcb6cf41d338",
   "metadata": {},
   "outputs": [
    {
     "data": {
      "text/plain": [
       "'18:08:07 - Librarian 21 : [nameredacted] [nameredacted]\\n18:08:28 - Librarian 21 : I can check, but normally the library will not carry the textbooks.\\n18:08:34 - Librarian 21 : One moment please\\n18:10:41 - Librarian 21 : Unfortunately, that is not one of the books in our system\\n18:12:41 - Usera2b03b1a5d : I have found all of my textbooks from the library. It is available as a ILL loan?\\n18:12:53 - Usera2b03b1a5d : *Is it available as a ILL loan\\n18:13:18 - Librarian 21 : There are some schools that have it in different editions.\\n18:13:25 - Librarian 21 : You can make the request.\\n18:14:08 - Librarian 21 : If the school loans it out that will work, if they decline-it ULSMember be because they will not loan textbooks.\\n'"
      ]
     },
     "execution_count": 76,
     "metadata": {},
     "output_type": "execute_result"
    }
   ],
   "source": [
    "one_score['Deidentified_Transcript'].iloc[2]"
   ]
  },
  {
   "cell_type": "code",
   "execution_count": 77,
   "id": "5684cb11-7800-4335-b865-3e8a4473d3f2",
   "metadata": {},
   "outputs": [
    {
     "data": {
      "text/plain": [
       "'Hi, I have a question about Endnote.'"
      ]
     },
     "execution_count": 77,
     "metadata": {},
     "output_type": "execute_result"
    }
   ],
   "source": [
    "one_score['Deidentified_Initial_Question'].iloc[3]"
   ]
  },
  {
   "cell_type": "code",
   "execution_count": 78,
   "id": "619162b6-e948-41d9-9139-0e6b42f8903a",
   "metadata": {},
   "outputs": [
    {
     "data": {
      "text/plain": [
       "'10:22:11 - Librarian 8 : [nameredacted] [nameredacted]\\n10:22:22 - Librarian 8 : What can I help with?\\n10:22:40 - User6ec5e3a48c : In Word, EndNote tab, how can i add a new style?\\n10:23:25 - User6ec5e3a48c : When I choose select  another style, my style is not listed there\\n10:23:49 - Librarian 8 : One moment while I pull up my endnote...\\n10:24:05 - Librarian 8 : What tyep of computer are you using -- Mac or PC?\\n10:24:50 - User6ec5e3a48c : PC\\n10:24:51 - Librarian 8 : and what version of endnote?\\n10:24:56 - User6ec5e3a48c : X9\\n10:25:04 - Librarian 8 : Okay -- one moment\\n10:27:27 - Librarian 8 : Are you trying to create a new style, or loading up a common one that should be available?\\n10:27:57 - User6ec5e3a48c : I must use Breast Cancer Research style.\\n10:28:25 - User6ec5e3a48c : I already have it in Word but it is acting funny and it is not really Breast Cancer Research\\n10:28:39 - User6ec5e3a48c : So I have downloaded it again and want to replace it\\n10:29:06 - Librarian 8 : Sorry this is taking so long, but I have x9 on this computer and had to run for my old laptop for x9\\n10:29:38 - Librarian 8 : Did you update Endnote between the time you reloaded the style?\\n10:31:33 - User6ec5e3a48c : You mean update citations and bibliography\\n10:31:34 - User6ec5e3a48c : ?\\n10:32:51 - Librarian 8 : no, update the Endnote software?\\n10:35:15 - User6ec5e3a48c : No! how?\\n10:35:17 - Librarian 8 : So Breast Cancer Research is a style in Endnote, an I\\'m assuming you\\'ve added it to your \"favorites\" menuuy\\n10:35:32 - Librarian 8 : sorry -- menu in yoru Endnote software.\\n10:36:36 - Librarian 8 : I asked about updates to Endnote software in case that had changed since your Word document started acting \"funny\"\\n10:37:40 - Librarian 8 : From what you are saying to me, you should be okay...however you knnow you aren\\'t.  It would be easier if I could see what is going on with your document.\\n10:38:10 - Librarian 8 : Are you using a laptop?  When is this assignment due?\\n10:39:22 - User6ec5e3a48c : Yes, laptop.\\n10:39:33 - Librarian 8 : I ask in case it might be possible for you to bring your laptop to Hillman so I and my colleagues who use Endnote could see what you are describing.\\n10:39:35 - User6ec5e3a48c : I should submit my manuscript today\\n10:39:45 - User6ec5e3a48c : I am working remotely\\n10:39:55 - User6ec5e3a48c : I am not in Pittsburgh right now\\n10:40:59 - Librarian 8 : ugh.  Okay...then if I were in that situation, I might first try changing my document citations to another style, then back to Breast Cancer Research, in hopes that refreshing the style will solve the glitches.\\n10:41:14 - Librarian 8 : What time ULSMember you need to submit this?\\n10:42:16 - User6ec5e3a48c : Today\\n10:42:32 - Librarian 8 : Hold on for a moment...\\n10:44:29 - Librarian 8 : What is missing from the Breast Cancer Research style?\\n10:45:05 - User6ec5e3a48c : For example, if a citation has more than 9 authors, it should cite the first 9 authors then add et al.\\n10:45:12 - User6ec5e3a48c : but mine doesntrade_mark t ULSMember that\\n10:45:25 - User6ec5e3a48c : Also, cites some journal names funny\\n10:46:16 - Librarian 8 : Okay...you can go into the Endnote software, and change the preferences for the style.\\n10:46:59 - Librarian 8 : You can ULSMember that by gioing to Edit>Output Styles>select the style to edit...\\n10:48:07 - Librarian 8 : then at the bottom of the style record, select th eEdit button...\\n10:48:14 - User6ec5e3a48c : Yes, I have already done that.\\n10:48:25 - User6ec5e3a48c : but that new style does not show up in Word.\\n10:49:12 - Librarian 8 : You went into the left menu and changes the Author List preferences?\\n10:49:36 - User6ec5e3a48c : Where should I ULSMember this?\\n10:50:07 - Librarian 8 : Edit>Output Styles>select the style to edit>select the EDIT button at the bottom right...\\n10:51:10 - Librarian 8 : and you will get a long menu on the left.  For the multiple authors, find the Bibliography submenu, and find the Author List heading...\\n10:52:15 - User6ec5e3a48c : Yes!\\n10:52:16 - Librarian 8 : When you select that, you will see a form that offers options for the Abbreviated Author List\\n10:52:24 - User6ec5e3a48c : What should I ULSMember about journal names?\\n10:52:25 - Librarian 8 : and you can select your preferences\\n10:52:45 - User6ec5e3a48c : For example:Cancer Causes and Control should be Cancer Causes Contro\\n10:52:48 - User6ec5e3a48c : ?\\n10:53:56 - Librarian 8 : There\\'s a Journal Name submenu that offers you three different Journal abbreviation options\\n10:55:45 - User6ec5e3a48c : When I change something in Endnote software, that does not get updated or shown up in Word\\n10:56:07 - User6ec5e3a48c : E.g., I changed the author list (put et al after first 9 authors)\\n10:56:20 - User6ec5e3a48c : but in Word, that does not take effect\\n10:57:03 - Librarian 8 : my suggestion is that once you\\'ve made the preference selections you want, I would then go to your document, and change the citaiton style to another like APA , then back to Breast Cancer Research in order to refresh your style to the new preferences.\\n10:58:54 - Librarian 8 : Unfortunately, I\\'m not an Endnote expert.  I can suggest one or two other options, but they would require more work.\\n11:00:53 - Librarian 8 : I\\'m not familiar with Breast Cancer Research as a style, so I\\'m assuming it uses in-text citations.  If the preferences tweak doesn\\'t work, the other option would be to finish writing your document, and then save it in Word with a different name.\\n11:00:54 - User6ec5e3a48c : Is there an EndNote expert at the Pitt library?\\n11:01:03 - User6ec5e3a48c : This does not work.\\n11:01:19 - User6ec5e3a48c : I still have more than 99 authors in my citations.\\n11:01:32 - User6ec5e3a48c : The same about journal names\\n11:02:45 - Librarian 8 : I can refer you to a colleague, but she consulted with me on this, so I don\\'t think she would have different answers for you.  You are in the health sciences, corredt?\\n11:02:57 - User6ec5e3a48c : yes\\n11:03:23 - Librarian 8 : I can give you the name of the person at the Falk Medical Library to see if she has another idea to solve this.\\n11:03:59 - Librarian 8 : But let me finish the suggestion I was making.   If the preferences tweak doesn\\'t work, the other option would be to finish writing your document, and then save it in Word with a different name.\\n11:04:00 - User6ec5e3a48c : ok\\n11:04:29 - User6ec5e3a48c : I am done with my document\\n11:04:39 - User6ec5e3a48c : this is a scientific manuscript\\n11:04:47 - User6ec5e3a48c : I am submiting my revision work\\n11:04:49 - Librarian 8 : Then without using Endnote, go into the document and make the needed edits in Word alone\\n11:04:58 - User6ec5e3a48c : they say my references style is not correct\\n11:05:16 - User6ec5e3a48c : I have to comply with breast cancer research journal style\\n11:05:36 - Librarian 8 : Well, if they have changes the style since X9, the changes ULSMember have been in the updates, or in the major x( update...\\n11:05:46 - Librarian 8 : sorry the major x9 update.\\n11:05:49 - User6ec5e3a48c : my word EndNote tab says I am using breast cancer research journal style\\n11:05:55 - User6ec5e3a48c : but it is not correct\\n11:07:12 - Librarian 8 : I understand, but supposedly that style is crafted and submitted to the Endnote company by the Breast Cancer Research people.  That is my understanding of how styles are updated\\n11:07:26 - Librarian 8 : Let me give you the HSLS Endnote person...one moment\\n11:09:07 - User6ec5e3a48c : ok\\n11:09:14 - Librarian 8 : Rebekah Miller, [emailredacted]\\nOffice Phone[phoneredacted]\\n11:10:08 - User6ec5e3a48c : The phone # says I should enter telephone ID code\\n11:10:12 - User6ec5e3a48c : what is my code?\\n11:10:52 - Librarian 8 : I have no idea...I copied her contact info from the Pitt directory....one moment\\n11:11:21 - User6ec5e3a48c : ok\\n11:11:24 - User6ec5e3a48c : thanks\\n11:11:26 - User6ec5e3a48c : bye\\n'"
      ]
     },
     "execution_count": 78,
     "metadata": {},
     "output_type": "execute_result"
    }
   ],
   "source": [
    "one_score['Deidentified_Transcript'].iloc[3]"
   ]
  },
  {
   "cell_type": "markdown",
   "id": "278bf19a-0303-4e6f-b221-6c914ad3fd63",
   "metadata": {},
   "source": [
    "The above code is an important place to look for what may be a weakness with some lib chat training. The user rated a 1 here for a clear reason, that is, the moderator clearly (and admittedly) was uncertain about how to assist. The Answerer then passed along the information of another colleague who they still were unsure if they would be of any assistance. I believe a helpful tidbit could be the impact of creating tickets. If we simply created a ticket for the user they may not have received absolute immediate assistance but they would have a gotten a proper answer from someone who was more knowledgable. Instead the user was sent on a loop of non-helpful answers and frankly a bit of attitude in the response. It is clear how this user would have scored this interaction a 1/4.\n",
    "\n",
    "\n",
    "NOTE: The above transcript includes a name that has not been deidentified. Lets continue our analysis."
   ]
  },
  {
   "cell_type": "code",
   "execution_count": 79,
   "id": "eee91709-e27d-4b3a-9013-598d1f15359e",
   "metadata": {},
   "outputs": [
    {
     "data": {
      "text/plain": [
       "'Are there movies available at the library about the history of Jamaica?'"
      ]
     },
     "execution_count": 79,
     "metadata": {},
     "output_type": "execute_result"
    }
   ],
   "source": [
    "one_score['Deidentified_Initial_Question'].iloc[4]"
   ]
  },
  {
   "cell_type": "code",
   "execution_count": 80,
   "id": "cb83f77d-5d7c-445a-885a-5e06750cad67",
   "metadata": {},
   "outputs": [
    {
     "data": {
      "text/plain": [
       "\"10:45:41 - Librarian 10 : [nameredacted] [nameredacted]. Have you checked Pittcat yet for this?\\n10:46:03 - User705c46914f : No I have not yet\\n10:46:19 - Librarian 10 : Since you work here, that would be my first suggestion...\\n10:47:39 - Librarian 10 : Or, you could walk over to Stark and ask Lauren.'\\n10:51:38 - User705c46914f : Okay thank you\\n\""
      ]
     },
     "execution_count": 80,
     "metadata": {},
     "output_type": "execute_result"
    }
   ],
   "source": [
    "one_score['Deidentified_Transcript'].iloc[4]"
   ]
  },
  {
   "cell_type": "markdown",
   "id": "1199d8c8-28af-4b96-8a03-4180fb77b918",
   "metadata": {},
   "source": [
    "Is this above transcript a test or a joke of some sort? "
   ]
  },
  {
   "cell_type": "code",
   "execution_count": 81,
   "id": "c815e8c9-28ea-464b-ba0a-c019cb6956c0",
   "metadata": {},
   "outputs": [
    {
     "data": {
      "text/plain": [
       "\"problems accessing electronic journals!  from off campus. YES I am logged on to Pitt AND  I am using the e-journal link through the library website.   \\nthe website indicates that we have electronic access to the journal 'tectonophysics'  however when I use the link I get sent to a generic science direct site and when I search for the article though tectonophysics on that site I find that we do not have access to anything that is not already ope access.  access to the papers is critical to the research for a new NSF proposal that I am doing.\""
      ]
     },
     "execution_count": 81,
     "metadata": {},
     "output_type": "execute_result"
    }
   ],
   "source": [
    "one_score['Deidentified_Initial_Question'].iloc[5]"
   ]
  },
  {
   "cell_type": "code",
   "execution_count": 82,
   "id": "1344a29f-2a12-4e16-8638-084b00ef75cd",
   "metadata": {},
   "outputs": [
    {
     "data": {
      "text/plain": [
       "\"11:53:59 - Librarian 10 : [nameredacted] [nameredacted]. Let me read over your question.\\n11:56:18 - Librarian 10 : What volumes/years were you looking for in that journal?\\n11:57:14 - User3472c693d5 : 9999, Strain histories from the eastern Central Range of Taiwan: A record of advection through a collisional orogen, Tectonophysics, v. 999, p. 9-99\\n11:57:24 - Librarian 10 : Thanks.\\n12:00:28 - Librarian 10 : Okay. I'm not sure what the problem is from your use, but I can email you the pdf. When you logged onto the library site, were you requested to use your Pitt username and password? That's what allows you to get access off campus.\\n12:08:47 - User3472c693d5 : yeah,  I know that, that is why I specifically said I am LOGGED ON TO THE UNIVERSITY SYSTEM and am actually not having any problems accessing other articles from geoscience world (for example) or AGU sites.(ULSMember) the problem is Science direct.\\n12:09:43 - Librarian 10 : Thanks for clarifying. This is not a library issue, since I was able to ULSMember it from my office, so I suggest that you contact CSSD for an explanation.\\n12:21:48 - User3472c693d5 : Really???  That is your approach?  I would suggest that you as a Pitt librarian (of some flavor) should contact CSSD OR Science direct or your supervisor and indicate the problem.  This is not by any means the first time this has happened and it usually takes Pitt Library working WITH the CSSD to resolve the problem.  clearly most of the links work (I can access several of the journal agglomerates being off campus -- this it is not a problem on my end or technically the CSSD).  Is there someone else in the library system I should be talking to besides a chat?\\n12:22:11 - Librarian 10 : Sorry, but I've has enough abuse from you for one day.\\n\""
      ]
     },
     "execution_count": 82,
     "metadata": {},
     "output_type": "execute_result"
    }
   ],
   "source": [
    "one_score['Deidentified_Transcript'].iloc[5]"
   ]
  },
  {
   "cell_type": "code",
   "execution_count": 83,
   "id": "92d1c63c-7f65-4534-8f5a-6947f61e05c7",
   "metadata": {},
   "outputs": [
    {
     "data": {
      "text/plain": [
       "'What is the APA and MLA style in technical communication'"
      ]
     },
     "execution_count": 83,
     "metadata": {},
     "output_type": "execute_result"
    }
   ],
   "source": [
    "one_score['Deidentified_Initial_Question'].iloc[6]"
   ]
  },
  {
   "cell_type": "code",
   "execution_count": 84,
   "id": "5711db3d-c379-4fab-9ca4-2d8cf5fe24a2",
   "metadata": {},
   "outputs": [
    {
     "data": {
      "text/plain": [
       "'13:34:27 - Librarian 39 : Hello just one moment while I review your question\\n13:34:53 - Userc4e4a0be99 : Tell me full form\\n13:35:07 - Librarian 39 : Are you affiliated with the University of Pittsburgh? Student, staff, or faculty?\\n13:35:30 - Userc4e4a0be99 : Studend\\n13:35:59 - Librarian 39 : You ULSMember find this Library Guide on citation styles useful [linkredacted]\\n'"
      ]
     },
     "execution_count": 84,
     "metadata": {},
     "output_type": "execute_result"
    }
   ],
   "source": [
    "one_score['Deidentified_Transcript'].iloc[6]"
   ]
  },
  {
   "cell_type": "code",
   "execution_count": 85,
   "id": "17c0fd46-f951-4a11-868d-f4b8ecac5dc0",
   "metadata": {},
   "outputs": [
    {
     "data": {
      "text/plain": [
       "'hlep this no help'"
      ]
     },
     "execution_count": 85,
     "metadata": {},
     "output_type": "execute_result"
    }
   ],
   "source": [
    "one_score['Deidentified_Initial_Question'].iloc[7]"
   ]
  },
  {
   "cell_type": "code",
   "execution_count": 86,
   "id": "843c164e-a38b-45f3-ab99-20b24cc480cc",
   "metadata": {},
   "outputs": [
    {
     "data": {
      "text/plain": [
       "\"15:12:46 - Librarian 16 : Hello\\n15:12:50 - User779a23ca43 : hi\\n15:12:53 - Librarian 16 : How can I help you?\\n15:12:55 - User779a23ca43 : i lonly\\n15:13:06 - User779a23ca43 : also\\n15:13:22 - User779a23ca43 : this does not give proper citation form\\n15:14:05 - Librarian 16 : which one is incorrect? I can let our librarians know and they can correct it\\n15:14:26 - User779a23ca43 : all of the\\n15:14:48 - User779a23ca43 : sorry that was my dead cat walking on my keyboard\\n15:15:19 - Librarian 16 : okay I will let the librarians know, is there anything else that I can help you with?\\n15:15:46 - User779a23ca43 : yes i em hungry\\n15:16:07 - User779a23ca43 : sorry that was my dead dog walking on my keyboard\\n15:16:16 - Librarian 16 : well that is not a library related issue, is there anything else library related that I can help you with?\\n15:16:34 - User779a23ca43 : also ULSMember you know where this cirtain citation comes from\\n15:17:10 - User779a23ca43 : Just because there are footnotes doesn’t make it true.9 References to “scientific evidence” are routinely misleading and scammy.\\n\\nA trivial, common example in my job: I got an email from a reader who wanted to make a point he thought I might be interested in. He included a reference to support his point — this is welcome, but quite unusual, as most people are just not that diligent. Unfortunately for his credibility, I actually checked that reference — imagine! — and I quickly realized that the paper did not actually support his point. Like, not even close. It wasn’t ambiguous.2\\n\\nUnfortunately, even professionals can be that careless with their citations. The phenomenon of the bogus citation is almost a\\n15:17:25 - User779a23ca43 : well ULSMember you know ?\\n15:17:28 - Librarian 16 : that is not a citation\\n15:17:39 - User779a23ca43 : yes it is\\n15:17:57 - User779a23ca43 : i got it from website\\n15:18:03 - User779a23ca43 : call your manager\\n15:18:09 - User779a23ca43 : i wana talk\\n15:18:13 - User779a23ca43 : to he or she\\n15:20:00 - User779a23ca43 : attached a file: [linkredacted]\\n15:20:20 - Librarian 16 : This service is for faculty, staff, and students with researcher questions.  From your IP address I see that you are also outside of our area, so we're not able to assist you.\\n\""
      ]
     },
     "execution_count": 86,
     "metadata": {},
     "output_type": "execute_result"
    }
   ],
   "source": [
    "one_score['Deidentified_Transcript'].iloc[7]"
   ]
  },
  {
   "cell_type": "code",
   "execution_count": 87,
   "id": "d358db54-33f1-4017-a179-252c9620e587",
   "metadata": {},
   "outputs": [
    {
     "data": {
      "text/plain": [
       "'help'"
      ]
     },
     "execution_count": 87,
     "metadata": {},
     "output_type": "execute_result"
    }
   ],
   "source": [
    "one_score['Deidentified_Initial_Question'].iloc[8]"
   ]
  },
  {
   "cell_type": "code",
   "execution_count": 88,
   "id": "e84ab447-f422-4ff4-80e1-87df09e8ce6c",
   "metadata": {},
   "outputs": [
    {
     "data": {
      "text/plain": [
       "\"15:22:33 - User779a23ca43 : r u from charlie [nameredacted]?\\n15:23:09 - Librarian 24 : This service is for faculty, staff, and students with researcher questions.  From your IP address I see that you are also outside of our area, so we're not able to assist you.\\n\""
      ]
     },
     "execution_count": 88,
     "metadata": {},
     "output_type": "execute_result"
    }
   ],
   "source": [
    "one_score['Deidentified_Transcript'].iloc[8]"
   ]
  },
  {
   "cell_type": "code",
   "execution_count": 89,
   "id": "c78e05e6-6693-4338-912f-6acc343b72a4",
   "metadata": {},
   "outputs": [
    {
     "data": {
      "text/plain": [
       "'hi'"
      ]
     },
     "execution_count": 89,
     "metadata": {},
     "output_type": "execute_result"
    }
   ],
   "source": [
    "one_score['Deidentified_Initial_Question'].iloc[9]"
   ]
  },
  {
   "cell_type": "code",
   "execution_count": 90,
   "id": "55521aec-9ad6-41ee-a18f-ec31c95e231d",
   "metadata": {},
   "outputs": [
    {
     "data": {
      "text/plain": [
       "\"13:08:24 - Librarian 12 : Hi, how can I help you?\\n13:08:30 - User868920400d : yes\\n13:09:12 - User868920400d : i want to help me to write works cited\\n13:09:32 - User868920400d : by MLA style\\n13:10:07 - Librarian 12 : Are you a student, staff, or faculty of the University of Pittsburgh?\\n13:10:43 - Librarian 12 : You might find something that will help in this guide: [linkredacted]\\n13:11:09 - Librarian 12 : but if you are not affiliated with Pitt, you ULSMember not be able to access all of the resources linked.\\n13:11:24 - User868920400d : I am a student at a university from Egypt\\n13:12:23 - Librarian 12 : This service is for faculty, staff, and students with research questions, but ULSMember take a look at the guide. It ULSMember help you get started. I suggest contacting your university library for further assistance.\\n13:13:25 - Librarian 12 : Is there anything else I can try to assist with today?\\n13:13:59 - User868920400d : My research is in American literature and I want sources to write it\\n13:14:29 - User868920400d : can u help me\\n13:14:34 - User868920400d : ?\\n13:16:38 - Librarian 12 : Again, this service is for Pitt students. That is a very broad topic and since you are not a Pitt student you will not be able to access many of the resources linked in our subject guides. You should contact the library at your university.\\n13:17:05 - Librarian 12 : I'm going to sign off now. Have a nice weekend!\\n13:17:29 - User868920400d : shit....\\n\""
      ]
     },
     "execution_count": 90,
     "metadata": {},
     "output_type": "execute_result"
    }
   ],
   "source": [
    "one_score['Deidentified_Transcript'].iloc[9]"
   ]
  },
  {
   "cell_type": "code",
   "execution_count": 91,
   "id": "967aab2c-71c2-463f-8f7c-5c64dbc182c7",
   "metadata": {},
   "outputs": [
    {
     "data": {
      "text/plain": [
       "'bitch'"
      ]
     },
     "execution_count": 91,
     "metadata": {},
     "output_type": "execute_result"
    }
   ],
   "source": [
    "one_score['Deidentified_Initial_Question'].iloc[10]"
   ]
  },
  {
   "cell_type": "code",
   "execution_count": 92,
   "id": "97a209dc-5afa-4b84-b55d-219eb70996fc",
   "metadata": {},
   "outputs": [
    {
     "data": {
      "text/plain": [
       "'15:38:05 - Librarian 50 : Hello!\\n15:38:16 - Patron : asshole,dick\\n'"
      ]
     },
     "execution_count": 92,
     "metadata": {},
     "output_type": "execute_result"
    }
   ],
   "source": [
    "one_score['Deidentified_Transcript'].iloc[10]"
   ]
  },
  {
   "cell_type": "code",
   "execution_count": 93,
   "id": "8759a4a5-609a-4a79-b175-ed05ef9d858e",
   "metadata": {},
   "outputs": [
    {
     "data": {
      "text/plain": [
       "'I am looking for Musketeers of Pig Alley by DW Griffith. It is in one of this two-volume collection: [linkredacted]\\n\\nIs there no way to find a table of contents for each volume and a time stamp for where this specific film is?'"
      ]
     },
     "execution_count": 93,
     "metadata": {},
     "output_type": "execute_result"
    }
   ],
   "source": [
    "one_score['Deidentified_Initial_Question'].iloc[11]"
   ]
  },
  {
   "cell_type": "code",
   "execution_count": 94,
   "id": "735e0c13-72a5-45bd-bd63-df8d8fbfea51",
   "metadata": {},
   "outputs": [
    {
     "data": {
      "text/plain": [
       "\"10:31:48 - Librarian 2 : Hello, I'll take a look to see what I can find. But I ULSMember need to forward your inquiry to our Stark Media Services.\\n10:35:24 - Librarian 2 : [linkredacted]\\n10:35:43 - Librarian 2 : It looks like there's a copy at Thomas Blvd\\n10:38:02 - Librarian 2 : I'm checking to see how this request can be fulfilled. You'll need to view the film in Since Stark Media Services, which is closed at the moment,\\n10:40:27 - Librarian 2 : I'm making a inquiry ticket for the Stark dept to answer.\\n10:41:36 - Librarian 2 : A ticket was submitted for your request, is there anything else that I can answer?\\n10:47:17 - Usercf6c9004f0 : I am looking for the streaming version. That is the link I included here. I don't need or want anything from Thomas Blv. If you go to the link I included here, you will see that the entire vol. 9 and col. 9 are streaming. But individual films aren't marked. This is the link again: [linkredacted]\\n10:48:21 - Librarian 2 : Ok, the ticket was submitted and you'll receive an answer. They'll have a transcript of this chat\\n\""
      ]
     },
     "execution_count": 94,
     "metadata": {},
     "output_type": "execute_result"
    }
   ],
   "source": [
    "one_score['Deidentified_Transcript'].iloc[11]"
   ]
  },
  {
   "cell_type": "code",
   "execution_count": 95,
   "id": "234ff634-5b51-4f28-92c3-e4d51bb49ee6",
   "metadata": {},
   "outputs": [
    {
     "data": {
      "text/plain": [
       "'I need three DVDs to teach my film course starting this Wednesday (9999, 9999, and 9999).  The course is RUSS 9999 (Stalin at the Movies).  How do I arrange to pick them up?\\n\\nIn addition, I need several chapters of books scanned for the course.  How do I get this done?\\n\\nThank you.'"
      ]
     },
     "execution_count": 95,
     "metadata": {},
     "output_type": "execute_result"
    }
   ],
   "source": [
    "one_score['Deidentified_Initial_Question'].iloc[12]"
   ]
  },
  {
   "cell_type": "code",
   "execution_count": 96,
   "id": "1c3729be-7f1a-4872-b573-9ad9b01fe59c",
   "metadata": {},
   "outputs": [
    {
     "data": {
      "text/plain": [
       "\"11:03:02 - Librarian 51 : [nameredacted] [nameredacted]!\\n11:03:07 - Librarian 51 : Sorry for the wait\\n11:03:24 - Librarian 51 : You can request these DVDs from our catalog\\n11:04:50 - Librarian 51 : Once you've requested them, you will receive a notification that the're ready for pickup, and you will be able to pick them up outside of Hillman Library during one of our no-contact pickup times.\\n11:05:44 - Librarian 51 : You can also make chapter scan requests directly from our catalog\\n11:06:29 - Librarian 51 : From the record of each book\\n11:11:42 - Librarian 51 : If the book  is available through Hathitrust, the book's record will tell you this and you can download the chapters you need from there.\\n11:18:54 - Librarian 51 : I hope this was helpful! Please reach out if you have any other questions.\\n\""
      ]
     },
     "execution_count": 96,
     "metadata": {},
     "output_type": "execute_result"
    }
   ],
   "source": [
    "one_score['Deidentified_Transcript'].iloc[12]"
   ]
  },
  {
   "cell_type": "code",
   "execution_count": 97,
   "id": "cdd900ca-a7da-4b5b-9518-3683efe0604c",
   "metadata": {},
   "outputs": [
    {
     "data": {
      "text/plain": [
       "'[linkredacted]'"
      ]
     },
     "execution_count": 97,
     "metadata": {},
     "output_type": "execute_result"
    }
   ],
   "source": [
    "one_score['Deidentified_Initial_Question'].iloc[13]"
   ]
  },
  {
   "cell_type": "code",
   "execution_count": 98,
   "id": "3e60ef13-bbec-4276-9bc1-b44e33b249d5",
   "metadata": {},
   "outputs": [
    {
     "data": {
      "text/plain": [
       "\"15:52:19 - Librarian 57 : Hello, how can I help you today?\\n15:53:01 - Userd43e22b7e1 : sorry, but ive been having trouble getting into IEEE right now. Can you send me the article at this link?\\n15:53:08 - Userd43e22b7e1 : [linkredacted]\\n15:54:43 - Librarian 57 : let me check our library catalog\\n15:54:48 - Userd43e22b7e1 : thanks\\n15:58:38 - Librarian 57 : if you go to pittcat.pitt.edu, and click sign in at the top right, you should then be able to access the article\\n16:00:22 - Userd43e22b7e1 : i am not able to. can you send it please\\n16:04:39 - Userd43e22b7e1 : ?\\n16:07:59 - Librarian 57 : I'm not sure why PittCat is not letting you log in.  I will create a help ticket, and a librarian will contact you shortly.\\n16:08:30 - Userd43e22b7e1 : are you able to send me the article as well?\\n16:09:44 - Librarian 57 : You should receive an email from a librarian shortly with further assistance.  Thank you.\\n\""
      ]
     },
     "execution_count": 98,
     "metadata": {},
     "output_type": "execute_result"
    }
   ],
   "source": [
    "one_score['Deidentified_Transcript'].iloc[13]"
   ]
  },
  {
   "cell_type": "code",
   "execution_count": 99,
   "id": "66667441-97b8-42fc-97fa-92915e8b25d4",
   "metadata": {},
   "outputs": [
    {
     "data": {
      "text/plain": [
       "'How can I see the chronicle of education through my pitt email? How can I access this article, \"oregon considers big changes in governance of higher education\" by Eric Kelderman on 9/9/99?'"
      ]
     },
     "execution_count": 99,
     "metadata": {},
     "output_type": "execute_result"
    }
   ],
   "source": [
    "one_score['Deidentified_Initial_Question'].iloc[14]"
   ]
  },
  {
   "cell_type": "code",
   "execution_count": 100,
   "id": "a213e7b2-7237-4534-927f-b6e260981afa",
   "metadata": {},
   "outputs": [
    {
     "data": {
      "text/plain": [
       "'14:56:14 - Librarian 61 : Hello... let me take a look.\\n14:56:21 - Userb1cab7154b : ok\\n15:00:01 - Userb1cab7154b : you still there?\\n15:00:13 - Librarian 61 : Yes, still looking.\\n15:00:20 - Userb1cab7154b : Ok, thanks\\n15:00:42 - Userb1cab7154b : When I click on the link, it just take me to the chronicle of higher ULSMember but it does not show up the article\\n15:01:16 - Librarian 61 : Yes, I am having the same problem.  I am trying to find other options.\\n15:01:59 - Userb1cab7154b : i know i mentioned this, but how ULSMember I access premimum articles and other articles in chronicle through pitt?\\n15:03:10 - Librarian 61 : I think it would be best for me to pass this on to a colleague that is more qualified to help you with this.  You will receive an email from someone in a short time.\\n15:03:20 - Userb1cab7154b : hmmm...ok\\n'"
      ]
     },
     "execution_count": 100,
     "metadata": {},
     "output_type": "execute_result"
    }
   ],
   "source": [
    "one_score['Deidentified_Transcript'].iloc[14]"
   ]
  },
  {
   "cell_type": "code",
   "execution_count": 101,
   "id": "feaa7db5-a552-47bf-bc41-0e7244680519",
   "metadata": {},
   "outputs": [
    {
     "data": {
      "text/plain": [
       "'trying to call in, but no one picking up the[phoneredacted] number'"
      ]
     },
     "execution_count": 101,
     "metadata": {},
     "output_type": "execute_result"
    }
   ],
   "source": [
    "one_score['Deidentified_Initial_Question'].iloc[15]"
   ]
  },
  {
   "cell_type": "code",
   "execution_count": 102,
   "id": "5933e853-0aaa-460b-8eba-a01dc7458a41",
   "metadata": {},
   "outputs": [
    {
     "data": {
      "text/plain": [
       "\"12:49:34 - Librarian 23 : [nameredacted], I am sorry you didnt get through.\\xa0 is there something I can help you with?\\n12:49:44 - User24ea1178e3 : what's the number of the hillman front desk?\\n12:50:08 - Librarian 23 : You have the correct number.\\n12:50:25 - User24ea1178e3 : ok, usually they pick up so i thought i had the wrong one\\n12:50:47 - User24ea1178e3 : can i talk to someone over the phone now?\\n12:51:45 - Librarian 23 : You would need to call back to talk to someone on the phone. I am not at the desk so I ULSMember not know if anyone is available right now.\\n12:52:24 - User24ea1178e3 : i submitted an ILL request for this book but i'm not sure if there's a way to get it faster since i need it this week for a class. •\\tAnalytics at Work: Smarter Decisions, Better Results (“Analytics”) by Thomas H. Davenport, Jeanne G. ULSMember, and ULSMember Morison; Published by Harvard Business School Publishing Corporation in 9999\\n12:53:16 - Librarian 23 : Let me look into that.\\xa0 It ULSMember take\\xa0 afew minutes.\\n12:53:28 - User24ea1178e3 : perfect, thank you. on pitt cat, the item says it's missing or something\\n12:59:42 - Librarian 23 : I can not locate an available print copy nor an electronic copy.\\xa0 was the best option.\\n13:01:37 - Librarian 23 : ILL was the best option\\n13:06:50 - Librarian 23 : [nameredacted], please ULSMember not hesitate to contact the library via phone or chat if you have further questions.\\xa0 Have a great day.\\n\""
      ]
     },
     "execution_count": 102,
     "metadata": {},
     "output_type": "execute_result"
    }
   ],
   "source": [
    "one_score['Deidentified_Transcript'].iloc[15]"
   ]
  },
  {
   "cell_type": "code",
   "execution_count": 103,
   "id": "dc8c1388-6381-49a8-bb3b-7708000ac0d1",
   "metadata": {},
   "outputs": [
    {
     "data": {
      "text/plain": [
       "'since the format of the online interface has changed, I am not sure what code I have to specify for ENDNOTE citation export'"
      ]
     },
     "execution_count": 103,
     "metadata": {},
     "output_type": "execute_result"
    }
   ],
   "source": [
    "one_score['Deidentified_Initial_Question'].iloc[16]"
   ]
  },
  {
   "cell_type": "code",
   "execution_count": 104,
   "id": "19a97930-af71-4f78-922e-6d9af63a2b7f",
   "metadata": {},
   "outputs": [
    {
     "data": {
      "text/plain": [
       "\"14:01:53 - Librarian 45 : Hello! I am not too familiar with this topic, but let me see who I can reroute you to. Just one moment while I check, please! :)\\n14:02:05 - User23119a5db6 : ok thanks\\n14:03:50 - Librarian 45 : You might already be aware of this resource, but here is a link to our LibGuide with tips on ENDNOTE: [linkredacted]\\n14:04:24 - Librarian 45 : If that is not what you were looking for, I will go ahead and make you a ticket so your question can be re-routed to a staff member that has a little more knowledge with ENDNOTE citation exports.\\n14:09:20 - User23119a5db6 : No, this has nothing to ULSMember with ENDNOTE or knowing how to use it.  I used to be able to click a button to export the citation on the right top corner of each source on the Pittcat system; now, when I ULSMember that it asks me for an specific encoding among listed options.  if you ULSMember not have an answer, it's fine.\\n14:10:15 - Librarian 45 : Ok! I will go ahead and create a ticket from our conversation. Is there anything else I can help you with today?\\n14:10:32 - User23119a5db6 : no thanks\\n\""
      ]
     },
     "execution_count": 104,
     "metadata": {},
     "output_type": "execute_result"
    }
   ],
   "source": [
    "one_score['Deidentified_Transcript'].iloc[16]"
   ]
  },
  {
   "cell_type": "code",
   "execution_count": 105,
   "id": "7346e3f4-edfb-4ddc-95ff-308bc9c79ca3",
   "metadata": {},
   "outputs": [
    {
     "data": {
      "text/plain": [
       "'I need their language'"
      ]
     },
     "execution_count": 105,
     "metadata": {},
     "output_type": "execute_result"
    }
   ],
   "source": [
    "one_score['Deidentified_Initial_Question'].iloc[17]"
   ]
  },
  {
   "cell_type": "code",
   "execution_count": 106,
   "id": "31dae09f-21b5-42b0-9a44-6038c1eaddeb",
   "metadata": {},
   "outputs": [
    {
     "data": {
      "text/plain": [
       "'15:44:10 - Librarian 41 : hello, how ULSMember I help you?\\n15:44:59 - Patron : West Africa countries and their language\\n15:45:50 - Patron : Am waiting\\n15:45:50 - Librarian 41 : I would be happy to look into that for you. Is there an email I can reach you to follow-up?\\n15:46:06 - Patron : No\\n'"
      ]
     },
     "execution_count": 106,
     "metadata": {},
     "output_type": "execute_result"
    }
   ],
   "source": [
    "one_score['Deidentified_Transcript'].iloc[17]"
   ]
  },
  {
   "cell_type": "code",
   "execution_count": 107,
   "id": "3b4840c7-b378-48ac-8aa9-39bf9ef55316",
   "metadata": {},
   "outputs": [
    {
     "data": {
      "text/plain": [
       "'thesis'"
      ]
     },
     "execution_count": 107,
     "metadata": {},
     "output_type": "execute_result"
    }
   ],
   "source": [
    "one_score['Deidentified_Initial_Question'].iloc[18]"
   ]
  },
  {
   "cell_type": "code",
   "execution_count": 108,
   "id": "cf84010f-1454-410f-8baa-19fd0a4ec6a0",
   "metadata": {},
   "outputs": [
    {
     "data": {
      "text/plain": [
       "'15:35:19 - Librarian 12 : Hi, [nameredacted] -\\xa0\\n15:35:20 - User2efe11e80f : Hi, [nameredacted]. I graduated from Pitt in 9999.\\n15:35:29 - Librarian 12 : What can we help with today?\\n'"
      ]
     },
     "execution_count": 108,
     "metadata": {},
     "output_type": "execute_result"
    }
   ],
   "source": [
    "one_score['Deidentified_Transcript'].iloc[18]"
   ]
  },
  {
   "cell_type": "code",
   "execution_count": 109,
   "id": "6c424e13-db00-40b5-87fa-4e66baa4ccf9",
   "metadata": {},
   "outputs": [
    {
     "data": {
      "text/plain": [
       "'Yuhrhhhfhhf'"
      ]
     },
     "execution_count": 109,
     "metadata": {},
     "output_type": "execute_result"
    }
   ],
   "source": [
    "one_score['Deidentified_Initial_Question'].iloc[19]"
   ]
  },
  {
   "cell_type": "code",
   "execution_count": 110,
   "id": "47d0db83-b7b8-48c1-a10e-b3946cc6bd5d",
   "metadata": {},
   "outputs": [
    {
     "data": {
      "text/plain": [
       "'14:39:02 - Patron : How are you?\\n'"
      ]
     },
     "execution_count": 110,
     "metadata": {},
     "output_type": "execute_result"
    }
   ],
   "source": [
    "one_score['Deidentified_Transcript'].iloc[19]"
   ]
  },
  {
   "cell_type": "code",
   "execution_count": 111,
   "id": "aaceaeaa-ce48-4350-9b52-9ddcf1af26b0",
   "metadata": {},
   "outputs": [
    {
     "data": {
      "text/plain": [
       "\"The link for this article doesn't take you to the article. Connecting Structures: Resistance, Heroic Masculinity and Anti-Feminism as Bridging Narratives within Group Radicalization\""
      ]
     },
     "execution_count": 111,
     "metadata": {},
     "output_type": "execute_result"
    }
   ],
   "source": [
    "one_score['Deidentified_Initial_Question'].iloc[20]"
   ]
  },
  {
   "cell_type": "code",
   "execution_count": 112,
   "id": "31d6711a-1e71-4b24-969e-d0f15ee538e4",
   "metadata": {},
   "outputs": [
    {
     "data": {
      "text/plain": [
       "'15:26:42 - Usered22ce3075 : Hello?\\n15:29:40 - Librarian 80 : A ticket has been created. Thank you for alerting us that the link is not working. Is there anything else I can help you with?\\n'"
      ]
     },
     "execution_count": 112,
     "metadata": {},
     "output_type": "execute_result"
    }
   ],
   "source": [
    "one_score['Deidentified_Transcript'].iloc[20]"
   ]
  },
  {
   "cell_type": "code",
   "execution_count": 113,
   "id": "c3d81fba-30ab-4553-a359-f2b4dae6e5a1",
   "metadata": {},
   "outputs": [
    {
     "data": {
      "text/plain": [
       "'Hello wanted to know if I can use the library in person and use electronic resources to look up research studies.'"
      ]
     },
     "execution_count": 113,
     "metadata": {},
     "output_type": "execute_result"
    }
   ],
   "source": [
    "one_score['Deidentified_Initial_Question'].iloc[21]"
   ]
  },
  {
   "cell_type": "code",
   "execution_count": 114,
   "id": "76203cf7-38da-4a2a-a2a7-f4c1683377ba",
   "metadata": {},
   "outputs": [
    {
     "data": {
      "text/plain": [
       "'13:21:30 - Librarian 41 : Hello, thank you for contacting us\\n13:21:47 - Librarian 41 : At this time, libraries on-campus are available to those individuals with a current Pitt ID\\n13:22:23 - Userf2611b7fab : So this mean No, right. As an alumni I ULSMember not hold a current ID\\n13:22:50 - Librarian 41 : that is correct, all buildings on-campus are limited to current Pitt students, faculty, and staff\\n13:23:01 - Librarian 41 : Is there anything more I can assist you with for now?\\n'"
      ]
     },
     "execution_count": 114,
     "metadata": {},
     "output_type": "execute_result"
    }
   ],
   "source": [
    "one_score['Deidentified_Transcript'].iloc[21]"
   ]
  },
  {
   "cell_type": "code",
   "execution_count": 115,
   "id": "44867756-f7ed-4ae1-aeef-6fecc8c3c0ce",
   "metadata": {},
   "outputs": [
    {
     "data": {
      "text/plain": [
       "'I am trying to have access to this article. T cells as antigen-presenting cells'"
      ]
     },
     "execution_count": 115,
     "metadata": {},
     "output_type": "execute_result"
    }
   ],
   "source": [
    "one_score['Deidentified_Initial_Question'].iloc[22]"
   ]
  },
  {
   "cell_type": "code",
   "execution_count": 116,
   "id": "e6b4caf0-f687-47df-bdff-b119f52e4b7f",
   "metadata": {},
   "outputs": [
    {
     "data": {
      "text/plain": [
       "'11:03:36 - Userae2e82694b : [nameredacted] [nameredacted]\\n11:03:57 - Librarian 23 : Hello, let me see if there is access to this article.\\n11:04:15 - Userae2e82694b : Thank you, [nameredacted].\\n11:07:35 - Userae2e82694b : Were you able to find it?\\n11:08:39 - Librarian 23 : It appears we have access to this in print format please follow this link to login and request a copy\\xa0[linkredacted]\\xa0\\n11:11:43 - Userae2e82694b : Will try it now\\n11:13:33 - Librarian 23 : <ul><li>I noticed you have an UPMC email address, please visit\\xa0[linkredacted]\\xa0to review further options.\\xa0</li></ul>\\n11:15:07 - Userae2e82694b : Would you mind send the print link? Am not able to access it.\\n11:18:40 - Userae2e82694b : [emailredacted]\\n11:20:08 - Librarian 23 : I recommend contacting the Health Sciences Library System if you are having trouble accessing this title. The Health Sciences Library System handles requests from UPMC. Information on the Health Sciences Library can be found here\\xa0[linkredacted]\\xa0\\n11:21:00 - Userae2e82694b : Thanks\\n'"
      ]
     },
     "execution_count": 116,
     "metadata": {},
     "output_type": "execute_result"
    }
   ],
   "source": [
    "one_score['Deidentified_Transcript'].iloc[22]"
   ]
  },
  {
   "cell_type": "code",
   "execution_count": 117,
   "id": "e6d4441a-7b89-4303-badb-ecdbae2ad8d7",
   "metadata": {},
   "outputs": [
    {
     "data": {
      "text/plain": [
       "'I would like to explore access to the Jay F. Rosenberg papers'"
      ]
     },
     "execution_count": 117,
     "metadata": {},
     "output_type": "execute_result"
    }
   ],
   "source": [
    "one_score['Deidentified_Initial_Question'].iloc[23]"
   ]
  },
  {
   "cell_type": "code",
   "execution_count": 118,
   "id": "d7c13b48-2759-4997-b912-b89017c1ac94",
   "metadata": {},
   "outputs": [
    {
     "data": {
      "text/plain": [
       "'13:34:45 - Userd96a855aa2 : I would like to access his PhD dissertation and an assortment of unpublished papers\\n13:35:00 - Librarian 50 : [nameredacted] [nameredacted]\\n13:35:27 - Userd96a855aa2 : Hello.  Thank you (request above)\\n13:36:29 - Librarian 50 : I\\'m sorry, I see that you had previously been chatting with my colleague, ULSMember. I, too, am going to suggest that you contact\\xa0[linkredacted]\\n13:37:11 - Userd96a855aa2 : I got to you by clicking on the link she provided at the conclusion of my chat with her.\\n13:37:50 - Librarian 50 : I\\'m not sure how that happened...technology!\\n13:38:01 - Userd96a855aa2 : I am on the Ask An Archivist page.  Maybe I don\\'t understand what you mean by \"contact\" them\\n13:38:59 - Librarian 50 : Ask an archivist is a different service offered by the University Library\\n13:39:14 - Userd96a855aa2 : I have already sent an email using the directions on that page but have not received a response\\n13:40:43 - Librarian 50 : The Ask An Archivist service receives a lot of questions and it make take some time before you get a reply.\\n13:40:52 - Librarian 50 : When did you contact them?\\n13:41:01 - Userd96a855aa2 : I\\'ll check\\n13:42:02 - Userd96a855aa2 : Well, no; I cannot check since I have no record of the attempted contact.  I would say one to two weeks ago.\\n13:42:25 - Librarian 50 : You ULSMember want to try and ask your question again then,\\n13:42:35 - Userd96a855aa2 : thank you\\n13:43:01 - Librarian 50 : Thank you for contacting us!\\n13:43:08 - Librarian 50 : And have a ULSMember day!\\n13:43:11 - Librarian 50 : Bye\\n'"
      ]
     },
     "execution_count": 118,
     "metadata": {},
     "output_type": "execute_result"
    }
   ],
   "source": [
    "one_score['Deidentified_Transcript'].iloc[23]"
   ]
  },
  {
   "cell_type": "code",
   "execution_count": 119,
   "id": "0ad9f590-da8b-46f2-b631-6e229cf4f150",
   "metadata": {},
   "outputs": [
    {
     "data": {
      "text/plain": [
       "nan"
      ]
     },
     "execution_count": 119,
     "metadata": {},
     "output_type": "execute_result"
    }
   ],
   "source": [
    "one_score['Deidentified_Initial_Question'].iloc[24]"
   ]
  },
  {
   "cell_type": "code",
   "execution_count": 120,
   "id": "cf6d59c8-c1d0-4ebc-9293-8245c8ae6872",
   "metadata": {},
   "outputs": [
    {
     "data": {
      "text/plain": [
       "\"09:48:44 - Librarian 82 : Hi how can we help\\n09:51:22 - User329892aa0e : I am the chair of a recently defended and submitted dissertation in DSAS. The EDT Approval form was filled out by the committee and myself  . . . excelt for my signature (second time) on the first page of the form. My student informs me that I can send a letter to to the Graduate Office saying that I have reviewed the submitted version and approve it. To whom should I address such a letter?\\n09:51:33 - User329892aa0e : except\\n09:53:02 - User329892aa0e : [nameredacted]?\\n09:53:07 - Librarian 82 : This can be addressed to whom ever is the schools approver\\xa0\\n09:53:27 - User329892aa0e : Would you happen to know who that is?\\n09:54:09 - Librarian 82 : I'm sorry I ULSMember not, however I remember this question from earlier and I believe the student had an email for them\\xa0\\xa0\\n09:54:37 - User329892aa0e : Never mind. Thanks.\\n09:54:55 - Librarian 82 : Have a ULSMember one\\xa0\\n\""
      ]
     },
     "execution_count": 120,
     "metadata": {},
     "output_type": "execute_result"
    }
   ],
   "source": [
    "one_score['Deidentified_Transcript'].iloc[24]"
   ]
  },
  {
   "cell_type": "code",
   "execution_count": 121,
   "id": "a1897bf7-9f15-4bbb-b5c1-423a07e74753",
   "metadata": {},
   "outputs": [
    {
     "data": {
      "text/plain": [
       "\"Hi. I have a book out that is due today; however, I'm out of town for Spring Break. Can yinz grant me a week extension? Thank you. -Andy [nameredacted], Classics Dept.\""
      ]
     },
     "execution_count": 121,
     "metadata": {},
     "output_type": "execute_result"
    }
   ],
   "source": [
    "one_score['Deidentified_Initial_Question'].iloc[25]"
   ]
  },
  {
   "cell_type": "code",
   "execution_count": 122,
   "id": "b1fb4fbf-0066-4159-bfad-a28be0661bfa",
   "metadata": {},
   "outputs": [
    {
     "data": {
      "text/plain": [
       "\"10:09:13 - Userf9e1d818b1 : Hi, [nameredacted].\\n10:09:54 - Librarian 38 : Hello, I cannot renew your items. I'll have to create a help ticket and someone will get to you directly. Can you provide the best email address to reach you?<br />\\n10:10:48 - Userf9e1d818b1 : [emailredacted]\\n10:10:57 - Librarian 38 : Excellent, someone will get back to you soon!<br />\\n10:10:57 - Userf9e1d818b1 : I'll keep an eye out for an email then.\\n10:11:04 - Userf9e1d818b1 : Thanks! Enjoy Break!\\n10:11:04 - Librarian 38 : Please ULSMember not hesitate to ask us if you have any additional questions. Have a great day!I\\n\""
      ]
     },
     "execution_count": 122,
     "metadata": {},
     "output_type": "execute_result"
    }
   ],
   "source": [
    "one_score['Deidentified_Transcript'].iloc[25]"
   ]
  },
  {
   "cell_type": "code",
   "execution_count": 123,
   "id": "b1523d16-2857-4e1d-81ee-c7c53f42f17c",
   "metadata": {},
   "outputs": [
    {
     "data": {
      "text/plain": [
       "'I need this book. Do you have it?\\n\\nThe Bethesda System for Reporting Thyroid Cytopathology (third edition)'"
      ]
     },
     "execution_count": 123,
     "metadata": {},
     "output_type": "execute_result"
    }
   ],
   "source": [
    "one_score['Deidentified_Initial_Question'].iloc[26]"
   ]
  },
  {
   "cell_type": "code",
   "execution_count": 124,
   "id": "f84a7bd5-4e04-411b-b83c-98388448fcc2",
   "metadata": {},
   "outputs": [
    {
     "data": {
      "text/plain": [
       "\"14:32:40 - Librarian 72 : [nameredacted] [nameredacted]<br />\\n14:32:45 - Librarian 72 : Let me check<br />\\n14:35:31 - Librarian 72 : [nameredacted] [nameredacted].\\xa0 I'm sorry, it is not in our system.\\xa0 I see you are UPMC though, so let me check in the EZBorrow system<br />\\n14:37:53 - Librarian 72 : The second edition is available through EZBorrow:\\xa0 [linkredacted]\\xa0\\xa0 But the 9rd edition is not available.\\xa0 You can put in an interlibrary loan for the book here if needed:\\xa0 [linkredacted]<br />\\n14:38:15 - Librarian 72 : Can I help you with anything else today?<br />\\n14:42:45 - Librarian 72 : If you need anything else, please feel free to send us another question.\\xa0 Have a great day!<br />\\n\""
      ]
     },
     "execution_count": 124,
     "metadata": {},
     "output_type": "execute_result"
    }
   ],
   "source": [
    "one_score['Deidentified_Transcript'].iloc[26]"
   ]
  },
  {
   "cell_type": "code",
   "execution_count": 125,
   "id": "c7ac3c09-954f-403d-a786-2976ec0273a0",
   "metadata": {},
   "outputs": [
    {
     "data": {
      "text/plain": [
       "'what football team did stephen like'"
      ]
     },
     "execution_count": 125,
     "metadata": {},
     "output_type": "execute_result"
    }
   ],
   "source": [
    "one_score['Deidentified_Initial_Question'].iloc[27]"
   ]
  },
  {
   "cell_type": "code",
   "execution_count": 126,
   "id": "d02a2431-0b72-4f7a-ac6c-44e51b47f57d",
   "metadata": {},
   "outputs": [
    {
     "data": {
      "text/plain": [
       "\"13:51:43 - Librarian 19 : Hello, [nameredacted]. Can you clarify your question? That sounds like a question about a specific person's interests.<br />\\n13:52:33 - User2aad6a3e8f : did stephen foster like and football teams\\n13:53:42 - Librarian 19 : I'm not sure football was invented during Foster's lifetime. <br />\\n13:54:48 - User2aad6a3e8f : it was 9999 it got invented so did he play any sorts like football\\n13:54:59 - User2aad6a3e8f : sports not sorts\\n13:55:25 - Librarian 19 : Stephen Foster died in 9999. <br />\\n\""
      ]
     },
     "execution_count": 126,
     "metadata": {},
     "output_type": "execute_result"
    }
   ],
   "source": [
    "one_score['Deidentified_Transcript'].iloc[27]"
   ]
  },
  {
   "cell_type": "markdown",
   "id": "02cd1e39-0623-4c75-b4f3-dc4b30870a01",
   "metadata": {},
   "source": [
    "### Thoughts from 1 rated Chat Analysis"
   ]
  },
  {
   "cell_type": "markdown",
   "id": "d19c4076-5c5f-47a8-afb0-2101c4b1bdbd",
   "metadata": {},
   "source": [
    "After doing a deeper dive into the transcripts behind the poor ratings, I noticed a few patterns. I believe the majority of poorly rated interactions can be boiled down to _ categgories:\n",
    "1.) Patron comes into interaction already upset\n",
    "\n",
    "In these examples, patrons initial questions are telling of their mood. They use alot of capitalization, exclamations, and exaggerated claims. No matter how helpful the ULS member tries to be, unless the matter is instantaneously resolved that patron rates the interaction poorly. The next point is separate but builds on this.\n",
    "\n",
    "2.) Interaction cannot be resolved immediately\n",
    "\n",
    "In this instance, a patron can come into the interaction positive or even neutral but if their inquiry is not resolved within the chat they rate the interaction poorly. This includes times when staff appropriately passes along their inquiry to another expert, not due to incompetence, but purely because the patrons request was too nuanced to be handled directly through chat.\n",
    "\n",
    "3.) ULS Member drags interaction out when they know they do not have the answers the patron is searching for\n",
    "\n",
    "I noticed in these instances, ULS member attempts to be helpful, but extends the interaction beyond their capabilities. For example, a few chats see a moderator admit to not knowing much about a topic but then continue to give repetitive advice/information that the patron has communicated is not helpful to them in that instance. I believe this is where staff can do a better job of recognizing when an interaction should be referred to a ticket.\n",
    "\n",
    "4.) Prank Chats\n",
    "\n",
    "These are interactions that are blatant jokes, pranks, or 'trolls' but a user. They attempt to rile up or confuse ULS member sometime repetitively. In all of the cases shown, the ULS member handled the interaction professionally and promptly.\n",
    "\n",
    "5.) ULS Member is brief or rude with patron regardless of status\n",
    "\n",
    "This is one that I believe is the biggest problem so far found in my surface level analysis. Often times, and the data reflects this across the entirety of the chat data, it seems a moderator is eager to end interactions. It appears often times, particularly on things that are either easily searchable or easily handled on our end, that either a link, a brief instruction, or a simple i dont know is provided to the patron which is not helpful. The patron in these cases rate the interaction as a 1 because perhaps they feel dismissed or that they were provided with confusing or simple information rather than a helpful service. \n",
    "\n",
    "Less often in these examples, yet still having occurred, ULS members were outright rude to patrons. Regardless of status, I believe that courtesy should be afforded patrons who are simply looking for helpful information. It appeared there was more professionalism at times with the prank chats than there were with chats simply from non-Pitt affiliates looking for guidance.\n",
    "\n"
   ]
  },
  {
   "cell_type": "markdown",
   "id": "6c2cf7ee-cd29-4770-aa94-5ed6dc7eb701",
   "metadata": {},
   "source": [
    "### Beginnings of Sentiment Analysis"
   ]
  },
  {
   "cell_type": "markdown",
   "id": "62440f45-c3b7-4c68-92d2-e1eb7d60f18b",
   "metadata": {},
   "source": [
    "Now lets start our sentiment analysis, focusing on the 1 rated chats and see if we can compare the sentiment scores to the ratings."
   ]
  },
  {
   "cell_type": "code",
   "execution_count": 127,
   "id": "f01f71ad-350b-4989-a4cf-326ec5af2eec",
   "metadata": {},
   "outputs": [
    {
     "name": "stdout",
     "output_type": "stream",
     "text": [
      "Collecting torch\n",
      "  Obtaining dependency information for torch from https://files.pythonhosted.org/packages/2a/b7/a3cf5fd40334b9785cc83ee0c96b50603026eb3aa70210a33729018e7029/torch-2.3.0-cp311-cp311-win_amd64.whl.metadata\n",
      "  Downloading torch-2.3.0-cp311-cp311-win_amd64.whl.metadata (26 kB)\n",
      "Requirement already satisfied: filelock in c:\\users\\rnn13\\appdata\\local\\anaconda3\\lib\\site-packages (from torch) (3.9.0)\n",
      "Collecting typing-extensions>=4.8.0 (from torch)\n",
      "  Obtaining dependency information for typing-extensions>=4.8.0 from https://files.pythonhosted.org/packages/e1/4d/d612de852a0bc64a64418e1cef25fe1914c5b1611e34cc271ed7e36174c8/typing_extensions-4.12.0-py3-none-any.whl.metadata\n",
      "  Downloading typing_extensions-4.12.0-py3-none-any.whl.metadata (3.0 kB)\n",
      "Requirement already satisfied: sympy in c:\\users\\rnn13\\appdata\\local\\anaconda3\\lib\\site-packages (from torch) (1.11.1)\n",
      "Requirement already satisfied: networkx in c:\\users\\rnn13\\appdata\\local\\anaconda3\\lib\\site-packages (from torch) (3.1)\n",
      "Requirement already satisfied: jinja2 in c:\\users\\rnn13\\appdata\\local\\anaconda3\\lib\\site-packages (from torch) (3.1.2)\n",
      "Requirement already satisfied: fsspec in c:\\users\\rnn13\\appdata\\local\\anaconda3\\lib\\site-packages (from torch) (2023.3.0)\n",
      "Collecting mkl<=2021.4.0,>=2021.1.1 (from torch)\n",
      "  Obtaining dependency information for mkl<=2021.4.0,>=2021.1.1 from https://files.pythonhosted.org/packages/fe/1c/5f6dbf18e8b73e0a5472466f0ea8d48ce9efae39bd2ff38cebf8dce61259/mkl-2021.4.0-py2.py3-none-win_amd64.whl.metadata\n",
      "  Downloading mkl-2021.4.0-py2.py3-none-win_amd64.whl.metadata (1.4 kB)\n",
      "Collecting intel-openmp==2021.* (from mkl<=2021.4.0,>=2021.1.1->torch)\n",
      "  Obtaining dependency information for intel-openmp==2021.* from https://files.pythonhosted.org/packages/6f/21/b590c0cc3888b24f2ac9898c41d852d7454a1695fbad34bee85dba6dc408/intel_openmp-2021.4.0-py2.py3-none-win_amd64.whl.metadata\n",
      "  Downloading intel_openmp-2021.4.0-py2.py3-none-win_amd64.whl.metadata (1.2 kB)\n",
      "Collecting tbb==2021.* (from mkl<=2021.4.0,>=2021.1.1->torch)\n",
      "  Obtaining dependency information for tbb==2021.* from https://files.pythonhosted.org/packages/7b/2d/1e1c70fae8ace27e6200fb71c2372a9aeac2baba474b1609d7d466e969b4/tbb-2021.12.0-py3-none-win_amd64.whl.metadata\n",
      "  Downloading tbb-2021.12.0-py3-none-win_amd64.whl.metadata (1.1 kB)\n",
      "Requirement already satisfied: MarkupSafe>=2.0 in c:\\users\\rnn13\\appdata\\local\\anaconda3\\lib\\site-packages (from jinja2->torch) (2.1.1)\n",
      "Requirement already satisfied: mpmath>=0.19 in c:\\users\\rnn13\\appdata\\local\\anaconda3\\lib\\site-packages (from sympy->torch) (1.3.0)\n",
      "Downloading torch-2.3.0-cp311-cp311-win_amd64.whl (159.8 MB)\n",
      "   ---------------------------------------- 0.0/159.8 MB ? eta -:--:--\n",
      "   ---------------------------------------- 1.8/159.8 MB 56.5 MB/s eta 0:00:03\n",
      "   - -------------------------------------- 5.7/159.8 MB 73.3 MB/s eta 0:00:03\n",
      "   -- ------------------------------------- 9.2/159.8 MB 73.3 MB/s eta 0:00:03\n",
      "   --- ------------------------------------ 12.7/159.8 MB 81.8 MB/s eta 0:00:02\n",
      "   --- ------------------------------------ 14.1/159.8 MB 59.8 MB/s eta 0:00:03\n",
      "   --- ------------------------------------ 14.4/159.8 MB 50.4 MB/s eta 0:00:03\n",
      "   ---- ----------------------------------- 16.3/159.8 MB 43.7 MB/s eta 0:00:04\n",
      "   ---- ----------------------------------- 18.7/159.8 MB 43.7 MB/s eta 0:00:04\n",
      "   ----- ---------------------------------- 21.2/159.8 MB 40.9 MB/s eta 0:00:04\n",
      "   ----- ---------------------------------- 23.7/159.8 MB 38.5 MB/s eta 0:00:04\n",
      "   ------ --------------------------------- 26.2/159.8 MB 54.4 MB/s eta 0:00:03\n",
      "   ------- -------------------------------- 28.6/159.8 MB 54.4 MB/s eta 0:00:03\n",
      "   ------- -------------------------------- 31.1/159.8 MB 54.7 MB/s eta 0:00:03\n",
      "   -------- ------------------------------- 33.8/159.8 MB 54.7 MB/s eta 0:00:03\n",
      "   --------- ------------------------------ 36.2/159.8 MB 54.7 MB/s eta 0:00:03\n",
      "   --------- ------------------------------ 38.8/159.8 MB 54.7 MB/s eta 0:00:03\n",
      "   ---------- ----------------------------- 41.4/159.8 MB 54.4 MB/s eta 0:00:03\n",
      "   ----------- ---------------------------- 44.2/159.8 MB 54.4 MB/s eta 0:00:03\n",
      "   ----------- ---------------------------- 47.1/159.8 MB 59.5 MB/s eta 0:00:02\n",
      "   ------------ --------------------------- 50.0/159.8 MB 59.5 MB/s eta 0:00:02\n",
      "   ------------- -------------------------- 52.9/159.8 MB 59.8 MB/s eta 0:00:02\n",
      "   ------------- -------------------------- 55.8/159.8 MB 59.5 MB/s eta 0:00:02\n",
      "   -------------- ------------------------- 58.8/159.8 MB 59.5 MB/s eta 0:00:02\n",
      "   --------------- ------------------------ 61.5/159.8 MB 59.5 MB/s eta 0:00:02\n",
      "   ---------------- ----------------------- 64.6/159.8 MB 59.5 MB/s eta 0:00:02\n",
      "   ---------------- ----------------------- 67.7/159.8 MB 59.5 MB/s eta 0:00:02\n",
      "   ----------------- ---------------------- 70.7/159.8 MB 65.2 MB/s eta 0:00:02\n",
      "   ------------------ --------------------- 73.8/159.8 MB 72.6 MB/s eta 0:00:02\n",
      "   ------------------- -------------------- 77.0/159.8 MB 65.6 MB/s eta 0:00:02\n",
      "   -------------------- ------------------- 80.5/159.8 MB 65.6 MB/s eta 0:00:02\n",
      "   --------------------- ------------------ 84.0/159.8 MB 65.6 MB/s eta 0:00:02\n",
      "   --------------------- ------------------ 87.1/159.8 MB 72.6 MB/s eta 0:00:02\n",
      "   ---------------------- ----------------- 90.4/159.8 MB 73.1 MB/s eta 0:00:01\n",
      "   ----------------------- ---------------- 93.8/159.8 MB 65.6 MB/s eta 0:00:02\n",
      "   ------------------------ --------------- 97.3/159.8 MB 72.6 MB/s eta 0:00:01\n",
      "   ------------------------ -------------- 100.9/159.8 MB 72.6 MB/s eta 0:00:01\n",
      "   ------------------------- ------------- 104.5/159.8 MB 73.1 MB/s eta 0:00:01\n",
      "   -------------------------- ------------ 108.0/159.8 MB 73.1 MB/s eta 0:00:01\n",
      "   --------------------------- ----------- 111.3/159.8 MB 81.8 MB/s eta 0:00:01\n",
      "   ---------------------------- ---------- 115.0/159.8 MB 81.8 MB/s eta 0:00:01\n",
      "   ---------------------------- ---------- 118.6/159.8 MB 81.8 MB/s eta 0:00:01\n",
      "   ----------------------------- --------- 122.4/159.8 MB 81.8 MB/s eta 0:00:01\n",
      "   ------------------------------ -------- 126.2/159.8 MB 81.8 MB/s eta 0:00:01\n",
      "   ------------------------------- ------- 129.9/159.8 MB 81.8 MB/s eta 0:00:01\n",
      "   -------------------------------- ------ 133.6/159.8 MB 81.8 MB/s eta 0:00:01\n",
      "   --------------------------------- ----- 137.4/159.8 MB 81.8 MB/s eta 0:00:01\n",
      "   ---------------------------------- ---- 141.2/159.8 MB 81.8 MB/s eta 0:00:01\n",
      "   ----------------------------------- --- 145.2/159.8 MB 81.8 MB/s eta 0:00:01\n",
      "   ----------------------------------- --- 146.3/159.8 MB 65.6 MB/s eta 0:00:01\n",
      "   ------------------------------------ -- 149.3/159.8 MB 65.6 MB/s eta 0:00:01\n",
      "   ------------------------------------- - 152.3/159.8 MB 59.5 MB/s eta 0:00:01\n",
      "   ------------------------------------- - 155.4/159.8 MB 54.4 MB/s eta 0:00:01\n",
      "   --------------------------------------  158.5/159.8 MB 65.6 MB/s eta 0:00:01\n",
      "   --------------------------------------  159.8/159.8 MB 65.6 MB/s eta 0:00:01\n",
      "   --------------------------------------  159.8/159.8 MB 65.6 MB/s eta 0:00:01\n",
      "   --------------------------------------  159.8/159.8 MB 65.6 MB/s eta 0:00:01\n",
      "   --------------------------------------  159.8/159.8 MB 65.6 MB/s eta 0:00:01\n",
      "   --------------------------------------  159.8/159.8 MB 65.6 MB/s eta 0:00:01\n",
      "   --------------------------------------  159.8/159.8 MB 65.6 MB/s eta 0:00:01\n",
      "   --------------------------------------  159.8/159.8 MB 65.6 MB/s eta 0:00:01\n",
      "   --------------------------------------- 159.8/159.8 MB 14.2 MB/s eta 0:00:00\n",
      "Downloading mkl-2021.4.0-py2.py3-none-win_amd64.whl (228.5 MB)\n",
      "   ---------------------------------------- 0.0/228.5 MB ? eta -:--:--\n",
      "    --------------------------------------- 3.2/228.5 MB 70.3 MB/s eta 0:00:04\n",
      "   - -------------------------------------- 6.2/228.5 MB 66.4 MB/s eta 0:00:04\n",
      "   - -------------------------------------- 9.1/228.5 MB 65.1 MB/s eta 0:00:04\n",
      "   -- ------------------------------------- 12.1/228.5 MB 65.6 MB/s eta 0:00:04\n",
      "   -- ------------------------------------- 15.1/228.5 MB 65.6 MB/s eta 0:00:04\n",
      "   --- ------------------------------------ 18.2/228.5 MB 65.6 MB/s eta 0:00:04\n",
      "   --- ------------------------------------ 21.6/228.5 MB 72.6 MB/s eta 0:00:03\n",
      "   ---- ----------------------------------- 25.0/228.5 MB 72.6 MB/s eta 0:00:03\n",
      "   ---- ----------------------------------- 28.4/228.5 MB 73.1 MB/s eta 0:00:03\n",
      "   ----- ---------------------------------- 30.5/228.5 MB 65.6 MB/s eta 0:00:04\n",
      "   ----- ---------------------------------- 32.9/228.5 MB 59.5 MB/s eta 0:00:04\n",
      "   ------ --------------------------------- 35.4/228.5 MB 59.5 MB/s eta 0:00:04\n",
      "   ------ --------------------------------- 37.8/228.5 MB 54.4 MB/s eta 0:00:04\n",
      "   ------- -------------------------------- 40.4/228.5 MB 54.4 MB/s eta 0:00:04\n",
      "   ------- -------------------------------- 42.9/228.5 MB 54.4 MB/s eta 0:00:04\n",
      "   ------- -------------------------------- 45.4/228.5 MB 54.4 MB/s eta 0:00:04\n",
      "   -------- ------------------------------- 47.8/228.5 MB 54.7 MB/s eta 0:00:04\n",
      "   -------- ------------------------------- 50.4/228.5 MB 54.7 MB/s eta 0:00:04\n",
      "   --------- ------------------------------ 53.0/228.5 MB 54.7 MB/s eta 0:00:04\n",
      "   --------- ------------------------------ 55.5/228.5 MB 54.7 MB/s eta 0:00:04\n",
      "   ---------- ----------------------------- 58.2/228.5 MB 54.4 MB/s eta 0:00:04\n",
      "   ---------- ----------------------------- 61.2/228.5 MB 59.5 MB/s eta 0:00:03\n",
      "   ----------- ---------------------------- 64.1/228.5 MB 59.5 MB/s eta 0:00:03\n",
      "   ----------- ---------------------------- 67.2/228.5 MB 65.2 MB/s eta 0:00:03\n",
      "   ------------ --------------------------- 69.3/228.5 MB 65.6 MB/s eta 0:00:03\n",
      "   ------------ --------------------------- 69.4/228.5 MB 46.9 MB/s eta 0:00:04\n",
      "   ------------ --------------------------- 70.8/228.5 MB 43.7 MB/s eta 0:00:04\n",
      "   ------------ --------------------------- 72.7/228.5 MB 40.9 MB/s eta 0:00:04\n",
      "   ------------- -------------------------- 74.8/228.5 MB 38.5 MB/s eta 0:00:04\n",
      "   ------------- -------------------------- 76.8/228.5 MB 36.4 MB/s eta 0:00:05\n",
      "   ------------- -------------------------- 78.8/228.5 MB 34.4 MB/s eta 0:00:05\n",
      "   -------------- ------------------------- 80.9/228.5 MB 43.5 MB/s eta 0:00:04\n",
      "   -------------- ------------------------- 82.9/228.5 MB 43.7 MB/s eta 0:00:04\n",
      "   -------------- ------------------------- 85.0/228.5 MB 43.7 MB/s eta 0:00:04\n",
      "   --------------- ------------------------ 87.5/228.5 MB 46.7 MB/s eta 0:00:04\n",
      "   --------------- ------------------------ 90.0/228.5 MB 46.7 MB/s eta 0:00:03\n",
      "   ---------------- ----------------------- 92.6/228.5 MB 50.4 MB/s eta 0:00:03\n",
      "   ---------------- ----------------------- 95.1/228.5 MB 54.4 MB/s eta 0:00:03\n",
      "   ----------------- ---------------------- 97.5/228.5 MB 54.4 MB/s eta 0:00:03\n",
      "   ----------------- --------------------- 100.1/228.5 MB 54.4 MB/s eta 0:00:03\n",
      "   ----------------- --------------------- 102.8/228.5 MB 54.7 MB/s eta 0:00:03\n",
      "   ----------------- --------------------- 105.3/228.5 MB 54.7 MB/s eta 0:00:03\n",
      "   ------------------ -------------------- 107.9/228.5 MB 54.7 MB/s eta 0:00:03\n",
      "   ------------------ -------------------- 110.5/228.5 MB 54.7 MB/s eta 0:00:03\n",
      "   ------------------- ------------------- 113.2/228.5 MB 54.4 MB/s eta 0:00:03\n",
      "   ------------------- ------------------- 116.1/228.5 MB 59.5 MB/s eta 0:00:02\n",
      "   -------------------- ------------------ 118.8/228.5 MB 59.5 MB/s eta 0:00:02\n",
      "   -------------------- ------------------ 121.7/228.5 MB 59.5 MB/s eta 0:00:02\n",
      "   --------------------- ----------------- 124.5/228.5 MB 59.8 MB/s eta 0:00:02\n",
      "   --------------------- ----------------- 127.4/228.5 MB 59.5 MB/s eta 0:00:02\n",
      "   ---------------------- ---------------- 130.4/228.5 MB 59.5 MB/s eta 0:00:02\n",
      "   ---------------------- ---------------- 133.3/228.5 MB 65.6 MB/s eta 0:00:02\n",
      "   ----------------------- --------------- 136.2/228.5 MB 65.6 MB/s eta 0:00:02\n",
      "   ----------------------- --------------- 138.5/228.5 MB 59.5 MB/s eta 0:00:02\n",
      "   ------------------------ -------------- 140.6/228.5 MB 59.5 MB/s eta 0:00:02\n",
      "   ------------------------ -------------- 142.7/228.5 MB 54.4 MB/s eta 0:00:02\n",
      "   ------------------------ -------------- 144.7/228.5 MB 50.4 MB/s eta 0:00:02\n",
      "   ------------------------- ------------- 146.8/228.5 MB 46.7 MB/s eta 0:00:02\n",
      "   ------------------------- ------------- 149.1/228.5 MB 46.7 MB/s eta 0:00:02\n",
      "   ------------------------- ------------- 151.6/228.5 MB 46.9 MB/s eta 0:00:02\n",
      "   -------------------------- ------------ 153.7/228.5 MB 46.9 MB/s eta 0:00:02\n",
      "   -------------------------- ------------ 156.2/228.5 MB 50.4 MB/s eta 0:00:02\n",
      "   --------------------------- ----------- 158.7/228.5 MB 50.4 MB/s eta 0:00:02\n",
      "   --------------------------- ----------- 161.1/228.5 MB 50.4 MB/s eta 0:00:02\n",
      "   --------------------------- ----------- 163.5/228.5 MB 54.4 MB/s eta 0:00:02\n",
      "   ---------------------------- ---------- 166.1/228.5 MB 54.4 MB/s eta 0:00:02\n",
      "   ---------------------------- ---------- 168.7/228.5 MB 54.4 MB/s eta 0:00:02\n",
      "   ----------------------------- --------- 171.2/228.5 MB 54.7 MB/s eta 0:00:02\n",
      "   ----------------------------- --------- 173.8/228.5 MB 54.7 MB/s eta 0:00:02\n",
      "   ------------------------------ -------- 176.4/228.5 MB 54.7 MB/s eta 0:00:01\n",
      "   ------------------------------ -------- 179.2/228.5 MB 54.7 MB/s eta 0:00:01\n",
      "   ------------------------------- ------- 182.1/228.5 MB 59.5 MB/s eta 0:00:01\n",
      "   ------------------------------- ------- 185.2/228.5 MB 59.5 MB/s eta 0:00:01\n",
      "   -------------------------------- ------ 188.1/228.5 MB 65.2 MB/s eta 0:00:01\n",
      "   -------------------------------- ------ 190.5/228.5 MB 59.5 MB/s eta 0:00:01\n",
      "   -------------------------------- ------ 193.3/228.5 MB 59.8 MB/s eta 0:00:01\n",
      "   --------------------------------- ----- 196.3/228.5 MB 59.5 MB/s eta 0:00:01\n",
      "   ---------------------------------- ---- 199.4/228.5 MB 59.5 MB/s eta 0:00:01\n",
      "   ---------------------------------- ---- 202.4/228.5 MB 65.6 MB/s eta 0:00:01\n",
      "   ----------------------------------- --- 205.3/228.5 MB 65.6 MB/s eta 0:00:01\n",
      "   ----------------------------------- --- 208.2/228.5 MB 59.5 MB/s eta 0:00:01\n",
      "   ------------------------------------ -- 211.3/228.5 MB 65.2 MB/s eta 0:00:01\n",
      "   ------------------------------------ -- 213.4/228.5 MB 59.5 MB/s eta 0:00:01\n",
      "   ------------------------------------ -- 215.6/228.5 MB 59.5 MB/s eta 0:00:01\n",
      "   ------------------------------------- - 218.1/228.5 MB 54.4 MB/s eta 0:00:01\n",
      "   ------------------------------------- - 220.7/228.5 MB 54.4 MB/s eta 0:00:01\n",
      "   --------------------------------------  223.2/228.5 MB 54.7 MB/s eta 0:00:01\n",
      "   --------------------------------------  225.7/228.5 MB 54.7 MB/s eta 0:00:01\n",
      "   --------------------------------------  228.2/228.5 MB 54.7 MB/s eta 0:00:01\n",
      "   --------------------------------------  228.5/228.5 MB 54.4 MB/s eta 0:00:01\n",
      "   --------------------------------------  228.5/228.5 MB 54.4 MB/s eta 0:00:01\n",
      "   --------------------------------------  228.5/228.5 MB 54.4 MB/s eta 0:00:01\n",
      "   --------------------------------------  228.5/228.5 MB 54.4 MB/s eta 0:00:01\n",
      "   --------------------------------------  228.5/228.5 MB 54.4 MB/s eta 0:00:01\n",
      "   --------------------------------------  228.5/228.5 MB 54.4 MB/s eta 0:00:01\n",
      "   --------------------------------------  228.5/228.5 MB 54.4 MB/s eta 0:00:01\n",
      "   --------------------------------------  228.5/228.5 MB 54.4 MB/s eta 0:00:01\n",
      "   --------------------------------------  228.5/228.5 MB 54.4 MB/s eta 0:00:01\n",
      "   --------------------------------------  228.5/228.5 MB 54.4 MB/s eta 0:00:01\n",
      "   ---------------------------------------- 228.5/228.5 MB 9.6 MB/s eta 0:00:00\n",
      "Downloading intel_openmp-2021.4.0-py2.py3-none-win_amd64.whl (3.5 MB)\n",
      "   ---------------------------------------- 0.0/3.5 MB ? eta -:--:--\n",
      "   ---------------------------------- ----- 3.0/3.5 MB 63.4 MB/s eta 0:00:01\n",
      "   ---------------------------------------- 3.5/3.5 MB 45.0 MB/s eta 0:00:00\n",
      "Downloading tbb-2021.12.0-py3-none-win_amd64.whl (286 kB)\n",
      "   ---------------------------------------- 0.0/286.4 kB ? eta -:--:--\n",
      "   ---------------------------------------- 286.4/286.4 kB ? eta 0:00:00\n",
      "Downloading typing_extensions-4.12.0-py3-none-any.whl (37 kB)\n",
      "Installing collected packages: tbb, intel-openmp, typing-extensions, mkl, torch\n",
      "  Attempting uninstall: tbb\n",
      "    Found existing installation: TBB 0.2\n",
      "Note: you may need to restart the kernel to use updated packages.\n"
     ]
    },
    {
     "name": "stderr",
     "output_type": "stream",
     "text": [
      "ERROR: Cannot uninstall 'TBB'. It is a distutils installed project and thus we cannot accurately determine which files belong to it which would lead to only a partial uninstall.\n"
     ]
    }
   ],
   "source": [
    "pip install torch"
   ]
  },
  {
   "cell_type": "code",
   "execution_count": 129,
   "id": "0c80ec88-360c-4568-ad1e-a678a96d0d4a",
   "metadata": {
    "tags": []
   },
   "outputs": [
    {
     "name": "stdout",
     "output_type": "stream",
     "text": [
      "Requirement already satisfied: transformers in c:\\users\\rnn13\\appdata\\local\\anaconda3\\lib\\site-packages (2.1.1)Note: you may need to restart the kernel to use updated packages.\n",
      "\n",
      "Requirement already satisfied: numpy in c:\\users\\rnn13\\appdata\\local\\anaconda3\\lib\\site-packages (from transformers) (1.24.3)\n",
      "Requirement already satisfied: boto3 in c:\\users\\rnn13\\appdata\\local\\anaconda3\\lib\\site-packages (from transformers) (1.24.28)\n",
      "Requirement already satisfied: requests in c:\\users\\rnn13\\appdata\\local\\anaconda3\\lib\\site-packages (from transformers) (2.31.0)\n",
      "Requirement already satisfied: tqdm in c:\\users\\rnn13\\appdata\\local\\anaconda3\\lib\\site-packages (from transformers) (4.65.0)\n",
      "Requirement already satisfied: regex in c:\\users\\rnn13\\appdata\\local\\anaconda3\\lib\\site-packages (from transformers) (2022.7.9)\n",
      "Collecting sentencepiece (from transformers)\n",
      "  Obtaining dependency information for sentencepiece from https://files.pythonhosted.org/packages/a2/f6/587c62fd21fc988555b85351f50bbde43a51524caafd63bc69240ded14fd/sentencepiece-0.2.0-cp311-cp311-win_amd64.whl.metadata\n",
      "  Downloading sentencepiece-0.2.0-cp311-cp311-win_amd64.whl.metadata (8.3 kB)\n",
      "Requirement already satisfied: sacremoses in c:\\users\\rnn13\\appdata\\local\\anaconda3\\lib\\site-packages (from transformers) (0.0.43)\n",
      "Requirement already satisfied: botocore<1.28.0,>=1.27.28 in c:\\users\\rnn13\\appdata\\local\\anaconda3\\lib\\site-packages (from boto3->transformers) (1.27.59)\n",
      "Requirement already satisfied: jmespath<2.0.0,>=0.7.1 in c:\\users\\rnn13\\appdata\\local\\anaconda3\\lib\\site-packages (from boto3->transformers) (0.10.0)\n",
      "Requirement already satisfied: s3transfer<0.7.0,>=0.6.0 in c:\\users\\rnn13\\appdata\\local\\anaconda3\\lib\\site-packages (from boto3->transformers) (0.6.0)\n",
      "Requirement already satisfied: charset-normalizer<4,>=2 in c:\\users\\rnn13\\appdata\\local\\anaconda3\\lib\\site-packages (from requests->transformers) (2.0.4)\n",
      "Requirement already satisfied: idna<4,>=2.5 in c:\\users\\rnn13\\appdata\\local\\anaconda3\\lib\\site-packages (from requests->transformers) (3.4)\n",
      "Requirement already satisfied: urllib3<3,>=1.21.1 in c:\\users\\rnn13\\appdata\\local\\anaconda3\\lib\\site-packages (from requests->transformers) (1.26.16)\n",
      "Requirement already satisfied: certifi>=2017.4.17 in c:\\users\\rnn13\\appdata\\local\\anaconda3\\lib\\site-packages (from requests->transformers) (2024.2.2)\n",
      "Requirement already satisfied: six in c:\\users\\rnn13\\appdata\\local\\anaconda3\\lib\\site-packages (from sacremoses->transformers) (1.16.0)\n",
      "Requirement already satisfied: click in c:\\users\\rnn13\\appdata\\local\\anaconda3\\lib\\site-packages (from sacremoses->transformers) (8.0.4)\n",
      "Requirement already satisfied: joblib in c:\\users\\rnn13\\appdata\\local\\anaconda3\\lib\\site-packages (from sacremoses->transformers) (1.2.0)\n",
      "Requirement already satisfied: colorama in c:\\users\\rnn13\\appdata\\local\\anaconda3\\lib\\site-packages (from tqdm->transformers) (0.4.6)\n",
      "Requirement already satisfied: python-dateutil<3.0.0,>=2.1 in c:\\users\\rnn13\\appdata\\local\\anaconda3\\lib\\site-packages (from botocore<1.28.0,>=1.27.28->boto3->transformers) (2.8.2)\n",
      "Downloading sentencepiece-0.2.0-cp311-cp311-win_amd64.whl (991 kB)\n",
      "   ---------------------------------------- 0.0/991.5 kB ? eta -:--:--\n",
      "   ---------------- ----------------------- 399.4/991.5 kB 8.3 MB/s eta 0:00:01\n",
      "   --------------------------------------- 991.5/991.5 kB 12.6 MB/s eta 0:00:00\n",
      "Installing collected packages: sentencepiece\n",
      "Successfully installed sentencepiece-0.2.0\n"
     ]
    }
   ],
   "source": [
    "pip install transformers"
   ]
  },
  {
   "cell_type": "code",
   "execution_count": 9,
   "id": "ff6cfc1c-7a71-450a-89c7-75be4b86e43e",
   "metadata": {
    "tags": []
   },
   "outputs": [
    {
     "name": "stdout",
     "output_type": "stream",
     "text": [
      "Note: you may need to restart the kernel to use updated packages.Looking in indexes: https://download.pytorch.org/whl/cu118\n",
      "Collecting torch\n",
      "  Using cached https://download.pytorch.org/whl/cu118/torch-2.3.0%2Bcu118-cp311-cp311-win_amd64.whl (2673.0 MB)\n",
      "Collecting torchvision\n",
      "  Using cached https://download.pytorch.org/whl/cu118/torchvision-0.18.0%2Bcu118-cp311-cp311-win_amd64.whl (4.9 MB)\n",
      "Collecting torchaudio\n",
      "  Using cached https://download.pytorch.org/whl/cu118/torchaudio-2.3.0%2Bcu118-cp311-cp311-win_amd64.whl (4.0 MB)\n",
      "Collecting filelock (from torch)\n",
      "  Downloading https://download.pytorch.org/whl/filelock-3.13.1-py3-none-any.whl (11 kB)\n",
      "Collecting typing-extensions>=4.8.0 (from torch)\n",
      "  Using cached https://download.pytorch.org/whl/typing_extensions-4.9.0-py3-none-any.whl (32 kB)\n",
      "Collecting sympy (from torch)\n",
      "  Downloading https://download.pytorch.org/whl/sympy-1.12-py3-none-any.whl (5.7 MB)\n",
      "     ---------------------------------------- 0.0/5.7 MB ? eta -:--:--\n",
      "     ------------- -------------------------- 2.0/5.7 MB 41.4 MB/s eta 0:00:01\n",
      "     ---------------------------------------  5.7/5.7 MB 72.5 MB/s eta 0:00:01\n",
      "     ---------------------------------------- 5.7/5.7 MB 52.1 MB/s eta 0:00:00\n",
      "Collecting networkx (from torch)\n",
      "  Downloading https://download.pytorch.org/whl/networkx-3.2.1-py3-none-any.whl (1.6 MB)\n",
      "     ---------------------------------------- 0.0/1.6 MB ? eta -:--:--\n",
      "     ---------------------------------------- 1.6/1.6 MB 52.8 MB/s eta 0:00:00\n",
      "Collecting jinja2 (from torch)\n",
      "  Downloading https://download.pytorch.org/whl/Jinja2-3.1.3-py3-none-any.whl (133 kB)\n",
      "     ---------------------------------------- 0.0/133.2 kB ? eta -:--:--\n",
      "     ---------------------------------------- 133.2/133.2 kB ? eta 0:00:00\n",
      "Collecting fsspec (from torch)\n",
      "  Downloading https://download.pytorch.org/whl/fsspec-2024.2.0-py3-none-any.whl (170 kB)\n",
      "     ---------------------------------------- 0.0/170.9 kB ? eta -:--:--\n",
      "     ---------------------------------------- 170.9/170.9 kB ? eta 0:00:00\n",
      "Collecting mkl<=2021.4.0,>=2021.1.1 (from torch)\n",
      "  Using cached https://download.pytorch.org/whl/mkl-2021.4.0-py2.py3-none-win_amd64.whl (228.5 MB)\n",
      "Collecting numpy (from torchvision)\n",
      "  Downloading https://download.pytorch.org/whl/numpy-1.26.3-cp311-cp311-win_amd64.whl (15.8 MB)\n",
      "     ---------------------------------------- 0.0/15.8 MB ? eta -:--:--\n",
      "     ------------ -------------------------- 5.2/15.8 MB 110.9 MB/s eta 0:00:01\n",
      "     -------------------------- ----------- 10.8/15.8 MB 108.8 MB/s eta 0:00:01\n",
      "     -------------------------------------  15.8/15.8 MB 108.8 MB/s eta 0:00:01\n",
      "     --------------------------------------- 15.8/15.8 MB 81.8 MB/s eta 0:00:00\n",
      "Collecting pillow!=8.3.*,>=5.3.0 (from torchvision)\n",
      "  Downloading https://download.pytorch.org/whl/pillow-10.2.0-cp311-cp311-win_amd64.whl (2.6 MB)\n",
      "     ---------------------------------------- 0.0/2.6 MB ? eta -:--:--\n",
      "     ---------------------------------------  2.6/2.6 MB 81.3 MB/s eta 0:00:01\n",
      "     ---------------------------------------- 2.6/2.6 MB 55.6 MB/s eta 0:00:00\n",
      "Collecting intel-openmp==2021.* (from mkl<=2021.4.0,>=2021.1.1->torch)\n",
      "  Using cached https://download.pytorch.org/whl/intel_openmp-2021.4.0-py2.py3-none-win_amd64.whl (3.5 MB)\n",
      "Collecting tbb==2021.* (from mkl<=2021.4.0,>=2021.1.1->torch)\n",
      "  Using cached https://download.pytorch.org/whl/tbb-2021.11.0-py3-none-win_amd64.whl (298 kB)\n",
      "Collecting MarkupSafe>=2.0 (from jinja2->torch)\n",
      "  Downloading https://download.pytorch.org/whl/MarkupSafe-2.1.5-cp311-cp311-win_amd64.whl (17 kB)\n",
      "Collecting mpmath>=0.19 (from sympy->torch)\n",
      "  Downloading https://download.pytorch.org/whl/mpmath-1.3.0-py3-none-any.whl (536 kB)\n",
      "     ---------------------------------------- 0.0/536.2 kB ? eta -:--:--\n",
      "     ------------------------------------- 536.2/536.2 kB 32.9 MB/s eta 0:00:00\n",
      "Installing collected packages: tbb, mpmath, intel-openmp, typing-extensions, sympy, pillow, numpy, networkx, mkl, MarkupSafe, fsspec, filelock, jinja2, torch, torchvision, torchaudio\n",
      "\n"
     ]
    },
    {
     "name": "stderr",
     "output_type": "stream",
     "text": [
      "ERROR: Could not install packages due to an OSError: [WinError 5] Access is denied: 'C:\\\\Users\\\\rnn13\\\\AppData\\\\Local\\\\anaconda3\\\\Lib\\\\site-packages\\\\PIL\\\\_imaging.cp311-win_amd64.pyd'\n",
      "Consider using the `--user` option or check the permissions.\n",
      "\n"
     ]
    }
   ],
   "source": [
    "pip install --ignore-installed  torch torchvision torchaudio --index-url https://download.pytorch.org/whl/cu118"
   ]
  },
  {
   "cell_type": "code",
   "execution_count": 6,
   "id": "697bad41-7e6b-4689-985f-169d2d479804",
   "metadata": {},
   "outputs": [
    {
     "name": "stderr",
     "output_type": "stream",
     "text": [
      "Neither PyTorch nor TensorFlow >= 2.0 have been found.Models won't be available and only tokenizers, configurationand file/data utilities can be used.\n"
     ]
    }
   ],
   "source": [
    "from transformers import AutoTokenizer"
   ]
  },
  {
   "cell_type": "code",
   "execution_count": 7,
   "id": "b9d18346-b2ea-49d4-a0b4-573087a44921",
   "metadata": {
    "tags": []
   },
   "outputs": [
    {
     "ename": "OSError",
     "evalue": "Model name 'nlptown/bert-base-multilingual-uncased-sentiment' was not found in tokenizers model name list (bert-base-uncased, bert-large-uncased, bert-base-cased, bert-large-cased, bert-base-multilingual-uncased, bert-base-multilingual-cased, bert-base-chinese, bert-base-german-cased, bert-large-uncased-whole-word-masking, bert-large-cased-whole-word-masking, bert-large-uncased-whole-word-masking-finetuned-squad, bert-large-cased-whole-word-masking-finetuned-squad, bert-base-cased-finetuned-mrpc, bert-base-german-dbmdz-cased, bert-base-german-dbmdz-uncased). We assumed 'nlptown/bert-base-multilingual-uncased-sentiment' was a path or url to a directory containing vocabulary files named ['vocab.txt'] but couldn't find such vocabulary files at this path or url.",
     "output_type": "error",
     "traceback": [
      "\u001b[1;31m---------------------------------------------------------------------------\u001b[0m",
      "\u001b[1;31mOSError\u001b[0m                                   Traceback (most recent call last)",
      "Cell \u001b[1;32mIn[7], line 1\u001b[0m\n\u001b[1;32m----> 1\u001b[0m tokenizer \u001b[38;5;241m=\u001b[39m AutoTokenizer\u001b[38;5;241m.\u001b[39mfrom_pretrained(\u001b[38;5;124m'\u001b[39m\u001b[38;5;124mnlptown/bert-base-multilingual-uncased-sentiment\u001b[39m\u001b[38;5;124m'\u001b[39m)\n",
      "File \u001b[1;32m~\\AppData\\Local\\anaconda3\\Lib\\site-packages\\transformers\\tokenization_auto.py:109\u001b[0m, in \u001b[0;36mAutoTokenizer.from_pretrained\u001b[1;34m(cls, pretrained_model_name_or_path, *inputs, **kwargs)\u001b[0m\n\u001b[0;32m    107\u001b[0m     \u001b[38;5;28;01mreturn\u001b[39;00m RobertaTokenizer\u001b[38;5;241m.\u001b[39mfrom_pretrained(pretrained_model_name_or_path, \u001b[38;5;241m*\u001b[39minputs, \u001b[38;5;241m*\u001b[39m\u001b[38;5;241m*\u001b[39mkwargs)\n\u001b[0;32m    108\u001b[0m \u001b[38;5;28;01melif\u001b[39;00m \u001b[38;5;124m'\u001b[39m\u001b[38;5;124mbert\u001b[39m\u001b[38;5;124m'\u001b[39m \u001b[38;5;129;01min\u001b[39;00m pretrained_model_name_or_path:\n\u001b[1;32m--> 109\u001b[0m     \u001b[38;5;28;01mreturn\u001b[39;00m BertTokenizer\u001b[38;5;241m.\u001b[39mfrom_pretrained(pretrained_model_name_or_path, \u001b[38;5;241m*\u001b[39minputs, \u001b[38;5;241m*\u001b[39m\u001b[38;5;241m*\u001b[39mkwargs)\n\u001b[0;32m    110\u001b[0m \u001b[38;5;28;01melif\u001b[39;00m \u001b[38;5;124m'\u001b[39m\u001b[38;5;124mopenai-gpt\u001b[39m\u001b[38;5;124m'\u001b[39m \u001b[38;5;129;01min\u001b[39;00m pretrained_model_name_or_path:\n\u001b[0;32m    111\u001b[0m     \u001b[38;5;28;01mreturn\u001b[39;00m OpenAIGPTTokenizer\u001b[38;5;241m.\u001b[39mfrom_pretrained(pretrained_model_name_or_path, \u001b[38;5;241m*\u001b[39minputs, \u001b[38;5;241m*\u001b[39m\u001b[38;5;241m*\u001b[39mkwargs)\n",
      "File \u001b[1;32m~\\AppData\\Local\\anaconda3\\Lib\\site-packages\\transformers\\tokenization_utils.py:282\u001b[0m, in \u001b[0;36mPreTrainedTokenizer.from_pretrained\u001b[1;34m(cls, *inputs, **kwargs)\u001b[0m\n\u001b[0;32m    236\u001b[0m \u001b[38;5;129m@classmethod\u001b[39m\n\u001b[0;32m    237\u001b[0m \u001b[38;5;28;01mdef\u001b[39;00m \u001b[38;5;21mfrom_pretrained\u001b[39m(\u001b[38;5;28mcls\u001b[39m, \u001b[38;5;241m*\u001b[39minputs, \u001b[38;5;241m*\u001b[39m\u001b[38;5;241m*\u001b[39mkwargs):\n\u001b[0;32m    238\u001b[0m \u001b[38;5;250m    \u001b[39m\u001b[38;5;124mr\u001b[39m\u001b[38;5;124;03m\"\"\"\u001b[39;00m\n\u001b[0;32m    239\u001b[0m \u001b[38;5;124;03m    Instantiate a :class:`~transformers.PreTrainedTokenizer` (or a derived class) from a predefined tokenizer.\u001b[39;00m\n\u001b[0;32m    240\u001b[0m \n\u001b[1;32m   (...)\u001b[0m\n\u001b[0;32m    280\u001b[0m \n\u001b[0;32m    281\u001b[0m \u001b[38;5;124;03m    \"\"\"\u001b[39;00m\n\u001b[1;32m--> 282\u001b[0m     \u001b[38;5;28;01mreturn\u001b[39;00m \u001b[38;5;28mcls\u001b[39m\u001b[38;5;241m.\u001b[39m_from_pretrained(\u001b[38;5;241m*\u001b[39minputs, \u001b[38;5;241m*\u001b[39m\u001b[38;5;241m*\u001b[39mkwargs)\n",
      "File \u001b[1;32m~\\AppData\\Local\\anaconda3\\Lib\\site-packages\\transformers\\tokenization_utils.py:340\u001b[0m, in \u001b[0;36mPreTrainedTokenizer._from_pretrained\u001b[1;34m(cls, pretrained_model_name_or_path, *init_inputs, **kwargs)\u001b[0m\n\u001b[0;32m    337\u001b[0m         vocab_files[file_id] \u001b[38;5;241m=\u001b[39m full_file_name\n\u001b[0;32m    339\u001b[0m     \u001b[38;5;28;01mif\u001b[39;00m \u001b[38;5;28mall\u001b[39m(full_file_name \u001b[38;5;129;01mis\u001b[39;00m \u001b[38;5;28;01mNone\u001b[39;00m \u001b[38;5;28;01mfor\u001b[39;00m full_file_name \u001b[38;5;129;01min\u001b[39;00m vocab_files\u001b[38;5;241m.\u001b[39mvalues()):\n\u001b[1;32m--> 340\u001b[0m         \u001b[38;5;28;01mraise\u001b[39;00m \u001b[38;5;167;01mEnvironmentError\u001b[39;00m(\n\u001b[0;32m    341\u001b[0m             \u001b[38;5;124m\"\u001b[39m\u001b[38;5;124mModel name \u001b[39m\u001b[38;5;124m'\u001b[39m\u001b[38;5;132;01m{}\u001b[39;00m\u001b[38;5;124m'\u001b[39m\u001b[38;5;124m was not found in tokenizers model name list (\u001b[39m\u001b[38;5;132;01m{}\u001b[39;00m\u001b[38;5;124m). \u001b[39m\u001b[38;5;124m\"\u001b[39m\n\u001b[0;32m    342\u001b[0m             \u001b[38;5;124m\"\u001b[39m\u001b[38;5;124mWe assumed \u001b[39m\u001b[38;5;124m'\u001b[39m\u001b[38;5;132;01m{}\u001b[39;00m\u001b[38;5;124m'\u001b[39m\u001b[38;5;124m was a path or url to a directory containing vocabulary files \u001b[39m\u001b[38;5;124m\"\u001b[39m\n\u001b[0;32m    343\u001b[0m             \u001b[38;5;124m\"\u001b[39m\u001b[38;5;124mnamed \u001b[39m\u001b[38;5;132;01m{}\u001b[39;00m\u001b[38;5;124m but couldn\u001b[39m\u001b[38;5;124m'\u001b[39m\u001b[38;5;124mt find such vocabulary files at this path or url.\u001b[39m\u001b[38;5;124m\"\u001b[39m\u001b[38;5;241m.\u001b[39mformat(\n\u001b[0;32m    344\u001b[0m                 pretrained_model_name_or_path, \u001b[38;5;124m'\u001b[39m\u001b[38;5;124m, \u001b[39m\u001b[38;5;124m'\u001b[39m\u001b[38;5;241m.\u001b[39mjoin(s3_models),\n\u001b[0;32m    345\u001b[0m                 pretrained_model_name_or_path, \n\u001b[0;32m    346\u001b[0m                 \u001b[38;5;28mlist\u001b[39m(\u001b[38;5;28mcls\u001b[39m\u001b[38;5;241m.\u001b[39mvocab_files_names\u001b[38;5;241m.\u001b[39mvalues())))\n\u001b[0;32m    348\u001b[0m \u001b[38;5;66;03m# Get files from url, cache, or disk depending on the case\u001b[39;00m\n\u001b[0;32m    349\u001b[0m \u001b[38;5;28;01mtry\u001b[39;00m:\n",
      "\u001b[1;31mOSError\u001b[0m: Model name 'nlptown/bert-base-multilingual-uncased-sentiment' was not found in tokenizers model name list (bert-base-uncased, bert-large-uncased, bert-base-cased, bert-large-cased, bert-base-multilingual-uncased, bert-base-multilingual-cased, bert-base-chinese, bert-base-german-cased, bert-large-uncased-whole-word-masking, bert-large-cased-whole-word-masking, bert-large-uncased-whole-word-masking-finetuned-squad, bert-large-cased-whole-word-masking-finetuned-squad, bert-base-cased-finetuned-mrpc, bert-base-german-dbmdz-cased, bert-base-german-dbmdz-uncased). We assumed 'nlptown/bert-base-multilingual-uncased-sentiment' was a path or url to a directory containing vocabulary files named ['vocab.txt'] but couldn't find such vocabulary files at this path or url."
     ]
    }
   ],
   "source": [
    "tokenizer = AutoTokenizer.from_pretrained('nlptown/bert-base-multilingual-uncased-sentiment')"
   ]
  },
  {
   "cell_type": "code",
   "execution_count": null,
   "id": "98ac765c-14ac-4cd8-af1b-7a184f839d16",
   "metadata": {},
   "outputs": [],
   "source": []
  }
 ],
 "metadata": {
  "kernelspec": {
   "display_name": "Python 3 (ipykernel)",
   "language": "python",
   "name": "python3"
  },
  "language_info": {
   "codemirror_mode": {
    "name": "ipython",
    "version": 3
   },
   "file_extension": ".py",
   "mimetype": "text/x-python",
   "name": "python",
   "nbconvert_exporter": "python",
   "pygments_lexer": "ipython3",
   "version": "3.11.4"
  }
 },
 "nbformat": 4,
 "nbformat_minor": 5
}
