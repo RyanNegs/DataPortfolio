{
 "cells": [
  {
   "cell_type": "markdown",
   "id": "06b33aae-a8b1-4969-a838-b391d9b8680a",
   "metadata": {},
   "source": [
    "# 2024 NFL Season O/U Alg"
   ]
  },
  {
   "cell_type": "code",
   "execution_count": 1,
   "id": "7aab1d77-63a6-4386-968d-3b4145ee55af",
   "metadata": {
    "tags": []
   },
   "outputs": [],
   "source": [
    "import numpy as np\n",
    "import pandas as pd\n",
    "import matplotlib.pyplot as plt\n",
    "import seaborn as sns\n",
    "from sklearn.preprocessing import StandardScaler\n",
    "from sklearn.pipeline import Pipeline\n",
    "from sklearn.ensemble import RandomForestRegressor\n",
    "import statsmodels.formula.api as smf\n",
    "from patsy import dmatrices\n",
    "from xgboost import XGBClassifier\n",
    "from sklearn import preprocessing, model_selection, metrics\n",
    "from sklearn.model_selection import StratifiedKFold, train_test_split, cross_val_score, GridSearchCV, RandomizedSearchCV\n",
    "from sklearn.metrics import make_scorer, brier_score_loss\n",
    "from sklearn.calibration import CalibratedClassifierCV\n",
    "from sklearn.ensemble import RandomForestClassifier\n",
    "from matplotlib.legend_handler import HandlerLine2D\n",
    "from collections import OrderedDict\n",
    "from sklearn.preprocessing import OneHotEncoder"
   ]
  },
  {
   "cell_type": "code",
   "execution_count": 2,
   "id": "76927ee0-6d7c-4cd0-9465-488098a07166",
   "metadata": {
    "tags": []
   },
   "outputs": [],
   "source": [
    "import pickle"
   ]
  },
  {
   "cell_type": "code",
   "execution_count": 3,
   "id": "71a50e1a-88a9-406a-b6b7-a3d98de68638",
   "metadata": {
    "tags": []
   },
   "outputs": [],
   "source": [
    "df_model = pd.read_csv('model_data_nfl')"
   ]
  },
  {
   "cell_type": "code",
   "execution_count": 4,
   "id": "662cb127-fd3f-44b0-b19b-a61926fb1c30",
   "metadata": {
    "tags": []
   },
   "outputs": [],
   "source": [
    "week_1 = pd.read_csv('odds_w1.csv')"
   ]
  },
  {
   "cell_type": "code",
   "execution_count": 5,
   "id": "d047b0cc-881b-43c8-b258-cc59a4cbfcc8",
   "metadata": {
    "tags": []
   },
   "outputs": [
    {
     "data": {
      "text/html": [
       "<div>\n",
       "<style scoped>\n",
       "    .dataframe tbody tr th:only-of-type {\n",
       "        vertical-align: middle;\n",
       "    }\n",
       "\n",
       "    .dataframe tbody tr th {\n",
       "        vertical-align: top;\n",
       "    }\n",
       "\n",
       "    .dataframe thead th {\n",
       "        text-align: right;\n",
       "    }\n",
       "</style>\n",
       "<table border=\"1\" class=\"dataframe\">\n",
       "  <thead>\n",
       "    <tr style=\"text-align: right;\">\n",
       "      <th></th>\n",
       "      <th>home_team</th>\n",
       "      <th>away_team</th>\n",
       "      <th>Total Score Open</th>\n",
       "      <th>Date</th>\n",
       "    </tr>\n",
       "  </thead>\n",
       "  <tbody>\n",
       "    <tr>\n",
       "      <th>0</th>\n",
       "      <td>KC</td>\n",
       "      <td>BAL</td>\n",
       "      <td>46.5</td>\n",
       "      <td>9/5/2024</td>\n",
       "    </tr>\n",
       "    <tr>\n",
       "      <th>1</th>\n",
       "      <td>PHI</td>\n",
       "      <td>GB</td>\n",
       "      <td>48.5</td>\n",
       "      <td>9/6/2024</td>\n",
       "    </tr>\n",
       "    <tr>\n",
       "      <th>2</th>\n",
       "      <td>IND</td>\n",
       "      <td>HOU</td>\n",
       "      <td>49.0</td>\n",
       "      <td>9/8/2024</td>\n",
       "    </tr>\n",
       "    <tr>\n",
       "      <th>3</th>\n",
       "      <td>NO</td>\n",
       "      <td>CAR</td>\n",
       "      <td>41.5</td>\n",
       "      <td>9/8/2024</td>\n",
       "    </tr>\n",
       "    <tr>\n",
       "      <th>4</th>\n",
       "      <td>BUF</td>\n",
       "      <td>ARI</td>\n",
       "      <td>48.0</td>\n",
       "      <td>9/8/2024</td>\n",
       "    </tr>\n",
       "    <tr>\n",
       "      <th>5</th>\n",
       "      <td>NYG</td>\n",
       "      <td>MIN</td>\n",
       "      <td>41.5</td>\n",
       "      <td>9/8/2024</td>\n",
       "    </tr>\n",
       "    <tr>\n",
       "      <th>6</th>\n",
       "      <td>CIN</td>\n",
       "      <td>NE</td>\n",
       "      <td>40.5</td>\n",
       "      <td>9/8/2024</td>\n",
       "    </tr>\n",
       "    <tr>\n",
       "      <th>7</th>\n",
       "      <td>ATL</td>\n",
       "      <td>PIT</td>\n",
       "      <td>42.0</td>\n",
       "      <td>9/8/2024</td>\n",
       "    </tr>\n",
       "    <tr>\n",
       "      <th>8</th>\n",
       "      <td>MIA</td>\n",
       "      <td>JAX</td>\n",
       "      <td>49.0</td>\n",
       "      <td>9/8/2024</td>\n",
       "    </tr>\n",
       "    <tr>\n",
       "      <th>9</th>\n",
       "      <td>CHI</td>\n",
       "      <td>TEN</td>\n",
       "      <td>44.5</td>\n",
       "      <td>9/8/2024</td>\n",
       "    </tr>\n",
       "    <tr>\n",
       "      <th>10</th>\n",
       "      <td>LAC</td>\n",
       "      <td>LV</td>\n",
       "      <td>40.5</td>\n",
       "      <td>9/8/2024</td>\n",
       "    </tr>\n",
       "    <tr>\n",
       "      <th>11</th>\n",
       "      <td>SEA</td>\n",
       "      <td>DEN</td>\n",
       "      <td>42.0</td>\n",
       "      <td>9/8/2024</td>\n",
       "    </tr>\n",
       "    <tr>\n",
       "      <th>12</th>\n",
       "      <td>CLE</td>\n",
       "      <td>DAL</td>\n",
       "      <td>40.5</td>\n",
       "      <td>9/8/2024</td>\n",
       "    </tr>\n",
       "    <tr>\n",
       "      <th>13</th>\n",
       "      <td>TB</td>\n",
       "      <td>WAS</td>\n",
       "      <td>43.5</td>\n",
       "      <td>9/8/2024</td>\n",
       "    </tr>\n",
       "    <tr>\n",
       "      <th>14</th>\n",
       "      <td>DET</td>\n",
       "      <td>LAR</td>\n",
       "      <td>51.0</td>\n",
       "      <td>9/8/2024</td>\n",
       "    </tr>\n",
       "    <tr>\n",
       "      <th>15</th>\n",
       "      <td>SF</td>\n",
       "      <td>NYJ</td>\n",
       "      <td>43.5</td>\n",
       "      <td>9/9/2024</td>\n",
       "    </tr>\n",
       "  </tbody>\n",
       "</table>\n",
       "</div>"
      ],
      "text/plain": [
       "   home_team away_team  Total Score Open      Date\n",
       "0         KC       BAL              46.5  9/5/2024\n",
       "1        PHI        GB              48.5  9/6/2024\n",
       "2        IND       HOU              49.0  9/8/2024\n",
       "3         NO       CAR              41.5  9/8/2024\n",
       "4        BUF       ARI              48.0  9/8/2024\n",
       "5        NYG       MIN              41.5  9/8/2024\n",
       "6        CIN        NE              40.5  9/8/2024\n",
       "7        ATL       PIT              42.0  9/8/2024\n",
       "8        MIA       JAX              49.0  9/8/2024\n",
       "9        CHI       TEN              44.5  9/8/2024\n",
       "10       LAC        LV              40.5  9/8/2024\n",
       "11       SEA       DEN              42.0  9/8/2024\n",
       "12       CLE       DAL              40.5  9/8/2024\n",
       "13        TB       WAS              43.5  9/8/2024\n",
       "14       DET       LAR              51.0  9/8/2024\n",
       "15        SF       NYJ              43.5  9/9/2024"
      ]
     },
     "execution_count": 5,
     "metadata": {},
     "output_type": "execute_result"
    }
   ],
   "source": [
    "week_1"
   ]
  },
  {
   "cell_type": "code",
   "execution_count": 6,
   "id": "252fd139-6937-46d7-99ad-93f095fac632",
   "metadata": {
    "tags": []
   },
   "outputs": [],
   "source": [
    "week_1['Date'] = pd.to_datetime(week_1['Date'])"
   ]
  },
  {
   "cell_type": "code",
   "execution_count": 7,
   "id": "3b133321-7f26-4930-bc50-834551388326",
   "metadata": {
    "tags": []
   },
   "outputs": [],
   "source": [
    "week_1['Date'] = week_1['Date'].astype('object')"
   ]
  },
  {
   "cell_type": "code",
   "execution_count": 8,
   "id": "2b5bdb91-fde2-4fc7-b377-016c2b5a0ef8",
   "metadata": {
    "tags": []
   },
   "outputs": [],
   "source": [
    "week_1['Season'] = '2023'"
   ]
  },
  {
   "cell_type": "code",
   "execution_count": 9,
   "id": "275f3eb2-832c-4a18-a685-7100920f1292",
   "metadata": {
    "tags": []
   },
   "outputs": [],
   "source": [
    "week_1['Season'] = week_1['Season'].astype('object')"
   ]
  },
  {
   "cell_type": "code",
   "execution_count": 10,
   "id": "eb16b188-e3c7-4629-9880-1e7e1e8b6068",
   "metadata": {
    "tags": []
   },
   "outputs": [
    {
     "data": {
      "text/html": [
       "<div>\n",
       "<style scoped>\n",
       "    .dataframe tbody tr th:only-of-type {\n",
       "        vertical-align: middle;\n",
       "    }\n",
       "\n",
       "    .dataframe tbody tr th {\n",
       "        vertical-align: top;\n",
       "    }\n",
       "\n",
       "    .dataframe thead th {\n",
       "        text-align: right;\n",
       "    }\n",
       "</style>\n",
       "<table border=\"1\" class=\"dataframe\">\n",
       "  <thead>\n",
       "    <tr style=\"text-align: right;\">\n",
       "      <th></th>\n",
       "      <th>Unnamed: 0</th>\n",
       "      <th>Date</th>\n",
       "      <th>Home Team</th>\n",
       "      <th>Home Score</th>\n",
       "      <th>Total Score Open</th>\n",
       "      <th>Game_Total</th>\n",
       "      <th>Overtime</th>\n",
       "      <th>season</th>\n",
       "      <th>Away Team</th>\n",
       "      <th>Away Score</th>\n",
       "      <th>...</th>\n",
       "      <th>defense_completion_percentage_y</th>\n",
       "      <th>defense_ave_yards_gained_pass_y</th>\n",
       "      <th>defense_ave_yards_gained_run_y</th>\n",
       "      <th>defense_ave_air_yards_y</th>\n",
       "      <th>defense_ave_yac_y</th>\n",
       "      <th>defense_ave_epa_pass_y</th>\n",
       "      <th>defense_ave_epa_run_y</th>\n",
       "      <th>defense_success_rate_pass_y</th>\n",
       "      <th>defense_success_rate_run_y</th>\n",
       "      <th>score_differential_y</th>\n",
       "    </tr>\n",
       "  </thead>\n",
       "  <tbody>\n",
       "    <tr>\n",
       "      <th>0</th>\n",
       "      <td>0</td>\n",
       "      <td>2023-01-08</td>\n",
       "      <td>GB</td>\n",
       "      <td>16</td>\n",
       "      <td>48.5</td>\n",
       "      <td>36</td>\n",
       "      <td>N</td>\n",
       "      <td>2022</td>\n",
       "      <td>DET</td>\n",
       "      <td>20</td>\n",
       "      <td>...</td>\n",
       "      <td>0.584437</td>\n",
       "      <td>6.925497</td>\n",
       "      <td>5.400862</td>\n",
       "      <td>9.511628</td>\n",
       "      <td>4.705382</td>\n",
       "      <td>0.046447</td>\n",
       "      <td>0.118396</td>\n",
       "      <td>0.463576</td>\n",
       "      <td>0.476293</td>\n",
       "      <td>26.0</td>\n",
       "    </tr>\n",
       "    <tr>\n",
       "      <th>1</th>\n",
       "      <td>1</td>\n",
       "      <td>2023-01-08</td>\n",
       "      <td>ATL</td>\n",
       "      <td>30</td>\n",
       "      <td>40.0</td>\n",
       "      <td>47</td>\n",
       "      <td>N</td>\n",
       "      <td>2022</td>\n",
       "      <td>TB</td>\n",
       "      <td>17</td>\n",
       "      <td>...</td>\n",
       "      <td>0.592834</td>\n",
       "      <td>5.643322</td>\n",
       "      <td>4.604911</td>\n",
       "      <td>8.118584</td>\n",
       "      <td>4.796703</td>\n",
       "      <td>-0.013615</td>\n",
       "      <td>-0.040508</td>\n",
       "      <td>0.429967</td>\n",
       "      <td>0.410714</td>\n",
       "      <td>-45.0</td>\n",
       "    </tr>\n",
       "    <tr>\n",
       "      <th>2</th>\n",
       "      <td>2</td>\n",
       "      <td>2023-01-08</td>\n",
       "      <td>BUF</td>\n",
       "      <td>35</td>\n",
       "      <td>43.0</td>\n",
       "      <td>58</td>\n",
       "      <td>N</td>\n",
       "      <td>2022</td>\n",
       "      <td>NE</td>\n",
       "      <td>23</td>\n",
       "      <td>...</td>\n",
       "      <td>0.558282</td>\n",
       "      <td>5.648773</td>\n",
       "      <td>4.241784</td>\n",
       "      <td>8.843960</td>\n",
       "      <td>4.752747</td>\n",
       "      <td>-0.105847</td>\n",
       "      <td>-0.063886</td>\n",
       "      <td>0.417178</td>\n",
       "      <td>0.415493</td>\n",
       "      <td>17.0</td>\n",
       "    </tr>\n",
       "    <tr>\n",
       "      <th>3</th>\n",
       "      <td>3</td>\n",
       "      <td>2023-01-08</td>\n",
       "      <td>CHI</td>\n",
       "      <td>13</td>\n",
       "      <td>45.5</td>\n",
       "      <td>42</td>\n",
       "      <td>N</td>\n",
       "      <td>2022</td>\n",
       "      <td>MIN</td>\n",
       "      <td>29</td>\n",
       "      <td>...</td>\n",
       "      <td>0.621951</td>\n",
       "      <td>6.888720</td>\n",
       "      <td>4.592998</td>\n",
       "      <td>7.939542</td>\n",
       "      <td>5.482843</td>\n",
       "      <td>0.031256</td>\n",
       "      <td>-0.015597</td>\n",
       "      <td>0.460366</td>\n",
       "      <td>0.442013</td>\n",
       "      <td>-3.0</td>\n",
       "    </tr>\n",
       "    <tr>\n",
       "      <th>4</th>\n",
       "      <td>4</td>\n",
       "      <td>2023-01-08</td>\n",
       "      <td>CIN</td>\n",
       "      <td>27</td>\n",
       "      <td>43.0</td>\n",
       "      <td>43</td>\n",
       "      <td>N</td>\n",
       "      <td>2022</td>\n",
       "      <td>BAL</td>\n",
       "      <td>16</td>\n",
       "      <td>...</td>\n",
       "      <td>0.613707</td>\n",
       "      <td>6.151090</td>\n",
       "      <td>3.967254</td>\n",
       "      <td>6.976351</td>\n",
       "      <td>4.786802</td>\n",
       "      <td>0.015447</td>\n",
       "      <td>-0.062208</td>\n",
       "      <td>0.450156</td>\n",
       "      <td>0.420655</td>\n",
       "      <td>35.0</td>\n",
       "    </tr>\n",
       "  </tbody>\n",
       "</table>\n",
       "<p>5 rows × 48 columns</p>\n",
       "</div>"
      ],
      "text/plain": [
       "   Unnamed: 0        Date Home Team  Home Score  Total Score Open  Game_Total  \\\n",
       "0           0  2023-01-08        GB          16              48.5          36   \n",
       "1           1  2023-01-08       ATL          30              40.0          47   \n",
       "2           2  2023-01-08       BUF          35              43.0          58   \n",
       "3           3  2023-01-08       CHI          13              45.5          42   \n",
       "4           4  2023-01-08       CIN          27              43.0          43   \n",
       "\n",
       "  Overtime  season Away Team  Away Score  ...  \\\n",
       "0        N    2022       DET          20  ...   \n",
       "1        N    2022        TB          17  ...   \n",
       "2        N    2022        NE          23  ...   \n",
       "3        N    2022       MIN          29  ...   \n",
       "4        N    2022       BAL          16  ...   \n",
       "\n",
       "   defense_completion_percentage_y  defense_ave_yards_gained_pass_y  \\\n",
       "0                         0.584437                         6.925497   \n",
       "1                         0.592834                         5.643322   \n",
       "2                         0.558282                         5.648773   \n",
       "3                         0.621951                         6.888720   \n",
       "4                         0.613707                         6.151090   \n",
       "\n",
       "   defense_ave_yards_gained_run_y  defense_ave_air_yards_y  defense_ave_yac_y  \\\n",
       "0                        5.400862                 9.511628           4.705382   \n",
       "1                        4.604911                 8.118584           4.796703   \n",
       "2                        4.241784                 8.843960           4.752747   \n",
       "3                        4.592998                 7.939542           5.482843   \n",
       "4                        3.967254                 6.976351           4.786802   \n",
       "\n",
       "   defense_ave_epa_pass_y  defense_ave_epa_run_y  defense_success_rate_pass_y  \\\n",
       "0                0.046447               0.118396                     0.463576   \n",
       "1               -0.013615              -0.040508                     0.429967   \n",
       "2               -0.105847              -0.063886                     0.417178   \n",
       "3                0.031256              -0.015597                     0.460366   \n",
       "4                0.015447              -0.062208                     0.450156   \n",
       "\n",
       "   defense_success_rate_run_y  score_differential_y  \n",
       "0                    0.476293                  26.0  \n",
       "1                    0.410714                 -45.0  \n",
       "2                    0.415493                  17.0  \n",
       "3                    0.442013                  -3.0  \n",
       "4                    0.420655                  35.0  \n",
       "\n",
       "[5 rows x 48 columns]"
      ]
     },
     "execution_count": 10,
     "metadata": {},
     "output_type": "execute_result"
    }
   ],
   "source": [
    "df_model.head()"
   ]
  },
  {
   "cell_type": "code",
   "execution_count": 11,
   "id": "84208370-fcb0-4370-88a4-8955a29dd5de",
   "metadata": {
    "tags": []
   },
   "outputs": [
    {
     "data": {
      "text/plain": [
       "Unnamed: 0                         4383\n",
       "Date                                812\n",
       "Home Team                            32\n",
       "Home Score                           58\n",
       "Total Score Open                     58\n",
       "Game_Total                           92\n",
       "Overtime                              2\n",
       "season                               17\n",
       "Away Team                            32\n",
       "Away Score                           54\n",
       "offense_completion_percentage_x     533\n",
       "offense_ave_yards_gained_pass_x     542\n",
       "offense_ave_yards_gained_run_x      543\n",
       "offense_ave_air_yards_x             544\n",
       "offense_ave_yac_x                   543\n",
       "offense_ave_epa_pass_x              544\n",
       "offense_ave_epa_run_x               544\n",
       "offense_success_rate_pass_x         531\n",
       "offense_success_rate_run_x          526\n",
       "defense_completion_percentage_x     535\n",
       "defense_ave_yards_gained_pass_x     543\n",
       "defense_ave_yards_gained_run_x      542\n",
       "defense_ave_air_yards_x             544\n",
       "defense_ave_yac_x                   542\n",
       "defense_ave_epa_pass_x              544\n",
       "defense_ave_epa_run_x               544\n",
       "defense_success_rate_pass_x         532\n",
       "defense_success_rate_run_x          530\n",
       "score_differential_x                303\n",
       "offense_completion_percentage_y     533\n",
       "offense_ave_yards_gained_pass_y     542\n",
       "offense_ave_yards_gained_run_y      543\n",
       "offense_ave_air_yards_y             544\n",
       "offense_ave_yac_y                   543\n",
       "offense_ave_epa_pass_y              544\n",
       "offense_ave_epa_run_y               544\n",
       "offense_success_rate_pass_y         531\n",
       "offense_success_rate_run_y          526\n",
       "defense_completion_percentage_y     535\n",
       "defense_ave_yards_gained_pass_y     543\n",
       "defense_ave_yards_gained_run_y      542\n",
       "defense_ave_air_yards_y             544\n",
       "defense_ave_yac_y                   542\n",
       "defense_ave_epa_pass_y              544\n",
       "defense_ave_epa_run_y               544\n",
       "defense_success_rate_pass_y         532\n",
       "defense_success_rate_run_y          530\n",
       "score_differential_y                303\n",
       "dtype: int64"
      ]
     },
     "execution_count": 11,
     "metadata": {},
     "output_type": "execute_result"
    }
   ],
   "source": [
    "df_model.nunique()"
   ]
  },
  {
   "cell_type": "code",
   "execution_count": 12,
   "id": "f71a8c67-847c-4abc-938d-2ef8144278e7",
   "metadata": {
    "tags": []
   },
   "outputs": [],
   "source": [
    "df_model.drop(columns = 'Unnamed: 0', inplace = True)"
   ]
  },
  {
   "cell_type": "code",
   "execution_count": 13,
   "id": "c09e1686-c4a0-4a66-a899-185c1fd597e5",
   "metadata": {
    "tags": []
   },
   "outputs": [],
   "source": [
    "rename_dict = {'home_team' : 'Home Team', 'away_team' : 'Away Team'}"
   ]
  },
  {
   "cell_type": "code",
   "execution_count": 14,
   "id": "84c3c545-e73f-4fff-9f44-f249d8cba7b1",
   "metadata": {
    "tags": []
   },
   "outputs": [],
   "source": [
    "week_1.rename(columns = rename_dict, inplace = True)"
   ]
  },
  {
   "cell_type": "code",
   "execution_count": 15,
   "id": "22ebc702-4b7f-4f90-b56c-42bfcee0e7fd",
   "metadata": {
    "tags": []
   },
   "outputs": [
    {
     "data": {
      "text/html": [
       "<div>\n",
       "<style scoped>\n",
       "    .dataframe tbody tr th:only-of-type {\n",
       "        vertical-align: middle;\n",
       "    }\n",
       "\n",
       "    .dataframe tbody tr th {\n",
       "        vertical-align: top;\n",
       "    }\n",
       "\n",
       "    .dataframe thead th {\n",
       "        text-align: right;\n",
       "    }\n",
       "</style>\n",
       "<table border=\"1\" class=\"dataframe\">\n",
       "  <thead>\n",
       "    <tr style=\"text-align: right;\">\n",
       "      <th></th>\n",
       "      <th>Home Team</th>\n",
       "      <th>Away Team</th>\n",
       "      <th>Total Score Open</th>\n",
       "      <th>Date</th>\n",
       "      <th>Season</th>\n",
       "    </tr>\n",
       "  </thead>\n",
       "  <tbody>\n",
       "    <tr>\n",
       "      <th>0</th>\n",
       "      <td>KC</td>\n",
       "      <td>BAL</td>\n",
       "      <td>46.5</td>\n",
       "      <td>2024-09-05 00:00:00</td>\n",
       "      <td>2023</td>\n",
       "    </tr>\n",
       "    <tr>\n",
       "      <th>1</th>\n",
       "      <td>PHI</td>\n",
       "      <td>GB</td>\n",
       "      <td>48.5</td>\n",
       "      <td>2024-09-06 00:00:00</td>\n",
       "      <td>2023</td>\n",
       "    </tr>\n",
       "    <tr>\n",
       "      <th>2</th>\n",
       "      <td>IND</td>\n",
       "      <td>HOU</td>\n",
       "      <td>49.0</td>\n",
       "      <td>2024-09-08 00:00:00</td>\n",
       "      <td>2023</td>\n",
       "    </tr>\n",
       "    <tr>\n",
       "      <th>3</th>\n",
       "      <td>NO</td>\n",
       "      <td>CAR</td>\n",
       "      <td>41.5</td>\n",
       "      <td>2024-09-08 00:00:00</td>\n",
       "      <td>2023</td>\n",
       "    </tr>\n",
       "    <tr>\n",
       "      <th>4</th>\n",
       "      <td>BUF</td>\n",
       "      <td>ARI</td>\n",
       "      <td>48.0</td>\n",
       "      <td>2024-09-08 00:00:00</td>\n",
       "      <td>2023</td>\n",
       "    </tr>\n",
       "    <tr>\n",
       "      <th>5</th>\n",
       "      <td>NYG</td>\n",
       "      <td>MIN</td>\n",
       "      <td>41.5</td>\n",
       "      <td>2024-09-08 00:00:00</td>\n",
       "      <td>2023</td>\n",
       "    </tr>\n",
       "    <tr>\n",
       "      <th>6</th>\n",
       "      <td>CIN</td>\n",
       "      <td>NE</td>\n",
       "      <td>40.5</td>\n",
       "      <td>2024-09-08 00:00:00</td>\n",
       "      <td>2023</td>\n",
       "    </tr>\n",
       "    <tr>\n",
       "      <th>7</th>\n",
       "      <td>ATL</td>\n",
       "      <td>PIT</td>\n",
       "      <td>42.0</td>\n",
       "      <td>2024-09-08 00:00:00</td>\n",
       "      <td>2023</td>\n",
       "    </tr>\n",
       "    <tr>\n",
       "      <th>8</th>\n",
       "      <td>MIA</td>\n",
       "      <td>JAX</td>\n",
       "      <td>49.0</td>\n",
       "      <td>2024-09-08 00:00:00</td>\n",
       "      <td>2023</td>\n",
       "    </tr>\n",
       "    <tr>\n",
       "      <th>9</th>\n",
       "      <td>CHI</td>\n",
       "      <td>TEN</td>\n",
       "      <td>44.5</td>\n",
       "      <td>2024-09-08 00:00:00</td>\n",
       "      <td>2023</td>\n",
       "    </tr>\n",
       "    <tr>\n",
       "      <th>10</th>\n",
       "      <td>LAC</td>\n",
       "      <td>LV</td>\n",
       "      <td>40.5</td>\n",
       "      <td>2024-09-08 00:00:00</td>\n",
       "      <td>2023</td>\n",
       "    </tr>\n",
       "    <tr>\n",
       "      <th>11</th>\n",
       "      <td>SEA</td>\n",
       "      <td>DEN</td>\n",
       "      <td>42.0</td>\n",
       "      <td>2024-09-08 00:00:00</td>\n",
       "      <td>2023</td>\n",
       "    </tr>\n",
       "    <tr>\n",
       "      <th>12</th>\n",
       "      <td>CLE</td>\n",
       "      <td>DAL</td>\n",
       "      <td>40.5</td>\n",
       "      <td>2024-09-08 00:00:00</td>\n",
       "      <td>2023</td>\n",
       "    </tr>\n",
       "    <tr>\n",
       "      <th>13</th>\n",
       "      <td>TB</td>\n",
       "      <td>WAS</td>\n",
       "      <td>43.5</td>\n",
       "      <td>2024-09-08 00:00:00</td>\n",
       "      <td>2023</td>\n",
       "    </tr>\n",
       "    <tr>\n",
       "      <th>14</th>\n",
       "      <td>DET</td>\n",
       "      <td>LAR</td>\n",
       "      <td>51.0</td>\n",
       "      <td>2024-09-08 00:00:00</td>\n",
       "      <td>2023</td>\n",
       "    </tr>\n",
       "    <tr>\n",
       "      <th>15</th>\n",
       "      <td>SF</td>\n",
       "      <td>NYJ</td>\n",
       "      <td>43.5</td>\n",
       "      <td>2024-09-09 00:00:00</td>\n",
       "      <td>2023</td>\n",
       "    </tr>\n",
       "  </tbody>\n",
       "</table>\n",
       "</div>"
      ],
      "text/plain": [
       "   Home Team Away Team  Total Score Open                 Date Season\n",
       "0         KC       BAL              46.5  2024-09-05 00:00:00   2023\n",
       "1        PHI        GB              48.5  2024-09-06 00:00:00   2023\n",
       "2        IND       HOU              49.0  2024-09-08 00:00:00   2023\n",
       "3         NO       CAR              41.5  2024-09-08 00:00:00   2023\n",
       "4        BUF       ARI              48.0  2024-09-08 00:00:00   2023\n",
       "5        NYG       MIN              41.5  2024-09-08 00:00:00   2023\n",
       "6        CIN        NE              40.5  2024-09-08 00:00:00   2023\n",
       "7        ATL       PIT              42.0  2024-09-08 00:00:00   2023\n",
       "8        MIA       JAX              49.0  2024-09-08 00:00:00   2023\n",
       "9        CHI       TEN              44.5  2024-09-08 00:00:00   2023\n",
       "10       LAC        LV              40.5  2024-09-08 00:00:00   2023\n",
       "11       SEA       DEN              42.0  2024-09-08 00:00:00   2023\n",
       "12       CLE       DAL              40.5  2024-09-08 00:00:00   2023\n",
       "13        TB       WAS              43.5  2024-09-08 00:00:00   2023\n",
       "14       DET       LAR              51.0  2024-09-08 00:00:00   2023\n",
       "15        SF       NYJ              43.5  2024-09-09 00:00:00   2023"
      ]
     },
     "execution_count": 15,
     "metadata": {},
     "output_type": "execute_result"
    }
   ],
   "source": [
    "week_1"
   ]
  },
  {
   "cell_type": "code",
   "execution_count": 16,
   "id": "b24274ec-36be-4765-aab3-0bb934bf8ab7",
   "metadata": {
    "tags": []
   },
   "outputs": [
    {
     "name": "stdout",
     "output_type": "stream",
     "text": [
      "<class 'pandas.core.frame.DataFrame'>\n",
      "RangeIndex: 16 entries, 0 to 15\n",
      "Data columns (total 5 columns):\n",
      " #   Column            Non-Null Count  Dtype  \n",
      "---  ------            --------------  -----  \n",
      " 0   Home Team         16 non-null     object \n",
      " 1   Away Team         16 non-null     object \n",
      " 2   Total Score Open  16 non-null     float64\n",
      " 3   Date              16 non-null     object \n",
      " 4   Season            16 non-null     object \n",
      "dtypes: float64(1), object(4)\n",
      "memory usage: 772.0+ bytes\n"
     ]
    }
   ],
   "source": [
    "week_1.info()"
   ]
  },
  {
   "cell_type": "code",
   "execution_count": 17,
   "id": "b16ec3e8-dc3d-4859-ba74-4dd8ddd37d88",
   "metadata": {
    "tags": []
   },
   "outputs": [],
   "source": [
    "new_stats = pd.read_csv('football.csv')"
   ]
  },
  {
   "cell_type": "code",
   "execution_count": 18,
   "id": "01bf9496-a10b-4648-a6c7-4d27dc1476eb",
   "metadata": {
    "tags": []
   },
   "outputs": [
    {
     "name": "stdout",
     "output_type": "stream",
     "text": [
      "<class 'pandas.core.frame.DataFrame'>\n",
      "RangeIndex: 161 entries, 0 to 160\n",
      "Data columns (total 18 columns):\n",
      " #   Column   Non-Null Count  Dtype  \n",
      "---  ------   --------------  -----  \n",
      " 0   Season   160 non-null    float64\n",
      " 1   Team     160 non-null    object \n",
      " 2   Pts      160 non-null    float64\n",
      " 3   PtsO     160 non-null    float64\n",
      " 4   Cmp%     160 non-null    float64\n",
      " 5   AY/A     160 non-null    float64\n",
      " 6   Y/P      160 non-null    float64\n",
      " 7   OnTgt%   160 non-null    float64\n",
      " 8   DADOT    160 non-null    float64\n",
      " 9   IAY/PA   160 non-null    float64\n",
      " 10  Drop%    160 non-null    float64\n",
      " 11  ADOT     160 non-null    float64\n",
      " 12  DADOT.1  160 non-null    float64\n",
      " 13  TD%      160 non-null    float64\n",
      " 14  Int%     160 non-null    float64\n",
      " 15  Rate     160 non-null    float64\n",
      " 16  TO       160 non-null    float64\n",
      " 17  CAY/PA   160 non-null    float64\n",
      "dtypes: float64(17), object(1)\n",
      "memory usage: 22.8+ KB\n"
     ]
    }
   ],
   "source": [
    "new_stats.info()"
   ]
  },
  {
   "cell_type": "code",
   "execution_count": 19,
   "id": "3102bb31-341e-4b95-892c-751dfc076080",
   "metadata": {
    "tags": []
   },
   "outputs": [
    {
     "data": {
      "text/html": [
       "<div>\n",
       "<style scoped>\n",
       "    .dataframe tbody tr th:only-of-type {\n",
       "        vertical-align: middle;\n",
       "    }\n",
       "\n",
       "    .dataframe tbody tr th {\n",
       "        vertical-align: top;\n",
       "    }\n",
       "\n",
       "    .dataframe thead th {\n",
       "        text-align: right;\n",
       "    }\n",
       "</style>\n",
       "<table border=\"1\" class=\"dataframe\">\n",
       "  <thead>\n",
       "    <tr style=\"text-align: right;\">\n",
       "      <th></th>\n",
       "      <th>Season</th>\n",
       "      <th>Team</th>\n",
       "      <th>Pts</th>\n",
       "      <th>PtsO</th>\n",
       "      <th>Cmp%</th>\n",
       "      <th>AY/A</th>\n",
       "      <th>Y/P</th>\n",
       "      <th>OnTgt%</th>\n",
       "      <th>DADOT</th>\n",
       "      <th>IAY/PA</th>\n",
       "      <th>Drop%</th>\n",
       "      <th>ADOT</th>\n",
       "      <th>DADOT.1</th>\n",
       "      <th>TD%</th>\n",
       "      <th>Int%</th>\n",
       "      <th>Rate</th>\n",
       "      <th>TO</th>\n",
       "      <th>CAY/PA</th>\n",
       "    </tr>\n",
       "  </thead>\n",
       "  <tbody>\n",
       "    <tr>\n",
       "      <th>0</th>\n",
       "      <td>NaN</td>\n",
       "      <td>NaN</td>\n",
       "      <td>NaN</td>\n",
       "      <td>NaN</td>\n",
       "      <td>NaN</td>\n",
       "      <td>NaN</td>\n",
       "      <td>NaN</td>\n",
       "      <td>NaN</td>\n",
       "      <td>NaN</td>\n",
       "      <td>NaN</td>\n",
       "      <td>NaN</td>\n",
       "      <td>NaN</td>\n",
       "      <td>NaN</td>\n",
       "      <td>NaN</td>\n",
       "      <td>NaN</td>\n",
       "      <td>NaN</td>\n",
       "      <td>NaN</td>\n",
       "      <td>NaN</td>\n",
       "    </tr>\n",
       "    <tr>\n",
       "      <th>1</th>\n",
       "      <td>2023.0</td>\n",
       "      <td>ATL</td>\n",
       "      <td>321.0</td>\n",
       "      <td>373.0</td>\n",
       "      <td>61.7</td>\n",
       "      <td>5.85</td>\n",
       "      <td>5.20</td>\n",
       "      <td>73.9</td>\n",
       "      <td>8.6</td>\n",
       "      <td>8.2</td>\n",
       "      <td>4.9</td>\n",
       "      <td>7.9</td>\n",
       "      <td>8.6</td>\n",
       "      <td>3.2</td>\n",
       "      <td>3.2</td>\n",
       "      <td>80.5</td>\n",
       "      <td>28.0</td>\n",
       "      <td>3.8</td>\n",
       "    </tr>\n",
       "    <tr>\n",
       "      <th>2</th>\n",
       "      <td>2023.0</td>\n",
       "      <td>BUF</td>\n",
       "      <td>451.0</td>\n",
       "      <td>311.0</td>\n",
       "      <td>66.5</td>\n",
       "      <td>6.78</td>\n",
       "      <td>5.71</td>\n",
       "      <td>77.8</td>\n",
       "      <td>6.9</td>\n",
       "      <td>8.7</td>\n",
       "      <td>5.6</td>\n",
       "      <td>8.1</td>\n",
       "      <td>6.9</td>\n",
       "      <td>5.0</td>\n",
       "      <td>3.1</td>\n",
       "      <td>92.2</td>\n",
       "      <td>28.0</td>\n",
       "      <td>4.0</td>\n",
       "    </tr>\n",
       "    <tr>\n",
       "      <th>3</th>\n",
       "      <td>2023.0</td>\n",
       "      <td>CAR</td>\n",
       "      <td>236.0</td>\n",
       "      <td>416.0</td>\n",
       "      <td>59.7</td>\n",
       "      <td>4.35</td>\n",
       "      <td>4.11</td>\n",
       "      <td>72.9</td>\n",
       "      <td>7.3</td>\n",
       "      <td>7.6</td>\n",
       "      <td>5.2</td>\n",
       "      <td>6.9</td>\n",
       "      <td>7.3</td>\n",
       "      <td>2.2</td>\n",
       "      <td>1.7</td>\n",
       "      <td>75.2</td>\n",
       "      <td>20.0</td>\n",
       "      <td>3.1</td>\n",
       "    </tr>\n",
       "    <tr>\n",
       "      <th>4</th>\n",
       "      <td>2023.0</td>\n",
       "      <td>CHI</td>\n",
       "      <td>360.0</td>\n",
       "      <td>379.0</td>\n",
       "      <td>62.6</td>\n",
       "      <td>5.46</td>\n",
       "      <td>5.01</td>\n",
       "      <td>74.1</td>\n",
       "      <td>7.3</td>\n",
       "      <td>7.4</td>\n",
       "      <td>3.9</td>\n",
       "      <td>6.8</td>\n",
       "      <td>7.3</td>\n",
       "      <td>3.7</td>\n",
       "      <td>2.9</td>\n",
       "      <td>82.2</td>\n",
       "      <td>25.0</td>\n",
       "      <td>3.3</td>\n",
       "    </tr>\n",
       "  </tbody>\n",
       "</table>\n",
       "</div>"
      ],
      "text/plain": [
       "   Season Team    Pts   PtsO  Cmp%  AY/A   Y/P  OnTgt%  DADOT  IAY/PA  Drop%  \\\n",
       "0     NaN  NaN    NaN    NaN   NaN   NaN   NaN     NaN    NaN     NaN    NaN   \n",
       "1  2023.0  ATL  321.0  373.0  61.7  5.85  5.20    73.9    8.6     8.2    4.9   \n",
       "2  2023.0  BUF  451.0  311.0  66.5  6.78  5.71    77.8    6.9     8.7    5.6   \n",
       "3  2023.0  CAR  236.0  416.0  59.7  4.35  4.11    72.9    7.3     7.6    5.2   \n",
       "4  2023.0  CHI  360.0  379.0  62.6  5.46  5.01    74.1    7.3     7.4    3.9   \n",
       "\n",
       "   ADOT  DADOT.1  TD%  Int%  Rate    TO  CAY/PA  \n",
       "0   NaN      NaN  NaN   NaN   NaN   NaN     NaN  \n",
       "1   7.9      8.6  3.2   3.2  80.5  28.0     3.8  \n",
       "2   8.1      6.9  5.0   3.1  92.2  28.0     4.0  \n",
       "3   6.9      7.3  2.2   1.7  75.2  20.0     3.1  \n",
       "4   6.8      7.3  3.7   2.9  82.2  25.0     3.3  "
      ]
     },
     "execution_count": 19,
     "metadata": {},
     "output_type": "execute_result"
    }
   ],
   "source": [
    "new_stats.head()"
   ]
  },
  {
   "cell_type": "code",
   "execution_count": 20,
   "id": "0da94adc-a7d4-4e4d-88f7-e5830a7c9781",
   "metadata": {
    "tags": []
   },
   "outputs": [],
   "source": [
    "new_stats = new_stats.iloc[1:161].copy()"
   ]
  },
  {
   "cell_type": "code",
   "execution_count": 21,
   "id": "c2a77069-69fd-4402-920a-d6623e4280d6",
   "metadata": {
    "tags": []
   },
   "outputs": [
    {
     "data": {
      "text/html": [
       "<div>\n",
       "<style scoped>\n",
       "    .dataframe tbody tr th:only-of-type {\n",
       "        vertical-align: middle;\n",
       "    }\n",
       "\n",
       "    .dataframe tbody tr th {\n",
       "        vertical-align: top;\n",
       "    }\n",
       "\n",
       "    .dataframe thead th {\n",
       "        text-align: right;\n",
       "    }\n",
       "</style>\n",
       "<table border=\"1\" class=\"dataframe\">\n",
       "  <thead>\n",
       "    <tr style=\"text-align: right;\">\n",
       "      <th></th>\n",
       "      <th>Season</th>\n",
       "      <th>Team</th>\n",
       "      <th>Pts</th>\n",
       "      <th>PtsO</th>\n",
       "      <th>Cmp%</th>\n",
       "      <th>AY/A</th>\n",
       "      <th>Y/P</th>\n",
       "      <th>OnTgt%</th>\n",
       "      <th>DADOT</th>\n",
       "      <th>IAY/PA</th>\n",
       "      <th>Drop%</th>\n",
       "      <th>ADOT</th>\n",
       "      <th>DADOT.1</th>\n",
       "      <th>TD%</th>\n",
       "      <th>Int%</th>\n",
       "      <th>Rate</th>\n",
       "      <th>TO</th>\n",
       "      <th>CAY/PA</th>\n",
       "    </tr>\n",
       "  </thead>\n",
       "  <tbody>\n",
       "    <tr>\n",
       "      <th>1</th>\n",
       "      <td>2023.0</td>\n",
       "      <td>ATL</td>\n",
       "      <td>321.0</td>\n",
       "      <td>373.0</td>\n",
       "      <td>61.7</td>\n",
       "      <td>5.85</td>\n",
       "      <td>5.20</td>\n",
       "      <td>73.9</td>\n",
       "      <td>8.6</td>\n",
       "      <td>8.2</td>\n",
       "      <td>4.9</td>\n",
       "      <td>7.9</td>\n",
       "      <td>8.6</td>\n",
       "      <td>3.2</td>\n",
       "      <td>3.2</td>\n",
       "      <td>80.5</td>\n",
       "      <td>28.0</td>\n",
       "      <td>3.8</td>\n",
       "    </tr>\n",
       "    <tr>\n",
       "      <th>2</th>\n",
       "      <td>2023.0</td>\n",
       "      <td>BUF</td>\n",
       "      <td>451.0</td>\n",
       "      <td>311.0</td>\n",
       "      <td>66.5</td>\n",
       "      <td>6.78</td>\n",
       "      <td>5.71</td>\n",
       "      <td>77.8</td>\n",
       "      <td>6.9</td>\n",
       "      <td>8.7</td>\n",
       "      <td>5.6</td>\n",
       "      <td>8.1</td>\n",
       "      <td>6.9</td>\n",
       "      <td>5.0</td>\n",
       "      <td>3.1</td>\n",
       "      <td>92.2</td>\n",
       "      <td>28.0</td>\n",
       "      <td>4.0</td>\n",
       "    </tr>\n",
       "    <tr>\n",
       "      <th>3</th>\n",
       "      <td>2023.0</td>\n",
       "      <td>CAR</td>\n",
       "      <td>236.0</td>\n",
       "      <td>416.0</td>\n",
       "      <td>59.7</td>\n",
       "      <td>4.35</td>\n",
       "      <td>4.11</td>\n",
       "      <td>72.9</td>\n",
       "      <td>7.3</td>\n",
       "      <td>7.6</td>\n",
       "      <td>5.2</td>\n",
       "      <td>6.9</td>\n",
       "      <td>7.3</td>\n",
       "      <td>2.2</td>\n",
       "      <td>1.7</td>\n",
       "      <td>75.2</td>\n",
       "      <td>20.0</td>\n",
       "      <td>3.1</td>\n",
       "    </tr>\n",
       "    <tr>\n",
       "      <th>4</th>\n",
       "      <td>2023.0</td>\n",
       "      <td>CHI</td>\n",
       "      <td>360.0</td>\n",
       "      <td>379.0</td>\n",
       "      <td>62.6</td>\n",
       "      <td>5.46</td>\n",
       "      <td>5.01</td>\n",
       "      <td>74.1</td>\n",
       "      <td>7.3</td>\n",
       "      <td>7.4</td>\n",
       "      <td>3.9</td>\n",
       "      <td>6.8</td>\n",
       "      <td>7.3</td>\n",
       "      <td>3.7</td>\n",
       "      <td>2.9</td>\n",
       "      <td>82.2</td>\n",
       "      <td>25.0</td>\n",
       "      <td>3.3</td>\n",
       "    </tr>\n",
       "    <tr>\n",
       "      <th>5</th>\n",
       "      <td>2023.0</td>\n",
       "      <td>CIN</td>\n",
       "      <td>366.0</td>\n",
       "      <td>384.0</td>\n",
       "      <td>68.3</td>\n",
       "      <td>6.19</td>\n",
       "      <td>5.17</td>\n",
       "      <td>77.0</td>\n",
       "      <td>9.4</td>\n",
       "      <td>6.3</td>\n",
       "      <td>5.0</td>\n",
       "      <td>6.0</td>\n",
       "      <td>9.4</td>\n",
       "      <td>4.4</td>\n",
       "      <td>2.3</td>\n",
       "      <td>93.0</td>\n",
       "      <td>16.0</td>\n",
       "      <td>3.1</td>\n",
       "    </tr>\n",
       "  </tbody>\n",
       "</table>\n",
       "</div>"
      ],
      "text/plain": [
       "   Season Team    Pts   PtsO  Cmp%  AY/A   Y/P  OnTgt%  DADOT  IAY/PA  Drop%  \\\n",
       "1  2023.0  ATL  321.0  373.0  61.7  5.85  5.20    73.9    8.6     8.2    4.9   \n",
       "2  2023.0  BUF  451.0  311.0  66.5  6.78  5.71    77.8    6.9     8.7    5.6   \n",
       "3  2023.0  CAR  236.0  416.0  59.7  4.35  4.11    72.9    7.3     7.6    5.2   \n",
       "4  2023.0  CHI  360.0  379.0  62.6  5.46  5.01    74.1    7.3     7.4    3.9   \n",
       "5  2023.0  CIN  366.0  384.0  68.3  6.19  5.17    77.0    9.4     6.3    5.0   \n",
       "\n",
       "   ADOT  DADOT.1  TD%  Int%  Rate    TO  CAY/PA  \n",
       "1   7.9      8.6  3.2   3.2  80.5  28.0     3.8  \n",
       "2   8.1      6.9  5.0   3.1  92.2  28.0     4.0  \n",
       "3   6.9      7.3  2.2   1.7  75.2  20.0     3.1  \n",
       "4   6.8      7.3  3.7   2.9  82.2  25.0     3.3  \n",
       "5   6.0      9.4  4.4   2.3  93.0  16.0     3.1  "
      ]
     },
     "execution_count": 21,
     "metadata": {},
     "output_type": "execute_result"
    }
   ],
   "source": [
    "new_stats.head()"
   ]
  },
  {
   "cell_type": "code",
   "execution_count": 22,
   "id": "792aeaba-b67e-4057-87cc-56f0dba51ef1",
   "metadata": {
    "tags": []
   },
   "outputs": [],
   "source": [
    "new_stats['Season'] = new_stats['Season'].astype('string')"
   ]
  },
  {
   "cell_type": "code",
   "execution_count": 23,
   "id": "f8e3e6c4-70d1-488e-aed7-23cbbd38af76",
   "metadata": {
    "tags": []
   },
   "outputs": [
    {
     "name": "stdout",
     "output_type": "stream",
     "text": [
      "<class 'pandas.core.frame.DataFrame'>\n",
      "RangeIndex: 160 entries, 1 to 160\n",
      "Data columns (total 18 columns):\n",
      " #   Column   Non-Null Count  Dtype  \n",
      "---  ------   --------------  -----  \n",
      " 0   Season   160 non-null    string \n",
      " 1   Team     160 non-null    object \n",
      " 2   Pts      160 non-null    float64\n",
      " 3   PtsO     160 non-null    float64\n",
      " 4   Cmp%     160 non-null    float64\n",
      " 5   AY/A     160 non-null    float64\n",
      " 6   Y/P      160 non-null    float64\n",
      " 7   OnTgt%   160 non-null    float64\n",
      " 8   DADOT    160 non-null    float64\n",
      " 9   IAY/PA   160 non-null    float64\n",
      " 10  Drop%    160 non-null    float64\n",
      " 11  ADOT     160 non-null    float64\n",
      " 12  DADOT.1  160 non-null    float64\n",
      " 13  TD%      160 non-null    float64\n",
      " 14  Int%     160 non-null    float64\n",
      " 15  Rate     160 non-null    float64\n",
      " 16  TO       160 non-null    float64\n",
      " 17  CAY/PA   160 non-null    float64\n",
      "dtypes: float64(16), object(1), string(1)\n",
      "memory usage: 22.6+ KB\n"
     ]
    }
   ],
   "source": [
    "new_stats.info()"
   ]
  },
  {
   "cell_type": "code",
   "execution_count": 24,
   "id": "d6bcf88c-c17b-4848-8914-c321862378cb",
   "metadata": {
    "tags": []
   },
   "outputs": [],
   "source": [
    "new_stats['Season'] = new_stats['Season'].map(lambda x : x.rstrip('.0'))"
   ]
  },
  {
   "cell_type": "code",
   "execution_count": 25,
   "id": "e96af7ab-a90b-4f89-934d-ba1e2286963a",
   "metadata": {
    "tags": []
   },
   "outputs": [],
   "source": [
    "new_stats['Season'] = new_stats['Season'].astype('object')"
   ]
  },
  {
   "cell_type": "code",
   "execution_count": 26,
   "id": "9d6f6f35-67b6-4581-89c9-484a8fc8fb06",
   "metadata": {
    "tags": []
   },
   "outputs": [],
   "source": [
    "team_rename = {'GNB' : 'GB' , 'KAN' : 'KC', 'NOR' : 'NO', 'NWE' : 'NE', 'LVR' : 'LV', 'SFO' : 'SF', 'TAM' : 'TB', 'OAK' : 'LV'}"
   ]
  },
  {
   "cell_type": "code",
   "execution_count": 27,
   "id": "23dec4cc-867d-4c5d-b879-3793a9c0f05e",
   "metadata": {
    "tags": []
   },
   "outputs": [],
   "source": [
    "new_stats.Team.replace(team_rename, inplace = True)"
   ]
  },
  {
   "cell_type": "code",
   "execution_count": 28,
   "id": "f7444e6b-b00f-411f-9458-a9d82001c19c",
   "metadata": {
    "tags": []
   },
   "outputs": [],
   "source": [
    "new_stats.Season.replace({'202' : '2020'}, inplace = True)"
   ]
  },
  {
   "cell_type": "code",
   "execution_count": 29,
   "id": "535d5180-001c-42e7-99d9-87f05451a6e9",
   "metadata": {
    "tags": []
   },
   "outputs": [
    {
     "data": {
      "text/html": [
       "<div>\n",
       "<style scoped>\n",
       "    .dataframe tbody tr th:only-of-type {\n",
       "        vertical-align: middle;\n",
       "    }\n",
       "\n",
       "    .dataframe tbody tr th {\n",
       "        vertical-align: top;\n",
       "    }\n",
       "\n",
       "    .dataframe thead th {\n",
       "        text-align: right;\n",
       "    }\n",
       "</style>\n",
       "<table border=\"1\" class=\"dataframe\">\n",
       "  <thead>\n",
       "    <tr style=\"text-align: right;\">\n",
       "      <th></th>\n",
       "      <th>Season</th>\n",
       "      <th>Team</th>\n",
       "      <th>Pts</th>\n",
       "      <th>PtsO</th>\n",
       "      <th>Cmp%</th>\n",
       "      <th>AY/A</th>\n",
       "      <th>Y/P</th>\n",
       "      <th>OnTgt%</th>\n",
       "      <th>DADOT</th>\n",
       "      <th>IAY/PA</th>\n",
       "      <th>Drop%</th>\n",
       "      <th>ADOT</th>\n",
       "      <th>DADOT.1</th>\n",
       "      <th>TD%</th>\n",
       "      <th>Int%</th>\n",
       "      <th>Rate</th>\n",
       "      <th>TO</th>\n",
       "      <th>CAY/PA</th>\n",
       "    </tr>\n",
       "  </thead>\n",
       "  <tbody>\n",
       "    <tr>\n",
       "      <th>1</th>\n",
       "      <td>2023</td>\n",
       "      <td>ATL</td>\n",
       "      <td>321.0</td>\n",
       "      <td>373.0</td>\n",
       "      <td>61.7</td>\n",
       "      <td>5.85</td>\n",
       "      <td>5.20</td>\n",
       "      <td>73.9</td>\n",
       "      <td>8.6</td>\n",
       "      <td>8.2</td>\n",
       "      <td>4.9</td>\n",
       "      <td>7.9</td>\n",
       "      <td>8.6</td>\n",
       "      <td>3.2</td>\n",
       "      <td>3.2</td>\n",
       "      <td>80.5</td>\n",
       "      <td>28.0</td>\n",
       "      <td>3.8</td>\n",
       "    </tr>\n",
       "    <tr>\n",
       "      <th>2</th>\n",
       "      <td>2023</td>\n",
       "      <td>BUF</td>\n",
       "      <td>451.0</td>\n",
       "      <td>311.0</td>\n",
       "      <td>66.5</td>\n",
       "      <td>6.78</td>\n",
       "      <td>5.71</td>\n",
       "      <td>77.8</td>\n",
       "      <td>6.9</td>\n",
       "      <td>8.7</td>\n",
       "      <td>5.6</td>\n",
       "      <td>8.1</td>\n",
       "      <td>6.9</td>\n",
       "      <td>5.0</td>\n",
       "      <td>3.1</td>\n",
       "      <td>92.2</td>\n",
       "      <td>28.0</td>\n",
       "      <td>4.0</td>\n",
       "    </tr>\n",
       "    <tr>\n",
       "      <th>3</th>\n",
       "      <td>2023</td>\n",
       "      <td>CAR</td>\n",
       "      <td>236.0</td>\n",
       "      <td>416.0</td>\n",
       "      <td>59.7</td>\n",
       "      <td>4.35</td>\n",
       "      <td>4.11</td>\n",
       "      <td>72.9</td>\n",
       "      <td>7.3</td>\n",
       "      <td>7.6</td>\n",
       "      <td>5.2</td>\n",
       "      <td>6.9</td>\n",
       "      <td>7.3</td>\n",
       "      <td>2.2</td>\n",
       "      <td>1.7</td>\n",
       "      <td>75.2</td>\n",
       "      <td>20.0</td>\n",
       "      <td>3.1</td>\n",
       "    </tr>\n",
       "    <tr>\n",
       "      <th>4</th>\n",
       "      <td>2023</td>\n",
       "      <td>CHI</td>\n",
       "      <td>360.0</td>\n",
       "      <td>379.0</td>\n",
       "      <td>62.6</td>\n",
       "      <td>5.46</td>\n",
       "      <td>5.01</td>\n",
       "      <td>74.1</td>\n",
       "      <td>7.3</td>\n",
       "      <td>7.4</td>\n",
       "      <td>3.9</td>\n",
       "      <td>6.8</td>\n",
       "      <td>7.3</td>\n",
       "      <td>3.7</td>\n",
       "      <td>2.9</td>\n",
       "      <td>82.2</td>\n",
       "      <td>25.0</td>\n",
       "      <td>3.3</td>\n",
       "    </tr>\n",
       "    <tr>\n",
       "      <th>5</th>\n",
       "      <td>2023</td>\n",
       "      <td>CIN</td>\n",
       "      <td>366.0</td>\n",
       "      <td>384.0</td>\n",
       "      <td>68.3</td>\n",
       "      <td>6.19</td>\n",
       "      <td>5.17</td>\n",
       "      <td>77.0</td>\n",
       "      <td>9.4</td>\n",
       "      <td>6.3</td>\n",
       "      <td>5.0</td>\n",
       "      <td>6.0</td>\n",
       "      <td>9.4</td>\n",
       "      <td>4.4</td>\n",
       "      <td>2.3</td>\n",
       "      <td>93.0</td>\n",
       "      <td>16.0</td>\n",
       "      <td>3.1</td>\n",
       "    </tr>\n",
       "  </tbody>\n",
       "</table>\n",
       "</div>"
      ],
      "text/plain": [
       "  Season Team    Pts   PtsO  Cmp%  AY/A   Y/P  OnTgt%  DADOT  IAY/PA  Drop%  \\\n",
       "1   2023  ATL  321.0  373.0  61.7  5.85  5.20    73.9    8.6     8.2    4.9   \n",
       "2   2023  BUF  451.0  311.0  66.5  6.78  5.71    77.8    6.9     8.7    5.6   \n",
       "3   2023  CAR  236.0  416.0  59.7  4.35  4.11    72.9    7.3     7.6    5.2   \n",
       "4   2023  CHI  360.0  379.0  62.6  5.46  5.01    74.1    7.3     7.4    3.9   \n",
       "5   2023  CIN  366.0  384.0  68.3  6.19  5.17    77.0    9.4     6.3    5.0   \n",
       "\n",
       "   ADOT  DADOT.1  TD%  Int%  Rate    TO  CAY/PA  \n",
       "1   7.9      8.6  3.2   3.2  80.5  28.0     3.8  \n",
       "2   8.1      6.9  5.0   3.1  92.2  28.0     4.0  \n",
       "3   6.9      7.3  2.2   1.7  75.2  20.0     3.1  \n",
       "4   6.8      7.3  3.7   2.9  82.2  25.0     3.3  \n",
       "5   6.0      9.4  4.4   2.3  93.0  16.0     3.1  "
      ]
     },
     "execution_count": 29,
     "metadata": {},
     "output_type": "execute_result"
    }
   ],
   "source": [
    "new_stats.head()"
   ]
  },
  {
   "cell_type": "code",
   "execution_count": 30,
   "id": "ad46cf51-61d0-46d2-91da-fcd139768a28",
   "metadata": {
    "tags": []
   },
   "outputs": [],
   "source": [
    "home_w1 = week_1.drop(axis = 1, labels = 'Away Team')"
   ]
  },
  {
   "cell_type": "code",
   "execution_count": 31,
   "id": "5d1ec5fd-6186-4f39-93ec-a8816b7f53f2",
   "metadata": {
    "tags": []
   },
   "outputs": [],
   "source": [
    "away_w1 = week_1.drop(axis = 1, labels = 'Home Team')"
   ]
  },
  {
   "cell_type": "code",
   "execution_count": 32,
   "id": "712a4052-9a9d-4597-8be9-d6fc317b38d4",
   "metadata": {
    "tags": []
   },
   "outputs": [],
   "source": [
    "home_w1['Team'] = home_w1['Home Team']"
   ]
  },
  {
   "cell_type": "code",
   "execution_count": 33,
   "id": "29fe25e6-7c50-4024-a2ac-17ac8e7a47a4",
   "metadata": {
    "tags": []
   },
   "outputs": [],
   "source": [
    "away_w1['Team'] = away_w1['Away Team']"
   ]
  },
  {
   "cell_type": "code",
   "execution_count": 34,
   "id": "3c0f44cf-fbef-4052-90fa-09efe424df98",
   "metadata": {
    "tags": []
   },
   "outputs": [],
   "source": [
    "home_w1_for_test = pd.merge(home_w1, new_stats, how = 'left', on = ['Team' , 'Season'])"
   ]
  },
  {
   "cell_type": "code",
   "execution_count": 35,
   "id": "e1dcfa7e-79a2-453d-81ec-3c4df75a34c6",
   "metadata": {
    "tags": []
   },
   "outputs": [],
   "source": [
    "away_w1_for_test = pd.merge(away_w1, new_stats, how = 'left', on = ['Team' , 'Season'])"
   ]
  },
  {
   "cell_type": "code",
   "execution_count": 36,
   "id": "dd99a6f4-1972-4ba0-a1bb-5ecfdec3ac4b",
   "metadata": {
    "tags": []
   },
   "outputs": [
    {
     "name": "stdout",
     "output_type": "stream",
     "text": [
      "<class 'pandas.core.frame.DataFrame'>\n",
      "Int64Index: 16 entries, 0 to 15\n",
      "Data columns (total 21 columns):\n",
      " #   Column            Non-Null Count  Dtype  \n",
      "---  ------            --------------  -----  \n",
      " 0   Home Team         16 non-null     object \n",
      " 1   Total Score Open  16 non-null     float64\n",
      " 2   Date              16 non-null     object \n",
      " 3   Season            16 non-null     object \n",
      " 4   Team              16 non-null     object \n",
      " 5   Pts               16 non-null     float64\n",
      " 6   PtsO              16 non-null     float64\n",
      " 7   Cmp%              16 non-null     float64\n",
      " 8   AY/A              16 non-null     float64\n",
      " 9   Y/P               16 non-null     float64\n",
      " 10  OnTgt%            16 non-null     float64\n",
      " 11  DADOT             16 non-null     float64\n",
      " 12  IAY/PA            16 non-null     float64\n",
      " 13  Drop%             16 non-null     float64\n",
      " 14  ADOT              16 non-null     float64\n",
      " 15  DADOT.1           16 non-null     float64\n",
      " 16  TD%               16 non-null     float64\n",
      " 17  Int%              16 non-null     float64\n",
      " 18  Rate              16 non-null     float64\n",
      " 19  TO                16 non-null     float64\n",
      " 20  CAY/PA            16 non-null     float64\n",
      "dtypes: float64(17), object(4)\n",
      "memory usage: 2.8+ KB\n"
     ]
    }
   ],
   "source": [
    "home_w1_for_test.info()"
   ]
  },
  {
   "cell_type": "code",
   "execution_count": 37,
   "id": "c9ce3019-ecc5-4e94-a2a0-a9afcf18939e",
   "metadata": {
    "tags": []
   },
   "outputs": [
    {
     "name": "stdout",
     "output_type": "stream",
     "text": [
      "<class 'pandas.core.frame.DataFrame'>\n",
      "Int64Index: 16 entries, 0 to 15\n",
      "Data columns (total 21 columns):\n",
      " #   Column            Non-Null Count  Dtype  \n",
      "---  ------            --------------  -----  \n",
      " 0   Away Team         16 non-null     object \n",
      " 1   Total Score Open  16 non-null     float64\n",
      " 2   Date              16 non-null     object \n",
      " 3   Season            16 non-null     object \n",
      " 4   Team              16 non-null     object \n",
      " 5   Pts               16 non-null     float64\n",
      " 6   PtsO              16 non-null     float64\n",
      " 7   Cmp%              16 non-null     float64\n",
      " 8   AY/A              16 non-null     float64\n",
      " 9   Y/P               16 non-null     float64\n",
      " 10  OnTgt%            16 non-null     float64\n",
      " 11  DADOT             16 non-null     float64\n",
      " 12  IAY/PA            16 non-null     float64\n",
      " 13  Drop%             16 non-null     float64\n",
      " 14  ADOT              16 non-null     float64\n",
      " 15  DADOT.1           16 non-null     float64\n",
      " 16  TD%               16 non-null     float64\n",
      " 17  Int%              16 non-null     float64\n",
      " 18  Rate              16 non-null     float64\n",
      " 19  TO                16 non-null     float64\n",
      " 20  CAY/PA            16 non-null     float64\n",
      "dtypes: float64(17), object(4)\n",
      "memory usage: 2.8+ KB\n"
     ]
    }
   ],
   "source": [
    "away_w1_for_test.info()"
   ]
  },
  {
   "cell_type": "code",
   "execution_count": 38,
   "id": "879d8c9e-fcf7-49d3-8583-2aa699045546",
   "metadata": {
    "tags": []
   },
   "outputs": [],
   "source": [
    "trim_nfl = pd.read_csv('trim_nfl')"
   ]
  },
  {
   "cell_type": "code",
   "execution_count": 39,
   "id": "e8b78c41-71b6-45e7-a7ae-5c9b36022823",
   "metadata": {
    "tags": []
   },
   "outputs": [
    {
     "name": "stdout",
     "output_type": "stream",
     "text": [
      "<class 'pandas.core.frame.DataFrame'>\n",
      "RangeIndex: 4655 entries, 0 to 4654\n",
      "Data columns (total 12 columns):\n",
      " #   Column            Non-Null Count  Dtype  \n",
      "---  ------            --------------  -----  \n",
      " 0   Unnamed: 0        4655 non-null   int64  \n",
      " 1   Date              4655 non-null   object \n",
      " 2   Home Team         4655 non-null   object \n",
      " 3   Away Team         4655 non-null   object \n",
      " 4   Home Score        4655 non-null   int64  \n",
      " 5   Away Score        4655 non-null   int64  \n",
      " 6   Total Score Open  4655 non-null   float64\n",
      " 7   Game_Total        4655 non-null   int64  \n",
      " 8   Overtime          4655 non-null   object \n",
      " 9   year              4655 non-null   int64  \n",
      " 10  month             4655 non-null   int64  \n",
      " 11  season            4655 non-null   int64  \n",
      "dtypes: float64(1), int64(7), object(4)\n",
      "memory usage: 436.5+ KB\n"
     ]
    }
   ],
   "source": [
    "trim_nfl.info()"
   ]
  },
  {
   "cell_type": "code",
   "execution_count": 40,
   "id": "1dd38335-bf5d-4649-9f8c-0b83d89cb423",
   "metadata": {
    "tags": []
   },
   "outputs": [],
   "source": [
    "trim_nfl.drop(columns = 'Unnamed: 0', inplace = True)"
   ]
  },
  {
   "cell_type": "code",
   "execution_count": 41,
   "id": "0a41650c-2433-4705-b03b-0353f9c62d70",
   "metadata": {
    "tags": []
   },
   "outputs": [],
   "source": [
    "home_df = trim_nfl.drop( axis = 1, labels = ['Away Team', 'Away Score', 'Home Score', 'Overtime', 'Game_Total', 'year', 'month']).copy()"
   ]
  },
  {
   "cell_type": "code",
   "execution_count": 42,
   "id": "22fc8238-1106-4013-a067-c7050ac349f0",
   "metadata": {
    "tags": []
   },
   "outputs": [
    {
     "data": {
      "text/html": [
       "<div>\n",
       "<style scoped>\n",
       "    .dataframe tbody tr th:only-of-type {\n",
       "        vertical-align: middle;\n",
       "    }\n",
       "\n",
       "    .dataframe tbody tr th {\n",
       "        vertical-align: top;\n",
       "    }\n",
       "\n",
       "    .dataframe thead th {\n",
       "        text-align: right;\n",
       "    }\n",
       "</style>\n",
       "<table border=\"1\" class=\"dataframe\">\n",
       "  <thead>\n",
       "    <tr style=\"text-align: right;\">\n",
       "      <th></th>\n",
       "      <th>Date</th>\n",
       "      <th>Total Score Open</th>\n",
       "      <th>season</th>\n",
       "      <th>Team</th>\n",
       "    </tr>\n",
       "  </thead>\n",
       "  <tbody>\n",
       "    <tr>\n",
       "      <th>0</th>\n",
       "      <td>2024-01-07</td>\n",
       "      <td>50.0</td>\n",
       "      <td>2023</td>\n",
       "      <td>MIA</td>\n",
       "    </tr>\n",
       "    <tr>\n",
       "      <th>1</th>\n",
       "      <td>2024-01-07</td>\n",
       "      <td>47.5</td>\n",
       "      <td>2023</td>\n",
       "      <td>ARI</td>\n",
       "    </tr>\n",
       "    <tr>\n",
       "      <th>2</th>\n",
       "      <td>2024-01-07</td>\n",
       "      <td>37.0</td>\n",
       "      <td>2023</td>\n",
       "      <td>CAR</td>\n",
       "    </tr>\n",
       "    <tr>\n",
       "      <th>3</th>\n",
       "      <td>2024-01-07</td>\n",
       "      <td>40.0</td>\n",
       "      <td>2023</td>\n",
       "      <td>CIN</td>\n",
       "    </tr>\n",
       "    <tr>\n",
       "      <th>4</th>\n",
       "      <td>2024-01-07</td>\n",
       "      <td>44.0</td>\n",
       "      <td>2023</td>\n",
       "      <td>DET</td>\n",
       "    </tr>\n",
       "    <tr>\n",
       "      <th>...</th>\n",
       "      <td>...</td>\n",
       "      <td>...</td>\n",
       "      <td>...</td>\n",
       "      <td>...</td>\n",
       "    </tr>\n",
       "    <tr>\n",
       "      <th>4650</th>\n",
       "      <td>2006-09-10</td>\n",
       "      <td>44.0</td>\n",
       "      <td>2006</td>\n",
       "      <td>DET</td>\n",
       "    </tr>\n",
       "    <tr>\n",
       "      <th>4651</th>\n",
       "      <td>2006-09-10</td>\n",
       "      <td>36.5</td>\n",
       "      <td>2006</td>\n",
       "      <td>CLE</td>\n",
       "    </tr>\n",
       "    <tr>\n",
       "      <th>4652</th>\n",
       "      <td>2006-09-10</td>\n",
       "      <td>38.5</td>\n",
       "      <td>2006</td>\n",
       "      <td>CAR</td>\n",
       "    </tr>\n",
       "    <tr>\n",
       "      <th>4653</th>\n",
       "      <td>2006-09-10</td>\n",
       "      <td>43.5</td>\n",
       "      <td>2006</td>\n",
       "      <td>ARI</td>\n",
       "    </tr>\n",
       "    <tr>\n",
       "      <th>4654</th>\n",
       "      <td>2006-09-07</td>\n",
       "      <td>34.0</td>\n",
       "      <td>2006</td>\n",
       "      <td>PIT</td>\n",
       "    </tr>\n",
       "  </tbody>\n",
       "</table>\n",
       "<p>4655 rows × 4 columns</p>\n",
       "</div>"
      ],
      "text/plain": [
       "            Date  Total Score Open  season Team\n",
       "0     2024-01-07              50.0    2023  MIA\n",
       "1     2024-01-07              47.5    2023  ARI\n",
       "2     2024-01-07              37.0    2023  CAR\n",
       "3     2024-01-07              40.0    2023  CIN\n",
       "4     2024-01-07              44.0    2023  DET\n",
       "...          ...               ...     ...  ...\n",
       "4650  2006-09-10              44.0    2006  DET\n",
       "4651  2006-09-10              36.5    2006  CLE\n",
       "4652  2006-09-10              38.5    2006  CAR\n",
       "4653  2006-09-10              43.5    2006  ARI\n",
       "4654  2006-09-07              34.0    2006  PIT\n",
       "\n",
       "[4655 rows x 4 columns]"
      ]
     },
     "execution_count": 42,
     "metadata": {},
     "output_type": "execute_result"
    }
   ],
   "source": [
    "home_df['Team'] = home_df['Home Team']\n",
    "home_df.drop(axis = 1, labels = 'Home Team')"
   ]
  },
  {
   "cell_type": "code",
   "execution_count": 43,
   "id": "8ae88d54-b81d-43bb-be69-663e4c37ff1d",
   "metadata": {
    "tags": []
   },
   "outputs": [],
   "source": [
    "away_df = trim_nfl.drop( axis = 1, labels = ['Home Team', 'Home Score', 'Away Score','Overtime', 'Game_Total', 'year', 'month']).copy()"
   ]
  },
  {
   "cell_type": "code",
   "execution_count": 44,
   "id": "d400ac77-725e-446e-837f-1034584393a5",
   "metadata": {
    "tags": []
   },
   "outputs": [
    {
     "data": {
      "text/html": [
       "<div>\n",
       "<style scoped>\n",
       "    .dataframe tbody tr th:only-of-type {\n",
       "        vertical-align: middle;\n",
       "    }\n",
       "\n",
       "    .dataframe tbody tr th {\n",
       "        vertical-align: top;\n",
       "    }\n",
       "\n",
       "    .dataframe thead th {\n",
       "        text-align: right;\n",
       "    }\n",
       "</style>\n",
       "<table border=\"1\" class=\"dataframe\">\n",
       "  <thead>\n",
       "    <tr style=\"text-align: right;\">\n",
       "      <th></th>\n",
       "      <th>Date</th>\n",
       "      <th>Total Score Open</th>\n",
       "      <th>season</th>\n",
       "      <th>Team</th>\n",
       "    </tr>\n",
       "  </thead>\n",
       "  <tbody>\n",
       "    <tr>\n",
       "      <th>0</th>\n",
       "      <td>2024-01-07</td>\n",
       "      <td>50.0</td>\n",
       "      <td>2023</td>\n",
       "      <td>BUF</td>\n",
       "    </tr>\n",
       "    <tr>\n",
       "      <th>1</th>\n",
       "      <td>2024-01-07</td>\n",
       "      <td>47.5</td>\n",
       "      <td>2023</td>\n",
       "      <td>SEA</td>\n",
       "    </tr>\n",
       "    <tr>\n",
       "      <th>2</th>\n",
       "      <td>2024-01-07</td>\n",
       "      <td>37.0</td>\n",
       "      <td>2023</td>\n",
       "      <td>TB</td>\n",
       "    </tr>\n",
       "    <tr>\n",
       "      <th>3</th>\n",
       "      <td>2024-01-07</td>\n",
       "      <td>40.0</td>\n",
       "      <td>2023</td>\n",
       "      <td>CLE</td>\n",
       "    </tr>\n",
       "    <tr>\n",
       "      <th>4</th>\n",
       "      <td>2024-01-07</td>\n",
       "      <td>44.0</td>\n",
       "      <td>2023</td>\n",
       "      <td>MIN</td>\n",
       "    </tr>\n",
       "    <tr>\n",
       "      <th>...</th>\n",
       "      <td>...</td>\n",
       "      <td>...</td>\n",
       "      <td>...</td>\n",
       "      <td>...</td>\n",
       "    </tr>\n",
       "    <tr>\n",
       "      <th>4650</th>\n",
       "      <td>2006-09-10</td>\n",
       "      <td>44.0</td>\n",
       "      <td>2006</td>\n",
       "      <td>SEA</td>\n",
       "    </tr>\n",
       "    <tr>\n",
       "      <th>4651</th>\n",
       "      <td>2006-09-10</td>\n",
       "      <td>36.5</td>\n",
       "      <td>2006</td>\n",
       "      <td>NO</td>\n",
       "    </tr>\n",
       "    <tr>\n",
       "      <th>4652</th>\n",
       "      <td>2006-09-10</td>\n",
       "      <td>38.5</td>\n",
       "      <td>2006</td>\n",
       "      <td>ATL</td>\n",
       "    </tr>\n",
       "    <tr>\n",
       "      <th>4653</th>\n",
       "      <td>2006-09-10</td>\n",
       "      <td>43.5</td>\n",
       "      <td>2006</td>\n",
       "      <td>SF</td>\n",
       "    </tr>\n",
       "    <tr>\n",
       "      <th>4654</th>\n",
       "      <td>2006-09-07</td>\n",
       "      <td>34.0</td>\n",
       "      <td>2006</td>\n",
       "      <td>MIA</td>\n",
       "    </tr>\n",
       "  </tbody>\n",
       "</table>\n",
       "<p>4655 rows × 4 columns</p>\n",
       "</div>"
      ],
      "text/plain": [
       "            Date  Total Score Open  season Team\n",
       "0     2024-01-07              50.0    2023  BUF\n",
       "1     2024-01-07              47.5    2023  SEA\n",
       "2     2024-01-07              37.0    2023   TB\n",
       "3     2024-01-07              40.0    2023  CLE\n",
       "4     2024-01-07              44.0    2023  MIN\n",
       "...          ...               ...     ...  ...\n",
       "4650  2006-09-10              44.0    2006  SEA\n",
       "4651  2006-09-10              36.5    2006   NO\n",
       "4652  2006-09-10              38.5    2006  ATL\n",
       "4653  2006-09-10              43.5    2006   SF\n",
       "4654  2006-09-07              34.0    2006  MIA\n",
       "\n",
       "[4655 rows x 4 columns]"
      ]
     },
     "execution_count": 44,
     "metadata": {},
     "output_type": "execute_result"
    }
   ],
   "source": [
    "away_df['Team'] = away_df['Away Team']\n",
    "away_df.drop(axis = 1, labels = 'Away Team')"
   ]
  },
  {
   "cell_type": "code",
   "execution_count": 45,
   "id": "d43b6b09-34d5-4728-8e4f-862f99a541c0",
   "metadata": {
    "tags": []
   },
   "outputs": [],
   "source": [
    "home_df['Season'] = home_df['season']\n",
    "home_df.drop(columns = 'season', inplace = True)"
   ]
  },
  {
   "cell_type": "code",
   "execution_count": 46,
   "id": "1cf71fd3-87bb-4fcf-866a-625a72e28e00",
   "metadata": {
    "tags": []
   },
   "outputs": [],
   "source": [
    "away_df['Season'] = away_df['season']\n",
    "away_df.drop(columns = 'season', inplace = True)"
   ]
  },
  {
   "cell_type": "code",
   "execution_count": 47,
   "id": "4f11f179-0255-47ff-9a2a-5ce1cadfa435",
   "metadata": {
    "tags": []
   },
   "outputs": [
    {
     "data": {
      "text/html": [
       "<div>\n",
       "<style scoped>\n",
       "    .dataframe tbody tr th:only-of-type {\n",
       "        vertical-align: middle;\n",
       "    }\n",
       "\n",
       "    .dataframe tbody tr th {\n",
       "        vertical-align: top;\n",
       "    }\n",
       "\n",
       "    .dataframe thead th {\n",
       "        text-align: right;\n",
       "    }\n",
       "</style>\n",
       "<table border=\"1\" class=\"dataframe\">\n",
       "  <thead>\n",
       "    <tr style=\"text-align: right;\">\n",
       "      <th></th>\n",
       "      <th>Date</th>\n",
       "      <th>Home Team</th>\n",
       "      <th>Total Score Open</th>\n",
       "      <th>Team</th>\n",
       "      <th>Season</th>\n",
       "    </tr>\n",
       "  </thead>\n",
       "  <tbody>\n",
       "    <tr>\n",
       "      <th>0</th>\n",
       "      <td>2024-01-07</td>\n",
       "      <td>MIA</td>\n",
       "      <td>50.0</td>\n",
       "      <td>MIA</td>\n",
       "      <td>2023</td>\n",
       "    </tr>\n",
       "    <tr>\n",
       "      <th>1</th>\n",
       "      <td>2024-01-07</td>\n",
       "      <td>ARI</td>\n",
       "      <td>47.5</td>\n",
       "      <td>ARI</td>\n",
       "      <td>2023</td>\n",
       "    </tr>\n",
       "    <tr>\n",
       "      <th>2</th>\n",
       "      <td>2024-01-07</td>\n",
       "      <td>CAR</td>\n",
       "      <td>37.0</td>\n",
       "      <td>CAR</td>\n",
       "      <td>2023</td>\n",
       "    </tr>\n",
       "    <tr>\n",
       "      <th>3</th>\n",
       "      <td>2024-01-07</td>\n",
       "      <td>CIN</td>\n",
       "      <td>40.0</td>\n",
       "      <td>CIN</td>\n",
       "      <td>2023</td>\n",
       "    </tr>\n",
       "    <tr>\n",
       "      <th>4</th>\n",
       "      <td>2024-01-07</td>\n",
       "      <td>DET</td>\n",
       "      <td>44.0</td>\n",
       "      <td>DET</td>\n",
       "      <td>2023</td>\n",
       "    </tr>\n",
       "  </tbody>\n",
       "</table>\n",
       "</div>"
      ],
      "text/plain": [
       "         Date Home Team  Total Score Open Team  Season\n",
       "0  2024-01-07       MIA              50.0  MIA    2023\n",
       "1  2024-01-07       ARI              47.5  ARI    2023\n",
       "2  2024-01-07       CAR              37.0  CAR    2023\n",
       "3  2024-01-07       CIN              40.0  CIN    2023\n",
       "4  2024-01-07       DET              44.0  DET    2023"
      ]
     },
     "execution_count": 47,
     "metadata": {},
     "output_type": "execute_result"
    }
   ],
   "source": [
    "home_df.head()"
   ]
  },
  {
   "cell_type": "code",
   "execution_count": 48,
   "id": "a06c0391-41de-4ce0-9394-9ed208b48e98",
   "metadata": {
    "tags": []
   },
   "outputs": [
    {
     "data": {
      "text/plain": [
       "array(['ATL', 'BUF', 'CAR', 'CHI', 'CIN', 'CLE', 'IND', 'ARI', 'DAL',\n",
       "       'DEN', 'DET', 'GB', 'HOU', 'JAX', 'KC', 'MIA', 'MIN', 'NO', 'NE',\n",
       "       'NYG', 'NYJ', 'TEN', 'PHI', 'PIT', 'LV', 'LAR', 'BAL', 'LAC',\n",
       "       'SEA', 'SF', 'TB', 'WAS'], dtype=object)"
      ]
     },
     "execution_count": 48,
     "metadata": {},
     "output_type": "execute_result"
    }
   ],
   "source": [
    "new_stats.Team.unique()"
   ]
  },
  {
   "cell_type": "code",
   "execution_count": 49,
   "id": "8cfe9bb7-0894-4e15-a407-5a0384a85ec8",
   "metadata": {
    "tags": []
   },
   "outputs": [
    {
     "data": {
      "text/plain": [
       "array(['ATL', 'BUF', 'CAR', 'CHI', 'CIN', 'CLE', 'IND', 'ARI', 'DAL',\n",
       "       'DEN', 'DET', 'GB', 'HOU', 'JAX', 'KC', 'MIA', 'MIN', 'NO', 'NE',\n",
       "       'NYG', 'NYJ', 'TEN', 'PHI', 'PIT', 'LV', 'LAR', 'BAL', 'LAC',\n",
       "       'SEA', 'SF', 'TB', 'WAS'], dtype=object)"
      ]
     },
     "execution_count": 49,
     "metadata": {},
     "output_type": "execute_result"
    }
   ],
   "source": [
    "new_stats.Team.unique()"
   ]
  },
  {
   "cell_type": "code",
   "execution_count": 50,
   "id": "3f0dbe18-d953-4956-9656-67ef4c8b0bee",
   "metadata": {
    "tags": []
   },
   "outputs": [
    {
     "data": {
      "text/plain": [
       "2023    32\n",
       "2022    32\n",
       "2021    32\n",
       "2020    32\n",
       "2019    32\n",
       "Name: Season, dtype: int64"
      ]
     },
     "execution_count": 50,
     "metadata": {},
     "output_type": "execute_result"
    }
   ],
   "source": [
    "new_stats.Season.value_counts()"
   ]
  },
  {
   "cell_type": "code",
   "execution_count": 51,
   "id": "d434df38-4502-4deb-be90-7540e8187ac3",
   "metadata": {
    "tags": []
   },
   "outputs": [
    {
     "data": {
      "text/plain": [
       "2023    32\n",
       "2022    32\n",
       "2021    32\n",
       "2020    32\n",
       "2019    32\n",
       "Name: Season, dtype: int64"
      ]
     },
     "execution_count": 51,
     "metadata": {},
     "output_type": "execute_result"
    }
   ],
   "source": [
    "new_stats.Season.value_counts()"
   ]
  },
  {
   "cell_type": "code",
   "execution_count": 52,
   "id": "9ba01d6b-2c87-4365-85e7-07c3cd611a8c",
   "metadata": {
    "tags": []
   },
   "outputs": [],
   "source": [
    "seasons_stats = new_stats.Season.unique()"
   ]
  },
  {
   "cell_type": "code",
   "execution_count": 53,
   "id": "20e6689f-7bf8-455b-9401-d0a4284c4743",
   "metadata": {
    "tags": []
   },
   "outputs": [
    {
     "data": {
      "text/plain": [
       "array(['2023', '2022', '2021', '2020', '2019'], dtype=object)"
      ]
     },
     "execution_count": 53,
     "metadata": {},
     "output_type": "execute_result"
    }
   ],
   "source": [
    "seasons_stats"
   ]
  },
  {
   "cell_type": "code",
   "execution_count": 54,
   "id": "b62794da-ae6b-4ee2-a5da-e0227790a5be",
   "metadata": {
    "tags": []
   },
   "outputs": [],
   "source": [
    "stat_year_list = seasons_stats.tolist()"
   ]
  },
  {
   "cell_type": "code",
   "execution_count": 55,
   "id": "c19d3991-a646-4368-89dc-4287f4264bba",
   "metadata": {
    "tags": []
   },
   "outputs": [
    {
     "data": {
      "text/plain": [
       "array([2023, 2022, 2021, 2020, 2019, 2018, 2017, 2016, 2015, 2014, 2013,\n",
       "       2012, 2011, 2010, 2009, 2008, 2007, 2006], dtype=int64)"
      ]
     },
     "execution_count": 55,
     "metadata": {},
     "output_type": "execute_result"
    }
   ],
   "source": [
    "home_df.Season.unique()\n"
   ]
  },
  {
   "cell_type": "code",
   "execution_count": 56,
   "id": "ce5457fd-281f-4918-951e-0beeecf6f0e7",
   "metadata": {
    "tags": []
   },
   "outputs": [],
   "source": [
    "home_df['Season'] = home_df['Season'].astype('string')"
   ]
  },
  {
   "cell_type": "code",
   "execution_count": 57,
   "id": "59e26658-8797-4f7f-a31c-ba9b78f2a0c0",
   "metadata": {
    "tags": []
   },
   "outputs": [],
   "source": [
    "home_df['Season'] = home_df['Season'].astype('object')"
   ]
  },
  {
   "cell_type": "code",
   "execution_count": 58,
   "id": "a87e8b1f-9ae8-41c7-bce2-544645a9f2f0",
   "metadata": {
    "tags": []
   },
   "outputs": [],
   "source": [
    "rams = {'LA' : 'LAR'}"
   ]
  },
  {
   "cell_type": "code",
   "execution_count": 59,
   "id": "e4ae5dc5-94f1-4ac6-9088-940545ff4613",
   "metadata": {
    "tags": []
   },
   "outputs": [],
   "source": [
    "home_df.Team.replace(rams, inplace = True)"
   ]
  },
  {
   "cell_type": "code",
   "execution_count": 60,
   "id": "ac0aeabe-158f-4d1b-b717-a75287410861",
   "metadata": {
    "tags": []
   },
   "outputs": [],
   "source": [
    "away_df.Team.replace(rams, inplace = True)"
   ]
  },
  {
   "cell_type": "code",
   "execution_count": 61,
   "id": "35d9d891-5f09-4a32-92d3-bf8d493e02fa",
   "metadata": {
    "tags": []
   },
   "outputs": [
    {
     "data": {
      "text/plain": [
       "array(['MIA', 'ARI', 'CAR', 'CIN', 'DET', 'GB', 'IND', 'LAC', 'LV', 'NE',\n",
       "       'NO', 'NYG', 'SF', 'TEN', 'WAS', 'BAL', 'MIN', 'DEN', 'SEA', 'KC',\n",
       "       'BUF', 'CHI', 'HOU', 'JAX', 'PHI', 'TB', 'DAL', 'CLE', 'ATL',\n",
       "       'NYJ', 'PIT', 'LAR'], dtype=object)"
      ]
     },
     "execution_count": 61,
     "metadata": {},
     "output_type": "execute_result"
    }
   ],
   "source": [
    "home_df.Team.unique()"
   ]
  },
  {
   "cell_type": "code",
   "execution_count": 62,
   "id": "75ff8f02-317c-4520-8756-c41d07ca1f23",
   "metadata": {
    "tags": []
   },
   "outputs": [],
   "source": [
    "home_df_stats = pd.merge(home_df, new_stats, how = 'left', on = ['Team', 'Season'])"
   ]
  },
  {
   "cell_type": "code",
   "execution_count": 63,
   "id": "c6ee8a97-c94d-49ea-af0c-0d04e70e8ace",
   "metadata": {
    "tags": []
   },
   "outputs": [
    {
     "name": "stdout",
     "output_type": "stream",
     "text": [
      "<class 'pandas.core.frame.DataFrame'>\n",
      "Int64Index: 4655 entries, 0 to 4654\n",
      "Data columns (total 21 columns):\n",
      " #   Column            Non-Null Count  Dtype  \n",
      "---  ------            --------------  -----  \n",
      " 0   Date              4655 non-null   object \n",
      " 1   Home Team         4655 non-null   object \n",
      " 2   Total Score Open  4655 non-null   float64\n",
      " 3   Team              4655 non-null   object \n",
      " 4   Season            4655 non-null   object \n",
      " 5   Pts               1327 non-null   float64\n",
      " 6   PtsO              1327 non-null   float64\n",
      " 7   Cmp%              1327 non-null   float64\n",
      " 8   AY/A              1327 non-null   float64\n",
      " 9   Y/P               1327 non-null   float64\n",
      " 10  OnTgt%            1327 non-null   float64\n",
      " 11  DADOT             1327 non-null   float64\n",
      " 12  IAY/PA            1327 non-null   float64\n",
      " 13  Drop%             1327 non-null   float64\n",
      " 14  ADOT              1327 non-null   float64\n",
      " 15  DADOT.1           1327 non-null   float64\n",
      " 16  TD%               1327 non-null   float64\n",
      " 17  Int%              1327 non-null   float64\n",
      " 18  Rate              1327 non-null   float64\n",
      " 19  TO                1327 non-null   float64\n",
      " 20  CAY/PA            1327 non-null   float64\n",
      "dtypes: float64(17), object(4)\n",
      "memory usage: 800.1+ KB\n"
     ]
    }
   ],
   "source": [
    "home_df_stats.info()"
   ]
  },
  {
   "cell_type": "code",
   "execution_count": 64,
   "id": "2972afd3-c8a9-4668-90ed-7c2d82d843ac",
   "metadata": {
    "tags": []
   },
   "outputs": [],
   "source": [
    "home_df_stats.dropna(inplace=True)"
   ]
  },
  {
   "cell_type": "code",
   "execution_count": 65,
   "id": "dbc79093-fd73-4485-af27-e25a56285b7e",
   "metadata": {
    "tags": []
   },
   "outputs": [
    {
     "data": {
      "text/html": [
       "<div>\n",
       "<style scoped>\n",
       "    .dataframe tbody tr th:only-of-type {\n",
       "        vertical-align: middle;\n",
       "    }\n",
       "\n",
       "    .dataframe tbody tr th {\n",
       "        vertical-align: top;\n",
       "    }\n",
       "\n",
       "    .dataframe thead th {\n",
       "        text-align: right;\n",
       "    }\n",
       "</style>\n",
       "<table border=\"1\" class=\"dataframe\">\n",
       "  <thead>\n",
       "    <tr style=\"text-align: right;\">\n",
       "      <th></th>\n",
       "      <th>Date</th>\n",
       "      <th>Home Team</th>\n",
       "      <th>Total Score Open</th>\n",
       "      <th>Team</th>\n",
       "      <th>Season</th>\n",
       "      <th>Pts</th>\n",
       "      <th>PtsO</th>\n",
       "      <th>Cmp%</th>\n",
       "      <th>AY/A</th>\n",
       "      <th>Y/P</th>\n",
       "      <th>...</th>\n",
       "      <th>DADOT</th>\n",
       "      <th>IAY/PA</th>\n",
       "      <th>Drop%</th>\n",
       "      <th>ADOT</th>\n",
       "      <th>DADOT.1</th>\n",
       "      <th>TD%</th>\n",
       "      <th>Int%</th>\n",
       "      <th>Rate</th>\n",
       "      <th>TO</th>\n",
       "      <th>CAY/PA</th>\n",
       "    </tr>\n",
       "  </thead>\n",
       "  <tbody>\n",
       "    <tr>\n",
       "      <th>0</th>\n",
       "      <td>2024-01-07</td>\n",
       "      <td>MIA</td>\n",
       "      <td>50.0</td>\n",
       "      <td>MIA</td>\n",
       "      <td>2023</td>\n",
       "      <td>496.0</td>\n",
       "      <td>391.0</td>\n",
       "      <td>69.4</td>\n",
       "      <td>7.84</td>\n",
       "      <td>6.48</td>\n",
       "      <td>...</td>\n",
       "      <td>8.2</td>\n",
       "      <td>7.6</td>\n",
       "      <td>4.4</td>\n",
       "      <td>7.6</td>\n",
       "      <td>8.2</td>\n",
       "      <td>5.3</td>\n",
       "      <td>2.7</td>\n",
       "      <td>101.2</td>\n",
       "      <td>25.0</td>\n",
       "      <td>4.4</td>\n",
       "    </tr>\n",
       "    <tr>\n",
       "      <th>1</th>\n",
       "      <td>2024-01-07</td>\n",
       "      <td>ARI</td>\n",
       "      <td>47.5</td>\n",
       "      <td>ARI</td>\n",
       "      <td>2023</td>\n",
       "      <td>330.0</td>\n",
       "      <td>455.0</td>\n",
       "      <td>64.0</td>\n",
       "      <td>5.34</td>\n",
       "      <td>5.16</td>\n",
       "      <td>...</td>\n",
       "      <td>8.2</td>\n",
       "      <td>7.6</td>\n",
       "      <td>3.5</td>\n",
       "      <td>7.1</td>\n",
       "      <td>8.2</td>\n",
       "      <td>3.2</td>\n",
       "      <td>2.2</td>\n",
       "      <td>82.9</td>\n",
       "      <td>18.0</td>\n",
       "      <td>3.2</td>\n",
       "    </tr>\n",
       "    <tr>\n",
       "      <th>2</th>\n",
       "      <td>2024-01-07</td>\n",
       "      <td>CAR</td>\n",
       "      <td>37.0</td>\n",
       "      <td>CAR</td>\n",
       "      <td>2023</td>\n",
       "      <td>236.0</td>\n",
       "      <td>416.0</td>\n",
       "      <td>59.7</td>\n",
       "      <td>4.35</td>\n",
       "      <td>4.11</td>\n",
       "      <td>...</td>\n",
       "      <td>7.3</td>\n",
       "      <td>7.6</td>\n",
       "      <td>5.2</td>\n",
       "      <td>6.9</td>\n",
       "      <td>7.3</td>\n",
       "      <td>2.2</td>\n",
       "      <td>1.7</td>\n",
       "      <td>75.2</td>\n",
       "      <td>20.0</td>\n",
       "      <td>3.1</td>\n",
       "    </tr>\n",
       "    <tr>\n",
       "      <th>3</th>\n",
       "      <td>2024-01-07</td>\n",
       "      <td>CIN</td>\n",
       "      <td>40.0</td>\n",
       "      <td>CIN</td>\n",
       "      <td>2023</td>\n",
       "      <td>366.0</td>\n",
       "      <td>384.0</td>\n",
       "      <td>68.3</td>\n",
       "      <td>6.19</td>\n",
       "      <td>5.17</td>\n",
       "      <td>...</td>\n",
       "      <td>9.4</td>\n",
       "      <td>6.3</td>\n",
       "      <td>5.0</td>\n",
       "      <td>6.0</td>\n",
       "      <td>9.4</td>\n",
       "      <td>4.4</td>\n",
       "      <td>2.3</td>\n",
       "      <td>93.0</td>\n",
       "      <td>16.0</td>\n",
       "      <td>3.1</td>\n",
       "    </tr>\n",
       "    <tr>\n",
       "      <th>4</th>\n",
       "      <td>2024-01-07</td>\n",
       "      <td>DET</td>\n",
       "      <td>44.0</td>\n",
       "      <td>DET</td>\n",
       "      <td>2023</td>\n",
       "      <td>461.0</td>\n",
       "      <td>395.0</td>\n",
       "      <td>67.3</td>\n",
       "      <td>7.36</td>\n",
       "      <td>5.90</td>\n",
       "      <td>...</td>\n",
       "      <td>9.2</td>\n",
       "      <td>6.7</td>\n",
       "      <td>6.1</td>\n",
       "      <td>6.7</td>\n",
       "      <td>9.2</td>\n",
       "      <td>5.0</td>\n",
       "      <td>2.0</td>\n",
       "      <td>98.1</td>\n",
       "      <td>23.0</td>\n",
       "      <td>4.0</td>\n",
       "    </tr>\n",
       "  </tbody>\n",
       "</table>\n",
       "<p>5 rows × 21 columns</p>\n",
       "</div>"
      ],
      "text/plain": [
       "         Date Home Team  Total Score Open Team Season    Pts   PtsO  Cmp%  \\\n",
       "0  2024-01-07       MIA              50.0  MIA   2023  496.0  391.0  69.4   \n",
       "1  2024-01-07       ARI              47.5  ARI   2023  330.0  455.0  64.0   \n",
       "2  2024-01-07       CAR              37.0  CAR   2023  236.0  416.0  59.7   \n",
       "3  2024-01-07       CIN              40.0  CIN   2023  366.0  384.0  68.3   \n",
       "4  2024-01-07       DET              44.0  DET   2023  461.0  395.0  67.3   \n",
       "\n",
       "   AY/A   Y/P  ...  DADOT  IAY/PA  Drop%  ADOT  DADOT.1  TD%  Int%   Rate  \\\n",
       "0  7.84  6.48  ...    8.2     7.6    4.4   7.6      8.2  5.3   2.7  101.2   \n",
       "1  5.34  5.16  ...    8.2     7.6    3.5   7.1      8.2  3.2   2.2   82.9   \n",
       "2  4.35  4.11  ...    7.3     7.6    5.2   6.9      7.3  2.2   1.7   75.2   \n",
       "3  6.19  5.17  ...    9.4     6.3    5.0   6.0      9.4  4.4   2.3   93.0   \n",
       "4  7.36  5.90  ...    9.2     6.7    6.1   6.7      9.2  5.0   2.0   98.1   \n",
       "\n",
       "     TO  CAY/PA  \n",
       "0  25.0     4.4  \n",
       "1  18.0     3.2  \n",
       "2  20.0     3.1  \n",
       "3  16.0     3.1  \n",
       "4  23.0     4.0  \n",
       "\n",
       "[5 rows x 21 columns]"
      ]
     },
     "execution_count": 65,
     "metadata": {},
     "output_type": "execute_result"
    }
   ],
   "source": [
    "home_df_stats.head()"
   ]
  },
  {
   "cell_type": "code",
   "execution_count": 66,
   "id": "28dd8b9d-aaab-4a27-9051-8411819f5c0d",
   "metadata": {
    "tags": []
   },
   "outputs": [],
   "source": [
    "away_df['Season'] = away_df['Season'].astype('string')"
   ]
  },
  {
   "cell_type": "code",
   "execution_count": 67,
   "id": "0efce871-b1d8-4ba5-9856-f34c59c7a1b7",
   "metadata": {
    "tags": []
   },
   "outputs": [],
   "source": [
    "away_df['Season'] = away_df['Season'].astype('object')"
   ]
  },
  {
   "cell_type": "code",
   "execution_count": 68,
   "id": "2067f092-e90d-4098-8741-c19e3d64cc31",
   "metadata": {
    "tags": []
   },
   "outputs": [],
   "source": [
    "away_df_stats = pd.merge(away_df, new_stats, how = 'left', on = ['Team', 'Season'])"
   ]
  },
  {
   "cell_type": "code",
   "execution_count": 69,
   "id": "0d8568bd-0e41-48e4-adbd-68b305187c03",
   "metadata": {
    "tags": []
   },
   "outputs": [
    {
     "name": "stdout",
     "output_type": "stream",
     "text": [
      "<class 'pandas.core.frame.DataFrame'>\n",
      "Int64Index: 4655 entries, 0 to 4654\n",
      "Data columns (total 21 columns):\n",
      " #   Column            Non-Null Count  Dtype  \n",
      "---  ------            --------------  -----  \n",
      " 0   Date              4655 non-null   object \n",
      " 1   Away Team         4655 non-null   object \n",
      " 2   Total Score Open  4655 non-null   float64\n",
      " 3   Team              4655 non-null   object \n",
      " 4   Season            4655 non-null   object \n",
      " 5   Pts               1327 non-null   float64\n",
      " 6   PtsO              1327 non-null   float64\n",
      " 7   Cmp%              1327 non-null   float64\n",
      " 8   AY/A              1327 non-null   float64\n",
      " 9   Y/P               1327 non-null   float64\n",
      " 10  OnTgt%            1327 non-null   float64\n",
      " 11  DADOT             1327 non-null   float64\n",
      " 12  IAY/PA            1327 non-null   float64\n",
      " 13  Drop%             1327 non-null   float64\n",
      " 14  ADOT              1327 non-null   float64\n",
      " 15  DADOT.1           1327 non-null   float64\n",
      " 16  TD%               1327 non-null   float64\n",
      " 17  Int%              1327 non-null   float64\n",
      " 18  Rate              1327 non-null   float64\n",
      " 19  TO                1327 non-null   float64\n",
      " 20  CAY/PA            1327 non-null   float64\n",
      "dtypes: float64(17), object(4)\n",
      "memory usage: 800.1+ KB\n"
     ]
    }
   ],
   "source": [
    "away_df_stats.info()"
   ]
  },
  {
   "cell_type": "code",
   "execution_count": 70,
   "id": "439551c2-14d3-4a0e-89bc-be2ff3ce4e28",
   "metadata": {
    "tags": []
   },
   "outputs": [],
   "source": [
    "away_df_stats.dropna(inplace=True)"
   ]
  },
  {
   "cell_type": "code",
   "execution_count": 71,
   "id": "2287515b-80a9-42fc-b44b-d67e8f342119",
   "metadata": {
    "tags": []
   },
   "outputs": [
    {
     "name": "stdout",
     "output_type": "stream",
     "text": [
      "<class 'pandas.core.frame.DataFrame'>\n",
      "Int64Index: 1327 entries, 0 to 1326\n",
      "Data columns (total 21 columns):\n",
      " #   Column            Non-Null Count  Dtype  \n",
      "---  ------            --------------  -----  \n",
      " 0   Date              1327 non-null   object \n",
      " 1   Away Team         1327 non-null   object \n",
      " 2   Total Score Open  1327 non-null   float64\n",
      " 3   Team              1327 non-null   object \n",
      " 4   Season            1327 non-null   object \n",
      " 5   Pts               1327 non-null   float64\n",
      " 6   PtsO              1327 non-null   float64\n",
      " 7   Cmp%              1327 non-null   float64\n",
      " 8   AY/A              1327 non-null   float64\n",
      " 9   Y/P               1327 non-null   float64\n",
      " 10  OnTgt%            1327 non-null   float64\n",
      " 11  DADOT             1327 non-null   float64\n",
      " 12  IAY/PA            1327 non-null   float64\n",
      " 13  Drop%             1327 non-null   float64\n",
      " 14  ADOT              1327 non-null   float64\n",
      " 15  DADOT.1           1327 non-null   float64\n",
      " 16  TD%               1327 non-null   float64\n",
      " 17  Int%              1327 non-null   float64\n",
      " 18  Rate              1327 non-null   float64\n",
      " 19  TO                1327 non-null   float64\n",
      " 20  CAY/PA            1327 non-null   float64\n",
      "dtypes: float64(17), object(4)\n",
      "memory usage: 228.1+ KB\n"
     ]
    }
   ],
   "source": [
    "away_df_stats.info()"
   ]
  },
  {
   "cell_type": "code",
   "execution_count": 72,
   "id": "710b2ee0-6613-46df-82b8-85f29e55eea1",
   "metadata": {
    "tags": []
   },
   "outputs": [],
   "source": [
    "full_home = pd.concat([home_w1_for_test, home_df_stats], axis = 0)"
   ]
  },
  {
   "cell_type": "code",
   "execution_count": 73,
   "id": "da2d0c26-0893-433c-b131-afe0a72bcb57",
   "metadata": {
    "tags": []
   },
   "outputs": [
    {
     "data": {
      "text/html": [
       "<div>\n",
       "<style scoped>\n",
       "    .dataframe tbody tr th:only-of-type {\n",
       "        vertical-align: middle;\n",
       "    }\n",
       "\n",
       "    .dataframe tbody tr th {\n",
       "        vertical-align: top;\n",
       "    }\n",
       "\n",
       "    .dataframe thead th {\n",
       "        text-align: right;\n",
       "    }\n",
       "</style>\n",
       "<table border=\"1\" class=\"dataframe\">\n",
       "  <thead>\n",
       "    <tr style=\"text-align: right;\">\n",
       "      <th></th>\n",
       "      <th>Home Team</th>\n",
       "      <th>Total Score Open</th>\n",
       "      <th>Date</th>\n",
       "      <th>Season</th>\n",
       "      <th>Team</th>\n",
       "      <th>Pts</th>\n",
       "      <th>PtsO</th>\n",
       "      <th>Cmp%</th>\n",
       "      <th>AY/A</th>\n",
       "      <th>Y/P</th>\n",
       "      <th>...</th>\n",
       "      <th>DADOT</th>\n",
       "      <th>IAY/PA</th>\n",
       "      <th>Drop%</th>\n",
       "      <th>ADOT</th>\n",
       "      <th>DADOT.1</th>\n",
       "      <th>TD%</th>\n",
       "      <th>Int%</th>\n",
       "      <th>Rate</th>\n",
       "      <th>TO</th>\n",
       "      <th>CAY/PA</th>\n",
       "    </tr>\n",
       "  </thead>\n",
       "  <tbody>\n",
       "    <tr>\n",
       "      <th>0</th>\n",
       "      <td>KC</td>\n",
       "      <td>46.5</td>\n",
       "      <td>2024-09-05 00:00:00</td>\n",
       "      <td>2023</td>\n",
       "      <td>KC</td>\n",
       "      <td>371.0</td>\n",
       "      <td>294.0</td>\n",
       "      <td>66.3</td>\n",
       "      <td>6.27</td>\n",
       "      <td>5.53</td>\n",
       "      <td>...</td>\n",
       "      <td>7.5</td>\n",
       "      <td>6.4</td>\n",
       "      <td>7.3</td>\n",
       "      <td>6.2</td>\n",
       "      <td>7.5</td>\n",
       "      <td>4.4</td>\n",
       "      <td>2.7</td>\n",
       "      <td>89.6</td>\n",
       "      <td>28.0</td>\n",
       "      <td>2.7</td>\n",
       "    </tr>\n",
       "    <tr>\n",
       "      <th>1</th>\n",
       "      <td>PHI</td>\n",
       "      <td>48.5</td>\n",
       "      <td>2024-09-06 00:00:00</td>\n",
       "      <td>2023</td>\n",
       "      <td>PHI</td>\n",
       "      <td>433.0</td>\n",
       "      <td>428.0</td>\n",
       "      <td>65.5</td>\n",
       "      <td>6.38</td>\n",
       "      <td>5.42</td>\n",
       "      <td>...</td>\n",
       "      <td>8.2</td>\n",
       "      <td>8.6</td>\n",
       "      <td>3.6</td>\n",
       "      <td>7.9</td>\n",
       "      <td>8.2</td>\n",
       "      <td>4.3</td>\n",
       "      <td>2.8</td>\n",
       "      <td>89.2</td>\n",
       "      <td>28.0</td>\n",
       "      <td>4.1</td>\n",
       "    </tr>\n",
       "    <tr>\n",
       "      <th>2</th>\n",
       "      <td>IND</td>\n",
       "      <td>49.0</td>\n",
       "      <td>2024-09-08 00:00:00</td>\n",
       "      <td>2023</td>\n",
       "      <td>IND</td>\n",
       "      <td>396.0</td>\n",
       "      <td>415.0</td>\n",
       "      <td>61.8</td>\n",
       "      <td>6.23</td>\n",
       "      <td>5.23</td>\n",
       "      <td>...</td>\n",
       "      <td>7.7</td>\n",
       "      <td>7.4</td>\n",
       "      <td>5.9</td>\n",
       "      <td>7.1</td>\n",
       "      <td>7.7</td>\n",
       "      <td>3.1</td>\n",
       "      <td>1.7</td>\n",
       "      <td>85.0</td>\n",
       "      <td>22.0</td>\n",
       "      <td>3.5</td>\n",
       "    </tr>\n",
       "    <tr>\n",
       "      <th>3</th>\n",
       "      <td>NO</td>\n",
       "      <td>41.5</td>\n",
       "      <td>2024-09-08 00:00:00</td>\n",
       "      <td>2023</td>\n",
       "      <td>NO</td>\n",
       "      <td>402.0</td>\n",
       "      <td>327.0</td>\n",
       "      <td>67.0</td>\n",
       "      <td>6.69</td>\n",
       "      <td>5.11</td>\n",
       "      <td>...</td>\n",
       "      <td>8.3</td>\n",
       "      <td>8.3</td>\n",
       "      <td>4.0</td>\n",
       "      <td>8.0</td>\n",
       "      <td>8.3</td>\n",
       "      <td>4.6</td>\n",
       "      <td>1.8</td>\n",
       "      <td>94.8</td>\n",
       "      <td>18.0</td>\n",
       "      <td>4.0</td>\n",
       "    </tr>\n",
       "    <tr>\n",
       "      <th>4</th>\n",
       "      <td>BUF</td>\n",
       "      <td>48.0</td>\n",
       "      <td>2024-09-08 00:00:00</td>\n",
       "      <td>2023</td>\n",
       "      <td>BUF</td>\n",
       "      <td>451.0</td>\n",
       "      <td>311.0</td>\n",
       "      <td>66.5</td>\n",
       "      <td>6.78</td>\n",
       "      <td>5.71</td>\n",
       "      <td>...</td>\n",
       "      <td>6.9</td>\n",
       "      <td>8.7</td>\n",
       "      <td>5.6</td>\n",
       "      <td>8.1</td>\n",
       "      <td>6.9</td>\n",
       "      <td>5.0</td>\n",
       "      <td>3.1</td>\n",
       "      <td>92.2</td>\n",
       "      <td>28.0</td>\n",
       "      <td>4.0</td>\n",
       "    </tr>\n",
       "  </tbody>\n",
       "</table>\n",
       "<p>5 rows × 21 columns</p>\n",
       "</div>"
      ],
      "text/plain": [
       "  Home Team  Total Score Open                 Date Season Team    Pts   PtsO  \\\n",
       "0        KC              46.5  2024-09-05 00:00:00   2023   KC  371.0  294.0   \n",
       "1       PHI              48.5  2024-09-06 00:00:00   2023  PHI  433.0  428.0   \n",
       "2       IND              49.0  2024-09-08 00:00:00   2023  IND  396.0  415.0   \n",
       "3        NO              41.5  2024-09-08 00:00:00   2023   NO  402.0  327.0   \n",
       "4       BUF              48.0  2024-09-08 00:00:00   2023  BUF  451.0  311.0   \n",
       "\n",
       "   Cmp%  AY/A   Y/P  ...  DADOT  IAY/PA  Drop%  ADOT  DADOT.1  TD%  Int%  \\\n",
       "0  66.3  6.27  5.53  ...    7.5     6.4    7.3   6.2      7.5  4.4   2.7   \n",
       "1  65.5  6.38  5.42  ...    8.2     8.6    3.6   7.9      8.2  4.3   2.8   \n",
       "2  61.8  6.23  5.23  ...    7.7     7.4    5.9   7.1      7.7  3.1   1.7   \n",
       "3  67.0  6.69  5.11  ...    8.3     8.3    4.0   8.0      8.3  4.6   1.8   \n",
       "4  66.5  6.78  5.71  ...    6.9     8.7    5.6   8.1      6.9  5.0   3.1   \n",
       "\n",
       "   Rate    TO  CAY/PA  \n",
       "0  89.6  28.0     2.7  \n",
       "1  89.2  28.0     4.1  \n",
       "2  85.0  22.0     3.5  \n",
       "3  94.8  18.0     4.0  \n",
       "4  92.2  28.0     4.0  \n",
       "\n",
       "[5 rows x 21 columns]"
      ]
     },
     "execution_count": 73,
     "metadata": {},
     "output_type": "execute_result"
    }
   ],
   "source": [
    "full_home.head()"
   ]
  },
  {
   "cell_type": "code",
   "execution_count": 74,
   "id": "ef886244-4eea-4ec7-a7d0-a3e7cf43bb10",
   "metadata": {
    "tags": []
   },
   "outputs": [],
   "source": [
    "full_away = pd.concat([away_w1_for_test, away_df_stats], axis = 0)"
   ]
  },
  {
   "cell_type": "code",
   "execution_count": 75,
   "id": "2ea35e19-3299-4a42-9cac-440bcb62fdc6",
   "metadata": {
    "tags": []
   },
   "outputs": [
    {
     "data": {
      "text/html": [
       "<div>\n",
       "<style scoped>\n",
       "    .dataframe tbody tr th:only-of-type {\n",
       "        vertical-align: middle;\n",
       "    }\n",
       "\n",
       "    .dataframe tbody tr th {\n",
       "        vertical-align: top;\n",
       "    }\n",
       "\n",
       "    .dataframe thead th {\n",
       "        text-align: right;\n",
       "    }\n",
       "</style>\n",
       "<table border=\"1\" class=\"dataframe\">\n",
       "  <thead>\n",
       "    <tr style=\"text-align: right;\">\n",
       "      <th></th>\n",
       "      <th>Away Team</th>\n",
       "      <th>Total Score Open</th>\n",
       "      <th>Date</th>\n",
       "      <th>Season</th>\n",
       "      <th>Team</th>\n",
       "      <th>Pts</th>\n",
       "      <th>PtsO</th>\n",
       "      <th>Cmp%</th>\n",
       "      <th>AY/A</th>\n",
       "      <th>Y/P</th>\n",
       "      <th>...</th>\n",
       "      <th>DADOT</th>\n",
       "      <th>IAY/PA</th>\n",
       "      <th>Drop%</th>\n",
       "      <th>ADOT</th>\n",
       "      <th>DADOT.1</th>\n",
       "      <th>TD%</th>\n",
       "      <th>Int%</th>\n",
       "      <th>Rate</th>\n",
       "      <th>TO</th>\n",
       "      <th>CAY/PA</th>\n",
       "    </tr>\n",
       "  </thead>\n",
       "  <tbody>\n",
       "    <tr>\n",
       "      <th>0</th>\n",
       "      <td>BAL</td>\n",
       "      <td>46.5</td>\n",
       "      <td>2024-09-05 00:00:00</td>\n",
       "      <td>2023</td>\n",
       "      <td>BAL</td>\n",
       "      <td>483.0</td>\n",
       "      <td>280.0</td>\n",
       "      <td>66.4</td>\n",
       "      <td>7.81</td>\n",
       "      <td>5.85</td>\n",
       "      <td>...</td>\n",
       "      <td>7.6</td>\n",
       "      <td>8.3</td>\n",
       "      <td>5.5</td>\n",
       "      <td>8.2</td>\n",
       "      <td>7.6</td>\n",
       "      <td>5.5</td>\n",
       "      <td>1.4</td>\n",
       "      <td>102.5</td>\n",
       "      <td>19.0</td>\n",
       "      <td>4.2</td>\n",
       "    </tr>\n",
       "    <tr>\n",
       "      <th>1</th>\n",
       "      <td>GB</td>\n",
       "      <td>48.5</td>\n",
       "      <td>2024-09-06 00:00:00</td>\n",
       "      <td>2023</td>\n",
       "      <td>GB</td>\n",
       "      <td>383.0</td>\n",
       "      <td>350.0</td>\n",
       "      <td>64.4</td>\n",
       "      <td>7.08</td>\n",
       "      <td>5.58</td>\n",
       "      <td>...</td>\n",
       "      <td>7.5</td>\n",
       "      <td>8.5</td>\n",
       "      <td>5.2</td>\n",
       "      <td>8.3</td>\n",
       "      <td>7.5</td>\n",
       "      <td>5.5</td>\n",
       "      <td>1.9</td>\n",
       "      <td>96.4</td>\n",
       "      <td>18.0</td>\n",
       "      <td>3.9</td>\n",
       "    </tr>\n",
       "    <tr>\n",
       "      <th>2</th>\n",
       "      <td>HOU</td>\n",
       "      <td>49.0</td>\n",
       "      <td>2024-09-08 00:00:00</td>\n",
       "      <td>2023</td>\n",
       "      <td>HOU</td>\n",
       "      <td>377.0</td>\n",
       "      <td>353.0</td>\n",
       "      <td>62.8</td>\n",
       "      <td>7.35</td>\n",
       "      <td>5.37</td>\n",
       "      <td>...</td>\n",
       "      <td>8.4</td>\n",
       "      <td>8.8</td>\n",
       "      <td>4.2</td>\n",
       "      <td>8.5</td>\n",
       "      <td>8.4</td>\n",
       "      <td>4.6</td>\n",
       "      <td>1.4</td>\n",
       "      <td>96.2</td>\n",
       "      <td>14.0</td>\n",
       "      <td>4.4</td>\n",
       "    </tr>\n",
       "    <tr>\n",
       "      <th>3</th>\n",
       "      <td>CAR</td>\n",
       "      <td>41.5</td>\n",
       "      <td>2024-09-08 00:00:00</td>\n",
       "      <td>2023</td>\n",
       "      <td>CAR</td>\n",
       "      <td>236.0</td>\n",
       "      <td>416.0</td>\n",
       "      <td>59.7</td>\n",
       "      <td>4.35</td>\n",
       "      <td>4.11</td>\n",
       "      <td>...</td>\n",
       "      <td>7.3</td>\n",
       "      <td>7.6</td>\n",
       "      <td>5.2</td>\n",
       "      <td>6.9</td>\n",
       "      <td>7.3</td>\n",
       "      <td>2.2</td>\n",
       "      <td>1.7</td>\n",
       "      <td>75.2</td>\n",
       "      <td>20.0</td>\n",
       "      <td>3.1</td>\n",
       "    </tr>\n",
       "    <tr>\n",
       "      <th>4</th>\n",
       "      <td>ARI</td>\n",
       "      <td>48.0</td>\n",
       "      <td>2024-09-08 00:00:00</td>\n",
       "      <td>2023</td>\n",
       "      <td>ARI</td>\n",
       "      <td>330.0</td>\n",
       "      <td>455.0</td>\n",
       "      <td>64.0</td>\n",
       "      <td>5.34</td>\n",
       "      <td>5.16</td>\n",
       "      <td>...</td>\n",
       "      <td>8.2</td>\n",
       "      <td>7.6</td>\n",
       "      <td>3.5</td>\n",
       "      <td>7.1</td>\n",
       "      <td>8.2</td>\n",
       "      <td>3.2</td>\n",
       "      <td>2.2</td>\n",
       "      <td>82.9</td>\n",
       "      <td>18.0</td>\n",
       "      <td>3.2</td>\n",
       "    </tr>\n",
       "  </tbody>\n",
       "</table>\n",
       "<p>5 rows × 21 columns</p>\n",
       "</div>"
      ],
      "text/plain": [
       "  Away Team  Total Score Open                 Date Season Team    Pts   PtsO  \\\n",
       "0       BAL              46.5  2024-09-05 00:00:00   2023  BAL  483.0  280.0   \n",
       "1        GB              48.5  2024-09-06 00:00:00   2023   GB  383.0  350.0   \n",
       "2       HOU              49.0  2024-09-08 00:00:00   2023  HOU  377.0  353.0   \n",
       "3       CAR              41.5  2024-09-08 00:00:00   2023  CAR  236.0  416.0   \n",
       "4       ARI              48.0  2024-09-08 00:00:00   2023  ARI  330.0  455.0   \n",
       "\n",
       "   Cmp%  AY/A   Y/P  ...  DADOT  IAY/PA  Drop%  ADOT  DADOT.1  TD%  Int%  \\\n",
       "0  66.4  7.81  5.85  ...    7.6     8.3    5.5   8.2      7.6  5.5   1.4   \n",
       "1  64.4  7.08  5.58  ...    7.5     8.5    5.2   8.3      7.5  5.5   1.9   \n",
       "2  62.8  7.35  5.37  ...    8.4     8.8    4.2   8.5      8.4  4.6   1.4   \n",
       "3  59.7  4.35  4.11  ...    7.3     7.6    5.2   6.9      7.3  2.2   1.7   \n",
       "4  64.0  5.34  5.16  ...    8.2     7.6    3.5   7.1      8.2  3.2   2.2   \n",
       "\n",
       "    Rate    TO  CAY/PA  \n",
       "0  102.5  19.0     4.2  \n",
       "1   96.4  18.0     3.9  \n",
       "2   96.2  14.0     4.4  \n",
       "3   75.2  20.0     3.1  \n",
       "4   82.9  18.0     3.2  \n",
       "\n",
       "[5 rows x 21 columns]"
      ]
     },
     "execution_count": 75,
     "metadata": {},
     "output_type": "execute_result"
    }
   ],
   "source": [
    "full_away.head()"
   ]
  },
  {
   "cell_type": "code",
   "execution_count": 76,
   "id": "8cd2979d-1947-46ea-aa05-2409bbc0f1d7",
   "metadata": {
    "tags": []
   },
   "outputs": [],
   "source": [
    "home_rename = {'Pts' : 'pts_x', 'PtsO' : 'pts_allowed_x', 'Cmp%' : 'cmp_pct_x', 'AY/A' : 'avgyd_att_x', \n",
    "               'Y/P' : 'yds_play_x', 'OnTgt%' : 'on_tgt_pct_x', 'DADOT' : 'dadot_x', 'IAY/PA' : 'intd_air_att_x', 'Drop%' : 'drop_pct_x',\n",
    "               'ADOT' : 'adot_x', 'TD%' : 'td_pct_x', 'Int%' : 'int_pct_x', 'Rate' : 'rate_x', 'TO' : 'to_x', 'CAY/PA' : 'cmp_air_att_x'}"
   ]
  },
  {
   "cell_type": "code",
   "execution_count": 77,
   "id": "a700429e-25e4-4640-a556-c694484ebbc8",
   "metadata": {
    "tags": []
   },
   "outputs": [],
   "source": [
    "more_drops = ['DADOT.1']"
   ]
  },
  {
   "cell_type": "code",
   "execution_count": 78,
   "id": "c982a0da-5d0b-479f-a5c6-c3ba6d6574f9",
   "metadata": {
    "tags": []
   },
   "outputs": [],
   "source": [
    "away_rename =  {'Pts' : 'pts_y', 'PtsO' : 'pts_allowed_y', 'Cmp%' : 'cmp_pct_y', 'AY/A' : 'avgyd_att_y', \n",
    "               'Y/P' : 'yds_play_y', 'OnTgt%' : 'on_tgt_pct_y', 'DADOT' : 'dadot_y', 'IAY/PA' : 'intd_air_att_y', 'Drop%' : 'drop_pct_y',\n",
    "               'ADOT' : 'adot_y', 'TD%' : 'td_pct_y', 'Int%' : 'int_pct_y', 'Rate' : 'rate_y', 'TO' : 'to_y', 'CAY/PA' : 'cmp_air_att_y'}"
   ]
  },
  {
   "cell_type": "code",
   "execution_count": 79,
   "id": "2a0fc215-016e-43f1-bf4d-1b9f5bb90f58",
   "metadata": {
    "tags": []
   },
   "outputs": [],
   "source": [
    "full_home.rename(columns = home_rename, inplace = True)"
   ]
  },
  {
   "cell_type": "code",
   "execution_count": 80,
   "id": "7cfcb380-e6a8-49fe-8c9e-3799513fb65d",
   "metadata": {
    "tags": []
   },
   "outputs": [],
   "source": [
    "full_away.rename(columns = away_rename, inplace = True)"
   ]
  },
  {
   "cell_type": "code",
   "execution_count": 81,
   "id": "61e19332-d081-4c42-af4d-41561672d871",
   "metadata": {
    "tags": []
   },
   "outputs": [],
   "source": [
    "full_home.drop(columns = more_drops, inplace = True)"
   ]
  },
  {
   "cell_type": "code",
   "execution_count": 82,
   "id": "b80ba5fc-efb4-49bb-a9fa-85b956f4210e",
   "metadata": {
    "tags": []
   },
   "outputs": [],
   "source": [
    "full_away.drop(columns = more_drops, inplace = True)"
   ]
  },
  {
   "cell_type": "code",
   "execution_count": 83,
   "id": "9627e4a5-164d-4bc7-97cf-c6dbf4b21461",
   "metadata": {
    "tags": []
   },
   "outputs": [],
   "source": [
    "full_df = pd.concat([full_home, full_away], join = 'outer', axis = 1).reset_index(drop = True)"
   ]
  },
  {
   "cell_type": "code",
   "execution_count": 84,
   "id": "b1b1028d-be59-4647-9a4a-e4c6b137bed7",
   "metadata": {
    "tags": []
   },
   "outputs": [
    {
     "name": "stdout",
     "output_type": "stream",
     "text": [
      "<class 'pandas.core.frame.DataFrame'>\n",
      "RangeIndex: 1343 entries, 0 to 1342\n",
      "Data columns (total 40 columns):\n",
      " #   Column            Non-Null Count  Dtype  \n",
      "---  ------            --------------  -----  \n",
      " 0   Home Team         1343 non-null   object \n",
      " 1   Total Score Open  1343 non-null   float64\n",
      " 2   Date              1343 non-null   object \n",
      " 3   Season            1343 non-null   object \n",
      " 4   Team              1343 non-null   object \n",
      " 5   pts_x             1343 non-null   float64\n",
      " 6   pts_allowed_x     1343 non-null   float64\n",
      " 7   cmp_pct_x         1343 non-null   float64\n",
      " 8   avgyd_att_x       1343 non-null   float64\n",
      " 9   yds_play_x        1343 non-null   float64\n",
      " 10  on_tgt_pct_x      1343 non-null   float64\n",
      " 11  dadot_x           1343 non-null   float64\n",
      " 12  intd_air_att_x    1343 non-null   float64\n",
      " 13  drop_pct_x        1343 non-null   float64\n",
      " 14  adot_x            1343 non-null   float64\n",
      " 15  td_pct_x          1343 non-null   float64\n",
      " 16  int_pct_x         1343 non-null   float64\n",
      " 17  rate_x            1343 non-null   float64\n",
      " 18  to_x              1343 non-null   float64\n",
      " 19  cmp_air_att_x     1343 non-null   float64\n",
      " 20  Away Team         1343 non-null   object \n",
      " 21  Total Score Open  1343 non-null   float64\n",
      " 22  Date              1343 non-null   object \n",
      " 23  Season            1343 non-null   object \n",
      " 24  Team              1343 non-null   object \n",
      " 25  pts_y             1343 non-null   float64\n",
      " 26  pts_allowed_y     1343 non-null   float64\n",
      " 27  cmp_pct_y         1343 non-null   float64\n",
      " 28  avgyd_att_y       1343 non-null   float64\n",
      " 29  yds_play_y        1343 non-null   float64\n",
      " 30  on_tgt_pct_y      1343 non-null   float64\n",
      " 31  dadot_y           1343 non-null   float64\n",
      " 32  intd_air_att_y    1343 non-null   float64\n",
      " 33  drop_pct_y        1343 non-null   float64\n",
      " 34  adot_y            1343 non-null   float64\n",
      " 35  td_pct_y          1343 non-null   float64\n",
      " 36  int_pct_y         1343 non-null   float64\n",
      " 37  rate_y            1343 non-null   float64\n",
      " 38  to_y              1343 non-null   float64\n",
      " 39  cmp_air_att_y     1343 non-null   float64\n",
      "dtypes: float64(32), object(8)\n",
      "memory usage: 419.8+ KB\n"
     ]
    }
   ],
   "source": [
    "full_df.info()"
   ]
  },
  {
   "cell_type": "code",
   "execution_count": 85,
   "id": "c37f39b3-6fc8-4b9c-b13b-bee7be53c985",
   "metadata": {
    "tags": []
   },
   "outputs": [],
   "source": [
    "full_df = full_df.loc[:,~full_df.columns.duplicated()]"
   ]
  },
  {
   "cell_type": "code",
   "execution_count": 86,
   "id": "eb0bc344-2005-4537-82f2-66368b902c2e",
   "metadata": {
    "tags": []
   },
   "outputs": [
    {
     "name": "stdout",
     "output_type": "stream",
     "text": [
      "<class 'pandas.core.frame.DataFrame'>\n",
      "RangeIndex: 1343 entries, 0 to 1342\n",
      "Data columns (total 36 columns):\n",
      " #   Column            Non-Null Count  Dtype  \n",
      "---  ------            --------------  -----  \n",
      " 0   Home Team         1343 non-null   object \n",
      " 1   Total Score Open  1343 non-null   float64\n",
      " 2   Date              1343 non-null   object \n",
      " 3   Season            1343 non-null   object \n",
      " 4   Team              1343 non-null   object \n",
      " 5   pts_x             1343 non-null   float64\n",
      " 6   pts_allowed_x     1343 non-null   float64\n",
      " 7   cmp_pct_x         1343 non-null   float64\n",
      " 8   avgyd_att_x       1343 non-null   float64\n",
      " 9   yds_play_x        1343 non-null   float64\n",
      " 10  on_tgt_pct_x      1343 non-null   float64\n",
      " 11  dadot_x           1343 non-null   float64\n",
      " 12  intd_air_att_x    1343 non-null   float64\n",
      " 13  drop_pct_x        1343 non-null   float64\n",
      " 14  adot_x            1343 non-null   float64\n",
      " 15  td_pct_x          1343 non-null   float64\n",
      " 16  int_pct_x         1343 non-null   float64\n",
      " 17  rate_x            1343 non-null   float64\n",
      " 18  to_x              1343 non-null   float64\n",
      " 19  cmp_air_att_x     1343 non-null   float64\n",
      " 20  Away Team         1343 non-null   object \n",
      " 21  pts_y             1343 non-null   float64\n",
      " 22  pts_allowed_y     1343 non-null   float64\n",
      " 23  cmp_pct_y         1343 non-null   float64\n",
      " 24  avgyd_att_y       1343 non-null   float64\n",
      " 25  yds_play_y        1343 non-null   float64\n",
      " 26  on_tgt_pct_y      1343 non-null   float64\n",
      " 27  dadot_y           1343 non-null   float64\n",
      " 28  intd_air_att_y    1343 non-null   float64\n",
      " 29  drop_pct_y        1343 non-null   float64\n",
      " 30  adot_y            1343 non-null   float64\n",
      " 31  td_pct_y          1343 non-null   float64\n",
      " 32  int_pct_y         1343 non-null   float64\n",
      " 33  rate_y            1343 non-null   float64\n",
      " 34  to_y              1343 non-null   float64\n",
      " 35  cmp_air_att_y     1343 non-null   float64\n",
      "dtypes: float64(31), object(5)\n",
      "memory usage: 377.8+ KB\n"
     ]
    }
   ],
   "source": [
    "full_df.info()"
   ]
  },
  {
   "cell_type": "code",
   "execution_count": 87,
   "id": "85e1c4ef-e77c-437d-85b1-6c41db1feef1",
   "metadata": {
    "tags": []
   },
   "outputs": [
    {
     "data": {
      "text/html": [
       "<div>\n",
       "<style scoped>\n",
       "    .dataframe tbody tr th:only-of-type {\n",
       "        vertical-align: middle;\n",
       "    }\n",
       "\n",
       "    .dataframe tbody tr th {\n",
       "        vertical-align: top;\n",
       "    }\n",
       "\n",
       "    .dataframe thead th {\n",
       "        text-align: right;\n",
       "    }\n",
       "</style>\n",
       "<table border=\"1\" class=\"dataframe\">\n",
       "  <thead>\n",
       "    <tr style=\"text-align: right;\">\n",
       "      <th></th>\n",
       "      <th>Home Team</th>\n",
       "      <th>Total Score Open</th>\n",
       "      <th>Date</th>\n",
       "      <th>Season</th>\n",
       "      <th>Team</th>\n",
       "      <th>pts_x</th>\n",
       "      <th>pts_allowed_x</th>\n",
       "      <th>cmp_pct_x</th>\n",
       "      <th>avgyd_att_x</th>\n",
       "      <th>yds_play_x</th>\n",
       "      <th>...</th>\n",
       "      <th>on_tgt_pct_y</th>\n",
       "      <th>dadot_y</th>\n",
       "      <th>intd_air_att_y</th>\n",
       "      <th>drop_pct_y</th>\n",
       "      <th>adot_y</th>\n",
       "      <th>td_pct_y</th>\n",
       "      <th>int_pct_y</th>\n",
       "      <th>rate_y</th>\n",
       "      <th>to_y</th>\n",
       "      <th>cmp_air_att_y</th>\n",
       "    </tr>\n",
       "  </thead>\n",
       "  <tbody>\n",
       "    <tr>\n",
       "      <th>0</th>\n",
       "      <td>KC</td>\n",
       "      <td>46.5</td>\n",
       "      <td>2024-09-05 00:00:00</td>\n",
       "      <td>2023</td>\n",
       "      <td>KC</td>\n",
       "      <td>371.0</td>\n",
       "      <td>294.0</td>\n",
       "      <td>66.3</td>\n",
       "      <td>6.27</td>\n",
       "      <td>5.53</td>\n",
       "      <td>...</td>\n",
       "      <td>72.9</td>\n",
       "      <td>7.6</td>\n",
       "      <td>8.3</td>\n",
       "      <td>5.5</td>\n",
       "      <td>8.2</td>\n",
       "      <td>5.5</td>\n",
       "      <td>1.4</td>\n",
       "      <td>102.5</td>\n",
       "      <td>19.0</td>\n",
       "      <td>4.2</td>\n",
       "    </tr>\n",
       "    <tr>\n",
       "      <th>1</th>\n",
       "      <td>PHI</td>\n",
       "      <td>48.5</td>\n",
       "      <td>2024-09-06 00:00:00</td>\n",
       "      <td>2023</td>\n",
       "      <td>PHI</td>\n",
       "      <td>433.0</td>\n",
       "      <td>428.0</td>\n",
       "      <td>65.5</td>\n",
       "      <td>6.38</td>\n",
       "      <td>5.42</td>\n",
       "      <td>...</td>\n",
       "      <td>76.6</td>\n",
       "      <td>7.5</td>\n",
       "      <td>8.5</td>\n",
       "      <td>5.2</td>\n",
       "      <td>8.3</td>\n",
       "      <td>5.5</td>\n",
       "      <td>1.9</td>\n",
       "      <td>96.4</td>\n",
       "      <td>18.0</td>\n",
       "      <td>3.9</td>\n",
       "    </tr>\n",
       "    <tr>\n",
       "      <th>2</th>\n",
       "      <td>IND</td>\n",
       "      <td>49.0</td>\n",
       "      <td>2024-09-08 00:00:00</td>\n",
       "      <td>2023</td>\n",
       "      <td>IND</td>\n",
       "      <td>396.0</td>\n",
       "      <td>415.0</td>\n",
       "      <td>61.8</td>\n",
       "      <td>6.23</td>\n",
       "      <td>5.23</td>\n",
       "      <td>...</td>\n",
       "      <td>73.9</td>\n",
       "      <td>8.4</td>\n",
       "      <td>8.8</td>\n",
       "      <td>4.2</td>\n",
       "      <td>8.5</td>\n",
       "      <td>4.6</td>\n",
       "      <td>1.4</td>\n",
       "      <td>96.2</td>\n",
       "      <td>14.0</td>\n",
       "      <td>4.4</td>\n",
       "    </tr>\n",
       "    <tr>\n",
       "      <th>3</th>\n",
       "      <td>NO</td>\n",
       "      <td>41.5</td>\n",
       "      <td>2024-09-08 00:00:00</td>\n",
       "      <td>2023</td>\n",
       "      <td>NO</td>\n",
       "      <td>402.0</td>\n",
       "      <td>327.0</td>\n",
       "      <td>67.0</td>\n",
       "      <td>6.69</td>\n",
       "      <td>5.11</td>\n",
       "      <td>...</td>\n",
       "      <td>72.9</td>\n",
       "      <td>7.3</td>\n",
       "      <td>7.6</td>\n",
       "      <td>5.2</td>\n",
       "      <td>6.9</td>\n",
       "      <td>2.2</td>\n",
       "      <td>1.7</td>\n",
       "      <td>75.2</td>\n",
       "      <td>20.0</td>\n",
       "      <td>3.1</td>\n",
       "    </tr>\n",
       "    <tr>\n",
       "      <th>4</th>\n",
       "      <td>BUF</td>\n",
       "      <td>48.0</td>\n",
       "      <td>2024-09-08 00:00:00</td>\n",
       "      <td>2023</td>\n",
       "      <td>BUF</td>\n",
       "      <td>451.0</td>\n",
       "      <td>311.0</td>\n",
       "      <td>66.5</td>\n",
       "      <td>6.78</td>\n",
       "      <td>5.71</td>\n",
       "      <td>...</td>\n",
       "      <td>70.9</td>\n",
       "      <td>8.2</td>\n",
       "      <td>7.6</td>\n",
       "      <td>3.5</td>\n",
       "      <td>7.1</td>\n",
       "      <td>3.2</td>\n",
       "      <td>2.2</td>\n",
       "      <td>82.9</td>\n",
       "      <td>18.0</td>\n",
       "      <td>3.2</td>\n",
       "    </tr>\n",
       "  </tbody>\n",
       "</table>\n",
       "<p>5 rows × 36 columns</p>\n",
       "</div>"
      ],
      "text/plain": [
       "  Home Team  Total Score Open                 Date Season Team  pts_x  \\\n",
       "0        KC              46.5  2024-09-05 00:00:00   2023   KC  371.0   \n",
       "1       PHI              48.5  2024-09-06 00:00:00   2023  PHI  433.0   \n",
       "2       IND              49.0  2024-09-08 00:00:00   2023  IND  396.0   \n",
       "3        NO              41.5  2024-09-08 00:00:00   2023   NO  402.0   \n",
       "4       BUF              48.0  2024-09-08 00:00:00   2023  BUF  451.0   \n",
       "\n",
       "   pts_allowed_x  cmp_pct_x  avgyd_att_x  yds_play_x  ...  on_tgt_pct_y  \\\n",
       "0          294.0       66.3         6.27        5.53  ...          72.9   \n",
       "1          428.0       65.5         6.38        5.42  ...          76.6   \n",
       "2          415.0       61.8         6.23        5.23  ...          73.9   \n",
       "3          327.0       67.0         6.69        5.11  ...          72.9   \n",
       "4          311.0       66.5         6.78        5.71  ...          70.9   \n",
       "\n",
       "   dadot_y  intd_air_att_y  drop_pct_y  adot_y  td_pct_y  int_pct_y  rate_y  \\\n",
       "0      7.6             8.3         5.5     8.2       5.5        1.4   102.5   \n",
       "1      7.5             8.5         5.2     8.3       5.5        1.9    96.4   \n",
       "2      8.4             8.8         4.2     8.5       4.6        1.4    96.2   \n",
       "3      7.3             7.6         5.2     6.9       2.2        1.7    75.2   \n",
       "4      8.2             7.6         3.5     7.1       3.2        2.2    82.9   \n",
       "\n",
       "   to_y  cmp_air_att_y  \n",
       "0  19.0            4.2  \n",
       "1  18.0            3.9  \n",
       "2  14.0            4.4  \n",
       "3  20.0            3.1  \n",
       "4  18.0            3.2  \n",
       "\n",
       "[5 rows x 36 columns]"
      ]
     },
     "execution_count": 87,
     "metadata": {},
     "output_type": "execute_result"
    }
   ],
   "source": [
    "full_df.head()"
   ]
  },
  {
   "cell_type": "code",
   "execution_count": 99,
   "id": "1895a051-8b19-479f-a663-05000c6c3d00",
   "metadata": {
    "tags": []
   },
   "outputs": [],
   "source": [
    "\n",
    "train = full_df.loc[full_df['Season'] != '2023'].copy()\n",
    "test = full_df.loc[full_df['Season'] == '2023'].copy()\n",
    "X_train = train.drop('Total Score Open', axis = 1)\n",
    "y_train= train['Total Score Open'].copy()\n",
    "X_test = test.drop('Total Score Open', axis = 1)\n",
    "y_test = test['Total Score Open'].copy()"
   ]
  },
  {
   "cell_type": "code",
   "execution_count": 100,
   "id": "e8411d25-e8b5-44bb-acd0-e8852a8c6b1f",
   "metadata": {
    "tags": []
   },
   "outputs": [],
   "source": [
    "rf = RandomForestRegressor(n_estimators = 50, min_samples_split =10, random_state = 151)"
   ]
  },
  {
   "cell_type": "code",
   "execution_count": 101,
   "id": "15836f4d-0829-4a9e-9376-dc4cfdbc8ca6",
   "metadata": {
    "tags": []
   },
   "outputs": [],
   "source": [
    "predictors_1 = ['pts_x', 'pts_allowed_x', 'cmp_pct_x', 'avgyd_att_x', 'yds_play_x', 'on_tgt_pct_x', 'dadot_x', 'intd_air_att_x',\n",
    "                'drop_pct_x', 'adot_x', 'td_pct_x',\n",
    "                'int_pct_x', 'rate_x', 'to_x', 'cmp_air_att_x',  'pts_y', 'pts_allowed_y',\n",
    "                'cmp_pct_y',  'avgyd_att_y',  'yds_play_y', 'on_tgt_pct_y', 'dadot_y', 'intd_air_att_y', 'drop_pct_y', 'adot_y', \n",
    "                'td_pct_y',  'int_pct_y' ,'rate_y', 'to_y']"
   ]
  },
  {
   "cell_type": "code",
   "execution_count": 102,
   "id": "1648e44c-0b08-419f-99e0-ac4bd9d419e7",
   "metadata": {
    "tags": []
   },
   "outputs": [
    {
     "data": {
      "text/html": [
       "<style>#sk-container-id-2 {color: black;}#sk-container-id-2 pre{padding: 0;}#sk-container-id-2 div.sk-toggleable {background-color: white;}#sk-container-id-2 label.sk-toggleable__label {cursor: pointer;display: block;width: 100%;margin-bottom: 0;padding: 0.3em;box-sizing: border-box;text-align: center;}#sk-container-id-2 label.sk-toggleable__label-arrow:before {content: \"▸\";float: left;margin-right: 0.25em;color: #696969;}#sk-container-id-2 label.sk-toggleable__label-arrow:hover:before {color: black;}#sk-container-id-2 div.sk-estimator:hover label.sk-toggleable__label-arrow:before {color: black;}#sk-container-id-2 div.sk-toggleable__content {max-height: 0;max-width: 0;overflow: hidden;text-align: left;background-color: #f0f8ff;}#sk-container-id-2 div.sk-toggleable__content pre {margin: 0.2em;color: black;border-radius: 0.25em;background-color: #f0f8ff;}#sk-container-id-2 input.sk-toggleable__control:checked~div.sk-toggleable__content {max-height: 200px;max-width: 100%;overflow: auto;}#sk-container-id-2 input.sk-toggleable__control:checked~label.sk-toggleable__label-arrow:before {content: \"▾\";}#sk-container-id-2 div.sk-estimator input.sk-toggleable__control:checked~label.sk-toggleable__label {background-color: #d4ebff;}#sk-container-id-2 div.sk-label input.sk-toggleable__control:checked~label.sk-toggleable__label {background-color: #d4ebff;}#sk-container-id-2 input.sk-hidden--visually {border: 0;clip: rect(1px 1px 1px 1px);clip: rect(1px, 1px, 1px, 1px);height: 1px;margin: -1px;overflow: hidden;padding: 0;position: absolute;width: 1px;}#sk-container-id-2 div.sk-estimator {font-family: monospace;background-color: #f0f8ff;border: 1px dotted black;border-radius: 0.25em;box-sizing: border-box;margin-bottom: 0.5em;}#sk-container-id-2 div.sk-estimator:hover {background-color: #d4ebff;}#sk-container-id-2 div.sk-parallel-item::after {content: \"\";width: 100%;border-bottom: 1px solid gray;flex-grow: 1;}#sk-container-id-2 div.sk-label:hover label.sk-toggleable__label {background-color: #d4ebff;}#sk-container-id-2 div.sk-serial::before {content: \"\";position: absolute;border-left: 1px solid gray;box-sizing: border-box;top: 0;bottom: 0;left: 50%;z-index: 0;}#sk-container-id-2 div.sk-serial {display: flex;flex-direction: column;align-items: center;background-color: white;padding-right: 0.2em;padding-left: 0.2em;position: relative;}#sk-container-id-2 div.sk-item {position: relative;z-index: 1;}#sk-container-id-2 div.sk-parallel {display: flex;align-items: stretch;justify-content: center;background-color: white;position: relative;}#sk-container-id-2 div.sk-item::before, #sk-container-id-2 div.sk-parallel-item::before {content: \"\";position: absolute;border-left: 1px solid gray;box-sizing: border-box;top: 0;bottom: 0;left: 50%;z-index: -1;}#sk-container-id-2 div.sk-parallel-item {display: flex;flex-direction: column;z-index: 1;position: relative;background-color: white;}#sk-container-id-2 div.sk-parallel-item:first-child::after {align-self: flex-end;width: 50%;}#sk-container-id-2 div.sk-parallel-item:last-child::after {align-self: flex-start;width: 50%;}#sk-container-id-2 div.sk-parallel-item:only-child::after {width: 0;}#sk-container-id-2 div.sk-dashed-wrapped {border: 1px dashed gray;margin: 0 0.4em 0.5em 0.4em;box-sizing: border-box;padding-bottom: 0.4em;background-color: white;}#sk-container-id-2 div.sk-label label {font-family: monospace;font-weight: bold;display: inline-block;line-height: 1.2em;}#sk-container-id-2 div.sk-label-container {text-align: center;}#sk-container-id-2 div.sk-container {/* jupyter's `normalize.less` sets `[hidden] { display: none; }` but bootstrap.min.css set `[hidden] { display: none !important; }` so we also need the `!important` here to be able to override the default hidden behavior on the sphinx rendered scikit-learn.org. See: https://github.com/scikit-learn/scikit-learn/issues/21755 */display: inline-block !important;position: relative;}#sk-container-id-2 div.sk-text-repr-fallback {display: none;}</style><div id=\"sk-container-id-2\" class=\"sk-top-container\"><div class=\"sk-text-repr-fallback\"><pre>RandomForestRegressor(min_samples_split=10, n_estimators=50, random_state=151)</pre><b>In a Jupyter environment, please rerun this cell to show the HTML representation or trust the notebook. <br />On GitHub, the HTML representation is unable to render, please try loading this page with nbviewer.org.</b></div><div class=\"sk-container\" hidden><div class=\"sk-item\"><div class=\"sk-estimator sk-toggleable\"><input class=\"sk-toggleable__control sk-hidden--visually\" id=\"sk-estimator-id-2\" type=\"checkbox\" checked><label for=\"sk-estimator-id-2\" class=\"sk-toggleable__label sk-toggleable__label-arrow\">RandomForestRegressor</label><div class=\"sk-toggleable__content\"><pre>RandomForestRegressor(min_samples_split=10, n_estimators=50, random_state=151)</pre></div></div></div></div></div>"
      ],
      "text/plain": [
       "RandomForestRegressor(min_samples_split=10, n_estimators=50, random_state=151)"
      ]
     },
     "execution_count": 102,
     "metadata": {},
     "output_type": "execute_result"
    }
   ],
   "source": [
    "rf.fit(X_train[predictors_1], y_train)"
   ]
  },
  {
   "cell_type": "code",
   "execution_count": 103,
   "id": "d5e923b1-0e1d-4c51-886a-9ca0f78107fc",
   "metadata": {
    "tags": []
   },
   "outputs": [],
   "source": [
    "preds1 = rf.predict(X_test[predictors_1])"
   ]
  },
  {
   "cell_type": "code",
   "execution_count": 104,
   "id": "4dfa2173-eda5-4d66-8830-7d287ac8847a",
   "metadata": {
    "tags": []
   },
   "outputs": [],
   "source": [
    "from sklearn import metrics\n",
    "\n",
    "\n",
    "def metrics_test(test, preds):\n",
    "    print('Mean Absolute Error (MAE):', metrics.mean_absolute_error(test, preds))\n",
    "    print('Mean Squared Error (MSE):', metrics.mean_squared_error(test, preds))\n",
    "    print('Root Mean Squared Error (RMSE):', metrics.mean_squared_error(test, preds, squared=False))\n",
    "    print('Mean Absolute Percentage Error (MAPE):', metrics.mean_absolute_percentage_error(test, preds))\n",
    "    print('Explained Variance Score:', metrics.explained_variance_score(test, preds))\n",
    "    print('Max Error:', metrics.max_error(test, preds))\n",
    "    print('Mean Squared Log Error:', metrics.mean_squared_log_error(test, preds))\n",
    "    print('Median Absolute Error:', metrics.median_absolute_error(test, preds))\n",
    "    print('R^2:', metrics.r2_score(test, preds))\n",
    "    print('Mean Poisson Deviance:', metrics.mean_poisson_deviance(test, preds))\n",
    "    print('Mean Gamma Deviance:', metrics.mean_gamma_deviance(test, preds))"
   ]
  },
  {
   "cell_type": "code",
   "execution_count": 105,
   "id": "5bc4dc35-afcf-4c3f-aaf2-5903aad221f4",
   "metadata": {
    "tags": []
   },
   "outputs": [
    {
     "name": "stdout",
     "output_type": "stream",
     "text": [
      "Mean Absolute Error (MAE): 3.1068601956663207\n",
      "Mean Squared Error (MSE): 14.733337414091729\n",
      "Root Mean Squared Error (RMSE): 3.83840297703247\n",
      "Mean Absolute Percentage Error (MAPE): 0.07414282213144305\n",
      "Explained Variance Score: 0.20389548225375342\n",
      "Max Error: 10.86174418065594\n",
      "Mean Squared Log Error: 0.007520299768805535\n",
      "Median Absolute Error: 2.694437342134126\n",
      "R^2: -0.06059406719042837\n",
      "Mean Poisson Deviance: 0.33453971888577866\n",
      "Mean Gamma Deviance: 0.007626213860533793\n"
     ]
    }
   ],
   "source": [
    "metrics_test(y_test, preds1)"
   ]
  },
  {
   "cell_type": "code",
   "execution_count": 106,
   "id": "57f2c156-25b2-46f9-8f33-6469a017c788",
   "metadata": {
    "tags": []
   },
   "outputs": [],
   "source": [
    "results_df = X_test[['Home Team', 'Away Team']]"
   ]
  },
  {
   "cell_type": "code",
   "execution_count": 109,
   "id": "0230d2c2-a555-4561-b2f8-b522a3c63fe0",
   "metadata": {
    "tags": []
   },
   "outputs": [
    {
     "name": "stderr",
     "output_type": "stream",
     "text": [
      "C:\\Users\\rnn13\\AppData\\Local\\Temp\\ipykernel_353656\\2763335077.py:1: SettingWithCopyWarning: \n",
      "A value is trying to be set on a copy of a slice from a DataFrame.\n",
      "Try using .loc[row_indexer,col_indexer] = value instead\n",
      "\n",
      "See the caveats in the documentation: https://pandas.pydata.org/pandas-docs/stable/user_guide/indexing.html#returning-a-view-versus-a-copy\n",
      "  results_df['Total Score Open'] = y_test.copy()\n"
     ]
    }
   ],
   "source": [
    "results_df['Total Score Open'] = y_test.copy()"
   ]
  },
  {
   "cell_type": "code",
   "execution_count": 110,
   "id": "bf770159-fc9c-49a9-9c68-ece560a40214",
   "metadata": {
    "tags": []
   },
   "outputs": [
    {
     "name": "stderr",
     "output_type": "stream",
     "text": [
      "C:\\Users\\rnn13\\AppData\\Local\\Temp\\ipykernel_353656\\4242384744.py:1: SettingWithCopyWarning: \n",
      "A value is trying to be set on a copy of a slice from a DataFrame.\n",
      "Try using .loc[row_indexer,col_indexer] = value instead\n",
      "\n",
      "See the caveats in the documentation: https://pandas.pydata.org/pandas-docs/stable/user_guide/indexing.html#returning-a-view-versus-a-copy\n",
      "  results_df['pred_score_1'] = preds1.copy()\n"
     ]
    }
   ],
   "source": [
    "results_df['pred_score_1'] = preds1.copy()"
   ]
  },
  {
   "cell_type": "code",
   "execution_count": 111,
   "id": "b6b08a58-771b-430a-90ed-951d5828fc4a",
   "metadata": {
    "tags": []
   },
   "outputs": [],
   "source": [
    "compare_odds_df = results_df[['Total Score Open', 'pred_score_1', 'Home Team', 'Away Team']].copy()"
   ]
  },
  {
   "cell_type": "code",
   "execution_count": 116,
   "id": "e742a95a-bb4b-45aa-80e4-30b3a95ba1b7",
   "metadata": {
    "tags": []
   },
   "outputs": [
    {
     "data": {
      "text/html": [
       "<div>\n",
       "<style scoped>\n",
       "    .dataframe tbody tr th:only-of-type {\n",
       "        vertical-align: middle;\n",
       "    }\n",
       "\n",
       "    .dataframe tbody tr th {\n",
       "        vertical-align: top;\n",
       "    }\n",
       "\n",
       "    .dataframe thead th {\n",
       "        text-align: right;\n",
       "    }\n",
       "</style>\n",
       "<table border=\"1\" class=\"dataframe\">\n",
       "  <thead>\n",
       "    <tr style=\"text-align: right;\">\n",
       "      <th></th>\n",
       "      <th>Total Score Open</th>\n",
       "      <th>pred_score_1</th>\n",
       "      <th>Home Team</th>\n",
       "      <th>Away Team</th>\n",
       "    </tr>\n",
       "  </thead>\n",
       "  <tbody>\n",
       "    <tr>\n",
       "      <th>0</th>\n",
       "      <td>46.5</td>\n",
       "      <td>46.944407</td>\n",
       "      <td>KC</td>\n",
       "      <td>BAL</td>\n",
       "    </tr>\n",
       "    <tr>\n",
       "      <th>1</th>\n",
       "      <td>48.5</td>\n",
       "      <td>50.068908</td>\n",
       "      <td>PHI</td>\n",
       "      <td>GB</td>\n",
       "    </tr>\n",
       "    <tr>\n",
       "      <th>2</th>\n",
       "      <td>49.0</td>\n",
       "      <td>48.593681</td>\n",
       "      <td>IND</td>\n",
       "      <td>HOU</td>\n",
       "    </tr>\n",
       "    <tr>\n",
       "      <th>3</th>\n",
       "      <td>41.5</td>\n",
       "      <td>44.630631</td>\n",
       "      <td>NO</td>\n",
       "      <td>CAR</td>\n",
       "    </tr>\n",
       "    <tr>\n",
       "      <th>4</th>\n",
       "      <td>48.0</td>\n",
       "      <td>45.554117</td>\n",
       "      <td>BUF</td>\n",
       "      <td>ARI</td>\n",
       "    </tr>\n",
       "    <tr>\n",
       "      <th>5</th>\n",
       "      <td>41.5</td>\n",
       "      <td>43.046444</td>\n",
       "      <td>NYG</td>\n",
       "      <td>MIN</td>\n",
       "    </tr>\n",
       "    <tr>\n",
       "      <th>6</th>\n",
       "      <td>40.5</td>\n",
       "      <td>41.984348</td>\n",
       "      <td>CIN</td>\n",
       "      <td>NE</td>\n",
       "    </tr>\n",
       "    <tr>\n",
       "      <th>7</th>\n",
       "      <td>42.0</td>\n",
       "      <td>43.815106</td>\n",
       "      <td>ATL</td>\n",
       "      <td>PIT</td>\n",
       "    </tr>\n",
       "    <tr>\n",
       "      <th>8</th>\n",
       "      <td>49.0</td>\n",
       "      <td>48.671738</td>\n",
       "      <td>MIA</td>\n",
       "      <td>JAX</td>\n",
       "    </tr>\n",
       "    <tr>\n",
       "      <th>9</th>\n",
       "      <td>44.5</td>\n",
       "      <td>42.637633</td>\n",
       "      <td>CHI</td>\n",
       "      <td>TEN</td>\n",
       "    </tr>\n",
       "    <tr>\n",
       "      <th>10</th>\n",
       "      <td>40.5</td>\n",
       "      <td>42.473456</td>\n",
       "      <td>LAC</td>\n",
       "      <td>LV</td>\n",
       "    </tr>\n",
       "    <tr>\n",
       "      <th>11</th>\n",
       "      <td>42.0</td>\n",
       "      <td>45.198758</td>\n",
       "      <td>SEA</td>\n",
       "      <td>DEN</td>\n",
       "    </tr>\n",
       "    <tr>\n",
       "      <th>12</th>\n",
       "      <td>40.5</td>\n",
       "      <td>49.292156</td>\n",
       "      <td>CLE</td>\n",
       "      <td>DAL</td>\n",
       "    </tr>\n",
       "    <tr>\n",
       "      <th>13</th>\n",
       "      <td>43.5</td>\n",
       "      <td>43.969928</td>\n",
       "      <td>TB</td>\n",
       "      <td>WAS</td>\n",
       "    </tr>\n",
       "    <tr>\n",
       "      <th>14</th>\n",
       "      <td>51.0</td>\n",
       "      <td>48.776124</td>\n",
       "      <td>DET</td>\n",
       "      <td>LAR</td>\n",
       "    </tr>\n",
       "    <tr>\n",
       "      <th>15</th>\n",
       "      <td>43.5</td>\n",
       "      <td>46.618026</td>\n",
       "      <td>SF</td>\n",
       "      <td>NYJ</td>\n",
       "    </tr>\n",
       "  </tbody>\n",
       "</table>\n",
       "</div>"
      ],
      "text/plain": [
       "    Total Score Open  pred_score_1 Home Team Away Team\n",
       "0               46.5     46.944407        KC       BAL\n",
       "1               48.5     50.068908       PHI        GB\n",
       "2               49.0     48.593681       IND       HOU\n",
       "3               41.5     44.630631        NO       CAR\n",
       "4               48.0     45.554117       BUF       ARI\n",
       "5               41.5     43.046444       NYG       MIN\n",
       "6               40.5     41.984348       CIN        NE\n",
       "7               42.0     43.815106       ATL       PIT\n",
       "8               49.0     48.671738       MIA       JAX\n",
       "9               44.5     42.637633       CHI       TEN\n",
       "10              40.5     42.473456       LAC        LV\n",
       "11              42.0     45.198758       SEA       DEN\n",
       "12              40.5     49.292156       CLE       DAL\n",
       "13              43.5     43.969928        TB       WAS\n",
       "14              51.0     48.776124       DET       LAR\n",
       "15              43.5     46.618026        SF       NYJ"
      ]
     },
     "execution_count": 116,
     "metadata": {},
     "output_type": "execute_result"
    }
   ],
   "source": [
    "compare_odds_df.head(16)"
   ]
  },
  {
   "cell_type": "code",
   "execution_count": 115,
   "id": "a91535e7-16e6-4d28-8327-c42ebafcc8dc",
   "metadata": {
    "tags": []
   },
   "outputs": [
    {
     "data": {
      "text/html": [
       "<div>\n",
       "<style scoped>\n",
       "    .dataframe tbody tr th:only-of-type {\n",
       "        vertical-align: middle;\n",
       "    }\n",
       "\n",
       "    .dataframe tbody tr th {\n",
       "        vertical-align: top;\n",
       "    }\n",
       "\n",
       "    .dataframe thead th {\n",
       "        text-align: right;\n",
       "    }\n",
       "</style>\n",
       "<table border=\"1\" class=\"dataframe\">\n",
       "  <thead>\n",
       "    <tr style=\"text-align: right;\">\n",
       "      <th></th>\n",
       "      <th>Total Score Open</th>\n",
       "      <th>pred_score_1</th>\n",
       "      <th>Home Team</th>\n",
       "      <th>Away Team</th>\n",
       "    </tr>\n",
       "  </thead>\n",
       "  <tbody>\n",
       "    <tr>\n",
       "      <th>16</th>\n",
       "      <td>50.0</td>\n",
       "      <td>49.833129</td>\n",
       "      <td>MIA</td>\n",
       "      <td>BUF</td>\n",
       "    </tr>\n",
       "    <tr>\n",
       "      <th>17</th>\n",
       "      <td>47.5</td>\n",
       "      <td>44.757838</td>\n",
       "      <td>ARI</td>\n",
       "      <td>SEA</td>\n",
       "    </tr>\n",
       "    <tr>\n",
       "      <th>18</th>\n",
       "      <td>37.0</td>\n",
       "      <td>42.201495</td>\n",
       "      <td>CAR</td>\n",
       "      <td>TB</td>\n",
       "    </tr>\n",
       "    <tr>\n",
       "      <th>19</th>\n",
       "      <td>40.0</td>\n",
       "      <td>46.039866</td>\n",
       "      <td>CIN</td>\n",
       "      <td>CLE</td>\n",
       "    </tr>\n",
       "    <tr>\n",
       "      <th>20</th>\n",
       "      <td>44.0</td>\n",
       "      <td>48.189359</td>\n",
       "      <td>DET</td>\n",
       "      <td>MIN</td>\n",
       "    </tr>\n",
       "    <tr>\n",
       "      <th>21</th>\n",
       "      <td>44.0</td>\n",
       "      <td>45.135261</td>\n",
       "      <td>GB</td>\n",
       "      <td>CHI</td>\n",
       "    </tr>\n",
       "    <tr>\n",
       "      <th>22</th>\n",
       "      <td>46.5</td>\n",
       "      <td>48.593681</td>\n",
       "      <td>IND</td>\n",
       "      <td>HOU</td>\n",
       "    </tr>\n",
       "    <tr>\n",
       "      <th>23</th>\n",
       "      <td>35.5</td>\n",
       "      <td>44.799136</td>\n",
       "      <td>LAC</td>\n",
       "      <td>KC</td>\n",
       "    </tr>\n",
       "    <tr>\n",
       "      <th>24</th>\n",
       "      <td>38.0</td>\n",
       "      <td>43.939772</td>\n",
       "      <td>LV</td>\n",
       "      <td>DEN</td>\n",
       "    </tr>\n",
       "    <tr>\n",
       "      <th>25</th>\n",
       "      <td>37.5</td>\n",
       "      <td>41.111195</td>\n",
       "      <td>NE</td>\n",
       "      <td>NYJ</td>\n",
       "    </tr>\n",
       "    <tr>\n",
       "      <th>26</th>\n",
       "      <td>42.5</td>\n",
       "      <td>44.655432</td>\n",
       "      <td>NO</td>\n",
       "      <td>ATL</td>\n",
       "    </tr>\n",
       "    <tr>\n",
       "      <th>27</th>\n",
       "      <td>46.0</td>\n",
       "      <td>45.280669</td>\n",
       "      <td>NYG</td>\n",
       "      <td>PHI</td>\n",
       "    </tr>\n",
       "    <tr>\n",
       "      <th>28</th>\n",
       "      <td>44.0</td>\n",
       "      <td>49.113777</td>\n",
       "      <td>SF</td>\n",
       "      <td>LA</td>\n",
       "    </tr>\n",
       "    <tr>\n",
       "      <th>29</th>\n",
       "      <td>40.5</td>\n",
       "      <td>44.623956</td>\n",
       "      <td>TEN</td>\n",
       "      <td>JAX</td>\n",
       "    </tr>\n",
       "    <tr>\n",
       "      <th>30</th>\n",
       "      <td>49.5</td>\n",
       "      <td>45.358805</td>\n",
       "      <td>WAS</td>\n",
       "      <td>DAL</td>\n",
       "    </tr>\n",
       "    <tr>\n",
       "      <th>31</th>\n",
       "      <td>38.0</td>\n",
       "      <td>45.440647</td>\n",
       "      <td>BAL</td>\n",
       "      <td>PIT</td>\n",
       "    </tr>\n",
       "    <tr>\n",
       "      <th>32</th>\n",
       "      <td>43.5</td>\n",
       "      <td>46.993551</td>\n",
       "      <td>MIN</td>\n",
       "      <td>GB</td>\n",
       "    </tr>\n",
       "  </tbody>\n",
       "</table>\n",
       "</div>"
      ],
      "text/plain": [
       "    Total Score Open  pred_score_1 Home Team Away Team\n",
       "16              50.0     49.833129       MIA       BUF\n",
       "17              47.5     44.757838       ARI       SEA\n",
       "18              37.0     42.201495       CAR        TB\n",
       "19              40.0     46.039866       CIN       CLE\n",
       "20              44.0     48.189359       DET       MIN\n",
       "21              44.0     45.135261        GB       CHI\n",
       "22              46.5     48.593681       IND       HOU\n",
       "23              35.5     44.799136       LAC        KC\n",
       "24              38.0     43.939772        LV       DEN\n",
       "25              37.5     41.111195        NE       NYJ\n",
       "26              42.5     44.655432        NO       ATL\n",
       "27              46.0     45.280669       NYG       PHI\n",
       "28              44.0     49.113777        SF        LA\n",
       "29              40.5     44.623956       TEN       JAX\n",
       "30              49.5     45.358805       WAS       DAL\n",
       "31              38.0     45.440647       BAL       PIT\n",
       "32              43.5     46.993551       MIN        GB"
      ]
     },
     "execution_count": 115,
     "metadata": {},
     "output_type": "execute_result"
    }
   ],
   "source": [
    "compare_odds_df.iloc[16:33]"
   ]
  }
 ],
 "metadata": {
  "kernelspec": {
   "display_name": "Python 3 (ipykernel)",
   "language": "python",
   "name": "python3"
  },
  "language_info": {
   "codemirror_mode": {
    "name": "ipython",
    "version": 3
   },
   "file_extension": ".py",
   "mimetype": "text/x-python",
   "name": "python",
   "nbconvert_exporter": "python",
   "pygments_lexer": "ipython3",
   "version": "3.11.4"
  }
 },
 "nbformat": 4,
 "nbformat_minor": 5
}
