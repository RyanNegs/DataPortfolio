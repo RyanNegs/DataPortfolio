{
 "cells": [
  {
   "cell_type": "markdown",
   "id": "55554a0f-ae3c-4fd4-814b-34e0d3c5d45d",
   "metadata": {},
   "source": [
    "# Preprocessing EZB Lending Data "
   ]
  },
  {
   "cell_type": "code",
   "execution_count": 1,
   "id": "8b73cd7e-aaba-4c8d-ad84-2ca54e1387fc",
   "metadata": {
    "tags": []
   },
   "outputs": [],
   "source": [
    "import os"
   ]
  },
  {
   "cell_type": "code",
   "execution_count": 2,
   "id": "ad62d179-4939-4c56-96ab-a98266970d06",
   "metadata": {
    "tags": []
   },
   "outputs": [],
   "source": [
    "import pandas as pd\n",
    "import numpy as np"
   ]
  },
  {
   "cell_type": "markdown",
   "id": "3827ba82-216b-4580-a8b1-9ac2e7c1d6e5",
   "metadata": {},
   "source": [
    "## Import Data"
   ]
  },
  {
   "cell_type": "code",
   "execution_count": 3,
   "id": "d9fe1f1a-64e3-4edb-b772-a6aae625ad9f",
   "metadata": {
    "tags": []
   },
   "outputs": [],
   "source": [
    "def manual_separation(bad_line):\n",
    "    right_split = bad_line[:-2] + [\",\".join(bad_line[-2:])] # All the \"bad lines\" where all coming from the same last column that was containing \",\"\n",
    "    return right_split\n",
    "\n",
    "filename = \"supplying_turnaround.csv\"\n",
    "ez_supp = pd.read_csv(\n",
    "        filename, \n",
    "        encoding=\"ISO-8859-1\",\n",
    "        on_bad_lines=manual_separation,\n",
    "        engine=\"python\",\n",
    "    )"
   ]
  },
  {
   "cell_type": "code",
   "execution_count": 4,
   "id": "5afa7924-aa1c-404b-ac24-4cd1816719d7",
   "metadata": {
    "tags": []
   },
   "outputs": [
    {
     "name": "stdout",
     "output_type": "stream",
     "text": [
      "<class 'pandas.core.frame.DataFrame'>\n",
      "RangeIndex: 228545 entries, 0 to 228544\n",
      "Data columns (total 15 columns):\n",
      " #   Column           Non-Null Count   Dtype \n",
      "---  ------           --------------   ----- \n",
      " 0   supplier         228545 non-null  object\n",
      " 1   request_id       228545 non-null  object\n",
      " 2   request_url      228545 non-null  object\n",
      " 3   requester        228545 non-null  object\n",
      " 4   title            228545 non-null  object\n",
      " 5   call_number      228544 non-null  object\n",
      " 6   barcode          228545 non-null  object\n",
      " 7   assigned         228545 non-null  object\n",
      " 8   filled           228545 non-null  object\n",
      " 9   shipped          228545 non-null  object\n",
      " 10  received         228545 non-null  object\n",
      " 11  time_to_fill     228544 non-null  object\n",
      " 12  time_to_ship     228544 non-null  object\n",
      " 13  time_to_receipt  228544 non-null  object\n",
      " 14  total_time       228544 non-null  object\n",
      "dtypes: object(15)\n",
      "memory usage: 26.2+ MB\n"
     ]
    }
   ],
   "source": [
    "ez_supp.info()"
   ]
  },
  {
   "cell_type": "code",
   "execution_count": 5,
   "id": "f32a4427-ca66-47d3-8b19-e8329b91dbc6",
   "metadata": {
    "tags": []
   },
   "outputs": [],
   "source": [
    "date_columns = ['assigned', 'filled', 'shipped', 'received']\n",
    "for col in date_columns:\n",
    "    ez_supp[col] = pd.to_datetime(ez_supp[col], errors='coerce')"
   ]
  },
  {
   "cell_type": "code",
   "execution_count": 6,
   "id": "a1fc1c22-36cd-4504-8aee-3d921c56398d",
   "metadata": {
    "tags": []
   },
   "outputs": [
    {
     "name": "stdout",
     "output_type": "stream",
     "text": [
      "<class 'pandas.core.frame.DataFrame'>\n",
      "RangeIndex: 228545 entries, 0 to 228544\n",
      "Data columns (total 15 columns):\n",
      " #   Column           Non-Null Count   Dtype         \n",
      "---  ------           --------------   -----         \n",
      " 0   supplier         228545 non-null  object        \n",
      " 1   request_id       228545 non-null  object        \n",
      " 2   request_url      228545 non-null  object        \n",
      " 3   requester        228545 non-null  object        \n",
      " 4   title            228545 non-null  object        \n",
      " 5   call_number      228544 non-null  object        \n",
      " 6   barcode          228545 non-null  object        \n",
      " 7   assigned         228544 non-null  datetime64[ns]\n",
      " 8   filled           228544 non-null  datetime64[ns]\n",
      " 9   shipped          228544 non-null  datetime64[ns]\n",
      " 10  received         228544 non-null  datetime64[ns]\n",
      " 11  time_to_fill     228544 non-null  object        \n",
      " 12  time_to_ship     228544 non-null  object        \n",
      " 13  time_to_receipt  228544 non-null  object        \n",
      " 14  total_time       228544 non-null  object        \n",
      "dtypes: datetime64[ns](4), object(11)\n",
      "memory usage: 26.2+ MB\n"
     ]
    }
   ],
   "source": [
    "ez_supp.info()"
   ]
  },
  {
   "cell_type": "code",
   "execution_count": 61,
   "id": "f5b3bf94-1964-48a3-aa6c-0477ebfc41a5",
   "metadata": {
    "tags": []
   },
   "outputs": [],
   "source": [
    "ez_laf = ez_supp.loc[ez_supp['requester'] == 'Lafayette College'].copy()"
   ]
  },
  {
   "cell_type": "code",
   "execution_count": 62,
   "id": "d4a01a90-b33b-49e4-ae3f-d235ba9f59f7",
   "metadata": {
    "tags": []
   },
   "outputs": [
    {
     "data": {
      "text/html": [
       "<div>\n",
       "<style scoped>\n",
       "    .dataframe tbody tr th:only-of-type {\n",
       "        vertical-align: middle;\n",
       "    }\n",
       "\n",
       "    .dataframe tbody tr th {\n",
       "        vertical-align: top;\n",
       "    }\n",
       "\n",
       "    .dataframe thead th {\n",
       "        text-align: right;\n",
       "    }\n",
       "</style>\n",
       "<table border=\"1\" class=\"dataframe\">\n",
       "  <thead>\n",
       "    <tr style=\"text-align: right;\">\n",
       "      <th></th>\n",
       "      <th>data_index</th>\n",
       "      <th>supplier</th>\n",
       "      <th>request_id</th>\n",
       "      <th>request_url</th>\n",
       "      <th>requester</th>\n",
       "      <th>title</th>\n",
       "      <th>call_number</th>\n",
       "      <th>barcode</th>\n",
       "      <th>assigned</th>\n",
       "      <th>filled</th>\n",
       "      <th>shipped</th>\n",
       "      <th>received</th>\n",
       "      <th>time_to_fill</th>\n",
       "      <th>time_to_ship</th>\n",
       "      <th>time_to_receipt</th>\n",
       "      <th>total_time</th>\n",
       "    </tr>\n",
       "  </thead>\n",
       "  <tbody>\n",
       "    <tr>\n",
       "      <th>74506</th>\n",
       "      <td>215259</td>\n",
       "      <td>Villanova University</td>\n",
       "      <td>PEL-12</td>\n",
       "      <td>[RESHARE URL]/request/requests/view/881e33d2-7...</td>\n",
       "      <td>Lafayette College</td>\n",
       "      <td>Vested angels: eucharistic allusions in early ...</td>\n",
       "      <td>N8090 .M36 1998</td>\n",
       "      <td>39346007708607</td>\n",
       "      <td>2023-11-29 15:47:18.987999</td>\n",
       "      <td>2023-11-30 17:07:38.177999</td>\n",
       "      <td>2023-11-30 17:07:50.055999</td>\n",
       "      <td>2023-12-05 18:53:22.140000</td>\n",
       "      <td>1 day, 1:20:19.190000</td>\n",
       "      <td>1 day, 1:20:31.068000</td>\n",
       "      <td>6 days, 3:06:03.152001</td>\n",
       "      <td>6 days, 3:06:03.152001</td>\n",
       "    </tr>\n",
       "    <tr>\n",
       "      <th>74531</th>\n",
       "      <td>215626</td>\n",
       "      <td>Villanova University</td>\n",
       "      <td>PEL-146</td>\n",
       "      <td>[RESHARE URL]/request/requests/view/489e4cf9-7...</td>\n",
       "      <td>Lafayette College</td>\n",
       "      <td>Parliamentary Committees in the Policy Process</td>\n",
       "      <td>JF533 .P377 2022</td>\n",
       "      <td>39346011035336</td>\n",
       "      <td>2024-02-07 21:16:47.101000</td>\n",
       "      <td>2024-02-09 19:42:47.976999</td>\n",
       "      <td>2024-02-10 14:31:30.270999</td>\n",
       "      <td>2024-02-19 18:24:42.992000</td>\n",
       "      <td>1 day, 22:26:00.875999</td>\n",
       "      <td>2 days, 17:14:43.169999</td>\n",
       "      <td>11 days, 21:07:55.891000</td>\n",
       "      <td>11 days, 21:07:55.891000</td>\n",
       "    </tr>\n",
       "    <tr>\n",
       "      <th>74555</th>\n",
       "      <td>215657</td>\n",
       "      <td>Villanova University</td>\n",
       "      <td>PEL-173</td>\n",
       "      <td>[RESHARE URL]/request/requests/view/f0f35854-7...</td>\n",
       "      <td>Lafayette College</td>\n",
       "      <td>Building the Bloc: Intraparty Organization in ...</td>\n",
       "      <td>JK1029 .B56 2017</td>\n",
       "      <td>39346010415786</td>\n",
       "      <td>2024-02-16 18:13:48.599999</td>\n",
       "      <td>2024-02-17 16:12:07.269999</td>\n",
       "      <td>2024-02-17 16:12:45.302000</td>\n",
       "      <td>2024-02-20 15:57:06.201999</td>\n",
       "      <td>21:58:18.670000</td>\n",
       "      <td>21:58:56.702001</td>\n",
       "      <td>3 days, 21:43:17.602000</td>\n",
       "      <td>3 days, 21:43:17.602000</td>\n",
       "    </tr>\n",
       "    <tr>\n",
       "      <th>74573</th>\n",
       "      <td>215714</td>\n",
       "      <td>Villanova University</td>\n",
       "      <td>PEL-194</td>\n",
       "      <td>[RESHARE URL]/request/requests/view/da7c2f68-c...</td>\n",
       "      <td>Lafayette College</td>\n",
       "      <td>The writings of Teresa de Cartagena</td>\n",
       "      <td>BX2186 .T47213 1998</td>\n",
       "      <td>39346007824669</td>\n",
       "      <td>2024-02-22 15:59:21.594000</td>\n",
       "      <td>2024-02-27 21:31:09.437999</td>\n",
       "      <td>2024-02-27 21:31:33.979000</td>\n",
       "      <td>2024-02-29 12:47:52.137000</td>\n",
       "      <td>5 days, 5:31:47.843999</td>\n",
       "      <td>5 days, 5:32:12.385000</td>\n",
       "      <td>6 days, 20:48:30.543000</td>\n",
       "      <td>6 days, 20:48:30.543000</td>\n",
       "    </tr>\n",
       "    <tr>\n",
       "      <th>74589</th>\n",
       "      <td>215723</td>\n",
       "      <td>Villanova University</td>\n",
       "      <td>PEL-212</td>\n",
       "      <td>[RESHARE URL]/request/requests/view/eeec4d68-4...</td>\n",
       "      <td>Lafayette College</td>\n",
       "      <td>Disturbing Attachments: Genet, Modern Pederast...</td>\n",
       "      <td>PQ2613.E53 Z539 2017</td>\n",
       "      <td>39346010411983</td>\n",
       "      <td>2024-02-28 17:05:24.663000</td>\n",
       "      <td>2024-02-29 14:18:03.561000</td>\n",
       "      <td>2024-02-29 14:18:26.760999</td>\n",
       "      <td>2024-03-21 18:13:13.882999</td>\n",
       "      <td>21:12:38.898000</td>\n",
       "      <td>21:13:02.097999</td>\n",
       "      <td>22 days, 1:07:49.219999</td>\n",
       "      <td>22 days, 1:07:49.219999</td>\n",
       "    </tr>\n",
       "    <tr>\n",
       "      <th>74652</th>\n",
       "      <td>215824</td>\n",
       "      <td>Villanova University</td>\n",
       "      <td>PEL-280</td>\n",
       "      <td>[RESHARE URL]/request/requests/view/51040904-a...</td>\n",
       "      <td>Lafayette College</td>\n",
       "      <td>Geocriticism: Real and Fictional Spaces</td>\n",
       "      <td>PN56.S667 W4713 2011</td>\n",
       "      <td>39346009885593</td>\n",
       "      <td>2024-03-20 14:21:21.112999</td>\n",
       "      <td>2024-03-21 14:46:02.848000</td>\n",
       "      <td>2024-03-21 14:46:08.223999</td>\n",
       "      <td>2024-03-26 14:13:35.266999</td>\n",
       "      <td>1 day, 0:24:41.735001</td>\n",
       "      <td>1 day, 0:24:47.111000</td>\n",
       "      <td>5 days, 23:52:14.154000</td>\n",
       "      <td>5 days, 23:52:14.154000</td>\n",
       "    </tr>\n",
       "    <tr>\n",
       "      <th>74693</th>\n",
       "      <td>215870</td>\n",
       "      <td>Villanova University</td>\n",
       "      <td>PEL-335</td>\n",
       "      <td>[RESHARE URL]/request/requests/view/8b2a0f67-6...</td>\n",
       "      <td>Lafayette College</td>\n",
       "      <td>The language of Kilkenny : lexicon, semantics,...</td>\n",
       "      <td>PB1298.K55 M69 1996</td>\n",
       "      <td>39346006949798</td>\n",
       "      <td>2024-04-04 02:04:38.496000</td>\n",
       "      <td>2024-04-05 13:11:07.734999</td>\n",
       "      <td>2024-04-05 13:11:24.878999</td>\n",
       "      <td>2024-04-11 15:37:28.661000</td>\n",
       "      <td>1 day, 11:06:29.238999</td>\n",
       "      <td>1 day, 11:06:46.382999</td>\n",
       "      <td>7 days, 13:32:50.165000</td>\n",
       "      <td>7 days, 13:32:50.165000</td>\n",
       "    </tr>\n",
       "    <tr>\n",
       "      <th>74696</th>\n",
       "      <td>215894</td>\n",
       "      <td>Villanova University</td>\n",
       "      <td>PEL-338</td>\n",
       "      <td>[RESHARE URL]/request/requests/view/ebace7d4-8...</td>\n",
       "      <td>Lafayette College</td>\n",
       "      <td>Trust and Democratic Transition in Post-Commun...</td>\n",
       "      <td>HX240.7 .T78 2004</td>\n",
       "      <td>39346008962401</td>\n",
       "      <td>2024-04-04 16:09:49.915999</td>\n",
       "      <td>2024-04-06 15:22:39.059999</td>\n",
       "      <td>2024-04-06 15:24:54.059000</td>\n",
       "      <td>2024-04-11 15:37:04.790999</td>\n",
       "      <td>1 day, 23:12:49.144000</td>\n",
       "      <td>1 day, 23:15:04.143001</td>\n",
       "      <td>6 days, 23:27:14.875000</td>\n",
       "      <td>6 days, 23:27:14.875000</td>\n",
       "    </tr>\n",
       "    <tr>\n",
       "      <th>74717</th>\n",
       "      <td>215966</td>\n",
       "      <td>Villanova University</td>\n",
       "      <td>PEL-361</td>\n",
       "      <td>[RESHARE URL]/request/requests/view/db2766b8-1...</td>\n",
       "      <td>Lafayette College</td>\n",
       "      <td>The Millennium of Hieronymus Bosch : outlines ...</td>\n",
       "      <td>ND653.B65F713 1976</td>\n",
       "      <td>39346004235976</td>\n",
       "      <td>2024-04-15 17:57:00.950000</td>\n",
       "      <td>2024-04-16 15:30:16.737999</td>\n",
       "      <td>2024-04-16 15:30:58.709000</td>\n",
       "      <td>2024-04-30 15:12:52.188999</td>\n",
       "      <td>21:33:15.787999</td>\n",
       "      <td>21:33:57.759000</td>\n",
       "      <td>14 days, 21:15:51.238999</td>\n",
       "      <td>14 days, 21:15:51.238999</td>\n",
       "    </tr>\n",
       "    <tr>\n",
       "      <th>74775</th>\n",
       "      <td>216131</td>\n",
       "      <td>Villanova University</td>\n",
       "      <td>PEL-427</td>\n",
       "      <td>[RESHARE URL]/request/requests/view/255f2371-d...</td>\n",
       "      <td>Lafayette College</td>\n",
       "      <td>Proclus of Constantinople and the cult of the ...</td>\n",
       "      <td>BR65.P6423 H663 2003</td>\n",
       "      <td>39346008585533</td>\n",
       "      <td>2024-05-15 02:13:56.460000</td>\n",
       "      <td>2024-05-15 17:01:16.536999</td>\n",
       "      <td>2024-05-15 17:06:48.273999</td>\n",
       "      <td>2024-05-28 14:55:57.757999</td>\n",
       "      <td>14:47:20.076999</td>\n",
       "      <td>14:52:51.813999</td>\n",
       "      <td>13 days, 12:42:01.297999</td>\n",
       "      <td>13 days, 12:42:01.297999</td>\n",
       "    </tr>\n",
       "    <tr>\n",
       "      <th>74823</th>\n",
       "      <td>216188</td>\n",
       "      <td>Villanova University</td>\n",
       "      <td>PEL-486</td>\n",
       "      <td>[RESHARE URL]/request/requests/view/c710658a-4...</td>\n",
       "      <td>Lafayette College</td>\n",
       "      <td>Die Pseudoklementinen [PLEASE SEE COMMENT BOX ...</td>\n",
       "      <td>BR45 .G7 Bd. 42</td>\n",
       "      <td>39346009174022</td>\n",
       "      <td>2024-06-22 16:40:09.160000</td>\n",
       "      <td>2024-06-24 21:27:32.071000</td>\n",
       "      <td>2024-06-24 21:28:11.938999</td>\n",
       "      <td>2024-06-27 17:03:13.039999</td>\n",
       "      <td>2 days, 4:47:22.911000</td>\n",
       "      <td>2 days, 4:48:02.778999</td>\n",
       "      <td>5 days, 0:23:03.879999</td>\n",
       "      <td>5 days, 0:23:03.879999</td>\n",
       "    </tr>\n",
       "    <tr>\n",
       "      <th>74845</th>\n",
       "      <td>215455</td>\n",
       "      <td>Villanova University</td>\n",
       "      <td>PEL-60</td>\n",
       "      <td>[RESHARE URL]/request/requests/view/87f6b26d-4...</td>\n",
       "      <td>Lafayette College</td>\n",
       "      <td>Charlotte Perkins Gilman's The Yellow Wall-Paper</td>\n",
       "      <td>PS1744.G57 Y45 2004</td>\n",
       "      <td>39346009075427</td>\n",
       "      <td>2024-01-14 20:10:22.740000</td>\n",
       "      <td>2024-01-16 20:50:37.036000</td>\n",
       "      <td>2024-01-16 20:54:23.927000</td>\n",
       "      <td>2024-01-30 20:10:28.336999</td>\n",
       "      <td>2 days, 0:40:14.296000</td>\n",
       "      <td>2 days, 0:44:01.187000</td>\n",
       "      <td>16 days, 0:00:05.596999</td>\n",
       "      <td>16 days, 0:00:05.596999</td>\n",
       "    </tr>\n",
       "  </tbody>\n",
       "</table>\n",
       "</div>"
      ],
      "text/plain": [
       "       data_index              supplier request_id  \\\n",
       "74506      215259  Villanova University     PEL-12   \n",
       "74531      215626  Villanova University    PEL-146   \n",
       "74555      215657  Villanova University    PEL-173   \n",
       "74573      215714  Villanova University    PEL-194   \n",
       "74589      215723  Villanova University    PEL-212   \n",
       "74652      215824  Villanova University    PEL-280   \n",
       "74693      215870  Villanova University    PEL-335   \n",
       "74696      215894  Villanova University    PEL-338   \n",
       "74717      215966  Villanova University    PEL-361   \n",
       "74775      216131  Villanova University    PEL-427   \n",
       "74823      216188  Villanova University    PEL-486   \n",
       "74845      215455  Villanova University     PEL-60   \n",
       "\n",
       "                                             request_url          requester  \\\n",
       "74506  [RESHARE URL]/request/requests/view/881e33d2-7...  Lafayette College   \n",
       "74531  [RESHARE URL]/request/requests/view/489e4cf9-7...  Lafayette College   \n",
       "74555  [RESHARE URL]/request/requests/view/f0f35854-7...  Lafayette College   \n",
       "74573  [RESHARE URL]/request/requests/view/da7c2f68-c...  Lafayette College   \n",
       "74589  [RESHARE URL]/request/requests/view/eeec4d68-4...  Lafayette College   \n",
       "74652  [RESHARE URL]/request/requests/view/51040904-a...  Lafayette College   \n",
       "74693  [RESHARE URL]/request/requests/view/8b2a0f67-6...  Lafayette College   \n",
       "74696  [RESHARE URL]/request/requests/view/ebace7d4-8...  Lafayette College   \n",
       "74717  [RESHARE URL]/request/requests/view/db2766b8-1...  Lafayette College   \n",
       "74775  [RESHARE URL]/request/requests/view/255f2371-d...  Lafayette College   \n",
       "74823  [RESHARE URL]/request/requests/view/c710658a-4...  Lafayette College   \n",
       "74845  [RESHARE URL]/request/requests/view/87f6b26d-4...  Lafayette College   \n",
       "\n",
       "                                                   title  \\\n",
       "74506  Vested angels: eucharistic allusions in early ...   \n",
       "74531     Parliamentary Committees in the Policy Process   \n",
       "74555  Building the Bloc: Intraparty Organization in ...   \n",
       "74573                The writings of Teresa de Cartagena   \n",
       "74589  Disturbing Attachments: Genet, Modern Pederast...   \n",
       "74652            Geocriticism: Real and Fictional Spaces   \n",
       "74693  The language of Kilkenny : lexicon, semantics,...   \n",
       "74696  Trust and Democratic Transition in Post-Commun...   \n",
       "74717  The Millennium of Hieronymus Bosch : outlines ...   \n",
       "74775  Proclus of Constantinople and the cult of the ...   \n",
       "74823  Die Pseudoklementinen [PLEASE SEE COMMENT BOX ...   \n",
       "74845   Charlotte Perkins Gilman's The Yellow Wall-Paper   \n",
       "\n",
       "                call_number         barcode                   assigned  \\\n",
       "74506       N8090 .M36 1998  39346007708607 2023-11-29 15:47:18.987999   \n",
       "74531      JF533 .P377 2022  39346011035336 2024-02-07 21:16:47.101000   \n",
       "74555      JK1029 .B56 2017  39346010415786 2024-02-16 18:13:48.599999   \n",
       "74573   BX2186 .T47213 1998  39346007824669 2024-02-22 15:59:21.594000   \n",
       "74589  PQ2613.E53 Z539 2017  39346010411983 2024-02-28 17:05:24.663000   \n",
       "74652  PN56.S667 W4713 2011  39346009885593 2024-03-20 14:21:21.112999   \n",
       "74693   PB1298.K55 M69 1996  39346006949798 2024-04-04 02:04:38.496000   \n",
       "74696     HX240.7 .T78 2004  39346008962401 2024-04-04 16:09:49.915999   \n",
       "74717    ND653.B65F713 1976  39346004235976 2024-04-15 17:57:00.950000   \n",
       "74775  BR65.P6423 H663 2003  39346008585533 2024-05-15 02:13:56.460000   \n",
       "74823       BR45 .G7 Bd. 42  39346009174022 2024-06-22 16:40:09.160000   \n",
       "74845   PS1744.G57 Y45 2004  39346009075427 2024-01-14 20:10:22.740000   \n",
       "\n",
       "                          filled                    shipped  \\\n",
       "74506 2023-11-30 17:07:38.177999 2023-11-30 17:07:50.055999   \n",
       "74531 2024-02-09 19:42:47.976999 2024-02-10 14:31:30.270999   \n",
       "74555 2024-02-17 16:12:07.269999 2024-02-17 16:12:45.302000   \n",
       "74573 2024-02-27 21:31:09.437999 2024-02-27 21:31:33.979000   \n",
       "74589 2024-02-29 14:18:03.561000 2024-02-29 14:18:26.760999   \n",
       "74652 2024-03-21 14:46:02.848000 2024-03-21 14:46:08.223999   \n",
       "74693 2024-04-05 13:11:07.734999 2024-04-05 13:11:24.878999   \n",
       "74696 2024-04-06 15:22:39.059999 2024-04-06 15:24:54.059000   \n",
       "74717 2024-04-16 15:30:16.737999 2024-04-16 15:30:58.709000   \n",
       "74775 2024-05-15 17:01:16.536999 2024-05-15 17:06:48.273999   \n",
       "74823 2024-06-24 21:27:32.071000 2024-06-24 21:28:11.938999   \n",
       "74845 2024-01-16 20:50:37.036000 2024-01-16 20:54:23.927000   \n",
       "\n",
       "                        received            time_to_fill  \\\n",
       "74506 2023-12-05 18:53:22.140000   1 day, 1:20:19.190000   \n",
       "74531 2024-02-19 18:24:42.992000  1 day, 22:26:00.875999   \n",
       "74555 2024-02-20 15:57:06.201999         21:58:18.670000   \n",
       "74573 2024-02-29 12:47:52.137000  5 days, 5:31:47.843999   \n",
       "74589 2024-03-21 18:13:13.882999         21:12:38.898000   \n",
       "74652 2024-03-26 14:13:35.266999   1 day, 0:24:41.735001   \n",
       "74693 2024-04-11 15:37:28.661000  1 day, 11:06:29.238999   \n",
       "74696 2024-04-11 15:37:04.790999  1 day, 23:12:49.144000   \n",
       "74717 2024-04-30 15:12:52.188999         21:33:15.787999   \n",
       "74775 2024-05-28 14:55:57.757999         14:47:20.076999   \n",
       "74823 2024-06-27 17:03:13.039999  2 days, 4:47:22.911000   \n",
       "74845 2024-01-30 20:10:28.336999  2 days, 0:40:14.296000   \n",
       "\n",
       "                  time_to_ship           time_to_receipt  \\\n",
       "74506    1 day, 1:20:31.068000    6 days, 3:06:03.152001   \n",
       "74531  2 days, 17:14:43.169999  11 days, 21:07:55.891000   \n",
       "74555          21:58:56.702001   3 days, 21:43:17.602000   \n",
       "74573   5 days, 5:32:12.385000   6 days, 20:48:30.543000   \n",
       "74589          21:13:02.097999   22 days, 1:07:49.219999   \n",
       "74652    1 day, 0:24:47.111000   5 days, 23:52:14.154000   \n",
       "74693   1 day, 11:06:46.382999   7 days, 13:32:50.165000   \n",
       "74696   1 day, 23:15:04.143001   6 days, 23:27:14.875000   \n",
       "74717          21:33:57.759000  14 days, 21:15:51.238999   \n",
       "74775          14:52:51.813999  13 days, 12:42:01.297999   \n",
       "74823   2 days, 4:48:02.778999    5 days, 0:23:03.879999   \n",
       "74845   2 days, 0:44:01.187000   16 days, 0:00:05.596999   \n",
       "\n",
       "                     total_time  \n",
       "74506    6 days, 3:06:03.152001  \n",
       "74531  11 days, 21:07:55.891000  \n",
       "74555   3 days, 21:43:17.602000  \n",
       "74573   6 days, 20:48:30.543000  \n",
       "74589   22 days, 1:07:49.219999  \n",
       "74652   5 days, 23:52:14.154000  \n",
       "74693   7 days, 13:32:50.165000  \n",
       "74696   6 days, 23:27:14.875000  \n",
       "74717  14 days, 21:15:51.238999  \n",
       "74775  13 days, 12:42:01.297999  \n",
       "74823    5 days, 0:23:03.879999  \n",
       "74845   16 days, 0:00:05.596999  "
      ]
     },
     "execution_count": 62,
     "metadata": {},
     "output_type": "execute_result"
    }
   ],
   "source": [
    "ez_laf.loc[ez_laf['supplier'] == 'Villanova University']"
   ]
  },
  {
   "cell_type": "code",
   "execution_count": 34,
   "id": "c0f34f64-ea1b-4669-b926-37873b380be4",
   "metadata": {
    "tags": []
   },
   "outputs": [],
   "source": [
    "# Sort by 'request_id' and 'received' to ensure the earliest 'received' date comes first\n",
    "ez_supp = ez_supp.sort_values(by=['request_id', 'received'])\n",
    "\n",
    "# Drop duplicates, keeping the first occurrence (earliest 'received' date)\n",
    "ez_supp = ez_supp.drop_duplicates(subset='request_id', keep='first')\n",
    "\n",
    "# Reset the index but keep as a column\n",
    "ez_supp.reset_index(inplace = True, names = 'data_index')\n"
   ]
  },
  {
   "cell_type": "code",
   "execution_count": 35,
   "id": "cb2fea21-9e53-4a57-992c-62d33d78eed5",
   "metadata": {
    "tags": []
   },
   "outputs": [
    {
     "name": "stdout",
     "output_type": "stream",
     "text": [
      "<class 'pandas.core.frame.DataFrame'>\n",
      "RangeIndex: 164542 entries, 0 to 164541\n",
      "Data columns (total 16 columns):\n",
      " #   Column           Non-Null Count   Dtype         \n",
      "---  ------           --------------   -----         \n",
      " 0   data_index       164542 non-null  int64         \n",
      " 1   supplier         164542 non-null  object        \n",
      " 2   request_id       164542 non-null  object        \n",
      " 3   request_url      164542 non-null  object        \n",
      " 4   requester        164542 non-null  object        \n",
      " 5   title            164542 non-null  object        \n",
      " 6   call_number      164541 non-null  object        \n",
      " 7   barcode          164542 non-null  object        \n",
      " 8   assigned         164541 non-null  datetime64[ns]\n",
      " 9   filled           164541 non-null  datetime64[ns]\n",
      " 10  shipped          164541 non-null  datetime64[ns]\n",
      " 11  received         164541 non-null  datetime64[ns]\n",
      " 12  time_to_fill     164541 non-null  object        \n",
      " 13  time_to_ship     164541 non-null  object        \n",
      " 14  time_to_receipt  164541 non-null  object        \n",
      " 15  total_time       164541 non-null  object        \n",
      "dtypes: datetime64[ns](4), int64(1), object(11)\n",
      "memory usage: 20.1+ MB\n"
     ]
    }
   ],
   "source": [
    "ez_supp.info()"
   ]
  },
  {
   "cell_type": "code",
   "execution_count": 36,
   "id": "3a39f106-92a1-4a3b-b9e9-62d3dc65014f",
   "metadata": {
    "tags": []
   },
   "outputs": [
    {
     "data": {
      "text/plain": [
       "data_index         0\n",
       "supplier           0\n",
       "request_id         0\n",
       "request_url        0\n",
       "requester          0\n",
       "title              0\n",
       "call_number        1\n",
       "barcode            0\n",
       "assigned           1\n",
       "filled             1\n",
       "shipped            1\n",
       "received           1\n",
       "time_to_fill       1\n",
       "time_to_ship       1\n",
       "time_to_receipt    1\n",
       "total_time         1\n",
       "dtype: int64"
      ]
     },
     "execution_count": 36,
     "metadata": {},
     "output_type": "execute_result"
    }
   ],
   "source": [
    "ez_supp.isna().sum()"
   ]
  },
  {
   "cell_type": "code",
   "execution_count": 37,
   "id": "b5488dc6-437b-4661-91c2-b58c823729ae",
   "metadata": {
    "tags": []
   },
   "outputs": [],
   "source": [
    "ez_null = ez_supp.loc[ez_supp['assigned'].isnull() == True].copy()"
   ]
  },
  {
   "cell_type": "code",
   "execution_count": 38,
   "id": "9dfae4a6-0ede-4bd5-ab07-a116f12710be",
   "metadata": {
    "tags": []
   },
   "outputs": [
    {
     "data": {
      "text/html": [
       "<div>\n",
       "<style scoped>\n",
       "    .dataframe tbody tr th:only-of-type {\n",
       "        vertical-align: middle;\n",
       "    }\n",
       "\n",
       "    .dataframe tbody tr th {\n",
       "        vertical-align: top;\n",
       "    }\n",
       "\n",
       "    .dataframe thead th {\n",
       "        text-align: right;\n",
       "    }\n",
       "</style>\n",
       "<table border=\"1\" class=\"dataframe\">\n",
       "  <thead>\n",
       "    <tr style=\"text-align: right;\">\n",
       "      <th></th>\n",
       "      <th>data_index</th>\n",
       "      <th>supplier</th>\n",
       "      <th>request_id</th>\n",
       "      <th>request_url</th>\n",
       "      <th>requester</th>\n",
       "      <th>title</th>\n",
       "      <th>call_number</th>\n",
       "      <th>barcode</th>\n",
       "      <th>assigned</th>\n",
       "      <th>filled</th>\n",
       "      <th>shipped</th>\n",
       "      <th>received</th>\n",
       "      <th>time_to_fill</th>\n",
       "      <th>time_to_ship</th>\n",
       "      <th>time_to_receipt</th>\n",
       "      <th>total_time</th>\n",
       "    </tr>\n",
       "  </thead>\n",
       "  <tbody>\n",
       "    <tr>\n",
       "      <th>125262</th>\n",
       "      <td>215637</td>\n",
       "      <td>Book\"\"</td>\n",
       "      <td>PQ9697.A647 M613 2012</td>\n",
       "      <td>39346010074567</td>\n",
       "      <td>2024-02-12 15:45:37.987999</td>\n",
       "      <td>2024-02-14 14:25:33.438999</td>\n",
       "      <td>2024-02-14 14:28:51.660000</td>\n",
       "      <td>2024-02-19 18:24:28.177000</td>\n",
       "      <td>NaT</td>\n",
       "      <td>NaT</td>\n",
       "      <td>NaT</td>\n",
       "      <td>NaT</td>\n",
       "      <td>None</td>\n",
       "      <td>None</td>\n",
       "      <td>None</td>\n",
       "      <td>None</td>\n",
       "    </tr>\n",
       "  </tbody>\n",
       "</table>\n",
       "</div>"
      ],
      "text/plain": [
       "        data_index supplier             request_id     request_url  \\\n",
       "125262      215637   Book\"\"  PQ9697.A647 M613 2012  39346010074567   \n",
       "\n",
       "                         requester                       title  \\\n",
       "125262  2024-02-12 15:45:37.987999  2024-02-14 14:25:33.438999   \n",
       "\n",
       "                       call_number                     barcode assigned  \\\n",
       "125262  2024-02-14 14:28:51.660000  2024-02-19 18:24:28.177000      NaT   \n",
       "\n",
       "       filled shipped received time_to_fill time_to_ship time_to_receipt  \\\n",
       "125262    NaT     NaT      NaT         None         None            None   \n",
       "\n",
       "       total_time  \n",
       "125262       None  "
      ]
     },
     "execution_count": 38,
     "metadata": {},
     "output_type": "execute_result"
    }
   ],
   "source": [
    "ez_null"
   ]
  },
  {
   "cell_type": "code",
   "execution_count": 13,
   "id": "10ddffc1-1c8e-4b1b-a393-4959ad553e20",
   "metadata": {
    "tags": []
   },
   "outputs": [],
   "source": [
    "#create a filter for pitt requests\n",
    "\n",
    "pitt_data = ez_supp.loc[ez_supp['supplier'] == 'University of Pittsburgh'].copy()"
   ]
  },
  {
   "cell_type": "code",
   "execution_count": 14,
   "id": "61805e65-9009-46f4-bdd3-ffef7325e0ea",
   "metadata": {
    "tags": []
   },
   "outputs": [
    {
     "name": "stdout",
     "output_type": "stream",
     "text": [
      "<class 'pandas.core.frame.DataFrame'>\n",
      "Int64Index: 8787 entries, 155324 to 153549\n",
      "Data columns (total 15 columns):\n",
      " #   Column           Non-Null Count  Dtype         \n",
      "---  ------           --------------  -----         \n",
      " 0   supplier         8787 non-null   object        \n",
      " 1   request_id       8787 non-null   object        \n",
      " 2   request_url      8787 non-null   object        \n",
      " 3   requester        8787 non-null   object        \n",
      " 4   title            8787 non-null   object        \n",
      " 5   call_number      8787 non-null   object        \n",
      " 6   barcode          8787 non-null   object        \n",
      " 7   assigned         8787 non-null   datetime64[ns]\n",
      " 8   filled           8787 non-null   datetime64[ns]\n",
      " 9   shipped          8787 non-null   datetime64[ns]\n",
      " 10  received         8787 non-null   datetime64[ns]\n",
      " 11  time_to_fill     8787 non-null   object        \n",
      " 12  time_to_ship     8787 non-null   object        \n",
      " 13  time_to_receipt  8787 non-null   object        \n",
      " 14  total_time       8787 non-null   object        \n",
      "dtypes: datetime64[ns](4), object(11)\n",
      "memory usage: 1.1+ MB\n"
     ]
    }
   ],
   "source": [
    "pitt_data.info()"
   ]
  },
  {
   "cell_type": "code",
   "execution_count": 15,
   "id": "2ab3afea-3ca6-4960-abdf-5d60d7bb3c84",
   "metadata": {
    "tags": []
   },
   "outputs": [
    {
     "data": {
      "text/plain": [
       "Pennsylvania State University    13438\n",
       "University of Pennsylvania       10992\n",
       "New York University              10273\n",
       "Rutgers University                9243\n",
       "University of Pittsburgh          8787\n",
       "                                 ...  \n",
       "Elizabethtown College                2\n",
       "Goldey-Beacom College                2\n",
       "Book\"\"                               1\n",
       "Holy Family University               1\n",
       "Drew University                      1\n",
       "Name: supplier, Length: 77, dtype: int64"
      ]
     },
     "execution_count": 15,
     "metadata": {},
     "output_type": "execute_result"
    }
   ],
   "source": [
    "ez_supp.supplier.value_counts()"
   ]
  },
  {
   "cell_type": "code",
   "execution_count": 16,
   "id": "15ac908e-7cde-4bbf-bd33-979244d1260a",
   "metadata": {
    "tags": []
   },
   "outputs": [
    {
     "name": "stderr",
     "output_type": "stream",
     "text": [
      "C:\\Users\\rnn13\\AppData\\Local\\Temp\\ipykernel_53560\\4248839908.py:1: FutureWarning: Treating datetime data as categorical rather than numeric in `.describe` is deprecated and will be removed in a future version of pandas. Specify `datetime_is_numeric=True` to silence this warning and adopt the future behavior now.\n",
      "  ez_supp.received.describe()\n"
     ]
    },
    {
     "data": {
      "text/plain": [
       "count                         164541\n",
       "unique                        164511\n",
       "top       2023-07-31 14:18:00.460000\n",
       "freq                               4\n",
       "first     2021-08-09 18:15:45.990000\n",
       "last      2024-07-15 19:38:12.957999\n",
       "Name: received, dtype: object"
      ]
     },
     "execution_count": 16,
     "metadata": {},
     "output_type": "execute_result"
    }
   ],
   "source": [
    "ez_supp.received.describe()"
   ]
  },
  {
   "cell_type": "code",
   "execution_count": 17,
   "id": "6907afc7-00a1-4bde-b09a-446509e0b62f",
   "metadata": {
    "tags": []
   },
   "outputs": [
    {
     "data": {
      "text/plain": [
       "New York University              25359\n",
       "The New School                   14823\n",
       "Pennsylvania State University    14306\n",
       "Rutgers University               13122\n",
       "Temple University                 7390\n",
       "                                 ...  \n",
       "Holy Family University               3\n",
       "Circulation Desk (INACTIVE)          3\n",
       "Lebanon Valley College               2\n",
       "2024-02-12 15:45:37.987999           1\n",
       "Muhlenberg College                   1\n",
       "Name: requester, Length: 79, dtype: int64"
      ]
     },
     "execution_count": 17,
     "metadata": {},
     "output_type": "execute_result"
    }
   ],
   "source": [
    "ez_supp.requester.value_counts()"
   ]
  },
  {
   "cell_type": "code",
   "execution_count": 18,
   "id": "dcabbcd7-4320-48c1-8930-f880a9202441",
   "metadata": {
    "tags": []
   },
   "outputs": [],
   "source": [
    "ez_supp.to_csv(\"rn_clean_supplying_turnaround.csv\")"
   ]
  },
  {
   "cell_type": "code",
   "execution_count": null,
   "id": "87404b3a-67b7-4ade-bf0e-d4501bf121c2",
   "metadata": {},
   "outputs": [],
   "source": []
  },
  {
   "cell_type": "code",
   "execution_count": null,
   "id": "08104f26-a39d-4461-a6bf-e93500032469",
   "metadata": {},
   "outputs": [],
   "source": []
  },
  {
   "cell_type": "code",
   "execution_count": 19,
   "id": "9048a81c-bfdc-470e-9818-9e4b0cd27c36",
   "metadata": {
    "tags": []
   },
   "outputs": [],
   "source": [
    "df=ez_supp.copy()"
   ]
  },
  {
   "cell_type": "code",
   "execution_count": 20,
   "id": "072f1eb8-03d3-4dbd-8600-0a1edb77073b",
   "metadata": {
    "tags": []
   },
   "outputs": [],
   "source": [
    "df['filled_time'] = df['filled'] - df['assigned']"
   ]
  },
  {
   "cell_type": "code",
   "execution_count": 21,
   "id": "04ffe409-b032-4467-81ee-faa268966eca",
   "metadata": {
    "tags": []
   },
   "outputs": [],
   "source": [
    "#create a filter for pitt requests\n",
    "\n",
    "pitt_fills = df.loc[df['supplier'] == 'University of Pittsburgh'].copy()\n"
   ]
  },
  {
   "cell_type": "code",
   "execution_count": 22,
   "id": "86789496-f4b8-435f-b456-3fc3ccc8aa09",
   "metadata": {
    "tags": []
   },
   "outputs": [
    {
     "data": {
      "text/html": [
       "<div>\n",
       "<style scoped>\n",
       "    .dataframe tbody tr th:only-of-type {\n",
       "        vertical-align: middle;\n",
       "    }\n",
       "\n",
       "    .dataframe tbody tr th {\n",
       "        vertical-align: top;\n",
       "    }\n",
       "\n",
       "    .dataframe thead th {\n",
       "        text-align: right;\n",
       "    }\n",
       "</style>\n",
       "<table border=\"1\" class=\"dataframe\">\n",
       "  <thead>\n",
       "    <tr style=\"text-align: right;\">\n",
       "      <th></th>\n",
       "      <th>supplier</th>\n",
       "      <th>request_id</th>\n",
       "      <th>request_url</th>\n",
       "      <th>requester</th>\n",
       "      <th>title</th>\n",
       "      <th>call_number</th>\n",
       "      <th>barcode</th>\n",
       "      <th>assigned</th>\n",
       "      <th>filled</th>\n",
       "      <th>shipped</th>\n",
       "      <th>received</th>\n",
       "      <th>time_to_fill</th>\n",
       "      <th>time_to_ship</th>\n",
       "      <th>time_to_receipt</th>\n",
       "      <th>total_time</th>\n",
       "      <th>filled_time</th>\n",
       "    </tr>\n",
       "  </thead>\n",
       "  <tbody>\n",
       "    <tr>\n",
       "      <th>155324</th>\n",
       "      <td>University of Pittsburgh</td>\n",
       "      <td>DEWGBC-7</td>\n",
       "      <td>[RESHARE URL]/request/requests/view/2c059c1e-6...</td>\n",
       "      <td>Goldey-Beacom College</td>\n",
       "      <td>Out of many faiths : religious diversity and t...</td>\n",
       "      <td>BL2525 .P368 2019</td>\n",
       "      <td>31735070528686</td>\n",
       "      <td>2024-04-10 16:18:06.045000</td>\n",
       "      <td>2024-04-10 19:24:48.421000</td>\n",
       "      <td>2024-04-10 19:24:48.421000</td>\n",
       "      <td>2024-04-16 17:22:47.644999</td>\n",
       "      <td>3:06:42.376000</td>\n",
       "      <td>3:06:42.376000</td>\n",
       "      <td>6 days, 1:04:41.599999</td>\n",
       "      <td>6 days, 1:04:41.599999</td>\n",
       "      <td>0 days 03:06:42.376000</td>\n",
       "    </tr>\n",
       "    <tr>\n",
       "      <th>140431</th>\n",
       "      <td>University of Pittsburgh</td>\n",
       "      <td>NJGBS-1038</td>\n",
       "      <td>[RESHARE URL]/request/requests/view/63f6fe40-7...</td>\n",
       "      <td>Rowan University</td>\n",
       "      <td>Carlo Zucchi y el neoclasicismo en el Rio de l...</td>\n",
       "      <td>NA1123.Z795 C37 1998</td>\n",
       "      <td>31735041532205</td>\n",
       "      <td>2021-11-18 10:43:38.701999</td>\n",
       "      <td>2021-11-18 16:12:14.838999</td>\n",
       "      <td>2021-11-18 16:12:20.532000</td>\n",
       "      <td>2021-11-22 18:59:18.979000</td>\n",
       "      <td>5:28:36.137000</td>\n",
       "      <td>5:28:41.830001</td>\n",
       "      <td>4 days, 8:15:40.277001</td>\n",
       "      <td>4 days, 8:15:40.277001</td>\n",
       "      <td>0 days 05:28:36.137000</td>\n",
       "    </tr>\n",
       "    <tr>\n",
       "      <th>140448</th>\n",
       "      <td>University of Pittsburgh</td>\n",
       "      <td>NJGBS-1042</td>\n",
       "      <td>[RESHARE URL]/request/requests/view/4e194cf7-4...</td>\n",
       "      <td>Rowan University</td>\n",
       "      <td>La invencioÌn de AmeÌrica; el universalismo ...</td>\n",
       "      <td>E110 .O35 1958</td>\n",
       "      <td>31735003061938</td>\n",
       "      <td>2021-11-18 10:56:02.201999</td>\n",
       "      <td>2021-11-20 21:15:18.420000</td>\n",
       "      <td>2021-11-20 21:15:58.229000</td>\n",
       "      <td>2021-11-30 17:51:46.361000</td>\n",
       "      <td>2 days, 10:19:16.218001</td>\n",
       "      <td>2 days, 10:19:56.027001</td>\n",
       "      <td>12 days, 6:55:44.159001</td>\n",
       "      <td>12 days, 6:55:44.159001</td>\n",
       "      <td>2 days 10:19:16.218001</td>\n",
       "    </tr>\n",
       "    <tr>\n",
       "      <th>140464</th>\n",
       "      <td>University of Pittsburgh</td>\n",
       "      <td>NJGBS-1054</td>\n",
       "      <td>[RESHARE URL]/request/requests/view/70102a5f-f...</td>\n",
       "      <td>Rowan University</td>\n",
       "      <td>War of the rats : a novel /</td>\n",
       "      <td>PS3568.O22289 W37 2000</td>\n",
       "      <td>31735044618613</td>\n",
       "      <td>2021-11-23 22:55:34.878999</td>\n",
       "      <td>2021-11-24 16:44:54.880000</td>\n",
       "      <td>2021-11-24 16:44:56.809999</td>\n",
       "      <td>2021-11-30 17:51:55.871999</td>\n",
       "      <td>17:49:20.001001</td>\n",
       "      <td>17:49:21.931000</td>\n",
       "      <td>6 days, 18:56:20.993000</td>\n",
       "      <td>6 days, 18:56:20.993000</td>\n",
       "      <td>0 days 17:49:20.001001</td>\n",
       "    </tr>\n",
       "    <tr>\n",
       "      <th>140475</th>\n",
       "      <td>University of Pittsburgh</td>\n",
       "      <td>NJGBS-1057</td>\n",
       "      <td>[RESHARE URL]/request/requests/view/ed0e03f4-9...</td>\n",
       "      <td>Rowan University</td>\n",
       "      <td>Historia del teatro argentino : desde los ritu...</td>\n",
       "      <td>PN2451 .S45 2002</td>\n",
       "      <td>31735046488361</td>\n",
       "      <td>2021-11-28 20:36:52.608999</td>\n",
       "      <td>2021-11-30 15:31:08.250999</td>\n",
       "      <td>2021-11-30 15:33:27.704999</td>\n",
       "      <td>2021-12-02 17:37:02.931999</td>\n",
       "      <td>1 day, 18:54:15.642000</td>\n",
       "      <td>1 day, 18:56:35.096000</td>\n",
       "      <td>3 days, 21:00:10.323000</td>\n",
       "      <td>3 days, 21:00:10.323000</td>\n",
       "      <td>1 days 18:54:15.642000</td>\n",
       "    </tr>\n",
       "  </tbody>\n",
       "</table>\n",
       "</div>"
      ],
      "text/plain": [
       "                        supplier  request_id  \\\n",
       "155324  University of Pittsburgh    DEWGBC-7   \n",
       "140431  University of Pittsburgh  NJGBS-1038   \n",
       "140448  University of Pittsburgh  NJGBS-1042   \n",
       "140464  University of Pittsburgh  NJGBS-1054   \n",
       "140475  University of Pittsburgh  NJGBS-1057   \n",
       "\n",
       "                                              request_url  \\\n",
       "155324  [RESHARE URL]/request/requests/view/2c059c1e-6...   \n",
       "140431  [RESHARE URL]/request/requests/view/63f6fe40-7...   \n",
       "140448  [RESHARE URL]/request/requests/view/4e194cf7-4...   \n",
       "140464  [RESHARE URL]/request/requests/view/70102a5f-f...   \n",
       "140475  [RESHARE URL]/request/requests/view/ed0e03f4-9...   \n",
       "\n",
       "                    requester  \\\n",
       "155324  Goldey-Beacom College   \n",
       "140431       Rowan University   \n",
       "140448       Rowan University   \n",
       "140464       Rowan University   \n",
       "140475       Rowan University   \n",
       "\n",
       "                                                    title  \\\n",
       "155324  Out of many faiths : religious diversity and t...   \n",
       "140431  Carlo Zucchi y el neoclasicismo en el Rio de l...   \n",
       "140448  La invencioÌn de AmeÌrica; el universalismo ...   \n",
       "140464                        War of the rats : a novel /   \n",
       "140475  Historia del teatro argentino : desde los ritu...   \n",
       "\n",
       "                   call_number         barcode                   assigned  \\\n",
       "155324       BL2525 .P368 2019  31735070528686 2024-04-10 16:18:06.045000   \n",
       "140431    NA1123.Z795 C37 1998  31735041532205 2021-11-18 10:43:38.701999   \n",
       "140448          E110 .O35 1958  31735003061938 2021-11-18 10:56:02.201999   \n",
       "140464  PS3568.O22289 W37 2000  31735044618613 2021-11-23 22:55:34.878999   \n",
       "140475        PN2451 .S45 2002  31735046488361 2021-11-28 20:36:52.608999   \n",
       "\n",
       "                           filled                    shipped  \\\n",
       "155324 2024-04-10 19:24:48.421000 2024-04-10 19:24:48.421000   \n",
       "140431 2021-11-18 16:12:14.838999 2021-11-18 16:12:20.532000   \n",
       "140448 2021-11-20 21:15:18.420000 2021-11-20 21:15:58.229000   \n",
       "140464 2021-11-24 16:44:54.880000 2021-11-24 16:44:56.809999   \n",
       "140475 2021-11-30 15:31:08.250999 2021-11-30 15:33:27.704999   \n",
       "\n",
       "                         received             time_to_fill  \\\n",
       "155324 2024-04-16 17:22:47.644999           3:06:42.376000   \n",
       "140431 2021-11-22 18:59:18.979000           5:28:36.137000   \n",
       "140448 2021-11-30 17:51:46.361000  2 days, 10:19:16.218001   \n",
       "140464 2021-11-30 17:51:55.871999          17:49:20.001001   \n",
       "140475 2021-12-02 17:37:02.931999   1 day, 18:54:15.642000   \n",
       "\n",
       "                   time_to_ship          time_to_receipt  \\\n",
       "155324           3:06:42.376000   6 days, 1:04:41.599999   \n",
       "140431           5:28:41.830001   4 days, 8:15:40.277001   \n",
       "140448  2 days, 10:19:56.027001  12 days, 6:55:44.159001   \n",
       "140464          17:49:21.931000  6 days, 18:56:20.993000   \n",
       "140475   1 day, 18:56:35.096000  3 days, 21:00:10.323000   \n",
       "\n",
       "                     total_time            filled_time  \n",
       "155324   6 days, 1:04:41.599999 0 days 03:06:42.376000  \n",
       "140431   4 days, 8:15:40.277001 0 days 05:28:36.137000  \n",
       "140448  12 days, 6:55:44.159001 2 days 10:19:16.218001  \n",
       "140464  6 days, 18:56:20.993000 0 days 17:49:20.001001  \n",
       "140475  3 days, 21:00:10.323000 1 days 18:54:15.642000  "
      ]
     },
     "execution_count": 22,
     "metadata": {},
     "output_type": "execute_result"
    }
   ],
   "source": [
    "pitt_fills.head()"
   ]
  },
  {
   "cell_type": "code",
   "execution_count": null,
   "id": "43596eae-b56b-4e74-a118-ec3b63729531",
   "metadata": {},
   "outputs": [],
   "source": []
  }
 ],
 "metadata": {
  "kernelspec": {
   "display_name": "Python 3 (ipykernel)",
   "language": "python",
   "name": "python3"
  },
  "language_info": {
   "codemirror_mode": {
    "name": "ipython",
    "version": 3
   },
   "file_extension": ".py",
   "mimetype": "text/x-python",
   "name": "python",
   "nbconvert_exporter": "python",
   "pygments_lexer": "ipython3",
   "version": "3.11.4"
  }
 },
 "nbformat": 4,
 "nbformat_minor": 5
}
